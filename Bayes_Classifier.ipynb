{
  "nbformat": 4,
  "nbformat_minor": 0,
  "metadata": {
    "colab": {
      "provenance": []
    },
    "kernelspec": {
      "name": "python3",
      "display_name": "Python 3"
    },
    "language_info": {
      "name": "python"
    }
  },
  "cells": [
    {
      "cell_type": "code",
      "execution_count": null,
      "metadata": {
        "id": "oEPJYb3Yl_iJ"
      },
      "outputs": [],
      "source": [
        "import numpy as np\n",
        "import matplotlib.pyplot as plt"
      ]
    },
    {
      "cell_type": "code",
      "source": [
        "import math  # This library is to use normal math functions like exp,sin etc."
      ],
      "metadata": {
        "id": "Q7kF3SRXdYRW"
      },
      "execution_count": null,
      "outputs": []
    },
    {
      "cell_type": "code",
      "source": [
        "# Mounting drive\n",
        "from google.colab import drive\n",
        "drive.mount('/content/drive')"
      ],
      "metadata": {
        "colab": {
          "base_uri": "https://localhost:8080/"
        },
        "id": "h6KcJckQm7eb",
        "outputId": "4650923f-7b2d-43af-b9a3-c0b8fbaacd86"
      },
      "execution_count": null,
      "outputs": [
        {
          "output_type": "stream",
          "name": "stdout",
          "text": [
            "Drive already mounted at /content/drive; to attempt to forcibly remount, call drive.mount(\"/content/drive\", force_remount=True).\n"
          ]
        }
      ]
    },
    {
      "cell_type": "markdown",
      "source": [
        "## Importing dataset"
      ],
      "metadata": {
        "id": "MWzNKVJFnR-C"
      }
    },
    {
      "cell_type": "code",
      "source": [
        "#below where the file is in gdrive, change with your\n",
        "data_path = \"/content/drive/MyDrive/Prnn/\"\n",
        "train_dataset = np.loadtxt(data_path + 'p3_train.csv', delimiter=',')\n",
        "test_dataset = np.loadtxt(data_path + 'p3_test.csv', delimiter=',')"
      ],
      "metadata": {
        "id": "SrTcZV5nnWAf"
      },
      "execution_count": null,
      "outputs": []
    },
    {
      "cell_type": "code",
      "source": [
        "# Creating base training and testing dataset\n",
        "X_train_base = train_dataset[:,:10]\n",
        "Y_train_base = train_dataset[:,10]\n",
        "X_test_base = test_dataset[:,:10]\n",
        "Y_test_base = test_dataset[:,10]"
      ],
      "metadata": {
        "id": "DBRE75tgnhNO"
      },
      "execution_count": null,
      "outputs": []
    },
    {
      "cell_type": "markdown",
      "source": [
        "## Bayes Classifier"
      ],
      "metadata": {
        "id": "TG-88xU-nqry"
      }
    },
    {
      "cell_type": "code",
      "source": [
        "classes = 5\n",
        "features = 10"
      ],
      "metadata": {
        "id": "QF1WEpFBn2Nd"
      },
      "execution_count": null,
      "outputs": []
    },
    {
      "cell_type": "markdown",
      "source": [
        "### GMM"
      ],
      "metadata": {
        "id": "UXJMTqTj5RHg"
      }
    },
    {
      "cell_type": "code",
      "source": [
        "def p3_split_dataset(dataset,train_ratio):\n",
        "  classes = np.unique(dataset[:,-1])\n",
        "  dataset_size = dataset.shape[0]\n",
        "  count = int(train_ratio*(dataset_size))\n",
        "\n",
        "  np.random.shuffle(dataset)\n",
        "  train_dataset, test_dataset = dataset[:count,:], dataset[count:,:]\n",
        "\n",
        "  return train_dataset,test_dataset"
      ],
      "metadata": {
        "id": "pKDmh2qB5RHh"
      },
      "execution_count": null,
      "outputs": []
    },
    {
      "cell_type": "code",
      "source": [
        "def p3_normalize_data(dataset):\n",
        "  row_Max = np.amax(dataset[:,:-1], axis=0)\n",
        "  row_Min = np.amin(dataset[:,:-1], axis=0)\n",
        "  dataset = np.c_[(dataset[:,:-1]-row_Min)/(row_Max-row_Min),dataset[:,-1]]\n",
        "  return dataset"
      ],
      "metadata": {
        "id": "uRz3p2Vg5RHi"
      },
      "execution_count": null,
      "outputs": []
    },
    {
      "cell_type": "code",
      "source": [
        "def p3_GMM_training(train_dataset,epochs,number_of_Gaussian):\n",
        "  min_class = int(np.min(train_dataset[:,-1]))\n",
        "  classes = int(len(np.unique(train_dataset[:,-1])))\n",
        "  dimension = train_dataset.shape[1]-1\n",
        "  Const = 1/np.power(2*math.pi,dimension/2)\n",
        "\n",
        "\n",
        "  Category_wise_train_data = []\n",
        "  for i in range(classes):\n",
        "    Category_wise_train_data.append(train_dataset[train_dataset[:,-1]==(i+min_class)][:,:-1])\n",
        "\n",
        "  Means = []\n",
        "  Variance = []\n",
        "  Pi = []\n",
        "\n",
        "  for digit_class in range(classes):\n",
        "    Category_wise_epochs = 0\n",
        "    Category_wise_Means = np.random.uniform(0, 1,(dimension,number_of_Gaussian)) #np.zeros((dimension,number_of_Gaussian))\n",
        "    Category_wise_Variance = np.identity(dimension)\n",
        "    Category_wise_Variance = np.dstack([Category_wise_Variance]*number_of_Gaussian)\n",
        "\n",
        "    Category_wise_Pi = np.ones(number_of_Gaussian)/number_of_Gaussian\n",
        "\n",
        "\n",
        "    for Category_wise_epochs in range(epochs):\n",
        "        # Calculating inverse of co-variance matrix\n",
        "        Category_wise_Variance_inverse = np.identity(dimension)\n",
        "        Category_wise_Variance_inverse = np.dstack([Category_wise_Variance_inverse]*number_of_Gaussian)\n",
        "\n",
        "        for i in range(number_of_Gaussian):\n",
        "            Category_wise_Variance_inverse[:,:,i] = np.linalg.inv(Category_wise_Variance[:,:,i])\n",
        "\n",
        "\n",
        "        # calculating determinant\n",
        "        Category_wise_Variance_det = np.zeros(number_of_Gaussian)\n",
        "\n",
        "        for i in range(number_of_Gaussian):\n",
        "            Category_wise_Variance_det[i] = np.linalg.det(Category_wise_Variance[:,:,i])\n",
        "\n",
        "\n",
        "        Category_wise_Gamma = np.zeros((Category_wise_train_data[digit_class].shape[0],number_of_Gaussian))\n",
        "\n",
        "\n",
        "\n",
        "        data_point_number = 0\n",
        "        #Calculating Gamma for each datapoint and each class\n",
        "        for data_point in Category_wise_train_data[digit_class]:\n",
        "            Denominator = 0.0\n",
        "            for k in range(number_of_Gaussian):\n",
        "                temp1 = data_point-Category_wise_Means[:,k]\n",
        "                temp2 = Category_wise_Variance_inverse[:,:,k]\n",
        "                temp3 = (-1/2)*(temp1.T @ temp2 @ temp1)\n",
        "                temp4 = np.exp(temp3)\n",
        "                temp5 = np.power(Category_wise_Variance_det[k],-0.5)*temp4*Category_wise_Pi[k]\n",
        "                Denominator += temp5\n",
        "\n",
        "            Gamma_each_Gaussian = np.zeros(number_of_Gaussian)\n",
        "            for k in range(number_of_Gaussian):\n",
        "                temp6 = data_point-Category_wise_Means[:,k]\n",
        "\n",
        "                temp7 = Category_wise_Variance_inverse[:,:,k]\n",
        "                temp8 = (-1/2)*(temp6.T @ temp7 @ temp6)\n",
        "\n",
        "                temp9 = np.exp(temp8)\n",
        "                Numerator = np.power(Category_wise_Variance_det[k],-0.5)*temp9*Category_wise_Pi[k]\n",
        "\n",
        "                Gamma_each_Gaussian[k] = (Numerator/Denominator)\n",
        "\n",
        "            Category_wise_Gamma[data_point_number,:] = Gamma_each_Gaussian\n",
        "\n",
        "            data_point_number += 1\n",
        "\n",
        "\n",
        "\n",
        "        # Updating mean\n",
        "\n",
        "        for k in range(number_of_Gaussian):\n",
        "            meank = np.zeros(dimension)\n",
        "            data_point_number = 0\n",
        "            #updating mean in one line\n",
        "            Category_wise_Means[:,k] = np.average(Category_wise_train_data[digit_class],axis = 0, weights=Category_wise_Gamma[:,k])\n",
        "\n",
        "\n",
        "\n",
        "        Nk = np.sum(Category_wise_Gamma,axis = 0)\n",
        "\n",
        "        for k in range(number_of_Gaussian):\n",
        "            variancek = np.zeros((dimension,dimension))\n",
        "            count = 0\n",
        "            data_point_number = 0\n",
        "            for data_point in Category_wise_train_data[digit_class]:\n",
        "                v = data_point-Category_wise_Means[:,k]\n",
        "                x = (v).reshape(v.shape[0],1)\n",
        "\n",
        "                variancek = variancek + (x @ x.T ) * Category_wise_Gamma[data_point_number,k]\n",
        "                data_point_number += 1\n",
        "\n",
        "            Category_wise_Variance[:,:,k] = variancek/Nk[k]\n",
        "\n",
        "            # retaining only diagonals\n",
        "            temp = np.identity(len(Category_wise_Variance[:,:,k]))\n",
        "            Category_wise_Variance[:,:,k] = Category_wise_Variance[:,:,k]*temp\n",
        "\n",
        "\n",
        "        # Updating Pi\n",
        "\n",
        "\n",
        "        Category_wise_Pi = Nk/Category_wise_train_data[digit_class].shape[0]\n",
        "\n",
        "    Means.append(Category_wise_Means)\n",
        "    Variance.append(Category_wise_Variance)\n",
        "    Pi.append(Category_wise_Pi)\n",
        "  return Means,Variance,Pi\n"
      ],
      "metadata": {
        "id": "zzVqjfC05RHj"
      },
      "execution_count": null,
      "outputs": []
    },
    {
      "cell_type": "code",
      "source": [
        "def p3_GMM_testing(test_dataset,classes,Means,Variance,Pi,number_of_Gaussian):\n",
        "  min_class = int(np.min(test_dataset[:,-1]))\n",
        "  dimension = test_dataset.shape[1]-1\n",
        "  Variance_inverse = []\n",
        "  # Calculating inverse of co-variance matrix\n",
        "  for i in range(len(Variance)):\n",
        "\n",
        "      Category_wise_Variance = Variance[i]\n",
        "\n",
        "      Category_wise_Variance_inverse = np.identity(dimension)\n",
        "      Category_wise_Variance_inverse = np.dstack([Category_wise_Variance_inverse]*number_of_Gaussian)\n",
        "\n",
        "      for k in range(number_of_Gaussian):\n",
        "          Category_wise_Variance_inverse[:,:,k] = np.linalg.inv(Category_wise_Variance[:,:,k])\n",
        "\n",
        "      Variance_inverse.append(Category_wise_Variance_inverse)\n",
        "\n",
        "  # Variance determinant\n",
        "  Variance_det = []\n",
        "\n",
        "  for i in range(len(Variance)):\n",
        "\n",
        "      Category_wise_Variance = Variance[i]\n",
        "\n",
        "      Category_wise_Variance_det = np.zeros(number_of_Gaussian)\n",
        "\n",
        "      for k in range(number_of_Gaussian):\n",
        "          Category_wise_Variance_det[k] = np.linalg.det(Category_wise_Variance[:,:,k])\n",
        "      Variance_det.append(Category_wise_Variance_det)\n",
        "\n",
        "  confusion_matrix = np.zeros((classes,classes))\n",
        "  correct_predicted_labels = 0\n",
        "  for data_point in test_dataset:\n",
        "    probabilities = np.zeros(classes)\n",
        "\n",
        "    for Class in range(classes):\n",
        "      Inner_summation = 0.0\n",
        "\n",
        "      for k in range(number_of_Gaussian):\n",
        "\n",
        "        temp1 = data_point[:-1]-Means[Class][:,k]\n",
        "        temp1 = (temp1).reshape(temp1.shape[0],1)\n",
        "        temp2 = Variance_inverse[Class][:,:,k]\n",
        "        temp3 = (-1/2)*(temp1.T @ temp2 @ temp1)\n",
        "        temp4 = np.exp(temp3)\n",
        "        temp5 = np.power(Variance_det[Class][k],-0.5)*temp4*Pi[Class][k]\n",
        "        Inner_summation += temp5\n",
        "      probabilities[Class] = Inner_summation\n",
        "\n",
        "    predicted_class = np.argmax(probabilities) + min_class\n",
        "    confusion_matrix[predicted_class-min_class][int(data_point[-1])-min_class] += 1\n",
        "    if(predicted_class==int(data_point[-1])):\n",
        "      correct_predicted_labels += 1\n",
        "\n",
        "\n",
        "  accuracy = correct_predicted_labels/test_dataset.shape[0]\n",
        "\n",
        "  return accuracy,confusion_matrix"
      ],
      "metadata": {
        "id": "V3SN4wKt5RHk"
      },
      "execution_count": null,
      "outputs": []
    },
    {
      "cell_type": "code",
      "source": [
        "def p3_get_likelihood(dataset,Means,Variance,Pi,number_of_Gaussian):\n",
        "  min_class = int(np.min(dataset[:,-1]))\n",
        "  dimension = dataset.shape[1]-1\n",
        "  Variance_inverse = []\n",
        "  # Calculating inverse of co-variance matrix\n",
        "  for i in range(len(Variance)):\n",
        "\n",
        "      Category_wise_Variance = Variance[i]\n",
        "\n",
        "      Category_wise_Variance_inverse = np.identity(dimension)\n",
        "      Category_wise_Variance_inverse = np.dstack([Category_wise_Variance_inverse]*number_of_Gaussian)\n",
        "\n",
        "      for k in range(number_of_Gaussian):\n",
        "          Category_wise_Variance_inverse[:,:,k] = np.linalg.inv(Category_wise_Variance[:,:,k])\n",
        "\n",
        "      Variance_inverse.append(Category_wise_Variance_inverse)\n",
        "\n",
        "  # Variance determinant\n",
        "  Variance_det = []\n",
        "\n",
        "  for i in range(len(Variance)):\n",
        "\n",
        "      Category_wise_Variance = Variance[i]\n",
        "\n",
        "      Category_wise_Variance_det = np.zeros(number_of_Gaussian)\n",
        "\n",
        "      for k in range(number_of_Gaussian):\n",
        "          Category_wise_Variance_det[k] = np.linalg.det(Category_wise_Variance[:,:,k])\n",
        "      Variance_det.append(Category_wise_Variance_det)\n",
        "\n",
        "  log_likelihood = 0.0\n",
        "  data_point_number = 0\n",
        "\n",
        "  for data_point in dataset:\n",
        "      Inner_summation = 0.0\n",
        "      for k in range(number_of_Gaussian):\n",
        "          temp1 = data_point[:-1]-Means[int(data_point[-1])-min_class][:,k]\n",
        "          temp1 = (temp1).reshape(temp1.shape[0],1)\n",
        "          temp2 = Variance_inverse[int(data_point[-1])-min_class][:,:,k]\n",
        "          temp3 = (-1/2)*(temp1.T @ temp2 @ temp1)\n",
        "          temp4 = np.exp(temp3)\n",
        "          temp5 = np.power(Variance_det[int(data_point[-1])-min_class][k],-0.5)*temp4*Pi[int(data_point[-1])-min_class][k]\n",
        "          Inner_summation += temp5\n",
        "\n",
        "      log_likelihood += np.log(Inner_summation)\n",
        "\n",
        "      data_point_number += 1\n",
        "\n",
        "  return log_likelihood"
      ],
      "metadata": {
        "id": "YhtngMDh5RHk"
      },
      "execution_count": null,
      "outputs": []
    },
    {
      "cell_type": "code",
      "execution_count": null,
      "metadata": {
        "id": "1CHUzr745RHl"
      },
      "outputs": [],
      "source": [
        "train_dataset = np.loadtxt('/content/drive/MyDrive/Prnn/p3_train.csv', delimiter=',', skiprows=0)\n",
        "test_dataset = np.loadtxt('/content/drive/MyDrive/Prnn/p3_test.csv', delimiter=',', skiprows=0)"
      ]
    },
    {
      "cell_type": "code",
      "source": [
        "train_dataset = p3_normalize_data(train_dataset)\n",
        "test_dataset = p3_normalize_data(test_dataset)"
      ],
      "metadata": {
        "id": "LspQJDSm5RHl"
      },
      "execution_count": null,
      "outputs": []
    },
    {
      "cell_type": "code",
      "source": [
        "classes = 5\n",
        "y1 = np.zeros(6)\n",
        "x1 = np.array([1,2,3,4,5,6])\n",
        "for number_of_Gaussian in x1:\n",
        "  Means1,Variance1,Pi1 = p3_GMM_training(train_dataset,5,number_of_Gaussian)\n",
        "  accuracy1,confusion_matrix1 = p3_GMM_testing(test_dataset,5,Means1,Variance1,Pi1,number_of_Gaussian)\n",
        "  TP1=[]\n",
        "  TN1=[]\n",
        "  FP1=[]\n",
        "  FN1=[]\n",
        "  F11=[]\n",
        "  for i in range(classes):\n",
        "    TP1.append(confusion_matrix1[i][i])\n",
        "    TN1.append(np.sum(confusion_matrix1)-np.sum(confusion_matrix1[i,:])-np.sum(confusion_matrix1[:,i])+confusion_matrix1[i][i])\n",
        "    FP1.append(np.sum(confusion_matrix1[i,:])-confusion_matrix1[i][i])\n",
        "    FN1.append(np.sum(confusion_matrix1[:,i])-confusion_matrix1[i][i])\n",
        "    F11.append((2*TP1[i])/(2*TP1[i] + FP1[i] + FN1[i]))\n",
        "  y1[number_of_Gaussian-1] = p3_get_likelihood(train_dataset,Means1,Variance1,Pi1,number_of_Gaussian)\n",
        "  print(\"Accuracy for \",number_of_Gaussian,\" mixtures is : \",accuracy1)\n",
        "  print(\"F1 scores for \",number_of_Gaussian,\" mixtures is : \",F11)\n",
        "  print(\"Confusion matrix for \",number_of_Gaussian,\" mixtures is : \",confusion_matrix1)\n",
        "\n",
        "y1 = (y1-np.min(y1))/(np.max(y1)-np.min(y1))\n",
        "plt.plot(x1,y1)\n",
        "plt.title(\"Log likelihood vs Gaussian mixtures\")\n",
        "plt.xlabel(\"Gaussian misture\")\n",
        "plt.ylabel(\"log likelihood\")\n",
        "plt.show()"
      ],
      "metadata": {
        "colab": {
          "base_uri": "https://localhost:8080/"
        },
        "outputId": "af7da268-656b-4a5c-f588-c58214e7c0e1",
        "id": "0BNk4JU55RHl"
      },
      "execution_count": null,
      "outputs": [
        {
          "output_type": "stream",
          "name": "stdout",
          "text": [
            "Accuracy for  1  mixtures is :  0.5666\n",
            "F1 scores for  1  mixtures is :  [0.5258532298227626, 0.5621639237412417, 0.6065422287931991, 0.5836831538601934, 0.5658965180605272]\n",
            "Confusion matrix for  1  mixtures is :  [[1795.  526.  496.  508.  531.]\n",
            " [ 373. 1725.  339.  367.  352.]\n",
            " [ 185.  190. 1641.  173.  182.]\n",
            " [ 260.  213.  203. 1599.  229.]\n",
            " [ 358.  327.  361.  328. 1739.]]\n",
            "Accuracy for  2  mixtures is :  0.5688666666666666\n",
            "F1 scores for  2  mixtures is :  [0.5277330601492756, 0.5661848302744843, 0.6122979751068177, 0.5833181900781392, 0.56629653821032]\n",
            "Confusion matrix for  2  mixtures is :  [[1803.  523.  495.  510.  531.]\n",
            " [ 370. 1743.  339.  366.  358.]\n",
            " [ 180.  177. 1648.  167.  171.]\n",
            " [ 260.  218.  206. 1605.  239.]\n",
            " [ 358.  320.  352.  327. 1734.]]\n",
            "Accuracy for  3  mixtures is :  0.5696666666666667\n",
            "F1 scores for  3  mixtures is :  [0.5305226174791392, 0.5643853389555628, 0.6106898464952839, 0.585792349726776, 0.5679659351457582]\n",
            "Confusion matrix for  3  mixtures is :  [[1812.  520.  494.  508.  526.]\n",
            " [ 372. 1740.  343.  367.  363.]\n",
            " [ 182.  190. 1651.  167.  177.]\n",
            " [ 254.  216.  204. 1608.  233.]\n",
            " [ 351.  315.  348.  325. 1734.]]\n",
            "Accuracy for  4  mixtures is :  0.5687333333333333\n",
            "F1 scores for  4  mixtures is :  [0.5305349074478939, 0.5644610632417493, 0.6092739700720488, 0.5831509846827133, 0.5670661631915942]\n",
            "Confusion matrix for  4  mixtures is :  [[1820.  523.  503.  510.  534.]\n",
            " [ 368. 1736.  341.  366.  359.]\n",
            " [ 180.  190. 1649.  173.  181.]\n",
            " [ 255.  219.  204. 1599.  232.]\n",
            " [ 348.  313.  343.  327. 1727.]]\n",
            "Accuracy for  5  mixtures is :  0.5686666666666667\n",
            "F1 scores for  5  mixtures is :  [0.5294460641399417, 0.5643693107932379, 0.6104328523862376, 0.5829383886255924, 0.5672572178477691]\n",
            "Confusion matrix for  5  mixtures is :  [[1816.  525.  496.  515.  537.]\n",
            " [ 369. 1736.  344.  366.  356.]\n",
            " [ 181.  186. 1650.  170.  179.]\n",
            " [ 258.  218.  204. 1599.  232.]\n",
            " [ 347.  316.  346.  325. 1729.]]\n",
            "Accuracy for  6  mixtures is :  0.5696\n",
            "F1 scores for  6  mixtures is :  [0.5310997815003642, 0.5647937642091588, 0.6105965172286032, 0.5846546382358302, 0.5679579776756402]\n",
            "Confusion matrix for  6  mixtures is :  [[1823.  527.  495.  513.  536.]\n",
            " [ 369. 1739.  345.  366.  358.]\n",
            " [ 181.  185. 1648.  168.  176.]\n",
            " [ 254.  216.  205. 1604.  233.]\n",
            " [ 344.  314.  347.  324. 1730.]]\n"
          ]
        },
        {
          "output_type": "display_data",
          "data": {
            "text/plain": [
              "<Figure size 432x288 with 1 Axes>"
            ],
            "image/png": "[encoded data removed]"
          },
          "metadata": {
            "needs_background": "light"
          }
        }
      ]
    },
    {
      "cell_type": "markdown",
      "source": [
        "### Assuming class conditionals as Normal Density"
      ],
      "metadata": {
        "id": "99K9_VXC0PZR"
      }
    },
    {
      "cell_type": "markdown",
      "source": [
        "Determining class conditional densities with variance"
      ],
      "metadata": {
        "id": "bd6-0Yk70PZS"
      }
    },
    {
      "cell_type": "code",
      "source": [
        "# Creating list of numpy arrays containing training datas of each class with class as index of list\n",
        "temp = train_dataset[:,:]\n",
        "lst = []\n",
        "for i in range(1,classes+1):\n",
        "  x = temp[np.where(temp[:,10]==i)]\n",
        "  x = x[:,:10]      #features = 10\n",
        "  lst.append(x)"
      ],
      "metadata": {
        "id": "tOWJbUkXX9WP"
      },
      "execution_count": null,
      "outputs": []
    },
    {
      "cell_type": "code",
      "source": [
        "# Initialising training and testing datas to base datas for this part\n",
        "Y_train = Y_train_base\n",
        "Y_test = Y_test_base\n",
        "X_train = X_train_base\n",
        "X_test = X_test_base"
      ],
      "metadata": {
        "id": "cuH0k4AHYWS_"
      },
      "execution_count": null,
      "outputs": []
    },
    {
      "cell_type": "code",
      "source": [
        "mean=[]   # 10 features' mean for each classes\n",
        "for i in range(classes):\n",
        "  a=lst[i]\n",
        "  a = a.mean(axis=0)\n",
        "  mean.append(a)"
      ],
      "metadata": {
        "id": "u8Vo8xbv0PZS"
      },
      "execution_count": null,
      "outputs": []
    },
    {
      "cell_type": "code",
      "source": [
        "variance=[]    # Updating Variance\n",
        "for i in range(classes):\n",
        "  a=lst[i]-mean[i]\n",
        "  v = a.T@a/lst[i].shape[0]\n",
        "  v = np.linalg.inv(v)\n",
        "  variance.append(v)"
      ],
      "metadata": {
        "id": "CRf1BhoN0gFJ"
      },
      "execution_count": null,
      "outputs": []
    },
    {
      "cell_type": "code",
      "source": [
        "variance[1].shape"
      ],
      "metadata": {
        "colab": {
          "base_uri": "https://localhost:8080/"
        },
        "id": "H5iAbWLS26u-",
        "outputId": "e2da3c90-c23c-45ad-87b6-eedb4ffad0bb"
      },
      "execution_count": null,
      "outputs": [
        {
          "output_type": "execute_result",
          "data": {
            "text/plain": [
              "(10, 10)"
            ]
          },
          "metadata": {},
          "execution_count": 791
        }
      ]
    },
    {
      "cell_type": "code",
      "source": [
        "X_test.shape"
      ],
      "metadata": {
        "colab": {
          "base_uri": "https://localhost:8080/"
        },
        "outputId": "55caf6b4-3fd2-483f-fbb4-ba43ab9dfa7b",
        "id": "igFoQ87o0PZT"
      },
      "execution_count": null,
      "outputs": [
        {
          "output_type": "execute_result",
          "data": {
            "text/plain": [
              "(15000, 10)"
            ]
          },
          "metadata": {},
          "execution_count": 792
        }
      ]
    },
    {
      "cell_type": "markdown",
      "source": [
        "#### Training"
      ],
      "metadata": {
        "id": "9cgowKo0YbAo"
      }
    },
    {
      "cell_type": "code",
      "source": [
        "count = 0\n",
        "for i in range(X_train.shape[0]):\n",
        "  g = []                   #  Storing class conditionals of 5 classes\n",
        "  for j in range(classes):\n",
        "    v = (X_train[i]-mean[j])\n",
        "    v=v.reshape((v.shape[0],1))\n",
        "    k=0.5*v.T@variance[j]@v\n",
        "    k = math.sqrt(np.linalg.det(variance[j]))*math.exp(-k)\n",
        "    g.append(k)          #comparing exponent values\n",
        "    #print(g)\n",
        "  k = g.index(max(g)) +1\n",
        "  #print(g)\n",
        "  if k==Y_train[i]:\n",
        "    count=count+1"
      ],
      "metadata": {
        "id": "iQ7MaaSL0PZT"
      },
      "execution_count": null,
      "outputs": []
    },
    {
      "cell_type": "code",
      "source": [
        "print('Accuracy is:',count*100/60000,' percent')"
      ],
      "metadata": {
        "colab": {
          "base_uri": "https://localhost:8080/"
        },
        "outputId": "da280bf5-cd32-4b33-da36-343968349680",
        "id": "viJXPHuF0PZU"
      },
      "execution_count": null,
      "outputs": [
        {
          "output_type": "stream",
          "name": "stdout",
          "text": [
            "Accuracy is: 59.391666666666666  percent\n"
          ]
        }
      ]
    },
    {
      "cell_type": "markdown",
      "source": [
        "#### Testing"
      ],
      "metadata": {
        "id": "2EGwa9KgYq4Y"
      }
    },
    {
      "cell_type": "code",
      "source": [
        "conf_matrix = np.zeros((classes,classes))"
      ],
      "metadata": {
        "id": "RTSn9S8cYuXf"
      },
      "execution_count": null,
      "outputs": []
    },
    {
      "cell_type": "code",
      "source": [
        "count = 0\n",
        "for i in range(X_test.shape[0]):\n",
        "  g = []                   #  Storing class conditionals of 5 classes\n",
        "  for j in range(classes):\n",
        "    v = (X_test[i]-mean[j])\n",
        "    v=v.reshape((v.shape[0],1))\n",
        "    k=0.5*v.T@variance[j]@v\n",
        "    k = math.sqrt(np.linalg.det(variance[j]))*math.exp(-k)\n",
        "    g.append(k)\n",
        "  k = g.index(max(g))         # comparing pre-exponent values\n",
        "  if k==int(Y_test[i])-1:\n",
        "    count=count+1\n",
        "  v = int(Y_test[i])-1\n",
        "  conf_matrix[v][k] += 1"
      ],
      "metadata": {
        "id": "b62EkMiwYuXg"
      },
      "execution_count": null,
      "outputs": []
    },
    {
      "cell_type": "code",
      "source": [
        "print('Testing Accuracy is:',count*100/15000,' percent')"
      ],
      "metadata": {
        "colab": {
          "base_uri": "https://localhost:8080/"
        },
        "outputId": "d75d78f8-15a1-4173-916e-2e711cbd819d",
        "id": "IkZPKNqzYuXg"
      },
      "execution_count": null,
      "outputs": [
        {
          "output_type": "stream",
          "name": "stdout",
          "text": [
            "Testing Accuracy is: 59.36  percent\n"
          ]
        }
      ]
    },
    {
      "cell_type": "code",
      "source": [
        "print('The confusion matrix for above testing data is:')\n",
        "print(conf_matrix)"
      ],
      "metadata": {
        "colab": {
          "base_uri": "https://localhost:8080/"
        },
        "outputId": "06afd841-584f-414c-c418-5d445fefad65",
        "id": "VwPk8xo8YuXg"
      },
      "execution_count": null,
      "outputs": [
        {
          "output_type": "stream",
          "name": "stdout",
          "text": [
            "The confusion matrix for above testing data is:\n",
            "[[1627.  362.  264.  344.  374.]\n",
            " [ 380. 1742.  278.  268.  313.]\n",
            " [ 297.  298. 1914.  240.  291.]\n",
            " [ 321.  335.  255. 1794.  270.]\n",
            " [ 363.  310.  231.  302. 1827.]]\n"
          ]
        }
      ]
    },
    {
      "cell_type": "code",
      "source": [
        "# Storing True positive True negative, False Positive, False negative and F values in a list scores\n",
        "TP=[]\n",
        "TN=[]\n",
        "FP=[]\n",
        "FN=[]\n",
        "F1=[]\n",
        "for i in range(classes):\n",
        "  TP.append(conf_matrix[i][i])\n",
        "  TN.append(np.sum(conf_matrix)-np.sum(conf_matrix[i,:])-np.sum(conf_matrix[:,i])+conf_matrix[i][i])\n",
        "  FP.append(np.sum(conf_matrix[i,:])-conf_matrix[i][i])\n",
        "  FN.append(np.sum(conf_matrix[:,i])-conf_matrix[i][i])\n",
        "  F1.append((2*TP[i])/(2*TP[i] + FP[i] + FN[i]))"
      ],
      "metadata": {
        "id": "Oyvn65wXYuXg"
      },
      "execution_count": null,
      "outputs": []
    },
    {
      "cell_type": "code",
      "source": [
        "print('F1 scores for corresponding classes are:')\n",
        "print(F1)"
      ],
      "metadata": {
        "colab": {
          "base_uri": "https://localhost:8080/"
        },
        "outputId": "97f8007c-b35c-40bf-f98c-9f917ebeb587",
        "id": "S1EwKhJbYuXh"
      },
      "execution_count": null,
      "outputs": [
        {
          "output_type": "stream",
          "name": "stdout",
          "text": [
            "F1 scores for corresponding classes are:\n",
            "[0.5460647759691223, 0.5779694757796947, 0.6399197592778335, 0.6057741009623502, 0.5982318271119843]\n"
          ]
        }
      ]
    },
    {
      "cell_type": "markdown",
      "source": [
        "**bold text**## (vii) GMM"
      ],
      "metadata": {
        "id": "QSshari5guyd"
      }
    },
    {
      "cell_type": "code",
      "source": [
        "def p3_split_dataset(dataset,train_ratio):\n",
        "  classes = np.unique(dataset[:,-1])\n",
        "  dataset_size = dataset.shape[0]\n",
        "  count = int(train_ratio*(dataset_size))\n",
        "\n",
        "  np.random.shuffle(dataset)\n",
        "  train_dataset, test_dataset = dataset[:count,:], dataset[count:,:]\n",
        "\n",
        "  return train_dataset,test_dataset"
      ],
      "metadata": {
        "id": "VG-XQQuaQpSR"
      },
      "execution_count": null,
      "outputs": []
    },
    {
      "cell_type": "code",
      "source": [
        "def p3_normalize_data(dataset):\n",
        "  row_Max = np.amax(dataset[:,:-1], axis=0)\n",
        "  row_Min = np.amin(dataset[:,:-1], axis=0)\n",
        "  dataset = np.c_[(dataset[:,:-1]-row_Min)/(row_Max-row_Min),dataset[:,-1]]\n",
        "  return dataset"
      ],
      "metadata": {
        "id": "VpFoPHKgQpSS"
      },
      "execution_count": null,
      "outputs": []
    },
    {
      "cell_type": "code",
      "source": [
        "def p3_GMM_training(train_dataset,epochs,number_of_Gaussian):\n",
        "  min_class = int(np.min(train_dataset[:,-1]))\n",
        "  classes = int(len(np.unique(train_dataset[:,-1])))\n",
        "  dimension = train_dataset.shape[1]-1\n",
        "  Const = 1/np.power(2*math.pi,dimension/2)\n",
        "\n",
        "\n",
        "  Category_wise_train_data = []\n",
        "  for i in range(classes):\n",
        "    Category_wise_train_data.append(train_dataset[train_dataset[:,-1]==(i+min_class)][:,:-1])\n",
        "\n",
        "  Means = []\n",
        "  Variance = []\n",
        "  Pi = []\n",
        "\n",
        "  for digit_class in range(classes):\n",
        "    Category_wise_epochs = 0\n",
        "    Category_wise_Means = np.random.uniform(0, 1,(dimension,number_of_Gaussian)) #np.zeros((dimension,number_of_Gaussian))\n",
        "    Category_wise_Variance = np.identity(dimension)\n",
        "    Category_wise_Variance = np.dstack([Category_wise_Variance]*number_of_Gaussian)\n",
        "\n",
        "    Category_wise_Pi = np.ones(number_of_Gaussian)/number_of_Gaussian\n",
        "\n",
        "\n",
        "    for Category_wise_epochs in range(epochs):\n",
        "        # Calculating inverse of co-variance matrix\n",
        "        Category_wise_Variance_inverse = np.identity(dimension)\n",
        "        Category_wise_Variance_inverse = np.dstack([Category_wise_Variance_inverse]*number_of_Gaussian)\n",
        "\n",
        "        for i in range(number_of_Gaussian):\n",
        "            Category_wise_Variance_inverse[:,:,i] = np.linalg.inv(Category_wise_Variance[:,:,i])\n",
        "\n",
        "\n",
        "        # calculating determinant\n",
        "        Category_wise_Variance_det = np.zeros(number_of_Gaussian)\n",
        "\n",
        "        for i in range(number_of_Gaussian):\n",
        "            Category_wise_Variance_det[i] = np.linalg.det(Category_wise_Variance[:,:,i])\n",
        "\n",
        "\n",
        "        Category_wise_Gamma = np.zeros((Category_wise_train_data[digit_class].shape[0],number_of_Gaussian))\n",
        "\n",
        "\n",
        "\n",
        "        data_point_number = 0\n",
        "        #Calculating Gamma for each datapoint and each class\n",
        "        for data_point in Category_wise_train_data[digit_class]:\n",
        "            Denominator = 0.0\n",
        "            for k in range(number_of_Gaussian):\n",
        "                temp1 = data_point-Category_wise_Means[:,k]\n",
        "                temp2 = Category_wise_Variance_inverse[:,:,k]\n",
        "                temp3 = (-1/2)*(temp1.T @ temp2 @ temp1)\n",
        "                temp4 = np.exp(temp3)\n",
        "                temp5 = np.power(Category_wise_Variance_det[k],-0.5)*temp4*Category_wise_Pi[k]\n",
        "                Denominator += temp5\n",
        "\n",
        "            Gamma_each_Gaussian = np.zeros(number_of_Gaussian)\n",
        "            for k in range(number_of_Gaussian):\n",
        "                temp6 = data_point-Category_wise_Means[:,k]\n",
        "\n",
        "                temp7 = Category_wise_Variance_inverse[:,:,k]\n",
        "                temp8 = (-1/2)*(temp6.T @ temp7 @ temp6)\n",
        "\n",
        "                temp9 = np.exp(temp8)\n",
        "                Numerator = np.power(Category_wise_Variance_det[k],-0.5)*temp9*Category_wise_Pi[k]\n",
        "\n",
        "                Gamma_each_Gaussian[k] = (Numerator/Denominator)\n",
        "\n",
        "            Category_wise_Gamma[data_point_number,:] = Gamma_each_Gaussian\n",
        "\n",
        "            data_point_number += 1\n",
        "\n",
        "\n",
        "\n",
        "        # Updating mean\n",
        "\n",
        "        for k in range(number_of_Gaussian):\n",
        "            meank = np.zeros(dimension)\n",
        "            data_point_number = 0\n",
        "            #updating mean in one line\n",
        "            Category_wise_Means[:,k] = np.average(Category_wise_train_data[digit_class],axis = 0, weights=Category_wise_Gamma[:,k])\n",
        "\n",
        "\n",
        "\n",
        "        Nk = np.sum(Category_wise_Gamma,axis = 0)\n",
        "\n",
        "        for k in range(number_of_Gaussian):\n",
        "            variancek = np.zeros((dimension,dimension))\n",
        "            count = 0\n",
        "            data_point_number = 0\n",
        "            for data_point in Category_wise_train_data[digit_class]:\n",
        "                v = data_point-Category_wise_Means[:,k]\n",
        "                x = (v).reshape(v.shape[0],1)\n",
        "\n",
        "                variancek = variancek + (x @ x.T ) * Category_wise_Gamma[data_point_number,k]\n",
        "                data_point_number += 1\n",
        "\n",
        "            Category_wise_Variance[:,:,k] = variancek/Nk[k]\n",
        "\n",
        "            # retaining only diagonals\n",
        "            temp = np.identity(len(Category_wise_Variance[:,:,k]))\n",
        "            Category_wise_Variance[:,:,k] = Category_wise_Variance[:,:,k]*temp\n",
        "\n",
        "\n",
        "        # Updating Pi\n",
        "\n",
        "\n",
        "        Category_wise_Pi = Nk/Category_wise_train_data[digit_class].shape[0]\n",
        "\n",
        "    Means.append(Category_wise_Means)\n",
        "    Variance.append(Category_wise_Variance)\n",
        "    Pi.append(Category_wise_Pi)\n",
        "  return Means,Variance,Pi\n"
      ],
      "metadata": {
        "id": "tS6m--d04X0j"
      },
      "execution_count": null,
      "outputs": []
    },
    {
      "cell_type": "code",
      "source": [
        "def p3_GMM_testing(test_dataset,classes,Means,Variance,Pi,number_of_Gaussian):\n",
        "  min_class = int(np.min(test_dataset[:,-1]))\n",
        "  dimension = test_dataset.shape[1]-1\n",
        "  Variance_inverse = []\n",
        "  # Calculating inverse of co-variance matrix\n",
        "  for i in range(len(Variance)):\n",
        "\n",
        "      Category_wise_Variance = Variance[i]\n",
        "\n",
        "      Category_wise_Variance_inverse = np.identity(dimension)\n",
        "      Category_wise_Variance_inverse = np.dstack([Category_wise_Variance_inverse]*number_of_Gaussian)\n",
        "\n",
        "      for k in range(number_of_Gaussian):\n",
        "          Category_wise_Variance_inverse[:,:,k] = np.linalg.inv(Category_wise_Variance[:,:,k])\n",
        "\n",
        "      Variance_inverse.append(Category_wise_Variance_inverse)\n",
        "\n",
        "  # Variance determinant\n",
        "  Variance_det = []\n",
        "\n",
        "  for i in range(len(Variance)):\n",
        "\n",
        "      Category_wise_Variance = Variance[i]\n",
        "\n",
        "      Category_wise_Variance_det = np.zeros(number_of_Gaussian)\n",
        "\n",
        "      for k in range(number_of_Gaussian):\n",
        "          Category_wise_Variance_det[k] = np.linalg.det(Category_wise_Variance[:,:,k])\n",
        "      Variance_det.append(Category_wise_Variance_det)\n",
        "\n",
        "  confusion_matrix = np.zeros((classes,classes))\n",
        "  correct_predicted_labels = 0\n",
        "  for data_point in test_dataset:\n",
        "    probabilities = np.zeros(classes)\n",
        "\n",
        "    for Class in range(classes):\n",
        "      Inner_summation = 0.0\n",
        "\n",
        "      for k in range(number_of_Gaussian):\n",
        "\n",
        "        temp1 = data_point[:-1]-Means[Class][:,k]\n",
        "        temp1 = (temp1).reshape(temp1.shape[0],1)\n",
        "        temp2 = Variance_inverse[Class][:,:,k]\n",
        "        temp3 = (-1/2)*(temp1.T @ temp2 @ temp1)\n",
        "        temp4 = np.exp(temp3)\n",
        "        temp5 = np.power(Variance_det[Class][k],-0.5)*temp4*Pi[Class][k]\n",
        "        Inner_summation += temp5\n",
        "      probabilities[Class] = Inner_summation\n",
        "\n",
        "    predicted_class = np.argmax(probabilities) + min_class\n",
        "    confusion_matrix[predicted_class-min_class][int(data_point[-1])-min_class] += 1\n",
        "    if(predicted_class==int(data_point[-1])):\n",
        "      correct_predicted_labels += 1\n",
        "\n",
        "\n",
        "  accuracy = correct_predicted_labels/test_dataset.shape[0]\n",
        "\n",
        "  return accuracy,confusion_matrix"
      ],
      "metadata": {
        "id": "-ZrIK_QdQpSU"
      },
      "execution_count": null,
      "outputs": []
    },
    {
      "cell_type": "code",
      "source": [
        "def p3_get_likelihood(dataset,Means,Variance,Pi,number_of_Gaussian):\n",
        "  min_class = int(np.min(dataset[:,-1]))\n",
        "  dimension = dataset.shape[1]-1\n",
        "  Variance_inverse = []\n",
        "  # Calculating inverse of co-variance matrix\n",
        "  for i in range(len(Variance)):\n",
        "\n",
        "      Category_wise_Variance = Variance[i]\n",
        "\n",
        "      Category_wise_Variance_inverse = np.identity(dimension)\n",
        "      Category_wise_Variance_inverse = np.dstack([Category_wise_Variance_inverse]*number_of_Gaussian)\n",
        "\n",
        "      for k in range(number_of_Gaussian):\n",
        "          Category_wise_Variance_inverse[:,:,k] = np.linalg.inv(Category_wise_Variance[:,:,k])\n",
        "\n",
        "      Variance_inverse.append(Category_wise_Variance_inverse)\n",
        "\n",
        "  # Variance determinant\n",
        "  Variance_det = []\n",
        "\n",
        "  for i in range(len(Variance)):\n",
        "\n",
        "      Category_wise_Variance = Variance[i]\n",
        "\n",
        "      Category_wise_Variance_det = np.zeros(number_of_Gaussian)\n",
        "\n",
        "      for k in range(number_of_Gaussian):\n",
        "          Category_wise_Variance_det[k] = np.linalg.det(Category_wise_Variance[:,:,k])\n",
        "      Variance_det.append(Category_wise_Variance_det)\n",
        "\n",
        "  log_likelihood = 0.0\n",
        "  data_point_number = 0\n",
        "\n",
        "  for data_point in dataset:\n",
        "      Inner_summation = 0.0\n",
        "      for k in range(number_of_Gaussian):\n",
        "          temp1 = data_point[:-1]-Means[int(data_point[-1])-min_class][:,k]\n",
        "          temp1 = (temp1).reshape(temp1.shape[0],1)\n",
        "          temp2 = Variance_inverse[int(data_point[-1])-min_class][:,:,k]\n",
        "          temp3 = (-1/2)*(temp1.T @ temp2 @ temp1)\n",
        "          temp4 = np.exp(temp3)\n",
        "          temp5 = np.power(Variance_det[int(data_point[-1])-min_class][k],-0.5)*temp4*Pi[int(data_point[-1])-min_class][k]\n",
        "          Inner_summation += temp5\n",
        "\n",
        "      log_likelihood += np.log(Inner_summation)\n",
        "\n",
        "      data_point_number += 1\n",
        "\n",
        "  return log_likelihood"
      ],
      "metadata": {
        "id": "PyU1NetbQpSU"
      },
      "execution_count": null,
      "outputs": []
    },
    {
      "cell_type": "code",
      "execution_count": null,
      "metadata": {
        "id": "C2MR4HseQpSV"
      },
      "outputs": [],
      "source": [
        "train_dataset = np.loadtxt('/content/drive/MyDrive/Prnn/p3_train.csv', delimiter=',', skiprows=0)\n",
        "test_dataset = np.loadtxt('/content/drive/MyDrive/Prnn/p3_test.csv', delimiter=',', skiprows=0)"
      ]
    },
    {
      "cell_type": "code",
      "source": [
        "train_dataset = p3_normalize_data(train_dataset)\n",
        "test_dataset = p3_normalize_data(test_dataset)"
      ],
      "metadata": {
        "id": "7PLbG9aBvNw7"
      },
      "execution_count": null,
      "outputs": []
    },
    {
      "cell_type": "code",
      "source": [
        "classes = 5\n",
        "y1 = np.zeros(6)\n",
        "x1 = np.array([1,2,3,4,5,6])\n",
        "for number_of_Gaussian in x1:\n",
        "  Means1,Variance1,Pi1 = p3_GMM_training(train_dataset,5,number_of_Gaussian)\n",
        "  accuracy1,confusion_matrix1 = p3_GMM_testing(test_dataset,5,Means1,Variance1,Pi1,number_of_Gaussian)\n",
        "  TP1=[]\n",
        "  TN1=[]\n",
        "  FP1=[]\n",
        "  FN1=[]\n",
        "  F11=[]\n",
        "  for i in range(classes):\n",
        "    TP1.append(confusion_matrix1[i][i])\n",
        "    TN1.append(np.sum(confusion_matrix1)-np.sum(confusion_matrix1[i,:])-np.sum(confusion_matrix1[:,i])+confusion_matrix1[i][i])\n",
        "    FP1.append(np.sum(confusion_matrix1[i,:])-confusion_matrix1[i][i])\n",
        "    FN1.append(np.sum(confusion_matrix1[:,i])-confusion_matrix1[i][i])\n",
        "    F11.append((2*TP1[i])/(2*TP1[i] + FP1[i] + FN1[i]))\n",
        "  y1[number_of_Gaussian-1] = p3_get_likelihood(train_dataset,Means1,Variance1,Pi1,number_of_Gaussian)\n",
        "  print(\"Accuracy for \",number_of_Gaussian,\" mixtures is : \",accuracy1)\n",
        "  print(\"F1 scores for \",number_of_Gaussian,\" mixtures is : \",F11)\n",
        "  print(\"Confusion matrix for \",number_of_Gaussian,\" mixtures is : \",confusion_matrix1)\n",
        "\n",
        "y1 = (y1-np.min(y1))/(np.max(y1)-np.min(y1))\n",
        "plt.plot(x1,y1)\n",
        "plt.title(\"Log likelihood vs Gaussian mixtures\")\n",
        "plt.xlabel(\"Gaussian misture\")\n",
        "plt.ylabel(\"log likelihood\")\n",
        "plt.show()"
      ],
      "metadata": {
        "colab": {
          "base_uri": "https://localhost:8080/"
        },
        "id": "2A3AIix5k0a7",
        "outputId": "af7da268-656b-4a5c-f588-c58214e7c0e1"
      },
      "execution_count": null,
      "outputs": [
        {
          "output_type": "stream",
          "name": "stdout",
          "text": [
            "Accuracy for  1  mixtures is :  0.5666\n",
            "F1 scores for  1  mixtures is :  [0.5258532298227626, 0.5621639237412417, 0.6065422287931991, 0.5836831538601934, 0.5658965180605272]\n",
            "Confusion matrix for  1  mixtures is :  [[1795.  526.  496.  508.  531.]\n",
            " [ 373. 1725.  339.  367.  352.]\n",
            " [ 185.  190. 1641.  173.  182.]\n",
            " [ 260.  213.  203. 1599.  229.]\n",
            " [ 358.  327.  361.  328. 1739.]]\n",
            "Accuracy for  2  mixtures is :  0.5688666666666666\n",
            "F1 scores for  2  mixtures is :  [0.5277330601492756, 0.5661848302744843, 0.6122979751068177, 0.5833181900781392, 0.56629653821032]\n",
            "Confusion matrix for  2  mixtures is :  [[1803.  523.  495.  510.  531.]\n",
            " [ 370. 1743.  339.  366.  358.]\n",
            " [ 180.  177. 1648.  167.  171.]\n",
            " [ 260.  218.  206. 1605.  239.]\n",
            " [ 358.  320.  352.  327. 1734.]]\n",
            "Accuracy for  3  mixtures is :  0.5696666666666667\n",
            "F1 scores for  3  mixtures is :  [0.5305226174791392, 0.5643853389555628, 0.6106898464952839, 0.585792349726776, 0.5679659351457582]\n",
            "Confusion matrix for  3  mixtures is :  [[1812.  520.  494.  508.  526.]\n",
            " [ 372. 1740.  343.  367.  363.]\n",
            " [ 182.  190. 1651.  167.  177.]\n",
            " [ 254.  216.  204. 1608.  233.]\n",
            " [ 351.  315.  348.  325. 1734.]]\n",
            "Accuracy for  4  mixtures is :  0.5687333333333333\n",
            "F1 scores for  4  mixtures is :  [0.5305349074478939, 0.5644610632417493, 0.6092739700720488, 0.5831509846827133, 0.5670661631915942]\n",
            "Confusion matrix for  4  mixtures is :  [[1820.  523.  503.  510.  534.]\n",
            " [ 368. 1736.  341.  366.  359.]\n",
            " [ 180.  190. 1649.  173.  181.]\n",
            " [ 255.  219.  204. 1599.  232.]\n",
            " [ 348.  313.  343.  327. 1727.]]\n",
            "Accuracy for  5  mixtures is :  0.5686666666666667\n",
            "F1 scores for  5  mixtures is :  [0.5294460641399417, 0.5643693107932379, 0.6104328523862376, 0.5829383886255924, 0.5672572178477691]\n",
            "Confusion matrix for  5  mixtures is :  [[1816.  525.  496.  515.  537.]\n",
            " [ 369. 1736.  344.  366.  356.]\n",
            " [ 181.  186. 1650.  170.  179.]\n",
            " [ 258.  218.  204. 1599.  232.]\n",
            " [ 347.  316.  346.  325. 1729.]]\n",
            "Accuracy for  6  mixtures is :  0.5696\n",
            "F1 scores for  6  mixtures is :  [0.5310997815003642, 0.5647937642091588, 0.6105965172286032, 0.5846546382358302, 0.5679579776756402]\n",
            "Confusion matrix for  6  mixtures is :  [[1823.  527.  495.  513.  536.]\n",
            " [ 369. 1739.  345.  366.  358.]\n",
            " [ 181.  185. 1648.  168.  176.]\n",
            " [ 254.  216.  205. 1604.  233.]\n",
            " [ 344.  314.  347.  324. 1730.]]\n"
          ]
        },
        {
          "output_type": "display_data",
          "data": {
            "text/plain": [
              "<Figure size 432x288 with 1 Axes>"
            ],
            "image/png": "[encoded data removed]"
          },
          "metadata": {
            "needs_background": "light"
          }
        }
      ]
    },
    {
      "cell_type": "markdown",
      "source": [
        "### Laplace Density"
      ],
      "metadata": {
        "id": "AK0aIO2y5zGK"
      }
    },
    {
      "cell_type": "code",
      "source": [
        "# Initialising dataset for this part\n",
        "X_train = np.absolute(train_dataset[:,:10])\n",
        "Y_train = train_dataset[:,10]\n",
        "X_test = np.absolute(test_dataset[:,:10])\n",
        "Y_test = test_dataset[:,10]"
      ],
      "metadata": {
        "id": "YdJoikFGakO4"
      },
      "execution_count": null,
      "outputs": []
    },
    {
      "cell_type": "code",
      "source": [
        "temp = train_dataset[:,:]\n",
        "lst = []\n",
        "for i in range(1,classes+1):\n",
        "  x = temp[np.where(temp[:,10]==i)]\n",
        "  x = x[:,:10]\n",
        "  lst.append(x)"
      ],
      "metadata": {
        "id": "Nb-ZIGLI5zGM"
      },
      "execution_count": null,
      "outputs": []
    },
    {
      "cell_type": "code",
      "source": [
        "# Finding Median\n",
        "median=[]   # 10 features' exponential parameter for each classes\n",
        "for i in range(classes):\n",
        "  a=lst[i]\n",
        "  a = np.median(a,axis=0)\n",
        "  median.append(a)"
      ],
      "metadata": {
        "id": "5bamRkFV5zGM"
      },
      "execution_count": null,
      "outputs": []
    },
    {
      "cell_type": "code",
      "source": [
        "# Finding Sigma\n",
        "sigma = []\n",
        "for i in range(classes):\n",
        "  s = np.zeros(10)  # 10 is size of features\n",
        "  for j in range(lst[i].shape[0]):\n",
        "    x=lst[i]\n",
        "    s=s+np.absolute(x[j]-median[i])\n",
        "  s=s/lst[i].shape[0]\n",
        "  sigma.append(s)"
      ],
      "metadata": {
        "id": "geilql4s5zGM"
      },
      "execution_count": null,
      "outputs": []
    },
    {
      "cell_type": "markdown",
      "source": [
        "#### Training"
      ],
      "metadata": {
        "id": "_w-l1kf_a5Rj"
      }
    },
    {
      "cell_type": "code",
      "source": [
        "count = 0\n",
        "for i in range(X_train.shape[0]):\n",
        "  g = []                   #  Storing class conditionals of 5 classes\n",
        "  for j in range(classes):\n",
        "    k=0\n",
        "    s=1\n",
        "    x = X_train[i]\n",
        "    for l in range(10): # 10 is number of features\n",
        "      k=k+abs(x[l]-median[j][l])/sigma[j][l]\n",
        "      s = s*sigma[j][l]\n",
        "    k = math.exp(-0.5*k)/s\n",
        "    g.append(k)\n",
        "  k = g.index(max(g)) +1\n",
        "  if k==Y_train[i]:\n",
        "    count=count+1"
      ],
      "metadata": {
        "id": "eKB-uQid5zGO"
      },
      "execution_count": null,
      "outputs": []
    },
    {
      "cell_type": "code",
      "source": [
        "print('Accuracy is:',count*100/X_train.shape[0],' percent')"
      ],
      "metadata": {
        "colab": {
          "base_uri": "https://localhost:8080/"
        },
        "id": "_dpZaFbuGXnM",
        "outputId": "6f958719-c325-4cfc-a1b8-24470516d16d"
      },
      "execution_count": null,
      "outputs": [
        {
          "output_type": "stream",
          "name": "stdout",
          "text": [
            "Accuracy is: 48.79  percent\n"
          ]
        }
      ]
    },
    {
      "cell_type": "markdown",
      "source": [
        "#### Testing"
      ],
      "metadata": {
        "id": "hE9DGFZ1b2d2"
      }
    },
    {
      "cell_type": "code",
      "source": [
        "conf_matrix = np.zeros((classes,classes))"
      ],
      "metadata": {
        "id": "NiLkfZ5gqPhp"
      },
      "execution_count": null,
      "outputs": []
    },
    {
      "cell_type": "code",
      "source": [
        "count = 0\n",
        "for i in range(X_test.shape[0]):\n",
        "  g = []                   #  Storing class conditionals of 5 classes\n",
        "  for j in range(classes):\n",
        "    k=0\n",
        "    s=1\n",
        "    x = X_test[i]\n",
        "    for l in range(10): # 10 is number of features\n",
        "      k=k+abs(x[l]-median[j][l])/sigma[j][l]\n",
        "      s = s*sigma[j][l]\n",
        "    k = math.exp(-0.5*k)/s\n",
        "    g.append(k)\n",
        "  k = g.index(max(g))\n",
        "  if k==int(Y_test[i])-1:\n",
        "    count=count+1\n",
        "  v = int(Y_test[i])-1\n",
        "  conf_matrix[v][k] += 1"
      ],
      "metadata": {
        "id": "pYAQztzV5zGN"
      },
      "execution_count": null,
      "outputs": []
    },
    {
      "cell_type": "code",
      "source": [
        "print('Accuracy is:',count*100/15000,' percent')"
      ],
      "metadata": {
        "colab": {
          "base_uri": "https://localhost:8080/"
        },
        "outputId": "c209e632-e7c7-4a7d-de9a-be558f451562",
        "id": "RxuuQeVy5zGO"
      },
      "execution_count": null,
      "outputs": [
        {
          "output_type": "stream",
          "name": "stdout",
          "text": [
            "Accuracy is: 48.486666666666665  percent\n"
          ]
        }
      ]
    },
    {
      "cell_type": "code",
      "source": [
        "print('The confusion matrix for above testing data is:')\n",
        "print(conf_matrix)"
      ],
      "metadata": {
        "colab": {
          "base_uri": "https://localhost:8080/"
        },
        "id": "UY4BlexvqR6W",
        "outputId": "45e8e5f3-0469-433f-d394-9ddf8b17e225"
      },
      "execution_count": null,
      "outputs": [
        {
          "output_type": "stream",
          "name": "stdout",
          "text": [
            "The confusion matrix for above testing data is:\n",
            "[[1058.  505.  464.  429.  515.]\n",
            " [ 303. 1432.  428.  384.  434.]\n",
            " [ 250.  388. 1746.  287.  369.]\n",
            " [ 255.  438.  414. 1462.  406.]\n",
            " [ 270.  409.  409.  370. 1575.]]\n"
          ]
        }
      ]
    },
    {
      "cell_type": "code",
      "source": [
        "# Storing True positive True negative, False Positive, False negative and F values in a list scores\n",
        "TP=[]\n",
        "TN=[]\n",
        "FP=[]\n",
        "FN=[]\n",
        "F1=[]\n",
        "for i in range(classes):\n",
        "  TP.append(conf_matrix[i][i])\n",
        "  TN.append(np.sum(conf_matrix)-np.sum(conf_matrix[i,:])-np.sum(conf_matrix[:,i])+conf_matrix[i][i])\n",
        "  FP.append(np.sum(conf_matrix[i,:])-conf_matrix[i][i])\n",
        "  FN.append(np.sum(conf_matrix[:,i])-conf_matrix[i][i])\n",
        "  F1.append((2*TP[i])/(2*TP[i] + FP[i] + FN[i]))"
      ],
      "metadata": {
        "id": "hqVesZwQqokk"
      },
      "execution_count": null,
      "outputs": []
    },
    {
      "cell_type": "code",
      "source": [
        "print('F1 scores for corresponding classes are:')\n",
        "print(F1)"
      ],
      "metadata": {
        "colab": {
          "base_uri": "https://localhost:8080/"
        },
        "id": "_Ofh6tTwqqkP",
        "outputId": "f6de6cc3-2818-424a-b16a-36969547f01e"
      },
      "execution_count": null,
      "outputs": [
        {
          "output_type": "stream",
          "name": "stdout",
          "text": [
            "F1 scores for corresponding classes are:\n",
            "[0.41433326806344234, 0.4654640013001788, 0.5371481310567605, 0.49500592517352293, 0.4974731522425774]\n"
          ]
        }
      ]
    }
  ]
}