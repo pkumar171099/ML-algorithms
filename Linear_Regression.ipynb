{
  "nbformat": 4,
  "nbformat_minor": 0,
  "metadata": {
    "colab": {
      "provenance": []
    },
    "kernelspec": {
      "name": "python3",
      "display_name": "Python 3"
    },
    "language_info": {
      "name": "python"
    }
  },
  "cells": [
    {
      "cell_type": "code",
      "execution_count": null,
      "metadata": {
        "id": "oEPJYb3Yl_iJ"
      },
      "outputs": [],
      "source": [
        "import numpy as np\n",
        "import matplotlib.pyplot as plt"
      ]
    },
    {
      "cell_type": "code",
      "source": [
        "import math  # This library is to use normal math functions like exp,sin etc."
      ],
      "metadata": {
        "id": "Q7kF3SRXdYRW"
      },
      "execution_count": null,
      "outputs": []
    },
    {
      "cell_type": "code",
      "source": [
        "# Mounting drive\n",
        "from google.colab import drive\n",
        "drive.mount('/content/drive')"
      ],
      "metadata": {
        "colab": {
          "base_uri": "https://localhost:8080/"
        },
        "id": "h6KcJckQm7eb",
        "outputId": "4650923f-7b2d-43af-b9a3-c0b8fbaacd86"
      },
      "execution_count": null,
      "outputs": [
        {
          "output_type": "stream",
          "name": "stdout",
          "text": [
            "Drive already mounted at /content/drive; to attempt to forcibly remount, call drive.mount(\"/content/drive\", force_remount=True).\n"
          ]
        }
      ]
    },
    {
      "cell_type": "markdown",
      "source": [
        "# Linear Regression with Linear Features"
      ],
      "metadata": {
        "id": "zyqr6IhAmYPx"
      }
    },
    {
      "cell_type": "markdown",
      "source": [
        "## Loading data"
      ],
      "metadata": {
        "id": "KN_awCO4Ot1j"
      }
    },
    {
      "cell_type": "code",
      "source": [
        "#below where the file is in gdrive, change with your\n",
        "data_path = \"/content/drive/MyDrive/Prnn/\"\n",
        "train_dataset = np.loadtxt(data_path + 'p1_train.csv', delimiter=',')\n",
        "test_dataset = np.loadtxt(data_path + 'p1_test.csv', delimiter=',')"
      ],
      "metadata": {
        "id": "6Uf0IFTfnDeo"
      },
      "execution_count": null,
      "outputs": []
    },
    {
      "cell_type": "code",
      "source": [
        "features = train_dataset.shape[1]-1 #2"
      ],
      "metadata": {
        "id": "WuVZapKYOx0u"
      },
      "execution_count": null,
      "outputs": []
    },
    {
      "cell_type": "code",
      "source": [
        "X_train = train_dataset[:,0:features]\n",
        "Y_train = train_dataset[:,features]\n",
        "Y_train = Y_train.reshape(Y_train.shape[0],1)"
      ],
      "metadata": {
        "id": "ciT6NmANO3HQ"
      },
      "execution_count": null,
      "outputs": []
    },
    {
      "cell_type": "code",
      "source": [
        "X_test = test_dataset[:,0:features]\n",
        "Y_test = test_dataset[:,features]\n",
        "Y_test = Y_test.reshape(Y_test.shape[0],1)"
      ],
      "metadata": {
        "id": "Uqdhad1zO3Kz"
      },
      "execution_count": null,
      "outputs": []
    },
    {
      "cell_type": "markdown",
      "source": [
        "## Training"
      ],
      "metadata": {
        "id": "h33lPpnyQYLm"
      }
    },
    {
      "cell_type": "code",
      "source": [
        "Y_train_1 = Y_train\n",
        "X_train_1 = X_train"
      ],
      "metadata": {
        "id": "3STPK9xBmUlc"
      },
      "execution_count": null,
      "outputs": []
    },
    {
      "cell_type": "code",
      "source": [
        "# Creating augmented data matrix\n",
        "tmp = np.ones((X_train_1.shape[0],1))\n",
        "X_train_1=np.column_stack((X_train_1,tmp))\n",
        "X_train_1.shape"
      ],
      "metadata": {
        "colab": {
          "base_uri": "https://localhost:8080/"
        },
        "id": "_PLOhGtQO3OO",
        "outputId": "5ac27a07-b67e-4268-897e-80b146c0e30d"
      },
      "execution_count": null,
      "outputs": [
        {
          "output_type": "execute_result",
          "data": {
            "text/plain": [
              "(10000, 3)"
            ]
          },
          "metadata": {},
          "execution_count": 226
        }
      ]
    },
    {
      "cell_type": "code",
      "source": [
        "# Creating augmented data matrix\n",
        "tmp = np.ones((X_test_1.shape[0],1))\n",
        "X_test_1=np.column_stack((X_test_1,tmp))\n",
        "X_test_1.shape"
      ],
      "metadata": {
        "colab": {
          "base_uri": "https://localhost:8080/"
        },
        "id": "htNScwA0R54P",
        "outputId": "5f30aa50-680d-4e32-f6a5-1a8907294609"
      },
      "execution_count": null,
      "outputs": [
        {
          "output_type": "execute_result",
          "data": {
            "text/plain": [
              "(5000, 19)"
            ]
          },
          "metadata": {},
          "execution_count": 227
        }
      ]
    },
    {
      "cell_type": "code",
      "source": [
        "W = (np.linalg.inv(X_train_1.T@X_train_1))@X_train_1.T@Y_train_1"
      ],
      "metadata": {
        "id": "KJechSBHPfUx"
      },
      "execution_count": null,
      "outputs": []
    },
    {
      "cell_type": "code",
      "source": [
        "W.shape"
      ],
      "metadata": {
        "colab": {
          "base_uri": "https://localhost:8080/"
        },
        "id": "y2kIQ-PvUL5g",
        "outputId": "9d742f0d-93c3-44ec-cc80-0c5bd5c896bd"
      },
      "execution_count": null,
      "outputs": [
        {
          "output_type": "execute_result",
          "data": {
            "text/plain": [
              "(3, 1)"
            ]
          },
          "metadata": {},
          "execution_count": 229
        }
      ]
    },
    {
      "cell_type": "code",
      "source": [
        "#MSE on train dataset\n",
        "loss =(np.linalg.norm(X_train_1@W-Y_train_1))**2\n",
        "MSE = loss/X_train.shape[0]\n",
        "print('The Mean squared error loss is: ',MSE)"
      ],
      "metadata": {
        "colab": {
          "base_uri": "https://localhost:8080/"
        },
        "id": "Ran0mOhSS78w",
        "outputId": "1339e315-f6b4-4465-9059-702b0caceeb2"
      },
      "execution_count": null,
      "outputs": [
        {
          "output_type": "stream",
          "name": "stdout",
          "text": [
            "The Mean squared error loss is:  5.059684615643717\n"
          ]
        }
      ]
    },
    {
      "cell_type": "code",
      "source": [
        "Y_pred = X_train_1@W #Y predicted"
      ],
      "metadata": {
        "id": "6wgpJr8kSIKc"
      },
      "execution_count": null,
      "outputs": []
    },
    {
      "cell_type": "code",
      "source": [
        "loss = 0\n",
        "for i in range(X_train_1.shape[0]):\n",
        "  tmp = X_train_1[i,:]\n",
        "  tmp = tmp.reshape((tmp.shape[0],1))\n",
        "  tmp=tmp.T\n",
        "  loss = loss + abs(tmp@W-Y_train_1[i][0])\n",
        "MAE = loss/X_train_1.shape[0]\n",
        "print('Mean Absolute error is:',MAE)"
      ],
      "metadata": {
        "colab": {
          "base_uri": "https://localhost:8080/"
        },
        "id": "iiw_BiMfThKg",
        "outputId": "9551fe05-8618-461a-aa60-abe5c2c8736c"
      },
      "execution_count": null,
      "outputs": [
        {
          "output_type": "stream",
          "name": "stdout",
          "text": [
            "Mean Absolute error is: [[1.79175321]]\n"
          ]
        }
      ]
    },
    {
      "cell_type": "code",
      "source": [
        "from scipy import stats  #only for finding p-value\n",
        "t,p_val = stats.ttest_ind(Y_pred,Y_train_1)"
      ],
      "metadata": {
        "id": "sYW9ILsCPzAU"
      },
      "execution_count": null,
      "outputs": []
    },
    {
      "cell_type": "code",
      "source": [
        "print('The P-value is:',p_val[0])"
      ],
      "metadata": {
        "colab": {
          "base_uri": "https://localhost:8080/"
        },
        "id": "Gm2lpktLSgHj",
        "outputId": "f2702178-10b0-48be-a6cf-26b27179b68e"
      },
      "execution_count": null,
      "outputs": [
        {
          "output_type": "stream",
          "name": "stdout",
          "text": [
            "The P-value is: 0.9999999999999991\n"
          ]
        }
      ]
    },
    {
      "cell_type": "markdown",
      "source": [
        "## Testing"
      ],
      "metadata": {
        "id": "baek659_R7tL"
      }
    },
    {
      "cell_type": "code",
      "source": [
        "Y_test_1 = Y_test\n",
        "X_test_1 = X_test"
      ],
      "metadata": {
        "id": "aNkn0N6kSAfx"
      },
      "execution_count": null,
      "outputs": []
    },
    {
      "cell_type": "code",
      "source": [
        "# Creating augmented data matrix\n",
        "tmp = np.ones((X_test_1.shape[0],1))\n",
        "X_test_1=np.column_stack((X_test_1,tmp))\n",
        "X_test_1.shape"
      ],
      "metadata": {
        "colab": {
          "base_uri": "https://localhost:8080/"
        },
        "id": "LNbBBaf-PfYV",
        "outputId": "a9c6960c-e964-49dd-fbd1-73b515e51814"
      },
      "execution_count": null,
      "outputs": [
        {
          "output_type": "execute_result",
          "data": {
            "text/plain": [
              "(5000, 3)"
            ]
          },
          "metadata": {},
          "execution_count": 236
        }
      ]
    },
    {
      "cell_type": "code",
      "source": [
        "#MSE on test dataset\n",
        "loss =(np.linalg.norm(X_test_1@W-Y_test_1))**2\n",
        "MSE = loss/X_test.shape[0]\n",
        "print('The Mean squared error loss is: ',MSE)"
      ],
      "metadata": {
        "colab": {
          "base_uri": "https://localhost:8080/"
        },
        "id": "cBCLrma_PfcY",
        "outputId": "86bcf1ea-d2c6-46bf-eb93-ab39fd1d91c6"
      },
      "execution_count": null,
      "outputs": [
        {
          "output_type": "stream",
          "name": "stdout",
          "text": [
            "The Mean squared error loss is:  5.046436003951254\n"
          ]
        }
      ]
    },
    {
      "cell_type": "code",
      "source": [
        "loss = 0\n",
        "for i in range(X_test_1.shape[0]):\n",
        "  tmp = X_test_1[i,:]\n",
        "  tmp = tmp.reshape((tmp.shape[0],1))\n",
        "  tmp=tmp.T\n",
        "  loss = loss + abs(tmp@W-Y_test_1[i][0])\n",
        "MAE = loss/X_train_1.shape[0]\n",
        "print('Mean Absolute error is:',MAE)"
      ],
      "metadata": {
        "colab": {
          "base_uri": "https://localhost:8080/"
        },
        "id": "gCWJbqcwPffy",
        "outputId": "3ab6fcc3-c805-4a4f-e1de-3f5faee63457"
      },
      "execution_count": null,
      "outputs": [
        {
          "output_type": "stream",
          "name": "stdout",
          "text": [
            "Mean Absolute error is: [[0.89954003]]\n"
          ]
        }
      ]
    },
    {
      "cell_type": "code",
      "source": [
        "Y_pred = X_test_1@W #Y predicted"
      ],
      "metadata": {
        "id": "T-aPwxi4TTlT"
      },
      "execution_count": null,
      "outputs": []
    },
    {
      "cell_type": "code",
      "source": [
        "from scipy import stats\n",
        "t,p_val = stats.ttest_ind(Y_pred,Y_test_1)"
      ],
      "metadata": {
        "id": "i3Xn4bypTTlU"
      },
      "execution_count": null,
      "outputs": []
    },
    {
      "cell_type": "code",
      "source": [
        "print('The P-value is:',p_val[0])"
      ],
      "metadata": {
        "colab": {
          "base_uri": "https://localhost:8080/"
        },
        "outputId": "8cf1ccb7-96fa-400a-e2a5-86f8c6116caa",
        "id": "7oVoLRx8TTlU"
      },
      "execution_count": null,
      "outputs": [
        {
          "output_type": "stream",
          "name": "stdout",
          "text": [
            "The P-value is: 0.9084780712932874\n"
          ]
        }
      ]
    },
    {
      "cell_type": "markdown",
      "source": [
        "# Linear Regression with Non-Linear Features"
      ],
      "metadata": {
        "id": "x7xgqW18nLAk"
      }
    },
    {
      "cell_type": "markdown",
      "source": [
        "## Importing data"
      ],
      "metadata": {
        "id": "BD6WLxk7U_32"
      }
    },
    {
      "cell_type": "code",
      "source": [
        "#below where the file is in gdrive, change with your\n",
        "data_path = \"/content/drive/MyDrive/Prnn/\"\n",
        "train_dataset = np.loadtxt(data_path + 'p2_train.csv', delimiter=',')\n",
        "test_dataset = np.loadtxt(data_path + 'p2_test.csv', delimiter=',')"
      ],
      "metadata": {
        "id": "oX3zMq0OnMKT"
      },
      "execution_count": null,
      "outputs": []
    },
    {
      "cell_type": "code",
      "source": [
        "features = train_dataset.shape[1]-1 #2"
      ],
      "metadata": {
        "id": "8pztOZieVCwI"
      },
      "execution_count": null,
      "outputs": []
    },
    {
      "cell_type": "code",
      "source": [
        "X_train = train_dataset[:,0:features]\n",
        "Y_train = train_dataset[:,features]\n",
        "Y_train = Y_train.reshape(Y_train.shape[0],1)"
      ],
      "metadata": {
        "id": "yDqTGO9IVCzs"
      },
      "execution_count": null,
      "outputs": []
    },
    {
      "cell_type": "code",
      "source": [
        "X_test = test_dataset[:,0:features]\n",
        "Y_test = test_dataset[:,features]\n",
        "Y_test = Y_test.reshape(Y_test.shape[0],1)"
      ],
      "metadata": {
        "id": "Ygjf5ZkLVC3K"
      },
      "execution_count": null,
      "outputs": []
    },
    {
      "cell_type": "markdown",
      "source": [
        "## (i) Polynomial Function"
      ],
      "metadata": {
        "id": "qXDQztXWWqJK"
      }
    },
    {
      "cell_type": "code",
      "source": [
        "Y_train_1 = Y_train\n",
        "X_train_1 = X_train"
      ],
      "metadata": {
        "id": "KRVpBnTvVC6q"
      },
      "execution_count": null,
      "outputs": []
    },
    {
      "cell_type": "code",
      "source": [
        "Y_train_1 =100* Y_train_1/Y_train_1.max() # Normalizing Y labels"
      ],
      "metadata": {
        "id": "9GAn-Jg0VI1u"
      },
      "execution_count": null,
      "outputs": []
    },
    {
      "cell_type": "code",
      "source": [
        "X_train_1 = np.power(X_train[:,0],2)     # X0^2\n",
        "X_train_1 = X_train_1.reshape((X_train_1.shape[0],1))\n",
        "\n",
        "tmp = X_train[:,1]           # X1^2\n",
        "tmp = np.power(tmp,2)\n",
        "tmp = tmp\n",
        "X_train_1=np.column_stack((X_train_1,tmp))\n",
        "\n",
        "tmp = X_train[:,2]           # X2^2\n",
        "tmp = np.power(tmp,2)\n",
        "tmp = tmp\n",
        "X_train_1=np.column_stack((X_train_1,tmp))\n",
        "\n",
        "tmp = X_train[:,0]           # X0\n",
        "tmp = np.power(tmp,1)\n",
        "tmp = tmp\n",
        "X_train_1=np.column_stack((X_train_1,tmp))\n",
        "\n",
        "tmp = X_train[:,1]           # X1\n",
        "tmp = np.power(tmp,1)\n",
        "tmp = tmp\n",
        "X_train_1=np.column_stack((X_train_1,tmp))\n",
        "\n",
        "\n",
        "tmp = X_train[:,2]           # X2\n",
        "tmp = np.power(tmp,1)\n",
        "tmp = tmp\n",
        "X_train_1=np.column_stack((X_train_1,tmp))\n",
        "\n",
        "tmp = np.multiply(X_train[:,0],X_train[:,1])           # X0*X1\n",
        "X_train_1=np.column_stack((X_train_1,tmp))\n",
        "\n",
        "tmp = np.multiply(X_train[:,1],X_train[:,2])           # X1*X2\n",
        "X_train_1=np.column_stack((X_train_1,tmp))\n",
        "\n",
        "tmp = np.multiply(X_train[:,2],X_train[:,0])           # X2*X0\n",
        "X_train_1=np.column_stack((X_train_1,tmp))\n",
        "\n",
        "tmp = np.multiply(X_train[:,0],X_train[:,1])           # X0*X1*X2\n",
        "tmp = np.multiply(X_train[:,2],tmp)\n",
        "X_train_1=np.column_stack((X_train_1,tmp))"
      ],
      "metadata": {
        "id": "Mtvsh3s4XS1q"
      },
      "execution_count": null,
      "outputs": []
    },
    {
      "cell_type": "code",
      "source": [
        "X_train_1.shape"
      ],
      "metadata": {
        "colab": {
          "base_uri": "https://localhost:8080/"
        },
        "id": "DFpQuBdhYPHx",
        "outputId": "566a8926-7fa5-480e-b4e1-5315e9ffae6d"
      },
      "execution_count": null,
      "outputs": [
        {
          "output_type": "execute_result",
          "data": {
            "text/plain": [
              "(10000, 10)"
            ]
          },
          "metadata": {},
          "execution_count": 52
        }
      ]
    },
    {
      "cell_type": "code",
      "source": [
        "# Creating augmented data matrix\n",
        "tmp = np.ones((X_train_1.shape[0],1))\n",
        "X_train_1=np.column_stack((X_train_1,tmp))\n",
        "X_train_1.shape"
      ],
      "metadata": {
        "colab": {
          "base_uri": "https://localhost:8080/"
        },
        "id": "dN54Kw7FYQHG",
        "outputId": "f61dfe60-356e-4bc1-9f7b-7b5a1060a1bb"
      },
      "execution_count": null,
      "outputs": [
        {
          "output_type": "execute_result",
          "data": {
            "text/plain": [
              "(10000, 11)"
            ]
          },
          "metadata": {},
          "execution_count": 53
        }
      ]
    },
    {
      "cell_type": "markdown",
      "source": [
        "### Training"
      ],
      "metadata": {
        "id": "5yQDNTYYXQzP"
      }
    },
    {
      "cell_type": "code",
      "source": [
        "W = (np.linalg.inv(X_train_1.T@X_train_1))@X_train_1.T@Y_train_1 # Optimal point"
      ],
      "metadata": {
        "id": "tK-EVGTJVI5P"
      },
      "execution_count": null,
      "outputs": []
    },
    {
      "cell_type": "code",
      "source": [
        "#MSE on train dataset\n",
        "loss =(np.linalg.norm(X_train_1@W-Y_train_1))**2\n",
        "MSE = loss/X_train.shape[0]\n",
        "print('The Mean squared error loss is: ',MSE)"
      ],
      "metadata": {
        "colab": {
          "base_uri": "https://localhost:8080/"
        },
        "id": "ZsJ1io9gYcE2",
        "outputId": "59c122ae-0f94-4b06-a2ba-b64d9a368f6c"
      },
      "execution_count": null,
      "outputs": [
        {
          "output_type": "stream",
          "name": "stdout",
          "text": [
            "The Mean squared error loss is:  30.04779438717615\n"
          ]
        }
      ]
    },
    {
      "cell_type": "code",
      "source": [
        "loss = 0\n",
        "for i in range(X_train_1.shape[0]):\n",
        "  tmp = X_train_1[i,:]\n",
        "  tmp = tmp.reshape((tmp.shape[0],1))\n",
        "  tmp=tmp.T\n",
        "  loss = loss + abs(tmp@W-Y_train_1[i][0])\n",
        "MAE = loss/X_train_1.shape[0]\n",
        "print('Mean Absolute error is:',MAE)"
      ],
      "metadata": {
        "colab": {
          "base_uri": "https://localhost:8080/"
        },
        "id": "8XTGTEu_YcJE",
        "outputId": "37106822-d176-48f0-cad0-081370bd4c7c"
      },
      "execution_count": null,
      "outputs": [
        {
          "output_type": "stream",
          "name": "stdout",
          "text": [
            "Mean Absolute error is: [[4.14377048]]\n"
          ]
        }
      ]
    },
    {
      "cell_type": "code",
      "source": [
        "Y_pred = X_train_1@W #Y predicted"
      ],
      "metadata": {
        "id": "RFZpTB_6UnWt"
      },
      "execution_count": null,
      "outputs": []
    },
    {
      "cell_type": "code",
      "source": [
        "from scipy import stats\n",
        "t,p_val = stats.ttest_ind(Y_pred,Y_train_1)"
      ],
      "metadata": {
        "id": "r9JD2wXTUnWu"
      },
      "execution_count": null,
      "outputs": []
    },
    {
      "cell_type": "code",
      "source": [
        "print('The P-value is:',p_val[0])"
      ],
      "metadata": {
        "colab": {
          "base_uri": "https://localhost:8080/"
        },
        "outputId": "a69ff291-3869-498b-c6ec-491935114a1d",
        "id": "1UcTjEVPUnWu"
      },
      "execution_count": null,
      "outputs": [
        {
          "output_type": "stream",
          "name": "stdout",
          "text": [
            "The P-value is: 0.9999999999999908\n"
          ]
        }
      ]
    },
    {
      "cell_type": "markdown",
      "source": [
        "### Testing"
      ],
      "metadata": {
        "id": "mAlaABI_pGay"
      }
    },
    {
      "cell_type": "code",
      "source": [
        "Y_test_1 = Y_test\n",
        "X_test_1 = X_test"
      ],
      "metadata": {
        "id": "hWHD8f4op51D"
      },
      "execution_count": null,
      "outputs": []
    },
    {
      "cell_type": "code",
      "source": [
        "Y_test_1 = 100 * Y_test_1/Y_test_1.max() # Normalizing Y labels"
      ],
      "metadata": {
        "id": "sK6PQvCnqCEu"
      },
      "execution_count": null,
      "outputs": []
    },
    {
      "cell_type": "code",
      "source": [
        "X_test_1 = np.power(X_test[:,0],2)\n",
        "X_test_1 = X_test_1.reshape((X_test_1.shape[0],1))\n",
        "\n",
        "tmp = X_test[:,1]           # We know there are three columns\n",
        "tmp = np.power(tmp,2)\n",
        "tmp = tmp\n",
        "X_test_1=np.column_stack((X_test_1,tmp))\n",
        "\n",
        "tmp = X_test[:,2]           # We know there are three columns\n",
        "tmp = np.power(tmp,2)\n",
        "tmp = tmp\n",
        "X_test_1=np.column_stack((X_test_1,tmp))\n",
        "\n",
        "tmp = X_test[:,0]           # We know there are three columns\n",
        "tmp = np.power(tmp,1)\n",
        "tmp = tmp\n",
        "X_test_1=np.column_stack((X_test_1,tmp))\n",
        "\n",
        "tmp = X_test[:,1]           # We know there are three columns\n",
        "tmp = np.power(tmp,1)\n",
        "tmp = tmp\n",
        "X_test_1=np.column_stack((X_test_1,tmp))\n",
        "\n",
        "tmp = X_test[:,2]           # We know there are three columns\n",
        "tmp = np.power(tmp,1)\n",
        "tmp = tmp\n",
        "X_test_1=np.column_stack((X_test_1,tmp))\n",
        "\n",
        "tmp = np.multiply(X_test[:,0],X_test[:,1])           # We know there are three columns\n",
        "X_test_1=np.column_stack((X_test_1,tmp))\n",
        "\n",
        "tmp = np.multiply(X_test[:,1],X_test[:,2])           # We know there are three columns\n",
        "X_test_1=np.column_stack((X_test_1,tmp))\n",
        "\n",
        "tmp = np.multiply(X_test[:,2],X_test[:,0])           # We know there are three columns\n",
        "X_test_1=np.column_stack((X_test_1,tmp))\n",
        "\n",
        "tmp = np.multiply(X_test[:,0],X_test[:,1])           # We know there are three columns\n",
        "tmp = np.multiply(X_test[:,2],tmp)\n",
        "X_test_1=np.column_stack((X_test_1,tmp))\n"
      ],
      "metadata": {
        "id": "6O1dkb7NYcNQ"
      },
      "execution_count": null,
      "outputs": []
    },
    {
      "cell_type": "code",
      "source": [
        "# Creating augmented data matrix\n",
        "tmp = np.ones((X_test_1.shape[0],1))\n",
        "X_test_1=np.column_stack((X_test_1,tmp))\n",
        "X_test_1.shape"
      ],
      "metadata": {
        "colab": {
          "base_uri": "https://localhost:8080/"
        },
        "id": "gUQ33U4trRNm",
        "outputId": "3e40b33e-d2e6-42e5-9911-f42a9a0d4120"
      },
      "execution_count": null,
      "outputs": [
        {
          "output_type": "execute_result",
          "data": {
            "text/plain": [
              "(5000, 11)"
            ]
          },
          "metadata": {},
          "execution_count": 65
        }
      ]
    },
    {
      "cell_type": "code",
      "source": [
        "#MSE on train dataset\n",
        "loss =(np.linalg.norm(X_test_1@W-Y_test_1))**2\n",
        "MSE = loss/X_test.shape[0]\n",
        "print('The Mean squared error loss is: ',MSE)"
      ],
      "metadata": {
        "colab": {
          "base_uri": "https://localhost:8080/"
        },
        "outputId": "c545a2f0-8482-4fe5-8227-6ac6f4badda8",
        "id": "HzfrTfNZq7gl"
      },
      "execution_count": null,
      "outputs": [
        {
          "output_type": "stream",
          "name": "stdout",
          "text": [
            "The Mean squared error loss is:  33.192819326441374\n"
          ]
        }
      ]
    },
    {
      "cell_type": "code",
      "source": [
        "loss = 0\n",
        "for i in range(X_test_1.shape[0]):\n",
        "  tmp = X_test_1[i,:]\n",
        "  tmp = tmp.reshape((tmp.shape[0],1))\n",
        "  tmp=tmp.T\n",
        "  loss = loss + abs(tmp@W-Y_test_1[i][0])\n",
        "MAE = loss/X_test_1.shape[0]\n",
        "print('Mean Absolute error is:',MAE)"
      ],
      "metadata": {
        "colab": {
          "base_uri": "https://localhost:8080/"
        },
        "outputId": "14909aa3-5acc-47fa-ae14-82e708be09c3",
        "id": "177Bf9rSq7gn"
      },
      "execution_count": null,
      "outputs": [
        {
          "output_type": "stream",
          "name": "stdout",
          "text": [
            "Mean Absolute error is: [[4.2934914]]\n"
          ]
        }
      ]
    },
    {
      "cell_type": "code",
      "source": [
        "Y_pred = X_test_1@W #Y predicted"
      ],
      "metadata": {
        "id": "po-_04yyU17O"
      },
      "execution_count": null,
      "outputs": []
    },
    {
      "cell_type": "code",
      "source": [
        "from scipy import stats\n",
        "t,p_val = stats.ttest_ind(Y_pred,Y_test_1)"
      ],
      "metadata": {
        "id": "YTzLvBDUU17O"
      },
      "execution_count": null,
      "outputs": []
    },
    {
      "cell_type": "code",
      "source": [
        "print('The P-value is:',p_val[0])"
      ],
      "metadata": {
        "colab": {
          "base_uri": "https://localhost:8080/"
        },
        "outputId": "eea23dcb-4ace-4247-a34a-17a538a153ab",
        "id": "VfatE9iiU17O"
      },
      "execution_count": null,
      "outputs": [
        {
          "output_type": "stream",
          "name": "stdout",
          "text": [
            "The P-value is: 0.6194277413529656\n"
          ]
        }
      ]
    },
    {
      "cell_type": "markdown",
      "source": [
        "## (ii) exponential Function"
      ],
      "metadata": {
        "id": "E3dUHJJ9riGL"
      }
    },
    {
      "cell_type": "code",
      "source": [
        "Y_train_1 = Y_train\n",
        "X_train_1 = X_train"
      ],
      "metadata": {
        "id": "gtlfQQ-TriGL"
      },
      "execution_count": null,
      "outputs": []
    },
    {
      "cell_type": "code",
      "source": [
        "Y_train_1 =100* Y_train_1/Y_train_1.max() # Normalizing Y labels"
      ],
      "metadata": {
        "id": "3Oibh1EMriGM"
      },
      "execution_count": null,
      "outputs": []
    },
    {
      "cell_type": "code",
      "source": [
        "X_train_1 = np.power(X_train[:,0],2)     # X0^2\n",
        "X_train_1 = X_train_1.reshape((X_train_1.shape[0],1))\n",
        "\n",
        "tmp = X_train[:,1]           # X1^2\n",
        "tmp = np.power(tmp,2)\n",
        "tmp = tmp\n",
        "X_train_1=np.column_stack((X_train_1,tmp))\n",
        "\n",
        "tmp = X_train[:,2]           # X2^2\n",
        "tmp = np.power(tmp,2)\n",
        "tmp = tmp\n",
        "X_train_1=np.column_stack((X_train_1,tmp))\n",
        "\n",
        "tmp = X_train[:,0]           # X0\n",
        "tmp = np.power(tmp,1)\n",
        "tmp = tmp\n",
        "X_train_1=np.column_stack((X_train_1,tmp))\n",
        "\n",
        "tmp = X_train[:,1]           # X1\n",
        "tmp = np.power(tmp,1)\n",
        "tmp = tmp\n",
        "X_train_1=np.column_stack((X_train_1,tmp))\n",
        "\n",
        "\n",
        "tmp = X_train[:,2]           # X2\n",
        "tmp = np.power(tmp,1)\n",
        "tmp = tmp\n",
        "X_train_1=np.column_stack((X_train_1,tmp))\n",
        "\n",
        "tmp = np.multiply(X_train[:,0],X_train[:,1])           # X0*X1\n",
        "X_train_1=np.column_stack((X_train_1,tmp))\n",
        "\n",
        "tmp = np.multiply(X_train[:,1],X_train[:,2])           # X1*X2\n",
        "X_train_1=np.column_stack((X_train_1,tmp))\n",
        "\n",
        "tmp = np.multiply(X_train[:,2],X_train[:,0])           # X2*X0\n",
        "X_train_1=np.column_stack((X_train_1,tmp))\n",
        "\n",
        "tmp = np.multiply(X_train[:,0],X_train[:,1])           # X0*X1*X2\n",
        "tmp = np.multiply(X_train[:,2],tmp)\n",
        "X_train_1=np.column_stack((X_train_1,tmp))\n",
        "\n",
        "tmp = X_train[:,0]           # e^X0\n",
        "tmp = np.exp(tmp)\n",
        "tmp = tmp\n",
        "X_train_1=np.column_stack((X_train_1,tmp))\n",
        "\n",
        "tmp = X_train[:,1]           # e^X1\n",
        "tmp = np.exp(tmp)\n",
        "tmp = tmp\n",
        "X_train_1=np.column_stack((X_train_1,tmp))\n",
        "\n",
        "tmp = X_train[:,2]           # e^X2\n",
        "tmp = np.exp(tmp)\n",
        "tmp = tmp\n",
        "X_train_1=np.column_stack((X_train_1,tmp))"
      ],
      "metadata": {
        "id": "efWOH_mgriGM"
      },
      "execution_count": null,
      "outputs": []
    },
    {
      "cell_type": "code",
      "source": [
        "X_train_1.shape"
      ],
      "metadata": {
        "colab": {
          "base_uri": "https://localhost:8080/"
        },
        "outputId": "ebe54e23-9d86-42bd-df6a-47fbcd192e27",
        "id": "P4KqZtzDriGM"
      },
      "execution_count": null,
      "outputs": [
        {
          "output_type": "execute_result",
          "data": {
            "text/plain": [
              "(10000, 13)"
            ]
          },
          "metadata": {},
          "execution_count": 74
        }
      ]
    },
    {
      "cell_type": "code",
      "source": [
        "# Creating augmented data matrix\n",
        "tmp = np.ones((X_train_1.shape[0],1))\n",
        "X_train_1=np.column_stack((X_train_1,tmp))\n",
        "X_train_1.shape"
      ],
      "metadata": {
        "colab": {
          "base_uri": "https://localhost:8080/"
        },
        "outputId": "8a0403ff-50f2-4bcd-9ac0-af8a650d6c3c",
        "id": "qV2o9csLriGN"
      },
      "execution_count": null,
      "outputs": [
        {
          "output_type": "execute_result",
          "data": {
            "text/plain": [
              "(10000, 14)"
            ]
          },
          "metadata": {},
          "execution_count": 75
        }
      ]
    },
    {
      "cell_type": "markdown",
      "source": [
        "### Training"
      ],
      "metadata": {
        "id": "bwXujth5riGN"
      }
    },
    {
      "cell_type": "code",
      "source": [
        "W = (np.linalg.inv(X_train_1.T@X_train_1))@X_train_1.T@Y_train_1 # Optimal point"
      ],
      "metadata": {
        "id": "PPC0mCy_riGN"
      },
      "execution_count": null,
      "outputs": []
    },
    {
      "cell_type": "code",
      "source": [
        "#MSE on train dataset\n",
        "loss =(np.linalg.norm(X_train_1@W-Y_train_1))**2\n",
        "MSE = loss/X_train.shape[0]\n",
        "print('The Mean squared error loss is: ',MSE)"
      ],
      "metadata": {
        "colab": {
          "base_uri": "https://localhost:8080/"
        },
        "outputId": "30211893-2c76-43ab-b5f5-33d5e5c07cc2",
        "id": "oqJUSl8jriGO"
      },
      "execution_count": null,
      "outputs": [
        {
          "output_type": "stream",
          "name": "stdout",
          "text": [
            "The Mean squared error loss is:  19.211556652698473\n"
          ]
        }
      ]
    },
    {
      "cell_type": "code",
      "source": [
        "loss = 0\n",
        "for i in range(X_train_1.shape[0]):\n",
        "  tmp = X_train_1[i,:]\n",
        "  tmp = tmp.reshape((tmp.shape[0],1))\n",
        "  tmp=tmp.T\n",
        "  loss = loss + abs(tmp@W-Y_train_1[i][0])\n",
        "MAE = loss/X_train_1.shape[0]\n",
        "print('Mean Absolute error is:',MAE)"
      ],
      "metadata": {
        "colab": {
          "base_uri": "https://localhost:8080/"
        },
        "outputId": "d78c0b99-5ee1-459c-955f-dbbf96b5ac5a",
        "id": "aE0abeo5riGO"
      },
      "execution_count": null,
      "outputs": [
        {
          "output_type": "stream",
          "name": "stdout",
          "text": [
            "Mean Absolute error is: [[3.12863929]]\n"
          ]
        }
      ]
    },
    {
      "cell_type": "code",
      "source": [
        "Y_pred = X_train_1@W #Y predicted"
      ],
      "metadata": {
        "id": "2eE9ilu_VNgc"
      },
      "execution_count": null,
      "outputs": []
    },
    {
      "cell_type": "code",
      "source": [
        "from scipy import stats\n",
        "t,p_val = stats.ttest_ind(Y_pred,Y_train_1)"
      ],
      "metadata": {
        "id": "5SQOS3Y8VNgd"
      },
      "execution_count": null,
      "outputs": []
    },
    {
      "cell_type": "code",
      "source": [
        "print('The P-value is:',p_val[0])"
      ],
      "metadata": {
        "colab": {
          "base_uri": "https://localhost:8080/"
        },
        "outputId": "5b96106e-7d6a-41b9-9ee8-671f4513d389",
        "id": "kBTqC4_bVNgd"
      },
      "execution_count": null,
      "outputs": [
        {
          "output_type": "stream",
          "name": "stdout",
          "text": [
            "The P-value is: 0.9999999999999278\n"
          ]
        }
      ]
    },
    {
      "cell_type": "markdown",
      "source": [
        "### Testing"
      ],
      "metadata": {
        "id": "mhOIsQRpriGO"
      }
    },
    {
      "cell_type": "code",
      "source": [
        "Y_test_1 = Y_test\n",
        "X_test_1 = X_test"
      ],
      "metadata": {
        "id": "6XlKWsfSriGP"
      },
      "execution_count": null,
      "outputs": []
    },
    {
      "cell_type": "code",
      "source": [
        "Y_test_1 = 100 * Y_test_1/Y_test_1.max() # Normalizing Y labels"
      ],
      "metadata": {
        "id": "WQscpIO8riGP"
      },
      "execution_count": null,
      "outputs": []
    },
    {
      "cell_type": "code",
      "source": [
        "X_test_1 = np.power(X_test[:,0],2)\n",
        "X_test_1 = X_test_1.reshape((X_test_1.shape[0],1))\n",
        "\n",
        "tmp = X_test[:,1]           # We know there are three columns\n",
        "tmp = np.power(tmp,2)\n",
        "tmp = tmp\n",
        "X_test_1=np.column_stack((X_test_1,tmp))\n",
        "\n",
        "tmp = X_test[:,2]           # We know there are three columns\n",
        "tmp = np.power(tmp,2)\n",
        "tmp = tmp\n",
        "X_test_1=np.column_stack((X_test_1,tmp))\n",
        "\n",
        "tmp = X_test[:,0]           # We know there are three columns\n",
        "tmp = np.power(tmp,1)\n",
        "tmp = tmp\n",
        "X_test_1=np.column_stack((X_test_1,tmp))\n",
        "\n",
        "tmp = X_test[:,1]           # We know there are three columns\n",
        "tmp = np.power(tmp,1)\n",
        "tmp = tmp\n",
        "X_test_1=np.column_stack((X_test_1,tmp))\n",
        "\n",
        "tmp = X_test[:,2]           # We know there are three columns\n",
        "tmp = np.power(tmp,1)\n",
        "tmp = tmp\n",
        "X_test_1=np.column_stack((X_test_1,tmp))\n",
        "\n",
        "tmp = np.multiply(X_test[:,0],X_test[:,1])           # We know there are three columns\n",
        "X_test_1=np.column_stack((X_test_1,tmp))\n",
        "\n",
        "tmp = np.multiply(X_test[:,1],X_test[:,2])           # We know there are three columns\n",
        "X_test_1=np.column_stack((X_test_1,tmp))\n",
        "\n",
        "tmp = np.multiply(X_test[:,2],X_test[:,0])           # We know there are three columns\n",
        "X_test_1=np.column_stack((X_test_1,tmp))\n",
        "\n",
        "tmp = np.multiply(X_test[:,0],X_test[:,1])           # We know there are three columns\n",
        "tmp = np.multiply(X_test[:,2],tmp)\n",
        "X_test_1=np.column_stack((X_test_1,tmp))\n",
        "\n",
        "tmp = X_test[:,0]           # e^X0\n",
        "tmp = np.exp(tmp)\n",
        "tmp = tmp\n",
        "X_test_1=np.column_stack((X_test_1,tmp))\n",
        "\n",
        "tmp = X_test[:,1]           # e^X1\n",
        "tmp = np.exp(tmp)\n",
        "tmp = tmp\n",
        "X_test_1=np.column_stack((X_test_1,tmp))\n",
        "\n",
        "tmp = X_test[:,2]           # e^X2\n",
        "tmp = np.exp(tmp)\n",
        "tmp = tmp\n",
        "X_test_1=np.column_stack((X_test_1,tmp))\n"
      ],
      "metadata": {
        "id": "bRPxZM1kriGP"
      },
      "execution_count": null,
      "outputs": []
    },
    {
      "cell_type": "code",
      "source": [
        "# Creating augmented data matrix\n",
        "tmp = np.ones((X_test_1.shape[0],1))\n",
        "X_test_1=np.column_stack((X_test_1,tmp))\n",
        "X_test_1.shape"
      ],
      "metadata": {
        "colab": {
          "base_uri": "https://localhost:8080/"
        },
        "outputId": "ce01a1fe-a1eb-499d-a177-813290523b33",
        "id": "Nj0AW2BSriGQ"
      },
      "execution_count": null,
      "outputs": [
        {
          "output_type": "execute_result",
          "data": {
            "text/plain": [
              "(5000, 14)"
            ]
          },
          "metadata": {},
          "execution_count": 90
        }
      ]
    },
    {
      "cell_type": "code",
      "source": [
        "#MSE on train dataset\n",
        "loss =(np.linalg.norm(X_test_1@W-Y_test_1))**2\n",
        "MSE = loss/X_test.shape[0]\n",
        "print('The Mean squared error loss is: ',MSE)"
      ],
      "metadata": {
        "colab": {
          "base_uri": "https://localhost:8080/"
        },
        "outputId": "99a4d874-4101-4ef3-9229-7136d51c41d8",
        "id": "wilw5KSrriGQ"
      },
      "execution_count": null,
      "outputs": [
        {
          "output_type": "stream",
          "name": "stdout",
          "text": [
            "The Mean squared error loss is:  21.463496330688425\n"
          ]
        }
      ]
    },
    {
      "cell_type": "code",
      "source": [
        "loss = 0\n",
        "for i in range(X_test_1.shape[0]):\n",
        "  tmp = X_test_1[i,:]\n",
        "  tmp = tmp.reshape((tmp.shape[0],1))\n",
        "  tmp=tmp.T\n",
        "  loss = loss + abs(tmp@W-Y_test_1[i][0])\n",
        "MAE = loss/X_test_1.shape[0]\n",
        "print('Mean Absolute error is:',MAE)"
      ],
      "metadata": {
        "colab": {
          "base_uri": "https://localhost:8080/"
        },
        "outputId": "6981a35d-49bc-4069-b5a1-fb11615773eb",
        "id": "GF8WylCIriGQ"
      },
      "execution_count": null,
      "outputs": [
        {
          "output_type": "stream",
          "name": "stdout",
          "text": [
            "Mean Absolute error is: [[3.29764013]]\n"
          ]
        }
      ]
    },
    {
      "cell_type": "code",
      "source": [
        "Y_pred = X_test_1@W #Y predicted"
      ],
      "metadata": {
        "id": "NdUbT2tXVI0X"
      },
      "execution_count": null,
      "outputs": []
    },
    {
      "cell_type": "code",
      "source": [
        "from scipy import stats\n",
        "t,p_val = stats.ttest_ind(Y_pred,Y_test_1)"
      ],
      "metadata": {
        "id": "oDjVSPoxVI0X"
      },
      "execution_count": null,
      "outputs": []
    },
    {
      "cell_type": "code",
      "source": [
        "print('The P-value is:',p_val[0])"
      ],
      "metadata": {
        "colab": {
          "base_uri": "https://localhost:8080/"
        },
        "outputId": "a5401a01-0d60-4236-fde0-36d66282f65b",
        "id": "7KZe7_Z9VI0X"
      },
      "execution_count": null,
      "outputs": [
        {
          "output_type": "stream",
          "name": "stdout",
          "text": [
            "The P-value is: 0.47527565957850704\n"
          ]
        }
      ]
    },
    {
      "cell_type": "markdown",
      "source": [
        "## (iii) sin and cos Function"
      ],
      "metadata": {
        "id": "p9aJjM1zuf8e"
      }
    },
    {
      "cell_type": "code",
      "source": [
        "Y_train_1 = Y_train\n",
        "X_train_1 = X_train"
      ],
      "metadata": {
        "id": "B7pNDnoXuf8o"
      },
      "execution_count": null,
      "outputs": []
    },
    {
      "cell_type": "code",
      "source": [
        "Y_train_1 =100* Y_train_1/Y_train_1.max() # Normalizing Y labels"
      ],
      "metadata": {
        "id": "mZpaeiKMuf8p"
      },
      "execution_count": null,
      "outputs": []
    },
    {
      "cell_type": "code",
      "source": [
        "X_train_1 = np.power(X_train[:,0],2)     # X0^2\n",
        "X_train_1 = X_train_1.reshape((X_train_1.shape[0],1))\n",
        "\n",
        "tmp = X_train[:,1]           # X1^2\n",
        "tmp = np.power(tmp,2)\n",
        "tmp = tmp\n",
        "X_train_1=np.column_stack((X_train_1,tmp))\n",
        "\n",
        "tmp = X_train[:,2]           # X2^2\n",
        "tmp = np.power(tmp,2)\n",
        "tmp = tmp\n",
        "X_train_1=np.column_stack((X_train_1,tmp))\n",
        "\n",
        "tmp = X_train[:,0]           # X0\n",
        "tmp = np.power(tmp,1)\n",
        "tmp = tmp\n",
        "X_train_1=np.column_stack((X_train_1,tmp))\n",
        "\n",
        "tmp = X_train[:,1]           # X1\n",
        "tmp = np.power(tmp,1)\n",
        "tmp = tmp\n",
        "X_train_1=np.column_stack((X_train_1,tmp))\n",
        "\n",
        "\n",
        "tmp = X_train[:,2]           # X2\n",
        "tmp = np.power(tmp,1)\n",
        "tmp = tmp\n",
        "X_train_1=np.column_stack((X_train_1,tmp))\n",
        "\n",
        "tmp = np.multiply(X_train[:,0],X_train[:,1])           # X0*X1\n",
        "X_train_1=np.column_stack((X_train_1,tmp))\n",
        "\n",
        "tmp = np.multiply(X_train[:,1],X_train[:,2])           # X1*X2\n",
        "X_train_1=np.column_stack((X_train_1,tmp))\n",
        "\n",
        "tmp = np.multiply(X_train[:,2],X_train[:,0])           # X2*X0\n",
        "X_train_1=np.column_stack((X_train_1,tmp))\n",
        "\n",
        "tmp = np.multiply(X_train[:,0],X_train[:,1])           # X0*X1*X2\n",
        "tmp = np.multiply(X_train[:,2],tmp)\n",
        "X_train_1=np.column_stack((X_train_1,tmp))\n",
        "\n",
        "tmp = X_train[:,0]           # sin X0\n",
        "tmp = np.sin(tmp)\n",
        "tmp = tmp\n",
        "X_train_1=np.column_stack((X_train_1,tmp))\n",
        "\n",
        "tmp = X_train[:,1]           # sin X1\n",
        "tmp = np.sin(tmp)\n",
        "tmp = tmp\n",
        "X_train_1=np.column_stack((X_train_1,tmp))\n",
        "\n",
        "tmp = X_train[:,2]           # sin X2\n",
        "tmp = np.sin(tmp)\n",
        "tmp = tmp\n",
        "X_train_1=np.column_stack((X_train_1,tmp))\n",
        "\n",
        "tmp = X_train[:,0]           # cos X0\n",
        "tmp = np.cos(tmp)\n",
        "tmp = tmp\n",
        "X_train_1=np.column_stack((X_train_1,tmp))\n",
        "\n",
        "tmp = X_train[:,1]           # cos X1\n",
        "tmp = np.cos(tmp)\n",
        "tmp = tmp\n",
        "X_train_1=np.column_stack((X_train_1,tmp))\n",
        "\n",
        "tmp = X_train[:,2]           # cos X2\n",
        "tmp = np.cos(tmp)\n",
        "tmp = tmp\n",
        "X_train_1=np.column_stack((X_train_1,tmp))"
      ],
      "metadata": {
        "id": "Cf6uUWhSuf8p"
      },
      "execution_count": null,
      "outputs": []
    },
    {
      "cell_type": "code",
      "source": [
        "X_train_1.shape"
      ],
      "metadata": {
        "colab": {
          "base_uri": "https://localhost:8080/"
        },
        "outputId": "5b02ab38-e942-4e92-dbf4-6e0128757a51",
        "id": "M-J4q6ZKuf8q"
      },
      "execution_count": null,
      "outputs": [
        {
          "output_type": "execute_result",
          "data": {
            "text/plain": [
              "(10000, 16)"
            ]
          },
          "metadata": {},
          "execution_count": 99
        }
      ]
    },
    {
      "cell_type": "code",
      "source": [
        "# Creating augmented data matrix\n",
        "tmp = np.ones((X_train_1.shape[0],1))\n",
        "X_train_1=np.column_stack((X_train_1,tmp))\n",
        "X_train_1.shape"
      ],
      "metadata": {
        "colab": {
          "base_uri": "https://localhost:8080/"
        },
        "outputId": "1a29a512-d70d-4f55-f133-6b65e4c55701",
        "id": "8JU2fY6Luf8q"
      },
      "execution_count": null,
      "outputs": [
        {
          "output_type": "execute_result",
          "data": {
            "text/plain": [
              "(10000, 17)"
            ]
          },
          "metadata": {},
          "execution_count": 100
        }
      ]
    },
    {
      "cell_type": "markdown",
      "source": [
        "### Training"
      ],
      "metadata": {
        "id": "uQnE7dTBuf8q"
      }
    },
    {
      "cell_type": "code",
      "source": [
        "W = (np.linalg.inv(X_train_1.T@X_train_1))@X_train_1.T@Y_train_1 # Optimal point"
      ],
      "metadata": {
        "id": "w7ahvWyJuf8r"
      },
      "execution_count": null,
      "outputs": []
    },
    {
      "cell_type": "code",
      "source": [
        "#MSE on train dataset\n",
        "loss =(np.linalg.norm(X_train_1@W-Y_train_1))**2\n",
        "MSE = loss/X_train.shape[0]\n",
        "print('The Mean squared error loss is: ',MSE)"
      ],
      "metadata": {
        "colab": {
          "base_uri": "https://localhost:8080/"
        },
        "outputId": "4458d7ad-20e8-4e17-b84f-83578621f26c",
        "id": "9NvSG2q1uf8r"
      },
      "execution_count": null,
      "outputs": [
        {
          "output_type": "stream",
          "name": "stdout",
          "text": [
            "The Mean squared error loss is:  25.900470686479018\n"
          ]
        }
      ]
    },
    {
      "cell_type": "code",
      "source": [
        "loss = 0\n",
        "for i in range(X_train_1.shape[0]):\n",
        "  tmp = X_train_1[i,:]\n",
        "  tmp = tmp.reshape((tmp.shape[0],1))\n",
        "  tmp=tmp.T\n",
        "  loss = loss + abs(tmp@W-Y_train_1[i][0])\n",
        "MAE = loss/X_train_1.shape[0]\n",
        "print('Mean Absolute error is:',MAE)"
      ],
      "metadata": {
        "colab": {
          "base_uri": "https://localhost:8080/"
        },
        "outputId": "0a9a92bf-b65a-48aa-a645-6a0a982379ed",
        "id": "tMvZHVv_uf8r"
      },
      "execution_count": null,
      "outputs": [
        {
          "output_type": "stream",
          "name": "stdout",
          "text": [
            "Mean Absolute error is: [[3.73736182]]\n"
          ]
        }
      ]
    },
    {
      "cell_type": "code",
      "source": [
        "Y_pred = X_train_1@W #Y predicted"
      ],
      "metadata": {
        "id": "rTgXvrtHVc33"
      },
      "execution_count": null,
      "outputs": []
    },
    {
      "cell_type": "code",
      "source": [
        "from scipy import stats\n",
        "t,p_val = stats.ttest_ind(Y_pred,Y_train_1)"
      ],
      "metadata": {
        "id": "ElV0BWScVc33"
      },
      "execution_count": null,
      "outputs": []
    },
    {
      "cell_type": "code",
      "source": [
        "print('The P-value is:',p_val[0])"
      ],
      "metadata": {
        "colab": {
          "base_uri": "https://localhost:8080/"
        },
        "outputId": "bc8a3111-5c7e-43dc-f526-25e447e74381",
        "id": "BZySjvecVc33"
      },
      "execution_count": null,
      "outputs": [
        {
          "output_type": "stream",
          "name": "stdout",
          "text": [
            "The P-value is: 0.9999999999999818\n"
          ]
        }
      ]
    },
    {
      "cell_type": "markdown",
      "source": [
        "### Testing"
      ],
      "metadata": {
        "id": "HJnxYtgMuf8r"
      }
    },
    {
      "cell_type": "code",
      "source": [
        "Y_test_1 = Y_test\n",
        "X_test_1 = X_test"
      ],
      "metadata": {
        "id": "mET3Vl-Luf8s"
      },
      "execution_count": null,
      "outputs": []
    },
    {
      "cell_type": "code",
      "source": [
        "Y_test_1 = 100 * Y_test_1/Y_test_1.max() # Normalizing Y labels"
      ],
      "metadata": {
        "id": "ZdPwvoikuf8s"
      },
      "execution_count": null,
      "outputs": []
    },
    {
      "cell_type": "code",
      "source": [
        "X_test_1 = np.power(X_test[:,0],2)\n",
        "X_test_1 = X_test_1.reshape((X_test_1.shape[0],1))\n",
        "\n",
        "tmp = X_test[:,1]           # We know there are three columns\n",
        "tmp = np.power(tmp,2)\n",
        "tmp = tmp\n",
        "X_test_1=np.column_stack((X_test_1,tmp))\n",
        "\n",
        "tmp = X_test[:,2]           # We know there are three columns\n",
        "tmp = np.power(tmp,2)\n",
        "tmp = tmp\n",
        "X_test_1=np.column_stack((X_test_1,tmp))\n",
        "\n",
        "tmp = X_test[:,0]           # We know there are three columns\n",
        "tmp = np.power(tmp,1)\n",
        "tmp = tmp\n",
        "X_test_1=np.column_stack((X_test_1,tmp))\n",
        "\n",
        "tmp = X_test[:,1]           # We know there are three columns\n",
        "tmp = np.power(tmp,1)\n",
        "tmp = tmp\n",
        "X_test_1=np.column_stack((X_test_1,tmp))\n",
        "\n",
        "tmp = X_test[:,2]           # We know there are three columns\n",
        "tmp = np.power(tmp,1)\n",
        "tmp = tmp\n",
        "X_test_1=np.column_stack((X_test_1,tmp))\n",
        "\n",
        "tmp = np.multiply(X_test[:,0],X_test[:,1])           # We know there are three columns\n",
        "X_test_1=np.column_stack((X_test_1,tmp))\n",
        "\n",
        "tmp = np.multiply(X_test[:,1],X_test[:,2])           # We know there are three columns\n",
        "X_test_1=np.column_stack((X_test_1,tmp))\n",
        "\n",
        "tmp = np.multiply(X_test[:,2],X_test[:,0])           # We know there are three columns\n",
        "X_test_1=np.column_stack((X_test_1,tmp))\n",
        "\n",
        "tmp = np.multiply(X_test[:,0],X_test[:,1])           # We know there are three columns\n",
        "tmp = np.multiply(X_test[:,2],tmp)\n",
        "X_test_1=np.column_stack((X_test_1,tmp))\n",
        "\n",
        "tmp = X_test[:,0]           # e^X0\n",
        "tmp = np.sin(tmp)\n",
        "tmp = tmp\n",
        "X_test_1=np.column_stack((X_test_1,tmp))\n",
        "\n",
        "tmp = X_test[:,1]           # sin X1\n",
        "tmp = np.sin(tmp)\n",
        "tmp = tmp\n",
        "X_test_1=np.column_stack((X_test_1,tmp))\n",
        "\n",
        "tmp = X_test[:,2]           # sin X2\n",
        "tmp = np.sin(tmp)\n",
        "tmp = tmp\n",
        "X_test_1=np.column_stack((X_test_1,tmp))\n",
        "\n",
        "tmp = X_test[:,0]           # cos X0\n",
        "tmp = np.cos(tmp)\n",
        "tmp = tmp\n",
        "X_test_1=np.column_stack((X_test_1,tmp))\n",
        "\n",
        "tmp = X_test[:,1]           # cos X1\n",
        "tmp = np.cos(tmp)\n",
        "tmp = tmp\n",
        "X_test_1=np.column_stack((X_test_1,tmp))\n",
        "\n",
        "tmp = X_test[:,2]           # cos X2\n",
        "tmp = np.cos(tmp)\n",
        "tmp = tmp\n",
        "X_test_1=np.column_stack((X_test_1,tmp))"
      ],
      "metadata": {
        "id": "r0AExaOmuf8s"
      },
      "execution_count": null,
      "outputs": []
    },
    {
      "cell_type": "code",
      "source": [
        "# Creating augmented data matrix\n",
        "tmp = np.ones((X_test_1.shape[0],1))\n",
        "X_test_1=np.column_stack((X_test_1,tmp))\n",
        "X_test_1.shape"
      ],
      "metadata": {
        "colab": {
          "base_uri": "https://localhost:8080/"
        },
        "outputId": "923851ba-9b99-40bd-a918-6e6f4dc4528a",
        "id": "6sk1oSNJuf8t"
      },
      "execution_count": null,
      "outputs": [
        {
          "output_type": "execute_result",
          "data": {
            "text/plain": [
              "(5000, 17)"
            ]
          },
          "metadata": {},
          "execution_count": 110
        }
      ]
    },
    {
      "cell_type": "code",
      "source": [
        "#MSE on train dataset\n",
        "loss =(np.linalg.norm(X_test_1@W-Y_test_1))**2\n",
        "MSE = loss/X_test.shape[0]\n",
        "print('The Mean squared error loss is: ',MSE)"
      ],
      "metadata": {
        "colab": {
          "base_uri": "https://localhost:8080/"
        },
        "outputId": "d8c9e4e9-f1df-400d-902a-cd8cf8b5b53b",
        "id": "rA-w1PFSuf8t"
      },
      "execution_count": null,
      "outputs": [
        {
          "output_type": "stream",
          "name": "stdout",
          "text": [
            "The Mean squared error loss is:  28.56399813215441\n"
          ]
        }
      ]
    },
    {
      "cell_type": "code",
      "source": [
        "loss = 0\n",
        "for i in range(X_test_1.shape[0]):\n",
        "  tmp = X_test_1[i,:]\n",
        "  tmp = tmp.reshape((tmp.shape[0],1))\n",
        "  tmp=tmp.T\n",
        "  loss = loss + abs(tmp@W-Y_test_1[i][0])\n",
        "MAE = loss/X_test_1.shape[0]\n",
        "print('Mean Absolute error is:',MAE)"
      ],
      "metadata": {
        "colab": {
          "base_uri": "https://localhost:8080/"
        },
        "outputId": "3e10caf7-e581-4b75-ea38-5095a088e189",
        "id": "EryvewSwuf8t"
      },
      "execution_count": null,
      "outputs": [
        {
          "output_type": "stream",
          "name": "stdout",
          "text": [
            "Mean Absolute error is: [[3.86481134]]\n"
          ]
        }
      ]
    },
    {
      "cell_type": "code",
      "source": [
        "Y_pred = X_test_1@W #Y predicted"
      ],
      "metadata": {
        "id": "LCIiq_xAVkPx"
      },
      "execution_count": null,
      "outputs": []
    },
    {
      "cell_type": "code",
      "source": [
        "from scipy import stats\n",
        "t,p_val = stats.ttest_ind(Y_pred,Y_test_1)"
      ],
      "metadata": {
        "id": "57eqV7PGVkPx"
      },
      "execution_count": null,
      "outputs": []
    },
    {
      "cell_type": "code",
      "source": [
        "print('The P-value is:',p_val[0])"
      ],
      "metadata": {
        "colab": {
          "base_uri": "https://localhost:8080/"
        },
        "outputId": "d421e851-c096-47c3-c26d-7bd32de260c1",
        "id": "02-rhCgeVkPx"
      },
      "execution_count": null,
      "outputs": [
        {
          "output_type": "stream",
          "name": "stdout",
          "text": [
            "The P-value is: 0.5405053020975641\n"
          ]
        }
      ]
    }
  ]
}