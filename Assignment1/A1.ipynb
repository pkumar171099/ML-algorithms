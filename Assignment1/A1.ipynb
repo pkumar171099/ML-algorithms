{
  "nbformat": 4,
  "nbformat_minor": 0,
  "metadata": {
    "colab": {
      "provenance": [],
      "collapsed_sections": [
        "zyqr6IhAmYPx",
        "baek659_R7tL",
        "x7xgqW18nLAk",
        "BD6WLxk7U_32",
        "TG-88xU-nqry",
        "99K9_VXC0PZR",
        "Nf0PQJQTuvqH",
        "0KBqMiKaw2y1",
        "vEpxK112GMhk",
        "QSshari5guyd",
        "vPtYRAz20WWG",
        "SkA2-9it1Bg4",
        "5jh9yUAbEkSD",
        "O2ttDoLJ1f5y",
        "C3AG2AhQ2U9v",
        "0hEYegdoE0Xn",
        "NcUW8reBAXjk",
        "xijVzQdMAlFl",
        "fneWFEfGFOvY",
        "4iUxp3KDDjmP",
        "AaW0wqrhDjmS",
        "wqISgR3fG33w",
        "kOMTtUEGEbhT",
        "Jtqiz_2DEbhX",
        "u_ilk1yjHaKM",
        "tlmjpN7wE9Sd",
        "xfJOweLoE9Sg",
        "8pyB4nhoE9Sh",
        "XGlv4eeCIWrQ",
        "zC7R1pC8c274",
        "8iz29ul6Gqs4",
        "_b_xEshWvgb2",
        "-yuEVruAG1Lf",
        "R5hREEtrbe1w",
        "QbdmhABifFLO",
        "1MHPfpTwv57h",
        "Kk4be0D-hA0P",
        "BqbI1zBkhZXT",
        "75OE8zwVyhmv",
        "ABeAGo3Uhlxw",
        "qnxslrXWhlxz",
        "1i1KzaAzzfF9",
        "3wRhYjDshsrC",
        "aigd5ow9hsrF",
        "57k2PINR0IHS",
        "EXC0nxaKh1nz",
        "L4FFxoDwh1n1",
        "I8I71JVy0N_H",
        "wYhCboz8CBsa"
      ]
    },
    "kernelspec": {
      "name": "python3",
      "display_name": "Python 3"
    },
    "language_info": {
      "name": "python"
    }
  },
  "cells": [
    {
      "cell_type": "code",
      "execution_count": 1,
      "metadata": {
        "id": "oEPJYb3Yl_iJ"
      },
      "outputs": [],
      "source": [
        "import numpy as np\n",
        "import matplotlib.pyplot as plt"
      ]
    },
    {
      "cell_type": "code",
      "source": [
        "import math  # This library is to use normal math functions like exp,sin etc."
      ],
      "metadata": {
        "id": "Q7kF3SRXdYRW"
      },
      "execution_count": 2,
      "outputs": []
    },
    {
      "cell_type": "code",
      "source": [
        "# Mounting drive\n",
        "from google.colab import drive\n",
        "drive.mount('/content/drive')"
      ],
      "metadata": {
        "colab": {
          "base_uri": "https://localhost:8080/"
        },
        "id": "h6KcJckQm7eb",
        "outputId": "4650923f-7b2d-43af-b9a3-c0b8fbaacd86"
      },
      "execution_count": 3,
      "outputs": [
        {
          "output_type": "stream",
          "name": "stdout",
          "text": [
            "Drive already mounted at /content/drive; to attempt to forcibly remount, call drive.mount(\"/content/drive\", force_remount=True).\n"
          ]
        }
      ]
    },
    {
      "cell_type": "markdown",
      "source": [
        "# Q1"
      ],
      "metadata": {
        "id": "zyqr6IhAmYPx"
      }
    },
    {
      "cell_type": "markdown",
      "source": [
        "## Loading data"
      ],
      "metadata": {
        "id": "KN_awCO4Ot1j"
      }
    },
    {
      "cell_type": "code",
      "source": [
        "#below where the file is in gdrive, change with your\n",
        "data_path = \"/content/drive/MyDrive/Prnn/\"\n",
        "train_dataset = np.loadtxt(data_path + 'p1_train.csv', delimiter=',')\n",
        "test_dataset = np.loadtxt(data_path + 'p1_test.csv', delimiter=',')"
      ],
      "metadata": {
        "id": "6Uf0IFTfnDeo"
      },
      "execution_count": null,
      "outputs": []
    },
    {
      "cell_type": "code",
      "source": [
        "features = train_dataset.shape[1]-1 #2"
      ],
      "metadata": {
        "id": "WuVZapKYOx0u"
      },
      "execution_count": null,
      "outputs": []
    },
    {
      "cell_type": "code",
      "source": [
        "X_train = train_dataset[:,0:features]\n",
        "Y_train = train_dataset[:,features]\n",
        "Y_train = Y_train.reshape(Y_train.shape[0],1)"
      ],
      "metadata": {
        "id": "ciT6NmANO3HQ"
      },
      "execution_count": null,
      "outputs": []
    },
    {
      "cell_type": "code",
      "source": [
        "X_test = test_dataset[:,0:features]\n",
        "Y_test = test_dataset[:,features]\n",
        "Y_test = Y_test.reshape(Y_test.shape[0],1)"
      ],
      "metadata": {
        "id": "Uqdhad1zO3Kz"
      },
      "execution_count": null,
      "outputs": []
    },
    {
      "cell_type": "markdown",
      "source": [
        "## Training"
      ],
      "metadata": {
        "id": "h33lPpnyQYLm"
      }
    },
    {
      "cell_type": "code",
      "source": [
        "Y_train_1 = Y_train\n",
        "X_train_1 = X_train"
      ],
      "metadata": {
        "id": "3STPK9xBmUlc"
      },
      "execution_count": null,
      "outputs": []
    },
    {
      "cell_type": "code",
      "source": [
        "# Creating augmented data matrix\n",
        "tmp = np.ones((X_train_1.shape[0],1))\n",
        "X_train_1=np.column_stack((X_train_1,tmp))\n",
        "X_train_1.shape"
      ],
      "metadata": {
        "colab": {
          "base_uri": "https://localhost:8080/"
        },
        "id": "_PLOhGtQO3OO",
        "outputId": "5ac27a07-b67e-4268-897e-80b146c0e30d"
      },
      "execution_count": null,
      "outputs": [
        {
          "output_type": "execute_result",
          "data": {
            "text/plain": [
              "(10000, 3)"
            ]
          },
          "metadata": {},
          "execution_count": 226
        }
      ]
    },
    {
      "cell_type": "code",
      "source": [
        "# Creating augmented data matrix\n",
        "tmp = np.ones((X_test_1.shape[0],1))\n",
        "X_test_1=np.column_stack((X_test_1,tmp))\n",
        "X_test_1.shape"
      ],
      "metadata": {
        "colab": {
          "base_uri": "https://localhost:8080/"
        },
        "id": "htNScwA0R54P",
        "outputId": "5f30aa50-680d-4e32-f6a5-1a8907294609"
      },
      "execution_count": null,
      "outputs": [
        {
          "output_type": "execute_result",
          "data": {
            "text/plain": [
              "(5000, 19)"
            ]
          },
          "metadata": {},
          "execution_count": 227
        }
      ]
    },
    {
      "cell_type": "code",
      "source": [
        "W = (np.linalg.inv(X_train_1.T@X_train_1))@X_train_1.T@Y_train_1"
      ],
      "metadata": {
        "id": "KJechSBHPfUx"
      },
      "execution_count": null,
      "outputs": []
    },
    {
      "cell_type": "code",
      "source": [
        "W.shape"
      ],
      "metadata": {
        "colab": {
          "base_uri": "https://localhost:8080/"
        },
        "id": "y2kIQ-PvUL5g",
        "outputId": "9d742f0d-93c3-44ec-cc80-0c5bd5c896bd"
      },
      "execution_count": null,
      "outputs": [
        {
          "output_type": "execute_result",
          "data": {
            "text/plain": [
              "(3, 1)"
            ]
          },
          "metadata": {},
          "execution_count": 229
        }
      ]
    },
    {
      "cell_type": "code",
      "source": [
        "#MSE on train dataset\n",
        "loss =(np.linalg.norm(X_train_1@W-Y_train_1))**2\n",
        "MSE = loss/X_train.shape[0]\n",
        "print('The Mean squared error loss is: ',MSE)"
      ],
      "metadata": {
        "colab": {
          "base_uri": "https://localhost:8080/"
        },
        "id": "Ran0mOhSS78w",
        "outputId": "1339e315-f6b4-4465-9059-702b0caceeb2"
      },
      "execution_count": null,
      "outputs": [
        {
          "output_type": "stream",
          "name": "stdout",
          "text": [
            "The Mean squared error loss is:  5.059684615643717\n"
          ]
        }
      ]
    },
    {
      "cell_type": "code",
      "source": [
        "Y_pred = X_train_1@W #Y predicted"
      ],
      "metadata": {
        "id": "6wgpJr8kSIKc"
      },
      "execution_count": null,
      "outputs": []
    },
    {
      "cell_type": "code",
      "source": [
        "loss = 0\n",
        "for i in range(X_train_1.shape[0]):\n",
        "  tmp = X_train_1[i,:]\n",
        "  tmp = tmp.reshape((tmp.shape[0],1))\n",
        "  tmp=tmp.T\n",
        "  loss = loss + abs(tmp@W-Y_train_1[i][0])\n",
        "MAE = loss/X_train_1.shape[0]\n",
        "print('Mean Absolute error is:',MAE)"
      ],
      "metadata": {
        "colab": {
          "base_uri": "https://localhost:8080/"
        },
        "id": "iiw_BiMfThKg",
        "outputId": "9551fe05-8618-461a-aa60-abe5c2c8736c"
      },
      "execution_count": null,
      "outputs": [
        {
          "output_type": "stream",
          "name": "stdout",
          "text": [
            "Mean Absolute error is: [[1.79175321]]\n"
          ]
        }
      ]
    },
    {
      "cell_type": "code",
      "source": [
        "from scipy import stats  #only for finding p-value\n",
        "t,p_val = stats.ttest_ind(Y_pred,Y_train_1)"
      ],
      "metadata": {
        "id": "sYW9ILsCPzAU"
      },
      "execution_count": null,
      "outputs": []
    },
    {
      "cell_type": "code",
      "source": [
        "print('The P-value is:',p_val[0])"
      ],
      "metadata": {
        "colab": {
          "base_uri": "https://localhost:8080/"
        },
        "id": "Gm2lpktLSgHj",
        "outputId": "f2702178-10b0-48be-a6cf-26b27179b68e"
      },
      "execution_count": null,
      "outputs": [
        {
          "output_type": "stream",
          "name": "stdout",
          "text": [
            "The P-value is: 0.9999999999999991\n"
          ]
        }
      ]
    },
    {
      "cell_type": "markdown",
      "source": [
        "## Testing"
      ],
      "metadata": {
        "id": "baek659_R7tL"
      }
    },
    {
      "cell_type": "code",
      "source": [
        "Y_test_1 = Y_test\n",
        "X_test_1 = X_test"
      ],
      "metadata": {
        "id": "aNkn0N6kSAfx"
      },
      "execution_count": null,
      "outputs": []
    },
    {
      "cell_type": "code",
      "source": [
        "# Creating augmented data matrix\n",
        "tmp = np.ones((X_test_1.shape[0],1))\n",
        "X_test_1=np.column_stack((X_test_1,tmp))\n",
        "X_test_1.shape"
      ],
      "metadata": {
        "colab": {
          "base_uri": "https://localhost:8080/"
        },
        "id": "LNbBBaf-PfYV",
        "outputId": "a9c6960c-e964-49dd-fbd1-73b515e51814"
      },
      "execution_count": null,
      "outputs": [
        {
          "output_type": "execute_result",
          "data": {
            "text/plain": [
              "(5000, 3)"
            ]
          },
          "metadata": {},
          "execution_count": 236
        }
      ]
    },
    {
      "cell_type": "code",
      "source": [
        "#MSE on test dataset\n",
        "loss =(np.linalg.norm(X_test_1@W-Y_test_1))**2\n",
        "MSE = loss/X_test.shape[0]\n",
        "print('The Mean squared error loss is: ',MSE)"
      ],
      "metadata": {
        "colab": {
          "base_uri": "https://localhost:8080/"
        },
        "id": "cBCLrma_PfcY",
        "outputId": "86bcf1ea-d2c6-46bf-eb93-ab39fd1d91c6"
      },
      "execution_count": null,
      "outputs": [
        {
          "output_type": "stream",
          "name": "stdout",
          "text": [
            "The Mean squared error loss is:  5.046436003951254\n"
          ]
        }
      ]
    },
    {
      "cell_type": "code",
      "source": [
        "loss = 0\n",
        "for i in range(X_test_1.shape[0]):\n",
        "  tmp = X_test_1[i,:]\n",
        "  tmp = tmp.reshape((tmp.shape[0],1))\n",
        "  tmp=tmp.T\n",
        "  loss = loss + abs(tmp@W-Y_test_1[i][0])\n",
        "MAE = loss/X_train_1.shape[0]\n",
        "print('Mean Absolute error is:',MAE)"
      ],
      "metadata": {
        "colab": {
          "base_uri": "https://localhost:8080/"
        },
        "id": "gCWJbqcwPffy",
        "outputId": "3ab6fcc3-c805-4a4f-e1de-3f5faee63457"
      },
      "execution_count": null,
      "outputs": [
        {
          "output_type": "stream",
          "name": "stdout",
          "text": [
            "Mean Absolute error is: [[0.89954003]]\n"
          ]
        }
      ]
    },
    {
      "cell_type": "code",
      "source": [
        "Y_pred = X_test_1@W #Y predicted"
      ],
      "metadata": {
        "id": "T-aPwxi4TTlT"
      },
      "execution_count": null,
      "outputs": []
    },
    {
      "cell_type": "code",
      "source": [
        "from scipy import stats\n",
        "t,p_val = stats.ttest_ind(Y_pred,Y_test_1)"
      ],
      "metadata": {
        "id": "i3Xn4bypTTlU"
      },
      "execution_count": null,
      "outputs": []
    },
    {
      "cell_type": "code",
      "source": [
        "print('The P-value is:',p_val[0])"
      ],
      "metadata": {
        "colab": {
          "base_uri": "https://localhost:8080/"
        },
        "outputId": "8cf1ccb7-96fa-400a-e2a5-86f8c6116caa",
        "id": "7oVoLRx8TTlU"
      },
      "execution_count": null,
      "outputs": [
        {
          "output_type": "stream",
          "name": "stdout",
          "text": [
            "The P-value is: 0.9084780712932874\n"
          ]
        }
      ]
    },
    {
      "cell_type": "markdown",
      "source": [
        "# Q2"
      ],
      "metadata": {
        "id": "x7xgqW18nLAk"
      }
    },
    {
      "cell_type": "markdown",
      "source": [
        "## Importing data"
      ],
      "metadata": {
        "id": "BD6WLxk7U_32"
      }
    },
    {
      "cell_type": "code",
      "source": [
        "#below where the file is in gdrive, change with your\n",
        "data_path = \"/content/drive/MyDrive/Prnn/\"\n",
        "train_dataset = np.loadtxt(data_path + 'p2_train.csv', delimiter=',')\n",
        "test_dataset = np.loadtxt(data_path + 'p2_test.csv', delimiter=',')"
      ],
      "metadata": {
        "id": "oX3zMq0OnMKT"
      },
      "execution_count": null,
      "outputs": []
    },
    {
      "cell_type": "code",
      "source": [
        "features = train_dataset.shape[1]-1 #2"
      ],
      "metadata": {
        "id": "8pztOZieVCwI"
      },
      "execution_count": null,
      "outputs": []
    },
    {
      "cell_type": "code",
      "source": [
        "X_train = train_dataset[:,0:features]\n",
        "Y_train = train_dataset[:,features]\n",
        "Y_train = Y_train.reshape(Y_train.shape[0],1)"
      ],
      "metadata": {
        "id": "yDqTGO9IVCzs"
      },
      "execution_count": null,
      "outputs": []
    },
    {
      "cell_type": "code",
      "source": [
        "X_test = test_dataset[:,0:features]\n",
        "Y_test = test_dataset[:,features]\n",
        "Y_test = Y_test.reshape(Y_test.shape[0],1)"
      ],
      "metadata": {
        "id": "Ygjf5ZkLVC3K"
      },
      "execution_count": null,
      "outputs": []
    },
    {
      "cell_type": "markdown",
      "source": [
        "## (i) Polynomial Function"
      ],
      "metadata": {
        "id": "qXDQztXWWqJK"
      }
    },
    {
      "cell_type": "code",
      "source": [
        "Y_train_1 = Y_train\n",
        "X_train_1 = X_train"
      ],
      "metadata": {
        "id": "KRVpBnTvVC6q"
      },
      "execution_count": null,
      "outputs": []
    },
    {
      "cell_type": "code",
      "source": [
        "Y_train_1 =100* Y_train_1/Y_train_1.max() # Normalizing Y labels"
      ],
      "metadata": {
        "id": "9GAn-Jg0VI1u"
      },
      "execution_count": null,
      "outputs": []
    },
    {
      "cell_type": "code",
      "source": [
        "X_train_1 = np.power(X_train[:,0],2)     # X0^2\n",
        "X_train_1 = X_train_1.reshape((X_train_1.shape[0],1))\n",
        "\n",
        "tmp = X_train[:,1]           # X1^2\n",
        "tmp = np.power(tmp,2)\n",
        "tmp = tmp\n",
        "X_train_1=np.column_stack((X_train_1,tmp))\n",
        "\n",
        "tmp = X_train[:,2]           # X2^2\n",
        "tmp = np.power(tmp,2)\n",
        "tmp = tmp\n",
        "X_train_1=np.column_stack((X_train_1,tmp))\n",
        "\n",
        "tmp = X_train[:,0]           # X0\n",
        "tmp = np.power(tmp,1)\n",
        "tmp = tmp\n",
        "X_train_1=np.column_stack((X_train_1,tmp))\n",
        "\n",
        "tmp = X_train[:,1]           # X1\n",
        "tmp = np.power(tmp,1)\n",
        "tmp = tmp\n",
        "X_train_1=np.column_stack((X_train_1,tmp))\n",
        "\n",
        "\n",
        "tmp = X_train[:,2]           # X2\n",
        "tmp = np.power(tmp,1)\n",
        "tmp = tmp\n",
        "X_train_1=np.column_stack((X_train_1,tmp))\n",
        "\n",
        "tmp = np.multiply(X_train[:,0],X_train[:,1])           # X0*X1\n",
        "X_train_1=np.column_stack((X_train_1,tmp))\n",
        "\n",
        "tmp = np.multiply(X_train[:,1],X_train[:,2])           # X1*X2\n",
        "X_train_1=np.column_stack((X_train_1,tmp))\n",
        "\n",
        "tmp = np.multiply(X_train[:,2],X_train[:,0])           # X2*X0\n",
        "X_train_1=np.column_stack((X_train_1,tmp))\n",
        "\n",
        "tmp = np.multiply(X_train[:,0],X_train[:,1])           # X0*X1*X2\n",
        "tmp = np.multiply(X_train[:,2],tmp)\n",
        "X_train_1=np.column_stack((X_train_1,tmp))"
      ],
      "metadata": {
        "id": "Mtvsh3s4XS1q"
      },
      "execution_count": null,
      "outputs": []
    },
    {
      "cell_type": "code",
      "source": [
        "X_train_1.shape"
      ],
      "metadata": {
        "colab": {
          "base_uri": "https://localhost:8080/"
        },
        "id": "DFpQuBdhYPHx",
        "outputId": "566a8926-7fa5-480e-b4e1-5315e9ffae6d"
      },
      "execution_count": null,
      "outputs": [
        {
          "output_type": "execute_result",
          "data": {
            "text/plain": [
              "(10000, 10)"
            ]
          },
          "metadata": {},
          "execution_count": 52
        }
      ]
    },
    {
      "cell_type": "code",
      "source": [
        "# Creating augmented data matrix\n",
        "tmp = np.ones((X_train_1.shape[0],1))\n",
        "X_train_1=np.column_stack((X_train_1,tmp))\n",
        "X_train_1.shape"
      ],
      "metadata": {
        "colab": {
          "base_uri": "https://localhost:8080/"
        },
        "id": "dN54Kw7FYQHG",
        "outputId": "f61dfe60-356e-4bc1-9f7b-7b5a1060a1bb"
      },
      "execution_count": null,
      "outputs": [
        {
          "output_type": "execute_result",
          "data": {
            "text/plain": [
              "(10000, 11)"
            ]
          },
          "metadata": {},
          "execution_count": 53
        }
      ]
    },
    {
      "cell_type": "markdown",
      "source": [
        "### Training"
      ],
      "metadata": {
        "id": "5yQDNTYYXQzP"
      }
    },
    {
      "cell_type": "code",
      "source": [
        "W = (np.linalg.inv(X_train_1.T@X_train_1))@X_train_1.T@Y_train_1 # Optimal point"
      ],
      "metadata": {
        "id": "tK-EVGTJVI5P"
      },
      "execution_count": null,
      "outputs": []
    },
    {
      "cell_type": "code",
      "source": [
        "#MSE on train dataset\n",
        "loss =(np.linalg.norm(X_train_1@W-Y_train_1))**2\n",
        "MSE = loss/X_train.shape[0]\n",
        "print('The Mean squared error loss is: ',MSE)"
      ],
      "metadata": {
        "colab": {
          "base_uri": "https://localhost:8080/"
        },
        "id": "ZsJ1io9gYcE2",
        "outputId": "59c122ae-0f94-4b06-a2ba-b64d9a368f6c"
      },
      "execution_count": null,
      "outputs": [
        {
          "output_type": "stream",
          "name": "stdout",
          "text": [
            "The Mean squared error loss is:  30.04779438717615\n"
          ]
        }
      ]
    },
    {
      "cell_type": "code",
      "source": [
        "loss = 0\n",
        "for i in range(X_train_1.shape[0]):\n",
        "  tmp = X_train_1[i,:]\n",
        "  tmp = tmp.reshape((tmp.shape[0],1))\n",
        "  tmp=tmp.T\n",
        "  loss = loss + abs(tmp@W-Y_train_1[i][0])\n",
        "MAE = loss/X_train_1.shape[0]\n",
        "print('Mean Absolute error is:',MAE)"
      ],
      "metadata": {
        "colab": {
          "base_uri": "https://localhost:8080/"
        },
        "id": "8XTGTEu_YcJE",
        "outputId": "37106822-d176-48f0-cad0-081370bd4c7c"
      },
      "execution_count": null,
      "outputs": [
        {
          "output_type": "stream",
          "name": "stdout",
          "text": [
            "Mean Absolute error is: [[4.14377048]]\n"
          ]
        }
      ]
    },
    {
      "cell_type": "code",
      "source": [
        "Y_pred = X_train_1@W #Y predicted"
      ],
      "metadata": {
        "id": "RFZpTB_6UnWt"
      },
      "execution_count": null,
      "outputs": []
    },
    {
      "cell_type": "code",
      "source": [
        "from scipy import stats\n",
        "t,p_val = stats.ttest_ind(Y_pred,Y_train_1)"
      ],
      "metadata": {
        "id": "r9JD2wXTUnWu"
      },
      "execution_count": null,
      "outputs": []
    },
    {
      "cell_type": "code",
      "source": [
        "print('The P-value is:',p_val[0])"
      ],
      "metadata": {
        "colab": {
          "base_uri": "https://localhost:8080/"
        },
        "outputId": "a69ff291-3869-498b-c6ec-491935114a1d",
        "id": "1UcTjEVPUnWu"
      },
      "execution_count": null,
      "outputs": [
        {
          "output_type": "stream",
          "name": "stdout",
          "text": [
            "The P-value is: 0.9999999999999908\n"
          ]
        }
      ]
    },
    {
      "cell_type": "markdown",
      "source": [
        "### Testing"
      ],
      "metadata": {
        "id": "mAlaABI_pGay"
      }
    },
    {
      "cell_type": "code",
      "source": [
        "Y_test_1 = Y_test\n",
        "X_test_1 = X_test"
      ],
      "metadata": {
        "id": "hWHD8f4op51D"
      },
      "execution_count": null,
      "outputs": []
    },
    {
      "cell_type": "code",
      "source": [
        "Y_test_1 = 100 * Y_test_1/Y_test_1.max() # Normalizing Y labels"
      ],
      "metadata": {
        "id": "sK6PQvCnqCEu"
      },
      "execution_count": null,
      "outputs": []
    },
    {
      "cell_type": "code",
      "source": [
        "X_test_1 = np.power(X_test[:,0],2)\n",
        "X_test_1 = X_test_1.reshape((X_test_1.shape[0],1))\n",
        "\n",
        "tmp = X_test[:,1]           # We know there are three columns\n",
        "tmp = np.power(tmp,2)\n",
        "tmp = tmp\n",
        "X_test_1=np.column_stack((X_test_1,tmp))\n",
        "\n",
        "tmp = X_test[:,2]           # We know there are three columns\n",
        "tmp = np.power(tmp,2)\n",
        "tmp = tmp\n",
        "X_test_1=np.column_stack((X_test_1,tmp))\n",
        "\n",
        "tmp = X_test[:,0]           # We know there are three columns\n",
        "tmp = np.power(tmp,1)\n",
        "tmp = tmp\n",
        "X_test_1=np.column_stack((X_test_1,tmp))\n",
        "\n",
        "tmp = X_test[:,1]           # We know there are three columns\n",
        "tmp = np.power(tmp,1)\n",
        "tmp = tmp\n",
        "X_test_1=np.column_stack((X_test_1,tmp))\n",
        "\n",
        "tmp = X_test[:,2]           # We know there are three columns\n",
        "tmp = np.power(tmp,1)\n",
        "tmp = tmp\n",
        "X_test_1=np.column_stack((X_test_1,tmp))\n",
        "\n",
        "tmp = np.multiply(X_test[:,0],X_test[:,1])           # We know there are three columns\n",
        "X_test_1=np.column_stack((X_test_1,tmp))\n",
        "\n",
        "tmp = np.multiply(X_test[:,1],X_test[:,2])           # We know there are three columns\n",
        "X_test_1=np.column_stack((X_test_1,tmp))\n",
        "\n",
        "tmp = np.multiply(X_test[:,2],X_test[:,0])           # We know there are three columns\n",
        "X_test_1=np.column_stack((X_test_1,tmp))\n",
        "\n",
        "tmp = np.multiply(X_test[:,0],X_test[:,1])           # We know there are three columns\n",
        "tmp = np.multiply(X_test[:,2],tmp)\n",
        "X_test_1=np.column_stack((X_test_1,tmp))\n"
      ],
      "metadata": {
        "id": "6O1dkb7NYcNQ"
      },
      "execution_count": null,
      "outputs": []
    },
    {
      "cell_type": "code",
      "source": [
        "# Creating augmented data matrix\n",
        "tmp = np.ones((X_test_1.shape[0],1))\n",
        "X_test_1=np.column_stack((X_test_1,tmp))\n",
        "X_test_1.shape"
      ],
      "metadata": {
        "colab": {
          "base_uri": "https://localhost:8080/"
        },
        "id": "gUQ33U4trRNm",
        "outputId": "3e40b33e-d2e6-42e5-9911-f42a9a0d4120"
      },
      "execution_count": null,
      "outputs": [
        {
          "output_type": "execute_result",
          "data": {
            "text/plain": [
              "(5000, 11)"
            ]
          },
          "metadata": {},
          "execution_count": 65
        }
      ]
    },
    {
      "cell_type": "code",
      "source": [
        "#MSE on train dataset\n",
        "loss =(np.linalg.norm(X_test_1@W-Y_test_1))**2\n",
        "MSE = loss/X_test.shape[0]\n",
        "print('The Mean squared error loss is: ',MSE)"
      ],
      "metadata": {
        "colab": {
          "base_uri": "https://localhost:8080/"
        },
        "outputId": "c545a2f0-8482-4fe5-8227-6ac6f4badda8",
        "id": "HzfrTfNZq7gl"
      },
      "execution_count": null,
      "outputs": [
        {
          "output_type": "stream",
          "name": "stdout",
          "text": [
            "The Mean squared error loss is:  33.192819326441374\n"
          ]
        }
      ]
    },
    {
      "cell_type": "code",
      "source": [
        "loss = 0\n",
        "for i in range(X_test_1.shape[0]):\n",
        "  tmp = X_test_1[i,:]\n",
        "  tmp = tmp.reshape((tmp.shape[0],1))\n",
        "  tmp=tmp.T\n",
        "  loss = loss + abs(tmp@W-Y_test_1[i][0])\n",
        "MAE = loss/X_test_1.shape[0]\n",
        "print('Mean Absolute error is:',MAE)"
      ],
      "metadata": {
        "colab": {
          "base_uri": "https://localhost:8080/"
        },
        "outputId": "14909aa3-5acc-47fa-ae14-82e708be09c3",
        "id": "177Bf9rSq7gn"
      },
      "execution_count": null,
      "outputs": [
        {
          "output_type": "stream",
          "name": "stdout",
          "text": [
            "Mean Absolute error is: [[4.2934914]]\n"
          ]
        }
      ]
    },
    {
      "cell_type": "code",
      "source": [
        "Y_pred = X_test_1@W #Y predicted"
      ],
      "metadata": {
        "id": "po-_04yyU17O"
      },
      "execution_count": null,
      "outputs": []
    },
    {
      "cell_type": "code",
      "source": [
        "from scipy import stats\n",
        "t,p_val = stats.ttest_ind(Y_pred,Y_test_1)"
      ],
      "metadata": {
        "id": "YTzLvBDUU17O"
      },
      "execution_count": null,
      "outputs": []
    },
    {
      "cell_type": "code",
      "source": [
        "print('The P-value is:',p_val[0])"
      ],
      "metadata": {
        "colab": {
          "base_uri": "https://localhost:8080/"
        },
        "outputId": "eea23dcb-4ace-4247-a34a-17a538a153ab",
        "id": "VfatE9iiU17O"
      },
      "execution_count": null,
      "outputs": [
        {
          "output_type": "stream",
          "name": "stdout",
          "text": [
            "The P-value is: 0.6194277413529656\n"
          ]
        }
      ]
    },
    {
      "cell_type": "markdown",
      "source": [
        "## (ii) exponential Function"
      ],
      "metadata": {
        "id": "E3dUHJJ9riGL"
      }
    },
    {
      "cell_type": "code",
      "source": [
        "Y_train_1 = Y_train\n",
        "X_train_1 = X_train"
      ],
      "metadata": {
        "id": "gtlfQQ-TriGL"
      },
      "execution_count": null,
      "outputs": []
    },
    {
      "cell_type": "code",
      "source": [
        "Y_train_1 =100* Y_train_1/Y_train_1.max() # Normalizing Y labels"
      ],
      "metadata": {
        "id": "3Oibh1EMriGM"
      },
      "execution_count": null,
      "outputs": []
    },
    {
      "cell_type": "code",
      "source": [
        "X_train_1 = np.power(X_train[:,0],2)     # X0^2\n",
        "X_train_1 = X_train_1.reshape((X_train_1.shape[0],1))\n",
        "\n",
        "tmp = X_train[:,1]           # X1^2\n",
        "tmp = np.power(tmp,2)\n",
        "tmp = tmp\n",
        "X_train_1=np.column_stack((X_train_1,tmp))\n",
        "\n",
        "tmp = X_train[:,2]           # X2^2\n",
        "tmp = np.power(tmp,2)\n",
        "tmp = tmp\n",
        "X_train_1=np.column_stack((X_train_1,tmp))\n",
        "\n",
        "tmp = X_train[:,0]           # X0\n",
        "tmp = np.power(tmp,1)\n",
        "tmp = tmp\n",
        "X_train_1=np.column_stack((X_train_1,tmp))\n",
        "\n",
        "tmp = X_train[:,1]           # X1\n",
        "tmp = np.power(tmp,1)\n",
        "tmp = tmp\n",
        "X_train_1=np.column_stack((X_train_1,tmp))\n",
        "\n",
        "\n",
        "tmp = X_train[:,2]           # X2\n",
        "tmp = np.power(tmp,1)\n",
        "tmp = tmp\n",
        "X_train_1=np.column_stack((X_train_1,tmp))\n",
        "\n",
        "tmp = np.multiply(X_train[:,0],X_train[:,1])           # X0*X1\n",
        "X_train_1=np.column_stack((X_train_1,tmp))\n",
        "\n",
        "tmp = np.multiply(X_train[:,1],X_train[:,2])           # X1*X2\n",
        "X_train_1=np.column_stack((X_train_1,tmp))\n",
        "\n",
        "tmp = np.multiply(X_train[:,2],X_train[:,0])           # X2*X0\n",
        "X_train_1=np.column_stack((X_train_1,tmp))\n",
        "\n",
        "tmp = np.multiply(X_train[:,0],X_train[:,1])           # X0*X1*X2\n",
        "tmp = np.multiply(X_train[:,2],tmp)\n",
        "X_train_1=np.column_stack((X_train_1,tmp))\n",
        "\n",
        "tmp = X_train[:,0]           # e^X0\n",
        "tmp = np.exp(tmp)\n",
        "tmp = tmp\n",
        "X_train_1=np.column_stack((X_train_1,tmp))\n",
        "\n",
        "tmp = X_train[:,1]           # e^X1\n",
        "tmp = np.exp(tmp)\n",
        "tmp = tmp\n",
        "X_train_1=np.column_stack((X_train_1,tmp))\n",
        "\n",
        "tmp = X_train[:,2]           # e^X2\n",
        "tmp = np.exp(tmp)\n",
        "tmp = tmp\n",
        "X_train_1=np.column_stack((X_train_1,tmp))"
      ],
      "metadata": {
        "id": "efWOH_mgriGM"
      },
      "execution_count": null,
      "outputs": []
    },
    {
      "cell_type": "code",
      "source": [
        "X_train_1.shape"
      ],
      "metadata": {
        "colab": {
          "base_uri": "https://localhost:8080/"
        },
        "outputId": "ebe54e23-9d86-42bd-df6a-47fbcd192e27",
        "id": "P4KqZtzDriGM"
      },
      "execution_count": null,
      "outputs": [
        {
          "output_type": "execute_result",
          "data": {
            "text/plain": [
              "(10000, 13)"
            ]
          },
          "metadata": {},
          "execution_count": 74
        }
      ]
    },
    {
      "cell_type": "code",
      "source": [
        "# Creating augmented data matrix\n",
        "tmp = np.ones((X_train_1.shape[0],1))\n",
        "X_train_1=np.column_stack((X_train_1,tmp))\n",
        "X_train_1.shape"
      ],
      "metadata": {
        "colab": {
          "base_uri": "https://localhost:8080/"
        },
        "outputId": "8a0403ff-50f2-4bcd-9ac0-af8a650d6c3c",
        "id": "qV2o9csLriGN"
      },
      "execution_count": null,
      "outputs": [
        {
          "output_type": "execute_result",
          "data": {
            "text/plain": [
              "(10000, 14)"
            ]
          },
          "metadata": {},
          "execution_count": 75
        }
      ]
    },
    {
      "cell_type": "markdown",
      "source": [
        "### Training"
      ],
      "metadata": {
        "id": "bwXujth5riGN"
      }
    },
    {
      "cell_type": "code",
      "source": [
        "W = (np.linalg.inv(X_train_1.T@X_train_1))@X_train_1.T@Y_train_1 # Optimal point"
      ],
      "metadata": {
        "id": "PPC0mCy_riGN"
      },
      "execution_count": null,
      "outputs": []
    },
    {
      "cell_type": "code",
      "source": [
        "#MSE on train dataset\n",
        "loss =(np.linalg.norm(X_train_1@W-Y_train_1))**2\n",
        "MSE = loss/X_train.shape[0]\n",
        "print('The Mean squared error loss is: ',MSE)"
      ],
      "metadata": {
        "colab": {
          "base_uri": "https://localhost:8080/"
        },
        "outputId": "30211893-2c76-43ab-b5f5-33d5e5c07cc2",
        "id": "oqJUSl8jriGO"
      },
      "execution_count": null,
      "outputs": [
        {
          "output_type": "stream",
          "name": "stdout",
          "text": [
            "The Mean squared error loss is:  19.211556652698473\n"
          ]
        }
      ]
    },
    {
      "cell_type": "code",
      "source": [
        "loss = 0\n",
        "for i in range(X_train_1.shape[0]):\n",
        "  tmp = X_train_1[i,:]\n",
        "  tmp = tmp.reshape((tmp.shape[0],1))\n",
        "  tmp=tmp.T\n",
        "  loss = loss + abs(tmp@W-Y_train_1[i][0])\n",
        "MAE = loss/X_train_1.shape[0]\n",
        "print('Mean Absolute error is:',MAE)"
      ],
      "metadata": {
        "colab": {
          "base_uri": "https://localhost:8080/"
        },
        "outputId": "d78c0b99-5ee1-459c-955f-dbbf96b5ac5a",
        "id": "aE0abeo5riGO"
      },
      "execution_count": null,
      "outputs": [
        {
          "output_type": "stream",
          "name": "stdout",
          "text": [
            "Mean Absolute error is: [[3.12863929]]\n"
          ]
        }
      ]
    },
    {
      "cell_type": "code",
      "source": [
        "Y_pred = X_train_1@W #Y predicted"
      ],
      "metadata": {
        "id": "2eE9ilu_VNgc"
      },
      "execution_count": null,
      "outputs": []
    },
    {
      "cell_type": "code",
      "source": [
        "from scipy import stats\n",
        "t,p_val = stats.ttest_ind(Y_pred,Y_train_1)"
      ],
      "metadata": {
        "id": "5SQOS3Y8VNgd"
      },
      "execution_count": null,
      "outputs": []
    },
    {
      "cell_type": "code",
      "source": [
        "print('The P-value is:',p_val[0])"
      ],
      "metadata": {
        "colab": {
          "base_uri": "https://localhost:8080/"
        },
        "outputId": "5b96106e-7d6a-41b9-9ee8-671f4513d389",
        "id": "kBTqC4_bVNgd"
      },
      "execution_count": null,
      "outputs": [
        {
          "output_type": "stream",
          "name": "stdout",
          "text": [
            "The P-value is: 0.9999999999999278\n"
          ]
        }
      ]
    },
    {
      "cell_type": "markdown",
      "source": [
        "### Testing"
      ],
      "metadata": {
        "id": "mhOIsQRpriGO"
      }
    },
    {
      "cell_type": "code",
      "source": [
        "Y_test_1 = Y_test\n",
        "X_test_1 = X_test"
      ],
      "metadata": {
        "id": "6XlKWsfSriGP"
      },
      "execution_count": null,
      "outputs": []
    },
    {
      "cell_type": "code",
      "source": [
        "Y_test_1 = 100 * Y_test_1/Y_test_1.max() # Normalizing Y labels"
      ],
      "metadata": {
        "id": "WQscpIO8riGP"
      },
      "execution_count": null,
      "outputs": []
    },
    {
      "cell_type": "code",
      "source": [
        "X_test_1 = np.power(X_test[:,0],2)\n",
        "X_test_1 = X_test_1.reshape((X_test_1.shape[0],1))\n",
        "\n",
        "tmp = X_test[:,1]           # We know there are three columns\n",
        "tmp = np.power(tmp,2)\n",
        "tmp = tmp\n",
        "X_test_1=np.column_stack((X_test_1,tmp))\n",
        "\n",
        "tmp = X_test[:,2]           # We know there are three columns\n",
        "tmp = np.power(tmp,2)\n",
        "tmp = tmp\n",
        "X_test_1=np.column_stack((X_test_1,tmp))\n",
        "\n",
        "tmp = X_test[:,0]           # We know there are three columns\n",
        "tmp = np.power(tmp,1)\n",
        "tmp = tmp\n",
        "X_test_1=np.column_stack((X_test_1,tmp))\n",
        "\n",
        "tmp = X_test[:,1]           # We know there are three columns\n",
        "tmp = np.power(tmp,1)\n",
        "tmp = tmp\n",
        "X_test_1=np.column_stack((X_test_1,tmp))\n",
        "\n",
        "tmp = X_test[:,2]           # We know there are three columns\n",
        "tmp = np.power(tmp,1)\n",
        "tmp = tmp\n",
        "X_test_1=np.column_stack((X_test_1,tmp))\n",
        "\n",
        "tmp = np.multiply(X_test[:,0],X_test[:,1])           # We know there are three columns\n",
        "X_test_1=np.column_stack((X_test_1,tmp))\n",
        "\n",
        "tmp = np.multiply(X_test[:,1],X_test[:,2])           # We know there are three columns\n",
        "X_test_1=np.column_stack((X_test_1,tmp))\n",
        "\n",
        "tmp = np.multiply(X_test[:,2],X_test[:,0])           # We know there are three columns\n",
        "X_test_1=np.column_stack((X_test_1,tmp))\n",
        "\n",
        "tmp = np.multiply(X_test[:,0],X_test[:,1])           # We know there are three columns\n",
        "tmp = np.multiply(X_test[:,2],tmp)\n",
        "X_test_1=np.column_stack((X_test_1,tmp))\n",
        "\n",
        "tmp = X_test[:,0]           # e^X0\n",
        "tmp = np.exp(tmp)\n",
        "tmp = tmp\n",
        "X_test_1=np.column_stack((X_test_1,tmp))\n",
        "\n",
        "tmp = X_test[:,1]           # e^X1\n",
        "tmp = np.exp(tmp)\n",
        "tmp = tmp\n",
        "X_test_1=np.column_stack((X_test_1,tmp))\n",
        "\n",
        "tmp = X_test[:,2]           # e^X2\n",
        "tmp = np.exp(tmp)\n",
        "tmp = tmp\n",
        "X_test_1=np.column_stack((X_test_1,tmp))\n"
      ],
      "metadata": {
        "id": "bRPxZM1kriGP"
      },
      "execution_count": null,
      "outputs": []
    },
    {
      "cell_type": "code",
      "source": [
        "# Creating augmented data matrix\n",
        "tmp = np.ones((X_test_1.shape[0],1))\n",
        "X_test_1=np.column_stack((X_test_1,tmp))\n",
        "X_test_1.shape"
      ],
      "metadata": {
        "colab": {
          "base_uri": "https://localhost:8080/"
        },
        "outputId": "ce01a1fe-a1eb-499d-a177-813290523b33",
        "id": "Nj0AW2BSriGQ"
      },
      "execution_count": null,
      "outputs": [
        {
          "output_type": "execute_result",
          "data": {
            "text/plain": [
              "(5000, 14)"
            ]
          },
          "metadata": {},
          "execution_count": 90
        }
      ]
    },
    {
      "cell_type": "code",
      "source": [
        "#MSE on train dataset\n",
        "loss =(np.linalg.norm(X_test_1@W-Y_test_1))**2\n",
        "MSE = loss/X_test.shape[0]\n",
        "print('The Mean squared error loss is: ',MSE)"
      ],
      "metadata": {
        "colab": {
          "base_uri": "https://localhost:8080/"
        },
        "outputId": "99a4d874-4101-4ef3-9229-7136d51c41d8",
        "id": "wilw5KSrriGQ"
      },
      "execution_count": null,
      "outputs": [
        {
          "output_type": "stream",
          "name": "stdout",
          "text": [
            "The Mean squared error loss is:  21.463496330688425\n"
          ]
        }
      ]
    },
    {
      "cell_type": "code",
      "source": [
        "loss = 0\n",
        "for i in range(X_test_1.shape[0]):\n",
        "  tmp = X_test_1[i,:]\n",
        "  tmp = tmp.reshape((tmp.shape[0],1))\n",
        "  tmp=tmp.T\n",
        "  loss = loss + abs(tmp@W-Y_test_1[i][0])\n",
        "MAE = loss/X_test_1.shape[0]\n",
        "print('Mean Absolute error is:',MAE)"
      ],
      "metadata": {
        "colab": {
          "base_uri": "https://localhost:8080/"
        },
        "outputId": "6981a35d-49bc-4069-b5a1-fb11615773eb",
        "id": "GF8WylCIriGQ"
      },
      "execution_count": null,
      "outputs": [
        {
          "output_type": "stream",
          "name": "stdout",
          "text": [
            "Mean Absolute error is: [[3.29764013]]\n"
          ]
        }
      ]
    },
    {
      "cell_type": "code",
      "source": [
        "Y_pred = X_test_1@W #Y predicted"
      ],
      "metadata": {
        "id": "NdUbT2tXVI0X"
      },
      "execution_count": null,
      "outputs": []
    },
    {
      "cell_type": "code",
      "source": [
        "from scipy import stats\n",
        "t,p_val = stats.ttest_ind(Y_pred,Y_test_1)"
      ],
      "metadata": {
        "id": "oDjVSPoxVI0X"
      },
      "execution_count": null,
      "outputs": []
    },
    {
      "cell_type": "code",
      "source": [
        "print('The P-value is:',p_val[0])"
      ],
      "metadata": {
        "colab": {
          "base_uri": "https://localhost:8080/"
        },
        "outputId": "a5401a01-0d60-4236-fde0-36d66282f65b",
        "id": "7KZe7_Z9VI0X"
      },
      "execution_count": null,
      "outputs": [
        {
          "output_type": "stream",
          "name": "stdout",
          "text": [
            "The P-value is: 0.47527565957850704\n"
          ]
        }
      ]
    },
    {
      "cell_type": "markdown",
      "source": [
        "## (iii) sin and cos Function"
      ],
      "metadata": {
        "id": "p9aJjM1zuf8e"
      }
    },
    {
      "cell_type": "code",
      "source": [
        "Y_train_1 = Y_train\n",
        "X_train_1 = X_train"
      ],
      "metadata": {
        "id": "B7pNDnoXuf8o"
      },
      "execution_count": null,
      "outputs": []
    },
    {
      "cell_type": "code",
      "source": [
        "Y_train_1 =100* Y_train_1/Y_train_1.max() # Normalizing Y labels"
      ],
      "metadata": {
        "id": "mZpaeiKMuf8p"
      },
      "execution_count": null,
      "outputs": []
    },
    {
      "cell_type": "code",
      "source": [
        "X_train_1 = np.power(X_train[:,0],2)     # X0^2\n",
        "X_train_1 = X_train_1.reshape((X_train_1.shape[0],1))\n",
        "\n",
        "tmp = X_train[:,1]           # X1^2\n",
        "tmp = np.power(tmp,2)\n",
        "tmp = tmp\n",
        "X_train_1=np.column_stack((X_train_1,tmp))\n",
        "\n",
        "tmp = X_train[:,2]           # X2^2\n",
        "tmp = np.power(tmp,2)\n",
        "tmp = tmp\n",
        "X_train_1=np.column_stack((X_train_1,tmp))\n",
        "\n",
        "tmp = X_train[:,0]           # X0\n",
        "tmp = np.power(tmp,1)\n",
        "tmp = tmp\n",
        "X_train_1=np.column_stack((X_train_1,tmp))\n",
        "\n",
        "tmp = X_train[:,1]           # X1\n",
        "tmp = np.power(tmp,1)\n",
        "tmp = tmp\n",
        "X_train_1=np.column_stack((X_train_1,tmp))\n",
        "\n",
        "\n",
        "tmp = X_train[:,2]           # X2\n",
        "tmp = np.power(tmp,1)\n",
        "tmp = tmp\n",
        "X_train_1=np.column_stack((X_train_1,tmp))\n",
        "\n",
        "tmp = np.multiply(X_train[:,0],X_train[:,1])           # X0*X1\n",
        "X_train_1=np.column_stack((X_train_1,tmp))\n",
        "\n",
        "tmp = np.multiply(X_train[:,1],X_train[:,2])           # X1*X2\n",
        "X_train_1=np.column_stack((X_train_1,tmp))\n",
        "\n",
        "tmp = np.multiply(X_train[:,2],X_train[:,0])           # X2*X0\n",
        "X_train_1=np.column_stack((X_train_1,tmp))\n",
        "\n",
        "tmp = np.multiply(X_train[:,0],X_train[:,1])           # X0*X1*X2\n",
        "tmp = np.multiply(X_train[:,2],tmp)\n",
        "X_train_1=np.column_stack((X_train_1,tmp))\n",
        "\n",
        "tmp = X_train[:,0]           # sin X0\n",
        "tmp = np.sin(tmp)\n",
        "tmp = tmp\n",
        "X_train_1=np.column_stack((X_train_1,tmp))\n",
        "\n",
        "tmp = X_train[:,1]           # sin X1\n",
        "tmp = np.sin(tmp)\n",
        "tmp = tmp\n",
        "X_train_1=np.column_stack((X_train_1,tmp))\n",
        "\n",
        "tmp = X_train[:,2]           # sin X2\n",
        "tmp = np.sin(tmp)\n",
        "tmp = tmp\n",
        "X_train_1=np.column_stack((X_train_1,tmp))\n",
        "\n",
        "tmp = X_train[:,0]           # cos X0\n",
        "tmp = np.cos(tmp)\n",
        "tmp = tmp\n",
        "X_train_1=np.column_stack((X_train_1,tmp))\n",
        "\n",
        "tmp = X_train[:,1]           # cos X1\n",
        "tmp = np.cos(tmp)\n",
        "tmp = tmp\n",
        "X_train_1=np.column_stack((X_train_1,tmp))\n",
        "\n",
        "tmp = X_train[:,2]           # cos X2\n",
        "tmp = np.cos(tmp)\n",
        "tmp = tmp\n",
        "X_train_1=np.column_stack((X_train_1,tmp))"
      ],
      "metadata": {
        "id": "Cf6uUWhSuf8p"
      },
      "execution_count": null,
      "outputs": []
    },
    {
      "cell_type": "code",
      "source": [
        "X_train_1.shape"
      ],
      "metadata": {
        "colab": {
          "base_uri": "https://localhost:8080/"
        },
        "outputId": "5b02ab38-e942-4e92-dbf4-6e0128757a51",
        "id": "M-J4q6ZKuf8q"
      },
      "execution_count": null,
      "outputs": [
        {
          "output_type": "execute_result",
          "data": {
            "text/plain": [
              "(10000, 16)"
            ]
          },
          "metadata": {},
          "execution_count": 99
        }
      ]
    },
    {
      "cell_type": "code",
      "source": [
        "# Creating augmented data matrix\n",
        "tmp = np.ones((X_train_1.shape[0],1))\n",
        "X_train_1=np.column_stack((X_train_1,tmp))\n",
        "X_train_1.shape"
      ],
      "metadata": {
        "colab": {
          "base_uri": "https://localhost:8080/"
        },
        "outputId": "1a29a512-d70d-4f55-f133-6b65e4c55701",
        "id": "8JU2fY6Luf8q"
      },
      "execution_count": null,
      "outputs": [
        {
          "output_type": "execute_result",
          "data": {
            "text/plain": [
              "(10000, 17)"
            ]
          },
          "metadata": {},
          "execution_count": 100
        }
      ]
    },
    {
      "cell_type": "markdown",
      "source": [
        "### Training"
      ],
      "metadata": {
        "id": "uQnE7dTBuf8q"
      }
    },
    {
      "cell_type": "code",
      "source": [
        "W = (np.linalg.inv(X_train_1.T@X_train_1))@X_train_1.T@Y_train_1 # Optimal point"
      ],
      "metadata": {
        "id": "w7ahvWyJuf8r"
      },
      "execution_count": null,
      "outputs": []
    },
    {
      "cell_type": "code",
      "source": [
        "#MSE on train dataset\n",
        "loss =(np.linalg.norm(X_train_1@W-Y_train_1))**2\n",
        "MSE = loss/X_train.shape[0]\n",
        "print('The Mean squared error loss is: ',MSE)"
      ],
      "metadata": {
        "colab": {
          "base_uri": "https://localhost:8080/"
        },
        "outputId": "4458d7ad-20e8-4e17-b84f-83578621f26c",
        "id": "9NvSG2q1uf8r"
      },
      "execution_count": null,
      "outputs": [
        {
          "output_type": "stream",
          "name": "stdout",
          "text": [
            "The Mean squared error loss is:  25.900470686479018\n"
          ]
        }
      ]
    },
    {
      "cell_type": "code",
      "source": [
        "loss = 0\n",
        "for i in range(X_train_1.shape[0]):\n",
        "  tmp = X_train_1[i,:]\n",
        "  tmp = tmp.reshape((tmp.shape[0],1))\n",
        "  tmp=tmp.T\n",
        "  loss = loss + abs(tmp@W-Y_train_1[i][0])\n",
        "MAE = loss/X_train_1.shape[0]\n",
        "print('Mean Absolute error is:',MAE)"
      ],
      "metadata": {
        "colab": {
          "base_uri": "https://localhost:8080/"
        },
        "outputId": "0a9a92bf-b65a-48aa-a645-6a0a982379ed",
        "id": "tMvZHVv_uf8r"
      },
      "execution_count": null,
      "outputs": [
        {
          "output_type": "stream",
          "name": "stdout",
          "text": [
            "Mean Absolute error is: [[3.73736182]]\n"
          ]
        }
      ]
    },
    {
      "cell_type": "code",
      "source": [
        "Y_pred = X_train_1@W #Y predicted"
      ],
      "metadata": {
        "id": "rTgXvrtHVc33"
      },
      "execution_count": null,
      "outputs": []
    },
    {
      "cell_type": "code",
      "source": [
        "from scipy import stats\n",
        "t,p_val = stats.ttest_ind(Y_pred,Y_train_1)"
      ],
      "metadata": {
        "id": "ElV0BWScVc33"
      },
      "execution_count": null,
      "outputs": []
    },
    {
      "cell_type": "code",
      "source": [
        "print('The P-value is:',p_val[0])"
      ],
      "metadata": {
        "colab": {
          "base_uri": "https://localhost:8080/"
        },
        "outputId": "bc8a3111-5c7e-43dc-f526-25e447e74381",
        "id": "BZySjvecVc33"
      },
      "execution_count": null,
      "outputs": [
        {
          "output_type": "stream",
          "name": "stdout",
          "text": [
            "The P-value is: 0.9999999999999818\n"
          ]
        }
      ]
    },
    {
      "cell_type": "markdown",
      "source": [
        "### Testing"
      ],
      "metadata": {
        "id": "HJnxYtgMuf8r"
      }
    },
    {
      "cell_type": "code",
      "source": [
        "Y_test_1 = Y_test\n",
        "X_test_1 = X_test"
      ],
      "metadata": {
        "id": "mET3Vl-Luf8s"
      },
      "execution_count": null,
      "outputs": []
    },
    {
      "cell_type": "code",
      "source": [
        "Y_test_1 = 100 * Y_test_1/Y_test_1.max() # Normalizing Y labels"
      ],
      "metadata": {
        "id": "ZdPwvoikuf8s"
      },
      "execution_count": null,
      "outputs": []
    },
    {
      "cell_type": "code",
      "source": [
        "X_test_1 = np.power(X_test[:,0],2)\n",
        "X_test_1 = X_test_1.reshape((X_test_1.shape[0],1))\n",
        "\n",
        "tmp = X_test[:,1]           # We know there are three columns\n",
        "tmp = np.power(tmp,2)\n",
        "tmp = tmp\n",
        "X_test_1=np.column_stack((X_test_1,tmp))\n",
        "\n",
        "tmp = X_test[:,2]           # We know there are three columns\n",
        "tmp = np.power(tmp,2)\n",
        "tmp = tmp\n",
        "X_test_1=np.column_stack((X_test_1,tmp))\n",
        "\n",
        "tmp = X_test[:,0]           # We know there are three columns\n",
        "tmp = np.power(tmp,1)\n",
        "tmp = tmp\n",
        "X_test_1=np.column_stack((X_test_1,tmp))\n",
        "\n",
        "tmp = X_test[:,1]           # We know there are three columns\n",
        "tmp = np.power(tmp,1)\n",
        "tmp = tmp\n",
        "X_test_1=np.column_stack((X_test_1,tmp))\n",
        "\n",
        "tmp = X_test[:,2]           # We know there are three columns\n",
        "tmp = np.power(tmp,1)\n",
        "tmp = tmp\n",
        "X_test_1=np.column_stack((X_test_1,tmp))\n",
        "\n",
        "tmp = np.multiply(X_test[:,0],X_test[:,1])           # We know there are three columns\n",
        "X_test_1=np.column_stack((X_test_1,tmp))\n",
        "\n",
        "tmp = np.multiply(X_test[:,1],X_test[:,2])           # We know there are three columns\n",
        "X_test_1=np.column_stack((X_test_1,tmp))\n",
        "\n",
        "tmp = np.multiply(X_test[:,2],X_test[:,0])           # We know there are three columns\n",
        "X_test_1=np.column_stack((X_test_1,tmp))\n",
        "\n",
        "tmp = np.multiply(X_test[:,0],X_test[:,1])           # We know there are three columns\n",
        "tmp = np.multiply(X_test[:,2],tmp)\n",
        "X_test_1=np.column_stack((X_test_1,tmp))\n",
        "\n",
        "tmp = X_test[:,0]           # e^X0\n",
        "tmp = np.sin(tmp)\n",
        "tmp = tmp\n",
        "X_test_1=np.column_stack((X_test_1,tmp))\n",
        "\n",
        "tmp = X_test[:,1]           # sin X1\n",
        "tmp = np.sin(tmp)\n",
        "tmp = tmp\n",
        "X_test_1=np.column_stack((X_test_1,tmp))\n",
        "\n",
        "tmp = X_test[:,2]           # sin X2\n",
        "tmp = np.sin(tmp)\n",
        "tmp = tmp\n",
        "X_test_1=np.column_stack((X_test_1,tmp))\n",
        "\n",
        "tmp = X_test[:,0]           # cos X0\n",
        "tmp = np.cos(tmp)\n",
        "tmp = tmp\n",
        "X_test_1=np.column_stack((X_test_1,tmp))\n",
        "\n",
        "tmp = X_test[:,1]           # cos X1\n",
        "tmp = np.cos(tmp)\n",
        "tmp = tmp\n",
        "X_test_1=np.column_stack((X_test_1,tmp))\n",
        "\n",
        "tmp = X_test[:,2]           # cos X2\n",
        "tmp = np.cos(tmp)\n",
        "tmp = tmp\n",
        "X_test_1=np.column_stack((X_test_1,tmp))"
      ],
      "metadata": {
        "id": "r0AExaOmuf8s"
      },
      "execution_count": null,
      "outputs": []
    },
    {
      "cell_type": "code",
      "source": [
        "# Creating augmented data matrix\n",
        "tmp = np.ones((X_test_1.shape[0],1))\n",
        "X_test_1=np.column_stack((X_test_1,tmp))\n",
        "X_test_1.shape"
      ],
      "metadata": {
        "colab": {
          "base_uri": "https://localhost:8080/"
        },
        "outputId": "923851ba-9b99-40bd-a918-6e6f4dc4528a",
        "id": "6sk1oSNJuf8t"
      },
      "execution_count": null,
      "outputs": [
        {
          "output_type": "execute_result",
          "data": {
            "text/plain": [
              "(5000, 17)"
            ]
          },
          "metadata": {},
          "execution_count": 110
        }
      ]
    },
    {
      "cell_type": "code",
      "source": [
        "#MSE on train dataset\n",
        "loss =(np.linalg.norm(X_test_1@W-Y_test_1))**2\n",
        "MSE = loss/X_test.shape[0]\n",
        "print('The Mean squared error loss is: ',MSE)"
      ],
      "metadata": {
        "colab": {
          "base_uri": "https://localhost:8080/"
        },
        "outputId": "d8c9e4e9-f1df-400d-902a-cd8cf8b5b53b",
        "id": "rA-w1PFSuf8t"
      },
      "execution_count": null,
      "outputs": [
        {
          "output_type": "stream",
          "name": "stdout",
          "text": [
            "The Mean squared error loss is:  28.56399813215441\n"
          ]
        }
      ]
    },
    {
      "cell_type": "code",
      "source": [
        "loss = 0\n",
        "for i in range(X_test_1.shape[0]):\n",
        "  tmp = X_test_1[i,:]\n",
        "  tmp = tmp.reshape((tmp.shape[0],1))\n",
        "  tmp=tmp.T\n",
        "  loss = loss + abs(tmp@W-Y_test_1[i][0])\n",
        "MAE = loss/X_test_1.shape[0]\n",
        "print('Mean Absolute error is:',MAE)"
      ],
      "metadata": {
        "colab": {
          "base_uri": "https://localhost:8080/"
        },
        "outputId": "3e10caf7-e581-4b75-ea38-5095a088e189",
        "id": "EryvewSwuf8t"
      },
      "execution_count": null,
      "outputs": [
        {
          "output_type": "stream",
          "name": "stdout",
          "text": [
            "Mean Absolute error is: [[3.86481134]]\n"
          ]
        }
      ]
    },
    {
      "cell_type": "code",
      "source": [
        "Y_pred = X_test_1@W #Y predicted"
      ],
      "metadata": {
        "id": "LCIiq_xAVkPx"
      },
      "execution_count": null,
      "outputs": []
    },
    {
      "cell_type": "code",
      "source": [
        "from scipy import stats\n",
        "t,p_val = stats.ttest_ind(Y_pred,Y_test_1)"
      ],
      "metadata": {
        "id": "57eqV7PGVkPx"
      },
      "execution_count": null,
      "outputs": []
    },
    {
      "cell_type": "code",
      "source": [
        "print('The P-value is:',p_val[0])"
      ],
      "metadata": {
        "colab": {
          "base_uri": "https://localhost:8080/"
        },
        "outputId": "d421e851-c096-47c3-c26d-7bd32de260c1",
        "id": "02-rhCgeVkPx"
      },
      "execution_count": null,
      "outputs": [
        {
          "output_type": "stream",
          "name": "stdout",
          "text": [
            "The P-value is: 0.5405053020975641\n"
          ]
        }
      ]
    },
    {
      "cell_type": "markdown",
      "source": [
        "# Q3"
      ],
      "metadata": {
        "id": "isJz1wCHnNNR"
      }
    },
    {
      "cell_type": "markdown",
      "source": [
        "## Importing dataset"
      ],
      "metadata": {
        "id": "MWzNKVJFnR-C"
      }
    },
    {
      "cell_type": "code",
      "source": [
        "#below where the file is in gdrive, change with your\n",
        "data_path = \"/content/drive/MyDrive/Prnn/\"\n",
        "train_dataset = np.loadtxt(data_path + 'p3_train.csv', delimiter=',')\n",
        "test_dataset = np.loadtxt(data_path + 'p3_test.csv', delimiter=',')"
      ],
      "metadata": {
        "id": "SrTcZV5nnWAf"
      },
      "execution_count": 4,
      "outputs": []
    },
    {
      "cell_type": "code",
      "source": [
        "# Creating base training and testing dataset\n",
        "X_train_base = train_dataset[:,:10]\n",
        "Y_train_base = train_dataset[:,10]\n",
        "X_test_base = test_dataset[:,:10]\n",
        "Y_test_base = test_dataset[:,10]"
      ],
      "metadata": {
        "id": "DBRE75tgnhNO"
      },
      "execution_count": 5,
      "outputs": []
    },
    {
      "cell_type": "markdown",
      "source": [
        "## (i) Bayes Classifier"
      ],
      "metadata": {
        "id": "TG-88xU-nqry"
      }
    },
    {
      "cell_type": "code",
      "source": [
        "classes = 5\n",
        "features = 10"
      ],
      "metadata": {
        "id": "QF1WEpFBn2Nd"
      },
      "execution_count": null,
      "outputs": []
    },
    {
      "cell_type": "markdown",
      "source": [
        "### Assuming class conditionals as Normal Density"
      ],
      "metadata": {
        "id": "99K9_VXC0PZR"
      }
    },
    {
      "cell_type": "markdown",
      "source": [
        "Determining class conditional densities with variance"
      ],
      "metadata": {
        "id": "bd6-0Yk70PZS"
      }
    },
    {
      "cell_type": "code",
      "source": [
        "# Creating list of numpy arrays containing training datas of each class with class as index of list \n",
        "temp = train_dataset[:,:]\n",
        "lst = [] \n",
        "for i in range(1,classes+1):\n",
        "  x = temp[np.where(temp[:,10]==i)]\n",
        "  x = x[:,:10]      #features = 10\n",
        "  lst.append(x)"
      ],
      "metadata": {
        "id": "tOWJbUkXX9WP"
      },
      "execution_count": null,
      "outputs": []
    },
    {
      "cell_type": "code",
      "source": [
        "# Initialising training and testing datas to base datas for this part\n",
        "Y_train = Y_train_base\n",
        "Y_test = Y_test_base\n",
        "X_train = X_train_base\n",
        "X_test = X_test_base"
      ],
      "metadata": {
        "id": "cuH0k4AHYWS_"
      },
      "execution_count": null,
      "outputs": []
    },
    {
      "cell_type": "code",
      "source": [
        "mean=[]   # 10 features' mean for each classes\n",
        "for i in range(classes):\n",
        "  a=lst[i]\n",
        "  a = a.mean(axis=0)\n",
        "  mean.append(a)"
      ],
      "metadata": {
        "id": "u8Vo8xbv0PZS"
      },
      "execution_count": null,
      "outputs": []
    },
    {
      "cell_type": "code",
      "source": [
        "variance=[]    # Updating Variance\n",
        "for i in range(classes):\n",
        "  a=lst[i]-mean[i]\n",
        "  v = a.T@a/lst[i].shape[0]\n",
        "  v = np.linalg.inv(v)\n",
        "  variance.append(v)"
      ],
      "metadata": {
        "id": "CRf1BhoN0gFJ"
      },
      "execution_count": null,
      "outputs": []
    },
    {
      "cell_type": "code",
      "source": [
        "variance[1].shape"
      ],
      "metadata": {
        "colab": {
          "base_uri": "https://localhost:8080/"
        },
        "id": "H5iAbWLS26u-",
        "outputId": "e2da3c90-c23c-45ad-87b6-eedb4ffad0bb"
      },
      "execution_count": null,
      "outputs": [
        {
          "output_type": "execute_result",
          "data": {
            "text/plain": [
              "(10, 10)"
            ]
          },
          "metadata": {},
          "execution_count": 791
        }
      ]
    },
    {
      "cell_type": "code",
      "source": [
        "X_test.shape"
      ],
      "metadata": {
        "colab": {
          "base_uri": "https://localhost:8080/"
        },
        "outputId": "55caf6b4-3fd2-483f-fbb4-ba43ab9dfa7b",
        "id": "igFoQ87o0PZT"
      },
      "execution_count": null,
      "outputs": [
        {
          "output_type": "execute_result",
          "data": {
            "text/plain": [
              "(15000, 10)"
            ]
          },
          "metadata": {},
          "execution_count": 792
        }
      ]
    },
    {
      "cell_type": "markdown",
      "source": [
        "#### Training"
      ],
      "metadata": {
        "id": "9cgowKo0YbAo"
      }
    },
    {
      "cell_type": "code",
      "source": [
        "count = 0\n",
        "for i in range(X_train.shape[0]):\n",
        "  g = []                   #  Storing class conditionals of 5 classes\n",
        "  for j in range(classes):\n",
        "    v = (X_train[i]-mean[j])\n",
        "    v=v.reshape((v.shape[0],1))\n",
        "    k=0.5*v.T@variance[j]@v\n",
        "    k = math.sqrt(np.linalg.det(variance[j]))*math.exp(-k)\n",
        "    g.append(k)          #comparing exponent values\n",
        "    #print(g)\n",
        "  k = g.index(max(g)) +1\n",
        "  #print(g)\n",
        "  if k==Y_train[i]:\n",
        "    count=count+1"
      ],
      "metadata": {
        "id": "iQ7MaaSL0PZT"
      },
      "execution_count": null,
      "outputs": []
    },
    {
      "cell_type": "code",
      "source": [
        "print('Accuracy is:',count*100/60000,' percent')"
      ],
      "metadata": {
        "colab": {
          "base_uri": "https://localhost:8080/"
        },
        "outputId": "da280bf5-cd32-4b33-da36-343968349680",
        "id": "viJXPHuF0PZU"
      },
      "execution_count": null,
      "outputs": [
        {
          "output_type": "stream",
          "name": "stdout",
          "text": [
            "Accuracy is: 59.391666666666666  percent\n"
          ]
        }
      ]
    },
    {
      "cell_type": "markdown",
      "source": [
        "#### Testing"
      ],
      "metadata": {
        "id": "2EGwa9KgYq4Y"
      }
    },
    {
      "cell_type": "code",
      "source": [
        "conf_matrix = np.zeros((classes,classes))"
      ],
      "metadata": {
        "id": "RTSn9S8cYuXf"
      },
      "execution_count": null,
      "outputs": []
    },
    {
      "cell_type": "code",
      "source": [
        "count = 0\n",
        "for i in range(X_test.shape[0]):\n",
        "  g = []                   #  Storing class conditionals of 5 classes\n",
        "  for j in range(classes):\n",
        "    v = (X_test[i]-mean[j])\n",
        "    v=v.reshape((v.shape[0],1))\n",
        "    k=0.5*v.T@variance[j]@v\n",
        "    k = math.sqrt(np.linalg.det(variance[j]))*math.exp(-k)\n",
        "    g.append(k) \n",
        "  k = g.index(max(g))         # comparing pre-exponent values\n",
        "  if k==int(Y_test[i])-1:\n",
        "    count=count+1\n",
        "  v = int(Y_test[i])-1\n",
        "  conf_matrix[v][k] += 1"
      ],
      "metadata": {
        "id": "b62EkMiwYuXg"
      },
      "execution_count": null,
      "outputs": []
    },
    {
      "cell_type": "code",
      "source": [
        "print('Testing Accuracy is:',count*100/15000,' percent')"
      ],
      "metadata": {
        "colab": {
          "base_uri": "https://localhost:8080/"
        },
        "outputId": "d75d78f8-15a1-4173-916e-2e711cbd819d",
        "id": "IkZPKNqzYuXg"
      },
      "execution_count": null,
      "outputs": [
        {
          "output_type": "stream",
          "name": "stdout",
          "text": [
            "Testing Accuracy is: 59.36  percent\n"
          ]
        }
      ]
    },
    {
      "cell_type": "code",
      "source": [
        "print('The confusion matrix for above testing data is:')\n",
        "print(conf_matrix)"
      ],
      "metadata": {
        "colab": {
          "base_uri": "https://localhost:8080/"
        },
        "outputId": "06afd841-584f-414c-c418-5d445fefad65",
        "id": "VwPk8xo8YuXg"
      },
      "execution_count": null,
      "outputs": [
        {
          "output_type": "stream",
          "name": "stdout",
          "text": [
            "The confusion matrix for above testing data is:\n",
            "[[1627.  362.  264.  344.  374.]\n",
            " [ 380. 1742.  278.  268.  313.]\n",
            " [ 297.  298. 1914.  240.  291.]\n",
            " [ 321.  335.  255. 1794.  270.]\n",
            " [ 363.  310.  231.  302. 1827.]]\n"
          ]
        }
      ]
    },
    {
      "cell_type": "code",
      "source": [
        "# Storing True positive True negative, False Positive, False negative and F values in a list scores\n",
        "TP=[]\n",
        "TN=[]\n",
        "FP=[]\n",
        "FN=[]\n",
        "F1=[]\n",
        "for i in range(classes):\n",
        "  TP.append(conf_matrix[i][i])\n",
        "  TN.append(np.sum(conf_matrix)-np.sum(conf_matrix[i,:])-np.sum(conf_matrix[:,i])+conf_matrix[i][i])\n",
        "  FP.append(np.sum(conf_matrix[i,:])-conf_matrix[i][i])\n",
        "  FN.append(np.sum(conf_matrix[:,i])-conf_matrix[i][i])\n",
        "  F1.append((2*TP[i])/(2*TP[i] + FP[i] + FN[i]))"
      ],
      "metadata": {
        "id": "Oyvn65wXYuXg"
      },
      "execution_count": null,
      "outputs": []
    },
    {
      "cell_type": "code",
      "source": [
        "print('F1 scores for corresponding classes are:')\n",
        "print(F1)"
      ],
      "metadata": {
        "colab": {
          "base_uri": "https://localhost:8080/"
        },
        "outputId": "97f8007c-b35c-40bf-f98c-9f917ebeb587",
        "id": "S1EwKhJbYuXh"
      },
      "execution_count": null,
      "outputs": [
        {
          "output_type": "stream",
          "name": "stdout",
          "text": [
            "F1 scores for corresponding classes are:\n",
            "[0.5460647759691223, 0.5779694757796947, 0.6399197592778335, 0.6057741009623502, 0.5982318271119843]\n"
          ]
        }
      ]
    },
    {
      "cell_type": "markdown",
      "source": [
        "### Laplace Density"
      ],
      "metadata": {
        "id": "AK0aIO2y5zGK"
      }
    },
    {
      "cell_type": "code",
      "source": [
        "# Initialising dataset for this part\n",
        "X_train = np.absolute(train_dataset[:,:10])\n",
        "Y_train = train_dataset[:,10]\n",
        "X_test = np.absolute(test_dataset[:,:10])\n",
        "Y_test = test_dataset[:,10]"
      ],
      "metadata": {
        "id": "YdJoikFGakO4"
      },
      "execution_count": null,
      "outputs": []
    },
    {
      "cell_type": "code",
      "source": [
        "temp = train_dataset[:,:]\n",
        "lst = []\n",
        "for i in range(1,classes+1):\n",
        "  x = temp[np.where(temp[:,10]==i)]\n",
        "  x = x[:,:10]\n",
        "  lst.append(x)"
      ],
      "metadata": {
        "id": "Nb-ZIGLI5zGM"
      },
      "execution_count": null,
      "outputs": []
    },
    {
      "cell_type": "code",
      "source": [
        "# Finding Median\n",
        "median=[]   # 10 features' exponential parameter for each classes\n",
        "for i in range(classes):\n",
        "  a=lst[i]\n",
        "  a = np.median(a,axis=0)\n",
        "  median.append(a)"
      ],
      "metadata": {
        "id": "5bamRkFV5zGM"
      },
      "execution_count": null,
      "outputs": []
    },
    {
      "cell_type": "code",
      "source": [
        "# Finding Sigma\n",
        "sigma = []\n",
        "for i in range(classes):\n",
        "  s = np.zeros(10)  # 10 is size of features\n",
        "  for j in range(lst[i].shape[0]):\n",
        "    x=lst[i]\n",
        "    s=s+np.absolute(x[j]-median[i])\n",
        "  s=s/lst[i].shape[0]\n",
        "  sigma.append(s)"
      ],
      "metadata": {
        "id": "geilql4s5zGM"
      },
      "execution_count": null,
      "outputs": []
    },
    {
      "cell_type": "markdown",
      "source": [
        "#### Training"
      ],
      "metadata": {
        "id": "_w-l1kf_a5Rj"
      }
    },
    {
      "cell_type": "code",
      "source": [
        "count = 0\n",
        "for i in range(X_train.shape[0]):\n",
        "  g = []                   #  Storing class conditionals of 5 classes\n",
        "  for j in range(classes):\n",
        "    k=0\n",
        "    s=1\n",
        "    x = X_train[i]\n",
        "    for l in range(10): # 10 is number of features\n",
        "      k=k+abs(x[l]-median[j][l])/sigma[j][l]\n",
        "      s = s*sigma[j][l]\n",
        "    k = math.exp(-0.5*k)/s\n",
        "    g.append(k)\n",
        "  k = g.index(max(g)) +1\n",
        "  if k==Y_train[i]:\n",
        "    count=count+1"
      ],
      "metadata": {
        "id": "eKB-uQid5zGO"
      },
      "execution_count": null,
      "outputs": []
    },
    {
      "cell_type": "code",
      "source": [
        "print('Accuracy is:',count*100/X_train.shape[0],' percent')"
      ],
      "metadata": {
        "colab": {
          "base_uri": "https://localhost:8080/"
        },
        "id": "_dpZaFbuGXnM",
        "outputId": "6f958719-c325-4cfc-a1b8-24470516d16d"
      },
      "execution_count": null,
      "outputs": [
        {
          "output_type": "stream",
          "name": "stdout",
          "text": [
            "Accuracy is: 48.79  percent\n"
          ]
        }
      ]
    },
    {
      "cell_type": "markdown",
      "source": [
        "#### Testing"
      ],
      "metadata": {
        "id": "hE9DGFZ1b2d2"
      }
    },
    {
      "cell_type": "code",
      "source": [
        "conf_matrix = np.zeros((classes,classes))"
      ],
      "metadata": {
        "id": "NiLkfZ5gqPhp"
      },
      "execution_count": null,
      "outputs": []
    },
    {
      "cell_type": "code",
      "source": [
        "count = 0\n",
        "for i in range(X_test.shape[0]):\n",
        "  g = []                   #  Storing class conditionals of 5 classes\n",
        "  for j in range(classes):\n",
        "    k=0\n",
        "    s=1\n",
        "    x = X_test[i]\n",
        "    for l in range(10): # 10 is number of features\n",
        "      k=k+abs(x[l]-median[j][l])/sigma[j][l]\n",
        "      s = s*sigma[j][l]\n",
        "    k = math.exp(-0.5*k)/s\n",
        "    g.append(k)\n",
        "  k = g.index(max(g))\n",
        "  if k==int(Y_test[i])-1:\n",
        "    count=count+1\n",
        "  v = int(Y_test[i])-1\n",
        "  conf_matrix[v][k] += 1"
      ],
      "metadata": {
        "id": "pYAQztzV5zGN"
      },
      "execution_count": null,
      "outputs": []
    },
    {
      "cell_type": "code",
      "source": [
        "print('Accuracy is:',count*100/15000,' percent')"
      ],
      "metadata": {
        "colab": {
          "base_uri": "https://localhost:8080/"
        },
        "outputId": "c209e632-e7c7-4a7d-de9a-be558f451562",
        "id": "RxuuQeVy5zGO"
      },
      "execution_count": null,
      "outputs": [
        {
          "output_type": "stream",
          "name": "stdout",
          "text": [
            "Accuracy is: 48.486666666666665  percent\n"
          ]
        }
      ]
    },
    {
      "cell_type": "code",
      "source": [
        "print('The confusion matrix for above testing data is:')\n",
        "print(conf_matrix)"
      ],
      "metadata": {
        "colab": {
          "base_uri": "https://localhost:8080/"
        },
        "id": "UY4BlexvqR6W",
        "outputId": "45e8e5f3-0469-433f-d394-9ddf8b17e225"
      },
      "execution_count": null,
      "outputs": [
        {
          "output_type": "stream",
          "name": "stdout",
          "text": [
            "The confusion matrix for above testing data is:\n",
            "[[1058.  505.  464.  429.  515.]\n",
            " [ 303. 1432.  428.  384.  434.]\n",
            " [ 250.  388. 1746.  287.  369.]\n",
            " [ 255.  438.  414. 1462.  406.]\n",
            " [ 270.  409.  409.  370. 1575.]]\n"
          ]
        }
      ]
    },
    {
      "cell_type": "code",
      "source": [
        "# Storing True positive True negative, False Positive, False negative and F values in a list scores\n",
        "TP=[]\n",
        "TN=[]\n",
        "FP=[]\n",
        "FN=[]\n",
        "F1=[]\n",
        "for i in range(classes):\n",
        "  TP.append(conf_matrix[i][i])\n",
        "  TN.append(np.sum(conf_matrix)-np.sum(conf_matrix[i,:])-np.sum(conf_matrix[:,i])+conf_matrix[i][i])\n",
        "  FP.append(np.sum(conf_matrix[i,:])-conf_matrix[i][i])\n",
        "  FN.append(np.sum(conf_matrix[:,i])-conf_matrix[i][i])\n",
        "  F1.append((2*TP[i])/(2*TP[i] + FP[i] + FN[i]))"
      ],
      "metadata": {
        "id": "hqVesZwQqokk"
      },
      "execution_count": null,
      "outputs": []
    },
    {
      "cell_type": "code",
      "source": [
        "print('F1 scores for corresponding classes are:')\n",
        "print(F1)"
      ],
      "metadata": {
        "colab": {
          "base_uri": "https://localhost:8080/"
        },
        "id": "_Ofh6tTwqqkP",
        "outputId": "f6de6cc3-2818-424a-b16a-36969547f01e"
      },
      "execution_count": null,
      "outputs": [
        {
          "output_type": "stream",
          "name": "stdout",
          "text": [
            "F1 scores for corresponding classes are:\n",
            "[0.41433326806344234, 0.4654640013001788, 0.5371481310567605, 0.49500592517352293, 0.4974731522425774]\n"
          ]
        }
      ]
    },
    {
      "cell_type": "markdown",
      "source": [
        "## (iii) Multi class logistic regressor"
      ],
      "metadata": {
        "id": "Nf0PQJQTuvqH"
      }
    },
    {
      "cell_type": "code",
      "source": [
        "# Initialising training and testing datas to base datas for this part\n",
        "Y_train = Y_train_base\n",
        "Y_test = Y_test_base\n",
        "X_train = X_train_base\n",
        "X_test = X_test_base"
      ],
      "metadata": {
        "id": "Br0h4g6Qu5mM"
      },
      "execution_count": null,
      "outputs": []
    },
    {
      "cell_type": "code",
      "source": [
        "# Run this only once\n",
        "# Creating augmented train data by adding one extra dimension\n",
        "tmp = np.ones((X_train.shape[0],1)) \n",
        "X_train=np.column_stack((X_train,tmp))\n",
        "X_train.shape"
      ],
      "metadata": {
        "colab": {
          "base_uri": "https://localhost:8080/"
        },
        "id": "mQGMLCm3vLiC",
        "outputId": "8cabad21-2bfb-46f1-dcdb-60adb75a9509"
      },
      "execution_count": null,
      "outputs": [
        {
          "output_type": "execute_result",
          "data": {
            "text/plain": [
              "(60000, 11)"
            ]
          },
          "metadata": {},
          "execution_count": 273
        }
      ]
    },
    {
      "cell_type": "code",
      "source": [
        "# Run this only once\n",
        "# Creating augmented train data by adding one extra dimension\n",
        "tmp = np.ones((X_test.shape[0],1))\n",
        "X_test=np.column_stack((X_test,tmp))\n",
        "X_test.shape"
      ],
      "metadata": {
        "colab": {
          "base_uri": "https://localhost:8080/"
        },
        "id": "zJEIl3HSvQRQ",
        "outputId": "09760a0e-8d7f-4302-c58c-62ae3a0ef755"
      },
      "execution_count": null,
      "outputs": [
        {
          "output_type": "execute_result",
          "data": {
            "text/plain": [
              "(15000, 11)"
            ]
          },
          "metadata": {},
          "execution_count": 274
        }
      ]
    },
    {
      "cell_type": "markdown",
      "source": [
        "### Training"
      ],
      "metadata": {
        "id": "4_6Pc6e3vtL3"
      }
    },
    {
      "cell_type": "code",
      "source": [
        "classes = 5\n",
        "features = 10 + 1 # augmented data"
      ],
      "metadata": {
        "id": "_oRTf5GuvVlf"
      },
      "execution_count": null,
      "outputs": []
    },
    {
      "cell_type": "code",
      "source": [
        "W=[] # Weight vector for each class\n",
        "for i in range(5):\n",
        "  W.append(np.ones((features,1)))"
      ],
      "metadata": {
        "id": "rsNkgr7Uvp-h"
      },
      "execution_count": null,
      "outputs": []
    },
    {
      "cell_type": "code",
      "source": [
        "def calc_loss(X,W,j):\n",
        "  X=X.reshape((X.shape[0],1))\n",
        "  # calculating probabilities of each class\n",
        "  e=[]                        # exponent\n",
        "  g = []                      # probabilities (softmax)\n",
        "  grad = []                   # gradient addition for this image\n",
        "  for i in range(classes):\n",
        "    e.append(math.exp(W[i].T@X))\n",
        "  k = sum(e)\n",
        "  for i in range(classes):\n",
        "    g.append(e[i]/k)\n",
        "  loss = -1*math.log(g[j])     # loss for 1 image\n",
        "  for i in range(classes):\n",
        "    if i!=j:\n",
        "      grad.append(-g[i]*X.reshape(X.shape[0]))\n",
        "    else:\n",
        "      grad.append((1-g[i])*X.reshape(X.shape[0]))\n",
        "  return loss,grad"
      ],
      "metadata": {
        "id": "VdJkE88xvvWR"
      },
      "execution_count": null,
      "outputs": []
    },
    {
      "cell_type": "code",
      "source": [
        "def train_epoch1():\n",
        "  final_loss = 0\n",
        "  final_grad = np.zeros((features,classes)) # no of features = length of weight vector \n",
        "  for i in range(X_train.shape[0]):\n",
        "    loss,grad = calc_loss(X_train[i,:],W,int(Y_train[i])-1)    # classes start from 1 and not 0\n",
        "    final_loss =final_loss + loss\n",
        "    final_grad = final_grad + np.stack(grad,axis = 1)\n",
        "  return final_loss,final_grad"
      ],
      "metadata": {
        "id": "XrvPtVSVvxhw"
      },
      "execution_count": null,
      "outputs": []
    },
    {
      "cell_type": "code",
      "source": [
        "epochs = 25\n",
        "alpha = 10\n",
        "prev_loss = 0\n",
        "for i in range(epochs):\n",
        "  loss,grad = train_epoch1()\n",
        "  for j in range(classes):\n",
        "    gradient = grad[:,j].reshape(grad[:,j].shape[0],1)\n",
        "    if prev_loss<loss:\n",
        "      alpha = (alpha/10)\n",
        "    W[j]=W[j]+alpha*gradient/np.linalg.norm(gradient)\n",
        "    prev_loss = loss\n",
        "  print('loss in',i,'epoch is',loss/X_train.shape[0])"
      ],
      "metadata": {
        "colab": {
          "base_uri": "https://localhost:8080/"
        },
        "id": "e7xDg3L_vzzL",
        "outputId": "345bd0b4-b9e3-4e8a-ae8b-592e2ae6d7a0"
      },
      "execution_count": null,
      "outputs": [
        {
          "output_type": "stream",
          "name": "stdout",
          "text": [
            "loss in 0 epoch is 1.6094379124357612\n",
            "loss in 1 epoch is 1.192551898914494\n",
            "loss in 2 epoch is 1.5907546760361644\n",
            "loss in 3 epoch is 1.468037652541224\n",
            "loss in 4 epoch is 1.3648306696771892\n",
            "loss in 5 epoch is 1.2822053050921147\n",
            "loss in 6 epoch is 1.2202366748066622\n",
            "loss in 7 epoch is 1.1778894619643792\n",
            "loss in 8 epoch is 1.153237674950642\n",
            "loss in 9 epoch is 1.143783210814199\n",
            "loss in 10 epoch is 1.1453306965313477\n",
            "loss in 11 epoch is 1.1446500301703146\n",
            "loss in 12 epoch is 1.144099900449812\n",
            "loss in 13 epoch is 1.1436730123126952\n",
            "loss in 14 epoch is 1.1433628027976166\n",
            "loss in 15 epoch is 1.1431635336420118\n",
            "loss in 16 epoch is 1.1430690647015067\n",
            "loss in 17 epoch is 1.1430671483702999\n",
            "loss in 18 epoch is 1.1430825510760219\n",
            "loss in 19 epoch is 1.1430735745017897\n",
            "loss in 20 epoch is 1.1430663769901421\n",
            "loss in 21 epoch is 1.1430609388661332\n",
            "loss in 22 epoch is 1.1430572267535648\n",
            "loss in 23 epoch is 1.143055172559283\n",
            "loss in 24 epoch is 1.1430545690334197\n"
          ]
        }
      ]
    },
    {
      "cell_type": "code",
      "source": [
        "print('Empirical risk on training data is:')\n",
        "print(loss/X_train.shape[0])  # 1/n factor"
      ],
      "metadata": {
        "colab": {
          "base_uri": "https://localhost:8080/"
        },
        "id": "uPUHd1k8wCqX",
        "outputId": "3d1e20f1-88e4-44f7-c744-89bd61b790fa"
      },
      "execution_count": null,
      "outputs": [
        {
          "output_type": "stream",
          "name": "stdout",
          "text": [
            "Empirical risk on training data is:\n",
            "1.1430545690334197\n"
          ]
        }
      ]
    },
    {
      "cell_type": "markdown",
      "source": [
        "### Testing"
      ],
      "metadata": {
        "id": "1E4bn4Rzwgdo"
      }
    },
    {
      "cell_type": "code",
      "source": [
        "conf_matrix = np.zeros((classes,classes))\n",
        "count = 0\n",
        "loss = 0\n",
        "for i in range(X_test.shape[0]):\n",
        "  X = X_test[i,:]\n",
        "  X=X.reshape((X.shape[0],1))\n",
        "  # calculating probabilities of each class\n",
        "  e=[]                        # exponent\n",
        "  g = []                      # probabilities (softmax)\n",
        "  grad = []                   # gradient addition for this image\n",
        "  for j in range(classes):\n",
        "    e.append(math.exp(W[j].T@X))\n",
        "  k = sum(e)\n",
        "  for j in range(classes):\n",
        "    g.append(e[j]/k)\n",
        "  k = g.index(max(g))\n",
        "  if k==int(Y_test[i])-1:  # Class starts from 1\n",
        "    count = count+1\n",
        "  v = int(Y_test[i])-1\n",
        "  conf_matrix[v][k] += 1\n",
        "\n",
        "  loss = loss - 1*math.log(g[v])"
      ],
      "metadata": {
        "id": "WBRA-l0rwhiJ"
      },
      "execution_count": null,
      "outputs": []
    },
    {
      "cell_type": "code",
      "source": [
        "print('The testing accuracy is:')\n",
        "print(count*100/X_test.shape[0])"
      ],
      "metadata": {
        "colab": {
          "base_uri": "https://localhost:8080/"
        },
        "id": "C-25meQXwpSr",
        "outputId": "7f169600-8734-4133-81ba-591fcd7cca53"
      },
      "execution_count": null,
      "outputs": [
        {
          "output_type": "stream",
          "name": "stdout",
          "text": [
            "The testing accuracy is:\n",
            "57.32\n"
          ]
        }
      ]
    },
    {
      "cell_type": "code",
      "source": [
        "print('Empirical risk on testing data is:')\n",
        "print(loss/X_test.shape[0])"
      ],
      "metadata": {
        "colab": {
          "base_uri": "https://localhost:8080/"
        },
        "id": "QMgK15Z-x7j5",
        "outputId": "43934423-1855-4662-9a42-2f26cc83795d"
      },
      "execution_count": null,
      "outputs": [
        {
          "output_type": "stream",
          "name": "stdout",
          "text": [
            "Empirical risk on testing data is:\n",
            "1.1405649677663119\n"
          ]
        }
      ]
    },
    {
      "cell_type": "code",
      "source": [
        "print('The confusion matrix for above testing data is:')\n",
        "print(conf_matrix)"
      ],
      "metadata": {
        "colab": {
          "base_uri": "https://localhost:8080/"
        },
        "outputId": "33633828-cb21-463d-d181-b11c9bfa2431",
        "id": "R7e4LxexyEgu"
      },
      "execution_count": null,
      "outputs": [
        {
          "output_type": "stream",
          "name": "stdout",
          "text": [
            "The confusion matrix for above testing data is:\n",
            "[[1515.  391.  298.  376.  391.]\n",
            " [ 374. 1698.  298.  286.  325.]\n",
            " [ 307.  306. 1881.  257.  289.]\n",
            " [ 339.  345.  262. 1739.  290.]\n",
            " [ 350.  327.  253.  338. 1765.]]\n"
          ]
        }
      ]
    },
    {
      "cell_type": "code",
      "source": [
        "# Storing True positive True negative, False Positive, False negative and F values in a list scores\n",
        "TP=[]\n",
        "TN=[]\n",
        "FP=[]\n",
        "FN=[]\n",
        "F1=[]\n",
        "for i in range(classes):\n",
        "  TP.append(conf_matrix[i][i])\n",
        "  TN.append(np.sum(conf_matrix)-np.sum(conf_matrix[i,:])-np.sum(conf_matrix[:,i])+conf_matrix[i][i])\n",
        "  FP.append(np.sum(conf_matrix[i,:])-conf_matrix[i][i])\n",
        "  FN.append(np.sum(conf_matrix[:,i])-conf_matrix[i][i])\n",
        "  F1.append((2*TP[i])/(2*TP[i] + FP[i] + FN[i]))"
      ],
      "metadata": {
        "id": "eC53j0cUyEgv"
      },
      "execution_count": null,
      "outputs": []
    },
    {
      "cell_type": "code",
      "source": [
        "print('F1 scores for corresponding classes are:')\n",
        "print(F1)"
      ],
      "metadata": {
        "colab": {
          "base_uri": "https://localhost:8080/"
        },
        "outputId": "e5c315ff-42de-40c3-bd4a-2ab95abd2142",
        "id": "bCrjoTvpyEgw"
      },
      "execution_count": null,
      "outputs": [
        {
          "output_type": "stream",
          "name": "stdout",
          "text": [
            "F1 scores for corresponding classes are:\n",
            "[0.5174180327868853, 0.5615079365079365, 0.6236737400530504, 0.582481996315525, 0.5793533563105203]\n"
          ]
        }
      ]
    },
    {
      "cell_type": "markdown",
      "source": [
        "## (iv) Parzen Window\n"
      ],
      "metadata": {
        "id": "0KBqMiKaw2y1"
      }
    },
    {
      "cell_type": "code",
      "source": [
        "X_train =X_train_base\n",
        "Y_train = Y_train_base"
      ],
      "metadata": {
        "id": "LPAd0sRZo0Zv"
      },
      "execution_count": 6,
      "outputs": []
    },
    {
      "cell_type": "code",
      "source": [
        "X_test = test_dataset[:,:10]\n",
        "Y_test = test_dataset[:,10]"
      ],
      "metadata": {
        "id": "Kl4hzCfoPS8b"
      },
      "execution_count": 7,
      "outputs": []
    },
    {
      "cell_type": "code",
      "source": [
        "classes = 5"
      ],
      "metadata": {
        "id": "NMa6YnakMLuW"
      },
      "execution_count": 8,
      "outputs": []
    },
    {
      "cell_type": "code",
      "source": [
        "temp = train_dataset[:,:]    # Separating classes in training set\n",
        "lst = []\n",
        "for i in range(1,classes+1):\n",
        "  x = temp[np.where(temp[:,10]==i)]\n",
        "  x = x[:,:10]\n",
        "  lst.append(x)"
      ],
      "metadata": {
        "id": "A6gxsZN8M3xM"
      },
      "execution_count": 9,
      "outputs": []
    },
    {
      "cell_type": "code",
      "source": [
        "a = X_test[i]\n",
        "a = a.reshape((1,a.shape[0]))\n",
        "a.shape"
      ],
      "metadata": {
        "colab": {
          "base_uri": "https://localhost:8080/"
        },
        "id": "pMk4I_IBPM_g",
        "outputId": "abd90f16-d573-40d3-c969-c271c94b0399"
      },
      "execution_count": 10,
      "outputs": [
        {
          "output_type": "execute_result",
          "data": {
            "text/plain": [
              "(1, 10)"
            ]
          },
          "metadata": {},
          "execution_count": 10
        }
      ]
    },
    {
      "cell_type": "markdown",
      "source": [
        "### Training"
      ],
      "metadata": {
        "id": "xyXqmfVWx_OI"
      }
    },
    {
      "cell_type": "code",
      "source": [
        "# calculating phi function for each class, conditional density is proportional to  phi function value\n",
        "count = 0\n",
        "for i in range(X_train.shape[0]):\n",
        "  phi=[]\n",
        "  for j in range(classes):\n",
        "    x = X_train[i]\n",
        "    x = x.reshape((1,x.shape[0]))\n",
        "    x = lst[j]-x\n",
        "    a = np.linalg.norm(x,axis=1)\n",
        "    x = np.exp(-1*np.power(a,2))\n",
        "    phi.append(np.sum(x))\n",
        "  v = phi.index(max(phi))\n",
        "  if(v == Y_train[i]-1):\n",
        "    count=count+1"
      ],
      "metadata": {
        "id": "juTWbP0dyBFB"
      },
      "execution_count": null,
      "outputs": []
    },
    {
      "cell_type": "code",
      "source": [
        "print('The train accuracy:',count*100/X_train.shape[0])"
      ],
      "metadata": {
        "colab": {
          "base_uri": "https://localhost:8080/"
        },
        "id": "kuE6J8yKyM0w",
        "outputId": "776fd79b-190a-42ef-9c73-b4b7305a6c6a"
      },
      "execution_count": null,
      "outputs": [
        {
          "output_type": "stream",
          "name": "stdout",
          "text": [
            "The train accuracy: 89.42166666666667\n"
          ]
        }
      ]
    },
    {
      "cell_type": "markdown",
      "source": [
        "### Testing"
      ],
      "metadata": {
        "id": "JcizgOrsx62X"
      }
    },
    {
      "cell_type": "code",
      "source": [
        "# calculating phi function for each class, conditional density is proportional to  phi function value\n",
        "conf_matrix = np.zeros((classes,classes))\n",
        "count = 0\n",
        "for i in range(X_test.shape[0]):\n",
        "  phi=[]\n",
        "  for j in range(classes):\n",
        "    x = X_test[i]\n",
        "    x = x.reshape((1,x.shape[0]))\n",
        "    x = lst[j]-x\n",
        "    a = np.linalg.norm(x,axis=1)\n",
        "    x = np.exp(-1*np.power(a,2))\n",
        "    phi.append(np.sum(x))\n",
        "  k = phi.index(max(phi))\n",
        "  if(k == Y_test[i]-1):\n",
        "    count=count+1\n",
        "  v = int(Y_test[i])-1\n",
        "  conf_matrix[v][k] += 1 "
      ],
      "metadata": {
        "id": "_otqQjkTLuq1"
      },
      "execution_count": 11,
      "outputs": []
    },
    {
      "cell_type": "code",
      "source": [
        "print('The test accuracy:',count*100/X_test.shape[0])"
      ],
      "metadata": {
        "colab": {
          "base_uri": "https://localhost:8080/"
        },
        "id": "cJ6LRC3-xiij",
        "outputId": "bd0e9798-7349-4841-dbe7-ba49044279d3"
      },
      "execution_count": 12,
      "outputs": [
        {
          "output_type": "stream",
          "name": "stdout",
          "text": [
            "The test accuracy: 57.46666666666667\n"
          ]
        }
      ]
    },
    {
      "cell_type": "code",
      "source": [
        "print('The confusion matrix for above testing data is:')\n",
        "print(conf_matrix)"
      ],
      "metadata": {
        "colab": {
          "base_uri": "https://localhost:8080/"
        },
        "outputId": "083613cb-2f45-496d-c943-bcad53cb22f0",
        "id": "q3nr9LWEzXP3"
      },
      "execution_count": 13,
      "outputs": [
        {
          "output_type": "stream",
          "name": "stdout",
          "text": [
            "The confusion matrix for above testing data is:\n",
            "[[1610.  394.  262.  332.  373.]\n",
            " [ 413. 1687.  262.  265.  354.]\n",
            " [ 351.  321. 1819.  230.  319.]\n",
            " [ 366.  347.  225. 1733.  304.]\n",
            " [ 394.  360.  214.  294. 1771.]]\n"
          ]
        }
      ]
    },
    {
      "cell_type": "code",
      "source": [
        "# Storing True positive True negative, False Positive, False negative and F values in a list scores\n",
        "TP=[]\n",
        "TN=[]\n",
        "FP=[]\n",
        "FN=[]\n",
        "F1=[]\n",
        "for i in range(classes):\n",
        "  TP.append(conf_matrix[i][i])\n",
        "  TN.append(np.sum(conf_matrix)-np.sum(conf_matrix[i,:])-np.sum(conf_matrix[:,i])+conf_matrix[i][i])\n",
        "  FP.append(np.sum(conf_matrix[i,:])-conf_matrix[i][i])\n",
        "  FN.append(np.sum(conf_matrix[:,i])-conf_matrix[i][i])\n",
        "  F1.append((2*TP[i])/(2*TP[i] + FP[i] + FN[i]))"
      ],
      "metadata": {
        "id": "MIDBVsyOzXP4"
      },
      "execution_count": 14,
      "outputs": []
    },
    {
      "cell_type": "code",
      "source": [
        "print('F1 scores for corresponding classes are:')\n",
        "print(F1)"
      ],
      "metadata": {
        "colab": {
          "base_uri": "https://localhost:8080/"
        },
        "outputId": "b5452125-b50a-4904-a88b-1bffbe871f56",
        "id": "OVURmoQvzXP5"
      },
      "execution_count": 15,
      "outputs": [
        {
          "output_type": "stream",
          "name": "stdout",
          "text": [
            "F1 scores for corresponding classes are:\n",
            "[0.5274365274365275, 0.5540229885057472, 0.6248711782892477, 0.5946131411905987, 0.5755606109847253]\n"
          ]
        }
      ]
    },
    {
      "cell_type": "markdown",
      "source": [
        "## (v) One vs rest"
      ],
      "metadata": {
        "id": "vEpxK112GMhk"
      }
    },
    {
      "cell_type": "code",
      "source": [
        "Y_train = Y_train_base\n",
        "Y_test = Y_test_base"
      ],
      "metadata": {
        "id": "AT8fEjBAwL4U"
      },
      "execution_count": 264,
      "outputs": []
    },
    {
      "cell_type": "code",
      "source": [
        "X_train = X_train_base\n",
        "X_test = X_test_base"
      ],
      "metadata": {
        "id": "b4ERuSPflW-P"
      },
      "execution_count": 265,
      "outputs": []
    },
    {
      "cell_type": "code",
      "source": [
        "tmp = np.ones((X_train.shape[0],1))  # Creating augmented train data\n",
        "X_train=np.column_stack((X_train,tmp))"
      ],
      "metadata": {
        "id": "iKnLiQVYr9HM"
      },
      "execution_count": 266,
      "outputs": []
    },
    {
      "cell_type": "code",
      "source": [
        "tmp = np.ones((X_test.shape[0],1))  # Creating augmented test data\n",
        "X_test=np.column_stack((X_test,tmp))"
      ],
      "metadata": {
        "id": "05hy1zaOsEqv"
      },
      "execution_count": 267,
      "outputs": []
    },
    {
      "cell_type": "code",
      "source": [
        "classes = 5\n",
        "features = 10 + 1 # augmented data"
      ],
      "metadata": {
        "id": "isFXFtmCmUIP"
      },
      "execution_count": 268,
      "outputs": []
    },
    {
      "cell_type": "code",
      "source": [
        "# Creating a one hot encoding of classes\n",
        "Y_class = np.zeros((X_train.shape[0],classes))\n",
        "for i in range(X_train.shape[0]):\n",
        "  v = int(Y_train[i]-1)\n",
        "  Y_class[i][v]=1"
      ],
      "metadata": {
        "id": "1bzefElwxxpF"
      },
      "execution_count": 269,
      "outputs": []
    },
    {
      "cell_type": "code",
      "source": [
        "# Weights for 5 separating hyperplanes finding out using the formulae ....\n",
        "W=[]\n",
        "for i in range(classes):\n",
        "  y = Y_class[:,i]\n",
        "  y=y.reshape(y.shape[0],1)\n",
        "  W.append((np.linalg.inv(X_train.T@X_train))@X_train.T@y)"
      ],
      "metadata": {
        "id": "pxaOsfWUmSIV"
      },
      "execution_count": 270,
      "outputs": []
    },
    {
      "cell_type": "code",
      "source": [
        "# train error\n",
        "count = 0\n",
        "for i in range(X_train.shape[0]):\n",
        "  for j in range(classes):\n",
        "    a = X_train[i]@W[j]\n",
        "    if(a[0]>=0):\n",
        "      if(j==Y_train[i]-1):\n",
        "        count=count+1\n",
        "      break"
      ],
      "metadata": {
        "id": "E5_9HTwBnL9w"
      },
      "execution_count": 271,
      "outputs": []
    },
    {
      "cell_type": "code",
      "source": [
        "print('Train accuracy is:',count*100/X_train.shape[0])"
      ],
      "metadata": {
        "colab": {
          "base_uri": "https://localhost:8080/"
        },
        "id": "eJFRmCwTG6lT",
        "outputId": "86ddb0f9-a390-40b4-927e-dd6c7e2ed505"
      },
      "execution_count": 272,
      "outputs": [
        {
          "output_type": "stream",
          "name": "stdout",
          "text": [
            "Train accuracy is: 0.22438333333333332\n"
          ]
        }
      ]
    },
    {
      "cell_type": "code",
      "source": [
        "# test error\n",
        "count = 0\n",
        "for i in range(X_test.shape[0]):\n",
        "  for j in range(classes):\n",
        "    a = X_test[i]@W[j]\n",
        "    if(a>0):\n",
        "      if(j==Y_test[i]-1):\n",
        "        count=count+1\n",
        "      break"
      ],
      "metadata": {
        "id": "4txinZKFwG2h"
      },
      "execution_count": 273,
      "outputs": []
    },
    {
      "cell_type": "code",
      "source": [
        "print('Test accuracy is:',count*100/X_test.shape[0])"
      ],
      "metadata": {
        "colab": {
          "base_uri": "https://localhost:8080/"
        },
        "id": "JlPAiQkfHCOF",
        "outputId": "f82852c2-0b49-4cbd-d3bf-8808bd750210"
      },
      "execution_count": 274,
      "outputs": [
        {
          "output_type": "stream",
          "name": "stdout",
          "text": [
            "Test accuracy is: 0.22166666666666668\n"
          ]
        }
      ]
    },
    {
      "cell_type": "markdown",
      "source": [
        "## (vi) ROC curve"
      ],
      "metadata": {
        "id": "irSo9PmFj5NH"
      }
    },
    {
      "cell_type": "markdown",
      "source": [
        "### Method 1"
      ],
      "metadata": {
        "id": "8_DZrulaOACl"
      }
    },
    {
      "cell_type": "code",
      "source": [
        "classes = 2"
      ],
      "metadata": {
        "id": "Xnx9APNie_uA"
      },
      "execution_count": 6,
      "outputs": []
    },
    {
      "cell_type": "code",
      "source": [
        "# creating training datas for different class\n",
        "temp = train_dataset[:,:]\n",
        "lst = []\n",
        "ans = []\n",
        "for i in range(classes):\n",
        "  x1 = temp[np.where(temp[:,10]==i+1)]\n",
        "  x = x1[:,:10]\n",
        "  y = x1[:,10]\n",
        "  y=y.reshape((y.shape[0],1))\n",
        "  lst.append(x)\n",
        "  ans.append(y)"
      ],
      "metadata": {
        "id": "BNMVCLQZe_uA"
      },
      "execution_count": 7,
      "outputs": []
    },
    {
      "cell_type": "code",
      "source": [
        "\n",
        "l = np.row_stack((lst[0],lst[1]))\n",
        "m = np.row_stack((ans[0],ans[1]))"
      ],
      "metadata": {
        "id": "n6roVKXCe_uA"
      },
      "execution_count": 8,
      "outputs": []
    },
    {
      "cell_type": "code",
      "source": [
        "mean=[]   # 10 features' mean for each classes\n",
        "for i in range(classes):\n",
        "  a=lst[i]\n",
        "  a = a.mean(axis=0)\n",
        "  mean.append(a)"
      ],
      "metadata": {
        "id": "ASBWsGFQe_uB"
      },
      "execution_count": 9,
      "outputs": []
    },
    {
      "cell_type": "code",
      "source": [
        "TPR=[]\n",
        "FPR=[]\n",
        "for j in range(20):\n",
        "  count = 0\n",
        "  threshold=(j-10)/100\n",
        "  TP=0\n",
        "  FP=0\n",
        "  TN=0\n",
        "  FN=0\n",
        "  for i in range(l.shape[0]):\n",
        "    v = (l[i]-mean[0])\n",
        "    v = np.power(v,2)\n",
        "    k = 0.5 * np.sum(v)\n",
        "    k1 = math.exp(-k)\n",
        "    v = (l[i]-mean[1])\n",
        "    v = np.power(v,2)\n",
        "    k = 0.5 * np.sum(v)\n",
        "    k2 = math.exp(-k)\n",
        "    if k1-k2>threshold:\n",
        "      k=2\n",
        "    else:\n",
        "      k=1\n",
        "    if k==int(m[i][0]) and k==2:\n",
        "      TP+=1\n",
        "    elif k==int(m[i][0]) and k==1:\n",
        "      TN+=1\n",
        "    elif k!=int(m[i][0]) and k==2:\n",
        "      FP+=1\n",
        "    else:\n",
        "      FN+=1\n",
        "    # print(TP)\n",
        "    # print(TN)\n",
        "    # print(FP)\n",
        "    # print(FN)\n",
        "  TPR.append(TP/(TP+FN))\n",
        "  FPR.append(FP/(FP+TN))\n",
        "    "
      ],
      "metadata": {
        "id": "w-jivhjYe_uB"
      },
      "execution_count": 22,
      "outputs": []
    },
    {
      "cell_type": "code",
      "source": [
        "plt.plot(TPR,FPR)"
      ],
      "metadata": {
        "colab": {
          "base_uri": "https://localhost:8080/",
          "height": 282
        },
        "outputId": "33f08ae7-eac5-46b3-e6f7-f4267f8109d6",
        "id": "iibVC6nze_uB"
      },
      "execution_count": 23,
      "outputs": [
        {
          "output_type": "execute_result",
          "data": {
            "text/plain": [
              "[<matplotlib.lines.Line2D at 0x7f39a8076130>]"
            ]
          },
          "metadata": {},
          "execution_count": 23
        },
        {
          "output_type": "display_data",
          "data": {
            "text/plain": [
              "<Figure size 432x288 with 1 Axes>"
            ],
            "image/png": "[encoded data removed]"
          },
          "metadata": {
            "needs_background": "light"
          }
        }
      ]
    },
    {
      "cell_type": "markdown",
      "source": [
        "### Method 2"
      ],
      "metadata": {
        "id": "T5kfNDSUODb-"
      }
    },
    {
      "cell_type": "code",
      "source": [
        "classes = 5"
      ],
      "metadata": {
        "id": "9aLK6764ZWVT"
      },
      "execution_count": 6,
      "outputs": []
    },
    {
      "cell_type": "code",
      "source": [
        "temp = train_dataset[:,:]\n",
        "f1 = temp[np.where(temp[:,10]==1)]\n",
        "f1 = f1[:,3:4]   # Considering only one feature for ROC determination\n",
        "f1 = np.column_stack((f1,np.ones(f1.shape[0])))\n",
        "print(f1[:,0].mean())\n",
        "f2 = temp[np.where(temp[:,10]==2)]\n",
        "f2 = f2[:,3:4]    # Considering only one feature for ROC determination\n",
        "f2 = np.column_stack((f2,np.zeros(f2.shape[0])))\n",
        "print(f2[:,0].mean())"
      ],
      "metadata": {
        "colab": {
          "base_uri": "https://localhost:8080/"
        },
        "id": "YKYh9M-YUzXA",
        "outputId": "13b3efe8-7604-483d-b9f8-1f1c0830862c"
      },
      "execution_count": 9,
      "outputs": [
        {
          "output_type": "stream",
          "name": "stdout",
          "text": [
            "-0.009259915310876918\n",
            "1.3879444040446494\n"
          ]
        }
      ]
    },
    {
      "cell_type": "code",
      "source": [
        "f = np.row_stack((f1,f2))"
      ],
      "metadata": {
        "id": "Ec0iivShZZ6s"
      },
      "execution_count": 11,
      "outputs": []
    },
    {
      "cell_type": "code",
      "source": [
        "TPR=[]\n",
        "FPR=[]\n",
        "for i in range(-6,6):\n",
        "  TP=0\n",
        "  FP=0\n",
        "  TN=0\n",
        "  FN=0\n",
        "  for j in range(f.shape[0]):\n",
        "    if f[j][0]>i and f[j][1]==1:\n",
        "      TP=TP+1\n",
        "    elif f[j][0]>i and f[j][1]==0:\n",
        "      FP =FP+1\n",
        "    elif f[j][0]<=i and f[j][1]==0:\n",
        "      TN = TN+1\n",
        "    else:\n",
        "      FN = FN+1\n",
        "  TPR.append(TP/(TP+FN))\n",
        "  FPR.append(FP/(FP+TN))"
      ],
      "metadata": {
        "id": "-5wNZwK4Zi6n"
      },
      "execution_count": 12,
      "outputs": []
    },
    {
      "cell_type": "code",
      "source": [
        "plt.plot(TPR,FPR)"
      ],
      "metadata": {
        "colab": {
          "base_uri": "https://localhost:8080/",
          "height": 282
        },
        "id": "mFbkEcrbhnOJ",
        "outputId": "187b8cdf-2f17-4cbe-f62d-54a74e594101"
      },
      "execution_count": 13,
      "outputs": [
        {
          "output_type": "execute_result",
          "data": {
            "text/plain": [
              "[<matplotlib.lines.Line2D at 0x7f6c60285370>]"
            ]
          },
          "metadata": {},
          "execution_count": 13
        },
        {
          "output_type": "display_data",
          "data": {
            "text/plain": [
              "<Figure size 432x288 with 1 Axes>"
            ],
            "image/png": "[encoded data removed]"
          },
          "metadata": {
            "needs_background": "light"
          }
        }
      ]
    },
    {
      "cell_type": "markdown",
      "source": [
        "## (vii) GMM"
      ],
      "metadata": {
        "id": "QSshari5guyd"
      }
    },
    {
      "cell_type": "code",
      "source": [
        "def p3_split_dataset(dataset,train_ratio):\n",
        "  classes = np.unique(dataset[:,-1])\n",
        "  dataset_size = dataset.shape[0]\n",
        "  count = int(train_ratio*(dataset_size))\n",
        "\n",
        "  np.random.shuffle(dataset)\n",
        "  train_dataset, test_dataset = dataset[:count,:], dataset[count:,:]\n",
        "\n",
        "  return train_dataset,test_dataset"
      ],
      "metadata": {
        "id": "VG-XQQuaQpSR"
      },
      "execution_count": null,
      "outputs": []
    },
    {
      "cell_type": "code",
      "source": [
        "def p3_normalize_data(dataset):\n",
        "  row_Max = np.amax(dataset[:,:-1], axis=0)\n",
        "  row_Min = np.amin(dataset[:,:-1], axis=0)\n",
        "  dataset = np.c_[(dataset[:,:-1]-row_Min)/(row_Max-row_Min),dataset[:,-1]]\n",
        "  return dataset"
      ],
      "metadata": {
        "id": "VpFoPHKgQpSS"
      },
      "execution_count": null,
      "outputs": []
    },
    {
      "cell_type": "code",
      "source": [
        "def p3_GMM_training(train_dataset,epochs,number_of_Gaussian):\n",
        "  min_class = int(np.min(train_dataset[:,-1]))\n",
        "  classes = int(len(np.unique(train_dataset[:,-1])))\n",
        "  dimension = train_dataset.shape[1]-1\n",
        "  Const = 1/np.power(2*math.pi,dimension/2)\n",
        "\n",
        "\n",
        "  Category_wise_train_data = []\n",
        "  for i in range(classes):\n",
        "    Category_wise_train_data.append(train_dataset[train_dataset[:,-1]==(i+min_class)][:,:-1])\n",
        "  \n",
        "  Means = []\n",
        "  Variance = []\n",
        "  Pi = []\n",
        "    \n",
        "  for digit_class in range(classes): \n",
        "    Category_wise_epochs = 0\n",
        "    Category_wise_Means = np.random.uniform(0, 1,(dimension,number_of_Gaussian)) #np.zeros((dimension,number_of_Gaussian))\n",
        "    Category_wise_Variance = np.identity(dimension)\n",
        "    Category_wise_Variance = np.dstack([Category_wise_Variance]*number_of_Gaussian)\n",
        "\n",
        "    Category_wise_Pi = np.ones(number_of_Gaussian)/number_of_Gaussian\n",
        "        \n",
        "    \n",
        "    for Category_wise_epochs in range(epochs):\n",
        "        # Calculating inverse of co-variance matrix\n",
        "        Category_wise_Variance_inverse = np.identity(dimension)\n",
        "        Category_wise_Variance_inverse = np.dstack([Category_wise_Variance_inverse]*number_of_Gaussian)\n",
        "\n",
        "        for i in range(number_of_Gaussian):\n",
        "            Category_wise_Variance_inverse[:,:,i] = np.linalg.inv(Category_wise_Variance[:,:,i])\n",
        "\n",
        "\n",
        "        # calculating determinant\n",
        "        Category_wise_Variance_det = np.zeros(number_of_Gaussian)\n",
        "\n",
        "        for i in range(number_of_Gaussian):\n",
        "            Category_wise_Variance_det[i] = np.linalg.det(Category_wise_Variance[:,:,i])\n",
        "            \n",
        "        \n",
        "        Category_wise_Gamma = np.zeros((Category_wise_train_data[digit_class].shape[0],number_of_Gaussian))\n",
        "        \n",
        "        \n",
        "        \n",
        "        data_point_number = 0\n",
        "        #Calculating Gamma for each datapoint and each class\n",
        "        for data_point in Category_wise_train_data[digit_class]:\n",
        "            Denominator = 0.0\n",
        "            for k in range(number_of_Gaussian):\n",
        "                temp1 = data_point-Category_wise_Means[:,k]\n",
        "                temp2 = Category_wise_Variance_inverse[:,:,k]\n",
        "                temp3 = (-1/2)*(temp1.T @ temp2 @ temp1)\n",
        "                temp4 = np.exp(temp3)\n",
        "                temp5 = np.power(Category_wise_Variance_det[k],-0.5)*temp4*Category_wise_Pi[k]\n",
        "                Denominator += temp5\n",
        "\n",
        "            Gamma_each_Gaussian = np.zeros(number_of_Gaussian)\n",
        "            for k in range(number_of_Gaussian):\n",
        "                temp6 = data_point-Category_wise_Means[:,k]\n",
        "\n",
        "                temp7 = Category_wise_Variance_inverse[:,:,k]\n",
        "                temp8 = (-1/2)*(temp6.T @ temp7 @ temp6)\n",
        "\n",
        "                temp9 = np.exp(temp8)\n",
        "                Numerator = np.power(Category_wise_Variance_det[k],-0.5)*temp9*Category_wise_Pi[k]\n",
        "\n",
        "                Gamma_each_Gaussian[k] = (Numerator/Denominator)\n",
        "\n",
        "            Category_wise_Gamma[data_point_number,:] = Gamma_each_Gaussian\n",
        "            \n",
        "            data_point_number += 1\n",
        "            \n",
        "\n",
        "        \n",
        "        # Updating mean\n",
        "        \n",
        "        for k in range(number_of_Gaussian):\n",
        "            meank = np.zeros(dimension)\n",
        "            data_point_number = 0\n",
        "            #updating mean in one line\n",
        "            Category_wise_Means[:,k] = np.average(Category_wise_train_data[digit_class],axis = 0, weights=Category_wise_Gamma[:,k])\n",
        "        \n",
        "\n",
        "        \n",
        "        Nk = np.sum(Category_wise_Gamma,axis = 0)\n",
        "\n",
        "        for k in range(number_of_Gaussian):\n",
        "            variancek = np.zeros((dimension,dimension))\n",
        "            count = 0\n",
        "            data_point_number = 0\n",
        "            for data_point in Category_wise_train_data[digit_class]:\n",
        "                v = data_point-Category_wise_Means[:,k]\n",
        "                x = (v).reshape(v.shape[0],1)\n",
        "\n",
        "                variancek = variancek + (x @ x.T ) * Category_wise_Gamma[data_point_number,k]\n",
        "                data_point_number += 1\n",
        "                \n",
        "            Category_wise_Variance[:,:,k] = variancek/Nk[k]\n",
        "\n",
        "            # retaining only diagonals\n",
        "            temp = np.identity(len(Category_wise_Variance[:,:,k]))\n",
        "            Category_wise_Variance[:,:,k] = Category_wise_Variance[:,:,k]*temp\n",
        "\n",
        "        \n",
        "        # Updating Pi\n",
        "        \n",
        "        \n",
        "        Category_wise_Pi = Nk/Category_wise_train_data[digit_class].shape[0]\n",
        "        \n",
        "    Means.append(Category_wise_Means)\n",
        "    Variance.append(Category_wise_Variance)\n",
        "    Pi.append(Category_wise_Pi)\n",
        "  return Means,Variance,Pi\n"
      ],
      "metadata": {
        "id": "tS6m--d04X0j"
      },
      "execution_count": null,
      "outputs": []
    },
    {
      "cell_type": "code",
      "source": [
        "def p3_GMM_testing(test_dataset,classes,Means,Variance,Pi,number_of_Gaussian):\n",
        "  min_class = int(np.min(test_dataset[:,-1]))\n",
        "  dimension = test_dataset.shape[1]-1\n",
        "  Variance_inverse = []\n",
        "  # Calculating inverse of co-variance matrix\n",
        "  for i in range(len(Variance)):\n",
        "      \n",
        "      Category_wise_Variance = Variance[i]\n",
        "      \n",
        "      Category_wise_Variance_inverse = np.identity(dimension)\n",
        "      Category_wise_Variance_inverse = np.dstack([Category_wise_Variance_inverse]*number_of_Gaussian)\n",
        "      \n",
        "      for k in range(number_of_Gaussian):\n",
        "          Category_wise_Variance_inverse[:,:,k] = np.linalg.inv(Category_wise_Variance[:,:,k])\n",
        "      \n",
        "      Variance_inverse.append(Category_wise_Variance_inverse)\n",
        "\n",
        "  # Variance determinant\n",
        "  Variance_det = []\n",
        "\n",
        "  for i in range(len(Variance)):\n",
        "      \n",
        "      Category_wise_Variance = Variance[i]\n",
        "      \n",
        "      Category_wise_Variance_det = np.zeros(number_of_Gaussian)\n",
        "      \n",
        "      for k in range(number_of_Gaussian):\n",
        "          Category_wise_Variance_det[k] = np.linalg.det(Category_wise_Variance[:,:,k])\n",
        "      Variance_det.append(Category_wise_Variance_det)\n",
        "\n",
        "  confusion_matrix = np.zeros((classes,classes))\n",
        "  correct_predicted_labels = 0\n",
        "  for data_point in test_dataset:\n",
        "    probabilities = np.zeros(classes)\n",
        "\n",
        "    for Class in range(classes):\n",
        "      Inner_summation = 0.0\n",
        "\n",
        "      for k in range(number_of_Gaussian):\n",
        "        \n",
        "        temp1 = data_point[:-1]-Means[Class][:,k]\n",
        "        temp1 = (temp1).reshape(temp1.shape[0],1)\n",
        "        temp2 = Variance_inverse[Class][:,:,k]\n",
        "        temp3 = (-1/2)*(temp1.T @ temp2 @ temp1)\n",
        "        temp4 = np.exp(temp3)\n",
        "        temp5 = np.power(Variance_det[Class][k],-0.5)*temp4*Pi[Class][k]\n",
        "        Inner_summation += temp5\n",
        "      probabilities[Class] = Inner_summation\n",
        "      \n",
        "    predicted_class = np.argmax(probabilities) + min_class\n",
        "    confusion_matrix[predicted_class-min_class][int(data_point[-1])-min_class] += 1\n",
        "    if(predicted_class==int(data_point[-1])):\n",
        "      correct_predicted_labels += 1\n",
        "\n",
        "\n",
        "  accuracy = correct_predicted_labels/test_dataset.shape[0]\n",
        "\n",
        "  return accuracy,confusion_matrix"
      ],
      "metadata": {
        "id": "-ZrIK_QdQpSU"
      },
      "execution_count": null,
      "outputs": []
    },
    {
      "cell_type": "code",
      "source": [
        "def p3_get_likelihood(dataset,Means,Variance,Pi,number_of_Gaussian):\n",
        "  min_class = int(np.min(dataset[:,-1]))\n",
        "  dimension = dataset.shape[1]-1\n",
        "  Variance_inverse = []\n",
        "  # Calculating inverse of co-variance matrix\n",
        "  for i in range(len(Variance)):\n",
        "      \n",
        "      Category_wise_Variance = Variance[i]\n",
        "      \n",
        "      Category_wise_Variance_inverse = np.identity(dimension)\n",
        "      Category_wise_Variance_inverse = np.dstack([Category_wise_Variance_inverse]*number_of_Gaussian)\n",
        "      \n",
        "      for k in range(number_of_Gaussian):\n",
        "          Category_wise_Variance_inverse[:,:,k] = np.linalg.inv(Category_wise_Variance[:,:,k])\n",
        "      \n",
        "      Variance_inverse.append(Category_wise_Variance_inverse)\n",
        "\n",
        "  # Variance determinant\n",
        "  Variance_det = []\n",
        "\n",
        "  for i in range(len(Variance)):\n",
        "      \n",
        "      Category_wise_Variance = Variance[i]\n",
        "      \n",
        "      Category_wise_Variance_det = np.zeros(number_of_Gaussian)\n",
        "      \n",
        "      for k in range(number_of_Gaussian):\n",
        "          Category_wise_Variance_det[k] = np.linalg.det(Category_wise_Variance[:,:,k])\n",
        "      Variance_det.append(Category_wise_Variance_det)\n",
        "\n",
        "  log_likelihood = 0.0\n",
        "  data_point_number = 0\n",
        "  \n",
        "  for data_point in dataset:\n",
        "      Inner_summation = 0.0\n",
        "      for k in range(number_of_Gaussian):\n",
        "          temp1 = data_point[:-1]-Means[int(data_point[-1])-min_class][:,k]\n",
        "          temp1 = (temp1).reshape(temp1.shape[0],1)\n",
        "          temp2 = Variance_inverse[int(data_point[-1])-min_class][:,:,k]\n",
        "          temp3 = (-1/2)*(temp1.T @ temp2 @ temp1)\n",
        "          temp4 = np.exp(temp3)\n",
        "          temp5 = np.power(Variance_det[int(data_point[-1])-min_class][k],-0.5)*temp4*Pi[int(data_point[-1])-min_class][k]\n",
        "          Inner_summation += temp5\n",
        "          \n",
        "      log_likelihood += np.log(Inner_summation)\n",
        "          \n",
        "      data_point_number += 1\n",
        "  \n",
        "  return log_likelihood"
      ],
      "metadata": {
        "id": "PyU1NetbQpSU"
      },
      "execution_count": null,
      "outputs": []
    },
    {
      "cell_type": "code",
      "execution_count": null,
      "metadata": {
        "id": "C2MR4HseQpSV"
      },
      "outputs": [],
      "source": [
        "train_dataset = np.loadtxt('/content/drive/MyDrive/Prnn/p3_train.csv', delimiter=',', skiprows=0)\n",
        "test_dataset = np.loadtxt('/content/drive/MyDrive/Prnn/p3_test.csv', delimiter=',', skiprows=0)"
      ]
    },
    {
      "cell_type": "code",
      "source": [
        "train_dataset = p3_normalize_data(train_dataset)\n",
        "test_dataset = p3_normalize_data(test_dataset)"
      ],
      "metadata": {
        "id": "7PLbG9aBvNw7"
      },
      "execution_count": null,
      "outputs": []
    },
    {
      "cell_type": "code",
      "source": [
        "classes = 5\n",
        "y1 = np.zeros(6)\n",
        "x1 = np.array([1,2,3,4,5,6])\n",
        "for number_of_Gaussian in x1:\n",
        "  Means1,Variance1,Pi1 = p3_GMM_training(train_dataset,5,number_of_Gaussian)\n",
        "  accuracy1,confusion_matrix1 = p3_GMM_testing(test_dataset,5,Means1,Variance1,Pi1,number_of_Gaussian)\n",
        "  TP1=[]\n",
        "  TN1=[]\n",
        "  FP1=[]\n",
        "  FN1=[]\n",
        "  F11=[]\n",
        "  for i in range(classes):\n",
        "    TP1.append(confusion_matrix1[i][i])\n",
        "    TN1.append(np.sum(confusion_matrix1)-np.sum(confusion_matrix1[i,:])-np.sum(confusion_matrix1[:,i])+confusion_matrix1[i][i])\n",
        "    FP1.append(np.sum(confusion_matrix1[i,:])-confusion_matrix1[i][i])\n",
        "    FN1.append(np.sum(confusion_matrix1[:,i])-confusion_matrix1[i][i])\n",
        "    F11.append((2*TP1[i])/(2*TP1[i] + FP1[i] + FN1[i]))\n",
        "  y1[number_of_Gaussian-1] = p3_get_likelihood(train_dataset,Means1,Variance1,Pi1,number_of_Gaussian)\n",
        "  print(\"Accuracy for \",number_of_Gaussian,\" mixtures is : \",accuracy1)\n",
        "  print(\"F1 scores for \",number_of_Gaussian,\" mixtures is : \",F11)\n",
        "  print(\"Confusion matrix for \",number_of_Gaussian,\" mixtures is : \",confusion_matrix1)\n",
        "\n",
        "y1 = (y1-np.min(y1))/(np.max(y1)-np.min(y1))\n",
        "plt.plot(x1,y1) \n",
        "plt.title(\"Log likelihood vs Gaussian mixtures\") \n",
        "plt.xlabel(\"Gaussian misture\") \n",
        "plt.ylabel(\"log likelihood\") \n",
        "plt.show()"
      ],
      "metadata": {
        "colab": {
          "base_uri": "https://localhost:8080/"
        },
        "id": "2A3AIix5k0a7",
        "outputId": "af7da268-656b-4a5c-f588-c58214e7c0e1"
      },
      "execution_count": null,
      "outputs": [
        {
          "output_type": "stream",
          "name": "stdout",
          "text": [
            "Accuracy for  1  mixtures is :  0.5666\n",
            "F1 scores for  1  mixtures is :  [0.5258532298227626, 0.5621639237412417, 0.6065422287931991, 0.5836831538601934, 0.5658965180605272]\n",
            "Confusion matrix for  1  mixtures is :  [[1795.  526.  496.  508.  531.]\n",
            " [ 373. 1725.  339.  367.  352.]\n",
            " [ 185.  190. 1641.  173.  182.]\n",
            " [ 260.  213.  203. 1599.  229.]\n",
            " [ 358.  327.  361.  328. 1739.]]\n",
            "Accuracy for  2  mixtures is :  0.5688666666666666\n",
            "F1 scores for  2  mixtures is :  [0.5277330601492756, 0.5661848302744843, 0.6122979751068177, 0.5833181900781392, 0.56629653821032]\n",
            "Confusion matrix for  2  mixtures is :  [[1803.  523.  495.  510.  531.]\n",
            " [ 370. 1743.  339.  366.  358.]\n",
            " [ 180.  177. 1648.  167.  171.]\n",
            " [ 260.  218.  206. 1605.  239.]\n",
            " [ 358.  320.  352.  327. 1734.]]\n",
            "Accuracy for  3  mixtures is :  0.5696666666666667\n",
            "F1 scores for  3  mixtures is :  [0.5305226174791392, 0.5643853389555628, 0.6106898464952839, 0.585792349726776, 0.5679659351457582]\n",
            "Confusion matrix for  3  mixtures is :  [[1812.  520.  494.  508.  526.]\n",
            " [ 372. 1740.  343.  367.  363.]\n",
            " [ 182.  190. 1651.  167.  177.]\n",
            " [ 254.  216.  204. 1608.  233.]\n",
            " [ 351.  315.  348.  325. 1734.]]\n",
            "Accuracy for  4  mixtures is :  0.5687333333333333\n",
            "F1 scores for  4  mixtures is :  [0.5305349074478939, 0.5644610632417493, 0.6092739700720488, 0.5831509846827133, 0.5670661631915942]\n",
            "Confusion matrix for  4  mixtures is :  [[1820.  523.  503.  510.  534.]\n",
            " [ 368. 1736.  341.  366.  359.]\n",
            " [ 180.  190. 1649.  173.  181.]\n",
            " [ 255.  219.  204. 1599.  232.]\n",
            " [ 348.  313.  343.  327. 1727.]]\n",
            "Accuracy for  5  mixtures is :  0.5686666666666667\n",
            "F1 scores for  5  mixtures is :  [0.5294460641399417, 0.5643693107932379, 0.6104328523862376, 0.5829383886255924, 0.5672572178477691]\n",
            "Confusion matrix for  5  mixtures is :  [[1816.  525.  496.  515.  537.]\n",
            " [ 369. 1736.  344.  366.  356.]\n",
            " [ 181.  186. 1650.  170.  179.]\n",
            " [ 258.  218.  204. 1599.  232.]\n",
            " [ 347.  316.  346.  325. 1729.]]\n",
            "Accuracy for  6  mixtures is :  0.5696\n",
            "F1 scores for  6  mixtures is :  [0.5310997815003642, 0.5647937642091588, 0.6105965172286032, 0.5846546382358302, 0.5679579776756402]\n",
            "Confusion matrix for  6  mixtures is :  [[1823.  527.  495.  513.  536.]\n",
            " [ 369. 1739.  345.  366.  358.]\n",
            " [ 181.  185. 1648.  168.  176.]\n",
            " [ 254.  216.  205. 1604.  233.]\n",
            " [ 344.  314.  347.  324. 1730.]]\n"
          ]
        },
        {
          "output_type": "display_data",
          "data": {
            "text/plain": [
              "<Figure size 432x288 with 1 Axes>"
            ],
            "image/png": "[encoded data removed]"
          },
          "metadata": {
            "needs_background": "light"
          }
        }
      ]
    },
    {
      "cell_type": "markdown",
      "source": [
        "# Q4"
      ],
      "metadata": {
        "id": "nUFOGQ0zyMWy"
      }
    },
    {
      "cell_type": "code",
      "source": [
        "# These following imports are required because we have to upload image files from drive to colab\n",
        "import zipfile # To unzip\n",
        "import os      # To upload files\n",
        "import cv2     # To read image files"
      ],
      "metadata": {
        "id": "_vA91T9PyQNw"
      },
      "execution_count": 533,
      "outputs": []
    },
    {
      "cell_type": "markdown",
      "source": [
        "## Extracting images from ZIP files and importing to colab"
      ],
      "metadata": {
        "id": "vPtYRAz20WWG"
      }
    },
    {
      "cell_type": "code",
      "source": [
        "# Set the path of the zip file in Google Drive\n",
        "zip_path = \"/content/drive/MyDrive/Prnn/Assignment1_resized_images.zip\"\n",
        "\n",
        "# Set the path to extract the zip file to in the Colab environment\n",
        "extract_path = \"/content\"\n",
        "\n",
        "# Extract the zip file to the specified path\n",
        "with zipfile.ZipFile(zip_path, 'r') as zip_ref:\n",
        "    zip_ref.extractall(extract_path)\n"
      ],
      "metadata": {
        "id": "oQnPhrKk0cyj"
      },
      "execution_count": 534,
      "outputs": []
    },
    {
      "cell_type": "code",
      "source": [
        "extract_path = \"/content/Assignment1_resized_images\""
      ],
      "metadata": {
        "id": "FjdvT98-0ZWM"
      },
      "execution_count": 535,
      "outputs": []
    },
    {
      "cell_type": "code",
      "source": [
        "# Creating a list of list of images of particular class \n",
        "lst_img_clss = []\n",
        "for class_folder in sorted(os.listdir(extract_path)):\n",
        "  class_folder_path = os.path.join(extract_path, class_folder)\n",
        "  temp = []\n",
        "  for filename in sorted(os.listdir(class_folder_path)):\n",
        "    file_paths = os.path.join(class_folder_path, filename)\n",
        "    img = cv2.imread(file_paths)\n",
        "    gray_img = cv2.cvtColor(img, cv2.COLOR_BGR2GRAY)\n",
        "    temp.append(gray_img)\n",
        "  lst_img_clss.append(temp)"
      ],
      "metadata": {
        "id": "MPUHQhuU0eVV"
      },
      "execution_count": 536,
      "outputs": []
    },
    {
      "cell_type": "code",
      "source": [
        "classes = len(lst_img_clss) # 10"
      ],
      "metadata": {
        "id": "dcT_bbhw0r6q"
      },
      "execution_count": 537,
      "outputs": []
    },
    {
      "cell_type": "markdown",
      "source": [
        "## Creating dataset from images"
      ],
      "metadata": {
        "id": "SkA2-9it1Bg4"
      }
    },
    {
      "cell_type": "code",
      "source": [
        "X=[]\n",
        "Y = []\n",
        "for i in range(classes):\n",
        "  tmp = []\n",
        "  for j in range(len(lst_img_clss[i])):\n",
        "    x = np.ndarray.flatten(lst_img_clss[i][j])\n",
        "    tmp.append(x)\n",
        "  a = np.stack(tmp,axis = 0)\n",
        "  X.append(a)\n",
        "  Y.append(i)\n"
      ],
      "metadata": {
        "id": "CVMZy6g20-B3"
      },
      "execution_count": 538,
      "outputs": []
    },
    {
      "cell_type": "code",
      "source": [
        "a = X[0]\n",
        "b = np.zeros((X[0].shape[0],1))\n",
        "dataset = np.column_stack((a,b))\n",
        "for i in range(1,classes):\n",
        "  a=X[i]\n",
        "  b = i*np.ones((X[i].shape[0],1))\n",
        "  temp = np.column_stack((a,b))\n",
        "  dataset = np.row_stack((dataset,temp))"
      ],
      "metadata": {
        "id": "jQFaWBuv1G3M"
      },
      "execution_count": 539,
      "outputs": []
    },
    {
      "cell_type": "code",
      "source": [
        "dataset.shape  # Overall dataset"
      ],
      "metadata": {
        "colab": {
          "base_uri": "https://localhost:8080/"
        },
        "id": "6_Ieo-ym1IWL",
        "outputId": "efd4b5e5-3232-4892-d978-1345ca1b7ca6"
      },
      "execution_count": 540,
      "outputs": [
        {
          "output_type": "execute_result",
          "data": {
            "text/plain": [
              "(60000, 785)"
            ]
          },
          "metadata": {},
          "execution_count": 540
        }
      ]
    },
    {
      "cell_type": "markdown",
      "source": [
        "## Creating functions for GMM"
      ],
      "metadata": {
        "id": "5jh9yUAbEkSD"
      }
    },
    {
      "cell_type": "code",
      "execution_count": null,
      "metadata": {
        "id": "fjrYO2A1JD4j"
      },
      "outputs": [],
      "source": [
        "def p4_split_dataset(dataset,train_ratio):\n",
        "  classes = np.unique(dataset[:,-1])\n",
        "  dataset_size = dataset.shape[0]\n",
        "  count = int(train_ratio*(dataset_size))\n",
        "\n",
        "  np.random.shuffle(dataset)\n",
        "  train_dataset, test_dataset = dataset[:count,:], dataset[count:,:]\n",
        "\n",
        "  return train_dataset,test_dataset"
      ]
    },
    {
      "cell_type": "code",
      "execution_count": null,
      "metadata": {
        "id": "k2aIfktO2rOs"
      },
      "outputs": [],
      "source": [
        "def p4_GMM_training(train_dataset,epochs,number_of_Gaussian):\n",
        "  min_class = int(np.min(train_dataset[:,-1]))\n",
        "  classes = int(len(np.unique(train_dataset[:,-1])))\n",
        "  dimension = train_dataset.shape[1]-1\n",
        "\n",
        "  Category_wise_train_data = []\n",
        "  \n",
        "  for i in range(classes):\n",
        "    Category_wise_train_data.append(train_dataset[train_dataset[:,-1]==(i+min_class)][:,:-1])\n",
        "  \n",
        "\n",
        "    \n",
        "  Means = []\n",
        "  Pi = []\n",
        "\n",
        "  epochs = 10\n",
        "  for digit_class in range(classes):\n",
        "    Category_wise_epochs = 0\n",
        "    Category_wise_Means = np.random.random_sample((dimension,number_of_Gaussian)) #np.random.uniform(0, 1,(dimension,number_of_Gaussian)) #np.zeros((dimension,number_of_Gaussian))\n",
        "    Category_wise_Pi = np.ones(number_of_Gaussian)/number_of_Gaussian\n",
        "    \n",
        "    for Category_wise_epochs in range(epochs):            \n",
        "        \n",
        "        Category_wise_Gamma = np.zeros((Category_wise_train_data[digit_class].shape[0],number_of_Gaussian))\n",
        "        \n",
        "        \n",
        "        data_point_number = 0\n",
        "        \n",
        "        #Calculating Gamma for each datapoint and each class\n",
        "        for data_point in Category_wise_train_data[digit_class]:\n",
        "            Gamma_each_Gaussian = np.zeros(number_of_Gaussian)\n",
        "            for k in range(number_of_Gaussian):\n",
        "                \n",
        "                temp1 = data_point-Category_wise_Means[:,k]\n",
        "\n",
        "                temp3 = (-1/2)*(np.power(np.linalg.norm(temp1),2))\n",
        "\n",
        "                temp4 = np.exp(temp3)\n",
        "\n",
        "                temp5 = temp4*Category_wise_Pi[k]\n",
        "\n",
        "                Gamma_each_Gaussian[k] = temp5\n",
        "\n",
        "            Gamma_each_Gaussian = Gamma_each_Gaussian/np.sum(Gamma_each_Gaussian)\n",
        "\n",
        "            Category_wise_Gamma[data_point_number,:] = Gamma_each_Gaussian\n",
        "            \n",
        "            data_point_number += 1\n",
        "            \n",
        "\n",
        "        \n",
        "        # Updating mean\n",
        "        \n",
        "        for k in range(number_of_Gaussian):\n",
        "            #updating mean in one line\n",
        "            Category_wise_Means[:,k] = np.average(Category_wise_train_data[digit_class],axis = 0, weights=Category_wise_Gamma[:,k])\n",
        "        \n",
        "\n",
        "        # Updating Co-variance matrix\n",
        "        \n",
        "        Nk = np.sum(Category_wise_Gamma,axis = 0)\n",
        "\n",
        "\n",
        "        # Updating Pi\n",
        "        \n",
        "        Category_wise_Pi = Nk/Category_wise_train_data[digit_class].shape[0]\n",
        "        \n",
        "    Means.append(Category_wise_Means)\n",
        "    Pi.append(Category_wise_Pi)\n",
        "    \n",
        "    \n",
        "  return Means,Pi\n"
      ]
    },
    {
      "cell_type": "code",
      "execution_count": null,
      "metadata": {
        "id": "6kIeCcDwEobm"
      },
      "outputs": [],
      "source": [
        "def p4_GMM_testing(test_dataset,classes,Means,Pi,number_of_Gaussian):\n",
        "  min_class = int(np.min(test_dataset[:,-1]))\n",
        "  dimension = test_dataset.shape[1]-1\n",
        "  \n",
        "  confusion_matrix = np.zeros((classes,classes))\n",
        "\n",
        "\n",
        "  correct_predicted_labels = 0\n",
        "  for data_point in test_dataset:\n",
        "\n",
        "    probabilities = np.zeros(classes)\n",
        "\n",
        "    for Class in range(classes):\n",
        "    \n",
        "      Inner_summation = 0.0\n",
        "      for k in range(number_of_Gaussian):\n",
        "        temp1 = data_point[:-1]-Means[Class][:,k]\n",
        "        temp3 = (-1/2)*(np.power(np.linalg.norm(temp1),2))\n",
        "        temp4 = np.exp(temp3)\n",
        "        temp5 = temp4*Pi[Class][k]\n",
        "        Inner_summation += temp5\n",
        "      probabilities[Class] = Inner_summation\n",
        "    predicted_class = np.argmax(probabilities)\n",
        "    confusion_matrix[predicted_class][int(data_point[-1])] += 1\n",
        "    if(predicted_class==int(data_point[-1])):\n",
        "      correct_predicted_labels += 1\n",
        "\n",
        "\n",
        "  accuracy = correct_predicted_labels/test_dataset.shape[0]\n",
        "\n",
        "  return accuracy,confusion_matrix"
      ]
    },
    {
      "cell_type": "code",
      "execution_count": null,
      "metadata": {
        "id": "nny9Q6ooCbto"
      },
      "outputs": [],
      "source": [
        "def p4_get_likelihood(dataset,Means,Pi,number_of_Gaussian):\n",
        "  min_class = int(np.min(dataset[:,-1]))\n",
        "  dimension = dataset.shape[1]-1\n",
        "  \n",
        "\n",
        "  log_likelihood = 0.0\n",
        "  data_point_number = 0\n",
        "  \n",
        "  for data_point in dataset:\n",
        "      Inner_summation = 0.0\n",
        "      for k in range(number_of_Gaussian):\n",
        "          temp1 = data_point[:-1]-Means[int(data_point[-1])-min_class][:,k]\n",
        "\n",
        "          temp3 = (-1/2)*(np.power(np.linalg.norm(temp1),2))\n",
        "          temp4 = np.exp(temp3)\n",
        "          \n",
        "          temp5 = temp4*Pi[int(data_point[-1])-min_class][k]\n",
        "          Inner_summation += temp5\n",
        "          \n",
        "      log_likelihood += np.log(Inner_summation)\n",
        "          \n",
        "      data_point_number += 1\n",
        "  \n",
        "  return log_likelihood"
      ]
    },
    {
      "cell_type": "code",
      "execution_count": null,
      "metadata": {
        "id": "Dm1edkbLm1Mo"
      },
      "outputs": [],
      "source": [
        "def p4_normalize_Image_dataset(dataset):\n",
        "  dataset = np.c_[ dataset[:,:-1]/255, dataset[:,-1]]\n",
        "  return dataset"
      ]
    },
    {
      "cell_type": "code",
      "execution_count": null,
      "metadata": {
        "id": "2BXYlx_SOQBg"
      },
      "outputs": [],
      "source": [
        "p4dataset = dataset\n"
      ]
    },
    {
      "cell_type": "code",
      "execution_count": null,
      "metadata": {
        "id": "kdfY38YfnFPi"
      },
      "outputs": [],
      "source": [
        "p4dataset = p4_normalize_Image_dataset(p4dataset)"
      ]
    },
    {
      "cell_type": "code",
      "execution_count": null,
      "metadata": {
        "id": "B9KGa81P_peG"
      },
      "outputs": [],
      "source": [
        "np.set_printoptions(suppress=True)"
      ]
    },
    {
      "cell_type": "markdown",
      "source": [
        "## Model 1 - 20:80"
      ],
      "metadata": {
        "id": "O2ttDoLJ1f5y"
      }
    },
    {
      "cell_type": "code",
      "source": [
        "# creating training and testing dataset\n",
        "count = 1500 #per class\n",
        "a=X[0]\n",
        "a=a[0:count,:]/255       # Normalising else exponent becomes 0\n",
        "b = np.zeros((a.shape[0],1))\n",
        "train_dataset = np.column_stack((a,b))\n",
        "a=X[0]\n",
        "a=a[count:,:]/255\n",
        "b = np.zeros((a.shape[0],1))\n",
        "test_dataset = np.column_stack((a,b))\n",
        "for i in range(1,classes):\n",
        "  a=X[i]\n",
        "  a=a[0:count,:]/255\n",
        "  b = i*np.ones((a.shape[0],1))\n",
        "  temp = np.column_stack((a,b))\n",
        "  train_dataset = np.row_stack((train_dataset,temp))\n",
        "  a=X[i]\n",
        "  a=a[count:,:]/255\n",
        "  b = i*np.ones((a.shape[0],1))\n",
        "  temp = np.column_stack((a,b))\n",
        "  test_dataset = np.row_stack((test_dataset,temp))\n"
      ],
      "metadata": {
        "id": "Bo917_Ia1NJJ"
      },
      "execution_count": 68,
      "outputs": []
    },
    {
      "cell_type": "code",
      "source": [
        "train_dataset.shape"
      ],
      "metadata": {
        "colab": {
          "base_uri": "https://localhost:8080/"
        },
        "id": "0rDaP8Kf1UER",
        "outputId": "46d8f645-33ce-42a6-c934-d9feec3e5953"
      },
      "execution_count": 69,
      "outputs": [
        {
          "output_type": "execute_result",
          "data": {
            "text/plain": [
              "(15000, 785)"
            ]
          },
          "metadata": {},
          "execution_count": 69
        }
      ]
    },
    {
      "cell_type": "code",
      "source": [
        "test_dataset.shape"
      ],
      "metadata": {
        "colab": {
          "base_uri": "https://localhost:8080/"
        },
        "id": "4VMmMPWt1ZO2",
        "outputId": "9910c281-032e-431d-9462-a50cc9065370"
      },
      "execution_count": 70,
      "outputs": [
        {
          "output_type": "execute_result",
          "data": {
            "text/plain": [
              "(45000, 785)"
            ]
          },
          "metadata": {},
          "execution_count": 70
        }
      ]
    },
    {
      "cell_type": "code",
      "source": [
        "features = train_dataset.shape[1]-1 #784"
      ],
      "metadata": {
        "id": "4kQUFWlV1a_a"
      },
      "execution_count": 71,
      "outputs": []
    },
    {
      "cell_type": "code",
      "source": [
        "# Initialising features and labels from dataset\n",
        "X_test = test_dataset[:,:features]\n",
        "X_train = train_dataset[:,:features]\n",
        "Y_train = train_dataset[:,features]\n",
        "Y_test = test_dataset[:,features]"
      ],
      "metadata": {
        "id": "UO8fu1Nw2J8A"
      },
      "execution_count": 72,
      "outputs": []
    },
    {
      "cell_type": "markdown",
      "source": [
        "### (i) Naive Bayes"
      ],
      "metadata": {
        "id": "C3AG2AhQ2U9v"
      }
    },
    {
      "cell_type": "code",
      "source": [
        "classes = 10\n",
        "features = train_dataset.shape[1]-1"
      ],
      "metadata": {
        "id": "_WyLQF1Z2XEq"
      },
      "execution_count": null,
      "outputs": []
    },
    {
      "cell_type": "code",
      "source": [
        "# Creating list of numpy arrays containing training datas of each class with class as index of list \n",
        "temp = train_dataset\n",
        "lst = []\n",
        "for i in range(classes):\n",
        "  x = temp[np.where(temp[:,features]==i)] # last column is my class indexes\n",
        "  x = x[:,:features]\n",
        "  lst.append(x)"
      ],
      "metadata": {
        "id": "6x8PYZZi2YXl"
      },
      "execution_count": null,
      "outputs": []
    },
    {
      "cell_type": "code",
      "source": [
        "# 10 features' mean for each classes\n",
        "mean=[] \n",
        "for i in range(classes):\n",
        "  a=lst[i]\n",
        "  a = a.mean(axis=0)\n",
        "  mean.append(a)"
      ],
      "metadata": {
        "id": "UfZu4tst2nNM"
      },
      "execution_count": null,
      "outputs": []
    },
    {
      "cell_type": "markdown",
      "source": [
        "#### Training"
      ],
      "metadata": {
        "id": "OsAYG8nC2zxS"
      }
    },
    {
      "cell_type": "code",
      "source": [
        "count = 0\n",
        "for i in range(X_train.shape[0]):\n",
        "  g = []  #class conditionals\n",
        "  for j in range(classes):\n",
        "    v = (X_train[i]-mean[j])\n",
        "    v = np.power(v,2)\n",
        "    k = 0.5 * np.sum(v)\n",
        "    k = math.exp(-k)\n",
        "    g.append(k)\n",
        "  k = g.index(max(g))\n",
        "  if k==int(Y_train[i]):\n",
        "    count=count+1"
      ],
      "metadata": {
        "id": "l51AwEHs21za"
      },
      "execution_count": null,
      "outputs": []
    },
    {
      "cell_type": "code",
      "source": [
        "print('The training accuracy is:')\n",
        "print(count*100/X_train.shape[0])"
      ],
      "metadata": {
        "colab": {
          "base_uri": "https://localhost:8080/"
        },
        "id": "eSSn245i3DMG",
        "outputId": "3cec4ae5-50e7-4b69-dba2-2ccbe53a2b89"
      },
      "execution_count": null,
      "outputs": [
        {
          "output_type": "stream",
          "name": "stdout",
          "text": [
            "The training accuracy is:\n",
            "83.74\n"
          ]
        }
      ]
    },
    {
      "cell_type": "markdown",
      "source": [
        "#### Testing"
      ],
      "metadata": {
        "id": "cbkCczSV2wEO"
      }
    },
    {
      "cell_type": "code",
      "source": [
        "conf_matrix = np.zeros((classes,classes))\n",
        "count = 0\n",
        "for i in range(X_test.shape[0]):\n",
        "  g = []  #class conditionals\n",
        "  for j in range(classes):\n",
        "    v = (X_test[i]-mean[j])\n",
        "    v = np.power(v,2)\n",
        "    k = 0.5 * np.sum(v)\n",
        "    #k = math.exp(-k)\n",
        "    g.append(k)\n",
        "  k = g.index(min(g))\n",
        "  if k==int(Y_test[i]):\n",
        "    count=count+1\n",
        "  v = int(Y_test[i])\n",
        "  conf_matrix[v][k] += 1"
      ],
      "metadata": {
        "id": "N1eXrke22soM"
      },
      "execution_count": null,
      "outputs": []
    },
    {
      "cell_type": "code",
      "source": [
        "print('The testing accuracy is:')\n",
        "print(count*100/X_test.shape[0])"
      ],
      "metadata": {
        "colab": {
          "base_uri": "https://localhost:8080/"
        },
        "id": "C1Gn2FNL2x-c",
        "outputId": "8e18f25f-2098-4f69-c7cd-e4a8b883592b"
      },
      "execution_count": null,
      "outputs": [
        {
          "output_type": "stream",
          "name": "stdout",
          "text": [
            "The testing accuracy is:\n",
            "84.36\n"
          ]
        }
      ]
    },
    {
      "cell_type": "code",
      "source": [
        "print('The confusion matrix for above testing data is:')\n",
        "print(conf_matrix.astype(int))"
      ],
      "metadata": {
        "colab": {
          "base_uri": "https://localhost:8080/"
        },
        "outputId": "3a5611a6-824c-46a4-e330-81a59b16b228",
        "id": "0HzsJ-Xr8UD2"
      },
      "execution_count": null,
      "outputs": [
        {
          "output_type": "stream",
          "name": "stdout",
          "text": [
            "The confusion matrix for above testing data is:\n",
            "[[3760  341    0   85   92    1    8  101   55   57]\n",
            " [  62 3823    0  285  118    7    1   37   16  151]\n",
            " [ 161   32 3601  123   19  460   10   77   11    6]\n",
            " [  40    3    2 3850  124   33   81  365    1    1]\n",
            " [   1    2    0   54 4255   67    0   97    8   16]\n",
            " [   1   28   25  274  318 3762    6   29   29   28]\n",
            " [   3    2    1   23   17   36 3744  662    2   10]\n",
            " [   3    2    2  191   60   10 1202 3028    2    0]\n",
            " [ 145   26    1   14   25   17    7   14 4188   63]\n",
            " [  66   34    0    6  167   12    8  117  139 3951]]\n"
          ]
        }
      ]
    },
    {
      "cell_type": "code",
      "source": [
        "# Storing True positive True negative, False Positive, False negative and F values in a list scores\n",
        "TP=[]\n",
        "TN=[]\n",
        "FP=[]\n",
        "FN=[]\n",
        "F1=[]\n",
        "for i in range(classes):\n",
        "  TP.append(conf_matrix[i][i])\n",
        "  TN.append(np.sum(conf_matrix)-np.sum(conf_matrix[i,:])-np.sum(conf_matrix[:,i])+conf_matrix[i][i])\n",
        "  FP.append(np.sum(conf_matrix[i,:])-conf_matrix[i][i])\n",
        "  FN.append(np.sum(conf_matrix[:,i])-conf_matrix[i][i])\n",
        "  F1.append((2*TP[i])/(2*TP[i] + FP[i] + FN[i]))"
      ],
      "metadata": {
        "id": "bNysJXib8UD3"
      },
      "execution_count": null,
      "outputs": []
    },
    {
      "cell_type": "code",
      "source": [
        "print('F1 scores for corresponding classes are:')\n",
        "print(F1)"
      ],
      "metadata": {
        "colab": {
          "base_uri": "https://localhost:8080/"
        },
        "outputId": "594f687d-f95b-4ff4-ea59-9d9dfafc2ea3",
        "id": "dP44LmpS8UD4"
      },
      "execution_count": null,
      "outputs": [
        {
          "output_type": "stream",
          "name": "stdout",
          "text": [
            "F1 scores for corresponding classes are:\n",
            "[0.8602150537634409, 0.8695553281018993, 0.8856369896704378, 0.8187134502923976, 0.8777720474471377, 0.8449185850645705, 0.7826904985888994, 0.6708762601085632, 0.9357613674449782, 0.8996925879540021]\n"
          ]
        }
      ]
    },
    {
      "cell_type": "markdown",
      "source": [
        "### (ii) Logistic regression"
      ],
      "metadata": {
        "id": "-KSSeLsN81Vc"
      }
    },
    {
      "cell_type": "code",
      "source": [
        "classes = 10\n",
        "features = train_dataset.shape[1] #785 after augmented data"
      ],
      "metadata": {
        "id": "8YRo4zlvZUQB"
      },
      "execution_count": 73,
      "outputs": []
    },
    {
      "cell_type": "code",
      "source": [
        "#RUN only ONCE\n",
        "tmp = np.ones((X_train.shape[0],1))  # Creating augmented data\n",
        "X_train=np.column_stack((X_train,tmp))\n",
        "X_train.shape"
      ],
      "metadata": {
        "colab": {
          "base_uri": "https://localhost:8080/"
        },
        "id": "VQBMTWwXaW5n",
        "outputId": "22da706c-bba4-401f-ac6b-051ba02124d8"
      },
      "execution_count": 74,
      "outputs": [
        {
          "output_type": "execute_result",
          "data": {
            "text/plain": [
              "(15000, 785)"
            ]
          },
          "metadata": {},
          "execution_count": 74
        }
      ]
    },
    {
      "cell_type": "code",
      "source": [
        "tmp = np.ones((X_test.shape[0],1))  # Creating augmented data\n",
        "X_test=np.column_stack((X_test,tmp))\n",
        "X_test.shape"
      ],
      "metadata": {
        "colab": {
          "base_uri": "https://localhost:8080/"
        },
        "id": "ROjZLYIIaf_z",
        "outputId": "40c11935-1168-4fc2-943a-dc62850d71d9"
      },
      "execution_count": 75,
      "outputs": [
        {
          "output_type": "execute_result",
          "data": {
            "text/plain": [
              "(45000, 785)"
            ]
          },
          "metadata": {},
          "execution_count": 75
        }
      ]
    },
    {
      "cell_type": "markdown",
      "source": [
        "#### Training"
      ],
      "metadata": {
        "id": "63B5YZsE-hv5"
      }
    },
    {
      "cell_type": "code",
      "source": [
        "W=[]\n",
        "for i in range(classes):\n",
        "  W.append(np.ones((features,1)))"
      ],
      "metadata": {
        "id": "qusuAVW3Y-Ib"
      },
      "execution_count": 76,
      "outputs": []
    },
    {
      "cell_type": "code",
      "source": [
        "def calc_loss(x,W,j):\n",
        "  x=x.reshape((x.shape[0],1))\n",
        "  # calculating probabilities of each class\n",
        "  e=[]                        # exponent\n",
        "  g = []                      # probabilities (softmax)\n",
        "  grad = []                   # gradient addition for this image\n",
        "  for i in range(classes):\n",
        "    e.append(math.exp(W[i].T@x))\n",
        "  k = sum(e)\n",
        "  for i in range(classes):\n",
        "    g.append(e[i]/k)\n",
        "  loss = -1*math.log(g[j])     # loss for 1 image\n",
        "  for i in range(classes):\n",
        "    if i!=j:\n",
        "      grad.append(-g[i]*x.reshape(x.shape[0]))\n",
        "    else:\n",
        "      grad.append((1-g[i])*x.reshape(x.shape[0]))\n",
        "  return loss,grad"
      ],
      "metadata": {
        "id": "tGzsfZhIY-MY"
      },
      "execution_count": 77,
      "outputs": []
    },
    {
      "cell_type": "code",
      "source": [
        "def train_epoch1():\n",
        "  final_loss = 0\n",
        "  final_grad = np.zeros((features,classes))\n",
        "  for i in range(X_train.shape[0]):\n",
        "    loss,grad = calc_loss(X_train[i,:],W,int(Y_train[i]))\n",
        "    final_loss =final_loss + loss\n",
        "    final_grad = final_grad + np.stack(grad,axis = 1)\n",
        "  return final_loss,final_grad"
      ],
      "metadata": {
        "id": "TAF5Zq4pY-Sx"
      },
      "execution_count": 78,
      "outputs": []
    },
    {
      "cell_type": "code",
      "source": [
        "epochs = 50\n",
        "alpha = 10\n",
        "prev_loss = 0\n",
        "for i in range(epochs):\n",
        "  loss,grad = train_epoch1()\n",
        "  for j in range(classes):\n",
        "    gradient = grad[:,j].reshape(grad[:,j].shape[0],1)\n",
        "    if prev_loss<loss:\n",
        "      alpha = (alpha/10)\n",
        "    W[j]=W[j]+alpha*gradient/np.linalg.norm(gradient)\n",
        "    prev_loss = loss\n",
        "  print('loss in',i,'epoch is',loss/X_train.shape[0])"
      ],
      "metadata": {
        "colab": {
          "base_uri": "https://localhost:8080/"
        },
        "id": "zIiMP2dbY-WB",
        "outputId": "d0a0260c-f418-4c95-c50c-e20b32e97ff5"
      },
      "execution_count": 79,
      "outputs": [
        {
          "output_type": "stream",
          "name": "stdout",
          "text": [
            "loss in 0 epoch is 2.302585092994409\n",
            "loss in 1 epoch is 1.116065690390648\n",
            "loss in 2 epoch is 15.448510782036953\n",
            "loss in 3 epoch is 13.785077708545925\n",
            "loss in 4 epoch is 12.121777670357574\n",
            "loss in 5 epoch is 10.458548464747944\n",
            "loss in 6 epoch is 8.79536682651854\n",
            "loss in 7 epoch is 7.132227013739376\n",
            "loss in 8 epoch is 5.469542241388709\n",
            "loss in 9 epoch is 3.8282372188040674\n",
            "loss in 10 epoch is 2.5181019198708374\n",
            "loss in 11 epoch is 1.330806733841259\n",
            "loss in 12 epoch is 0.9624550921498767\n",
            "loss in 13 epoch is 1.2827477812125414\n",
            "loss in 14 epoch is 1.1723119540063145\n",
            "loss in 15 epoch is 1.0759492890134754\n",
            "loss in 16 epoch is 0.9957419545088523\n",
            "loss in 17 epoch is 0.9316261355341784\n",
            "loss in 18 epoch is 0.8814754956500138\n",
            "loss in 19 epoch is 0.8489224059904316\n",
            "loss in 20 epoch is 0.8354553755146794\n",
            "loss in 21 epoch is 0.8311046492283262\n",
            "loss in 22 epoch is 0.8292034797048633\n",
            "loss in 23 epoch is 0.8259725393861008\n",
            "loss in 24 epoch is 0.823961330183957\n",
            "loss in 25 epoch is 0.8209350594237329\n",
            "loss in 26 epoch is 0.8191710770929252\n",
            "loss in 27 epoch is 0.8167665524682166\n",
            "loss in 28 epoch is 0.8149229728584889\n",
            "loss in 29 epoch is 0.812543350857654\n",
            "loss in 30 epoch is 0.8107434042240981\n",
            "loss in 31 epoch is 0.8084015334944757\n",
            "loss in 32 epoch is 0.8066167998847225\n",
            "loss in 33 epoch is 0.8043251369798445\n",
            "loss in 34 epoch is 0.8025439468326527\n",
            "loss in 35 epoch is 0.8003054581324104\n",
            "loss in 36 epoch is 0.7985251196344682\n",
            "loss in 37 epoch is 0.7963379674452435\n",
            "loss in 38 epoch is 0.7945596434565149\n",
            "loss in 39 epoch is 0.7924201845483935\n",
            "loss in 40 epoch is 0.7906463888185272\n",
            "loss in 41 epoch is 0.788550602084651\n",
            "loss in 42 epoch is 0.7867840828231023\n",
            "loss in 43 epoch is 0.7847281704275737\n",
            "loss in 44 epoch is 0.782971452724156\n",
            "loss in 45 epoch is 0.7809520517289553\n",
            "loss in 46 epoch is 0.7792072817918533\n",
            "loss in 47 epoch is 0.7772215026174152\n",
            "loss in 48 epoch is 0.7754904252163631\n",
            "loss in 49 epoch is 0.7735358190087274\n"
          ]
        }
      ]
    },
    {
      "cell_type": "code",
      "source": [
        "W[0].shape"
      ],
      "metadata": {
        "colab": {
          "base_uri": "https://localhost:8080/"
        },
        "id": "VuUKg2pNqFTe",
        "outputId": "4a539190-6847-4d07-d096-309f48545c75"
      },
      "execution_count": 80,
      "outputs": [
        {
          "output_type": "execute_result",
          "data": {
            "text/plain": [
              "(785, 1)"
            ]
          },
          "metadata": {},
          "execution_count": 80
        }
      ]
    },
    {
      "cell_type": "code",
      "source": [
        "print('Empirical risk on training data is:')\n",
        "print(loss/X_train.shape[0])  # Doing 1/n"
      ],
      "metadata": {
        "colab": {
          "base_uri": "https://localhost:8080/"
        },
        "id": "QsRFaSzY_-rg",
        "outputId": "2c465063-6f69-4eb4-9aee-e9f3f55f5a35"
      },
      "execution_count": 81,
      "outputs": [
        {
          "output_type": "stream",
          "name": "stdout",
          "text": [
            "Empirical risk on training data is:\n",
            "0.7735358190087274\n"
          ]
        }
      ]
    },
    {
      "cell_type": "markdown",
      "source": [
        "#### Testing"
      ],
      "metadata": {
        "id": "wlAMChGS-cMT"
      }
    },
    {
      "cell_type": "code",
      "source": [
        "conf_matrix = np.zeros((classes,classes))\n",
        "count = 0\n",
        "loss = 0\n",
        "for i in range(X_test.shape[0]):\n",
        "  X = X_test[i,:]\n",
        "  X=X.reshape((X.shape[0],1))\n",
        "  # calculating probabilities of each class\n",
        "  e=[]                        # exponent\n",
        "  g = []                      # probabilities (softmax)\n",
        "  grad = []                   # gradient addition for this image\n",
        "  for j in range(classes):\n",
        "    e.append(math.exp(W[j].T@X))\n",
        "  k = sum(e)\n",
        "  for j in range(classes):\n",
        "    g.append(e[j]/k)\n",
        "  k = g.index(max(g))\n",
        "  if k==Y_test[i]:\n",
        "    count = count+1\n",
        "  v = int(Y_test[i])\n",
        "  conf_matrix[v][k] += 1\n",
        "\n",
        "  loss = loss - 1*math.log(g[v])"
      ],
      "metadata": {
        "id": "b-ZOd6a_-eOQ"
      },
      "execution_count": 82,
      "outputs": []
    },
    {
      "cell_type": "code",
      "source": [
        "print('The testing accuracy is:')\n",
        "print(count*100/X_test.shape[0])"
      ],
      "metadata": {
        "colab": {
          "base_uri": "https://localhost:8080/"
        },
        "outputId": "0f5f8cfe-7cf5-4478-f2a6-081b058b09bb",
        "id": "iosi4pa1_1JY"
      },
      "execution_count": 83,
      "outputs": [
        {
          "output_type": "stream",
          "name": "stdout",
          "text": [
            "The testing accuracy is:\n",
            "86.13333333333334\n"
          ]
        }
      ]
    },
    {
      "cell_type": "code",
      "source": [
        "print('Empirical risk on testing data is:')\n",
        "print(loss/X_test.shape[0])"
      ],
      "metadata": {
        "colab": {
          "base_uri": "https://localhost:8080/"
        },
        "outputId": "2c8465af-d45e-4f88-daba-10bfd42cd385",
        "id": "inaYc78k_1JZ"
      },
      "execution_count": 84,
      "outputs": [
        {
          "output_type": "stream",
          "name": "stdout",
          "text": [
            "Empirical risk on testing data is:\n",
            "0.7485922734396865\n"
          ]
        }
      ]
    },
    {
      "cell_type": "code",
      "source": [
        "print('The confusion matrix for above testing data is:')\n",
        "print(conf_matrix.astype(int))"
      ],
      "metadata": {
        "colab": {
          "base_uri": "https://localhost:8080/"
        },
        "outputId": "83f783d4-af35-4c79-e9c7-ddc891a49799",
        "id": "bRy5Yb02_1JZ"
      },
      "execution_count": 85,
      "outputs": [
        {
          "output_type": "stream",
          "name": "stdout",
          "text": [
            "The confusion matrix for above testing data is:\n",
            "[[3925  286    1   60   70    0    9   32   88   29]\n",
            " [  98 3876    0  221  120   10    4    8   25  138]\n",
            " [ 184   18 3872   82   17  288    7   10   20    2]\n",
            " [  64    2    4 4018  124   34   97  151    5    1]\n",
            " [   1    1    0   56 4309   62    0   43   17   11]\n",
            " [   3   26   34  250  333 3758    8   13   53   22]\n",
            " [   4    1    3   22   29   31 3975  419    4   12]\n",
            " [   5    1    2  388   73   10 1227 2790    3    1]\n",
            " [  72   13    2    6   17    4   10    2 4338   36]\n",
            " [  94   18    0    7  188   12   11   86  185 3899]]\n"
          ]
        }
      ]
    },
    {
      "cell_type": "code",
      "source": [
        "# Storing True positive True negative, False Positive, False negative and F values in a list scores\n",
        "TP=[]\n",
        "TN=[]\n",
        "FP=[]\n",
        "FN=[]\n",
        "F1=[]\n",
        "for i in range(classes):\n",
        "  TP.append(conf_matrix[i][i])\n",
        "  TN.append(np.sum(conf_matrix)-np.sum(conf_matrix[i,:])-np.sum(conf_matrix[:,i])+conf_matrix[i][i])\n",
        "  FP.append(np.sum(conf_matrix[i,:])-conf_matrix[i][i])\n",
        "  FN.append(np.sum(conf_matrix[:,i])-conf_matrix[i][i])\n",
        "  F1.append((2*TP[i])/(2*TP[i] + FP[i] + FN[i]))"
      ],
      "metadata": {
        "id": "2lST-yVy_1Ja"
      },
      "execution_count": 86,
      "outputs": []
    },
    {
      "cell_type": "code",
      "source": [
        "print('F1 scores for corresponding classes are:')\n",
        "print(F1)"
      ],
      "metadata": {
        "colab": {
          "base_uri": "https://localhost:8080/"
        },
        "outputId": "08e794e0-f77d-4143-862a-8c7a1de8beb4",
        "id": "jO0lqUNe_1Ja"
      },
      "execution_count": 87,
      "outputs": [
        {
          "output_type": "stream",
          "name": "stdout",
          "text": [
            "F1 scores for corresponding classes are:\n",
            "[0.8770949720670391, 0.8867536032944406, 0.9199334758850083, 0.8362122788761707, 0.8811860940695296, 0.8630152715581583, 0.8072705117790414, 0.6928234417680655, 0.9391643212816627, 0.9013986822332678]\n"
          ]
        }
      ]
    },
    {
      "cell_type": "code",
      "source": [],
      "metadata": {
        "id": "xn6JYrnbAGQy"
      },
      "execution_count": 87,
      "outputs": []
    },
    {
      "cell_type": "markdown",
      "source": [
        "### (iii) GMM"
      ],
      "metadata": {
        "id": "0hEYegdoE0Xn"
      }
    },
    {
      "cell_type": "code",
      "execution_count": null,
      "metadata": {
        "colab": {
          "base_uri": "https://localhost:8080/",
          "height": 1000
        },
        "outputId": "a32aeef6-fb74-4378-e2e0-808b71d91633",
        "id": "gadF6km2E7AB"
      },
      "outputs": [
        {
          "output_type": "stream",
          "name": "stdout",
          "text": [
            "Accuracy for  1  mixtures is :  0.8557916666666666\n",
            "F1 scores  1  mixtures is :  [0.8500746427809768, 0.8876706661150187, 0.927542654553512, 0.8338667442537097, 0.8762309326124734, 0.8933711524319782, 0.8043860556532534, 0.7025721784776903, 0.8857236770023008, 0.902239677316633]\n",
            "Confusion matrix for  1  mixtures is :  [[3986.   82.  133.   38.   11.    1.    3.   24.  184.   83.]\n",
            " [ 339. 4291.   32.    4.    1.   21.    3.    3.  116.    8.]\n",
            " [   0.    0. 4186.    2.    0.   40.    4.    4.    2.    0.]\n",
            " [ 174.  217.  110. 4299.   54.  208.   50.  308.   66.   19.]\n",
            " [  85.   85.    6.  158. 4538.  196.   30.  204.   99.  204.]\n",
            " [   7.   16.  170.   48.   88. 4252.   36.   17.   85.   10.]\n",
            " [   8.    0.    4.   34.    5.   15. 3888.  893.   20.   12.]\n",
            " [  46.   11.  138.  222.   29.   27.  767. 3346.    7.  128.]\n",
            " [ 142.   36.    6.    0.    7.   19.    0.    1. 4042.  109.]\n",
            " [  46.  112.    3.    1.   20.   11.    7.    4.  144. 4250.]]\n",
            "Accuracy for  2  mixtures is :  0.8788333333333334\n",
            "F1 scores  2  mixtures is :  [0.8751998294788447, 0.8985417950297803, 0.9436481015428384, 0.852042301348598, 0.8863990646921278, 0.9044411702799411, 0.8355666355043108, 0.7643352236925016, 0.9032611074633399, 0.9309168443496801]\n",
            "Confusion matrix for  2  mixtures is :  [[4106.   81.   87.   32.    4.    0.    3.   20.  180.   37.]\n",
            " [ 314. 4375.   37.    4.    2.   24.    4.    4.  116.    8.]\n",
            " [   2.    0. 4312.    3.    0.   24.    3.    3.    4.    0.]\n",
            " [ 116.  202.  123. 4391.   56.  208.   54.  265.   64.   22.]\n",
            " [  63.   76.    6.  170. 4549.  191.   31.  146.   88.  191.]\n",
            " [   7.   23.  110.   49.   86. 4297.   31.   17.   85.    7.]\n",
            " [   8.    0.   10.   36.    5.   16. 4022.  706.   20.   16.]\n",
            " [  44.    3.  100.  121.   31.   11.  635. 3639.    6.  128.]\n",
            " [ 153.   20.    1.    0.    8.   15.    0.    1. 4127.   48.]\n",
            " [  20.   70.    2.    0.   12.    4.    5.    3.   75. 4366.]]\n",
            "Accuracy for  3  mixtures is :  0.8934166666666666\n",
            "F1 scores  3  mixtures is :  [0.8765392440304101, 0.9090723125703181, 0.9715203426124197, 0.8567846465425788, 0.8852681602172437, 0.913107822410148, 0.8707216494845361, 0.8126689006593881, 0.9096319153625744, 0.9331485232967267]\n",
            "Confusion matrix for  3  mixtures is :  [[4093.   71.   72.   36.    9.    0.    4.   19.  167.   35.]\n",
            " [ 330. 4444.   22.    5.    2.   19.    4.    3.   97.    1.]\n",
            " [   3.    0. 4537.    1.    0.    6.    2.    2.    0.    1.]\n",
            " [ 175.  175.   76. 4442.   58.  209.   64.  261.   78.   25.]\n",
            " [  87.   68.    6.  165. 4564.  196.   32.  128.  113.  199.]\n",
            " [   6.   17.   39.   53.   84. 4319.   41.   23.   84.    4.]\n",
            " [   7.    0.    4.   24.    2.   10. 4223.  605.   10.   27.]\n",
            " [  32.    3.   28.   80.   18.   10.  416. 3759.    2.   99.]\n",
            " [  82.   12.    3.    0.    9.   19.    0.    1. 4127.   56.]\n",
            " [  18.   60.    1.    0.    7.    2.    2.    3.   87. 4376.]]\n",
            "Accuracy for  4  mixtures is :  0.8916666666666667\n",
            "F1 scores  4  mixtures is :  [0.8831308461455758, 0.9179924048034487, 0.9717163059781444, 0.8645669291338582, 0.888390243902439, 0.9165694900879889, 0.8561832061068703, 0.7812938762285344, 0.9105867070794544, 0.9282013323464101]\n",
            "Confusion matrix for  4  mixtures is :  [[4107.   70.   64.   31.    5.    0.    3.   18.  153.   17.]\n",
            " [ 308. 4472.   16.    4.    1.   15.    1.    3.   72.    1.]\n",
            " [   3.    0. 4535.    2.    0.    2.    2.    0.    1.    1.]\n",
            " [ 108.  103.   76. 4392.   55.  208.   58.  268.   64.   22.]\n",
            " [  65.   59.    8.  166. 4553.  200.   25.  148.   79.  194.]\n",
            " [   6.   18.   36.   52.   80. 4323.   34.   22.   65.    7.]\n",
            " [   9.    2.    5.   37.    3.   13. 4206.  724.   19.   19.]\n",
            " [  46.    2.   43.  122.   31.   10.  456. 3617.    6.  122.]\n",
            " [ 159.   32.    1.    0.   10.   13.    0.    1. 4206.   51.]\n",
            " [  22.   92.    4.    0.   15.    6.    3.    3.  100. 4389.]]\n",
            "Accuracy for  5  mixtures is :  0.8970416666666666\n",
            "F1 scores  5  mixtures is :  [0.8751350183624973, 0.9072717895822588, 0.9734645837791569, 0.8591058641377975, 0.8859334045238326, 0.9133228014744602, 0.8866985062493649, 0.824007914697153, 0.9273999562650339, 0.9212606724992094]\n",
            "Confusion matrix for  5  mixtures is :  [[4051.   83.   51.   32.   10.    0.    4.   21.  119.   54.]\n",
            " [ 367. 4398.   12.    6.    1.    8.    0.    0.   52.    1.]\n",
            " [   2.    0. 4549.    0.    0.    3.    3.    1.    0.    0.]\n",
            " [ 162.  151.   71. 4439.   56.  211.   70.  268.   70.   30.]\n",
            " [  88.   72.    8.  164. 4563.  190.   32.  136.   98.  197.]\n",
            " [   8.   16.   66.   55.   83. 4336.   37.   23.   73.    8.]\n",
            " [   7.    2.    7.   16.    1.    9. 4363.  604.    7.   37.]\n",
            " [  30.    0.   20.   94.   19.   16.  273. 3748.    2.   91.]\n",
            " [  79.   10.    0.    0.    5.   11.    0.    0. 4241.   35.]\n",
            " [  39.  118.    4.    0.   15.    6.    6.    3.  103. 4370.]]\n",
            "Accuracy for  6  mixtures is :  0.8952291666666666\n",
            "F1 scores  6  mixtures is :  [0.8905933738148504, 0.9202794329155537, 0.9724868857724013, 0.8634945397815913, 0.8903602726387536, 0.9129426644182125, 0.8552987716010827, 0.7971076137813696, 0.9172965275495674, 0.9368140649973362]\n",
            "Confusion matrix for  6  mixtures is :  [[4180.   64.   30.   31.    3.    0.    3.   18.  197.   28.]\n",
            " [ 285. 4479.   31.    3.    2.   18.    2.    3.   58.    3.]\n",
            " [   2.    0. 4542.    0.    0.    4.    3.    2.    0.    0.]\n",
            " [ 118.  156.   74. 4428.   57.  211.   63.  256.   64.   23.]\n",
            " [  63.   67.    8.  168. 4572.  191.   33.  131.   86.  198.]\n",
            " [   7.   18.   71.   51.   85. 4331.   36.   18.   76.    5.]\n",
            " [   7.    0.    6.   28.    3.    9. 4108.  625.   15.   17.]\n",
            " [  42.    3.   25.   97.   20.   10.  537. 3748.    4.  114.]\n",
            " [ 111.    9.    0.    0.    5.   13.    0.    0. 4187.   39.]\n",
            " [  18.   54.    1.    0.    6.    3.    3.    3.   78. 4396.]]\n"
          ]
        },
        {
          "output_type": "display_data",
          "data": {
            "text/plain": [
              "<Figure size 432x288 with 1 Axes>"
            ],
            "image/png": "[encoded data removed]"
          },
          "metadata": {
            "needs_background": "light"
          }
        }
      ],
      "source": [
        "train_dataset1,test_dataset1 = p4_split_dataset(p4dataset,0.2)\n",
        "classes = 10\n",
        "y1 = np.zeros(6)\n",
        "x1 = np.array([1,2,3,4,5,6])\n",
        "for number_of_Gaussian in x1:\n",
        "  Means1,Pi1 = p4_GMM_training(train_dataset1,5,number_of_Gaussian)\n",
        "  accuracy1,confusion_matrix1 = p4_GMM_testing(test_dataset1,10,Means1,Pi1,number_of_Gaussian)\n",
        "  TP1=[]\n",
        "  TN1=[]\n",
        "  FP1=[]\n",
        "  FN1=[]\n",
        "  F11=[]\n",
        "  for i in range(classes):\n",
        "    TP1.append(confusion_matrix1[i][i])\n",
        "    TN1.append(np.sum(confusion_matrix1)-np.sum(confusion_matrix1[i,:])-np.sum(confusion_matrix1[:,i])+confusion_matrix1[i][i])\n",
        "    FP1.append(np.sum(confusion_matrix1[i,:])-confusion_matrix1[i][i])\n",
        "    FN1.append(np.sum(confusion_matrix1[:,i])-confusion_matrix1[i][i])\n",
        "    F11.append((2*TP1[i])/(2*TP1[i] + FP1[i] + FN1[i]))\n",
        "  y1[number_of_Gaussian-1] = p4_get_likelihood(train_dataset1,Means1,Pi1,number_of_Gaussian)\n",
        "  print(\"Accuracy for \",number_of_Gaussian,\" mixtures is : \",accuracy1)\n",
        "  print(\"F1 scores \",number_of_Gaussian,\" mixtures is : \",F11)\n",
        "  print(\"Confusion matrix for \",number_of_Gaussian,\" mixtures is : \",confusion_matrix1)\n",
        "\n",
        "y1 = (y1-np.min(y1))/(np.max(y1)-np.min(y1))\n",
        "plt.plot(x1,y1) \n",
        "plt.title(\"Log likelihood for 20:80\") \n",
        "plt.xlabel(\"Gaussian misture\") \n",
        "plt.ylabel(\"log likelihood\") \n",
        "plt.show()"
      ]
    },
    {
      "cell_type": "markdown",
      "source": [
        "## Model 2 - 30:70"
      ],
      "metadata": {
        "id": "NcUW8reBAXjk"
      }
    },
    {
      "cell_type": "markdown",
      "source": [
        "Again initialising dataset as X was used variable elsewhere"
      ],
      "metadata": {
        "id": "SLJzyUCGBsM6"
      }
    },
    {
      "cell_type": "code",
      "source": [
        "X=[]\n",
        "Y = []\n",
        "for i in range(classes):\n",
        "  tmp = []\n",
        "  for j in range(len(lst_img_clss[i])):\n",
        "    x = np.ndarray.flatten(lst_img_clss[i][j])\n",
        "    tmp.append(x)\n",
        "  a = np.stack(tmp,axis = 0)\n",
        "  X.append(a)\n",
        "  Y.append(i)\n"
      ],
      "metadata": {
        "id": "NUrPjI-jBrDi"
      },
      "execution_count": 88,
      "outputs": []
    },
    {
      "cell_type": "code",
      "source": [
        "a = X[0]\n",
        "b = np.zeros((X[0].shape[0],1))\n",
        "dataset = np.column_stack((a,b))\n",
        "for i in range(1,classes):\n",
        "  a=X[i]\n",
        "  b = i*np.ones((X[i].shape[0],1))\n",
        "  temp = np.column_stack((a,b))\n",
        "  dataset = np.row_stack((dataset,temp))"
      ],
      "metadata": {
        "id": "pAzULjmwBrDj"
      },
      "execution_count": 89,
      "outputs": []
    },
    {
      "cell_type": "code",
      "source": [
        "dataset.shape  # Overall dataset"
      ],
      "metadata": {
        "colab": {
          "base_uri": "https://localhost:8080/"
        },
        "outputId": "c841b2eb-5577-4e5b-dc5d-bfd8c215fa03",
        "id": "TbrqXDGNBrDj"
      },
      "execution_count": 90,
      "outputs": [
        {
          "output_type": "execute_result",
          "data": {
            "text/plain": [
              "(60000, 785)"
            ]
          },
          "metadata": {},
          "execution_count": 90
        }
      ]
    },
    {
      "cell_type": "code",
      "source": [
        "# creating training and testing dataset\n",
        "count = 1800 #per class\n",
        "a=X[0]\n",
        "a=a[0:count,:]/255       # Normalising else exponent becomes 0\n",
        "b = np.zeros((a.shape[0],1))\n",
        "train_dataset = np.column_stack((a,b))\n",
        "a=X[0]\n",
        "a=a[count:,:]/255\n",
        "b = np.zeros((a.shape[0],1))\n",
        "test_dataset = np.column_stack((a,b))\n",
        "for i in range(1,classes):\n",
        "  a=X[i]\n",
        "  a=a[0:count,:]/255\n",
        "  b = i*np.ones((a.shape[0],1))\n",
        "  temp = np.column_stack((a,b))\n",
        "  train_dataset = np.row_stack((train_dataset,temp))\n",
        "  a=X[i]\n",
        "  a=a[count:,:]/255\n",
        "  b = i*np.ones((a.shape[0],1))\n",
        "  temp = np.column_stack((a,b))\n",
        "  test_dataset = np.row_stack((test_dataset,temp))\n"
      ],
      "metadata": {
        "id": "BsEbv3IZAlFj"
      },
      "execution_count": 91,
      "outputs": []
    },
    {
      "cell_type": "code",
      "source": [
        "train_dataset.shape"
      ],
      "metadata": {
        "colab": {
          "base_uri": "https://localhost:8080/"
        },
        "outputId": "6bbf35c1-b9b5-4e06-a6be-e298c60b4cc4",
        "id": "dD_PxfRsAlFk"
      },
      "execution_count": 92,
      "outputs": [
        {
          "output_type": "execute_result",
          "data": {
            "text/plain": [
              "(18000, 785)"
            ]
          },
          "metadata": {},
          "execution_count": 92
        }
      ]
    },
    {
      "cell_type": "code",
      "source": [
        "test_dataset.shape"
      ],
      "metadata": {
        "colab": {
          "base_uri": "https://localhost:8080/"
        },
        "outputId": "efb58f87-5968-493e-dc0a-6fab66917b9e",
        "id": "_GfPX2EnAlFk"
      },
      "execution_count": 93,
      "outputs": [
        {
          "output_type": "execute_result",
          "data": {
            "text/plain": [
              "(42000, 785)"
            ]
          },
          "metadata": {},
          "execution_count": 93
        }
      ]
    },
    {
      "cell_type": "code",
      "source": [
        "features = train_dataset.shape[1]-1 #784"
      ],
      "metadata": {
        "id": "CMNaMarWAlFk"
      },
      "execution_count": 94,
      "outputs": []
    },
    {
      "cell_type": "code",
      "source": [
        "# Initialising features and labels from dataset\n",
        "X_test = test_dataset[:,:features]\n",
        "X_train = train_dataset[:,:features]\n",
        "Y_train = train_dataset[:,features]\n",
        "Y_test = test_dataset[:,features]"
      ],
      "metadata": {
        "id": "iHofyxBTAlFl"
      },
      "execution_count": 95,
      "outputs": []
    },
    {
      "cell_type": "markdown",
      "source": [
        "### (i) Naive Bayes"
      ],
      "metadata": {
        "id": "xijVzQdMAlFl"
      }
    },
    {
      "cell_type": "code",
      "source": [
        "classes = 10\n",
        "features = train_dataset.shape[1]-1"
      ],
      "metadata": {
        "id": "DKKJnLMxAlFl"
      },
      "execution_count": null,
      "outputs": []
    },
    {
      "cell_type": "code",
      "source": [
        "# Creating list of numpy arrays containing training datas of each class with class as index of list \n",
        "temp = train_dataset\n",
        "lst = []\n",
        "for i in range(classes):\n",
        "  x = temp[np.where(temp[:,features]==i)] # last column is my class indexes\n",
        "  x = x[:,:features]\n",
        "  lst.append(x)"
      ],
      "metadata": {
        "id": "8pJ7BJT8AlFm"
      },
      "execution_count": null,
      "outputs": []
    },
    {
      "cell_type": "code",
      "source": [
        "# 10 features' mean for each classes\n",
        "mean=[] \n",
        "for i in range(classes):\n",
        "  a=lst[i]\n",
        "  a = a.mean(axis=0)\n",
        "  mean.append(a)"
      ],
      "metadata": {
        "id": "oKgroPp7AlFm"
      },
      "execution_count": null,
      "outputs": []
    },
    {
      "cell_type": "markdown",
      "source": [
        "#### Training"
      ],
      "metadata": {
        "id": "Qmf9kLSuAlFm"
      }
    },
    {
      "cell_type": "code",
      "source": [
        "count = 0\n",
        "for i in range(X_train.shape[0]):\n",
        "  g = []  #class conditionals\n",
        "  for j in range(classes):\n",
        "    v = (X_train[i]-mean[j])\n",
        "    v = np.power(v,2)\n",
        "    k = 0.5 * np.sum(v)\n",
        "    k = math.exp(-k)\n",
        "    g.append(k)\n",
        "  k = g.index(max(g))\n",
        "  if k==int(Y_train[i]):\n",
        "    count=count+1"
      ],
      "metadata": {
        "id": "rEQBmqB2AlFn"
      },
      "execution_count": null,
      "outputs": []
    },
    {
      "cell_type": "code",
      "source": [
        "print('The training accuracy is:')\n",
        "print(count*100/X_train.shape[0])"
      ],
      "metadata": {
        "colab": {
          "base_uri": "https://localhost:8080/"
        },
        "outputId": "9f6476d5-78e2-4a7d-a30d-a1d3fcaa7e61",
        "id": "Bq33NTUuAlFn"
      },
      "execution_count": null,
      "outputs": [
        {
          "output_type": "stream",
          "name": "stdout",
          "text": [
            "The training accuracy is:\n",
            "84.25\n"
          ]
        }
      ]
    },
    {
      "cell_type": "markdown",
      "source": [
        "#### Testing"
      ],
      "metadata": {
        "id": "8qGeWH-oAlFn"
      }
    },
    {
      "cell_type": "code",
      "source": [
        "conf_matrix = np.zeros((classes,classes))\n",
        "count = 0\n",
        "for i in range(X_test.shape[0]):\n",
        "  g = []  #class conditionals\n",
        "  for j in range(classes):\n",
        "    v = (X_test[i]-mean[j])\n",
        "    v = np.power(v,2)\n",
        "    k = 0.5 * np.sum(v)\n",
        "    #k = math.exp(-k)\n",
        "    g.append(k)\n",
        "  k = g.index(min(g))\n",
        "  if k==int(Y_test[i]):\n",
        "    count=count+1\n",
        "  v = int(Y_test[i])\n",
        "  conf_matrix[v][k] += 1"
      ],
      "metadata": {
        "id": "6q5x5yzsAlFo"
      },
      "execution_count": null,
      "outputs": []
    },
    {
      "cell_type": "code",
      "source": [
        "print('The testing accuracy is:')\n",
        "print(count*100/X_test.shape[0])"
      ],
      "metadata": {
        "colab": {
          "base_uri": "https://localhost:8080/"
        },
        "outputId": "d4059add-d5c5-4cda-e70b-e5c1ff6af3fd",
        "id": "GmBljMJNAlFo"
      },
      "execution_count": null,
      "outputs": [
        {
          "output_type": "stream",
          "name": "stdout",
          "text": [
            "The testing accuracy is:\n",
            "84.37857142857143\n"
          ]
        }
      ]
    },
    {
      "cell_type": "code",
      "source": [
        "print('The confusion matrix for above testing data is:')\n",
        "print(conf_matrix.astype(int))"
      ],
      "metadata": {
        "colab": {
          "base_uri": "https://localhost:8080/"
        },
        "outputId": "f73f5eaa-dda7-4746-b773-3ba63147d9ee",
        "id": "pAwHp9x7AlFo"
      },
      "execution_count": null,
      "outputs": [
        {
          "output_type": "stream",
          "name": "stdout",
          "text": [
            "The confusion matrix for above testing data is:\n",
            "[[3449  353    0   66   96    1    8  110   57   60]\n",
            " [  55 3626    0  206  112    7    2   37   18  137]\n",
            " [ 115   36 3352   89   29  481    6   72   11    9]\n",
            " [  38    4    2 3512  138   48   76  379    1    2]\n",
            " [   0    1    0   23 3987   71    0  102    4   12]\n",
            " [   1   27   32  165  302 3583   14   26   27   23]\n",
            " [   3    0    1   15   15   34 3487  635    1    9]\n",
            " [   3    2    2  149   47   10 1165 2820    2    0]\n",
            " [  95   25    1   15   27   20    4    9 3939   65]\n",
            " [  53   26    0    4  178    9    9  122  115 3684]]\n"
          ]
        }
      ]
    },
    {
      "cell_type": "code",
      "source": [
        "# Storing True positive True negative, False Positive, False negative and F values in a list scores\n",
        "TP=[]\n",
        "TN=[]\n",
        "FP=[]\n",
        "FN=[]\n",
        "F1=[]\n",
        "for i in range(classes):\n",
        "  TP.append(conf_matrix[i][i])\n",
        "  TN.append(np.sum(conf_matrix)-np.sum(conf_matrix[i,:])-np.sum(conf_matrix[:,i])+conf_matrix[i][i])\n",
        "  FP.append(np.sum(conf_matrix[i,:])-conf_matrix[i][i])\n",
        "  FN.append(np.sum(conf_matrix[:,i])-conf_matrix[i][i])\n",
        "  F1.append((2*TP[i])/(2*TP[i] + FP[i] + FN[i]))"
      ],
      "metadata": {
        "id": "KrTB6n_2AlFp"
      },
      "execution_count": null,
      "outputs": []
    },
    {
      "cell_type": "code",
      "source": [
        "print('F1 scores for corresponding classes are:')\n",
        "print(F1)"
      ],
      "metadata": {
        "colab": {
          "base_uri": "https://localhost:8080/"
        },
        "outputId": "187e214f-bf31-47fb-9b38-06adbe0ac303",
        "id": "IuOsHG-XAlFp"
      },
      "execution_count": null,
      "outputs": [
        {
          "output_type": "stream",
          "name": "stdout",
          "text": [
            "F1 scores for corresponding classes are:\n",
            "[0.8609585621567648, 0.8737349397590362, 0.8832674571805007, 0.8318332543818096, 0.8732887964078414, 0.8466446124763705, 0.7773938245457586, 0.6625939849624061, 0.9406567164179105, 0.8984270210949884]\n"
          ]
        }
      ]
    },
    {
      "cell_type": "markdown",
      "source": [
        "### (ii) Logistic regression"
      ],
      "metadata": {
        "id": "gfGXodbJAlFp"
      }
    },
    {
      "cell_type": "code",
      "source": [
        "classes = 10\n",
        "features = train_dataset.shape[1] #785 after augmented data"
      ],
      "metadata": {
        "id": "8qRG_59NAlFq"
      },
      "execution_count": 96,
      "outputs": []
    },
    {
      "cell_type": "code",
      "source": [
        "tmp = np.ones((X_train.shape[0],1))  # Creating augmented data\n",
        "X_train=np.column_stack((X_train,tmp))\n",
        "X_train.shape"
      ],
      "metadata": {
        "colab": {
          "base_uri": "https://localhost:8080/"
        },
        "outputId": "91a08cbb-519f-4c40-f888-f0a7a85a0e15",
        "id": "OxjPxgZVAlFq"
      },
      "execution_count": 97,
      "outputs": [
        {
          "output_type": "execute_result",
          "data": {
            "text/plain": [
              "(18000, 785)"
            ]
          },
          "metadata": {},
          "execution_count": 97
        }
      ]
    },
    {
      "cell_type": "code",
      "source": [
        "tmp = np.ones((X_test.shape[0],1))  # Creating augmented data\n",
        "X_test=np.column_stack((X_test,tmp))\n",
        "X_test.shape"
      ],
      "metadata": {
        "colab": {
          "base_uri": "https://localhost:8080/"
        },
        "outputId": "d59ae6bc-5203-4ae8-e1a8-d61c9ea53d5d",
        "id": "4SJeLXB5AlFq"
      },
      "execution_count": 98,
      "outputs": [
        {
          "output_type": "execute_result",
          "data": {
            "text/plain": [
              "(42000, 785)"
            ]
          },
          "metadata": {},
          "execution_count": 98
        }
      ]
    },
    {
      "cell_type": "markdown",
      "source": [
        "#### Training"
      ],
      "metadata": {
        "id": "iW6nAa39AlFr"
      }
    },
    {
      "cell_type": "code",
      "source": [
        "W=[]\n",
        "for i in range(classes):\n",
        "  W.append(np.ones((features,1)))"
      ],
      "metadata": {
        "id": "FTSoWADsAlFr"
      },
      "execution_count": 99,
      "outputs": []
    },
    {
      "cell_type": "code",
      "source": [
        "def calc_loss(X,W,j):\n",
        "  X=X.reshape((X.shape[0],1))\n",
        "  # calculating probabilities of each class\n",
        "  e=[]                        # exponent\n",
        "  g = []                      # probabilities (softmax)\n",
        "  grad = []                   # gradient addition for this image\n",
        "  for i in range(classes):\n",
        "    e.append(math.exp(W[i].T@X))\n",
        "  k = sum(e)\n",
        "  for i in range(classes):\n",
        "    g.append(e[i]/k)\n",
        "  loss = -1*math.log(g[j])     # loss for 1 image\n",
        "  for i in range(classes):\n",
        "    if i!=j:\n",
        "      grad.append(-g[i]*X.reshape(X.shape[0]))\n",
        "    else:\n",
        "      grad.append((1-g[i])*X.reshape(X.shape[0]))\n",
        "  return loss,grad"
      ],
      "metadata": {
        "id": "lRwt4xMPAlFr"
      },
      "execution_count": 100,
      "outputs": []
    },
    {
      "cell_type": "code",
      "source": [
        "def train_epoch1():\n",
        "  final_loss = 0\n",
        "  final_grad = np.zeros((features,classes))\n",
        "  for i in range(X_train.shape[0]):\n",
        "    loss,grad = calc_loss(X_train[i,:],W,int(Y_train[i]))\n",
        "    final_loss =final_loss + loss\n",
        "    final_grad = final_grad + np.stack(grad,axis = 1)\n",
        "  return final_loss,final_grad"
      ],
      "metadata": {
        "id": "kN4xY9zQAlFs"
      },
      "execution_count": 101,
      "outputs": []
    },
    {
      "cell_type": "code",
      "source": [
        "epochs = 50\n",
        "alpha = 10\n",
        "prev_loss = 0\n",
        "for i in range(epochs):\n",
        "  loss,grad = train_epoch1()\n",
        "  for j in range(classes):\n",
        "    gradient = grad[:,j].reshape(grad[:,j].shape[0],1)\n",
        "    if prev_loss<loss:\n",
        "      alpha = (alpha/10)\n",
        "    W[j]=W[j]+alpha*gradient/np.linalg.norm(gradient)\n",
        "    prev_loss = loss\n",
        "  print('loss in',i,'epoch is',loss/X_train.shape[0])"
      ],
      "metadata": {
        "colab": {
          "base_uri": "https://localhost:8080/"
        },
        "outputId": "948bafd2-b8ef-44b3-de0e-49992014afbf",
        "id": "Vci5j7TJAlFt"
      },
      "execution_count": 102,
      "outputs": [
        {
          "output_type": "stream",
          "name": "stdout",
          "text": [
            "loss in 0 epoch is 2.302585092993949\n",
            "loss in 1 epoch is 1.109937657051293\n",
            "loss in 2 epoch is 15.64977940250885\n",
            "loss in 3 epoch is 14.867888941254881\n",
            "loss in 4 epoch is 13.995138011698831\n",
            "loss in 5 epoch is 13.100708589633108\n",
            "loss in 6 epoch is 12.307237875519634\n",
            "loss in 7 epoch is 11.40377291053196\n",
            "loss in 8 epoch is 10.619744783719701\n",
            "loss in 9 epoch is 9.7100985645489\n",
            "loss in 10 epoch is 8.932746719906728\n",
            "loss in 11 epoch is 8.018582031067721\n",
            "loss in 12 epoch is 7.246156543602161\n",
            "loss in 13 epoch is 6.328672832902279\n",
            "loss in 14 epoch is 5.56002037994501\n",
            "loss in 15 epoch is 4.642430033140454\n",
            "loss in 16 epoch is 3.88123865285457\n",
            "loss in 17 epoch is 3.034157068900151\n",
            "loss in 18 epoch is 2.370007416795513\n",
            "loss in 19 epoch is 1.7839059625244453\n",
            "loss in 20 epoch is 1.2491039263548163\n",
            "loss in 21 epoch is 1.1972351009497333\n",
            "loss in 22 epoch is 1.2154048923244392\n",
            "loss in 23 epoch is 1.1047158906988248\n",
            "loss in 24 epoch is 1.0118033866178344\n",
            "loss in 25 epoch is 0.9372004136921211\n",
            "loss in 26 epoch is 0.8754279545058633\n",
            "loss in 27 epoch is 0.8275503600229118\n",
            "loss in 28 epoch is 0.794751401633561\n",
            "loss in 29 epoch is 0.7755751268626514\n",
            "loss in 30 epoch is 0.7654993686233175\n",
            "loss in 31 epoch is 0.7611230434867159\n",
            "loss in 32 epoch is 0.7592400721520991\n",
            "loss in 33 epoch is 0.7575684845563195\n",
            "loss in 34 epoch is 0.7553249505519141\n",
            "loss in 35 epoch is 0.7536943237487015\n",
            "loss in 36 epoch is 0.7515274953592631\n",
            "loss in 37 epoch is 0.7499035386330652\n",
            "loss in 38 epoch is 0.7478017321933783\n",
            "loss in 39 epoch is 0.7461718014967682\n",
            "loss in 40 epoch is 0.7441298829522318\n",
            "loss in 41 epoch is 0.742491651879504\n",
            "loss in 42 epoch is 0.7405041997821783\n",
            "loss in 43 epoch is 0.7388595851929193\n",
            "loss in 44 epoch is 0.7369210406941277\n",
            "loss in 45 epoch is 0.735273342572249\n",
            "loss in 46 epoch is 0.733378527725371\n",
            "loss in 47 epoch is 0.7317311974093651\n",
            "loss in 48 epoch is 0.7298755620331359\n",
            "loss in 49 epoch is 0.7282317224520557\n"
          ]
        }
      ]
    },
    {
      "cell_type": "code",
      "source": [
        "print('Empirical risk on training data is:')\n",
        "print(loss/X_train.shape[0])"
      ],
      "metadata": {
        "colab": {
          "base_uri": "https://localhost:8080/"
        },
        "outputId": "efe0090b-56e0-42b3-cc29-ed08f54d945c",
        "id": "G2r7m8o1AlFt"
      },
      "execution_count": 103,
      "outputs": [
        {
          "output_type": "stream",
          "name": "stdout",
          "text": [
            "Empirical risk on training data is:\n",
            "0.7282317224520557\n"
          ]
        }
      ]
    },
    {
      "cell_type": "markdown",
      "source": [
        "#### Testing"
      ],
      "metadata": {
        "id": "jRubYz2IAlFu"
      }
    },
    {
      "cell_type": "code",
      "source": [
        "conf_matrix = np.zeros((classes,classes))\n",
        "count = 0\n",
        "loss=0\n",
        "for i in range(X_test.shape[0]):\n",
        "  X = X_test[i,:]\n",
        "  X=X.reshape((X.shape[0],1))\n",
        "  # calculating probabilities of each class\n",
        "  e=[]                        # exponent\n",
        "  g = []                      # probabilities (softmax)\n",
        "  grad = []                   # gradient addition for this image\n",
        "  for j in range(classes):\n",
        "    e.append(math.exp(W[j].T@X))\n",
        "  k = sum(e)\n",
        "  for j in range(classes):\n",
        "    g.append(e[j]/k)\n",
        "  k = g.index(max(g))\n",
        "  if k==Y_test[i]:\n",
        "    count = count+1\n",
        "  v = int(Y_test[i])\n",
        "  conf_matrix[v][k] += 1\n",
        "\n",
        "  loss = loss - 1*math.log(g[v])"
      ],
      "metadata": {
        "id": "uLtkdCyuAlFu"
      },
      "execution_count": 104,
      "outputs": []
    },
    {
      "cell_type": "code",
      "source": [
        "print('The testing accuracy is:')\n",
        "print(count*100/X_test.shape[0])"
      ],
      "metadata": {
        "colab": {
          "base_uri": "https://localhost:8080/"
        },
        "outputId": "fe172b1b-9a9d-4c58-faa1-be72ac06ba86",
        "id": "t3qn5yW2AlFu"
      },
      "execution_count": 105,
      "outputs": [
        {
          "output_type": "stream",
          "name": "stdout",
          "text": [
            "The testing accuracy is:\n",
            "87.02857142857142\n"
          ]
        }
      ]
    },
    {
      "cell_type": "code",
      "source": [
        "print('Empirical risk on testing data is:')\n",
        "print(loss/X_test.shape[0])"
      ],
      "metadata": {
        "colab": {
          "base_uri": "https://localhost:8080/"
        },
        "outputId": "5e743581-236c-4731-8303-66c66288f532",
        "id": "TPfaYKimAlFv"
      },
      "execution_count": 106,
      "outputs": [
        {
          "output_type": "stream",
          "name": "stdout",
          "text": [
            "Empirical risk on testing data is:\n",
            "0.7178242339485161\n"
          ]
        }
      ]
    },
    {
      "cell_type": "code",
      "source": [
        "print('The confusion matrix for above testing data is:')\n",
        "print(conf_matrix.astype(int))"
      ],
      "metadata": {
        "colab": {
          "base_uri": "https://localhost:8080/"
        },
        "outputId": "08b2f0c1-9fa7-4325-ac37-d362061c9bbc",
        "id": "ZprjkapUAlFw"
      },
      "execution_count": 107,
      "outputs": [
        {
          "output_type": "stream",
          "name": "stdout",
          "text": [
            "The confusion matrix for above testing data is:\n",
            "[[3613  298    4   49   42    0    5   42   76   71]\n",
            " [  91 3661    0  169   57   13    2    9   22  176]\n",
            " [ 112   22 3762   54    8  204    3   11   18    6]\n",
            " [  63    4   19 3721  100   49   58  179    4    3]\n",
            " [   1    1    0   36 3944   79    0   86   17   36]\n",
            " [   3   30   46  159  218 3623    4   17   47   53]\n",
            " [   4    0    9   18   15   39 3570  526    4   15]\n",
            " [   5    1   15  275   41   17 1009 2832    3    2]\n",
            " [  62   17    2    6   12    7    2    2 4036   54]\n",
            " [  60    3    0    4  103    6   10   92  132 3790]]\n"
          ]
        }
      ]
    },
    {
      "cell_type": "code",
      "source": [
        "# Storing True positive True negative, False Positive, False negative and F values in a list scores\n",
        "TP=[]\n",
        "TN=[]\n",
        "FP=[]\n",
        "FN=[]\n",
        "F1=[]\n",
        "for i in range(classes):\n",
        "  TP.append(conf_matrix[i][i])\n",
        "  TN.append(np.sum(conf_matrix)-np.sum(conf_matrix[i,:])-np.sum(conf_matrix[:,i])+conf_matrix[i][i])\n",
        "  FP.append(np.sum(conf_matrix[i,:])-conf_matrix[i][i])\n",
        "  FN.append(np.sum(conf_matrix[:,i])-conf_matrix[i][i])\n",
        "  F1.append((2*TP[i])/(2*TP[i] + FP[i] + FN[i]))"
      ],
      "metadata": {
        "id": "yc6UjCZPAlFw"
      },
      "execution_count": 108,
      "outputs": []
    },
    {
      "cell_type": "code",
      "source": [
        "print('F1 scores for corresponding classes are:')\n",
        "print(F1)"
      ],
      "metadata": {
        "colab": {
          "base_uri": "https://localhost:8080/"
        },
        "outputId": "9b0aadfa-e4c9-4cbe-f81c-1ca0a4f505d3",
        "id": "vkkQBXIIAlFx"
      },
      "execution_count": 109,
      "outputs": [
        {
          "output_type": "stream",
          "name": "stdout",
          "text": [
            "F1 scores for corresponding classes are:\n",
            "[0.879717555393231, 0.8889158674274614, 0.9338463447933474, 0.8562881141410654, 0.9025171624713959, 0.879689207235644, 0.8055962992214826, 0.7083541770885443, 0.9431008295361608, 0.901736854627647]\n"
          ]
        }
      ]
    },
    {
      "cell_type": "code",
      "source": [],
      "metadata": {
        "id": "L7erroWHAlFx"
      },
      "execution_count": 109,
      "outputs": []
    },
    {
      "cell_type": "markdown",
      "source": [
        "### (iii) GMM"
      ],
      "metadata": {
        "id": "fneWFEfGFOvY"
      }
    },
    {
      "cell_type": "code",
      "execution_count": null,
      "metadata": {
        "colab": {
          "base_uri": "https://localhost:8080/",
          "height": 1000
        },
        "outputId": "ca5d3a30-0e99-4bf4-ca99-27c34fb04f49",
        "id": "9fFLWhUGFXFr"
      },
      "outputs": [
        {
          "output_type": "stream",
          "name": "stdout",
          "text": [
            "Accuracy for  1  mixtures is :  0.8521904761904762\n",
            "F1 scores  1  mixtures is :  [0.8436345727653287, 0.8895472860867504, 0.9238683127572016, 0.8289488289488289, 0.8753635678121297, 0.8943584744730109, 0.7947882736156352, 0.685672867842474, 0.8913931888544891, 0.9009250243427459]\n",
            "Confusion matrix for  1  mixtures is :  [[3426.   65.  121.   31.    4.    1.    5.   20.  152.   79.]\n",
            " [ 315. 3753.   32.    4.    2.   20.    1.    1.   79.    9.]\n",
            " [   1.    0. 3592.    1.    0.   30.    2.    5.    1.    0.]\n",
            " [ 161.  200.  101. 3734.   40.  202.   48.  268.   62.   19.]\n",
            " [  89.   78.    9.  143. 4063.  178.   32.  180.   96.  194.]\n",
            " [   4.   12.  145.   36.   72. 3670.   29.   11.   55.   12.]\n",
            " [   9.    1.    2.   23.    1.   16. 3416.  854.   19.   12.]\n",
            " [  50.   14.  134.  202.   22.   20.  706. 2838.    8.  102.]\n",
            " [ 123.   16.    5.    0.    6.   17.    0.    2. 3599.  100.]\n",
            " [  40.   83.    3.    0.   11.    7.    4.    3.  136. 3701.]]\n",
            "Accuracy for  2  mixtures is :  0.881547619047619\n",
            "F1 scores  2  mixtures is :  [0.8595450049455984, 0.8915318744053282, 0.9606790662838597, 0.8531825238412065, 0.8783958602846055, 0.9035557720409158, 0.8695853066882292, 0.8074906367041198, 0.8944823310601364, 0.9005451241671714]\n",
            "Confusion matrix for  2  mixtures is :  [[3476.   71.   52.   27.    4.    1.    5.   15.  145.   74.]\n",
            " [ 298. 3748.   25.    4.    1.   21.    2.    1.   78.    8.]\n",
            " [   2.    0. 3848.    1.    0.   12.    1.    3.    0.    0.]\n",
            " [ 141.  201.   66. 3847.   40.  197.   60.  200.   65.   27.]\n",
            " [  93.   80.   13.  158. 4074.  176.   33.  135.   99.  194.]\n",
            " [   4.   16.  111.   37.   67. 3710.   28.   14.   56.    8.]\n",
            " [   9.    0.    4.   16.    1.   11. 3764.  575.   14.   20.]\n",
            " [  36.    0.   15.   84.   17.    9.  346. 3234.    3.   84.]\n",
            " [ 118.    8.    6.    0.    6.   15.    0.    2. 3607.   96.]\n",
            " [  41.   98.    4.    0.   11.    9.    4.    3.  140. 3717.]]\n",
            "Accuracy for  3  mixtures is :  0.8906666666666667\n",
            "F1 scores  3  mixtures is :  [0.8725442043222004, 0.9118612283169245, 0.9530285858204256, 0.8624326750448833, 0.884996191926885, 0.908203125, 0.8714551371455137, 0.8031534860803153, 0.9156686010618595, 0.9275432442240232]\n",
            "Confusion matrix for  3  mixtures is :  [[3553.   72.   95.   29.    5.    1.    5.   25.  117.   24.]\n",
            " [ 325. 3890.   21.    5.    1.    9.    0.    1.   58.    0.]\n",
            " [   1.    0. 3784.    0.    0.   10.    1.    1.    0.    0.]\n",
            " [ 116.  101.   92. 3843.   40.  203.   59.  198.   63.   23.]\n",
            " [  65.   55.   12.  155. 4067.  182.   35.  134.   85.  180.]\n",
            " [   4.   22.   70.   39.   72. 3720.   27.   12.   58.    7.]\n",
            " [   7.    0.    4.   15.    1.   10. 3749.  548.    8.   19.]\n",
            " [  39.    1.   64.   88.   21.    6.  365. 3260.    2.   90.]\n",
            " [  96.   10.    1.    0.    6.   18.    0.    2. 3708.   51.]\n",
            " [  12.   71.    1.    0.    8.    2.    2.    1.  108. 3834.]]\n",
            "Accuracy for  4  mixtures is :  0.8945714285714286\n",
            "F1 scores  4  mixtures is :  [0.8863748155435317, 0.9232580037664784, 0.975952645209027, 0.8662362668478877, 0.8868827496193169, 0.9225282833251353, 0.8525425692111664, 0.773772911797269, 0.9258848193365397, 0.9367488163166201]\n",
            "Confusion matrix for  4  mixtures is :  [[3604.   62.   34.   23.    3.    0.    5.   19.  145.   19.]\n",
            " [ 278. 3922.   19.    5.    0.    8.    0.    2.   40.    0.]\n",
            " [   2.    0. 3957.    0.    0.    4.    1.    1.    0.    0.]\n",
            " [ 100.  102.   59. 3824.   39.  190.   51.  217.   55.   18.]\n",
            " [  70.   52.    8.  152. 4077.  182.   29.  149.   77.  177.]\n",
            " [   4.   16.   37.   34.   64. 3751.   10.    7.   42.    6.]\n",
            " [   8.    0.    5.   20.    1.   10. 3680.  638.   13.   15.]\n",
            " [  50.    7.   24.  116.   28.    9.  465. 3145.    5.   98.]\n",
            " [  87.   11.    0.    0.    5.    6.    0.    2. 3754.   37.]\n",
            " [  15.   50.    1.    0.    4.    1.    2.    2.   76. 3858.]]\n",
            "Accuracy for  5  mixtures is :  0.8960714285714285\n",
            "F1 scores  5  mixtures is :  [0.8835599505562423, 0.9174979462504401, 0.9707703740401288, 0.865553801037672, 0.8867145031528593, 0.9154362416107382, 0.872330547818013, 0.8009894867037725, 0.9156419085095917, 0.9359114678341238]\n",
            "Confusion matrix for  5  mixtures is :  [[3574.   59.   39.   26.    3.    0.    5.   22.  125.   19.]\n",
            " [ 273. 3909.   23.    6.    0.   12.    1.    3.   70.    2.]\n",
            " [   2.    0. 3919.    2.    0.    4.    1.    1.    0.    1.]\n",
            " [ 103.  113.   61. 3837.   39.  194.   55.  210.   62.   18.]\n",
            " [  70.   58.   11.  154. 4078.  172.   34.  141.   80.  179.]\n",
            " [   4.   21.   66.   35.   66. 3751.   16.   11.   58.    6.]\n",
            " [   8.    0.    3.   14.    1.    6. 3758.  553.   11.   19.]\n",
            " [  45.    4.   19.  100.   23.    7.  371. 3238.    4.   92.]\n",
            " [ 129.    6.    2.    0.    5.   14.    0.    2. 3723.   44.]\n",
            " [  10.   52.    1.    0.    6.    1.    2.    1.   74. 3848.]]\n",
            "Accuracy for  6  mixtures is :  0.8946666666666667\n",
            "F1 scores  6  mixtures is :  [0.8841975308641975, 0.9104076626562317, 0.9753147371019502, 0.8608108108108108, 0.885, 0.9146925248557751, 0.8642807343713688, 0.7933374460209747, 0.9303354220420199, 0.9333333333333333]\n",
            "Confusion matrix for  6  mixtures is :  [[3581.   66.   38.   31.    2.    1.    5.   20.   95.   43.]\n",
            " [ 315. 3897.   27.    7.    0.   15.    1.    3.   68.    6.]\n",
            " [   1.    0. 3951.    0.    0.    6.    0.    0.    0.    0.]\n",
            " [ 117.  123.   61. 3822.   39.  203.   53.  213.   54.   21.]\n",
            " [  70.   59.    7.  155. 4071.  180.   30.  141.   76.  190.]\n",
            " [   4.   20.   37.   41.   73. 3726.   17.   11.   51.    6.]\n",
            " [   8.    0.    4.   18.    1.   12. 3719.  575.   11.   15.]\n",
            " [  40.    3.   18.  100.   24.    6.  417. 3215.    3.   97.]\n",
            " [  71.   13.    0.    0.    8.   10.    0.    2. 3786.   42.]\n",
            " [  11.   41.    1.    0.    3.    2.    1.    2.   63. 3808.]]\n"
          ]
        },
        {
          "output_type": "display_data",
          "data": {
            "text/plain": [
              "<Figure size 432x288 with 1 Axes>"
            ],
            "image/png": "[encoded data removed]"
          },
          "metadata": {
            "needs_background": "light"
          }
        }
      ],
      "source": [
        "train_dataset2,test_dataset2 = p4_split_dataset(p4dataset,0.3)\n",
        "classes = 10\n",
        "y2 = np.zeros(6)\n",
        "x2 = np.array([1,2,3,4,5,6])\n",
        "for number_of_Gaussian in x2:\n",
        "  Means2,Pi2 = p4_GMM_training(train_dataset2,5,number_of_Gaussian)\n",
        "  accuracy2,confusion_matrix2 = p4_GMM_testing(test_dataset2,10,Means2,Pi2,number_of_Gaussian)\n",
        "  TP2=[]\n",
        "  TN2=[]\n",
        "  FP2=[]\n",
        "  FN2=[]\n",
        "  F12=[]\n",
        "  for i in range(classes):\n",
        "    TP2.append(confusion_matrix2[i][i])\n",
        "    TN2.append(np.sum(confusion_matrix2)-np.sum(confusion_matrix2[i,:])-np.sum(confusion_matrix2[:,i])+confusion_matrix2[i][i])\n",
        "    FP2.append(np.sum(confusion_matrix2[i,:])-confusion_matrix2[i][i])\n",
        "    FN2.append(np.sum(confusion_matrix2[:,i])-confusion_matrix2[i][i])\n",
        "    F12.append((2*TP2[i])/(2*TP2[i] + FP2[i] + FN2[i]))\n",
        "  y2[number_of_Gaussian-1] = p4_get_likelihood(train_dataset2,Means2,Pi2,number_of_Gaussian)\n",
        "  print(\"Accuracy for \",number_of_Gaussian,\" mixtures is : \",accuracy2)\n",
        "  print(\"F1 scores \",number_of_Gaussian,\" mixtures is : \",F12)\n",
        "  print(\"Confusion matrix for \",number_of_Gaussian,\" mixtures is : \",confusion_matrix2)\n",
        "\n",
        "y2 = (y2-np.min(y2))/(np.max(y2)-np.min(y2))\n",
        "plt.plot(x2,y2) \n",
        "plt.title(\"Log likelihood for 30:70\") \n",
        "plt.ylabel(\"log likelihood\") \n",
        "plt.xlabel(\"Gaussian misture\") \n",
        "plt.show()"
      ]
    },
    {
      "cell_type": "markdown",
      "source": [
        "## Model 3 - 50:50"
      ],
      "metadata": {
        "id": "4iUxp3KDDjmP"
      }
    },
    {
      "cell_type": "markdown",
      "source": [
        "Again initialising dataset as X was used variable elsewhere"
      ],
      "metadata": {
        "id": "LkkjWlM3DjmQ"
      }
    },
    {
      "cell_type": "code",
      "source": [
        "X=[]\n",
        "Y = []\n",
        "for i in range(classes):\n",
        "  tmp = []\n",
        "  for j in range(len(lst_img_clss[i])):\n",
        "    x = np.ndarray.flatten(lst_img_clss[i][j])\n",
        "    tmp.append(x)\n",
        "  a = np.stack(tmp,axis = 0)\n",
        "  X.append(a)\n",
        "  Y.append(i)\n"
      ],
      "metadata": {
        "id": "VS3bAjZjDjmQ"
      },
      "execution_count": 110,
      "outputs": []
    },
    {
      "cell_type": "code",
      "source": [
        "a = X[0]\n",
        "b = np.zeros((X[0].shape[0],1))\n",
        "dataset = np.column_stack((a,b))\n",
        "for i in range(1,classes):\n",
        "  a=X[i]\n",
        "  b = i*np.ones((X[i].shape[0],1))\n",
        "  temp = np.column_stack((a,b))\n",
        "  dataset = np.row_stack((dataset,temp))"
      ],
      "metadata": {
        "id": "rCqlVW-rDjmQ"
      },
      "execution_count": 111,
      "outputs": []
    },
    {
      "cell_type": "code",
      "source": [
        "dataset.shape  # Overall dataset"
      ],
      "metadata": {
        "colab": {
          "base_uri": "https://localhost:8080/"
        },
        "outputId": "47e2573c-66f4-4d44-f719-cb871cbda033",
        "id": "7GxDMhL_DjmR"
      },
      "execution_count": 112,
      "outputs": [
        {
          "output_type": "execute_result",
          "data": {
            "text/plain": [
              "(60000, 785)"
            ]
          },
          "metadata": {},
          "execution_count": 112
        }
      ]
    },
    {
      "cell_type": "code",
      "source": [
        "# creating training and testing dataset\n",
        "count = 3000 #per class\n",
        "a=X[0]\n",
        "a=a[0:count,:]/255       # Normalising else exponent becomes 0\n",
        "b = np.zeros((a.shape[0],1))\n",
        "train_dataset = np.column_stack((a,b))\n",
        "a=X[0]\n",
        "a=a[count:,:]/255\n",
        "b = np.zeros((a.shape[0],1))\n",
        "test_dataset = np.column_stack((a,b))\n",
        "for i in range(1,classes):\n",
        "  a=X[i]\n",
        "  a=a[0:count,:]/255\n",
        "  b = i*np.ones((a.shape[0],1))\n",
        "  temp = np.column_stack((a,b))\n",
        "  train_dataset = np.row_stack((train_dataset,temp))\n",
        "  a=X[i]\n",
        "  a=a[count:,:]/255\n",
        "  b = i*np.ones((a.shape[0],1))\n",
        "  temp = np.column_stack((a,b))\n",
        "  test_dataset = np.row_stack((test_dataset,temp))\n"
      ],
      "metadata": {
        "id": "mFrYPfHNDjmR"
      },
      "execution_count": 113,
      "outputs": []
    },
    {
      "cell_type": "code",
      "source": [
        "train_dataset.shape"
      ],
      "metadata": {
        "colab": {
          "base_uri": "https://localhost:8080/"
        },
        "outputId": "dcab898c-d8a7-4a9c-9126-afdd5ff4c973",
        "id": "rBy_ltOaDjmR"
      },
      "execution_count": 114,
      "outputs": [
        {
          "output_type": "execute_result",
          "data": {
            "text/plain": [
              "(30000, 785)"
            ]
          },
          "metadata": {},
          "execution_count": 114
        }
      ]
    },
    {
      "cell_type": "code",
      "source": [
        "test_dataset.shape"
      ],
      "metadata": {
        "colab": {
          "base_uri": "https://localhost:8080/"
        },
        "outputId": "b1d057f8-516f-447c-905e-d4fa27c11bd8",
        "id": "mCIfd94uDjmR"
      },
      "execution_count": 115,
      "outputs": [
        {
          "output_type": "execute_result",
          "data": {
            "text/plain": [
              "(30000, 785)"
            ]
          },
          "metadata": {},
          "execution_count": 115
        }
      ]
    },
    {
      "cell_type": "code",
      "source": [
        "features = train_dataset.shape[1]-1 #784"
      ],
      "metadata": {
        "id": "aet5p2T3DjmS"
      },
      "execution_count": 116,
      "outputs": []
    },
    {
      "cell_type": "code",
      "source": [
        "# Initialising features and labels from dataset\n",
        "X_test = test_dataset[:,:features]\n",
        "X_train = train_dataset[:,:features]\n",
        "Y_train = train_dataset[:,features]\n",
        "Y_test = test_dataset[:,features]"
      ],
      "metadata": {
        "id": "iSSZZIffDjmS"
      },
      "execution_count": 117,
      "outputs": []
    },
    {
      "cell_type": "markdown",
      "source": [
        "### (i) Naive Bayes"
      ],
      "metadata": {
        "id": "AaW0wqrhDjmS"
      }
    },
    {
      "cell_type": "code",
      "source": [
        "classes = 10\n",
        "features = train_dataset.shape[1]-1"
      ],
      "metadata": {
        "id": "HTMXxqEjDjmS"
      },
      "execution_count": null,
      "outputs": []
    },
    {
      "cell_type": "code",
      "source": [
        "# Creating list of numpy arrays containing training datas of each class with class as index of list \n",
        "temp = train_dataset\n",
        "lst = []\n",
        "for i in range(classes):\n",
        "  x = temp[np.where(temp[:,features]==i)] # last column is my class indexes\n",
        "  x = x[:,:features]\n",
        "  lst.append(x)"
      ],
      "metadata": {
        "id": "LgMa87E5DjmS"
      },
      "execution_count": null,
      "outputs": []
    },
    {
      "cell_type": "code",
      "source": [
        "# 10 features' mean for each classes\n",
        "mean=[] \n",
        "for i in range(classes):\n",
        "  a=lst[i]\n",
        "  a = a.mean(axis=0)\n",
        "  mean.append(a)"
      ],
      "metadata": {
        "id": "BGNmmoY-DjmS"
      },
      "execution_count": null,
      "outputs": []
    },
    {
      "cell_type": "markdown",
      "source": [
        "#### Training"
      ],
      "metadata": {
        "id": "CGGWtMojDjmT"
      }
    },
    {
      "cell_type": "code",
      "source": [
        "count = 0\n",
        "for i in range(X_train.shape[0]):\n",
        "  g = []  #class conditionals\n",
        "  for j in range(classes):\n",
        "    v = (X_train[i]-mean[j])\n",
        "    v = np.power(v,2)\n",
        "    k = 0.5 * np.sum(v)\n",
        "    k = math.exp(-k)\n",
        "    g.append(k)\n",
        "  k = g.index(max(g))\n",
        "  if k==int(Y_train[i]):\n",
        "    count=count+1"
      ],
      "metadata": {
        "id": "Ex5NBL16DjmT"
      },
      "execution_count": null,
      "outputs": []
    },
    {
      "cell_type": "code",
      "source": [
        "print('The training accuracy is:')\n",
        "print(count*100/X_train.shape[0])"
      ],
      "metadata": {
        "colab": {
          "base_uri": "https://localhost:8080/"
        },
        "outputId": "f3f50cdf-9eda-4f57-8f70-791fc6e6ba27",
        "id": "0zN7RGlVDjmT"
      },
      "execution_count": null,
      "outputs": [
        {
          "output_type": "stream",
          "name": "stdout",
          "text": [
            "The training accuracy is:\n",
            "84.82333333333334\n"
          ]
        }
      ]
    },
    {
      "cell_type": "markdown",
      "source": [
        "#### Testing"
      ],
      "metadata": {
        "id": "TDnTKopBDjmT"
      }
    },
    {
      "cell_type": "code",
      "source": [
        "conf_matrix = np.zeros((classes,classes))\n",
        "count = 0\n",
        "for i in range(X_test.shape[0]):\n",
        "  g = []  #class conditionals\n",
        "  for j in range(classes):\n",
        "    v = (X_test[i]-mean[j])\n",
        "    v = np.power(v,2)\n",
        "    k = 0.5 * np.sum(v)\n",
        "    #k = math.exp(-k)\n",
        "    g.append(k)\n",
        "  k = g.index(min(g))\n",
        "  if k==int(Y_test[i]):\n",
        "    count=count+1\n",
        "  v = int(Y_test[i])\n",
        "  conf_matrix[v][k] += 1"
      ],
      "metadata": {
        "id": "MnBzrS6aDjmT"
      },
      "execution_count": null,
      "outputs": []
    },
    {
      "cell_type": "code",
      "source": [
        "print('The testing accuracy is:')\n",
        "print(count*100/X_test.shape[0])"
      ],
      "metadata": {
        "colab": {
          "base_uri": "https://localhost:8080/"
        },
        "outputId": "18babb22-b956-44d8-c225-86ecca592386",
        "id": "nT_x1ry8DjmT"
      },
      "execution_count": null,
      "outputs": [
        {
          "output_type": "stream",
          "name": "stdout",
          "text": [
            "The testing accuracy is:\n",
            "86.12\n"
          ]
        }
      ]
    },
    {
      "cell_type": "code",
      "source": [
        "print('The confusion matrix for above testing data is:')\n",
        "print(conf_matrix.astype(int))"
      ],
      "metadata": {
        "colab": {
          "base_uri": "https://localhost:8080/"
        },
        "outputId": "25b57d46-104e-422a-e22f-d27560733788",
        "id": "0nrn4oNcDjmU"
      },
      "execution_count": null,
      "outputs": [
        {
          "output_type": "stream",
          "name": "stdout",
          "text": [
            "The confusion matrix for above testing data is:\n",
            "[[2633  188    0   27   37    1   10   46   46   12]\n",
            " [  54 2712    0   89   57    7    1    5   32   43]\n",
            " [  96   32 2503   97   12  177    6   68    6    3]\n",
            " [  34    2    0 2631  106   22   39  165    0    1]\n",
            " [   1    1    0    9 2863   83    0   32    4    7]\n",
            " [   1   29   29  105  198 2580    7   16   18   17]\n",
            " [   1    1    0   16   15   15 2509  437    0    6]\n",
            " [   2    1    2  122   31   11  909 1920    2    0]\n",
            " [  62    5    1    1    7   10    2    2 2854   56]\n",
            " [  51   13    0    3   93    4    6   81  118 2631]]\n"
          ]
        }
      ]
    },
    {
      "cell_type": "code",
      "source": [
        "# Storing True positive True negative, False Positive, False negative and F values in a list scores\n",
        "TP=[]\n",
        "TN=[]\n",
        "FP=[]\n",
        "FN=[]\n",
        "F1=[]\n",
        "for i in range(classes):\n",
        "  TP.append(conf_matrix[i][i])\n",
        "  TN.append(np.sum(conf_matrix)-np.sum(conf_matrix[i,:])-np.sum(conf_matrix[:,i])+conf_matrix[i][i])\n",
        "  FP.append(np.sum(conf_matrix[i,:])-conf_matrix[i][i])\n",
        "  FN.append(np.sum(conf_matrix[:,i])-conf_matrix[i][i])\n",
        "  F1.append((2*TP[i])/(2*TP[i] + FP[i] + FN[i]))"
      ],
      "metadata": {
        "id": "iF1LgipxDjmU"
      },
      "execution_count": null,
      "outputs": []
    },
    {
      "cell_type": "code",
      "source": [
        "print('F1 scores for corresponding classes are:')\n",
        "print(F1)"
      ],
      "metadata": {
        "colab": {
          "base_uri": "https://localhost:8080/"
        },
        "outputId": "8af853d0-bf10-436f-c235-23b1ab3ba454",
        "id": "sppi4BDJDjmU"
      },
      "execution_count": null,
      "outputs": [
        {
          "output_type": "stream",
          "name": "stdout",
          "text": [
            "F1 scores for corresponding classes are:\n",
            "[0.8872788542544229, 0.9064171122994652, 0.9044263775971093, 0.8626229508196721, 0.8920392584514721, 0.8730964467005076, 0.7733086762212976, 0.6652806652806653, 0.9388157894736842, 0.91101108033241]\n"
          ]
        }
      ]
    },
    {
      "cell_type": "markdown",
      "source": [
        "### (ii) Logistic regression"
      ],
      "metadata": {
        "id": "b67J8eAKDjmU"
      }
    },
    {
      "cell_type": "code",
      "source": [
        "classes = 10\n",
        "features = train_dataset.shape[1] #785 after augmented data"
      ],
      "metadata": {
        "id": "YXpdQANYDjmV"
      },
      "execution_count": 118,
      "outputs": []
    },
    {
      "cell_type": "code",
      "source": [
        "tmp = np.ones((X_train.shape[0],1))  # Creating augmented data\n",
        "X_train=np.column_stack((X_train,tmp))\n",
        "X_train.shape"
      ],
      "metadata": {
        "colab": {
          "base_uri": "https://localhost:8080/"
        },
        "outputId": "42162335-6b40-4603-948b-1aeacece6aa2",
        "id": "D5XVf1jiDjmV"
      },
      "execution_count": 119,
      "outputs": [
        {
          "output_type": "execute_result",
          "data": {
            "text/plain": [
              "(30000, 785)"
            ]
          },
          "metadata": {},
          "execution_count": 119
        }
      ]
    },
    {
      "cell_type": "code",
      "source": [
        "tmp = np.ones((X_test.shape[0],1))  # Creating augmented data\n",
        "X_test=np.column_stack((X_test,tmp))\n",
        "X_test.shape"
      ],
      "metadata": {
        "colab": {
          "base_uri": "https://localhost:8080/"
        },
        "outputId": "c3ff27e7-d8cc-4de3-ebc8-edd0a45ed170",
        "id": "K72MiGtmDjmV"
      },
      "execution_count": 120,
      "outputs": [
        {
          "output_type": "execute_result",
          "data": {
            "text/plain": [
              "(30000, 785)"
            ]
          },
          "metadata": {},
          "execution_count": 120
        }
      ]
    },
    {
      "cell_type": "markdown",
      "source": [
        "#### Training"
      ],
      "metadata": {
        "id": "kNMRs-lyDjmV"
      }
    },
    {
      "cell_type": "code",
      "source": [
        "W=[]\n",
        "for i in range(classes):\n",
        "  W.append(np.ones((features,1)))"
      ],
      "metadata": {
        "id": "VsHoFcDMDjmW"
      },
      "execution_count": 121,
      "outputs": []
    },
    {
      "cell_type": "code",
      "source": [
        "def calc_loss(X,W,j):\n",
        "  X=X.reshape((X.shape[0],1))\n",
        "  # calculating probabilities of each class\n",
        "  e=[]                        # exponent\n",
        "  g = []                      # probabilities (softmax)\n",
        "  grad = []                   # gradient addition for this image\n",
        "  for i in range(classes):\n",
        "    e.append(math.exp(W[i].T@X))\n",
        "  k = sum(e)\n",
        "  for i in range(classes):\n",
        "    g.append(e[i]/k)\n",
        "  loss = -1*math.log(g[j])     # loss for 1 image\n",
        "  for i in range(classes):\n",
        "    if i!=j:\n",
        "      grad.append(-g[i]*X.reshape(X.shape[0]))\n",
        "    else:\n",
        "      grad.append((1-g[i])*X.reshape(X.shape[0]))\n",
        "  return loss,grad"
      ],
      "metadata": {
        "id": "APo6ZM6TDjmW"
      },
      "execution_count": 122,
      "outputs": []
    },
    {
      "cell_type": "code",
      "source": [
        "def train_epoch1():\n",
        "  final_loss = 0\n",
        "  final_grad = np.zeros((features,classes))\n",
        "  for i in range(X_train.shape[0]):\n",
        "    loss,grad = calc_loss(X_train[i,:],W,int(Y_train[i]))\n",
        "    final_loss =final_loss + loss\n",
        "    final_grad = final_grad + np.stack(grad,axis = 1)\n",
        "  return final_loss,final_grad"
      ],
      "metadata": {
        "id": "0MJ6sPocDjmW"
      },
      "execution_count": 123,
      "outputs": []
    },
    {
      "cell_type": "code",
      "source": [
        "epochs = 50\n",
        "alpha = 10\n",
        "prev_loss = 0\n",
        "for i in range(epochs):\n",
        "  loss,grad = train_epoch1()\n",
        "  for j in range(classes):\n",
        "    gradient = grad[:,j].reshape(grad[:,j].shape[0],1)\n",
        "    if prev_loss<loss:\n",
        "      alpha = (alpha/10)\n",
        "    W[j]=W[j]+alpha*gradient/np.linalg.norm(gradient)\n",
        "    prev_loss = loss\n",
        "  print('loss in',i,'epoch is',loss/X_train.shape[0])"
      ],
      "metadata": {
        "colab": {
          "base_uri": "https://localhost:8080/"
        },
        "outputId": "6be6a6da-4e97-4f4c-b40a-54942cb5d7ee",
        "id": "7DeqwUnGDjmW"
      },
      "execution_count": 124,
      "outputs": [
        {
          "output_type": "stream",
          "name": "stdout",
          "text": [
            "loss in 0 epoch is 2.3025850929934024\n",
            "loss in 1 epoch is 1.1015164807183533\n",
            "loss in 2 epoch is 15.996749007512783\n",
            "loss in 3 epoch is 14.35179918806085\n",
            "loss in 4 epoch is 12.689189031466176\n",
            "loss in 5 epoch is 11.026585417436387\n",
            "loss in 6 epoch is 9.36398815061454\n",
            "loss in 7 epoch is 7.701397068861428\n",
            "loss in 8 epoch is 6.0388135044398785\n",
            "loss in 9 epoch is 4.3763354097555185\n",
            "loss in 10 epoch is 2.7200301749632256\n",
            "loss in 11 epoch is 1.2546646708158582\n",
            "loss in 12 epoch is 1.1722500880166393\n",
            "loss in 13 epoch is 1.093281597799932\n",
            "loss in 14 epoch is 1.1808245654379308\n",
            "loss in 15 epoch is 1.0583677820552513\n",
            "loss in 16 epoch is 0.9662088709445491\n",
            "loss in 17 epoch is 0.9003420226318095\n",
            "loss in 18 epoch is 0.8582080847454168\n",
            "loss in 19 epoch is 0.8345208021277007\n",
            "loss in 20 epoch is 0.8258655895933181\n",
            "loss in 21 epoch is 0.8215476513913776\n",
            "loss in 22 epoch is 0.8190065983794665\n",
            "loss in 23 epoch is 0.8178066409533886\n",
            "loss in 24 epoch is 0.8149161090283084\n",
            "loss in 25 epoch is 0.8134515281225305\n",
            "loss in 26 epoch is 0.810959243211101\n",
            "loss in 27 epoch is 0.8093121123022243\n",
            "loss in 28 epoch is 0.8070496148223835\n",
            "loss in 29 epoch is 0.805293503275191\n",
            "loss in 30 epoch is 0.8031733944184642\n",
            "loss in 31 epoch is 0.8013580103032726\n",
            "loss in 32 epoch is 0.7993304717925375\n",
            "loss in 33 epoch is 0.7974874626267454\n",
            "loss in 34 epoch is 0.7955232128221168\n",
            "loss in 35 epoch is 0.7936721526933976\n",
            "loss in 36 epoch is 0.7917537425422232\n",
            "loss in 37 epoch is 0.7899064945375833\n",
            "loss in 38 epoch is 0.7880234311452825\n",
            "loss in 39 epoch is 0.7861870538255041\n",
            "loss in 40 epoch is 0.7843329713566503\n",
            "loss in 41 epoch is 0.7825115736643994\n",
            "loss in 42 epoch is 0.7806825673475296\n",
            "loss in 43 epoch is 0.7788784644559238\n",
            "loss in 44 epoch is 0.7770721017565183\n",
            "loss in 45 epoch is 0.7752865256479717\n",
            "loss in 46 epoch is 0.7735012563317084\n",
            "loss in 47 epoch is 0.771734789332988\n",
            "loss in 48 epoch is 0.7699695921891143\n",
            "loss in 49 epoch is 0.7682224303085692\n"
          ]
        }
      ]
    },
    {
      "cell_type": "code",
      "source": [
        "print('Empirical risk on training data is:')\n",
        "print(loss/X_train.shape[0])"
      ],
      "metadata": {
        "colab": {
          "base_uri": "https://localhost:8080/"
        },
        "id": "rCwl9VNzDjmW",
        "outputId": "40fe7ca8-7850-4c95-96d7-0a966aa43992"
      },
      "execution_count": 125,
      "outputs": [
        {
          "output_type": "stream",
          "name": "stdout",
          "text": [
            "Empirical risk on training data is:\n",
            "0.7682224303085692\n"
          ]
        }
      ]
    },
    {
      "cell_type": "markdown",
      "source": [
        "#### Testing"
      ],
      "metadata": {
        "id": "yseY6HE1DjmX"
      }
    },
    {
      "cell_type": "code",
      "source": [
        "conf_matrix = np.zeros((classes,classes))\n",
        "count = 0\n",
        "loss = 0\n",
        "for i in range(X_test.shape[0]):\n",
        "  X = X_test[i,:]\n",
        "  X=X.reshape((X.shape[0],1))\n",
        "  # calculating probabilities of each class\n",
        "  e=[]                        # exponent\n",
        "  g = []                      # probabilities (softmax)\n",
        "  grad = []                   # gradient addition for this image\n",
        "  for j in range(classes):\n",
        "    e.append(math.exp(W[j].T@X))\n",
        "  k = sum(e)\n",
        "  for j in range(classes):\n",
        "    g.append(e[j]/k)\n",
        "  k = g.index(max(g))\n",
        "  if k==Y_test[i]:\n",
        "    count = count+1\n",
        "  v = int(Y_test[i])\n",
        "  conf_matrix[v][k] += 1\n",
        "\n",
        "  loss = loss - 1*math.log(g[v])"
      ],
      "metadata": {
        "id": "Am_0-Qg-DjmX"
      },
      "execution_count": 126,
      "outputs": []
    },
    {
      "cell_type": "code",
      "source": [
        "print('The testing accuracy is:')\n",
        "print(count*100/X_test.shape[0])"
      ],
      "metadata": {
        "colab": {
          "base_uri": "https://localhost:8080/"
        },
        "id": "GNubYJShDjmX",
        "outputId": "ad4d6782-7366-4b3e-b8d3-f2abe6fd7824"
      },
      "execution_count": 127,
      "outputs": [
        {
          "output_type": "stream",
          "name": "stdout",
          "text": [
            "The testing accuracy is:\n",
            "87.68333333333334\n"
          ]
        }
      ]
    },
    {
      "cell_type": "code",
      "source": [
        "print('Empirical risk on testing data is:')\n",
        "print(loss/X_test.shape[0])"
      ],
      "metadata": {
        "colab": {
          "base_uri": "https://localhost:8080/"
        },
        "id": "xrF4djLUDjmX",
        "outputId": "4491ef95-a450-46db-d2bc-ad5e5afb3a54"
      },
      "execution_count": 128,
      "outputs": [
        {
          "output_type": "stream",
          "name": "stdout",
          "text": [
            "Empirical risk on testing data is:\n",
            "0.7132966042489008\n"
          ]
        }
      ]
    },
    {
      "cell_type": "code",
      "source": [
        "print('The confusion matrix for above testing data is:')\n",
        "print(conf_matrix.astype(int))"
      ],
      "metadata": {
        "colab": {
          "base_uri": "https://localhost:8080/"
        },
        "id": "9WPIEEpiDjmX",
        "outputId": "a7c52399-6e6b-4cbd-b3fb-b970aef0dfc7"
      },
      "execution_count": 129,
      "outputs": [
        {
          "output_type": "stream",
          "name": "stdout",
          "text": [
            "The confusion matrix for above testing data is:\n",
            "[[2575  243    2   12   33    1    7   46   74    7]\n",
            " [  19 2830    0   32   56    9    1    4   21   28]\n",
            " [  77   30 2682   43    7  114    3   34    9    1]\n",
            " [  43    8    1 2547  130   41   29  199    0    2]\n",
            " [   1    1    0    6 2853   96    0   27   10    6]\n",
            " [   0   37   30   40  166 2684    1   12   23    7]\n",
            " [   1    4    1    7   20   27 2460  475    0    5]\n",
            " [   2    1    8   96   33   24  677 2156    3    0]\n",
            " [  23    4    1    0    7    8    0    2 2928   27]\n",
            " [  41   18    0    1   95   10    6   77  162 2590]]\n"
          ]
        }
      ]
    },
    {
      "cell_type": "code",
      "source": [
        "# Storing True positive True negative, False Positive, False negative and F values in a list scores\n",
        "TP=[]\n",
        "TN=[]\n",
        "FP=[]\n",
        "FN=[]\n",
        "F1=[]\n",
        "for i in range(classes):\n",
        "  TP.append(conf_matrix[i][i])\n",
        "  TN.append(np.sum(conf_matrix)-np.sum(conf_matrix[i,:])-np.sum(conf_matrix[:,i])+conf_matrix[i][i])\n",
        "  FP.append(np.sum(conf_matrix[i,:])-conf_matrix[i][i])\n",
        "  FN.append(np.sum(conf_matrix[:,i])-conf_matrix[i][i])\n",
        "  F1.append((2*TP[i])/(2*TP[i] + FP[i] + FN[i]))"
      ],
      "metadata": {
        "id": "3YuYm14dDjmY"
      },
      "execution_count": 130,
      "outputs": []
    },
    {
      "cell_type": "code",
      "source": [
        "print('F1 scores for corresponding classes are:')\n",
        "print(F1)"
      ],
      "metadata": {
        "colab": {
          "base_uri": "https://localhost:8080/"
        },
        "id": "ROPCmrQ9DjmY",
        "outputId": "069bef9b-4522-412e-e24d-b5496416889b"
      },
      "execution_count": 131,
      "outputs": [
        {
          "output_type": "stream",
          "name": "stdout",
          "text": [
            "F1 scores for corresponding classes are:\n",
            "[0.8906952611553096, 0.9164507772020726, 0.9369432314410481, 0.8807053941908713, 0.8915625, 0.8925839707349518, 0.795601552393273, 0.7148541114058355, 0.9399678972712681, 0.9130971267407015]\n"
          ]
        }
      ]
    },
    {
      "cell_type": "code",
      "source": [],
      "metadata": {
        "id": "dJa-rDCkDjmZ"
      },
      "execution_count": 131,
      "outputs": []
    },
    {
      "cell_type": "markdown",
      "source": [
        "### (iii) GMM"
      ],
      "metadata": {
        "id": "wqISgR3fG33w"
      }
    },
    {
      "cell_type": "code",
      "execution_count": null,
      "metadata": {
        "colab": {
          "base_uri": "https://localhost:8080/",
          "height": 1000
        },
        "outputId": "aefbeca3-b2cb-4421-b63c-f89902d12dac",
        "id": "hllFvT7FHPt3"
      },
      "outputs": [
        {
          "output_type": "stream",
          "name": "stdout",
          "text": [
            "Accuracy for  1  mixtures is :  0.8584666666666667\n",
            "F1 scores  1  mixtures is :  [0.8493528904227783, 0.8931156370981316, 0.9281255573390405, 0.8276721720162045, 0.8889567740950054, 0.8945803040317251, 0.8041136141038198, 0.69926733685466, 0.8971583220568335, 0.9063317634746206]\n",
            "Confusion matrix for  1  mixtures is :  [[2461.   35.   86.   24.    4.    1.    3.   17.  115.   51.]\n",
            " [ 218. 2653.   26.    2.    1.   16.    2.    1.   58.    8.]\n",
            " [   1.    0. 2602.    1.    0.   28.    3.    6.    1.    0.]\n",
            " [ 116.  131.   63. 2656.   32.  143.   38.  200.   48.   11.]\n",
            " [  59.   41.    4.   88. 2910.  124.   20.  107.   53.  114.]\n",
            " [   3.   10.  105.   32.   45. 2707.   19.   10.   50.    9.]\n",
            " [   4.    0.    4.   25.    0.   12. 2463.  588.   16.    5.]\n",
            " [  27.    5.   72.  150.   18.   16.  460. 2052.    6.   79.]\n",
            " [  80.   20.    0.    0.    5.   11.    0.    0. 2652.   71.]\n",
            " [  29.   61.    3.    2.   12.    4.    1.    3.   74. 2598.]]\n",
            "Accuracy for  2  mixtures is :  0.8861666666666667\n",
            "F1 scores  2  mixtures is :  [0.8620268620268621, 0.9032151143520053, 0.9556840077071291, 0.8474734872114785, 0.8944384862877279, 0.9022655862411113, 0.8573287782658208, 0.7874125874125875, 0.9181757209926223, 0.9363939022253374]\n",
            "Confusion matrix for  2  mixtures is :  [[2471.   35.   59.   23.    4.    1.    3.   14.  101.   24.]\n",
            " [ 244. 2725.   27.    3.    0.   20.    3.    4.   46.    6.]\n",
            " [   1.    0. 2728.    1.    0.   10.    3.    1.    0.    0.]\n",
            " [ 113.  101.   47. 2717.   38.  144.   47.  162.   46.   17.]\n",
            " [  64.   29.    5.   93. 2919.  127.   25.   75.   49.  114.]\n",
            " [   4.    7.   75.   34.   49. 2728.   25.   13.   46.    4.]\n",
            " [   3.    0.    3.    8.    0.    7. 2635.  462.    5.   15.]\n",
            " [  11.    1.   21.  101.    9.   15.  268. 2252.    2.   56.]\n",
            " [  80.   22.    0.    0.    4.    9.    0.    0. 2738.   38.]\n",
            " [   7.   36.    0.    0.    4.    1.    0.    1.   40. 2672.]]\n",
            "Accuracy for  3  mixtures is :  0.8962\n",
            "F1 scores  3  mixtures is :  [0.8805009566881197, 0.9153719008264463, 0.9661281917665451, 0.8629298162976919, 0.8962133987429097, 0.9084019769357495, 0.8705082550987374, 0.811334037310806, 0.9163265306122449, 0.9366074538488331]\n",
            "Confusion matrix for  3  mixtures is :  [[2531.   37.   27.   17.    3.    0.    3.    9.  113.   11.]\n",
            " [ 229. 2769.   20.    4.    0.   12.    2.    3.   53.    2.]\n",
            " [   1.    0. 2781.    0.    0.    4.    4.    2.    0.    0.]\n",
            " [  88.   69.   41. 2748.   37.  135.   48.  156.   47.   20.]\n",
            " [  64.   22.    5.   97. 2923.  123.   23.   76.   55.  108.]\n",
            " [   4.   10.   81.   33.   40. 2757.   17.   10.   53.    3.]\n",
            " [   4.    1.    4.   16.    1.   10. 2689.  422.    9.   13.]\n",
            " [  13.    0.    5.   65.   11.    7.  223. 2305.    3.   66.]\n",
            " [  52.    8.    1.    0.    5.   13.    0.    0. 2694.   34.]\n",
            " [  12.   40.    0.    0.    7.    1.    0.    1.   46. 2689.]]\n",
            "Accuracy for  4  mixtures is :  0.8941\n",
            "F1 scores  4  mixtures is :  [0.8643303261623873, 0.9132176234979973, 0.9630275549354727, 0.8598746081504702, 0.898198059448637, 0.9176353370973098, 0.8692419589461775, 0.8061689449702067, 0.9220735785953177, 0.928944618599791]\n",
            "Confusion matrix for  4  mixtures is :  [[2491.   33.   67.   25.    3.    1.    3.   16.   89.   38.]\n",
            " [ 241. 2736.    9.    3.    0.   11.    1.    1.   34.    0.]\n",
            " [   1.    0. 2761.    0.    0.    4.    2.    1.    0.    0.]\n",
            " [  93.   73.   55. 2743.   36.  136.   41.  159.   49.   15.]\n",
            " [  54.   29.    5.   94. 2916.  124.   19.   72.   45.  108.]\n",
            " [   4.    7.   39.   33.   42. 2763.   20.   11.   38.    3.]\n",
            " [   5.    1.    3.   25.    1.    9. 2689.  422.   13.   10.]\n",
            " [  16.    0.   24.   57.   15.    3.  234. 2300.    2.   71.]\n",
            " [  82.   17.    0.    0.    7.   10.    0.    0. 2757.   34.]\n",
            " [  11.   60.    2.    0.    7.    1.    0.    2.   46. 2667.]]\n",
            "Accuracy for  5  mixtures is :  0.9013666666666666\n",
            "F1 scores  5  mixtures is :  [0.8806798473812001, 0.9228471876555501, 0.9741290100034494, 0.8646864686468647, 0.896392939370683, 0.9140016570008285, 0.8799741184082821, 0.8231148696264975, 0.9237015733378448, 0.9366160293347302]\n",
            "Confusion matrix for  5  mixtures is :  [[2539.   37.   38.   17.    3.    0.    3.    9.  104.   18.]\n",
            " [ 226. 2781.   14.    3.    0.   10.    1.    2.   33.    1.]\n",
            " [   2.    0. 2824.    1.    0.    3.    2.    1.    0.    0.]\n",
            " [  86.   62.   39. 2751.   37.  141.   47.  151.   51.   18.]\n",
            " [  58.   27.    5.   97. 2920.  125.   18.   75.   55.  108.]\n",
            " [   3.    9.   36.   35.   44. 2758.   24.   13.   48.    3.]\n",
            " [   5.    0.    3.   16.    1.    8. 2720.  395.    6.   19.]\n",
            " [  13.    0.    6.   60.   11.    5.  194. 2336.    1.   66.]\n",
            " [  52.    9.    0.    0.    5.   11.    0.    0. 2730.   31.]\n",
            " [  14.   31.    0.    0.    6.    1.    0.    2.   45. 2682.]]\n",
            "Accuracy for  6  mixtures is :  0.9031\n",
            "F1 scores  6  mixtures is :  [0.8957502168256721, 0.9265593561368209, 0.9753660637381567, 0.8620689655172413, 0.8992628992628993, 0.918811223642703, 0.8655737704918033, 0.811840055392072, 0.9366066924499747, 0.9436004889121704]\n",
            "Confusion matrix for  6  mixtures is :  [[2582.   25.   32.   17.    1.    0.    3.   11.   84.   12.]\n",
            " [ 192. 2763.   14.    2.    0.   14.    2.    1.   17.    3.]\n",
            " [   3.    0. 2831.    0.    0.    3.    2.    1.    0.    0.]\n",
            " [  88.   86.   41. 2750.   37.  135.   48.  146.   51.   18.]\n",
            " [  55.   32.    4.   95. 2928.  123.   21.   75.   47.  105.]\n",
            " [   3.    9.   32.   32.   45. 2767.   17.   11.   42.    3.]\n",
            " [   5.    0.    4.   22.    1.    9. 2640.  392.    8.   10.]\n",
            " [  14.    1.    7.   62.   12.    6.  276. 2345.    3.   67.]\n",
            " [  49.    8.    0.    0.    2.    4.    0.    0. 2785.   26.]\n",
            " [   7.   32.    0.    0.    1.    1.    0.    2.   36. 2702.]]\n"
          ]
        },
        {
          "output_type": "display_data",
          "data": {
            "text/plain": [
              "<Figure size 432x288 with 1 Axes>"
            ],
            "image/png": "[encoded data removed]"
          },
          "metadata": {
            "needs_background": "light"
          }
        }
      ],
      "source": [
        "train_dataset3,test_dataset3 = p4_split_dataset(p4dataset,0.5)\n",
        "classes = 10\n",
        "y3 = np.zeros(6)\n",
        "x3 = np.array([1,2,3,4,5,6])\n",
        "for number_of_Gaussian in x3:\n",
        "  Means3,Pi3 = p4_GMM_training(train_dataset3,5,number_of_Gaussian)\n",
        "  accuracy3,confusion_matrix3 = p4_GMM_testing(test_dataset3,10,Means3,Pi3,number_of_Gaussian)\n",
        "  TP3=[]\n",
        "  TN3=[]\n",
        "  FP3=[]\n",
        "  FN3=[]\n",
        "  F13=[]\n",
        "  for i in range(classes):\n",
        "    TP3.append(confusion_matrix3[i][i])\n",
        "    TN3.append(np.sum(confusion_matrix3)-np.sum(confusion_matrix3[i,:])-np.sum(confusion_matrix3[:,i])+confusion_matrix3[i][i])\n",
        "    FP3.append(np.sum(confusion_matrix3[i,:])-confusion_matrix3[i][i])\n",
        "    FN3.append(np.sum(confusion_matrix3[:,i])-confusion_matrix3[i][i])\n",
        "    F13.append((2*TP3[i])/(2*TP3[i] + FP3[i] + FN3[i]))\n",
        "  y3[number_of_Gaussian-1] = p4_get_likelihood(train_dataset3,Means3,Pi3,number_of_Gaussian)\n",
        "  print(\"Accuracy for \",number_of_Gaussian,\" mixtures is : \",accuracy3)\n",
        "  print(\"F1 scores \",number_of_Gaussian,\" mixtures is : \",F13)\n",
        "  print(\"Confusion matrix for \",number_of_Gaussian,\" mixtures is : \",confusion_matrix3)\n",
        "\n",
        "y3 = (y3-np.min(y3))/(np.max(y3)-np.min(y3))\n",
        "plt.plot(x3,y3) \n",
        "plt.title(\"Log likelihood for 50:50\") \n",
        "plt.ylabel(\"log likelihood\") \n",
        "plt.xlabel(\"Gaussian misture\") \n",
        "plt.show()"
      ]
    },
    {
      "cell_type": "markdown",
      "source": [
        "## Model 4 - 70:30"
      ],
      "metadata": {
        "id": "kOMTtUEGEbhT"
      }
    },
    {
      "cell_type": "markdown",
      "source": [
        " Again initialising dataset as X was used variable elsewhere"
      ],
      "metadata": {
        "id": "32SqlX-hEbhT"
      }
    },
    {
      "cell_type": "code",
      "source": [
        "X=[]\n",
        "Y = []\n",
        "for i in range(classes):\n",
        "  tmp = []\n",
        "  for j in range(len(lst_img_clss[i])):\n",
        "    x = np.ndarray.flatten(lst_img_clss[i][j])\n",
        "    tmp.append(x)\n",
        "  a = np.stack(tmp,axis = 0)\n",
        "  X.append(a)\n",
        "  Y.append(i)\n"
      ],
      "metadata": {
        "id": "DwwlSuWkEbhU"
      },
      "execution_count": 132,
      "outputs": []
    },
    {
      "cell_type": "code",
      "source": [
        "a = X[0]\n",
        "b = np.zeros((X[0].shape[0],1))\n",
        "dataset = np.column_stack((a,b))\n",
        "for i in range(1,classes):\n",
        "  a=X[i]\n",
        "  b = i*np.ones((X[i].shape[0],1))\n",
        "  temp = np.column_stack((a,b))\n",
        "  dataset = np.row_stack((dataset,temp))"
      ],
      "metadata": {
        "id": "CFgzN8rDEbhU"
      },
      "execution_count": 133,
      "outputs": []
    },
    {
      "cell_type": "code",
      "source": [
        "dataset.shape  # Overall dataset"
      ],
      "metadata": {
        "colab": {
          "base_uri": "https://localhost:8080/"
        },
        "outputId": "51d11a2c-ce60-4f29-9825-b6b35fe9e6e6",
        "id": "fAktzDnQEbhU"
      },
      "execution_count": 134,
      "outputs": [
        {
          "output_type": "execute_result",
          "data": {
            "text/plain": [
              "(60000, 785)"
            ]
          },
          "metadata": {},
          "execution_count": 134
        }
      ]
    },
    {
      "cell_type": "code",
      "source": [
        "# creating training and testing dataset\n",
        "count = 4200 #per class\n",
        "a=X[0]\n",
        "a=a[0:count,:]/255       # Normalising else exponent becomes 0\n",
        "b = np.zeros((a.shape[0],1))\n",
        "train_dataset = np.column_stack((a,b))\n",
        "a=X[0]\n",
        "a=a[count:,:]/255\n",
        "b = np.zeros((a.shape[0],1))\n",
        "test_dataset = np.column_stack((a,b))\n",
        "for i in range(1,classes):\n",
        "  a=X[i]\n",
        "  a=a[0:count,:]/255\n",
        "  b = i*np.ones((a.shape[0],1))\n",
        "  temp = np.column_stack((a,b))\n",
        "  train_dataset = np.row_stack((train_dataset,temp))\n",
        "  a=X[i]\n",
        "  a=a[count:,:]/255\n",
        "  b = i*np.ones((a.shape[0],1))\n",
        "  temp = np.column_stack((a,b))\n",
        "  test_dataset = np.row_stack((test_dataset,temp))\n"
      ],
      "metadata": {
        "id": "hyymnrv6EbhV"
      },
      "execution_count": 135,
      "outputs": []
    },
    {
      "cell_type": "code",
      "source": [
        "train_dataset.shape"
      ],
      "metadata": {
        "colab": {
          "base_uri": "https://localhost:8080/"
        },
        "outputId": "6d97619a-cb49-4dfe-9121-22b5134dd22c",
        "id": "q7ZL7ObtEbhV"
      },
      "execution_count": 136,
      "outputs": [
        {
          "output_type": "execute_result",
          "data": {
            "text/plain": [
              "(42000, 785)"
            ]
          },
          "metadata": {},
          "execution_count": 136
        }
      ]
    },
    {
      "cell_type": "code",
      "source": [
        "test_dataset.shape"
      ],
      "metadata": {
        "colab": {
          "base_uri": "https://localhost:8080/"
        },
        "outputId": "34028d55-f150-48d0-ecb7-586bd7ea61dd",
        "id": "evpplX4oEbhW"
      },
      "execution_count": 137,
      "outputs": [
        {
          "output_type": "execute_result",
          "data": {
            "text/plain": [
              "(18000, 785)"
            ]
          },
          "metadata": {},
          "execution_count": 137
        }
      ]
    },
    {
      "cell_type": "code",
      "source": [
        "features = train_dataset.shape[1]-1 #784"
      ],
      "metadata": {
        "id": "2BmH-n6mEbhW"
      },
      "execution_count": 138,
      "outputs": []
    },
    {
      "cell_type": "code",
      "source": [
        "# Initialising features and labels from dataset\n",
        "X_test = test_dataset[:,:features]\n",
        "X_train = train_dataset[:,:features]\n",
        "Y_train = train_dataset[:,features]\n",
        "Y_test = test_dataset[:,features]"
      ],
      "metadata": {
        "id": "crznAKq3EbhX"
      },
      "execution_count": 139,
      "outputs": []
    },
    {
      "cell_type": "markdown",
      "source": [
        "### (i) Naive Bayes"
      ],
      "metadata": {
        "id": "Jtqiz_2DEbhX"
      }
    },
    {
      "cell_type": "code",
      "source": [
        "classes = 10\n",
        "features = train_dataset.shape[1]-1"
      ],
      "metadata": {
        "id": "-gVSA7g4EbhX"
      },
      "execution_count": null,
      "outputs": []
    },
    {
      "cell_type": "code",
      "source": [
        "# Creating list of numpy arrays containing training datas of each class with class as index of list \n",
        "temp = train_dataset\n",
        "lst = []\n",
        "for i in range(classes):\n",
        "  x = temp[np.where(temp[:,features]==i)] # last column is my class indexes\n",
        "  x = x[:,:features]\n",
        "  lst.append(x)"
      ],
      "metadata": {
        "id": "RNI51NYeEbhX"
      },
      "execution_count": null,
      "outputs": []
    },
    {
      "cell_type": "code",
      "source": [
        "# 10 features' mean for each classes\n",
        "mean=[] \n",
        "for i in range(classes):\n",
        "  a=lst[i]\n",
        "  a = a.mean(axis=0)\n",
        "  mean.append(a)"
      ],
      "metadata": {
        "id": "St-PRv21EbhY"
      },
      "execution_count": null,
      "outputs": []
    },
    {
      "cell_type": "markdown",
      "source": [
        "#### Training"
      ],
      "metadata": {
        "id": "JbaxoD-4EbhY"
      }
    },
    {
      "cell_type": "code",
      "source": [
        "count = 0\n",
        "for i in range(X_train.shape[0]):\n",
        "  g = []  #class conditionals\n",
        "  for j in range(classes):\n",
        "    v = (X_train[i]-mean[j])\n",
        "    v = np.power(v,2)\n",
        "    k = 0.5 * np.sum(v)\n",
        "    k = math.exp(-k)\n",
        "    g.append(k)\n",
        "  k = g.index(max(g))\n",
        "  if k==int(Y_train[i]):\n",
        "    count=count+1"
      ],
      "metadata": {
        "id": "Af4eTQMvEbhY"
      },
      "execution_count": null,
      "outputs": []
    },
    {
      "cell_type": "code",
      "source": [
        "print('The training accuracy is:')\n",
        "print(count*100/X_train.shape[0])"
      ],
      "metadata": {
        "colab": {
          "base_uri": "https://localhost:8080/"
        },
        "id": "6cVic5wYEbhZ",
        "outputId": "e83315bb-2168-47c6-e820-f5d7cfa0cf69"
      },
      "execution_count": null,
      "outputs": [
        {
          "output_type": "stream",
          "name": "stdout",
          "text": [
            "The training accuracy is:\n",
            "85.09285714285714\n"
          ]
        }
      ]
    },
    {
      "cell_type": "markdown",
      "source": [
        "#### Testing"
      ],
      "metadata": {
        "id": "p0W_e6pYEbhZ"
      }
    },
    {
      "cell_type": "code",
      "source": [
        "conf_matrix = np.zeros((classes,classes))\n",
        "count = 0\n",
        "for i in range(X_test.shape[0]):\n",
        "  g = []  #class conditionals\n",
        "  for j in range(classes):\n",
        "    v = (X_test[i]-mean[j])\n",
        "    v = np.power(v,2)\n",
        "    k = 0.5 * np.sum(v)\n",
        "    #k = math.exp(-k)\n",
        "    g.append(k)\n",
        "  k = g.index(min(g))\n",
        "  if k==int(Y_test[i]):\n",
        "    count=count+1\n",
        "  v = int(Y_test[i])\n",
        "  conf_matrix[v][k] += 1"
      ],
      "metadata": {
        "id": "XGKHuk_nEbhZ"
      },
      "execution_count": null,
      "outputs": []
    },
    {
      "cell_type": "code",
      "source": [
        "print('The testing accuracy is:')\n",
        "print(count*100/X_test.shape[0])"
      ],
      "metadata": {
        "colab": {
          "base_uri": "https://localhost:8080/"
        },
        "id": "m_RSjOXXEbhZ",
        "outputId": "9c1d2729-f1d0-4cb7-c35c-57bdd29ff7d2"
      },
      "execution_count": null,
      "outputs": [
        {
          "output_type": "stream",
          "name": "stdout",
          "text": [
            "The testing accuracy is:\n",
            "85.89444444444445\n"
          ]
        }
      ]
    },
    {
      "cell_type": "code",
      "source": [
        "print('The confusion matrix for above testing data is:')\n",
        "print(conf_matrix.astype(int))"
      ],
      "metadata": {
        "colab": {
          "base_uri": "https://localhost:8080/"
        },
        "id": "CgbSs9tjEbha",
        "outputId": "f6c509b9-2817-433d-b764-f79e076ec898"
      },
      "execution_count": null,
      "outputs": [
        {
          "output_type": "stream",
          "name": "stdout",
          "text": [
            "The confusion matrix for above testing data is:\n",
            "[[1595  121    0   16   23    0    2   12   22    9]\n",
            " [  30 1582    0   93   42    4    0    4   30   15]\n",
            " [  90   30 1383   95    6  120    6   66    3    1]\n",
            " [  21    2    0 1501  100    7   18  149    0    2]\n",
            " [   1    0    0    9 1740   32    0   16    0    2]\n",
            " [   1   14   26   63  116 1553    5    9    8    5]\n",
            " [   0    1    0   16   10   11 1575  183    0    4]\n",
            " [   2    1    2   68   35    4  383 1303    2    0]\n",
            " [  62    2    0    1    8   11    1    0 1647   68]\n",
            " [  20    5    0    0   67    4    6   42   74 1582]]\n"
          ]
        }
      ]
    },
    {
      "cell_type": "code",
      "source": [
        "# Storing True positive True negative, False Positive, False negative and F values in a list scores\n",
        "TP=[]\n",
        "TN=[]\n",
        "FP=[]\n",
        "FN=[]\n",
        "F1=[]\n",
        "for i in range(classes):\n",
        "  TP.append(conf_matrix[i][i])\n",
        "  TN.append(np.sum(conf_matrix)-np.sum(conf_matrix[i,:])-np.sum(conf_matrix[:,i])+conf_matrix[i][i])\n",
        "  FP.append(np.sum(conf_matrix[i,:])-conf_matrix[i][i])\n",
        "  FN.append(np.sum(conf_matrix[:,i])-conf_matrix[i][i])\n",
        "  F1.append((2*TP[i])/(2*TP[i] + FP[i] + FN[i]))"
      ],
      "metadata": {
        "id": "5YrMvm1xEbha"
      },
      "execution_count": null,
      "outputs": []
    },
    {
      "cell_type": "code",
      "source": [
        "print('F1 scores for corresponding classes are:')\n",
        "print(F1)"
      ],
      "metadata": {
        "colab": {
          "base_uri": "https://localhost:8080/"
        },
        "id": "MRwDueD6Ebha",
        "outputId": "dc7df668-7432-4763-800a-6acd926e9c7a"
      },
      "execution_count": null,
      "outputs": [
        {
          "output_type": "stream",
          "name": "stdout",
          "text": [
            "F1 scores for corresponding classes are:\n",
            "[0.8807288790723358, 0.8892636312535133, 0.8614138897539707, 0.8197706171490988, 0.8816822903470991, 0.8759165256627186, 0.8298208640674394, 0.7271205357142857, 0.9185722253206916, 0.9071100917431193]\n"
          ]
        }
      ]
    },
    {
      "cell_type": "markdown",
      "source": [
        "### (ii) Logistic regression"
      ],
      "metadata": {
        "id": "Cbg_v3loEbha"
      }
    },
    {
      "cell_type": "code",
      "source": [
        "classes = 10\n",
        "features = train_dataset.shape[1] #785 after augmented data"
      ],
      "metadata": {
        "id": "SbNmdq7vEbhb"
      },
      "execution_count": 140,
      "outputs": []
    },
    {
      "cell_type": "code",
      "source": [
        "tmp = np.ones((X_train.shape[0],1))  # Creating augmented data\n",
        "X_train=np.column_stack((X_train,tmp))\n",
        "X_train.shape"
      ],
      "metadata": {
        "colab": {
          "base_uri": "https://localhost:8080/"
        },
        "id": "V_ExaGjtEbhb",
        "outputId": "ad8abeeb-842b-44b7-f6d4-674f225db42d"
      },
      "execution_count": 141,
      "outputs": [
        {
          "output_type": "execute_result",
          "data": {
            "text/plain": [
              "(42000, 785)"
            ]
          },
          "metadata": {},
          "execution_count": 141
        }
      ]
    },
    {
      "cell_type": "code",
      "source": [
        "tmp = np.ones((X_test.shape[0],1))  # Creating augmented data\n",
        "X_test=np.column_stack((X_test,tmp))\n",
        "X_test.shape"
      ],
      "metadata": {
        "colab": {
          "base_uri": "https://localhost:8080/"
        },
        "id": "IGZ733-kEbhb",
        "outputId": "2d8db4bb-81d9-4f6b-9708-34fabb69af27"
      },
      "execution_count": 142,
      "outputs": [
        {
          "output_type": "execute_result",
          "data": {
            "text/plain": [
              "(18000, 785)"
            ]
          },
          "metadata": {},
          "execution_count": 142
        }
      ]
    },
    {
      "cell_type": "markdown",
      "source": [
        "#### Training"
      ],
      "metadata": {
        "id": "hFcXMv1vEbhc"
      }
    },
    {
      "cell_type": "code",
      "source": [
        "W=[]\n",
        "for i in range(classes):\n",
        "  W.append(np.ones((features,1)))"
      ],
      "metadata": {
        "id": "Pe2Is7MjEbhc"
      },
      "execution_count": 143,
      "outputs": []
    },
    {
      "cell_type": "code",
      "source": [
        "def calc_loss(X,W,j):\n",
        "  X=X.reshape((X.shape[0],1))\n",
        "  # calculating probabilities of each class\n",
        "  e=[]                        # exponent\n",
        "  g = []                      # probabilities (softmax)\n",
        "  grad = []                   # gradient addition for this image\n",
        "  for i in range(classes):\n",
        "    e.append(math.exp(W[i].T@X))\n",
        "  k = sum(e)\n",
        "  for i in range(classes):\n",
        "    g.append(e[i]/k)\n",
        "  loss = -1*math.log(g[j])     # loss for 1 image\n",
        "  for i in range(classes):\n",
        "    if i!=j:\n",
        "      grad.append(-g[i]*X.reshape(X.shape[0]))\n",
        "    else:\n",
        "      grad.append((1-g[i])*X.reshape(X.shape[0]))\n",
        "  return loss,grad"
      ],
      "metadata": {
        "id": "u5MBcKiKEbhc"
      },
      "execution_count": 144,
      "outputs": []
    },
    {
      "cell_type": "code",
      "source": [
        "def train_epoch1():\n",
        "  final_loss = 0\n",
        "  final_grad = np.zeros((features,classes))\n",
        "  for i in range(X_train.shape[0]):\n",
        "    loss,grad = calc_loss(X_train[i,:],W,int(Y_train[i]))\n",
        "    final_loss =final_loss + loss\n",
        "    final_grad = final_grad + np.stack(grad,axis = 1)\n",
        "  return final_loss,final_grad"
      ],
      "metadata": {
        "id": "8EVmAEQvEbhd"
      },
      "execution_count": 145,
      "outputs": []
    },
    {
      "cell_type": "code",
      "source": [
        "epochs = 50\n",
        "alpha = 10\n",
        "prev_loss = 0\n",
        "for i in range(epochs):\n",
        "  loss,grad = train_epoch1()\n",
        "  for j in range(classes):\n",
        "    gradient = grad[:,j].reshape(grad[:,j].shape[0],1)\n",
        "    if prev_loss<loss:\n",
        "      alpha = (alpha/10)\n",
        "    W[j]=W[j]+alpha*gradient/np.linalg.norm(gradient)\n",
        "    prev_loss = loss\n",
        "  print('loss in',i,'epoch is',loss/X_train.shape[0])"
      ],
      "metadata": {
        "colab": {
          "base_uri": "https://localhost:8080/"
        },
        "id": "wKXF-vNyEbhd",
        "outputId": "a3f4895f-4a4f-48ed-80ad-1a0790a87bf2"
      },
      "execution_count": 146,
      "outputs": [
        {
          "output_type": "stream",
          "name": "stdout",
          "text": [
            "loss in 0 epoch is 2.3025850929949803\n",
            "loss in 1 epoch is 1.071865758449463\n",
            "loss in 2 epoch is 16.049248897047185\n",
            "loss in 3 epoch is 14.386238639874653\n",
            "loss in 4 epoch is 12.723348115217082\n",
            "loss in 5 epoch is 11.060523865763443\n",
            "loss in 6 epoch is 9.397743372229446\n",
            "loss in 7 epoch is 7.734995039152109\n",
            "loss in 8 epoch is 6.072273212070602\n",
            "loss in 9 epoch is 4.409661089131037\n",
            "loss in 10 epoch is 2.752553776122961\n",
            "loss in 11 epoch is 1.2636248907181071\n",
            "loss in 12 epoch is 1.0794215343483649\n",
            "loss in 13 epoch is 1.2396430229940538\n",
            "loss in 14 epoch is 1.1314355339393503\n",
            "loss in 15 epoch is 1.037452166929742\n",
            "loss in 16 epoch is 0.9598955148382359\n",
            "loss in 17 epoch is 0.9008290163810643\n",
            "loss in 18 epoch is 0.8578639628916568\n",
            "loss in 19 epoch is 0.8293321776342419\n",
            "loss in 20 epoch is 0.8161993661029197\n",
            "loss in 21 epoch is 0.8111585573703298\n",
            "loss in 22 epoch is 0.8095078461070596\n",
            "loss in 23 epoch is 0.8069885248653499\n",
            "loss in 24 epoch is 0.8051484163685908\n",
            "loss in 25 epoch is 0.8028035840250733\n",
            "loss in 26 epoch is 0.8008318708281168\n",
            "loss in 27 epoch is 0.798636820565777\n",
            "loss in 28 epoch is 0.7966201179913043\n",
            "loss in 29 epoch is 0.7945030454296336\n",
            "loss in 30 epoch is 0.7924835548752233\n",
            "loss in 31 epoch is 0.7904106335221676\n",
            "loss in 32 epoch is 0.7884083677347239\n",
            "loss in 33 epoch is 0.7863636554412291\n",
            "loss in 34 epoch is 0.7843874940244405\n",
            "loss in 35 epoch is 0.7823637398737588\n",
            "loss in 36 epoch is 0.7804170361990438\n",
            "loss in 37 epoch is 0.7784112237943162\n",
            "loss in 38 epoch is 0.7764946596997209\n",
            "loss in 39 epoch is 0.7745057924351932\n",
            "loss in 40 epoch is 0.7726188257827824\n",
            "loss in 41 epoch is 0.7706468189492066\n",
            "loss in 42 epoch is 0.7687884085391669\n",
            "loss in 43 epoch is 0.7668335396404028\n",
            "loss in 44 epoch is 0.7650024990111637\n",
            "loss in 45 epoch is 0.7630651421320193\n",
            "loss in 46 epoch is 0.7612603037359964\n",
            "loss in 47 epoch is 0.7593408083115311\n",
            "loss in 48 epoch is 0.7575610920159369\n",
            "loss in 49 epoch is 0.755659734141405\n"
          ]
        }
      ]
    },
    {
      "cell_type": "code",
      "source": [
        "print('Empirical risk on training data is:')\n",
        "print(loss/X_train.shape[0])"
      ],
      "metadata": {
        "colab": {
          "base_uri": "https://localhost:8080/"
        },
        "id": "XNZ73Jr8Ebhd",
        "outputId": "c5e9564b-798d-4766-cf9a-0462bd6d64da"
      },
      "execution_count": 147,
      "outputs": [
        {
          "output_type": "stream",
          "name": "stdout",
          "text": [
            "Empirical risk on training data is:\n",
            "0.755659734141405\n"
          ]
        }
      ]
    },
    {
      "cell_type": "markdown",
      "source": [
        "#### Testing"
      ],
      "metadata": {
        "id": "RYQR05JqEbhd"
      }
    },
    {
      "cell_type": "code",
      "source": [
        "conf_matrix = np.zeros((classes,classes))\n",
        "count = 0\n",
        "loss = 0\n",
        "for i in range(X_test.shape[0]):\n",
        "  X = X_test[i,:]\n",
        "  X=X.reshape((X.shape[0],1))\n",
        "  # calculating probabilities of each class\n",
        "  e=[]                        # exponent\n",
        "  g = []                      # probabilities (softmax)\n",
        "  grad = []                   # gradient addition for this image\n",
        "  for j in range(classes):\n",
        "    e.append(math.exp(W[j].T@X))\n",
        "  k = sum(e)\n",
        "  for j in range(classes):\n",
        "    g.append(e[j]/k)\n",
        "  k = g.index(max(g))\n",
        "  if k==Y_test[i]:\n",
        "    count = count+1\n",
        "  v = int(Y_test[i])\n",
        "  conf_matrix[v][k] += 1\n",
        "\n",
        "  loss = loss - 1*math.log(g[v])"
      ],
      "metadata": {
        "id": "0OeRaRxCEbhe"
      },
      "execution_count": 149,
      "outputs": []
    },
    {
      "cell_type": "code",
      "source": [
        "print('The testing accuracy is:')\n",
        "print(count*100/X_test.shape[0])"
      ],
      "metadata": {
        "colab": {
          "base_uri": "https://localhost:8080/"
        },
        "id": "hOhR8X_tEbhe",
        "outputId": "6d803fe9-0653-4071-a19e-20f392bd1fde"
      },
      "execution_count": 150,
      "outputs": [
        {
          "output_type": "stream",
          "name": "stdout",
          "text": [
            "The testing accuracy is:\n",
            "87.85555555555555\n"
          ]
        }
      ]
    },
    {
      "cell_type": "code",
      "source": [
        "print('Empirical risk on testing data is:')\n",
        "print(loss/X_test.shape[0])"
      ],
      "metadata": {
        "colab": {
          "base_uri": "https://localhost:8080/"
        },
        "id": "lZ4uBiuLEbhf",
        "outputId": "9e253e0c-2639-4a6f-8d22-39b3bd51e96d"
      },
      "execution_count": 151,
      "outputs": [
        {
          "output_type": "stream",
          "name": "stdout",
          "text": [
            "Empirical risk on testing data is:\n",
            "0.7132953150682471\n"
          ]
        }
      ]
    },
    {
      "cell_type": "code",
      "source": [
        "print('The confusion matrix for above testing data is:')\n",
        "print(conf_matrix.astype(int))"
      ],
      "metadata": {
        "colab": {
          "base_uri": "https://localhost:8080/"
        },
        "id": "UVU2OlT9Ebhf",
        "outputId": "554d3bb7-1e1b-4637-835c-68ec40a4cfe0"
      },
      "execution_count": 152,
      "outputs": [
        {
          "output_type": "stream",
          "name": "stdout",
          "text": [
            "The confusion matrix for above testing data is:\n",
            "[[1571  149    0   15   22    0    3    2   33    5]\n",
            " [  13 1654    0   61   34    4    1    1   21   11]\n",
            " [  80   27 1543   66    4   48   10   16    5    1]\n",
            " [  21    4    0 1571  103    6   18   75    0    2]\n",
            " [   1    0    0    9 1754   24    1    6    3    2]\n",
            " [   0   25   37   60  124 1524    8    4   14    4]\n",
            " [   0    1    1   16   15    8 1640  114    0    5]\n",
            " [   2    1    5  124   34    4  380 1248    2    0]\n",
            " [  20    1    0    0    7    4    2    0 1734   32]\n",
            " [  16    6    0    0   72    1    5   31   94 1575]]\n"
          ]
        }
      ]
    },
    {
      "cell_type": "code",
      "source": [
        "# Storing True positive True negative, False Positive, False negative and F values in a list scores\n",
        "TP=[]\n",
        "TN=[]\n",
        "FP=[]\n",
        "FN=[]\n",
        "F1=[]\n",
        "for i in range(classes):\n",
        "  TP.append(conf_matrix[i][i])\n",
        "  TN.append(np.sum(conf_matrix)-np.sum(conf_matrix[i,:])-np.sum(conf_matrix[:,i])+conf_matrix[i][i])\n",
        "  FP.append(np.sum(conf_matrix[i,:])-conf_matrix[i][i])\n",
        "  FN.append(np.sum(conf_matrix[:,i])-conf_matrix[i][i])\n",
        "  F1.append((2*TP[i])/(2*TP[i] + FP[i] + FN[i]))"
      ],
      "metadata": {
        "id": "cqPCEHeAEbhf"
      },
      "execution_count": 153,
      "outputs": []
    },
    {
      "cell_type": "code",
      "source": [
        "print('F1 scores for corresponding classes are:')\n",
        "print(F1)"
      ],
      "metadata": {
        "colab": {
          "base_uri": "https://localhost:8080/"
        },
        "id": "umVGmEDFEbhf",
        "outputId": "bd604441-5f3d-4994-ba04-73165d0895f8"
      },
      "execution_count": 154,
      "outputs": [
        {
          "output_type": "stream",
          "name": "stdout",
          "text": [
            "F1 scores for corresponding classes are:\n",
            "[0.8916004540295119, 0.9018538713195202, 0.9113998818665091, 0.8441698011821601, 0.8838498362307886, 0.8904469763365469, 0.8479834539813857, 0.7570518653321201, 0.9357798165137615, 0.9164969450101833]\n"
          ]
        }
      ]
    },
    {
      "cell_type": "code",
      "source": [],
      "metadata": {
        "id": "miN3VvxEEbhg"
      },
      "execution_count": null,
      "outputs": []
    },
    {
      "cell_type": "markdown",
      "source": [
        "### (iii) GMM"
      ],
      "metadata": {
        "id": "u_ilk1yjHaKM"
      }
    },
    {
      "cell_type": "code",
      "execution_count": null,
      "metadata": {
        "colab": {
          "base_uri": "https://localhost:8080/"
        },
        "outputId": "2a04920e-6362-45ab-af3e-ddd7809ff031",
        "id": "oTPu2KeDIPRA"
      },
      "outputs": [
        {
          "output_type": "stream",
          "name": "stdout",
          "text": [
            "Accuracy for  1  mixtures is :  0.8497222222222223\n",
            "F1 scores  1  mixtures is :  [0.8358294930875576, 0.8908538270240398, 0.9276470588235294, 0.819369715603382, 0.8727552591072345, 0.8919683257918553, 0.7972862957937584, 0.6898839137645107, 0.8829663962920047, 0.8996195493122622]\n",
            "Confusion matrix for  1  mixtures is :  [[1451.   42.   58.   19.    3.    0.    3.   10.   76.   27.]\n",
            " [ 117. 1612.   12.    2.    0.    9.    1.    1.   33.    3.]\n",
            " [   0.    0. 1577.    0.    0.   18.    1.    1.    0.    0.]\n",
            " [  72.   98.   34. 1599.   18.   83.   19.  112.   30.    7.]\n",
            " [  41.   23.    3.   72. 1701.   77.   10.   74.   45.   81.]\n",
            " [   0.    4.   61.   25.   31. 1577.   15.    3.   27.    9.]\n",
            " [   3.    0.    2.   15.    1.    2. 1469.  382.    6.    4.]\n",
            " [  19.    6.   55.   99.   11.    9.  281. 1248.    5.   51.]\n",
            " [  59.   13.    1.    0.    2.    7.    0.    1. 1524.   48.]\n",
            " [  21.   31.    0.    0.    4.    2.    2.    2.   51. 1537.]]\n",
            "Accuracy for  2  mixtures is :  0.8645555555555555\n",
            "F1 scores  2  mixtures is :  [0.8585422068568136, 0.8986149584487535, 0.9507062554050159, 0.8275332650972365, 0.8753533795939347, 0.9017373967530619, 0.8045726728361459, 0.7182628062360802, 0.9028703972165845, 0.9185401459854015]\n",
            "Confusion matrix for  2  mixtures is :  [[1490.   38.   49.   17.    3.    0.    3.   11.   54.   23.]\n",
            " [ 104. 1622.    8.    2.    0.    8.    1.    1.   33.    2.]\n",
            " [   0.    0. 1649.    0.    0.   16.    1.    0.    0.    0.]\n",
            " [  64.   96.   28. 1617.   19.   82.   24.  110.   29.    8.]\n",
            " [  39.   25.    3.   73. 1703.   78.   11.   57.   45.   86.]\n",
            " [   0.    7.   26.   26.   31. 1583.   15.    3.   31.    5.]\n",
            " [   4.    1.    3.   14.    1.    3. 1478.  359.    6.    4.]\n",
            " [  13.    6.   36.   82.   10.    8.  266. 1290.    4.   43.]\n",
            " [  58.    4.    1.    0.    2.    6.    0.    1. 1557.   23.]\n",
            " [  11.   30.    0.    0.    2.    0.    2.    2.   38. 1573.]]\n",
            "Accuracy for  3  mixtures is :  0.8903333333333333\n",
            "F1 scores  3  mixtures is :  [0.8672566371681416, 0.9085497835497836, 0.977086280056577, 0.8546301086394206, 0.8822158943826042, 0.9158134243458476, 0.865847140566542, 0.7906976744186046, 0.9217491369390104, 0.9233906204485872]\n",
            "Confusion matrix for  3  mixtures is :  [[1470.   38.   18.   16.    2.    0.    3.    7.   46.    7.]\n",
            " [ 152. 1679.    6.    3.    0.    2.    0.    4.   21.    0.]\n",
            " [   0.    0. 1727.    0.    0.    3.    1.    0.    0.    1.]\n",
            " [  64.   46.   20. 1652.   19.   83.   23.   93.   26.    9.]\n",
            " [  44.   15.    3.   74. 1704.   75.    9.   50.   39.   79.]\n",
            " [   0.    6.   16.   25.   31. 1610.   10.    4.   24.    6.]\n",
            " [   4.    0.    3.    7.    0.    2. 1620.  297.    3.    5.]\n",
            " [  11.    3.    9.   54.   11.    4.  134. 1377.    3.   43.]\n",
            " [  28.   10.    0.    0.    2.    4.    0.    1. 1602.   32.]\n",
            " [  10.   32.    1.    0.    2.    1.    1.    1.   33. 1585.]]\n",
            "Accuracy for  4  mixtures is :  0.8945\n",
            "F1 scores  4  mixtures is :  [0.8795841755703148, 0.9086406164006604, 0.9756235827664399, 0.8566289825282631, 0.8838292367399742, 0.912981455064194, 0.8750678978815861, 0.8119148936170213, 0.9236970918514252, 0.9233906204485872]\n",
            "Confusion matrix for  4  mixtures is :  [[1523.   51.   13.   15.    1.    0.    4.    8.   48.   17.]\n",
            " [ 109. 1651.   12.    2.    0.    8.    1.    1.   19.    2.]\n",
            " [   0.    0. 1721.    0.    0.    3.    1.    0.    0.    0.]\n",
            " [  46.   69.   19. 1667.   19.   83.   21.   94.   31.   12.]\n",
            " [  38.   17.    4.   74. 1708.   78.    9.   48.   38.   80.]\n",
            " [   0.    5.   21.   25.   32. 1600.    7.    5.   21.    5.]\n",
            " [   3.    0.    4.    8.    0.    1. 1611.  244.    3.    7.]\n",
            " [  15.    1.    8.   40.    6.    5.  145. 1431.    2.   38.]\n",
            " [  37.    5.    0.    0.    2.    6.    0.    1. 1604.   21.]\n",
            " [  12.   30.    1.    0.    3.    0.    2.    2.   31. 1585.]]\n",
            "Accuracy for  5  mixtures is :  0.8941666666666667\n",
            "F1 scores  5  mixtures is :  [0.888953488372093, 0.9253894506695819, 0.9753610875106202, 0.8542687645086408, 0.8819875776397516, 0.9102308349957253, 0.8625770158049826, 0.789443488238669, 0.9239598278335724, 0.9355971896955504]\n",
            "Confusion matrix for  5  mixtures is :  [[1529.   32.   15.   15.    1.    0.    3.    6.   48.    8.]\n",
            " [ 104. 1693.    9.    2.    0.    7.    1.    1.   12.    1.]\n",
            " [   0.    0. 1722.    0.    0.    5.    1.    0.    0.    0.]\n",
            " [  46.   58.   20. 1656.   19.   84.   22.   98.   31.   12.]\n",
            " [  40.   15.    4.   74. 1704.   77.    9.   51.   41.   78.]\n",
            " [   0.    5.   19.   27.   32. 1597.   11.    5.   25.    4.]\n",
            " [   5.    0.    4.    8.    1.    3. 1610.  294.    3.    4.]\n",
            " [  14.    0.    9.   49.   10.    4.  144. 1376.    3.   43.]\n",
            " [  38.   10.    0.    0.    3.    7.    0.    1. 1610.   19.]\n",
            " [   7.   16.    1.    0.    1.    0.    0.    2.   24. 1598.]]\n",
            "Accuracy for  6  mixtures is :  0.8948333333333334\n",
            "F1 scores  6  mixtures is :  [0.8872093023255814, 0.9213605442176871, 0.9759138566166052, 0.8588448588448588, 0.8847950181629476, 0.9120910384068279, 0.8582251082251082, 0.790947666195191, 0.9265764468758998, 0.9392168322618352]\n",
            "Confusion matrix for  6  mixtures is :  [[1526.   34.   14.   13.    1.    0.    2.    7.   53.    7.]\n",
            " [ 106. 1693.    8.    2.    0.    6.    1.    4.   24.    2.]\n",
            " [   0.    0. 1722.    0.    0.    3.    1.    0.    0.    0.]\n",
            " [  48.   53.   20. 1658.   19.   83.   22.   92.   25.   10.]\n",
            " [  39.   15.    5.   74. 1705.   77.   10.   48.   36.   74.]\n",
            " [   0.    8.   20.   25.   32. 1603.   13.    5.   21.    4.]\n",
            " [   4.    0.    4.   11.    1.    5. 1586.  278.    3.    3.]\n",
            " [  18.    1.    9.   48.   11.    4.  165. 1398.    3.   44.]\n",
            " [  37.    9.    0.    0.    1.    3.    0.    1. 1609.   16.]\n",
            " [   5.   16.    1.    0.    1.    0.    1.    1.   23. 1607.]]\n"
          ]
        },
        {
          "output_type": "display_data",
          "data": {
            "text/plain": [
              "<Figure size 432x288 with 1 Axes>"
            ],
            "image/png": "[encoded data removed]"
          },
          "metadata": {
            "needs_background": "light"
          }
        }
      ],
      "source": [
        "train_dataset4,test_dataset4 = p4_split_dataset(p4dataset,0.7)\n",
        "classes = 10\n",
        "y4 = np.zeros(6)\n",
        "x4 = np.array([1,2,3,4,5,6])\n",
        "for number_of_Gaussian in x4:\n",
        "  Means4,Pi4 = p4_GMM_training(train_dataset4,5,number_of_Gaussian)\n",
        "  accuracy4,confusion_matrix4 = p4_GMM_testing(test_dataset4,10,Means4,Pi4,number_of_Gaussian)\n",
        "  TP4=[]\n",
        "  TN4=[]\n",
        "  FP4=[]\n",
        "  FN4=[]\n",
        "  F14=[]\n",
        "  for i in range(classes):\n",
        "    TP4.append(confusion_matrix4[i][i])\n",
        "    TN4.append(np.sum(confusion_matrix4)-np.sum(confusion_matrix4[i,:])-np.sum(confusion_matrix4[:,i])+confusion_matrix4[i][i])\n",
        "    FP4.append(np.sum(confusion_matrix4[i,:])-confusion_matrix4[i][i])\n",
        "    FN4.append(np.sum(confusion_matrix4[:,i])-confusion_matrix4[i][i])\n",
        "    F14.append((2*TP4[i])/(2*TP4[i] + FP4[i] + FN4[i]))\n",
        "  y4[number_of_Gaussian-1] = p4_get_likelihood(train_dataset4,Means4,Pi4,number_of_Gaussian)\n",
        "  print(\"Accuracy for \",number_of_Gaussian,\" mixtures is : \",accuracy4)\n",
        "  print(\"F1 scores \",number_of_Gaussian,\" mixtures is : \",F14)\n",
        "  print(\"Confusion matrix for \",number_of_Gaussian,\" mixtures is : \",confusion_matrix4)\n",
        "\n",
        "y4 = (y4-np.min(y4))/(np.max(y4)-np.min(y4))\n",
        "plt.plot(x4,y4) \n",
        "plt.title(\"Log likelihood for 70:30\") \n",
        "plt.ylabel(\"log likelihood\") \n",
        "plt.xlabel(\"Gaussian misture\") \n",
        "plt.show()"
      ]
    },
    {
      "cell_type": "markdown",
      "source": [
        "## Model 5 - 90:10"
      ],
      "metadata": {
        "id": "tlmjpN7wE9Sd"
      }
    },
    {
      "cell_type": "markdown",
      "source": [
        " Again initialising dataset as X was used variable elsewhere"
      ],
      "metadata": {
        "id": "fo4VENjwE9Se"
      }
    },
    {
      "cell_type": "code",
      "source": [
        "X=[]\n",
        "Y = []\n",
        "for i in range(classes):\n",
        "  tmp = []\n",
        "  for j in range(len(lst_img_clss[i])):\n",
        "    x = np.ndarray.flatten(lst_img_clss[i][j])\n",
        "    tmp.append(x)\n",
        "  a = np.stack(tmp,axis = 0)\n",
        "  X.append(a)\n",
        "  Y.append(i)\n"
      ],
      "metadata": {
        "id": "izONBMF2E9Se"
      },
      "execution_count": 155,
      "outputs": []
    },
    {
      "cell_type": "code",
      "source": [
        "a = X[0]\n",
        "b = np.zeros((X[0].shape[0],1))\n",
        "dataset = np.column_stack((a,b))\n",
        "for i in range(1,classes):\n",
        "  a=X[i]\n",
        "  b = i*np.ones((X[i].shape[0],1))\n",
        "  temp = np.column_stack((a,b))\n",
        "  dataset = np.row_stack((dataset,temp))"
      ],
      "metadata": {
        "id": "ldtaDlFoE9Se"
      },
      "execution_count": 156,
      "outputs": []
    },
    {
      "cell_type": "code",
      "source": [
        "dataset.shape  # Overall dataset"
      ],
      "metadata": {
        "colab": {
          "base_uri": "https://localhost:8080/"
        },
        "outputId": "0ad96f1c-3a1a-4ab4-a8a3-771eaadbd3d8",
        "id": "2Ete006AE9Se"
      },
      "execution_count": 157,
      "outputs": [
        {
          "output_type": "execute_result",
          "data": {
            "text/plain": [
              "(60000, 785)"
            ]
          },
          "metadata": {},
          "execution_count": 157
        }
      ]
    },
    {
      "cell_type": "code",
      "source": [
        "# creating training and testing dataset\n",
        "count = 5400 #per class\n",
        "a=X[0]\n",
        "a=a[0:count,:]/255       # Normalising else exponent becomes 0\n",
        "b = np.zeros((a.shape[0],1))\n",
        "train_dataset = np.column_stack((a,b))\n",
        "a=X[0]\n",
        "a=a[count:,:]/255\n",
        "b = np.zeros((a.shape[0],1))\n",
        "test_dataset = np.column_stack((a,b))\n",
        "for i in range(1,classes):\n",
        "  a=X[i]\n",
        "  a=a[0:count,:]/255\n",
        "  b = i*np.ones((a.shape[0],1))\n",
        "  temp = np.column_stack((a,b))\n",
        "  train_dataset = np.row_stack((train_dataset,temp))\n",
        "  a=X[i]\n",
        "  a=a[count:,:]/255\n",
        "  b = i*np.ones((a.shape[0],1))\n",
        "  temp = np.column_stack((a,b))\n",
        "  test_dataset = np.row_stack((test_dataset,temp))\n"
      ],
      "metadata": {
        "id": "N7RtQAXRE9Sf"
      },
      "execution_count": 158,
      "outputs": []
    },
    {
      "cell_type": "code",
      "source": [
        "train_dataset.shape"
      ],
      "metadata": {
        "colab": {
          "base_uri": "https://localhost:8080/"
        },
        "outputId": "3d68b8d3-7494-49a3-dda3-6e63a8da3d62",
        "id": "ut6PVIP3E9Sf"
      },
      "execution_count": 159,
      "outputs": [
        {
          "output_type": "execute_result",
          "data": {
            "text/plain": [
              "(54000, 785)"
            ]
          },
          "metadata": {},
          "execution_count": 159
        }
      ]
    },
    {
      "cell_type": "code",
      "source": [
        "test_dataset.shape"
      ],
      "metadata": {
        "colab": {
          "base_uri": "https://localhost:8080/"
        },
        "outputId": "5590824e-a921-47dc-99b9-761a3b44778d",
        "id": "5uO0QmLLE9Sf"
      },
      "execution_count": 160,
      "outputs": [
        {
          "output_type": "execute_result",
          "data": {
            "text/plain": [
              "(6000, 785)"
            ]
          },
          "metadata": {},
          "execution_count": 160
        }
      ]
    },
    {
      "cell_type": "code",
      "source": [
        "features = train_dataset.shape[1]-1 #784"
      ],
      "metadata": {
        "id": "qwkunn28E9Sf"
      },
      "execution_count": 161,
      "outputs": []
    },
    {
      "cell_type": "code",
      "source": [
        "# Initialising features and labels from dataset\n",
        "X_test = test_dataset[:,:features]\n",
        "X_train = train_dataset[:,:features]\n",
        "Y_train = train_dataset[:,features]\n",
        "Y_test = test_dataset[:,features]"
      ],
      "metadata": {
        "id": "TOHXf0iRE9Sg"
      },
      "execution_count": 162,
      "outputs": []
    },
    {
      "cell_type": "markdown",
      "source": [
        "### (i) Naive Bayes"
      ],
      "metadata": {
        "id": "xfJOweLoE9Sg"
      }
    },
    {
      "cell_type": "code",
      "source": [
        "classes = 10\n",
        "features = train_dataset.shape[1]-1"
      ],
      "metadata": {
        "id": "Mf9tSbOxE9Sg"
      },
      "execution_count": 19,
      "outputs": []
    },
    {
      "cell_type": "code",
      "source": [
        "# Creating list of numpy arrays containing training datas of each class with class as index of list \n",
        "temp = train_dataset\n",
        "lst = []\n",
        "for i in range(classes):\n",
        "  x = temp[np.where(temp[:,features]==i)] # last column is my class indexes\n",
        "  x = x[:,:features]\n",
        "  lst.append(x)"
      ],
      "metadata": {
        "id": "F5jMbMj9E9Sg"
      },
      "execution_count": 20,
      "outputs": []
    },
    {
      "cell_type": "code",
      "source": [
        "# 10 features' mean for each classes\n",
        "mean=[] \n",
        "for i in range(classes):\n",
        "  a=lst[i]\n",
        "  a = a.mean(axis=0)\n",
        "  mean.append(a)"
      ],
      "metadata": {
        "id": "0hMmYiAtE9Sg"
      },
      "execution_count": 21,
      "outputs": []
    },
    {
      "cell_type": "markdown",
      "source": [
        "#### Training"
      ],
      "metadata": {
        "id": "MUVV2gDmE9Sg"
      }
    },
    {
      "cell_type": "code",
      "source": [
        "count = 0\n",
        "for i in range(X_train.shape[0]):\n",
        "  g = []  #class conditionals\n",
        "  for j in range(classes):\n",
        "    v = (X_train[i]-mean[j])\n",
        "    v = np.power(v,2)\n",
        "    k = 0.5 * np.sum(v)\n",
        "    k = math.exp(-k)\n",
        "    g.append(k)\n",
        "  k = g.index(max(g))\n",
        "  if k==int(Y_train[i]):\n",
        "    count=count+1"
      ],
      "metadata": {
        "id": "pFEa1stAE9Sh"
      },
      "execution_count": 24,
      "outputs": []
    },
    {
      "cell_type": "code",
      "source": [
        "print('The training accuracy is:')\n",
        "print(count*100/X_train.shape[0])"
      ],
      "metadata": {
        "colab": {
          "base_uri": "https://localhost:8080/"
        },
        "id": "m0REBw-zE9Sh",
        "outputId": "db2a942c-06b4-4ba5-fd0e-9600f8372a93"
      },
      "execution_count": 25,
      "outputs": [
        {
          "output_type": "stream",
          "name": "stdout",
          "text": [
            "The training accuracy is:\n",
            "85.88518518518518\n"
          ]
        }
      ]
    },
    {
      "cell_type": "markdown",
      "source": [
        "#### Testing"
      ],
      "metadata": {
        "id": "8pyB4nhoE9Sh"
      }
    },
    {
      "cell_type": "code",
      "source": [
        "conf_matrix = np.zeros((classes,classes))\n",
        "count = 0\n",
        "for i in range(X_test.shape[0]):\n",
        "  g = []  #class conditionals\n",
        "  for j in range(classes):\n",
        "    v = (X_test[i]-mean[j])\n",
        "    v = np.power(v,2)\n",
        "    k = 0.5 * np.sum(v)\n",
        "    #k = math.exp(-k)\n",
        "    g.append(k)\n",
        "  k = g.index(min(g))\n",
        "  if k==int(Y_test[i]):\n",
        "    count=count+1\n",
        "  v = int(Y_test[i])\n",
        "  conf_matrix[v][k] += 1"
      ],
      "metadata": {
        "id": "0vILD19dE9Sh"
      },
      "execution_count": 26,
      "outputs": []
    },
    {
      "cell_type": "code",
      "source": [
        "print('The testing accuracy is:')\n",
        "print(count*100/X_test.shape[0])"
      ],
      "metadata": {
        "colab": {
          "base_uri": "https://localhost:8080/"
        },
        "id": "lSNMY0kDE9Si",
        "outputId": "7d2429f4-b55f-4888-efd3-22180674f99d"
      },
      "execution_count": 27,
      "outputs": [
        {
          "output_type": "stream",
          "name": "stdout",
          "text": [
            "The testing accuracy is:\n",
            "81.7\n"
          ]
        }
      ]
    },
    {
      "cell_type": "code",
      "source": [
        "print('The confusion matrix for above testing data is:')\n",
        "print(conf_matrix.astype(int))"
      ],
      "metadata": {
        "colab": {
          "base_uri": "https://localhost:8080/"
        },
        "id": "dR0V94DzE9Si",
        "outputId": "1efd62ea-c9fe-4ca3-c056-f85735ae2387"
      },
      "execution_count": 28,
      "outputs": [
        {
          "output_type": "stream",
          "name": "stdout",
          "text": [
            "The confusion matrix for above testing data is:\n",
            "[[490  69   0   5   6   0   1   8  17   4]\n",
            " [  4 566   0   9   1   1   0   1  12   6]\n",
            " [ 28  24 416  45   0  45   4  38   0   0]\n",
            " [ 10   2   0 465  57   2   2  61   0   1]\n",
            " [  1   0   0   2 571  17   0   9   0   0]\n",
            " [  0   0   7  20  46 519   0   3   3   2]\n",
            " [  0   1   0  17   6   1 478  94   0   3]\n",
            " [  0   0   0  22  19   2 173 382   2   0]\n",
            " [ 10   3   0   0   3  11   0   0 533  40]\n",
            " [ 15   1   0   0  37   3   4  30  28 482]]\n"
          ]
        }
      ]
    },
    {
      "cell_type": "code",
      "source": [
        "# Storing True positive True negative, False Positive, False negative and F values in a list scores\n",
        "TP=[]\n",
        "TN=[]\n",
        "FP=[]\n",
        "FN=[]\n",
        "F1=[]\n",
        "for i in range(classes):\n",
        "  TP.append(conf_matrix[i][i])\n",
        "  TN.append(np.sum(conf_matrix)-np.sum(conf_matrix[i,:])-np.sum(conf_matrix[:,i])+conf_matrix[i][i])\n",
        "  FP.append(np.sum(conf_matrix[i,:])-conf_matrix[i][i])\n",
        "  FN.append(np.sum(conf_matrix[:,i])-conf_matrix[i][i])\n",
        "  F1.append((2*TP[i])/(2*TP[i] + FP[i] + FN[i]))"
      ],
      "metadata": {
        "id": "A47FOO14E9Si"
      },
      "execution_count": 29,
      "outputs": []
    },
    {
      "cell_type": "code",
      "source": [
        "print('F1 scores for corresponding classes are:')\n",
        "print(F1)"
      ],
      "metadata": {
        "colab": {
          "base_uri": "https://localhost:8080/"
        },
        "id": "wf32ychgE9Si",
        "outputId": "aa3d116f-c52f-4b2e-b18f-eecdd61e79a8"
      },
      "execution_count": 30,
      "outputs": [
        {
          "output_type": "stream",
          "name": "stdout",
          "text": [
            "F1 scores for corresponding classes are:\n",
            "[0.846286701208981, 0.8941548183254344, 0.8132942326490714, 0.7848101265822784, 0.8484398216939079, 0.8642797668609492, 0.757527733755943, 0.6231647634584013, 0.8920502092050209, 0.8471001757469244]\n"
          ]
        }
      ]
    },
    {
      "cell_type": "markdown",
      "source": [
        "### (ii) Logistic regression"
      ],
      "metadata": {
        "id": "zTVrp4XnE9Sj"
      }
    },
    {
      "cell_type": "code",
      "source": [
        "classes = 10\n",
        "features = train_dataset.shape[1] #785 after augmented data"
      ],
      "metadata": {
        "id": "M5KijOAiE9Sj"
      },
      "execution_count": 163,
      "outputs": []
    },
    {
      "cell_type": "code",
      "source": [
        "tmp = np.ones((X_train.shape[0],1))  # Creating augmented data\n",
        "X_train=np.column_stack((X_train,tmp))\n",
        "X_train.shape"
      ],
      "metadata": {
        "colab": {
          "base_uri": "https://localhost:8080/"
        },
        "id": "XWuS3Z1aE9Sj",
        "outputId": "ee2614dc-716a-4178-9e6b-85b9857bc8ce"
      },
      "execution_count": 164,
      "outputs": [
        {
          "output_type": "execute_result",
          "data": {
            "text/plain": [
              "(54000, 785)"
            ]
          },
          "metadata": {},
          "execution_count": 164
        }
      ]
    },
    {
      "cell_type": "code",
      "source": [
        "tmp = np.ones((X_test.shape[0],1))  # Creating augmented data\n",
        "X_test=np.column_stack((X_test,tmp))\n",
        "X_test.shape"
      ],
      "metadata": {
        "colab": {
          "base_uri": "https://localhost:8080/"
        },
        "id": "AZxQCbKmE9Sj",
        "outputId": "3879e970-fe86-4927-aac2-4ea7bd7ab9e4"
      },
      "execution_count": 165,
      "outputs": [
        {
          "output_type": "execute_result",
          "data": {
            "text/plain": [
              "(6000, 785)"
            ]
          },
          "metadata": {},
          "execution_count": 165
        }
      ]
    },
    {
      "cell_type": "markdown",
      "source": [
        "#### Training"
      ],
      "metadata": {
        "id": "WPzx6xnyE9Sk"
      }
    },
    {
      "cell_type": "code",
      "source": [
        "W=[]\n",
        "for i in range(classes):\n",
        "  W.append(np.ones((features,1)))"
      ],
      "metadata": {
        "id": "mIPCzOntE9Sk"
      },
      "execution_count": 166,
      "outputs": []
    },
    {
      "cell_type": "code",
      "source": [
        "def calc_loss(X,W,j):\n",
        "  X=X.reshape((X.shape[0],1))\n",
        "  # calculating probabilities of each class\n",
        "  e=[]                        # exponent\n",
        "  g = []                      # probabilities (softmax)\n",
        "  grad = []                   # gradient addition for this image\n",
        "  for i in range(classes):\n",
        "    e.append(math.exp(W[i].T@X))\n",
        "  k = sum(e)\n",
        "  for i in range(classes):\n",
        "    g.append(e[i]/k)\n",
        "  loss = -1*math.log(g[j])     # loss for 1 image\n",
        "  for i in range(classes):\n",
        "    if i!=j:\n",
        "      grad.append(-g[i]*X.reshape(X.shape[0]))\n",
        "    else:\n",
        "      grad.append((1-g[i])*X.reshape(X.shape[0]))\n",
        "  return loss,grad"
      ],
      "metadata": {
        "id": "suu38X3aE9Sk"
      },
      "execution_count": 167,
      "outputs": []
    },
    {
      "cell_type": "code",
      "source": [
        "def train_epoch1():\n",
        "  final_loss = 0\n",
        "  final_grad = np.zeros((features,classes))\n",
        "  for i in range(X_train.shape[0]):\n",
        "    loss,grad = calc_loss(X_train[i,:],W,int(Y_train[i]))\n",
        "    final_loss =final_loss + loss\n",
        "    final_grad = final_grad + np.stack(grad,axis = 1)\n",
        "  return final_loss,final_grad"
      ],
      "metadata": {
        "id": "XHpKBT_WE9Sk"
      },
      "execution_count": 168,
      "outputs": []
    },
    {
      "cell_type": "code",
      "source": [
        "epochs = 50\n",
        "alpha = 10\n",
        "prev_loss = 0\n",
        "for i in range(epochs):\n",
        "  loss,grad = train_epoch1()\n",
        "  for j in range(classes):\n",
        "    gradient = grad[:,j].reshape(grad[:,j].shape[0],1)\n",
        "    if prev_loss<loss:\n",
        "      alpha = (alpha/10)\n",
        "    W[j]=W[j]+alpha*gradient/np.linalg.norm(gradient)\n",
        "    prev_loss = loss\n",
        "  print('loss in',i,'epoch is',loss/X_train.shape[0])"
      ],
      "metadata": {
        "colab": {
          "base_uri": "https://localhost:8080/"
        },
        "id": "ti29AsKmE9Sk",
        "outputId": "90bc8f72-69f7-4b93-cb3d-221bf825d302"
      },
      "execution_count": 169,
      "outputs": [
        {
          "output_type": "stream",
          "name": "stdout",
          "text": [
            "loss in 0 epoch is 2.3025850929958565\n",
            "loss in 1 epoch is 1.046997180890223\n",
            "loss in 2 epoch is 15.488642458559163\n",
            "loss in 3 epoch is 13.825570754721602\n",
            "loss in 4 epoch is 12.162528163062184\n",
            "loss in 5 epoch is 10.499509558276404\n",
            "loss in 6 epoch is 8.836511356297361\n",
            "loss in 7 epoch is 7.173535304698296\n",
            "loss in 8 epoch is 5.510869779423009\n",
            "loss in 9 epoch is 3.8624139755919167\n",
            "loss in 10 epoch is 2.380238697333797\n",
            "loss in 11 epoch is 1.7014047129567118\n",
            "loss in 12 epoch is 1.1453000149743842\n",
            "loss in 13 epoch is 1.2053680262847999\n",
            "loss in 14 epoch is 1.0797294818811412\n",
            "loss in 15 epoch is 0.9787410076493857\n",
            "loss in 16 epoch is 0.8979902733571327\n",
            "loss in 17 epoch is 0.8386041381256321\n",
            "loss in 18 epoch is 0.7981186300830246\n",
            "loss in 19 epoch is 0.7755251214921361\n",
            "loss in 20 epoch is 0.7656654863493966\n",
            "loss in 21 epoch is 0.7623267738694184\n",
            "loss in 22 epoch is 0.7597370468391543\n",
            "loss in 23 epoch is 0.7578245333770787\n",
            "loss in 24 epoch is 0.7555494204358351\n",
            "loss in 25 epoch is 0.7535475672302433\n",
            "loss in 26 epoch is 0.7514084085226659\n",
            "loss in 27 epoch is 0.7493758153067719\n",
            "loss in 28 epoch is 0.7473143276435208\n",
            "loss in 29 epoch is 0.7452760855641505\n",
            "loss in 30 epoch is 0.7432680315682062\n",
            "loss in 31 epoch is 0.7412358242234501\n",
            "loss in 32 epoch is 0.7392695765828314\n",
            "loss in 33 epoch is 0.7372493148559113\n",
            "loss in 34 epoch is 0.735318615511942\n",
            "loss in 35 epoch is 0.7333135240106908\n",
            "loss in 36 epoch is 0.7314146110591131\n",
            "loss in 37 epoch is 0.7294265721987022\n",
            "loss in 38 epoch is 0.7275569386028907\n",
            "loss in 39 epoch is 0.7255871102276118\n",
            "loss in 40 epoch is 0.7237449353124701\n",
            "loss in 41 epoch is 0.7217940493969587\n",
            "loss in 42 epoch is 0.7199779233674961\n",
            "loss in 43 epoch is 0.7180464397828393\n",
            "loss in 44 epoch is 0.7162552209730076\n",
            "loss in 45 epoch is 0.714343413079827\n",
            "loss in 46 epoch is 0.7125761477853678\n",
            "loss in 47 epoch is 0.7106841544504442\n",
            "loss in 48 epoch is 0.7089400278283325\n",
            "loss in 49 epoch is 0.7070678878001663\n"
          ]
        }
      ]
    },
    {
      "cell_type": "code",
      "source": [
        "print('Empirical risk on training data is:')\n",
        "print(loss/X_train.shape[0])"
      ],
      "metadata": {
        "colab": {
          "base_uri": "https://localhost:8080/"
        },
        "id": "qP4mNycAE9Sk",
        "outputId": "d8346dcf-34f7-4fe5-dadf-7f3d86235de3"
      },
      "execution_count": 170,
      "outputs": [
        {
          "output_type": "stream",
          "name": "stdout",
          "text": [
            "Empirical risk on training data is:\n",
            "0.7070678878001663\n"
          ]
        }
      ]
    },
    {
      "cell_type": "markdown",
      "source": [
        "#### Testing"
      ],
      "metadata": {
        "id": "CfTkLNJOE9Sl"
      }
    },
    {
      "cell_type": "code",
      "source": [
        "conf_matrix = np.zeros((classes,classes))\n",
        "count = 0\n",
        "loss = 0\n",
        "for i in range(X_test.shape[0]):\n",
        "  X = X_test[i,:]\n",
        "  X=X.reshape((X.shape[0],1))\n",
        "  # calculating probabilities of each class\n",
        "  e=[]                        # exponent\n",
        "  g = []                      # probabilities (softmax)\n",
        "  grad = []                   # gradient addition for this image\n",
        "  for j in range(classes):\n",
        "    e.append(math.exp(W[j].T@X))\n",
        "  k = sum(e)\n",
        "  for j in range(classes):\n",
        "    g.append(e[j]/k)\n",
        "  k = g.index(max(g))\n",
        "  if k==Y_test[i]:\n",
        "    count = count+1\n",
        "  v = int(Y_test[i])\n",
        "  conf_matrix[v][k] += 1\n",
        "\n",
        "  loss = loss - 1*math.log(g[v])"
      ],
      "metadata": {
        "id": "qKd1iOq8E9Sl"
      },
      "execution_count": 171,
      "outputs": []
    },
    {
      "cell_type": "code",
      "source": [
        "print('The testing accuracy is:')\n",
        "print(count*100/X_test.shape[0])"
      ],
      "metadata": {
        "colab": {
          "base_uri": "https://localhost:8080/"
        },
        "id": "y8v8cpxME9Sl",
        "outputId": "327f65fe-4272-452c-cf40-470a4a1784bf"
      },
      "execution_count": 172,
      "outputs": [
        {
          "output_type": "stream",
          "name": "stdout",
          "text": [
            "The testing accuracy is:\n",
            "84.38333333333334\n"
          ]
        }
      ]
    },
    {
      "cell_type": "code",
      "source": [
        "print('Empirical risk on testing data is:')\n",
        "print(loss/X_test.shape[0])"
      ],
      "metadata": {
        "colab": {
          "base_uri": "https://localhost:8080/"
        },
        "id": "uvZZKdIrE9Sm",
        "outputId": "ca382887-e0df-4fd4-80b9-d6a2b5d358ec"
      },
      "execution_count": 173,
      "outputs": [
        {
          "output_type": "stream",
          "name": "stdout",
          "text": [
            "Empirical risk on testing data is:\n",
            "0.798063932109958\n"
          ]
        }
      ]
    },
    {
      "cell_type": "code",
      "source": [
        "print('The confusion matrix for above testing data is:')\n",
        "print(conf_matrix.astype(int))"
      ],
      "metadata": {
        "colab": {
          "base_uri": "https://localhost:8080/"
        },
        "id": "0wHGC1nIE9Sm",
        "outputId": "640ed32a-ac58-4afc-b3e5-1f95ead9e3af"
      },
      "execution_count": 174,
      "outputs": [
        {
          "output_type": "stream",
          "name": "stdout",
          "text": [
            "The confusion matrix for above testing data is:\n",
            "[[504  63   0   2   6   0   1   0  20   4]\n",
            " [  5 568   0   7   1   1   0   0  12   6]\n",
            " [ 31  13 494  35   0  18   5   4   0   0]\n",
            " [ 16   1   0 492  57   2   3  28   0   1]\n",
            " [  1   0   0   2 576  16   0   4   1   0]\n",
            " [  0   0   9  22  51 509   1   1   5   2]\n",
            " [  0   1   0  17  11   0 517  50   0   4]\n",
            " [  0   0   0  35  21   1 178 363   2   0]\n",
            " [  8   0   0   0   2   4   1   0 562  23]\n",
            " [ 19   0   0   0  36   1   5  21  40 478]]\n"
          ]
        }
      ]
    },
    {
      "cell_type": "code",
      "source": [
        "# Storing True positive True negative, False Positive, False negative and F values in a list scores\n",
        "TP=[]\n",
        "TN=[]\n",
        "FP=[]\n",
        "FN=[]\n",
        "F1=[]\n",
        "for i in range(classes):\n",
        "  TP.append(conf_matrix[i][i])\n",
        "  TN.append(np.sum(conf_matrix)-np.sum(conf_matrix[i,:])-np.sum(conf_matrix[:,i])+conf_matrix[i][i])\n",
        "  FP.append(np.sum(conf_matrix[i,:])-conf_matrix[i][i])\n",
        "  FN.append(np.sum(conf_matrix[:,i])-conf_matrix[i][i])\n",
        "  F1.append((2*TP[i])/(2*TP[i] + FP[i] + FN[i]))"
      ],
      "metadata": {
        "id": "e1igCabcE9Sm"
      },
      "execution_count": 175,
      "outputs": []
    },
    {
      "cell_type": "code",
      "source": [
        "print('F1 scores for corresponding classes are:')\n",
        "print(F1)"
      ],
      "metadata": {
        "colab": {
          "base_uri": "https://localhost:8080/"
        },
        "id": "cVb3QatAE9Sm",
        "outputId": "6f63adae-0e64-4cb1-9bbe-b8b017fe4962"
      },
      "execution_count": 176,
      "outputs": [
        {
          "output_type": "stream",
          "name": "stdout",
          "text": [
            "F1 scores for corresponding classes are:\n",
            "[0.8513513513513513, 0.9117174959871589, 0.8957388939256573, 0.8118811881188119, 0.8464364437913299, 0.8836805555555556, 0.7887109077040427, 0.6778711484593838, 0.9049919484702094, 0.855098389982111]\n"
          ]
        }
      ]
    },
    {
      "cell_type": "code",
      "source": [],
      "metadata": {
        "id": "oIJLA9XVE9Sm"
      },
      "execution_count": null,
      "outputs": []
    },
    {
      "cell_type": "markdown",
      "source": [
        "### (iii) GMM"
      ],
      "metadata": {
        "id": "XGlv4eeCIWrQ"
      }
    },
    {
      "cell_type": "code",
      "execution_count": null,
      "metadata": {
        "colab": {
          "base_uri": "https://localhost:8080/",
          "height": 1000
        },
        "outputId": "488dcde1-70c8-4060-ade5-88fc4397b666",
        "id": "iFA_u7W_Id_5"
      },
      "outputs": [
        {
          "output_type": "stream",
          "name": "stdout",
          "text": [
            "Accuracy for  1  mixtures is :  0.8603333333333333\n",
            "F1 scores  1  mixtures is :  [0.8661679135494597, 0.8970358814352574, 0.9285014691478942, 0.8397435897435898, 0.8736303871439006, 0.9014821272885789, 0.8081967213114755, 0.7073578595317725, 0.8850987432675045, 0.9066666666666666]\n",
            "Confusion matrix for  1  mixtures is :  [[521.   9.  14.   4.   1.   0.   1.   1.  21.   4.]\n",
            " [ 42. 575.   7.   1.   1.   3.   0.   1.  11.   1.]\n",
            " [  0.   0. 474.   0.   0.   7.   0.   0.   1.   0.]\n",
            " [ 20.  24.  12. 524.   7.  22.   5.  46.   5.   5.]\n",
            " [ 13.  12.   0.  20. 598.  28.   6.  19.  18.  30.]\n",
            " [  0.   4.  13.   6.   6. 517.   3.   2.  11.   2.]\n",
            " [  1.   0.   2.   2.   0.   0. 493. 112.   2.   1.]\n",
            " [  9.   0.  16.  21.   6.   3.  99. 423.   0.  14.]\n",
            " [ 17.   5.   1.   0.   1.   2.   0.   0. 493.  13.]\n",
            " [  4.  11.   0.   0.   5.   1.   0.   1.  20. 544.]]\n",
            "Accuracy for  2  mixtures is :  0.8911666666666667\n",
            "F1 scores  2  mixtures is :  [0.8948247078464107, 0.9204097714736013, 0.9685414680648237, 0.8694942903752039, 0.881704628949302, 0.9170305676855895, 0.8612903225806452, 0.791095890410959, 0.9061946902654867, 0.9110378912685337]\n",
            "Confusion matrix for  2  mixtures is :  [[536.   5.   6.   4.   0.   0.   1.   1.  18.   0.]\n",
            " [ 34. 584.   1.   0.   1.   3.   0.   1.   5.   0.]\n",
            " [  1.   0. 508.   0.   0.   0.   1.   0.   0.   0.]\n",
            " [ 11.  19.   5. 533.   7.  23.   4.  37.   4.   5.]\n",
            " [ 14.   8.   2.  22. 600.  28.   5.  13.  14.  30.]\n",
            " [  0.   3.   9.   6.   5. 525.   2.   3.   9.   0.]\n",
            " [  1.   1.   1.   4.   0.   1. 534.  87.   2.   2.]\n",
            " [  6.   0.   5.   9.   5.   1.  60. 462.   0.  15.]\n",
            " [ 19.   5.   0.   0.   2.   1.   0.   0. 512.   9.]\n",
            " [  5.  15.   2.   0.   5.   1.   0.   1.  18. 553.]]\n",
            "Accuracy for  3  mixtures is :  0.8961666666666667\n",
            "F1 scores  3  mixtures is :  [0.8929765886287625, 0.8957528957528957, 0.9743101807802094, 0.8675282714054927, 0.8798252002913328, 0.9152838427947598, 0.8905109489051095, 0.8317515099223468, 0.9048473967684022, 0.9214046822742475]\n",
            "Confusion matrix for  3  mixtures is :  [[534.  11.   5.   2.   0.   0.   1.   0.  16.   0.]\n",
            " [ 49. 580.   5.   1.   1.   3.   0.   1.  14.   1.]\n",
            " [  0.   0. 512.   0.   0.   0.   0.   0.   0.   0.]\n",
            " [ 12.  22.   4. 537.   7.  23.   6.  38.   4.   7.]\n",
            " [ 15.  10.   0.  23. 604.  28.   4.  13.  20.  31.]\n",
            " [  0.   4.   7.   6.   5. 524.   4.   3.   9.   0.]\n",
            " [  1.   0.   1.   2.   0.   1. 549.  67.   2.   3.]\n",
            " [  5.   0.   4.   7.   3.   1.  43. 482.   0.   9.]\n",
            " [  8.   5.   0.   0.   1.   2.   0.   0. 504.  12.]\n",
            " [  3.   8.   1.   0.   4.   1.   0.   1.  13. 551.]]\n",
            "Accuracy for  4  mixtures is :  0.9033333333333333\n",
            "F1 scores  4  mixtures is :  [0.9027431421446384, 0.9120370370370371, 0.9752851711026616, 0.8703403565640194, 0.8812818645302258, 0.9144851657940664, 0.8969991889699919, 0.8369283865401208, 0.921832884097035, 0.9336691855583543]\n",
            "Confusion matrix for  4  mixtures is :  [[543.   7.   3.   3.   0.   0.   1.   0.  18.   1.]\n",
            " [ 40. 591.   4.   1.   1.   3.   0.   1.  14.   1.]\n",
            " [  0.   0. 513.   0.   0.   0.   0.   0.   0.   0.]\n",
            " [ 12.  20.   5. 537.   7.  23.   5.  39.   3.   5.]\n",
            " [ 17.  10.   1.  22. 605.  28.   4.  13.  15.  33.]\n",
            " [  0.   4.   7.   6.   6. 524.   4.   3.   8.   1.]\n",
            " [  1.   0.   1.   2.   0.   1. 553.  63.   2.   3.]\n",
            " [  5.   0.   4.   7.   3.   1.  40. 485.   0.   9.]\n",
            " [  8.   2.   0.   0.   1.   2.   0.   0. 513.   5.]\n",
            " [  1.   6.   1.   0.   2.   1.   0.   1.   9. 556.]]\n",
            "Accuracy for  5  mixtures is :  0.901\n",
            "F1 scores  5  mixtures is :  [0.8985024958402662, 0.9287925696594427, 0.9753320683111955, 0.8734693877551021, 0.882051282051282, 0.9208006962576153, 0.8689883913764511, 0.8134453781512605, 0.9245785270629991, 0.9361344537815126]\n",
            "Confusion matrix for  5  mixtures is :  [[540.   7.   6.   4.   0.   0.   1.   0.  16.   1.]\n",
            " [ 38. 600.   2.   0.   0.   3.   0.   1.   8.   0.]\n",
            " [  1.   0. 514.   0.   0.   0.   0.   0.   0.   0.]\n",
            " [ 11.  14.   5. 535.   7.  22.   5.  38.   3.   7.]\n",
            " [ 15.   8.   1.  22. 602.  27.   5.  13.  14.  33.]\n",
            " [  0.   4.   6.   6.   6. 529.   3.   2.  10.   0.]\n",
            " [  1.   0.   1.   2.   0.   0. 524.  66.   2.   3.]\n",
            " [  6.   0.   3.   9.   4.   1.  69. 484.   0.   9.]\n",
            " [ 14.   4.   0.   0.   2.   0.   0.   0. 521.   4.]\n",
            " [  1.   3.   1.   0.   4.   1.   0.   1.   8. 557.]]\n",
            "Accuracy for  6  mixtures is :  0.9053333333333333\n",
            "F1 scores  6  mixtures is :  [0.9048800661703887, 0.9254658385093167, 0.9772296015180265, 0.8746928746928747, 0.8861131520940485, 0.9165217391304348, 0.8852725793327909, 0.8266438941076003, 0.928, 0.9395973154362416]\n",
            "Confusion matrix for  6  mixtures is :  [[547.   8.   4.   3.   0.   0.   1.   0.  18.   1.]\n",
            " [ 37. 596.   2.   0.   0.   3.   0.   2.   8.   0.]\n",
            " [  0.   0. 515.   0.   0.   0.   0.   0.   0.   0.]\n",
            " [ 12.  14.   5. 534.   7.  23.   5.  35.   2.   6.]\n",
            " [ 14.   8.   1.  22. 603.  27.   5.  13.  13.  30.]\n",
            " [  0.   5.   7.   7.   6. 527.   3.   3.   9.   0.]\n",
            " [  1.   1.   1.   3.   0.   0. 544.  67.   2.   3.]\n",
            " [  5.   0.   3.   9.   5.   1.  49. 484.   0.  10.]\n",
            " [ 10.   4.   0.   0.   2.   1.   0.   0. 522.   4.]\n",
            " [  1.   4.   1.   0.   2.   1.   0.   1.   8. 560.]]\n"
          ]
        },
        {
          "output_type": "display_data",
          "data": {
            "text/plain": [
              "<Figure size 432x288 with 1 Axes>"
            ],
            "image/png": "[encoded data removed]"
          },
          "metadata": {
            "needs_background": "light"
          }
        }
      ],
      "source": [
        "train_dataset5,test_dataset5 = p4_split_dataset(p4dataset,0.9)\n",
        "y5 = np.zeros(6)\n",
        "x5 = np.array([1,2,3,4,5,6])\n",
        "for number_of_Gaussian in x5:\n",
        "  Means5,Pi5 = p4_GMM_training(train_dataset5,5,number_of_Gaussian)\n",
        "  accuracy5,confusion_matrix5 = p4_GMM_testing(test_dataset5,10,Means5,Pi5,number_of_Gaussian)\n",
        "  TP5=[]\n",
        "  TN5=[]\n",
        "  FP5=[]\n",
        "  FN5=[]\n",
        "  F15=[]\n",
        "  for i in range(classes):\n",
        "    TP5.append(confusion_matrix5[i][i])\n",
        "    TN5.append(np.sum(confusion_matrix5)-np.sum(confusion_matrix5[i,:])-np.sum(confusion_matrix5[:,i])+confusion_matrix5[i][i])\n",
        "    FP5.append(np.sum(confusion_matrix5[i,:])-confusion_matrix5[i][i])\n",
        "    FN5.append(np.sum(confusion_matrix5[:,i])-confusion_matrix5[i][i])\n",
        "    F15.append((2*TP5[i])/(2*TP5[i] + FP5[i] + FN5[i]))\n",
        "  y5[number_of_Gaussian-1] = p4_get_likelihood(train_dataset5,Means5,Pi5,number_of_Gaussian)\n",
        "  print(\"Accuracy for \",number_of_Gaussian,\" mixtures is : \",accuracy5)\n",
        "  print(\"F1 scores \",number_of_Gaussian,\" mixtures is : \",F15)\n",
        "  print(\"Confusion matrix for \",number_of_Gaussian,\" mixtures is : \",confusion_matrix5)\n",
        "\n",
        "y5 = (y5-np.min(y5))/(np.max(y5)-np.min(y5))\n",
        "plt.plot(x5,y5) \n",
        "plt.title(\"Log likelihood for 90:10\") \n",
        "plt.ylabel(\"log likelihood\") \n",
        "plt.xlabel(\"Gaussian misture\") \n",
        "plt.show()"
      ]
    },
    {
      "cell_type": "markdown",
      "source": [
        "## Likelihood curve for EM for various models"
      ],
      "metadata": {
        "id": "zC7R1pC8c274"
      }
    },
    {
      "cell_type": "code",
      "source": [
        "fig, ax = plt.subplots()\n",
        "x=x1\n",
        "# Plot each dataset in its own subplot\n",
        "ax.plot(x, y1, color='blue',label = 'model 1')\n",
        "ax.plot(x, y2, color='red',label = 'model 2')\n",
        "ax.plot(x, y3, color='green',label = 'model 3')\n",
        "ax.plot(x, y4, color='purple',label = 'model 4')\n",
        "ax.plot(x, y5, color='orange',label = 'model 5')\n",
        "\n",
        "ax.set_xlabel('Gaussian Mixture')\n",
        "ax.set_ylabel('log likelihood')\n",
        "ax.set_title('log likelihood for different models P4')\n",
        "ax.legend()\n",
        "plt.show()"
      ],
      "metadata": {
        "colab": {
          "base_uri": "https://localhost:8080/",
          "height": 295
        },
        "id": "IbDC555ydLlq",
        "outputId": "84543700-ce43-4250-f119-204302862cef"
      },
      "execution_count": null,
      "outputs": [
        {
          "output_type": "display_data",
          "data": {
            "text/plain": [
              "<Figure size 432x288 with 1 Axes>"
            ],
            "image/png": "[encoded data removed]"
          },
          "metadata": {
            "needs_background": "light"
          }
        }
      ]
    },
    {
      "cell_type": "markdown",
      "source": [
        "## ROC curve for different models"
      ],
      "metadata": {
        "id": "OyERmMiAujrW"
      }
    },
    {
      "cell_type": "code",
      "source": [
        "# Converting to required dataset format\n",
        "req_dtst = dataset[:,:-1]/255\n",
        "y = dataset[:,-1]\n",
        "y=y.astype(int)\n",
        "req_dtst = np.column_stack((y,req_dtst,))\n",
        "req_dtst"
      ],
      "metadata": {
        "colab": {
          "base_uri": "https://localhost:8080/"
        },
        "id": "M8O5sYFQwNT9",
        "outputId": "bff38485-5ea9-41c7-9da0-49d50a80d596"
      },
      "execution_count": 581,
      "outputs": [
        {
          "output_type": "execute_result",
          "data": {
            "text/plain": [
              "array([[0., 1., 1., ..., 1., 1., 1.],\n",
              "       [0., 1., 1., ..., 1., 1., 1.],\n",
              "       [0., 1., 1., ..., 1., 1., 1.],\n",
              "       ...,\n",
              "       [9., 1., 1., ..., 1., 1., 1.],\n",
              "       [9., 1., 1., ..., 1., 1., 1.],\n",
              "       [9., 1., 1., ..., 1., 1., 1.]])"
            ]
          },
          "metadata": {},
          "execution_count": 581
        }
      ]
    },
    {
      "cell_type": "code",
      "source": [
        "def ROC_curve(count):\n",
        "  classes = 2\n",
        "  # creating training datas for different class\n",
        "  temp = req_dtst[0:count,:]\n",
        "  lst = []\n",
        "  ans = []\n",
        "  for i in range(classes):\n",
        "    x1 = temp[np.where(temp[:,0]==i)]\n",
        "    x = x1[:,1:]\n",
        "    y = x1[:,0]\n",
        "    y=y.reshape((y.shape[0],1))\n",
        "    lst.append(x)\n",
        "    ans.append(y)\n",
        "  l = np.row_stack((lst[0],lst[1]))\n",
        "  m = np.row_stack((ans[0],ans[1]))\n",
        "  mean=[]   # 10 features' mean for each classes\n",
        "  for i in range(classes):\n",
        "    a=lst[i]\n",
        "    a = a.mean(axis=0)\n",
        "    mean.append(a)\n",
        "  TPR=[]\n",
        "  FPR=[]\n",
        "  for j in range(10):\n",
        "    threshold=(j-5)/100\n",
        "    TP=0\n",
        "    FP=0\n",
        "    TN=0\n",
        "    FN=0\n",
        "    for i in range(l.shape[0]):\n",
        "      v = (l[i]-mean[0])\n",
        "      v = np.power(v,2)\n",
        "      k = 0.5 * np.sum(v)\n",
        "      k1 = math.exp(-k)\n",
        "      v = (l[i]-mean[1])\n",
        "      v = np.power(v,2)\n",
        "      k = 0.5 * np.sum(v)\n",
        "      k2 = math.exp(-k)\n",
        "      if k1-k2>threshold:\n",
        "        k=1\n",
        "      else:\n",
        "        k=0\n",
        "      if k==int(m[i][0]) and k==1:\n",
        "        TP+=1\n",
        "      elif k==int(m[i][0]) and k==0:\n",
        "        TN+=1\n",
        "      elif k!=int(m[i][0]) and k==1:\n",
        "        FP+=1\n",
        "      else:\n",
        "        FN+=1\n",
        "      # print(TP)\n",
        "      # print(TN)\n",
        "      # print(FP)\n",
        "      # print(FN)\n",
        "    TPR.append(TP/(TP+FN))\n",
        "    FPR.append(FP/(FP+TN))\n",
        "  plt.plot(TPR,FPR)\n",
        "  return TPR,FPR"
      ],
      "metadata": {
        "id": "a7Uf8bDWujrX"
      },
      "execution_count": 601,
      "outputs": []
    },
    {
      "cell_type": "code",
      "source": [
        "x1,y1 = ROC_curve(12000) # model 1 20:80"
      ],
      "metadata": {
        "id": "NVLUWZMuujrY"
      },
      "execution_count": null,
      "outputs": []
    },
    {
      "cell_type": "code",
      "source": [
        "x2,y2=ROC_curve(18000) # model 1 30:70"
      ],
      "metadata": {
        "id": "XYOVkR-IujrY"
      },
      "execution_count": 584,
      "outputs": []
    },
    {
      "cell_type": "code",
      "source": [
        "x3,y3=ROC_curve(30000) # model 1 50:50"
      ],
      "metadata": {
        "id": "CAhb2Pt8ujrY"
      },
      "execution_count": 585,
      "outputs": []
    },
    {
      "cell_type": "code",
      "source": [
        "x4,y4=ROC_curve(42000) # model 1 70:30"
      ],
      "metadata": {
        "id": "V6FBvJQUujrY"
      },
      "execution_count": 586,
      "outputs": []
    },
    {
      "cell_type": "code",
      "source": [
        "x5,y5=ROC_curve(54000) # model 1 90:10"
      ],
      "metadata": {
        "id": "jsHiCFmuujrY"
      },
      "execution_count": 587,
      "outputs": []
    },
    {
      "cell_type": "code",
      "source": [
        "fig, ax = plt.subplots()\n",
        "# Plot each dataset in its own subplot\n",
        "ax.plot(x1, y1, color='blue',label = 'model 1')\n",
        "ax.plot(x1, y2, color='red',label = 'model 2')\n",
        "ax.plot(x1, y3, color='green',label = 'model 3')\n",
        "ax.plot(x1, y4, color='purple',label = 'model 4')\n",
        "ax.plot(x1, y5, color='orange',label = 'model 5')\n",
        "\n",
        "ax.set_xlabel('Gaussian Mixture')\n",
        "ax.set_ylabel('log likelihood')\n",
        "ax.set_title('log likelihood for different models')\n",
        "ax.legend()\n",
        "plt.show()"
      ],
      "metadata": {
        "colab": {
          "base_uri": "https://localhost:8080/",
          "height": 295
        },
        "outputId": "c9cbc4a9-c261-4458-9f51-b1fbdf023ca9",
        "id": "vsQhZCYsujrY"
      },
      "execution_count": 588,
      "outputs": [
        {
          "output_type": "display_data",
          "data": {
            "text/plain": [
              "<Figure size 432x288 with 1 Axes>"
            ],
            "image/png": "[encoded data removed]"
          },
          "metadata": {
            "needs_background": "light"
          }
        }
      ]
    },
    {
      "cell_type": "markdown",
      "source": [
        "# Q5"
      ],
      "metadata": {
        "id": "33eP6J0nGhrz"
      }
    },
    {
      "cell_type": "markdown",
      "source": [
        "## Importing data"
      ],
      "metadata": {
        "id": "8iz29ul6Gqs4"
      }
    },
    {
      "cell_type": "code",
      "source": [
        "import math"
      ],
      "metadata": {
        "id": "vl5UnsxicWMy"
      },
      "execution_count": 428,
      "outputs": []
    },
    {
      "cell_type": "code",
      "source": [
        "#below where the file is in gdrive, change with your\n",
        "data_path = \"/content/drive/MyDrive/Prnn/\"\n",
        "dataset = np.loadtxt(data_path + 'PCA_MNIST.csv', delimiter=',',skiprows=1)"
      ],
      "metadata": {
        "id": "V8MTjFzYGjFB"
      },
      "execution_count": 429,
      "outputs": []
    },
    {
      "cell_type": "code",
      "source": [
        "dataset.shape"
      ],
      "metadata": {
        "colab": {
          "base_uri": "https://localhost:8080/"
        },
        "id": "UpTfzfj7a3ve",
        "outputId": "a200d71d-62fa-44dd-e147-7c0326f0bfcb"
      },
      "execution_count": 430,
      "outputs": [
        {
          "output_type": "execute_result",
          "data": {
            "text/plain": [
              "(60000, 11)"
            ]
          },
          "metadata": {},
          "execution_count": 430
        }
      ]
    },
    {
      "cell_type": "code",
      "source": [
        "# Normalising dataset needed to prevent exponent going to zero\n",
        "for i in range(1,dataset.shape[1]):\n",
        "  dataset[:,i] = (dataset[:,i]-dataset[:,i].min())/(dataset[:,i].max()-dataset[:,i].min())"
      ],
      "metadata": {
        "id": "i06W-5mucvMk"
      },
      "execution_count": 431,
      "outputs": []
    },
    {
      "cell_type": "code",
      "source": [
        "#dataset[:,4].min()"
      ],
      "metadata": {
        "id": "SrAExnMMdwK4"
      },
      "execution_count": 432,
      "outputs": []
    },
    {
      "cell_type": "markdown",
      "source": [
        "## Data prep and functions for GMM"
      ],
      "metadata": {
        "id": "_b_xEshWvgb2"
      }
    },
    {
      "cell_type": "code",
      "source": [
        "def p5_split_dataset(dataset,train_ratio):\n",
        "  classes = np.unique(dataset[:,-1])\n",
        "  dataset_size = dataset.shape[0]\n",
        "  count = int(train_ratio*(dataset_size))\n",
        "\n",
        "  np.random.shuffle(dataset)\n",
        "  train_dataset, test_dataset = dataset[:count,:], dataset[count:,:]\n",
        "\n",
        "  return train_dataset,test_dataset"
      ],
      "metadata": {
        "id": "q-aELN1fY9rG"
      },
      "execution_count": 433,
      "outputs": []
    },
    {
      "cell_type": "code",
      "source": [
        "def p5_normalize_data(dataset):\n",
        "  row_Max = np.amax(dataset[:,:-1], axis=0)\n",
        "  row_Min = np.amin(dataset[:,:-1], axis=0)\n",
        "  dataset = np.c_[(dataset[:,:-1]-row_Min)/(row_Max-row_Min),dataset[:,-1]]\n",
        "  return dataset"
      ],
      "metadata": {
        "id": "s14eBuuRc2jI"
      },
      "execution_count": 434,
      "outputs": []
    },
    {
      "cell_type": "code",
      "source": [
        "def p5_GMM_training(train_dataset,epochs,number_of_Gaussian):\n",
        "  min_class = int(np.min(train_dataset[:,-1]))\n",
        "  classes = int(len(np.unique(train_dataset[:,-1])))\n",
        "  dimension = train_dataset.shape[1]-1\n",
        "  Const = 1/np.power(2*math.pi,dimension/2)\n",
        "\n",
        "\n",
        "  Category_wise_train_data = []\n",
        "  for i in range(classes):\n",
        "    Category_wise_train_data.append(train_dataset[train_dataset[:,-1]==(i+min_class)][:,:-1])\n",
        "  \n",
        "  Means = []\n",
        "  Variance = []\n",
        "  Pi = []\n",
        "    \n",
        "  for digit_class in range(classes): \n",
        "    Category_wise_epochs = 0\n",
        "    Category_wise_Means = np.random.uniform(0, 1,(dimension,number_of_Gaussian)) #np.zeros((dimension,number_of_Gaussian))\n",
        "    Category_wise_Variance = np.identity(dimension)\n",
        "    Category_wise_Variance = np.dstack([Category_wise_Variance]*number_of_Gaussian)\n",
        "\n",
        "    Category_wise_Pi = np.ones(number_of_Gaussian)/number_of_Gaussian\n",
        "        \n",
        "    \n",
        "    for Category_wise_epochs in range(epochs):\n",
        "        # Calculating inverse of co-variance matrix\n",
        "        Category_wise_Variance_inverse = np.identity(dimension)\n",
        "        Category_wise_Variance_inverse = np.dstack([Category_wise_Variance_inverse]*number_of_Gaussian)\n",
        "\n",
        "        for i in range(number_of_Gaussian):\n",
        "            Category_wise_Variance_inverse[:,:,i] = np.linalg.inv(Category_wise_Variance[:,:,i])\n",
        "\n",
        "\n",
        "        # calculating determinant\n",
        "        Category_wise_Variance_det = np.zeros(number_of_Gaussian)\n",
        "\n",
        "        for i in range(number_of_Gaussian):\n",
        "            Category_wise_Variance_det[i] = np.linalg.det(Category_wise_Variance[:,:,i])\n",
        "            \n",
        "        \n",
        "        Category_wise_Gamma = np.zeros((Category_wise_train_data[digit_class].shape[0],number_of_Gaussian))\n",
        "        \n",
        "        \n",
        "        \n",
        "        data_point_number = 0\n",
        "        #Calculating Gamma for each datapoint and each class\n",
        "        for data_point in Category_wise_train_data[digit_class]:\n",
        "            Denominator = 0.0\n",
        "            for k in range(number_of_Gaussian):\n",
        "                temp1 = data_point-Category_wise_Means[:,k]\n",
        "                temp2 = Category_wise_Variance_inverse[:,:,k]\n",
        "                temp3 = (-1/2)*(temp1.T @ temp2 @ temp1)\n",
        "                temp4 = np.exp(max(-20,temp3))\n",
        "                temp5 = np.power(Category_wise_Variance_det[k],-0.5)*temp4*Category_wise_Pi[k]\n",
        "                Denominator += temp5\n",
        "\n",
        "            Gamma_each_Gaussian = np.zeros(number_of_Gaussian)\n",
        "            for k in range(number_of_Gaussian):\n",
        "                temp6 = data_point-Category_wise_Means[:,k]\n",
        "\n",
        "                temp7 = Category_wise_Variance_inverse[:,:,k]\n",
        "                temp8 = (-1/2)*(temp6.T @ temp7 @ temp6)\n",
        "\n",
        "                temp9 = np.exp(max(-20,temp8))\n",
        "                Numerator = np.power(Category_wise_Variance_det[k],-0.5)*temp9*Category_wise_Pi[k]\n",
        "\n",
        "                Gamma_each_Gaussian[k] = (Numerator/Denominator)\n",
        "\n",
        "            Category_wise_Gamma[data_point_number,:] = Gamma_each_Gaussian\n",
        "            \n",
        "            data_point_number += 1\n",
        "            \n",
        "\n",
        "        \n",
        "        # Updating mean\n",
        "        \n",
        "        for k in range(number_of_Gaussian):\n",
        "            meank = np.zeros(dimension)\n",
        "            data_point_number = 0\n",
        "            #updating mean in one line\n",
        "            Category_wise_Means[:,k] = np.average(Category_wise_train_data[digit_class],axis = 0, weights=Category_wise_Gamma[:,k])\n",
        "        \n",
        "\n",
        "        \n",
        "        Nk = np.sum(Category_wise_Gamma,axis = 0)\n",
        "\n",
        "        for k in range(number_of_Gaussian):\n",
        "            variancek = np.zeros((dimension,dimension))\n",
        "            count = 0\n",
        "            data_point_number = 0\n",
        "            for data_point in Category_wise_train_data[digit_class]:\n",
        "                v = data_point-Category_wise_Means[:,k]\n",
        "                x = (v).reshape(v.shape[0],1)\n",
        "\n",
        "                variancek = variancek + (x @ x.T ) * Category_wise_Gamma[data_point_number,k]\n",
        "                data_point_number += 1\n",
        "                \n",
        "            Category_wise_Variance[:,:,k] = variancek/Nk[k]\n",
        "        \n",
        "        # Updating Pi\n",
        "        \n",
        "        \n",
        "        Category_wise_Pi = Nk/Category_wise_train_data[digit_class].shape[0]\n",
        "        \n",
        "    Means.append(Category_wise_Means)\n",
        "    Variance.append(Category_wise_Variance)\n",
        "    Pi.append(Category_wise_Pi)\n",
        "  return Means,Variance,Pi\n"
      ],
      "metadata": {
        "id": "_dZ3p72Cql2G"
      },
      "execution_count": 435,
      "outputs": []
    },
    {
      "cell_type": "code",
      "source": [
        "def p5_GMM_testing(test_dataset,classes,Means,Variance,Pi,number_of_Gaussian):\n",
        "  min_class = int(np.min(test_dataset[:,-1]))\n",
        "  dimension = test_dataset.shape[1]-1\n",
        "  Variance_inverse = []\n",
        "  # Calculating inverse of co-variance matrix\n",
        "  for i in range(len(Variance)):\n",
        "      \n",
        "      Category_wise_Variance = Variance[i]\n",
        "      \n",
        "      Category_wise_Variance_inverse = np.identity(dimension)\n",
        "      Category_wise_Variance_inverse = np.dstack([Category_wise_Variance_inverse]*number_of_Gaussian)\n",
        "      \n",
        "      for k in range(number_of_Gaussian):\n",
        "          Category_wise_Variance_inverse[:,:,k] = np.linalg.inv(Category_wise_Variance[:,:,k])\n",
        "      \n",
        "      Variance_inverse.append(Category_wise_Variance_inverse)\n",
        "\n",
        "  # Variance determinant\n",
        "  Variance_det = []\n",
        "\n",
        "  for i in range(len(Variance)):\n",
        "      \n",
        "      Category_wise_Variance = Variance[i]\n",
        "      \n",
        "      Category_wise_Variance_det = np.zeros(number_of_Gaussian)\n",
        "      \n",
        "      for k in range(number_of_Gaussian):\n",
        "          Category_wise_Variance_det[k] = np.linalg.det(Category_wise_Variance[:,:,k])\n",
        "      Variance_det.append(Category_wise_Variance_det)\n",
        "\n",
        "\n",
        "  confusion_matrix = np.zeros((classes,classes))\n",
        "  correct_predicted_labels = 0\n",
        "  for data_point in test_dataset:\n",
        "    probabilities = np.zeros(classes)\n",
        "\n",
        "    for Class in range(classes):\n",
        "      Inner_summation = 0.0\n",
        "\n",
        "      for k in range(number_of_Gaussian):\n",
        "        temp1 = data_point[:-1]-Means[Class][:,k]\n",
        "        temp1 = (temp1).reshape(temp1.shape[0],1)\n",
        "        temp2 = Variance_inverse[Class][:,:,k]\n",
        "        temp3 = (-1/2)*(temp1.T @ temp2 @ temp1)\n",
        "        temp4 = np.exp(temp3)\n",
        "        temp5 = np.power(Variance_det[Class][k],-0.5)*temp4*Pi[Class][k]\n",
        "        Inner_summation += temp5\n",
        "      probabilities[Class] = Inner_summation\n",
        "      \n",
        "    predicted_class = np.argmax(probabilities) + min_class\n",
        "    confusion_matrix[predicted_class][int(data_point[-1])] += 1\n",
        "    if(predicted_class==data_point[-1:]):\n",
        "      correct_predicted_labels += 1\n",
        "\n",
        "\n",
        "  accuracy = correct_predicted_labels/test_dataset.shape[0]\n",
        "\n",
        "  return accuracy,confusion_matrix"
      ],
      "metadata": {
        "id": "_GpmUUrx9_Tz"
      },
      "execution_count": 436,
      "outputs": []
    },
    {
      "cell_type": "code",
      "source": [
        "def p5_get_likelihood(dataset,Means,Variance,Pi,number_of_Gaussian):\n",
        "  min_class = int(np.min(dataset[:,-1]))\n",
        "  dimension = dataset.shape[1]-1\n",
        "  Variance_inverse = []\n",
        "  # Calculating inverse of co-variance matrix\n",
        "  for i in range(len(Variance)):\n",
        "      \n",
        "      Category_wise_Variance = Variance[i]\n",
        "      \n",
        "      Category_wise_Variance_inverse = np.identity(dimension)\n",
        "      Category_wise_Variance_inverse = np.dstack([Category_wise_Variance_inverse]*number_of_Gaussian)\n",
        "      \n",
        "      for k in range(number_of_Gaussian):\n",
        "          Category_wise_Variance_inverse[:,:,k] = np.linalg.inv(Category_wise_Variance[:,:,k])\n",
        "      \n",
        "      Variance_inverse.append(Category_wise_Variance_inverse)\n",
        "\n",
        "  # Variance determinant\n",
        "  Variance_det = []\n",
        "\n",
        "  for i in range(len(Variance)):\n",
        "      \n",
        "      Category_wise_Variance = Variance[i]\n",
        "      \n",
        "      Category_wise_Variance_det = np.zeros(number_of_Gaussian)\n",
        "      \n",
        "      for k in range(number_of_Gaussian):\n",
        "          Category_wise_Variance_det[k] = np.linalg.det(Category_wise_Variance[:,:,k])\n",
        "      Variance_det.append(Category_wise_Variance_det)\n",
        "\n",
        "  log_likelihood = 0.0\n",
        "  data_point_number = 0\n",
        "  \n",
        "  for data_point in dataset:\n",
        "      Inner_summation = 0.0\n",
        "      for k in range(number_of_Gaussian):\n",
        "          temp1 = data_point[:-1]-Means[int(data_point[-1])-min_class][:,k]\n",
        "          temp1 = (temp1).reshape(temp1.shape[0],1)\n",
        "          temp2 = Variance_inverse[int(data_point[-1])-min_class][:,:,k]\n",
        "          temp3 = (-1/2)*(temp1.T @ temp2 @ temp1)\n",
        "          temp4 = np.exp(temp3)\n",
        "          temp5 = np.power(Variance_det[int(data_point[-1])-min_class][k],-0.5)*temp4*Pi[int(data_point[-1])-min_class][k]\n",
        "          Inner_summation += temp5\n",
        "          \n",
        "      log_likelihood += np.log(Inner_summation)\n",
        "          \n",
        "      data_point_number += 1\n",
        "  \n",
        "  return log_likelihood"
      ],
      "metadata": {
        "id": "rfWyN95EfQp0"
      },
      "execution_count": 437,
      "outputs": []
    },
    {
      "cell_type": "markdown",
      "source": [
        "## Model 1 - 20:80"
      ],
      "metadata": {
        "id": "-yuEVruAG1Lf"
      }
    },
    {
      "cell_type": "code",
      "source": [
        "count = 12000"
      ],
      "metadata": {
        "id": "JICE9hribGIA"
      },
      "execution_count": 438,
      "outputs": []
    },
    {
      "cell_type": "code",
      "source": [
        "X_train = dataset[0:count,1:]"
      ],
      "metadata": {
        "id": "gMzr9-YNa00a"
      },
      "execution_count": 439,
      "outputs": []
    },
    {
      "cell_type": "code",
      "source": [
        "Y_train =dataset[0:count,0]"
      ],
      "metadata": {
        "id": "HoePX_gIdYim"
      },
      "execution_count": 440,
      "outputs": []
    },
    {
      "cell_type": "code",
      "source": [
        "X_test = dataset[count:,1:]"
      ],
      "metadata": {
        "id": "EhNLPynTdhH7"
      },
      "execution_count": 441,
      "outputs": []
    },
    {
      "cell_type": "code",
      "source": [
        "Y_test = dataset[count:,0]"
      ],
      "metadata": {
        "id": "vLo5qOpddlR-"
      },
      "execution_count": 442,
      "outputs": []
    },
    {
      "cell_type": "code",
      "source": [
        "X_test.shape"
      ],
      "metadata": {
        "colab": {
          "base_uri": "https://localhost:8080/"
        },
        "id": "9FJAwUR4bP4Y",
        "outputId": "d1ed9948-7893-4a0f-dc96-a53488827ca5"
      },
      "execution_count": 443,
      "outputs": [
        {
          "output_type": "execute_result",
          "data": {
            "text/plain": [
              "(48000, 10)"
            ]
          },
          "metadata": {},
          "execution_count": 443
        }
      ]
    },
    {
      "cell_type": "markdown",
      "source": [
        "### (i) Bayes Classifier"
      ],
      "metadata": {
        "id": "R5hREEtrbe1w"
      }
    },
    {
      "cell_type": "code",
      "source": [
        "classes = 10"
      ],
      "metadata": {
        "id": "BCpLEq-aSL3w"
      },
      "execution_count": 444,
      "outputs": []
    },
    {
      "cell_type": "code",
      "source": [
        "# creating training datas for different class\n",
        "temp = dataset[0:count,:]\n",
        "lst = []\n",
        "for i in range(classes):\n",
        "  x = temp[np.where(temp[:,0]==i)]\n",
        "  x = x[:,1:]\n",
        "  lst.append(x)"
      ],
      "metadata": {
        "id": "E4u9KXP6Fvw-"
      },
      "execution_count": 445,
      "outputs": []
    },
    {
      "cell_type": "code",
      "source": [
        "mean=[]   # 10 features' mean for each classes\n",
        "for i in range(classes):\n",
        "  a=lst[i]\n",
        "  a = a.mean(axis=0)\n",
        "  mean.append(a)"
      ],
      "metadata": {
        "id": "dDSJ3vPgbo50"
      },
      "execution_count": 446,
      "outputs": []
    },
    {
      "cell_type": "markdown",
      "source": [
        "#### Training"
      ],
      "metadata": {
        "id": "Abhp6HqBcC8K"
      }
    },
    {
      "cell_type": "code",
      "source": [
        "count = 0\n",
        "for i in range(X_train.shape[0]):\n",
        "  g = []  #class conditionals\n",
        "  for j in range(classes):\n",
        "    v = (X_train[i]-mean[j])\n",
        "    v = np.power(v,2)\n",
        "    k = 0.5 * np.sum(v)\n",
        "    k = math.exp(-k)\n",
        "    g.append(k)\n",
        "  k = g.index(max(g))\n",
        "  if k==int(Y_train[i]):\n",
        "    count=count+1"
      ],
      "metadata": {
        "id": "WgDcq-NjcCPQ"
      },
      "execution_count": 447,
      "outputs": []
    },
    {
      "cell_type": "code",
      "source": [
        "print('Train accuracy is:')\n",
        "print(count*100/X_train.shape[0])"
      ],
      "metadata": {
        "colab": {
          "base_uri": "https://localhost:8080/"
        },
        "id": "jwXcmnzfcR4m",
        "outputId": "f6c04cd8-40f9-4619-da62-523c2cc74b03"
      },
      "execution_count": 448,
      "outputs": [
        {
          "output_type": "stream",
          "name": "stdout",
          "text": [
            "Train accuracy is:\n",
            "82.45\n"
          ]
        }
      ]
    },
    {
      "cell_type": "markdown",
      "source": [
        "#### Testing"
      ],
      "metadata": {
        "id": "TM-Dm2mVedIx"
      }
    },
    {
      "cell_type": "code",
      "source": [
        "conf_matrix = np.zeros((classes,classes))\n",
        "count = 0\n",
        "for i in range(X_test.shape[0]):\n",
        "  g = []  #class conditionals\n",
        "  for j in range(classes):\n",
        "    v = (X_test[i]-mean[j])\n",
        "    v = np.power(v,2)\n",
        "    k = 0.5 * np.sum(v)\n",
        "    k = math.exp(-k)\n",
        "    g.append(k)\n",
        "  k = g.index(max(g))\n",
        "  if k==int(Y_test[i]):\n",
        "    count=count+1\n",
        "  v = int(Y_test[i])\n",
        "  conf_matrix[v][k] += 1"
      ],
      "metadata": {
        "id": "ixOtjuIIbsGt"
      },
      "execution_count": 449,
      "outputs": []
    },
    {
      "cell_type": "code",
      "source": [
        "print('Test accuracy is:')\n",
        "print(count*100/X_test.shape[0])"
      ],
      "metadata": {
        "colab": {
          "base_uri": "https://localhost:8080/"
        },
        "id": "sHCzWtsub19X",
        "outputId": "c0ae4b40-00aa-4a38-c207-c962ea66c088"
      },
      "execution_count": 450,
      "outputs": [
        {
          "output_type": "stream",
          "name": "stdout",
          "text": [
            "Test accuracy is:\n",
            "82.2375\n"
          ]
        }
      ]
    },
    {
      "cell_type": "code",
      "source": [
        "print('The confusion matrix for above testing data is:')\n",
        "print(conf_matrix.astype(int))"
      ],
      "metadata": {
        "colab": {
          "base_uri": "https://localhost:8080/"
        },
        "outputId": "0ad907a7-9880-46df-c0a7-d45cb7b1a424",
        "id": "heEVZZsRe_u-"
      },
      "execution_count": 451,
      "outputs": [
        {
          "output_type": "stream",
          "name": "stdout",
          "text": [
            "The confusion matrix for above testing data is:\n",
            "[[3893  311   16  362   16    4    6   18  112   62]\n",
            " [ 157 3989    2  506   15   27    1    0   18   85]\n",
            " [  37   39 3960  190    4  545    1   21    1    2]\n",
            " [  25    0   17 4220   42  131  106  258    1    0]\n",
            " [   0    1    2  239 4420  107    0    2    1   28]\n",
            " [   0   15   90  165  146 4339   17   18    9    1]\n",
            " [   3    1    0   46   13   15 3943  777    0    2]\n",
            " [   9    2   11  541   92   17 1519 2606    0    3]\n",
            " [ 267   35    8  261   77   50   17    9 3966  110]\n",
            " [  84   19    3  148  210   17   12   69  100 4138]]\n"
          ]
        }
      ]
    },
    {
      "cell_type": "code",
      "source": [
        "# Storing True positive True negative, False Positive, False negative and F values in a list scores\n",
        "TP=[]\n",
        "TN=[]\n",
        "FP=[]\n",
        "FN=[]\n",
        "F1=[]\n",
        "for i in range(classes):\n",
        "  TP.append(conf_matrix[i][i])\n",
        "  TN.append(np.sum(conf_matrix)-np.sum(conf_matrix[i,:])-np.sum(conf_matrix[:,i])+conf_matrix[i][i])\n",
        "  FP.append(np.sum(conf_matrix[i,:])-conf_matrix[i][i])\n",
        "  FN.append(np.sum(conf_matrix[:,i])-conf_matrix[i][i])\n",
        "  F1.append((2*TP[i])/(2*TP[i] + FP[i] + FN[i]))"
      ],
      "metadata": {
        "id": "cYALbi6ye_u_"
      },
      "execution_count": 452,
      "outputs": []
    },
    {
      "cell_type": "code",
      "source": [
        "print('F1 scores for corresponding classes are:')\n",
        "print(F1)"
      ],
      "metadata": {
        "colab": {
          "base_uri": "https://localhost:8080/"
        },
        "outputId": "280b5917-c388-4c31-e206-609124a223e3",
        "id": "L-SAYXTde_vA"
      },
      "execution_count": 453,
      "outputs": [
        {
          "output_type": "stream",
          "name": "stdout",
          "text": [
            "F1 scores for corresponding classes are:\n",
            "[0.8394609164420486, 0.8660442900564481, 0.888988663149624, 0.7353197421153511, 0.8988307066598882, 0.8633107839235973, 0.7566685856841298, 0.6076008393564933, 0.8805506216696269, 0.8965442530603401]\n"
          ]
        }
      ]
    },
    {
      "cell_type": "markdown",
      "source": [
        "### (ii) Logistic regression"
      ],
      "metadata": {
        "id": "QbdmhABifFLO"
      }
    },
    {
      "cell_type": "code",
      "source": [
        "# Run this only once\n",
        "tmp = np.ones((X_train.shape[0],1))  # Creating augmented data\n",
        "X_train=np.column_stack((X_train,tmp))\n",
        "X_train.shape"
      ],
      "metadata": {
        "colab": {
          "base_uri": "https://localhost:8080/"
        },
        "id": "UFHiZ62-fHnP",
        "outputId": "ba0d057d-7028-43d6-964d-0afbee264a6f"
      },
      "execution_count": 454,
      "outputs": [
        {
          "output_type": "execute_result",
          "data": {
            "text/plain": [
              "(12000, 11)"
            ]
          },
          "metadata": {},
          "execution_count": 454
        }
      ]
    },
    {
      "cell_type": "code",
      "source": [
        "# Run this only once\n",
        "tmp = np.ones((X_test.shape[0],1))  # Creating augmented data\n",
        "X_test=np.column_stack((X_test,tmp))\n",
        "X_test.shape"
      ],
      "metadata": {
        "colab": {
          "base_uri": "https://localhost:8080/"
        },
        "id": "k72tj2y8fPPL",
        "outputId": "da7ce106-fe17-409b-9e4a-f39edc09cceb"
      },
      "execution_count": 455,
      "outputs": [
        {
          "output_type": "execute_result",
          "data": {
            "text/plain": [
              "(48000, 11)"
            ]
          },
          "metadata": {},
          "execution_count": 455
        }
      ]
    },
    {
      "cell_type": "markdown",
      "source": [
        "#### Training"
      ],
      "metadata": {
        "id": "gqfRLMHPfVNs"
      }
    },
    {
      "cell_type": "code",
      "source": [
        "classes = 10"
      ],
      "metadata": {
        "id": "MxtSbvOOhpXe"
      },
      "execution_count": 456,
      "outputs": []
    },
    {
      "cell_type": "code",
      "source": [
        "W=[]\n",
        "for i in range(10):\n",
        "  W.append(np.ones((11,1))/11)"
      ],
      "metadata": {
        "id": "F6LEu1IKhW3C"
      },
      "execution_count": 457,
      "outputs": []
    },
    {
      "cell_type": "code",
      "source": [
        "def calc_loss(X,W,j):\n",
        "  X=X.reshape((X.shape[0],1))\n",
        "  # calculating probabilities of each class\n",
        "  e=[]                        # exponent\n",
        "  g = []                      # probabilities (softmax)\n",
        "  grad = []                   # gradient addition for this image\n",
        "  for i in range(classes):\n",
        "    e.append(math.exp(W[i].T@X))\n",
        "  k = sum(e)\n",
        "  for i in range(classes):\n",
        "    g.append(e[i]/k)\n",
        "  loss = -1*math.log(g[j])     # loss for 1 image\n",
        "  for i in range(classes):\n",
        "    if i!=j:\n",
        "      grad.append(-g[i]*X.reshape(X.shape[0]))\n",
        "    else:\n",
        "      grad.append((1-g[i])*X.reshape(X.shape[0]))\n",
        "  return loss,grad"
      ],
      "metadata": {
        "id": "10c79WcceQGz"
      },
      "execution_count": 458,
      "outputs": []
    },
    {
      "cell_type": "code",
      "source": [
        "def train_epoch1():\n",
        "  final_loss = 0\n",
        "  final_grad = np.zeros((11,classes))\n",
        "  for i in range(X_train.shape[0]):\n",
        "    loss,grad = calc_loss(X_train[i,:],W,int(Y_train[i]))\n",
        "    final_loss =final_loss + loss\n",
        "    final_grad = final_grad + np.stack(grad,axis = 1)\n",
        "  return final_loss,final_grad"
      ],
      "metadata": {
        "id": "eFsX079mf9nV"
      },
      "execution_count": 459,
      "outputs": []
    },
    {
      "cell_type": "code",
      "source": [
        "epochs = 100\n",
        "alpha = 10\n",
        "prev_loss = 0\n",
        "for i in range(epochs):\n",
        "  loss,grad = train_epoch1()\n",
        "  for j in range(classes):\n",
        "    gradient = grad[:,j].reshape(grad[:,j].shape[0],1)\n",
        "    if prev_loss<loss:\n",
        "      alpha = (alpha/10)\n",
        "    W[j]=W[j]+alpha*gradient/np.linalg.norm(gradient)\n",
        "    prev_loss = loss\n",
        "  print('loss in',i,'epoch is',loss/X_train.shape[0])"
      ],
      "metadata": {
        "id": "Mn8Faw2we4qU",
        "colab": {
          "base_uri": "https://localhost:8080/"
        },
        "outputId": "c6f21c6c-69b2-48e0-c287-3201ac0e443e"
      },
      "execution_count": 460,
      "outputs": [
        {
          "output_type": "stream",
          "name": "stdout",
          "text": [
            "loss in 0 epoch is 2.302585092994423\n",
            "loss in 1 epoch is 2.130593598610695\n",
            "loss in 2 epoch is 2.3434817993732517\n",
            "loss in 3 epoch is 2.229246794007968\n",
            "loss in 4 epoch is 2.126608921883459\n",
            "loss in 5 epoch is 2.0384540994554485\n",
            "loss in 6 epoch is 1.9672408591304527\n",
            "loss in 7 epoch is 1.912120238241765\n",
            "loss in 8 epoch is 1.8710408201685522\n",
            "loss in 9 epoch is 1.8417181937393097\n",
            "loss in 10 epoch is 1.8168435144313402\n",
            "loss in 11 epoch is 1.7925311486594628\n",
            "loss in 12 epoch is 1.7684778313581155\n",
            "loss in 13 epoch is 1.7446912944436086\n",
            "loss in 14 epoch is 1.7211745236533251\n",
            "loss in 15 epoch is 1.6979298953315698\n",
            "loss in 16 epoch is 1.6749596204140171\n",
            "loss in 17 epoch is 1.6522657857759433\n",
            "loss in 18 epoch is 1.629850355735488\n",
            "loss in 19 epoch is 1.607715165792077\n",
            "loss in 20 epoch is 1.5858619163670058\n",
            "loss in 21 epoch is 1.564292166546598\n",
            "loss in 22 epoch is 1.543007328219972\n",
            "loss in 23 epoch is 1.522008660628259\n",
            "loss in 24 epoch is 1.5012972653647882\n",
            "loss in 25 epoch is 1.480874081879974\n",
            "loss in 26 epoch is 1.4607398835091856\n",
            "loss in 27 epoch is 1.44089527406294\n",
            "loss in 28 epoch is 1.4213406849947166\n",
            "loss in 29 epoch is 1.4020763731699093\n",
            "loss in 30 epoch is 1.3831024192445198\n",
            "loss in 31 epoch is 1.3644187266632546\n",
            "loss in 32 epoch is 1.346025021276764\n",
            "loss in 33 epoch is 1.327920851575417\n",
            "loss in 34 epoch is 1.3101055895296303\n",
            "loss in 35 epoch is 1.292578432023536\n",
            "loss in 36 epoch is 1.275338402863044\n",
            "loss in 37 epoch is 1.2583843553358756\n",
            "loss in 38 epoch is 1.2417149752970937\n",
            "loss in 39 epoch is 1.2253287847503624\n",
            "loss in 40 epoch is 1.2092241458928108\n",
            "loss in 41 epoch is 1.1933992655884296\n",
            "loss in 42 epoch is 1.177852200233816\n",
            "loss in 43 epoch is 1.162580860978354\n",
            "loss in 44 epoch is 1.1475830192604295\n",
            "loss in 45 epoch is 1.1328563126205715\n",
            "loss in 46 epoch is 1.1183982507529275\n",
            "loss in 47 epoch is 1.1042062217563884\n",
            "loss in 48 epoch is 1.0902774985481478\n",
            "loss in 49 epoch is 1.0766092454028977\n",
            "loss in 50 epoch is 1.0631985245827094\n",
            "loss in 51 epoch is 1.0500423030240564\n",
            "loss in 52 epoch is 1.0371374590504798\n",
            "loss in 53 epoch is 1.0244807890807308\n",
            "loss in 54 epoch is 1.0120690143053293\n",
            "loss in 55 epoch is 0.9998987873050474\n",
            "loss in 56 epoch is 0.9879666985892808\n",
            "loss in 57 epoch is 0.9762692830313127\n",
            "loss in 58 epoch is 0.9648030261837353\n",
            "loss in 59 epoch is 0.9535643704540884\n",
            "loss in 60 epoch is 0.9425497211304548\n",
            "loss in 61 epoch is 0.9317554522370698\n",
            "loss in 62 epoch is 0.9211779122207729\n",
            "loss in 63 epoch is 0.9108134294398404\n",
            "loss in 64 epoch is 0.900658317481401\n",
            "loss in 65 epoch is 0.8907088802447444\n",
            "loss in 66 epoch is 0.8809614168949743\n",
            "loss in 67 epoch is 0.8714122265123965\n",
            "loss in 68 epoch is 0.8620576128847439\n",
            "loss in 69 epoch is 0.8528938891434139\n",
            "loss in 70 epoch is 0.843917385587572\n",
            "loss in 71 epoch is 0.8351244676431042\n",
            "loss in 72 epoch is 0.8265116220514509\n",
            "loss in 73 epoch is 0.8180758820650323\n",
            "loss in 74 epoch is 0.8098172876372727\n",
            "loss in 75 epoch is 0.8017523915628081\n",
            "loss in 76 epoch is 0.7939870640451524\n",
            "loss in 77 epoch is 0.7868097552889454\n",
            "loss in 78 epoch is 0.7801520548907666\n",
            "loss in 79 epoch is 0.7737821431834985\n",
            "loss in 80 epoch is 0.767661709320405\n",
            "loss in 81 epoch is 0.7618260938342725\n",
            "loss in 82 epoch is 0.7562013854452819\n",
            "loss in 83 epoch is 0.7508368996344622\n",
            "loss in 84 epoch is 0.7455869574184814\n",
            "loss in 85 epoch is 0.7406204538152792\n",
            "loss in 86 epoch is 0.7357403135880315\n",
            "loss in 87 epoch is 0.7311101424313212\n",
            "loss in 88 epoch is 0.726504502152845\n",
            "loss in 89 epoch is 0.7221114363225112\n",
            "loss in 90 epoch is 0.7176952759011648\n",
            "loss in 91 epoch is 0.7134935019712637\n",
            "loss in 92 epoch is 0.7092469330227728\n",
            "loss in 93 epoch is 0.7052352421601548\n",
            "loss in 94 epoch is 0.7011719695928039\n",
            "loss in 95 epoch is 0.6973886864347092\n",
            "loss in 96 epoch is 0.6935266913309678\n",
            "loss in 97 epoch is 0.6899361404130772\n",
            "loss in 98 epoch is 0.6862225741534873\n",
            "loss in 99 epoch is 0.6827763078561697\n"
          ]
        }
      ]
    },
    {
      "cell_type": "code",
      "source": [
        "print('Empirical risk on train data is:')\n",
        "print(loss/X_train.shape[0])"
      ],
      "metadata": {
        "colab": {
          "base_uri": "https://localhost:8080/"
        },
        "id": "IxhT4JdEffub",
        "outputId": "2d049f01-ce09-4b2d-8213-d7563557bca2"
      },
      "execution_count": 461,
      "outputs": [
        {
          "output_type": "stream",
          "name": "stdout",
          "text": [
            "Empirical risk on train data is:\n",
            "0.6827763078561697\n"
          ]
        }
      ]
    },
    {
      "cell_type": "markdown",
      "source": [
        "#### Testing"
      ],
      "metadata": {
        "id": "hEK3VYZufm8m"
      }
    },
    {
      "cell_type": "code",
      "source": [
        "conf_matrix = np.zeros((classes,classes))\n",
        "count = 0\n",
        "loss = 0\n",
        "for i in range(X_test.shape[0]):\n",
        "  X = X_test[i,:]\n",
        "  X=X.reshape((X.shape[0],1))\n",
        "  # calculating probabilities of each class\n",
        "  e=[]                        # exponent\n",
        "  g = []                      # probabilities (softmax)\n",
        "  grad = []                   # gradient addition for this image\n",
        "  for j in range(classes):\n",
        "    e.append(math.exp(W[j].T@X))\n",
        "  k = sum(e)\n",
        "  for j in range(classes):\n",
        "    g.append(e[j]/k)\n",
        "  k = g.index(max(g))\n",
        "  if k==Y_test[i]:\n",
        "    count = count+1\n",
        "  v = int(Y_test[i])\n",
        "  conf_matrix[v][k] += 1\n",
        "\n",
        "  loss = loss - 1*math.log(g[v])"
      ],
      "metadata": {
        "id": "4gvVEIJJ8ysa"
      },
      "execution_count": 462,
      "outputs": []
    },
    {
      "cell_type": "code",
      "source": [
        "print('Test accuracy is:')\n",
        "print(count*100/X_test.shape[0])"
      ],
      "metadata": {
        "colab": {
          "base_uri": "https://localhost:8080/"
        },
        "id": "ts7fnCi2foEm",
        "outputId": "39c9d1d3-6527-4462-f6d5-4383e5fee852"
      },
      "execution_count": 463,
      "outputs": [
        {
          "output_type": "stream",
          "name": "stdout",
          "text": [
            "Test accuracy is:\n",
            "83.88958333333333\n"
          ]
        }
      ]
    },
    {
      "cell_type": "code",
      "source": [
        "print('Empirical risk on test data is:')\n",
        "print(loss/X_test.shape[0])"
      ],
      "metadata": {
        "colab": {
          "base_uri": "https://localhost:8080/"
        },
        "id": "rBxiw477AmBB",
        "outputId": "4a51a169-73f8-4c27-caf7-a3300c841458"
      },
      "execution_count": 464,
      "outputs": [
        {
          "output_type": "stream",
          "name": "stdout",
          "text": [
            "Empirical risk on test data is:\n",
            "0.6738436141861155\n"
          ]
        }
      ]
    },
    {
      "cell_type": "code",
      "source": [
        "print('The confusion matrix for above testing data is:')\n",
        "print(conf_matrix.astype(int))"
      ],
      "metadata": {
        "colab": {
          "base_uri": "https://localhost:8080/"
        },
        "outputId": "7f3ffea4-3f2d-4d99-9af1-92efac27d791",
        "id": "WgzsJzQ7g9MG"
      },
      "execution_count": 465,
      "outputs": [
        {
          "output_type": "stream",
          "name": "stdout",
          "text": [
            "The confusion matrix for above testing data is:\n",
            "[[4136  218    9  239    9    2    5   25   71   86]\n",
            " [ 302 3967    6  316   13   18    0    0   30  148]\n",
            " [  66   11 4300   41    2  312   17   49    0    2]\n",
            " [  38    1   49 4212   46  189   79  183    1    2]\n",
            " [   0    1    1  298 4303  123    1    1    2   70]\n",
            " [   0   11  110  137   93 4387   33    9   10   10]\n",
            " [  12    0   51   47   14   36 4051  554   33    2]\n",
            " [  23    1  115  577   78   30 1455 2516    0    5]\n",
            " [ 232   27   15  167   54   28   12    3 4148  114]\n",
            " [ 112    7    1  123  117   16   16   60  101 4247]]\n"
          ]
        }
      ]
    },
    {
      "cell_type": "code",
      "source": [
        "# Storing True positive True negative, False Positive, False negative and F values in a list scores\n",
        "TP=[]\n",
        "TN=[]\n",
        "FP=[]\n",
        "FN=[]\n",
        "F1=[]\n",
        "for i in range(classes):\n",
        "  TP.append(conf_matrix[i][i])\n",
        "  TN.append(np.sum(conf_matrix)-np.sum(conf_matrix[i,:])-np.sum(conf_matrix[:,i])+conf_matrix[i][i])\n",
        "  FP.append(np.sum(conf_matrix[i,:])-conf_matrix[i][i])\n",
        "  FN.append(np.sum(conf_matrix[:,i])-conf_matrix[i][i])\n",
        "  F1.append((2*TP[i])/(2*TP[i] + FP[i] + FN[i]))"
      ],
      "metadata": {
        "id": "Vu7_CWtAg9MH"
      },
      "execution_count": 466,
      "outputs": []
    },
    {
      "cell_type": "code",
      "source": [
        "print('F1 scores for corresponding classes are:')\n",
        "print(F1)"
      ],
      "metadata": {
        "colab": {
          "base_uri": "https://localhost:8080/"
        },
        "outputId": "42da71e2-0c33-4cdb-cf7a-8ab242caad41",
        "id": "F_lnR3UWg9MH"
      },
      "execution_count": 467,
      "outputs": [
        {
          "output_type": "stream",
          "name": "stdout",
          "text": [
            "F1 scores for corresponding classes are:\n",
            "[0.8509412611871207, 0.877266696152145, 0.9093792957597546, 0.7688235830975632, 0.903137789904502, 0.8826073835630218, 0.7739039067723756, 0.6136585365853658, 0.902131361461505, 0.8954248366013072]\n"
          ]
        }
      ]
    },
    {
      "cell_type": "markdown",
      "source": [
        "### (iii) GMM"
      ],
      "metadata": {
        "id": "1MHPfpTwv57h"
      }
    },
    {
      "cell_type": "code",
      "execution_count": null,
      "metadata": {
        "id": "40fa4ae3"
      },
      "outputs": [],
      "source": [
        "# data_path = \"/content/drive/MyDrive/Prnn/\"\n",
        "P5dataset = np.loadtxt('/content/drive/MyDrive/Prnn/PCA_MNIST.csv', delimiter=',', skiprows=1)\n",
        "# swapping column\n",
        "P5dataset = np.c_[ P5dataset[:,1:], P5dataset[:,0]]\n",
        "P5dataset = p5_normalize_data(P5dataset)"
      ]
    },
    {
      "cell_type": "code",
      "source": [
        "np.set_printoptions(suppress=True)"
      ],
      "metadata": {
        "id": "9gQwbOT9hhzO"
      },
      "execution_count": null,
      "outputs": []
    },
    {
      "cell_type": "code",
      "source": [
        "train_dataset1,test_dataset1 = p5_split_dataset(P5dataset,0.2)\n",
        "classes = 10\n",
        "y1 = np.zeros(6)\n",
        "x1 = np.array([1,2,3,4,5,6])\n",
        "for number_of_Gaussian in x1:\n",
        "  Means1,Variance1,Pi1 = p5_GMM_training(train_dataset1,5,number_of_Gaussian)\n",
        "  accuracy1,confusion_matrix1 = p5_GMM_testing(test_dataset1,10,Means1,Variance1,Pi1,number_of_Gaussian)\n",
        "  TP1=[]\n",
        "  TN1=[]\n",
        "  FP1=[]\n",
        "  FN1=[]\n",
        "  F11=[]\n",
        "  for i in range(classes):\n",
        "    TP1.append(confusion_matrix1[i][i])\n",
        "    TN1.append(np.sum(confusion_matrix1)-np.sum(confusion_matrix1[i,:])-np.sum(confusion_matrix1[:,i])+confusion_matrix1[i][i])\n",
        "    FP1.append(np.sum(confusion_matrix1[i,:])-confusion_matrix1[i][i])\n",
        "    FN1.append(np.sum(confusion_matrix1[:,i])-confusion_matrix1[i][i])\n",
        "    F11.append((2*TP1[i])/(2*TP1[i] + FP1[i] + FN1[i]))\n",
        "  y1[number_of_Gaussian-1] = p5_get_likelihood(train_dataset1,Means1,Variance1,Pi1,number_of_Gaussian)\n",
        "  print(\"Accuracy for \",number_of_Gaussian,\" mixtures is : \",accuracy1)\n",
        "  print(\"F1 scores \",number_of_Gaussian,\" mixtures is : \",F11)\n",
        "  print(\"Confusion matrix for \",number_of_Gaussian,\" mixtures is : \",confusion_matrix1)\n",
        "\n",
        "y1 = (y1-np.min(y1))/(np.max(y1)-np.min(y1))\n",
        "plt.plot(x1,y1) \n",
        "plt.title(\"Log likelihood for 20:80\") \n",
        "plt.xlabel(\"Gaussian misture\") \n",
        "plt.ylabel(\"log likelihood\") \n",
        "plt.show()"
      ],
      "metadata": {
        "id": "I5sZUF7eH7vb",
        "colab": {
          "base_uri": "https://localhost:8080/",
          "height": 1000
        },
        "outputId": "10da883d-7e51-459c-cdf4-b8069f9502c1"
      },
      "execution_count": null,
      "outputs": [
        {
          "output_type": "stream",
          "name": "stdout",
          "text": [
            "Accuracy for  1  mixtures is :  0.9397083333333334\n",
            "F1 scores  1  mixtures is :  [0.9362363919129082, 0.9568929612661391, 0.9821522864082797, 0.9246721561451662, 0.9454963908358615, 0.9533271240815482, 0.9132653061224489, 0.878618914861677, 0.9529229177444387, 0.9533502968617472]\n",
            "Confusion matrix for  1  mixtures is :  [[4515.   84.   80.   46.    4.    1.    1.    9.   75.   20.]\n",
            " [ 162. 4595.    7.    5.    0.    1.    1.    9.   26.    5.]\n",
            " [   1.    5. 4650.   14.    2.   20.    3.    3.    2.    1.]\n",
            " [  48.   36.   15. 4548.   42.   70.   32.  154.   51.   23.]\n",
            " [   1.   17.    0.   37. 4519.   91.    9.   26.   10.   63.]\n",
            " [   2.    5.    7.   31.  130. 4606.   11.   18.   38.    7.]\n",
            " [   1.    0.    0.   22.    2.    2. 4475.  483.    1.   47.]\n",
            " [   4.    5.    1.   91.   13.    0.  220. 4097.    5.   64.]\n",
            " [  58.   27.    6.   22.   31.   11.    1.    6. 4605.   70.]\n",
            " [  18.   19.    2.    2.   43.    6.   14.   21.   15. 4496.]]\n",
            "Accuracy for  2  mixtures is :  0.9474583333333333\n",
            "F1 scores  2  mixtures is :  [0.9440980881130507, 0.9576907044601918, 0.985531735135706, 0.9311255587159691, 0.9539941447093266, 0.9640033291718685, 0.9224590670373803, 0.9014590822584055, 0.958622835217256, 0.9562190104441397]\n",
            "Confusion matrix for  2  mixtures is :  [[4543.  102.   55.   37.    2.    0.    1.    4.   60.   10.]\n",
            " [ 158. 4595.    4.    6.    1.    0.    2.    9.   27.    1.]\n",
            " [   1.    3. 4666.    8.    2.   15.    4.    0.    2.    0.]\n",
            " [  43.   33.   23. 4583.   46.   69.   31.  107.   68.   23.]\n",
            " [   1.   13.    0.   31. 4562.   66.    8.   20.   12.   65.]\n",
            " [   2.    5.    6.   27.   93. 4633.    4.    5.   24.    5.]\n",
            " [   3.    0.    0.   19.    5.    4. 4479.  383.    2.   49.]\n",
            " [   2.    3.    0.   94.    7.    1.  216. 4263.    1.   45.]\n",
            " [  43.   22.    8.    9.   28.   12.    1.    4. 4622.   66.]\n",
            " [  14.   17.    6.    4.   40.    8.   21.   31.   10. 4532.]]\n",
            "Accuracy for  3  mixtures is :  0.9507083333333334\n",
            "F1 scores  3  mixtures is :  [0.9473574481392683, 0.9634854771784233, 0.9880839396815354, 0.9376782077393075, 0.9582161092007919, 0.9659410478075201, 0.921978476821192, 0.9030837004405287, 0.9613144758735441, 0.9606432501057978]\n",
            "Confusion matrix for  3  mixtures is :  [[4544.   65.   47.   32.    2.    1.    1.    8.   67.   16.]\n",
            " [ 153. 4644.    3.    5.    1.    0.    2.    9.   25.    5.]\n",
            " [   2.    0. 4685.    7.    2.   12.    3.    1.    2.    1.]\n",
            " [  43.   24.   14. 4604.   39.   68.   30.   97.   61.   22.]\n",
            " [   1.   13.    0.   30. 4598.   72.    8.   20.   12.   57.]\n",
            " [   1.    7.   13.   17.   75. 4637.    4.    6.   29.    4.]\n",
            " [   5.    0.    0.   19.    8.    2. 4455.  355.    2.   51.]\n",
            " [   2.    2.    0.   89.    5.    1.  247. 4305.    0.   57.]\n",
            " [  47.   23.    5.   12.   19.   11.    1.    5. 4622.   43.]\n",
            " [  12.   15.    1.    3.   37.    4.   16.   20.    8. 4540.]]\n",
            "Accuracy for  4  mixtures is :  0.9529583333333334\n",
            "F1 scores  4  mixtures is :  [0.9514380992080034, 0.9621722458285833, 0.9897819445907511, 0.9393815277493345, 0.959533964423177, 0.9674932277557825, 0.9266584260403791, 0.9102780117944398, 0.9640706126687435, 0.9592635699925933]\n",
            "Confusion matrix for  4  mixtures is :  [[4565.   71.   32.   40.    1.    0.    1.    5.   61.   10.]\n",
            " [ 156. 4642.    4.    7.    3.    1.    3.    9.   26.    5.]\n",
            " [   1.    0. 4698.    7.    2.   10.    4.    1.    1.    1.]\n",
            " [  31.   28.   10. 4587.   39.   63.   38.   86.   51.   15.]\n",
            " [   1.   10.    0.   29. 4612.   73.    9.   19.   13.   61.]\n",
            " [   2.    6.   13.   29.   65. 4643.    6.    4.   20.    2.]\n",
            " [   2.    0.    0.   16.    2.    1. 4498.  360.    2.   60.]\n",
            " [   2.    4.    0.   84.   10.    2.  192. 4322.    1.   53.]\n",
            " [  38.   14.    7.   15.   17.    9.    0.    4. 4642.   56.]\n",
            " [  12.   18.    4.    4.   35.    6.   16.   16.   11. 4533.]]\n",
            "Accuracy for  5  mixtures is :  0.9519791666666667\n",
            "F1 scores  5  mixtures is :  [0.9507034914017718, 0.9623483041178301, 0.989041095890411, 0.9365774203400183, 0.9600582483877679, 0.9665101721439749, 0.924584751882802, 0.9053740779768177, 0.9648921762683613, 0.9602956705385428]\n",
            "Confusion matrix for  5  mixtures is :  [[4561.   78.   33.   35.    2.    0.    2.    5.   56.   13.]\n",
            " [ 152. 4639.    5.    6.    1.    0.    3.   10.   26.    6.]\n",
            " [   2.    1. 4693.    7.    2.   12.    2.    1.    1.    1.]\n",
            " [  43.   22.   18. 4600.   35.   71.   26.  105.   64.   21.]\n",
            " [   2.   12.    0.   29. 4615.   73.   11.   21.   12.   53.]\n",
            " [   0.    5.   12.   24.   68. 4632.    5.    5.   24.    2.]\n",
            " [   2.    1.    0.   21.    3.    2. 4481.  356.    2.   58.]\n",
            " [   1.    2.    1.   84.    6.    3.  218. 4296.    3.   50.]\n",
            " [  33.   19.    6.    9.   14.    8.    2.    4. 4631.   45.]\n",
            " [  14.   14.    0.    3.   40.    7.   17.   23.    9. 4547.]]\n",
            "Accuracy for  6  mixtures is :  0.9541875\n",
            "F1 scores  6  mixtures is :  [0.952500260987577, 0.9643744821872411, 0.9899841855561413, 0.9379647550168075, 0.960598814845618, 0.9685836551508193, 0.9304735260594758, 0.9109098567818029, 0.9652092636826254, 0.961737113945399]\n",
            "Confusion matrix for  6  mixtures is :  [[4562.   66.   32.   38.    1.    1.    1.    5.   54.    9.]\n",
            " [ 153. 4656.    5.    5.    3.    0.    3.   10.   24.    4.]\n",
            " [   3.    0. 4695.    4.    3.    7.    4.    0.    1.    0.]\n",
            " [  34.   22.   17. 4604.   40.   72.   34.  100.   57.   19.]\n",
            " [   1.   10.    0.   28. 4620.   76.    9.   20.   11.   58.]\n",
            " [   1.    5.   12.   18.   62. 4640.    5.    6.   22.    2.]\n",
            " [   2.    1.    0.   15.    2.    0. 4490.  327.    1.   46.]\n",
            " [   3.    0.    0.   88.    5.    1.  199. 4325.    1.   48.]\n",
            " [  36.   20.    5.   13.   16.    9.    1.    6. 4647.   48.]\n",
            " [  15.   13.    2.    5.   34.    2.   21.   27.   10. 4562.]]\n"
          ]
        },
        {
          "output_type": "display_data",
          "data": {
            "text/plain": [
              "<Figure size 432x288 with 1 Axes>"
            ],
            "image/png": "[encoded data removed]"
          },
          "metadata": {
            "needs_background": "light"
          }
        }
      ]
    },
    {
      "cell_type": "markdown",
      "source": [
        "## Model 2 - 30:70"
      ],
      "metadata": {
        "id": "Kk4be0D-hA0P"
      }
    },
    {
      "cell_type": "code",
      "source": [
        "count = 18000"
      ],
      "metadata": {
        "id": "YPEIydowhZXQ"
      },
      "execution_count": 202,
      "outputs": []
    },
    {
      "cell_type": "code",
      "source": [
        "X_train = dataset[0:count,1:]"
      ],
      "metadata": {
        "id": "GIOvpGcShZXQ"
      },
      "execution_count": 203,
      "outputs": []
    },
    {
      "cell_type": "code",
      "source": [
        "Y_train =dataset[0:count,0]"
      ],
      "metadata": {
        "id": "6i_7sKbhhZXR"
      },
      "execution_count": 204,
      "outputs": []
    },
    {
      "cell_type": "code",
      "source": [
        "X_test = dataset[count:,1:]"
      ],
      "metadata": {
        "id": "TgnWhZtjhZXR"
      },
      "execution_count": 205,
      "outputs": []
    },
    {
      "cell_type": "code",
      "source": [
        "Y_test = dataset[count:,0]"
      ],
      "metadata": {
        "id": "z8N9UMROhZXR"
      },
      "execution_count": 206,
      "outputs": []
    },
    {
      "cell_type": "code",
      "source": [
        "X_test.shape"
      ],
      "metadata": {
        "colab": {
          "base_uri": "https://localhost:8080/"
        },
        "outputId": "63c2ff6f-1cf6-4218-c805-326d1a362db3",
        "id": "Jr4qzmmUhZXS"
      },
      "execution_count": 207,
      "outputs": [
        {
          "output_type": "execute_result",
          "data": {
            "text/plain": [
              "(42000, 10)"
            ]
          },
          "metadata": {},
          "execution_count": 207
        }
      ]
    },
    {
      "cell_type": "markdown",
      "source": [
        "### (i) Bayes Classifier"
      ],
      "metadata": {
        "id": "BqbI1zBkhZXT"
      }
    },
    {
      "cell_type": "code",
      "source": [
        "classes = 10"
      ],
      "metadata": {
        "id": "k4Yf6yJEhZXT"
      },
      "execution_count": null,
      "outputs": []
    },
    {
      "cell_type": "code",
      "source": [
        "# creating training datas for different class\n",
        "temp = dataset[0:count,:]\n",
        "lst = []\n",
        "for i in range(classes):\n",
        "  x = temp[np.where(temp[:,0]==i)]\n",
        "  x = x[:,1:]\n",
        "  lst.append(x)"
      ],
      "metadata": {
        "id": "SQSHBrTchZXT"
      },
      "execution_count": null,
      "outputs": []
    },
    {
      "cell_type": "code",
      "source": [
        "mean=[]   # 10 features' mean for each classes\n",
        "for i in range(classes):\n",
        "  a=lst[i]\n",
        "  a = a.mean(axis=0)\n",
        "  mean.append(a)"
      ],
      "metadata": {
        "id": "HcgfJIN4hZXT"
      },
      "execution_count": null,
      "outputs": []
    },
    {
      "cell_type": "markdown",
      "source": [
        "#### Training"
      ],
      "metadata": {
        "id": "hVW6uq4UhZXU"
      }
    },
    {
      "cell_type": "code",
      "source": [
        "count = 0\n",
        "for i in range(X_train.shape[0]):\n",
        "  g = []  #class conditionals\n",
        "  for j in range(classes):\n",
        "    v = (X_train[i]-mean[j])\n",
        "    v = np.power(v,2)\n",
        "    k = 0.5 * np.sum(v)\n",
        "    k = math.exp(-k)\n",
        "    g.append(k)\n",
        "  k = g.index(max(g))\n",
        "  if k==int(Y_train[i]):\n",
        "    count=count+1"
      ],
      "metadata": {
        "id": "w5ufGN7fhZXU"
      },
      "execution_count": null,
      "outputs": []
    },
    {
      "cell_type": "code",
      "source": [
        "print('Train accuracy is:')\n",
        "print(count*100/X_train.shape[0])"
      ],
      "metadata": {
        "colab": {
          "base_uri": "https://localhost:8080/"
        },
        "outputId": "e110cfab-e96a-4e36-9d0e-2fd0b47dad1b",
        "id": "QpkO35CFhZXU"
      },
      "execution_count": null,
      "outputs": [
        {
          "output_type": "stream",
          "name": "stdout",
          "text": [
            "Train accuracy is:\n",
            "81.71111111111111\n"
          ]
        }
      ]
    },
    {
      "cell_type": "markdown",
      "source": [
        "#### Testing"
      ],
      "metadata": {
        "id": "5OlG2t7QhZXU"
      }
    },
    {
      "cell_type": "code",
      "source": [
        "conf_matrix = np.zeros((classes,classes))\n",
        "count = 0\n",
        "for i in range(X_test.shape[0]):\n",
        "  g = []  #class conditionals\n",
        "  for j in range(classes):\n",
        "    v = (X_test[i]-mean[j])\n",
        "    v = np.power(v,2)\n",
        "    k = 0.5 * np.sum(v)\n",
        "    k = math.exp(-k)\n",
        "    g.append(k)\n",
        "  k = g.index(max(g))\n",
        "  if k==int(Y_test[i]):\n",
        "    count=count+1\n",
        "  v = int(Y_test[i])\n",
        "  conf_matrix[v][k] += 1"
      ],
      "metadata": {
        "id": "8Wtjzbp0hZXV"
      },
      "execution_count": null,
      "outputs": []
    },
    {
      "cell_type": "code",
      "source": [
        "print('Test accuracy is:')\n",
        "print(count*100/X_test.shape[0])"
      ],
      "metadata": {
        "colab": {
          "base_uri": "https://localhost:8080/"
        },
        "outputId": "5de5b82a-6858-469e-99a6-6deb7d4e59b2",
        "id": "t0G5mU12hZXV"
      },
      "execution_count": null,
      "outputs": [
        {
          "output_type": "stream",
          "name": "stdout",
          "text": [
            "Test accuracy is:\n",
            "82.96428571428571\n"
          ]
        }
      ]
    },
    {
      "cell_type": "code",
      "source": [
        "print('The confusion matrix for above testing data is:')\n",
        "print(conf_matrix.astype(int))"
      ],
      "metadata": {
        "colab": {
          "base_uri": "https://localhost:8080/"
        },
        "outputId": "057b747c-bb5f-484f-8b4f-1dbae0a95bbf",
        "id": "uF56FLDehZXW"
      },
      "execution_count": null,
      "outputs": [
        {
          "output_type": "stream",
          "name": "stdout",
          "text": [
            "The confusion matrix for above testing data is:\n",
            "[[3488  352    4  132   13    0    6   27  146   32]\n",
            " [  88 3721    1  295   16   12    1    1   16   49]\n",
            " [  72   52 3342  179    6  510    5   32    1    1]\n",
            " [  20    1   10 3589   45  102  108  324    1    0]\n",
            " [   0    1    0  157 3913   91    0   10    1   27]\n",
            " [   0   25   78  134  164 3743   23   24    6    3]\n",
            " [   2    2    1   37   14   11 3576  555    0    2]\n",
            " [   1    4    8  223   44    9 1584 2326    0    1]\n",
            " [ 226   39    3  219   37   34   18   15 3566   43]\n",
            " [  53   34    0   82  195   15   11   82  147 3581]]\n"
          ]
        }
      ]
    },
    {
      "cell_type": "code",
      "source": [
        "# Storing True positive True negative, False Positive, False negative and F values in a list scores\n",
        "TP=[]\n",
        "TN=[]\n",
        "FP=[]\n",
        "FN=[]\n",
        "F1=[]\n",
        "for i in range(classes):\n",
        "  TP.append(conf_matrix[i][i])\n",
        "  TN.append(np.sum(conf_matrix)-np.sum(conf_matrix[i,:])-np.sum(conf_matrix[:,i])+conf_matrix[i][i])\n",
        "  FP.append(np.sum(conf_matrix[i,:])-conf_matrix[i][i])\n",
        "  FN.append(np.sum(conf_matrix[:,i])-conf_matrix[i][i])\n",
        "  F1.append((2*TP[i])/(2*TP[i] + FP[i] + FN[i]))"
      ],
      "metadata": {
        "id": "YtQ8Qy9rhZXW"
      },
      "execution_count": null,
      "outputs": []
    },
    {
      "cell_type": "code",
      "source": [
        "print('F1 scores for corresponding classes are:')\n",
        "print(F1)"
      ],
      "metadata": {
        "colab": {
          "base_uri": "https://localhost:8080/"
        },
        "outputId": "8112f12b-7812-4ca7-d04a-a3de074d8f4e",
        "id": "zQ77NzzdhZXX"
      },
      "execution_count": null,
      "outputs": [
        {
          "output_type": "stream",
          "name": "stdout",
          "text": [
            "F1 scores for corresponding classes are:\n",
            "[0.8559509202453988, 0.8826948167477168, 0.8740682620635544, 0.7762517573267006, 0.9050537758760264, 0.857797639509568, 0.7503147293327738, 0.6124275934702474, 0.8822365165759525, 0.9021287315782844]\n"
          ]
        }
      ]
    },
    {
      "cell_type": "code",
      "source": [],
      "metadata": {
        "id": "mxtd01KZhZXX"
      },
      "execution_count": null,
      "outputs": []
    },
    {
      "cell_type": "markdown",
      "source": [
        "### (ii) Logistic regression"
      ],
      "metadata": {
        "id": "Hf9ZMvHehZXX"
      }
    },
    {
      "cell_type": "code",
      "source": [
        "tmp = np.ones((X_train.shape[0],1))  # Creating augmented data\n",
        "X_train=np.column_stack((X_train,tmp))\n",
        "X_train.shape"
      ],
      "metadata": {
        "colab": {
          "base_uri": "https://localhost:8080/"
        },
        "outputId": "b1147f13-4c60-4245-cb47-6e17463c9a26",
        "id": "UpM9RaOGhZXX"
      },
      "execution_count": 208,
      "outputs": [
        {
          "output_type": "execute_result",
          "data": {
            "text/plain": [
              "(18000, 11)"
            ]
          },
          "metadata": {},
          "execution_count": 208
        }
      ]
    },
    {
      "cell_type": "code",
      "source": [
        "tmp = np.ones((X_test.shape[0],1))  # Creating augmented data\n",
        "X_test=np.column_stack((X_test,tmp))\n",
        "X_test.shape"
      ],
      "metadata": {
        "colab": {
          "base_uri": "https://localhost:8080/"
        },
        "outputId": "55e363d4-2f7c-40e5-dd43-a2b377294928",
        "id": "239wiJ9RhZXY"
      },
      "execution_count": 209,
      "outputs": [
        {
          "output_type": "execute_result",
          "data": {
            "text/plain": [
              "(42000, 11)"
            ]
          },
          "metadata": {},
          "execution_count": 209
        }
      ]
    },
    {
      "cell_type": "markdown",
      "source": [
        "#### Training"
      ],
      "metadata": {
        "id": "SrMYVBUHhZXY"
      }
    },
    {
      "cell_type": "code",
      "source": [
        "classes = 10"
      ],
      "metadata": {
        "id": "ODsJuyOAhZXY"
      },
      "execution_count": 210,
      "outputs": []
    },
    {
      "cell_type": "code",
      "source": [
        "W=[]\n",
        "for i in range(10):\n",
        "  W.append(np.ones((11,1))/11)"
      ],
      "metadata": {
        "id": "TFXZRB5uhZXY"
      },
      "execution_count": 211,
      "outputs": []
    },
    {
      "cell_type": "code",
      "source": [
        "def calc_loss(X,W,j):\n",
        "  X=X.reshape((X.shape[0],1))\n",
        "  # calculating probabilities of each class\n",
        "  e=[]                        # exponent\n",
        "  g = []                      # probabilities (softmax)\n",
        "  grad = []                   # gradient addition for this image\n",
        "  for i in range(classes):\n",
        "    e.append(math.exp(W[i].T@X))\n",
        "  k = sum(e)\n",
        "  for i in range(classes):\n",
        "    g.append(e[i]/k)\n",
        "  loss = -1*math.log(g[j])     # loss for 1 image\n",
        "  for i in range(classes):\n",
        "    if i!=j:\n",
        "      grad.append(-g[i]*X.reshape(X.shape[0]))\n",
        "    else:\n",
        "      grad.append((1-g[i])*X.reshape(X.shape[0]))\n",
        "  return loss,grad"
      ],
      "metadata": {
        "id": "-T9gVG8qhZXY"
      },
      "execution_count": 212,
      "outputs": []
    },
    {
      "cell_type": "code",
      "source": [
        "def train_epoch1():\n",
        "  final_loss = 0\n",
        "  final_grad = np.zeros((11,classes))\n",
        "  for i in range(X_train.shape[0]):\n",
        "    loss,grad = calc_loss(X_train[i,:],W,int(Y_train[i]))\n",
        "    final_loss =final_loss + loss\n",
        "    final_grad = final_grad + np.stack(grad,axis = 1)\n",
        "  return final_loss,final_grad"
      ],
      "metadata": {
        "id": "I1Y2IdR2hZXY"
      },
      "execution_count": 213,
      "outputs": []
    },
    {
      "cell_type": "code",
      "source": [
        "epochs = 100\n",
        "alpha = 10\n",
        "prev_loss = 0\n",
        "for i in range(epochs):\n",
        "  loss,grad = train_epoch1()\n",
        "  for j in range(classes):\n",
        "    gradient = grad[:,j].reshape(grad[:,j].shape[0],1)\n",
        "    if prev_loss<loss:\n",
        "      alpha = (alpha/10)\n",
        "    W[j]=W[j]+alpha*gradient/np.linalg.norm(gradient)\n",
        "    prev_loss = loss\n",
        "  print('loss in',i,'epoch is',loss/X_train.shape[0])"
      ],
      "metadata": {
        "colab": {
          "base_uri": "https://localhost:8080/"
        },
        "outputId": "23394539-7ed2-4318-9d4f-22ddac545408",
        "id": "SbPntT7vhZXZ"
      },
      "execution_count": 214,
      "outputs": [
        {
          "output_type": "stream",
          "name": "stdout",
          "text": [
            "loss in 0 epoch is 2.302585092993949\n",
            "loss in 1 epoch is 2.1252586918841327\n",
            "loss in 2 epoch is 2.374025450993758\n",
            "loss in 3 epoch is 2.255149426247823\n",
            "loss in 4 epoch is 2.1468741114230565\n",
            "loss in 5 epoch is 2.0520004966496357\n",
            "loss in 6 epoch is 1.9734634303459493\n",
            "loss in 7 epoch is 1.913605408152371\n",
            "loss in 8 epoch is 1.872305844448855\n",
            "loss in 9 epoch is 1.8433085751294547\n",
            "loss in 10 epoch is 1.8184700833171181\n",
            "loss in 11 epoch is 1.794028105127459\n",
            "loss in 12 epoch is 1.7698562002513487\n",
            "loss in 13 epoch is 1.7459581775002309\n",
            "loss in 14 epoch is 1.7223367485066008\n",
            "loss in 15 epoch is 1.6989944404751989\n",
            "loss in 16 epoch is 1.6759336586790365\n",
            "loss in 17 epoch is 1.6531566827903725\n",
            "loss in 18 epoch is 1.6306656595817755\n",
            "loss in 19 epoch is 1.6084625950249365\n",
            "loss in 20 epoch is 1.586549346591995\n",
            "loss in 21 epoch is 1.5649276160433696\n",
            "loss in 22 epoch is 1.543598942605021\n",
            "loss in 23 epoch is 1.5225646967248891\n",
            "loss in 24 epoch is 1.5018260743676837\n",
            "loss in 25 epoch is 1.4813840919528247\n",
            "loss in 26 epoch is 1.4612395819339834\n",
            "loss in 27 epoch is 1.4413931890775509\n",
            "loss in 28 epoch is 1.4218453674474238\n",
            "loss in 29 epoch is 1.4025963781246127\n",
            "loss in 30 epoch is 1.383646287663944\n",
            "loss in 31 epoch is 1.3649949672956292\n",
            "loss in 32 epoch is 1.346642092864001\n",
            "loss in 33 epoch is 1.328587145494123\n",
            "loss in 34 epoch is 1.3108294129675937\n",
            "loss in 35 epoch is 1.2933679917849463\n",
            "loss in 36 epoch is 1.2762017898851623\n",
            "loss in 37 epoch is 1.259329529989539\n",
            "loss in 38 epoch is 1.242749753532127\n",
            "loss in 39 epoch is 1.2264608251361462\n",
            "loss in 40 epoch is 1.2104609375929694\n",
            "loss in 41 epoch is 1.1947481172982504\n",
            "loss in 42 epoch is 1.1793202300988563\n",
            "loss in 43 epoch is 1.1641749875023768\n",
            "loss in 44 epoch is 1.1493099532029891\n",
            "loss in 45 epoch is 1.1347225498749383\n",
            "loss in 46 epoch is 1.1204100661890966\n",
            "loss in 47 epoch is 1.1063696640055927\n",
            "loss in 48 epoch is 1.0925983857017552\n",
            "loss in 49 epoch is 1.0790931615903736\n",
            "loss in 50 epoch is 1.0658508173941703\n",
            "loss in 51 epoch is 1.0528680817324612\n",
            "loss in 52 epoch is 1.0401415935959497\n",
            "loss in 53 epoch is 1.0276679097635175\n",
            "loss in 54 epoch is 1.0154435121535281\n",
            "loss in 55 epoch is 1.0034648150511085\n",
            "loss in 56 epoch is 0.9917281722384075\n",
            "loss in 57 epoch is 0.9802298839274302\n",
            "loss in 58 epoch is 0.9689662036085225\n",
            "loss in 59 epoch is 0.9579333445851579\n",
            "loss in 60 epoch is 0.9471274865681119\n",
            "loss in 61 epoch is 0.9365447817152991\n",
            "loss in 62 epoch is 0.9261813614975969\n",
            "loss in 63 epoch is 0.9160333430729322\n",
            "loss in 64 epoch is 0.9060968431189312\n",
            "loss in 65 epoch is 0.8963680083444096\n",
            "loss in 66 epoch is 0.8868431629807618\n",
            "loss in 67 epoch is 0.8775194420094002\n",
            "loss in 68 epoch is 0.8683982302998224\n",
            "loss in 69 epoch is 0.8595005375850819\n",
            "loss in 70 epoch is 0.8509456792158052\n",
            "loss in 71 epoch is 0.8429358417411255\n",
            "loss in 72 epoch is 0.8354819807327761\n",
            "loss in 73 epoch is 0.8282245337413595\n",
            "loss in 74 epoch is 0.8212462530047124\n",
            "loss in 75 epoch is 0.8145335763025519\n",
            "loss in 76 epoch is 0.8081301823313569\n",
            "loss in 77 epoch is 0.8020026427342569\n",
            "loss in 78 epoch is 0.7960634396299053\n",
            "loss in 79 epoch is 0.7903701332895056\n",
            "loss in 80 epoch is 0.7847945703220524\n",
            "loss in 81 epoch is 0.7794776416185373\n",
            "loss in 82 epoch is 0.7742801821608818\n",
            "loss in 83 epoch is 0.7692920282614302\n",
            "loss in 84 epoch is 0.7644159440110976\n",
            "loss in 85 epoch is 0.7597092226077862\n",
            "loss in 86 epoch is 0.755160440871194\n",
            "loss in 87 epoch is 0.7507292091947003\n",
            "loss in 88 epoch is 0.7464479329562985\n",
            "loss in 89 epoch is 0.7422171626773314\n",
            "loss in 90 epoch is 0.7381301208657634\n",
            "loss in 91 epoch is 0.7340751221836294\n",
            "loss in 92 epoch is 0.730162219471637\n",
            "loss in 93 epoch is 0.7262727994507321\n",
            "loss in 94 epoch is 0.7225224981356957\n",
            "loss in 95 epoch is 0.7187888253490877\n",
            "loss in 96 epoch is 0.7151911454385694\n",
            "loss in 97 epoch is 0.7116039652219963\n",
            "loss in 98 epoch is 0.7081498043305758\n",
            "loss in 99 epoch is 0.7047005206089701\n"
          ]
        }
      ]
    },
    {
      "cell_type": "code",
      "source": [
        "print('Empirical risk on train data is:')\n",
        "print(loss/X_train.shape[0])"
      ],
      "metadata": {
        "colab": {
          "base_uri": "https://localhost:8080/"
        },
        "outputId": "b7ff5d82-ec2e-4314-da1b-86125556a17d",
        "id": "EwGJoflMhZXZ"
      },
      "execution_count": 215,
      "outputs": [
        {
          "output_type": "stream",
          "name": "stdout",
          "text": [
            "Empirical risk on train data is:\n",
            "0.7047005206089701\n"
          ]
        }
      ]
    },
    {
      "cell_type": "markdown",
      "source": [
        "#### Testing"
      ],
      "metadata": {
        "id": "2-K_HdcZhZXZ"
      }
    },
    {
      "cell_type": "code",
      "source": [
        "conf_matrix = np.zeros((classes,classes))\n",
        "count = 0\n",
        "loss = 0\n",
        "for i in range(X_test.shape[0]):\n",
        "  X = X_test[i,:]\n",
        "  X=X.reshape((X.shape[0],1))\n",
        "  # calculating probabilities of each class\n",
        "  e=[]                        # exponent\n",
        "  g = []                      # probabilities (softmax)\n",
        "  grad = []                   # gradient addition for this image\n",
        "  for j in range(classes):\n",
        "    e.append(math.exp(W[j].T@X))\n",
        "  k = sum(e)\n",
        "  for j in range(classes):\n",
        "    g.append(e[j]/k)\n",
        "  k = g.index(max(g))\n",
        "  if k==Y_test[i]:\n",
        "    count = count+1\n",
        "  v = int(Y_test[i])\n",
        "  conf_matrix[v][k] += 1\n",
        "\n",
        "  loss = loss - 1*math.log(g[v])"
      ],
      "metadata": {
        "id": "7zOhawAThZXZ"
      },
      "execution_count": 216,
      "outputs": []
    },
    {
      "cell_type": "code",
      "source": [
        "print('Test accuracy is:')\n",
        "print(count*100/X_test.shape[0])"
      ],
      "metadata": {
        "colab": {
          "base_uri": "https://localhost:8080/"
        },
        "outputId": "948b76bb-4e07-4809-cdb3-93be5bdc361e",
        "id": "u5W2HmS6hZXZ"
      },
      "execution_count": 217,
      "outputs": [
        {
          "output_type": "stream",
          "name": "stdout",
          "text": [
            "Test accuracy is:\n",
            "84.69761904761904\n"
          ]
        }
      ]
    },
    {
      "cell_type": "code",
      "source": [
        "print('Empirical risk on test data is:')\n",
        "print(loss/X_test.shape[0])"
      ],
      "metadata": {
        "colab": {
          "base_uri": "https://localhost:8080/"
        },
        "id": "xoZ5wrgVGVnx",
        "outputId": "1025ea1f-df4a-477a-b2f7-a7f87507b01d"
      },
      "execution_count": 218,
      "outputs": [
        {
          "output_type": "stream",
          "name": "stdout",
          "text": [
            "Empirical risk on test data is:\n",
            "0.670280715007923\n"
          ]
        }
      ]
    },
    {
      "cell_type": "code",
      "source": [
        "print('The confusion matrix for above testing data is:')\n",
        "print(conf_matrix.astype(int))"
      ],
      "metadata": {
        "colab": {
          "base_uri": "https://localhost:8080/"
        },
        "outputId": "f6732686-4c9a-4a7d-f10f-82304a96e96f",
        "id": "EdvNksTqhZXa"
      },
      "execution_count": 219,
      "outputs": [
        {
          "output_type": "stream",
          "name": "stdout",
          "text": [
            "The confusion matrix for above testing data is:\n",
            "[[3687  257    3   58    6    0    5   33  121   30]\n",
            " [ 185 3736    0  165   27    8    0    0   29   50]\n",
            " [  98   16 3662   32    4  298   26   63    0    1]\n",
            " [  23    1   40 3633   69  143   79  209    2    1]\n",
            " [   0    1    1  139 3911   96    0    4    6   42]\n",
            " [   0   18  105   84  154 3775   35   14   11    4]\n",
            " [   6    1   67   15   19   29 3568  426   67    2]\n",
            " [   2    1  125  280   46   18 1498 2229    0    1]\n",
            " [ 153   28    7  116   45   19    9    7 3786   30]\n",
            " [  78   18    1   66  156   13   17   68  197 3586]]\n"
          ]
        }
      ]
    },
    {
      "cell_type": "code",
      "source": [
        "# Storing True positive True negative, False Positive, False negative and F values in a list scores\n",
        "TP=[]\n",
        "TN=[]\n",
        "FP=[]\n",
        "FN=[]\n",
        "F1=[]\n",
        "for i in range(classes):\n",
        "  TP.append(conf_matrix[i][i])\n",
        "  TN.append(np.sum(conf_matrix)-np.sum(conf_matrix[i,:])-np.sum(conf_matrix[:,i])+conf_matrix[i][i])\n",
        "  FP.append(np.sum(conf_matrix[i,:])-conf_matrix[i][i])\n",
        "  FN.append(np.sum(conf_matrix[:,i])-conf_matrix[i][i])\n",
        "  F1.append((2*TP[i])/(2*TP[i] + FP[i] + FN[i]))"
      ],
      "metadata": {
        "id": "uptl8l5qhZXa"
      },
      "execution_count": 220,
      "outputs": []
    },
    {
      "cell_type": "code",
      "source": [
        "print('F1 scores for corresponding classes are:')\n",
        "print(F1)"
      ],
      "metadata": {
        "colab": {
          "base_uri": "https://localhost:8080/"
        },
        "outputId": "6a19baf7-f02a-4f00-cb89-f4061a8664d9",
        "id": "ePagKWDNhZXa"
      },
      "execution_count": 221,
      "outputs": [
        {
          "output_type": "stream",
          "name": "stdout",
          "text": [
            "F1 scores for corresponding classes are:\n",
            "[0.8745256166982922, 0.9027425395674762, 0.8919741809767385, 0.8268092853891671, 0.9056385318976496, 0.8780090708221886, 0.7561725124509908, 0.6146422170136495, 0.8993942273429149, 0.9024789228639738]\n"
          ]
        }
      ]
    },
    {
      "cell_type": "markdown",
      "source": [
        "### (iii) GMM"
      ],
      "metadata": {
        "id": "75OE8zwVyhmv"
      }
    },
    {
      "cell_type": "code",
      "source": [
        "np.set_printoptions(suppress=True)"
      ],
      "metadata": {
        "id": "rn_x2dRDyv6l"
      },
      "execution_count": null,
      "outputs": []
    },
    {
      "cell_type": "code",
      "source": [
        "train_dataset2,test_dataset2 = p5_split_dataset(P5dataset,0.3)\n",
        "classes = 10\n",
        "y2 = np.zeros(6)\n",
        "x2 = np.array([1,2,3,4,5,6])\n",
        "for number_of_Gaussian in x2:\n",
        "  Means2,Variance2,Pi2 = p5_GMM_training(train_dataset2,5,number_of_Gaussian)\n",
        "  accuracy2,confusion_matrix2 = p5_GMM_testing(test_dataset2,10,Means2,Variance2,Pi2,number_of_Gaussian)\n",
        "  TP2=[]\n",
        "  TN2=[]\n",
        "  FP2=[]\n",
        "  FN2=[]\n",
        "  F12=[]\n",
        "  for i in range(classes):\n",
        "    TP2.append(confusion_matrix2[i][i])\n",
        "    TN2.append(np.sum(confusion_matrix2)-np.sum(confusion_matrix2[i,:])-np.sum(confusion_matrix2[:,i])+confusion_matrix2[i][i])\n",
        "    FP2.append(np.sum(confusion_matrix2[i,:])-confusion_matrix2[i][i])\n",
        "    FN2.append(np.sum(confusion_matrix2[:,i])-confusion_matrix2[i][i])\n",
        "    F12.append((2*TP2[i])/(2*TP2[i] + FP2[i] + FN2[i]))\n",
        "  y2[number_of_Gaussian-1] = p5_get_likelihood(train_dataset2,Means2,Variance2,Pi2,number_of_Gaussian)\n",
        "  print(\"Accuracy for \",number_of_Gaussian,\" mixtures is : \",accuracy2)\n",
        "  print(\"F1 scores \",number_of_Gaussian,\" mixtures is : \",F12)\n",
        "  print(\"Confusion matrix for \",number_of_Gaussian,\" mixtures is : \",confusion_matrix2)\n",
        "\n",
        "y2 = (y2-np.min(y2))/(np.max(y2)-np.min(y2))\n",
        "plt.plot(x2,y2) \n",
        "plt.title(\"Log likelihood for 30:70\") \n",
        "plt.ylabel(\"log likelihood\") \n",
        "plt.xlabel(\"Gaussian misture\") \n",
        "plt.show()"
      ],
      "metadata": {
        "id": "DFDgBlFaGAg6",
        "colab": {
          "base_uri": "https://localhost:8080/",
          "height": 1000
        },
        "outputId": "ea79c33e-209d-42b1-d56c-37e5dd731227"
      },
      "execution_count": null,
      "outputs": [
        {
          "output_type": "stream",
          "name": "stdout",
          "text": [
            "Accuracy for  1  mixtures is :  0.9401428571428572\n",
            "F1 scores  1  mixtures is :  [0.9335827876520112, 0.9562329498280157, 0.9822004539481544, 0.9226558781532603, 0.9471291866028708, 0.9541912632821724, 0.9143720227721622, 0.879735196763516, 0.9545183239823326, 0.9561117156329344]\n",
            "Confusion matrix for  1  mixtures is :  [[3992.   79.   75.   53.    2.    0.    1.    7.   61.   16.]\n",
            " [ 156. 4031.    5.    2.    2.    1.    1.    6.   18.    4.]\n",
            " [   0.    5. 4111.   10.    0.   20.    3.    2.    4.    2.]\n",
            " [  43.   19.   13. 3877.   41.   43.   30.  118.   46.   21.]\n",
            " [   2.   13.    0.   30. 3959.   73.    7.   25.   12.   48.]\n",
            " [   1.    6.    4.   42.  110. 4041.    8.   17.   36.    3.]\n",
            " [   3.    0.    0.   20.    2.    2. 3935.  421.    1.   42.]\n",
            " [   4.    3.    1.  102.    9.    2.  187. 3588.    8.   52.]\n",
            " [  48.   30.    5.   15.   18.   12.    1.    5. 3998.   46.]\n",
            " [  17.   19.    0.    2.   48.    8.    8.   12.   15. 3954.]]\n",
            "Accuracy for  2  mixtures is :  0.9453095238095238\n",
            "F1 scores  2  mixtures is :  [0.9409138963937508, 0.9587555974546311, 0.9883110687022901, 0.9268873541319361, 0.9565217391304348, 0.9619442797866035, 0.9154566744730679, 0.8878912885222033, 0.9583882959587481, 0.9576681180454766]\n",
            "Confusion matrix for  2  mixtures is :  [[4005.   70.   42.   47.    1.    0.    1.    7.   60.   14.]\n",
            " [ 163. 4068.    4.    4.    2.    1.    3.    6.   24.    6.]\n",
            " [   0.    1. 4143.    5.    1.    8.    3.    1.    5.    3.]\n",
            " [  38.   12.   11. 3892.   34.   48.   38.  105.   46.   21.]\n",
            " [   2.    8.    0.   23. 4015.   67.    7.   22.   14.   46.]\n",
            " [   1.    4.   10.   41.   73. 4057.    3.    6.   34.    4.]\n",
            " [   1.    0.    0.   17.    3.    2. 3909.  376.    1.   50.]\n",
            " [   5.    1.    1.  110.    9.    2.  207. 3659.    4.   43.]\n",
            " [  39.   23.    3.   11.   11.    9.    2.    4. 3996.   42.]\n",
            " [  12.   18.    0.    3.   42.    8.    8.   15.   15. 3959.]]\n",
            "Accuracy for  3  mixtures is :  0.9499285714285715\n",
            "F1 scores  3  mixtures is :  [0.9451427228943968, 0.9616428655729966, 0.9891446976022904, 0.9300607649231503, 0.9581008902077152, 0.9652629074470617, 0.9264861062258178, 0.9043056397816859, 0.9613127320637203, 0.957508450024143]\n",
            "Confusion matrix for  3  mixtures is :  [[4023.   71.   36.   48.    1.    0.    2.    3.   52.   11.]\n",
            " [ 149. 4074.    3.    4.    1.    0.    3.    6.   23.    5.]\n",
            " [   1.    0. 4146.    6.    1.    8.    3.    1.    2.    1.]\n",
            " [  33.   13.   12. 3903.   33.   51.   37.   87.   54.   17.]\n",
            " [   2.    9.    0.   27. 4036.   67.    6.   23.   16.   48.]\n",
            " [   1.    7.    6.   34.   64. 4057.    5.    5.   22.    3.]\n",
            " [   3.    0.    0.   16.    3.    0. 3951.  320.    1.   54.]\n",
            " [   3.    1.    1.  106.    5.    3.  160. 3728.    4.   33.]\n",
            " [  38.   12.    7.    6.   10.    8.    2.    4. 4013.   50.]\n",
            " [  13.   18.    3.    3.   37.    8.   12.   24.   12. 3966.]]\n",
            "Accuracy for  4  mixtures is :  0.9516904761904762\n",
            "F1 scores  4  mixtures is :  [0.9465756648623206, 0.9626399528579846, 0.9897497020262217, 0.9341760076317672, 0.9608566329565734, 0.9681634592539796, 0.9237647058823529, 0.9003013863773357, 0.9686411149825784, 0.9619277108433735]\n",
            "Confusion matrix for  4  mixtures is :  [[4022.   67.   35.   43.    1.    0.    1.    3.   49.   11.]\n",
            " [ 159. 4084.    4.    3.    1.    0.    3.    6.   15.    5.]\n",
            " [   1.    1. 4152.    4.    1.    9.    2.    1.    3.    2.]\n",
            " [  33.   12.   10. 3917.   31.   45.   30.   86.   49.   20.]\n",
            " [   1.    8.    0.   25. 4038.   58.    8.   20.   11.   45.]\n",
            " [   1.    7.    6.   32.   60. 4075.    5.    5.   23.    2.]\n",
            " [   1.    0.    0.   16.    3.    1. 3926.  322.    1.   49.]\n",
            " [   6.    1.    1.  106.    4.    2.  197. 3734.    4.   39.]\n",
            " [  29.   12.    5.    6.    9.    6.    1.    2. 4031.   23.]\n",
            " [  13.   13.    1.    1.   43.    6.    8.   22.   13. 3992.]]\n",
            "Accuracy for  5  mixtures is :  0.954047619047619\n",
            "F1 scores  5  mixtures is :  [0.9502475831171894, 0.9649722844675079, 0.9897521448999047, 0.9405186771353795, 0.9599427753934192, 0.966824644549763, 0.9272727272727272, 0.9126564003849855, 0.9656246257036771, 0.9625694276744747]\n",
            "Confusion matrix for  5  mixtures is :  [[4030.   58.   30.   34.    1.    0.    2.    4.   48.    9.]\n",
            " [ 145. 4091.    5.    3.    1.    0.    3.    6.   15.    5.]\n",
            " [   1.    0. 4153.    4.    1.   10.    3.    1.    4.    1.]\n",
            " [  35.   13.   11. 3953.   33.   37.   31.   71.   51.   18.]\n",
            " [   1.   10.    0.   23. 4026.   57.   10.   17.   12.   41.]\n",
            " [   1.    6.    8.   33.   78. 4080.    6.    3.   21.    2.]\n",
            " [   1.    0.    0.   13.    4.    0. 3927.  287.    3.   54.]\n",
            " [   5.    0.    0.   84.    5.    4.  184. 3793.    1.   35.]\n",
            " [  38.   12.    4.    4.   10.   10.    1.    3. 4031.   37.]\n",
            " [   9.   15.    3.    2.   32.    4.   14.   16.   13. 3986.]]\n",
            "Accuracy for  6  mixtures is :  0.9519047619047619\n",
            "F1 scores  6  mixtures is :  [0.9508235294117647, 0.9641509433962264, 0.9907032181168057, 0.9364492667223083, 0.9597906257435166, 0.9660431311807458, 0.9252084067159798, 0.9031476997578692, 0.9635123818638593, 0.9588348579682234]\n",
            "Confusion matrix for  6  mixtures is :  [[4041.   64.   28.   40.    1.    1.    1.    3.   49.    6.]\n",
            " [ 147. 4088.    3.    6.    2.    1.    3.    6.   14.    5.]\n",
            " [   1.    0. 4156.    4.    1.    8.    2.    1.    2.    1.]\n",
            " [  25.   11.   15. 3927.   30.   45.   30.   81.   54.   16.]\n",
            " [   2.    8.    0.   23. 4034.   71.    6.   18.   11.   42.]\n",
            " [   0.    4.    4.   34.   63. 4054.    4.    3.   22.    3.]\n",
            " [   1.    0.    0.   15.    5.    1. 3940.  321.    2.   51.]\n",
            " [   4.    0.    0.   96.    7.    3.  177. 3730.    5.   37.]\n",
            " [  35.   16.    5.    6.   10.   12.    2.    3. 4027.   44.]\n",
            " [  10.   14.    3.    2.   38.    6.   16.   35.   13. 3983.]]\n"
          ]
        },
        {
          "output_type": "display_data",
          "data": {
            "text/plain": [
              "<Figure size 432x288 with 1 Axes>"
            ],
            "image/png": "[encoded data removed]"
          },
          "metadata": {
            "needs_background": "light"
          }
        }
      ]
    },
    {
      "cell_type": "markdown",
      "source": [
        "## Model 3 - 50:50"
      ],
      "metadata": {
        "id": "ABeAGo3Uhlxw"
      }
    },
    {
      "cell_type": "code",
      "source": [
        "count = 30000"
      ],
      "metadata": {
        "id": "8wmULsqjhlxx"
      },
      "execution_count": 35,
      "outputs": []
    },
    {
      "cell_type": "code",
      "source": [
        "X_train = dataset[0:count,1:]"
      ],
      "metadata": {
        "id": "dNnk0fzrhlxx"
      },
      "execution_count": 36,
      "outputs": []
    },
    {
      "cell_type": "code",
      "source": [
        "Y_train =dataset[0:count,0]"
      ],
      "metadata": {
        "id": "lrrOSHtwhlxx"
      },
      "execution_count": 37,
      "outputs": []
    },
    {
      "cell_type": "code",
      "source": [
        "X_test = dataset[count:,1:]"
      ],
      "metadata": {
        "id": "46fySz7-hlxy"
      },
      "execution_count": 38,
      "outputs": []
    },
    {
      "cell_type": "code",
      "source": [
        "Y_test = dataset[count:,0]"
      ],
      "metadata": {
        "id": "wlfY44NZhlxy"
      },
      "execution_count": 39,
      "outputs": []
    },
    {
      "cell_type": "code",
      "source": [
        "X_test.shape"
      ],
      "metadata": {
        "colab": {
          "base_uri": "https://localhost:8080/"
        },
        "outputId": "0dffff55-1d1a-496d-fbea-5d6a1b28e839",
        "id": "p8_63UwKhlxy"
      },
      "execution_count": null,
      "outputs": [
        {
          "output_type": "execute_result",
          "data": {
            "text/plain": [
              "(30000, 10)"
            ]
          },
          "metadata": {},
          "execution_count": 504
        }
      ]
    },
    {
      "cell_type": "markdown",
      "source": [
        "### (i) Bayes Classifier"
      ],
      "metadata": {
        "id": "qnxslrXWhlxz"
      }
    },
    {
      "cell_type": "code",
      "source": [
        "classes = 10"
      ],
      "metadata": {
        "id": "bnhv845Thlxz"
      },
      "execution_count": null,
      "outputs": []
    },
    {
      "cell_type": "code",
      "source": [
        "# creating training datas for different class\n",
        "temp = dataset[0:count,:]\n",
        "lst = []\n",
        "for i in range(classes):\n",
        "  x = temp[np.where(temp[:,0]==i)]\n",
        "  x = x[:,1:]\n",
        "  lst.append(x)"
      ],
      "metadata": {
        "id": "hcuRhJz9hlxz"
      },
      "execution_count": null,
      "outputs": []
    },
    {
      "cell_type": "code",
      "source": [
        "mean=[]   # 10 features' mean for each classes\n",
        "for i in range(classes):\n",
        "  a=lst[i]\n",
        "  a = a.mean(axis=0)\n",
        "  mean.append(a)"
      ],
      "metadata": {
        "id": "UwCNrr30hlxz"
      },
      "execution_count": null,
      "outputs": []
    },
    {
      "cell_type": "markdown",
      "source": [
        "#### Training"
      ],
      "metadata": {
        "id": "ZOJtCfeUhlx0"
      }
    },
    {
      "cell_type": "code",
      "source": [
        "count = 0\n",
        "for i in range(X_train.shape[0]):\n",
        "  g = []  #class conditionals\n",
        "  for j in range(classes):\n",
        "    v = (X_train[i]-mean[j])\n",
        "    v = np.power(v,2)\n",
        "    k = 0.5 * np.sum(v)\n",
        "    k = math.exp(-k)\n",
        "    g.append(k)\n",
        "  k = g.index(max(g))\n",
        "  if k==int(Y_train[i]):\n",
        "    count=count+1"
      ],
      "metadata": {
        "id": "raf9qUuyhlx0"
      },
      "execution_count": null,
      "outputs": []
    },
    {
      "cell_type": "code",
      "source": [
        "print('Train accuracy is:')\n",
        "print(count*100/X_train.shape[0])"
      ],
      "metadata": {
        "colab": {
          "base_uri": "https://localhost:8080/"
        },
        "outputId": "97e4be97-c861-4644-9af4-a9c8f3e97e6e",
        "id": "bl9A2a6Fhlx0"
      },
      "execution_count": null,
      "outputs": [
        {
          "output_type": "stream",
          "name": "stdout",
          "text": [
            "Train accuracy is:\n",
            "81.71333333333334\n"
          ]
        }
      ]
    },
    {
      "cell_type": "markdown",
      "source": [
        "#### Testing"
      ],
      "metadata": {
        "id": "k3QglXcRhlx1"
      }
    },
    {
      "cell_type": "code",
      "source": [
        "conf_matrix = np.zeros((classes,classes))\n",
        "count = 0\n",
        "for i in range(X_test.shape[0]):\n",
        "  g = []  #class conditionals\n",
        "  for j in range(classes):\n",
        "    v = (X_test[i]-mean[j])\n",
        "    v = np.power(v,2)\n",
        "    k = 0.5 * np.sum(v)\n",
        "    k = math.exp(-k)\n",
        "    g.append(k)\n",
        "  k = g.index(max(g))\n",
        "  if k==int(Y_test[i]):\n",
        "    count=count+1\n",
        "  v = int(Y_test[i])\n",
        "  conf_matrix[v][k] += 1"
      ],
      "metadata": {
        "id": "RM_uQanEhlx1"
      },
      "execution_count": null,
      "outputs": []
    },
    {
      "cell_type": "code",
      "source": [
        "print('Test accuracy is:')\n",
        "print(count*100/X_test.shape[0])"
      ],
      "metadata": {
        "colab": {
          "base_uri": "https://localhost:8080/"
        },
        "outputId": "21718a12-109e-4f8f-e5e8-1fdb73c37e62",
        "id": "fdbVTaoghlx1"
      },
      "execution_count": null,
      "outputs": [
        {
          "output_type": "stream",
          "name": "stdout",
          "text": [
            "Test accuracy is:\n",
            "83.79\n"
          ]
        }
      ]
    },
    {
      "cell_type": "code",
      "source": [
        "print('The confusion matrix for above testing data is:')\n",
        "print(conf_matrix.astype(int))"
      ],
      "metadata": {
        "colab": {
          "base_uri": "https://localhost:8080/"
        },
        "outputId": "400e7603-d094-4ead-e2a2-ac491613d2d5",
        "id": "s5ACA6oQhlx2"
      },
      "execution_count": null,
      "outputs": [
        {
          "output_type": "stream",
          "name": "stdout",
          "text": [
            "The confusion matrix for above testing data is:\n",
            "[[2410  340    0  124   23    0    6   21   61   15]\n",
            " [  89 2662    0  173   27    6    1    3   15   24]\n",
            " [  22   17 2299  170    6  475    0    4    6    1]\n",
            " [  16    1    6 2659   46   57   50  164    1    0]\n",
            " [   0    1    0   46 2833  101    0    4    0   15]\n",
            " [   1    9   53   88   80 2739   10   15    3    2]\n",
            " [   1    0    0   18    3   10 2451  515    0    2]\n",
            " [   1    0    6  139   34   11 1019 1790    0    0]\n",
            " [ 158   19    0    2   23   23    5    5 2739   26]\n",
            " [  51   14    0   34  184   11    1   55   95 2555]]\n"
          ]
        }
      ]
    },
    {
      "cell_type": "code",
      "source": [
        "# Storing True positive True negative, False Positive, False negative and F values in a list scores\n",
        "TP=[]\n",
        "TN=[]\n",
        "FP=[]\n",
        "FN=[]\n",
        "F1=[]\n",
        "for i in range(classes):\n",
        "  TP.append(conf_matrix[i][i])\n",
        "  TN.append(np.sum(conf_matrix)-np.sum(conf_matrix[i,:])-np.sum(conf_matrix[:,i])+conf_matrix[i][i])\n",
        "  FP.append(np.sum(conf_matrix[i,:])-conf_matrix[i][i])\n",
        "  FN.append(np.sum(conf_matrix[:,i])-conf_matrix[i][i])\n",
        "  F1.append((2*TP[i])/(2*TP[i] + FP[i] + FN[i]))"
      ],
      "metadata": {
        "id": "7tj384oQhlx2"
      },
      "execution_count": null,
      "outputs": []
    },
    {
      "cell_type": "code",
      "source": [
        "print('F1 scores for corresponding classes are:')\n",
        "print(F1)"
      ],
      "metadata": {
        "colab": {
          "base_uri": "https://localhost:8080/"
        },
        "outputId": "bc9d7434-987e-4080-cf3c-947ebf738f39",
        "id": "xd-2N331hlx2"
      },
      "execution_count": null,
      "outputs": [
        {
          "output_type": "stream",
          "name": "stdout",
          "text": [
            "F1 scores for corresponding classes are:\n",
            "[0.8384066794225082, 0.8781131453076035, 0.8571961222967934, 0.8241128157446149, 0.9052564307397348, 0.8515467122648842, 0.7491976157725814, 0.6420373027259685, 0.9253378378378379, 0.9060283687943262]\n"
          ]
        }
      ]
    },
    {
      "cell_type": "code",
      "source": [],
      "metadata": {
        "id": "MzY4MnJbhlx3"
      },
      "execution_count": null,
      "outputs": []
    },
    {
      "cell_type": "markdown",
      "source": [
        "### (ii) Logistic regression"
      ],
      "metadata": {
        "id": "0No7vItAhlx3"
      }
    },
    {
      "cell_type": "code",
      "source": [
        "tmp = np.ones((X_train.shape[0],1))  # Creating augmented data\n",
        "X_train=np.column_stack((X_train,tmp))\n",
        "X_train.shape"
      ],
      "metadata": {
        "colab": {
          "base_uri": "https://localhost:8080/"
        },
        "outputId": "74cc1cff-2fe8-4b81-84b6-284175724e90",
        "id": "7p3kq_Ighlx3"
      },
      "execution_count": 40,
      "outputs": [
        {
          "output_type": "execute_result",
          "data": {
            "text/plain": [
              "(30000, 11)"
            ]
          },
          "metadata": {},
          "execution_count": 40
        }
      ]
    },
    {
      "cell_type": "code",
      "source": [
        "tmp = np.ones((X_test.shape[0],1))  # Creating augmented data\n",
        "X_test=np.column_stack((X_test,tmp))\n",
        "X_test.shape"
      ],
      "metadata": {
        "colab": {
          "base_uri": "https://localhost:8080/"
        },
        "outputId": "6f2714b5-aaa1-4c9c-e2fb-8891cca2e7fc",
        "id": "RNwYW7Nqhlx4"
      },
      "execution_count": 41,
      "outputs": [
        {
          "output_type": "execute_result",
          "data": {
            "text/plain": [
              "(30000, 11)"
            ]
          },
          "metadata": {},
          "execution_count": 41
        }
      ]
    },
    {
      "cell_type": "markdown",
      "source": [
        "#### Training"
      ],
      "metadata": {
        "id": "U8e_prChhlx4"
      }
    },
    {
      "cell_type": "code",
      "source": [
        "classes = 10"
      ],
      "metadata": {
        "id": "-VaNo4QDhlx4"
      },
      "execution_count": 42,
      "outputs": []
    },
    {
      "cell_type": "code",
      "source": [
        "W=[]\n",
        "for i in range(10):\n",
        "  W.append(np.ones((11,1))/11)"
      ],
      "metadata": {
        "id": "ojVZmBofhlx5"
      },
      "execution_count": 43,
      "outputs": []
    },
    {
      "cell_type": "code",
      "source": [
        "def calc_loss(X,W,j):\n",
        "  X=X.reshape((X.shape[0],1))\n",
        "  # calculating probabilities of each class\n",
        "  e=[]                        # exponent\n",
        "  g = []                      # probabilities (softmax)\n",
        "  grad = []                   # gradient addition for this image\n",
        "  for i in range(classes):\n",
        "    e.append(math.exp(W[i].T@X))\n",
        "  k = sum(e)\n",
        "  for i in range(classes):\n",
        "    g.append(e[i]/k)\n",
        "  loss = -1*math.log(g[j])     # loss for 1 image\n",
        "  for i in range(classes):\n",
        "    if i!=j:\n",
        "      grad.append(-g[i]*X.reshape(X.shape[0]))\n",
        "    else:\n",
        "      grad.append((1-g[i])*X.reshape(X.shape[0]))\n",
        "  return loss,grad"
      ],
      "metadata": {
        "id": "yXr_hk8Bhlx5"
      },
      "execution_count": 44,
      "outputs": []
    },
    {
      "cell_type": "code",
      "source": [
        "def train_epoch1():\n",
        "  final_loss = 0\n",
        "  final_grad = np.zeros((11,classes))\n",
        "  for i in range(X_train.shape[0]):\n",
        "    loss,grad = calc_loss(X_train[i,:],W,int(Y_train[i]))\n",
        "    final_loss =final_loss + loss\n",
        "    final_grad = final_grad + np.stack(grad,axis = 1)\n",
        "  return final_loss,final_grad"
      ],
      "metadata": {
        "id": "R_igDcFzhlx5"
      },
      "execution_count": 45,
      "outputs": []
    },
    {
      "cell_type": "code",
      "source": [
        "epochs = 100\n",
        "alpha = 10\n",
        "prev_loss = 0\n",
        "for i in range(epochs):\n",
        "  loss,grad = train_epoch1()\n",
        "  for j in range(classes):\n",
        "    gradient = grad[:,j].reshape(grad[:,j].shape[0],1)\n",
        "    if prev_loss<loss:\n",
        "      alpha = (alpha/10)\n",
        "    W[j]=W[j]+alpha*gradient/np.linalg.norm(gradient)\n",
        "    prev_loss = loss\n",
        "  print('loss in',i,'epoch is',loss/X_train.shape[0])"
      ],
      "metadata": {
        "colab": {
          "base_uri": "https://localhost:8080/"
        },
        "outputId": "9a8689bf-3947-4b6b-9402-db7528def3bd",
        "id": "-EldkUurhlx6"
      },
      "execution_count": 46,
      "outputs": [
        {
          "output_type": "stream",
          "name": "stdout",
          "text": [
            "loss in 0 epoch is 2.3025850929934024\n",
            "loss in 1 epoch is 2.130439096210806\n",
            "loss in 2 epoch is 2.3883371731836522\n",
            "loss in 3 epoch is 2.269038969019269\n",
            "loss in 4 epoch is 2.1599656962056484\n",
            "loss in 5 epoch is 2.0639045316671933\n",
            "loss in 6 epoch is 1.9837934345253647\n",
            "loss in 7 epoch is 1.9220929857602096\n",
            "loss in 8 epoch is 1.8793274672667666\n",
            "loss in 9 epoch is 1.850802599661577\n",
            "loss in 10 epoch is 1.8262863560906886\n",
            "loss in 11 epoch is 1.8020441384946442\n",
            "loss in 12 epoch is 1.778067334084442\n",
            "loss in 13 epoch is 1.7543607697928547\n",
            "loss in 14 epoch is 1.7309273285832327\n",
            "loss in 15 epoch is 1.7077695327860518\n",
            "loss in 16 epoch is 1.6848897462948929\n",
            "loss in 17 epoch is 1.6622902005573938\n",
            "loss in 18 epoch is 1.6399729922760873\n",
            "loss in 19 epoch is 1.6179400771616492\n",
            "loss in 20 epoch is 1.5961932623847503\n",
            "loss in 21 epoch is 1.5747341996934674\n",
            "loss in 22 epoch is 1.5535643786377917\n",
            "loss in 23 epoch is 1.5326851205258196\n",
            "loss in 24 epoch is 1.512097572815411\n",
            "loss in 25 epoch is 1.4918027042243684\n",
            "loss in 26 epoch is 1.4718013004382822\n",
            "loss in 27 epoch is 1.4520939605548007\n",
            "loss in 28 epoch is 1.4326810942131527\n",
            "loss in 29 epoch is 1.413562919477907\n",
            "loss in 30 epoch is 1.3947394614476458\n",
            "loss in 31 epoch is 1.376210551617935\n",
            "loss in 32 epoch is 1.3579758279723475\n",
            "loss in 33 epoch is 1.3400347358044016\n",
            "loss in 34 epoch is 1.3223865292398382\n",
            "loss in 35 epoch is 1.3050302734437957\n",
            "loss in 36 epoch is 1.287964847475632\n",
            "loss in 37 epoch is 1.2711889477627638\n",
            "loss in 38 epoch is 1.2547010921498238\n",
            "loss in 39 epoch is 1.2384996244862292\n",
            "loss in 40 epoch is 1.222582719703398\n",
            "loss in 41 epoch is 1.2069483893395054\n",
            "loss in 42 epoch is 1.1915944874608597\n",
            "loss in 43 epoch is 1.176518716935096\n",
            "loss in 44 epoch is 1.1617186360055671\n",
            "loss in 45 epoch is 1.1471916651219896\n",
            "loss in 46 epoch is 1.132935093978794\n",
            "loss in 47 epoch is 1.1189460887179707\n",
            "loss in 48 epoch is 1.1052216992522423\n",
            "loss in 49 epoch is 1.0917588666675346\n",
            "loss in 50 epoch is 1.0785544306673425\n",
            "loss in 51 epoch is 1.0656051370193034\n",
            "loss in 52 epoch is 1.0529076449776624\n",
            "loss in 53 epoch is 1.0404585346373123\n",
            "loss in 54 epoch is 1.028254314217231\n",
            "loss in 55 epoch is 1.0162914272050296\n",
            "loss in 56 epoch is 1.0045662594271139\n",
            "loss in 57 epoch is 0.9930751459026116\n",
            "loss in 58 epoch is 0.9818143778057217\n",
            "loss in 59 epoch is 0.9707802093172035\n",
            "loss in 60 epoch is 0.959968866373919\n",
            "loss in 61 epoch is 0.949376559834788\n",
            "loss in 62 epoch is 0.938999524930959\n",
            "loss in 63 epoch is 0.9288341566927515\n",
            "loss in 64 epoch is 0.9188776282450161\n",
            "loss in 65 epoch is 0.9091304758923591\n",
            "loss in 66 epoch is 0.8996100170432133\n",
            "loss in 67 epoch is 0.8903873335514162\n",
            "loss in 68 epoch is 0.8816931537026534\n",
            "loss in 69 epoch is 0.8734363946623069\n",
            "loss in 70 epoch is 0.8655903317614737\n",
            "loss in 71 epoch is 0.8579770746143646\n",
            "loss in 72 epoch is 0.8507135348868216\n",
            "loss in 73 epoch is 0.8437731539335068\n",
            "loss in 74 epoch is 0.8370967067910445\n",
            "loss in 75 epoch is 0.8307187928983593\n",
            "loss in 76 epoch is 0.8245166464126691\n",
            "loss in 77 epoch is 0.818588581592431\n",
            "loss in 78 epoch is 0.8127614526557225\n",
            "loss in 79 epoch is 0.8071528920809088\n",
            "loss in 80 epoch is 0.8015987570858542\n",
            "loss in 81 epoch is 0.7962596065029409\n",
            "loss in 82 epoch is 0.790954098627049\n",
            "loss in 83 epoch is 0.7858743127508494\n",
            "loss in 84 epoch is 0.7808094669394734\n",
            "loss in 85 epoch is 0.7759806029141595\n",
            "loss in 86 epoch is 0.7711439666602433\n",
            "loss in 87 epoch is 0.7665449873118849\n",
            "loss in 88 epoch is 0.7619171153510642\n",
            "loss in 89 epoch is 0.7575238809753652\n",
            "loss in 90 epoch is 0.7530889086839302\n",
            "loss in 91 epoch is 0.7488847953946836\n",
            "loss in 92 epoch is 0.7446309826972028\n",
            "loss in 93 epoch is 0.7406038292986082\n",
            "loss in 94 epoch is 0.7365208727699836\n",
            "loss in 95 epoch is 0.7326600790464157\n",
            "loss in 96 epoch is 0.7287383681482148\n",
            "loss in 97 epoch is 0.7250340808883626\n",
            "loss in 98 epoch is 0.7212645750515544\n",
            "loss in 99 epoch is 0.7177075224664986\n"
          ]
        }
      ]
    },
    {
      "cell_type": "code",
      "source": [
        "print('Empirical risk on train data is:')\n",
        "print(loss/X_train.shape[0])"
      ],
      "metadata": {
        "colab": {
          "base_uri": "https://localhost:8080/"
        },
        "outputId": "9af3bf16-9979-48d8-8b49-38785b0a0536",
        "id": "Ch_KzYnyhlx6"
      },
      "execution_count": 47,
      "outputs": [
        {
          "output_type": "stream",
          "name": "stdout",
          "text": [
            "Empirical risk on train data is:\n",
            "0.7177075224664986\n"
          ]
        }
      ]
    },
    {
      "cell_type": "markdown",
      "source": [
        "#### Testing"
      ],
      "metadata": {
        "id": "v2qngyB2hlx7"
      }
    },
    {
      "cell_type": "code",
      "source": [
        "conf_matrix = np.zeros((classes,classes))\n",
        "count = 0\n",
        "loss = 0\n",
        "for i in range(X_test.shape[0]):\n",
        "  X = X_test[i,:]\n",
        "  X=X.reshape((X.shape[0],1))\n",
        "  # calculating probabilities of each class\n",
        "  e=[]                        # exponent\n",
        "  g = []                      # probabilities (softmax)\n",
        "  grad = []                   # gradient addition for this image\n",
        "  for j in range(classes):\n",
        "    e.append(math.exp(W[j].T@X))\n",
        "  k = sum(e)\n",
        "  for j in range(classes):\n",
        "    g.append(e[j]/k)\n",
        "  k = g.index(max(g))\n",
        "  if k==int(Y_test[i]):\n",
        "    count = count+1\n",
        "  v = int(Y_test[i])\n",
        "  conf_matrix[v][k] += 1\n",
        "\n",
        "  loss = loss - 1*math.log(g[v])"
      ],
      "metadata": {
        "id": "aIm_tcSnhlx7"
      },
      "execution_count": 57,
      "outputs": []
    },
    {
      "cell_type": "code",
      "source": [
        "print('Test accuracy is:')\n",
        "print(count*100/X_test.shape[0])"
      ],
      "metadata": {
        "colab": {
          "base_uri": "https://localhost:8080/"
        },
        "outputId": "9c908759-896b-4fdb-cb9d-feef28c84e8e",
        "id": "wLOUF-Uqhlx8"
      },
      "execution_count": 58,
      "outputs": [
        {
          "output_type": "stream",
          "name": "stdout",
          "text": [
            "Test accuracy is:\n",
            "86.14333333333333\n"
          ]
        }
      ]
    },
    {
      "cell_type": "code",
      "source": [
        "print('Empirical risk on test data is:')\n",
        "print(loss/X_test.shape[0])"
      ],
      "metadata": {
        "colab": {
          "base_uri": "https://localhost:8080/"
        },
        "id": "53mgFdd2JORL",
        "outputId": "c199f63d-ad2e-4242-db26-1e1a2ccfe450"
      },
      "execution_count": 59,
      "outputs": [
        {
          "output_type": "stream",
          "name": "stdout",
          "text": [
            "Empirical risk on test data is:\n",
            "0.628640642221917\n"
          ]
        }
      ]
    },
    {
      "cell_type": "code",
      "source": [
        "print('The confusion matrix for above testing data is:')\n",
        "print(conf_matrix.astype(int))"
      ],
      "metadata": {
        "colab": {
          "base_uri": "https://localhost:8080/"
        },
        "outputId": "1cbe0206-16b3-457b-b874-ab99711bebcd",
        "id": "pMqS4d3Mhlx8"
      },
      "execution_count": 51,
      "outputs": [
        {
          "output_type": "stream",
          "name": "stdout",
          "text": [
            "The confusion matrix for above testing data is:\n",
            "[[2636  212    1   46    9    0    6   20   52   18]\n",
            " [ 124 2681    1  105   24    8    0    0   25   32]\n",
            " [  34   12 2562   31    5  343    2   10    0    1]\n",
            " [  27    1   15 2661   50   89   37  111    5    4]\n",
            " [   0    1    0   48 2795  122    0    2    3   29]\n",
            " [   1    7   57   60   56 2778   20    7    5    9]\n",
            " [   2    0   11   17    4   24 2565  371    4    2]\n",
            " [   2    1   64  166   28   14  964 1761    0    0]\n",
            " [ 143   12    3    0   10   23    2    4 2770   33]\n",
            " [  64    8    1   31  121    9    5   43   84 2634]]\n"
          ]
        }
      ]
    },
    {
      "cell_type": "code",
      "source": [
        "# Storing True positive True negative, False Positive, False negative and F values in a list scores\n",
        "TP=[]\n",
        "TN=[]\n",
        "FP=[]\n",
        "FN=[]\n",
        "F1=[]\n",
        "for i in range(classes):\n",
        "  TP.append(conf_matrix[i][i])\n",
        "  TN.append(np.sum(conf_matrix)-np.sum(conf_matrix[i,:])-np.sum(conf_matrix[:,i])+conf_matrix[i][i])\n",
        "  FP.append(np.sum(conf_matrix[i,:])-conf_matrix[i][i])\n",
        "  FN.append(np.sum(conf_matrix[:,i])-conf_matrix[i][i])\n",
        "  F1.append((2*TP[i])/(2*TP[i] + FP[i] + FN[i]))"
      ],
      "metadata": {
        "id": "Q991rdfVhlx9"
      },
      "execution_count": 52,
      "outputs": []
    },
    {
      "cell_type": "code",
      "source": [
        "print('F1 scores for corresponding classes are:')\n",
        "print(F1)"
      ],
      "metadata": {
        "colab": {
          "base_uri": "https://localhost:8080/"
        },
        "outputId": "298eabca-ccea-4c98-d11a-db43e3ae13ae",
        "id": "lV6_d_3nhlx9"
      },
      "execution_count": 53,
      "outputs": [
        {
          "output_type": "stream",
          "name": "stdout",
          "text": [
            "F1 scores for corresponding classes are:\n",
            "[0.8738604342781369, 0.9034540859309182, 0.8965879265091864, 0.8632603406326034, 0.9160930842346772, 0.8667706708268331, 0.7771549765187092, 0.6609119909926816, 0.9314055144586416, 0.9142658799028115]\n"
          ]
        }
      ]
    },
    {
      "cell_type": "markdown",
      "source": [
        "### (iii) GMM"
      ],
      "metadata": {
        "id": "1i1KzaAzzfF9"
      }
    },
    {
      "cell_type": "code",
      "source": [
        "train_dataset3,test_dataset3 = p5_split_dataset(P5dataset,0.5)\n",
        "classes = 10\n",
        "y3 = np.zeros(6)\n",
        "x3 = np.array([1,2,3,4,5,6])\n",
        "for number_of_Gaussian in x3:\n",
        "  Means3,Variance3,Pi3 = p5_GMM_training(train_dataset3,5,number_of_Gaussian)\n",
        "  accuracy3,confusion_matrix3 = p5_GMM_testing(test_dataset3,10,Means3,Variance3,Pi3,number_of_Gaussian)\n",
        "  TP3=[]\n",
        "  TN3=[]\n",
        "  FP3=[]\n",
        "  FN3=[]\n",
        "  F13=[]\n",
        "  for i in range(classes):\n",
        "    TP3.append(confusion_matrix3[i][i])\n",
        "    TN3.append(np.sum(confusion_matrix3)-np.sum(confusion_matrix3[i,:])-np.sum(confusion_matrix3[:,i])+confusion_matrix3[i][i])\n",
        "    FP3.append(np.sum(confusion_matrix3[i,:])-confusion_matrix3[i][i])\n",
        "    FN3.append(np.sum(confusion_matrix3[:,i])-confusion_matrix3[i][i])\n",
        "    F13.append((2*TP3[i])/(2*TP3[i] + FP3[i] + FN3[i]))\n",
        "  y3[number_of_Gaussian-1] = p5_get_likelihood(train_dataset3,Means3,Variance3,Pi3,number_of_Gaussian)\n",
        "  print(\"Accuracy for \",number_of_Gaussian,\" mixtures is : \",accuracy3)\n",
        "  print(\"F1 scores \",number_of_Gaussian,\" mixtures is : \",F13)\n",
        "  print(\"Confusion matrix for \",number_of_Gaussian,\" mixtures is : \",confusion_matrix3)\n",
        "\n",
        "y3 = (y3-np.min(y3))/(np.max(y3)-np.min(y3))\n",
        "plt.plot(x3,y3) \n",
        "plt.title(\"Log likelihood for 50:50\") \n",
        "plt.ylabel(\"log likelihood\") \n",
        "plt.xlabel(\"Gaussian misture\") \n",
        "plt.show()"
      ],
      "metadata": {
        "id": "sMqVIwBqGKim",
        "colab": {
          "base_uri": "https://localhost:8080/",
          "height": 1000
        },
        "outputId": "3a90ecea-c71d-4d72-ea51-ad84115bad9d"
      },
      "execution_count": null,
      "outputs": [
        {
          "output_type": "stream",
          "name": "stdout",
          "text": [
            "Accuracy for  1  mixtures is :  0.9417\n",
            "F1 scores  1  mixtures is :  [0.9370767960363336, 0.9599607779048864, 0.9823499747856783, 0.9272994608724064, 0.9454056778095078, 0.9552635955429902, 0.9151645444021829, 0.8852686308492201, 0.9553118349975446, 0.9522510231923602]\n",
            "Confusion matrix for  1  mixtures is :  [[2837.   49.   53.   34.    1.    1.    1.    6.   44.    9.]\n",
            " [ 101. 2937.    2.    3.    1.    0.    1.    6.   10.    4.]\n",
            " [   0.    2. 2922.    5.    1.   15.    3.    4.    2.    0.]\n",
            " [  28.   18.   10. 2838.   28.   22.   18.   69.   26.   18.]\n",
            " [   1.   11.    0.   20. 2814.   58.    3.   14.    6.   49.]\n",
            " [   1.    2.    2.   41.   77. 2872.    5.    7.   15.    5.]\n",
            " [   2.    0.    0.   16.    1.    2. 2767.  277.    0.   31.]\n",
            " [   3.    3.    1.   68.   15.    0.  139. 2554.    4.   33.]\n",
            " [  35.   21.    4.   21.   14.   12.    1.    3. 2918.   47.]\n",
            " [  12.   11.    1.    0.   25.    4.   13.   10.    8. 2792.]]\n",
            "Accuracy for  2  mixtures is :  0.9486333333333333\n",
            "F1 scores  2  mixtures is :  [0.9467749958547504, 0.963265306122449, 0.9875922199865862, 0.9345794392523364, 0.950945923321614, 0.960427450325597, 0.9202065633849742, 0.9025060075523516, 0.9624651696443206, 0.956359313975208]\n",
            "Confusion matrix for  2  mixtures is :  [[2855.   53.   28.   30.    1.    0.    0.    4.   34.    6.]\n",
            " [  93. 2950.    1.    4.    2.    0.    3.    7.    8.    3.]\n",
            " [   1.    0. 2945.    2.    1.   10.    3.    3.    4.    0.]\n",
            " [  28.   13.   11. 2850.   26.   25.   14.   46.   25.   15.]\n",
            " [   1.    9.    0.   23. 2840.   57.    7.    9.    7.   43.]\n",
            " [   1.    1.    4.   34.   65. 2876.    3.    2.   12.    5.]\n",
            " [   4.    0.    0.   22.    3.    2. 2762.  228.    1.   30.]\n",
            " [   2.    1.    0.   65.    7.    0.  146. 2629.    0.   26.]\n",
            " [  26.   18.    3.   14.   14.   10.    0.    3. 2936.   44.]\n",
            " [   9.    9.    3.    2.   18.    6.   13.   19.    6. 2816.]]\n",
            "Accuracy for  3  mixtures is :  0.9525\n",
            "F1 scores  3  mixtures is :  [0.9512114171921673, 0.9648208469055375, 0.9892581403155422, 0.9400951912030199, 0.9560714882244864, 0.9659795542148484, 0.925531914893617, 0.9116183284709113, 0.9634006236665026, 0.9560495503139318]\n",
            "Confusion matrix for  3  mixtures is :  [[2866.   40.   25.   28.    1.    0.    1.    3.   37.    5.]\n",
            " [  90. 2962.    2.    4.    2.    0.    3.    7.   12.    4.]\n",
            " [   0.    0. 2947.    3.    1.    5.    3.    2.    1.    1.]\n",
            " [  22.   15.    7. 2864.   25.   24.   18.   35.   24.   13.]\n",
            " [   1.    8.    0.   20. 2862.   55.    4.    9.    7.   44.]\n",
            " [   1.    1.    7.   28.   41. 2882.    3.    3.   11.    4.]\n",
            " [   2.    0.    0.   20.    6.    2. 2784.  215.    0.   36.]\n",
            " [   4.    1.    0.   61.    4.    1.  123. 2656.    0.   27.]\n",
            " [  25.   18.    4.   15.   10.   12.    1.    3. 2935.   37.]\n",
            " [   9.    9.    3.    3.   25.    5.   11.   17.    6. 2817.]]\n",
            "Accuracy for  4  mixtures is :  0.9539\n",
            "F1 scores  4  mixtures is :  [0.9502652519893899, 0.9655060201757241, 0.9894383906119028, 0.9419481797310594, 0.9613204401467156, 0.9690964057776285, 0.9238679714712225, 0.9102475928473177, 0.9684314370272936, 0.9578231292517007]\n",
            "Confusion matrix for  4  mixtures is :  [[2866.   44.   24.   30.    1.    0.    2.    6.   31.    8.]\n",
            " [  94. 2967.    2.    3.    2.    0.    2.    7.    9.    6.]\n",
            " [   0.    0. 2951.    5.    1.    5.    4.    2.    0.    2.]\n",
            " [  19.   11.    6. 2872.   22.   24.   20.   40.   22.   16.]\n",
            " [   2.    5.    0.   19. 2883.   55.    3.    8.    8.   38.]\n",
            " [   0.    2.    6.   26.   33. 2885.    2.    0.   10.    4.]\n",
            " [   3.    0.    0.   19.    3.    0. 2785.  227.    0.   41.]\n",
            " [   3.    0.    0.   58.    5.    1.  122. 2647.    1.   29.]\n",
            " [  26.   13.    3.   13.    6.   11.    1.    3. 2945.   28.]\n",
            " [   7.   12.    3.    1.   21.    5.   10.   10.    7. 2816.]]\n",
            "Accuracy for  5  mixtures is :  0.9546\n",
            "F1 scores  5  mixtures is :  [0.951102270843693, 0.965303795406418, 0.9877742421704907, 0.9451808214694812, 0.9607875855164358, 0.9676658807679354, 0.9257903494176373, 0.9137073254417567, 0.9674449194343966, 0.9602986087546658]\n",
            "Confusion matrix for  5  mixtures is :  [[2869.   46.   26.   23.    1.    0.    1.    5.   34.    8.]\n",
            " [  93. 2963.    1.    4.    1.    2.    3.    7.    8.    3.]\n",
            " [   2.    0. 2949.    3.    1.   13.    3.    2.    3.    0.]\n",
            " [  21.   13.   10. 2888.   21.   25.   18.   30.   25.   14.]\n",
            " [   2.    7.    0.   16. 2879.   56.    4.    9.    7.   36.]\n",
            " [   1.    1.    5.   24.   36. 2873.    2.    0.    6.    4.]\n",
            " [   2.    0.    0.   18.    3.    1. 2782.  219.    0.   34.]\n",
            " [   3.    1.    0.   59.    7.    2.  120. 2663.    1.   23.]\n",
            " [  19.   16.    2.   11.    9.   10.    1.    3. 2942.   36.]\n",
            " [   8.    7.    2.    0.   19.    4.   17.   12.    7. 2830.]]\n",
            "Accuracy for  6  mixtures is :  0.9539\n",
            "F1 scores  6  mixtures is :  [0.9507053941908714, 0.96484375, 0.9897736797988265, 0.9410218498439297, 0.9600668337510443, 0.9680655408794516, 0.926918594972532, 0.913766500942911, 0.9656645309676359, 0.9571865443425076]\n",
            "Confusion matrix for  6  mixtures is :  [[2864.   49.   24.   20.    1.    0.    1.    5.   38.    3.]\n",
            " [  91. 2964.    1.    6.    2.    1.    4.    8.    8.    5.]\n",
            " [   1.    0. 2952.    4.    0.    6.    3.    2.    1.    1.]\n",
            " [  23.   10.    6. 2864.   21.   21.   20.   35.   27.   14.]\n",
            " [   1.    6.    0.   19. 2873.   50.    3.   10.    6.   40.]\n",
            " [   1.    2.    7.   34.   40. 2895.    2.    0.    8.    6.]\n",
            " [   3.    0.    0.   19.    3.    1. 2784.  208.    0.   38.]\n",
            " [   3.    1.    0.   61.    5.    2.  121. 2665.    0.   25.]\n",
            " [  24.   12.    3.   16.   12.    6.    1.    2. 2939.   39.]\n",
            " [   9.   10.    2.    3.   20.    4.   12.   15.    6. 2817.]]\n"
          ]
        },
        {
          "output_type": "display_data",
          "data": {
            "text/plain": [
              "<Figure size 432x288 with 1 Axes>"
            ],
            "image/png": "[encoded data removed]"
          },
          "metadata": {
            "needs_background": "light"
          }
        }
      ]
    },
    {
      "cell_type": "markdown",
      "source": [
        "## Model 4 - 70:30"
      ],
      "metadata": {
        "id": "3wRhYjDshsrC"
      }
    },
    {
      "cell_type": "code",
      "source": [
        "count = 42000"
      ],
      "metadata": {
        "id": "YrQdCpoRhsrD"
      },
      "execution_count": 222,
      "outputs": []
    },
    {
      "cell_type": "code",
      "source": [
        "X_train = dataset[0:count,1:]"
      ],
      "metadata": {
        "id": "iCDAImy1hsrD"
      },
      "execution_count": 223,
      "outputs": []
    },
    {
      "cell_type": "code",
      "source": [
        "Y_train =dataset[0:count,0]"
      ],
      "metadata": {
        "id": "narswU2shsrD"
      },
      "execution_count": 224,
      "outputs": []
    },
    {
      "cell_type": "code",
      "source": [
        "X_test = dataset[count:,1:]"
      ],
      "metadata": {
        "id": "zvDl2nPDhsrE"
      },
      "execution_count": 225,
      "outputs": []
    },
    {
      "cell_type": "code",
      "source": [
        "Y_test = dataset[count:,0]"
      ],
      "metadata": {
        "id": "FnsN1tqvhsrE"
      },
      "execution_count": 226,
      "outputs": []
    },
    {
      "cell_type": "code",
      "source": [
        "X_test.shape"
      ],
      "metadata": {
        "colab": {
          "base_uri": "https://localhost:8080/"
        },
        "outputId": "be404eac-1e75-4c0c-820e-2b784c69e664",
        "id": "-cJ7O5YthsrE"
      },
      "execution_count": 227,
      "outputs": [
        {
          "output_type": "execute_result",
          "data": {
            "text/plain": [
              "(18000, 10)"
            ]
          },
          "metadata": {},
          "execution_count": 227
        }
      ]
    },
    {
      "cell_type": "markdown",
      "source": [
        "### (i) Bayes Classifier"
      ],
      "metadata": {
        "id": "aigd5ow9hsrF"
      }
    },
    {
      "cell_type": "code",
      "source": [
        "classes = 10"
      ],
      "metadata": {
        "id": "3h_fY_rZhsrF"
      },
      "execution_count": null,
      "outputs": []
    },
    {
      "cell_type": "code",
      "source": [
        "# creating training datas for different class\n",
        "temp = dataset[0:count,:]\n",
        "lst = []\n",
        "for i in range(classes):\n",
        "  x = temp[np.where(temp[:,0]==i)]\n",
        "  x = x[:,1:]\n",
        "  lst.append(x)"
      ],
      "metadata": {
        "id": "iojvWlhzhsrF"
      },
      "execution_count": null,
      "outputs": []
    },
    {
      "cell_type": "code",
      "source": [
        "mean=[]   # 10 features' mean for each classes\n",
        "for i in range(classes):\n",
        "  a=lst[i]\n",
        "  a = a.mean(axis=0)\n",
        "  mean.append(a)"
      ],
      "metadata": {
        "id": "BcTXskLZhsrF"
      },
      "execution_count": null,
      "outputs": []
    },
    {
      "cell_type": "markdown",
      "source": [
        "#### Training"
      ],
      "metadata": {
        "id": "Dy037St0hsrG"
      }
    },
    {
      "cell_type": "code",
      "source": [
        "count = 0\n",
        "for i in range(X_train.shape[0]):\n",
        "  g = []  #class conditionals\n",
        "  for j in range(classes):\n",
        "    v = (X_train[i]-mean[j])\n",
        "    v = np.power(v,2)\n",
        "    k = 0.5 * np.sum(v)\n",
        "    k = math.exp(-k)\n",
        "    g.append(k)\n",
        "  k = g.index(max(g))\n",
        "  if k==int(Y_train[i]):\n",
        "    count=count+1"
      ],
      "metadata": {
        "id": "uR-tjK14hsrG"
      },
      "execution_count": null,
      "outputs": []
    },
    {
      "cell_type": "code",
      "source": [
        "print('Train accuracy is:')\n",
        "print(count*100/X_train.shape[0])"
      ],
      "metadata": {
        "colab": {
          "base_uri": "https://localhost:8080/"
        },
        "outputId": "5c8cb34c-95b8-4a31-8aea-623d0328651e",
        "id": "ZxaCNC4EhsrG"
      },
      "execution_count": null,
      "outputs": [
        {
          "output_type": "stream",
          "name": "stdout",
          "text": [
            "Train accuracy is:\n",
            "82.24047619047619\n"
          ]
        }
      ]
    },
    {
      "cell_type": "markdown",
      "source": [
        "#### Testing"
      ],
      "metadata": {
        "id": "ZLwAyvXBhsrG"
      }
    },
    {
      "cell_type": "code",
      "source": [
        "conf_matrix = np.zeros((classes,classes))\n",
        "count = 0\n",
        "for i in range(X_test.shape[0]):\n",
        "  g = []  #class conditionals\n",
        "  for j in range(classes):\n",
        "    v = (X_test[i]-mean[j])\n",
        "    v = np.power(v,2)\n",
        "    k = 0.5 * np.sum(v)\n",
        "    k = math.exp(-k)\n",
        "    g.append(k)\n",
        "  k = g.index(max(g))\n",
        "  if k==int(Y_test[i]):\n",
        "    count=count+1\n",
        "  v = int(Y_test[i])\n",
        "  conf_matrix[v][k] += 1"
      ],
      "metadata": {
        "id": "i2l3BifrhsrH"
      },
      "execution_count": null,
      "outputs": []
    },
    {
      "cell_type": "code",
      "source": [
        "print('Test accuracy is:')\n",
        "print(count*100/X_test.shape[0])"
      ],
      "metadata": {
        "colab": {
          "base_uri": "https://localhost:8080/"
        },
        "outputId": "605ab436-58c4-4692-b74d-79e8ab7dd20a",
        "id": "l1Z7cIC2hsrH"
      },
      "execution_count": null,
      "outputs": [
        {
          "output_type": "stream",
          "name": "stdout",
          "text": [
            "Test accuracy is:\n",
            "85.76666666666667\n"
          ]
        }
      ]
    },
    {
      "cell_type": "code",
      "source": [
        "print('The confusion matrix for above testing data is:')\n",
        "print(conf_matrix.astype(int))"
      ],
      "metadata": {
        "colab": {
          "base_uri": "https://localhost:8080/"
        },
        "outputId": "a3be3132-7e7a-431f-86c9-fa807e795b9c",
        "id": "AcuTJfjkhsrH"
      },
      "execution_count": null,
      "outputs": [
        {
          "output_type": "stream",
          "name": "stdout",
          "text": [
            "The confusion matrix for above testing data is:\n",
            "[[1556  120    1   33    7    0    5   14   57    7]\n",
            " [  61 1585    0  105   19    2    1    0   22    5]\n",
            " [  42   10 1450   45    6  233    1    9    3    1]\n",
            " [   6    0    0 1628   22   29   17   98    0    0]\n",
            " [   0    0    0   14 1754   29    0    1    0    2]\n",
            " [   0   11   35   58   46 1631    7    8    2    2]\n",
            " [   0    0    0    7    2    7 1597  187    0    0]\n",
            " [   0    1   10   64   19   10  722  974    0    0]\n",
            " [  77    3    0    1   11    9    1    1 1672   25]\n",
            " [  15   15    0    8   54    0    2   29   86 1591]]\n"
          ]
        }
      ]
    },
    {
      "cell_type": "code",
      "source": [
        "# Storing True positive True negative, False Positive, False negative and F values in a list scores\n",
        "TP=[]\n",
        "TN=[]\n",
        "FP=[]\n",
        "FN=[]\n",
        "F1=[]\n",
        "for i in range(classes):\n",
        "  TP.append(conf_matrix[i][i])\n",
        "  TN.append(np.sum(conf_matrix)-np.sum(conf_matrix[i,:])-np.sum(conf_matrix[:,i])+conf_matrix[i][i])\n",
        "  FP.append(np.sum(conf_matrix[i,:])-conf_matrix[i][i])\n",
        "  FN.append(np.sum(conf_matrix[:,i])-conf_matrix[i][i])\n",
        "  F1.append((2*TP[i])/(2*TP[i] + FP[i] + FN[i]))"
      ],
      "metadata": {
        "id": "SbIK62WohsrI"
      },
      "execution_count": null,
      "outputs": []
    },
    {
      "cell_type": "code",
      "source": [
        "print('F1 scores for corresponding classes are:')\n",
        "print(F1)"
      ],
      "metadata": {
        "colab": {
          "base_uri": "https://localhost:8080/"
        },
        "outputId": "5e9691ae-da81-4366-dfd3-366713b1a4d7",
        "id": "D3xWvoULhsrI"
      },
      "execution_count": null,
      "outputs": [
        {
          "output_type": "stream",
          "name": "stdout",
          "text": [
            "F1 scores for corresponding classes are:\n",
            "[0.8748945740792803, 0.8942172073342737, 0.8798543689320388, 0.865267074142971, 0.9379679144385027, 0.8698666666666667, 0.7690825908981459, 0.6241589234219801, 0.9181768259198243, 0.9268861054471308]\n"
          ]
        }
      ]
    },
    {
      "cell_type": "code",
      "source": [],
      "metadata": {
        "id": "7b5V_16OhsrI"
      },
      "execution_count": null,
      "outputs": []
    },
    {
      "cell_type": "markdown",
      "source": [
        "### (ii) Logistic regression"
      ],
      "metadata": {
        "id": "IOcQOGB6hsrI"
      }
    },
    {
      "cell_type": "code",
      "source": [
        "tmp = np.ones((X_train.shape[0],1))  # Creating augmented data\n",
        "X_train=np.column_stack((X_train,tmp))\n",
        "X_train.shape"
      ],
      "metadata": {
        "colab": {
          "base_uri": "https://localhost:8080/"
        },
        "outputId": "b9960024-8c61-44d9-9b1b-f3b02c27dd2c",
        "id": "BdCMH1NbhsrJ"
      },
      "execution_count": 228,
      "outputs": [
        {
          "output_type": "execute_result",
          "data": {
            "text/plain": [
              "(42000, 11)"
            ]
          },
          "metadata": {},
          "execution_count": 228
        }
      ]
    },
    {
      "cell_type": "code",
      "source": [
        "tmp = np.ones((X_test.shape[0],1))  # Creating augmented data\n",
        "X_test=np.column_stack((X_test,tmp))\n",
        "X_test.shape"
      ],
      "metadata": {
        "colab": {
          "base_uri": "https://localhost:8080/"
        },
        "outputId": "90651652-5ced-446f-d1e2-5c8a18a58b65",
        "id": "_A8-pvXehsrJ"
      },
      "execution_count": 229,
      "outputs": [
        {
          "output_type": "execute_result",
          "data": {
            "text/plain": [
              "(18000, 11)"
            ]
          },
          "metadata": {},
          "execution_count": 229
        }
      ]
    },
    {
      "cell_type": "markdown",
      "source": [
        "#### Training"
      ],
      "metadata": {
        "id": "LY_ddCX6hsrJ"
      }
    },
    {
      "cell_type": "code",
      "source": [
        "classes = 10"
      ],
      "metadata": {
        "id": "zaeleQkkhsrJ"
      },
      "execution_count": 230,
      "outputs": []
    },
    {
      "cell_type": "code",
      "source": [
        "W=[]\n",
        "for i in range(10):\n",
        "  W.append(np.ones((11,1))/11)"
      ],
      "metadata": {
        "id": "xk-GrBjzhsrK"
      },
      "execution_count": 231,
      "outputs": []
    },
    {
      "cell_type": "code",
      "source": [
        "def calc_loss(X,W,j):\n",
        "  X=X.reshape((X.shape[0],1))\n",
        "  # calculating probabilities of each class\n",
        "  e=[]                        # exponent\n",
        "  g = []                      # probabilities (softmax)\n",
        "  grad = []                   # gradient addition for this image\n",
        "  for i in range(classes):\n",
        "    e.append(math.exp(W[i].T@X))\n",
        "  k = sum(e)\n",
        "  for i in range(classes):\n",
        "    g.append(e[i]/k)\n",
        "  loss = -1*math.log(g[j])     # loss for 1 image\n",
        "  for i in range(classes):\n",
        "    if i!=j:\n",
        "      grad.append(-g[i]*X.reshape(X.shape[0]))\n",
        "    else:\n",
        "      grad.append((1-g[i])*X.reshape(X.shape[0]))\n",
        "  return loss,grad"
      ],
      "metadata": {
        "id": "nEYuVMpZhsrP"
      },
      "execution_count": 232,
      "outputs": []
    },
    {
      "cell_type": "code",
      "source": [
        "def train_epoch1():\n",
        "  final_loss = 0\n",
        "  final_grad = np.zeros((11,classes))\n",
        "  for i in range(X_train.shape[0]):\n",
        "    loss,grad = calc_loss(X_train[i,:],W,int(Y_train[i]))\n",
        "    final_loss =final_loss + loss\n",
        "    final_grad = final_grad + np.stack(grad,axis = 1)\n",
        "  return final_loss,final_grad"
      ],
      "metadata": {
        "id": "K600oT13hsrP"
      },
      "execution_count": 233,
      "outputs": []
    },
    {
      "cell_type": "code",
      "source": [
        "epochs = 100\n",
        "alpha = 10\n",
        "prev_loss = 0\n",
        "for i in range(epochs):\n",
        "  loss,grad = train_epoch1()\n",
        "  for j in range(classes):\n",
        "    gradient = grad[:,j].reshape(grad[:,j].shape[0],1)\n",
        "    if prev_loss<loss:\n",
        "      alpha = (alpha/10)\n",
        "    W[j]=W[j]+alpha*gradient/np.linalg.norm(gradient)\n",
        "    prev_loss = loss\n",
        "  print('loss in',i,'epoch is',loss/X_train.shape[0])"
      ],
      "metadata": {
        "colab": {
          "base_uri": "https://localhost:8080/"
        },
        "outputId": "0bffa5ca-5cbb-4f98-872c-fff69cbc8a4f",
        "id": "E-KwszfVhsrQ"
      },
      "execution_count": 234,
      "outputs": [
        {
          "output_type": "stream",
          "name": "stdout",
          "text": [
            "loss in 0 epoch is 2.3025850929949803\n",
            "loss in 1 epoch is 2.1162325306670478\n",
            "loss in 2 epoch is 2.3714373443176093\n",
            "loss in 3 epoch is 2.253144093084993\n",
            "loss in 4 epoch is 2.1452755460959283\n",
            "loss in 5 epoch is 2.0504750338270683\n",
            "loss in 6 epoch is 1.9715954620023344\n",
            "loss in 7 epoch is 1.9109695050310942\n",
            "loss in 8 epoch is 1.86876141111278\n",
            "loss in 9 epoch is 1.8395880829150757\n",
            "loss in 10 epoch is 1.8149293019153623\n",
            "loss in 11 epoch is 1.7905914473680802\n",
            "loss in 12 epoch is 1.766519048847081\n",
            "loss in 13 epoch is 1.7427170420025033\n",
            "loss in 14 epoch is 1.7191881617829037\n",
            "loss in 15 epoch is 1.6959348994541772\n",
            "loss in 16 epoch is 1.6729596188566402\n",
            "loss in 17 epoch is 1.6502645581141626\n",
            "loss in 18 epoch is 1.6278518221792457\n",
            "loss in 19 epoch is 1.6057233756453695\n",
            "loss in 20 epoch is 1.583881035194436\n",
            "loss in 21 epoch is 1.5623264628364233\n",
            "loss in 22 epoch is 1.5410611593603898\n",
            "loss in 23 epoch is 1.5200864584565519\n",
            "loss in 24 epoch is 1.4994035213012988\n",
            "loss in 25 epoch is 1.4790133318081362\n",
            "loss in 26 epoch is 1.458916692475048\n",
            "loss in 27 epoch is 1.4391142209262888\n",
            "loss in 28 epoch is 1.4196063471240512\n",
            "loss in 29 epoch is 1.4003933112979818\n",
            "loss in 30 epoch is 1.3814751625781807\n",
            "loss in 31 epoch is 1.3628517583499133\n",
            "loss in 32 epoch is 1.34452276431306\n",
            "loss in 33 epoch is 1.3264876552443206\n",
            "loss in 34 epoch is 1.3087457164378191\n",
            "loss in 35 epoch is 1.291296045806984\n",
            "loss in 36 epoch is 1.2741375566158533\n",
            "loss in 37 epoch is 1.2572689808109148\n",
            "loss in 38 epoch is 1.2406888729152312\n",
            "loss in 39 epoch is 1.2243956144479933\n",
            "loss in 40 epoch is 1.208387418826323\n",
            "loss in 41 epoch is 1.1926623367072648\n",
            "loss in 42 epoch is 1.1772182617246052\n",
            "loss in 43 epoch is 1.1620529365757808\n",
            "loss in 44 epoch is 1.1471639594128133\n",
            "loss in 45 epoch is 1.132548790493034\n",
            "loss in 46 epoch is 1.118204759044214\n",
            "loss in 47 epoch is 1.1041290703020765\n",
            "loss in 48 epoch is 1.0903188126774082\n",
            "loss in 49 epoch is 1.0767709650140838\n",
            "loss in 50 epoch is 1.0634824038993484\n",
            "loss in 51 epoch is 1.050449910991251\n",
            "loss in 52 epoch is 1.0376701803303332\n",
            "loss in 53 epoch is 1.0251398256038498\n",
            "loss in 54 epoch is 1.0128553873368744\n",
            "loss in 55 epoch is 1.0008133399801304\n",
            "loss in 56 epoch is 0.9890100988803958\n",
            "loss in 57 epoch is 0.9774420270972424\n",
            "loss in 58 epoch is 0.9661054420765267\n",
            "loss in 59 epoch is 0.954996622116786\n",
            "loss in 60 epoch is 0.944111812702017\n",
            "loss in 61 epoch is 0.9334472325460583\n",
            "loss in 62 epoch is 0.9229990796298648\n",
            "loss in 63 epoch is 0.9127635368149835\n",
            "loss in 64 epoch is 0.9027367782626203\n",
            "loss in 65 epoch is 0.8929149762382922\n",
            "loss in 66 epoch is 0.8832943173348159\n",
            "loss in 67 epoch is 0.8738710467444631\n",
            "loss in 68 epoch is 0.8646416739942392\n",
            "loss in 69 epoch is 0.8556038785745133\n",
            "loss in 70 epoch is 0.8467611871833385\n",
            "loss in 71 epoch is 0.8381437637533554\n",
            "loss in 72 epoch is 0.8299001897027629\n",
            "loss in 73 epoch is 0.8222623795679538\n",
            "loss in 74 epoch is 0.8150720697598699\n",
            "loss in 75 epoch is 0.8081076600211591\n",
            "loss in 76 epoch is 0.8013651435787617\n",
            "loss in 77 epoch is 0.7949299678906143\n",
            "loss in 78 epoch is 0.7887784433202043\n",
            "loss in 79 epoch is 0.7830474664033071\n",
            "loss in 80 epoch is 0.7775257987967105\n",
            "loss in 81 epoch is 0.7723410261215323\n",
            "loss in 82 epoch is 0.7671389119613067\n",
            "loss in 83 epoch is 0.7622094500446175\n",
            "loss in 84 epoch is 0.757230240758898\n",
            "loss in 85 epoch is 0.7525190912357674\n",
            "loss in 86 epoch is 0.7477506792332831\n",
            "loss in 87 epoch is 0.74324575485593\n",
            "loss in 88 epoch is 0.7386767463159664\n",
            "loss in 89 epoch is 0.7343667832791331\n",
            "loss in 90 epoch is 0.7299860479283387\n",
            "loss in 91 epoch is 0.7258599212418207\n",
            "loss in 92 epoch is 0.721656800445189\n",
            "loss in 93 epoch is 0.7177036515046015\n",
            "loss in 94 epoch is 0.713668053136678\n",
            "loss in 95 epoch is 0.7098774955551563\n",
            "loss in 96 epoch is 0.7059999395376649\n",
            "loss in 97 epoch is 0.7023622127399156\n",
            "loss in 98 epoch is 0.6986338494239204\n",
            "loss in 99 epoch is 0.6951398970568252\n"
          ]
        }
      ]
    },
    {
      "cell_type": "code",
      "source": [
        "print('Empirical risk on train data is:')\n",
        "print(loss/X_train.shape[0])"
      ],
      "metadata": {
        "colab": {
          "base_uri": "https://localhost:8080/"
        },
        "outputId": "d838d6fc-4a37-4c7b-9622-7b7ced446739",
        "id": "LBuRu9sjhsrQ"
      },
      "execution_count": 235,
      "outputs": [
        {
          "output_type": "stream",
          "name": "stdout",
          "text": [
            "Empirical risk on train data is:\n",
            "0.6951398970568252\n"
          ]
        }
      ]
    },
    {
      "cell_type": "markdown",
      "source": [
        "#### Testing"
      ],
      "metadata": {
        "id": "WHGDWW7ThsrR"
      }
    },
    {
      "cell_type": "code",
      "source": [
        "conf_matrix = np.zeros((classes,classes))\n",
        "loss = 0\n",
        "count = 0\n",
        "for i in range(X_test.shape[0]):\n",
        "  X = X_test[i,:]\n",
        "  X=X.reshape((X.shape[0],1))\n",
        "  # calculating probabilities of each class\n",
        "  e=[]                        # exponent\n",
        "  g = []                      # probabilities (softmax)\n",
        "  grad = []                   # gradient addition for this image\n",
        "  for j in range(classes):\n",
        "    e.append(math.exp(W[j].T@X))\n",
        "  k = sum(e)\n",
        "  for j in range(classes):\n",
        "    g.append(e[j]/k)\n",
        "  k = g.index(max(g))\n",
        "  if k==Y_test[i]:\n",
        "    count = count+1\n",
        "  v = int(Y_test[i])\n",
        "  conf_matrix[v][k] += 1\n",
        "\n",
        "  loss = loss - 1*math.log(g[v])"
      ],
      "metadata": {
        "id": "bz3JYhcHhsrR"
      },
      "execution_count": 236,
      "outputs": []
    },
    {
      "cell_type": "code",
      "source": [
        "print('Test accuracy is:')\n",
        "print(count*100/X_test.shape[0])"
      ],
      "metadata": {
        "colab": {
          "base_uri": "https://localhost:8080/"
        },
        "outputId": "255653e1-256d-47c2-93ec-561a136b4411",
        "id": "u8KT0KkGhsrS"
      },
      "execution_count": 237,
      "outputs": [
        {
          "output_type": "stream",
          "name": "stdout",
          "text": [
            "Test accuracy is:\n",
            "87.25555555555556\n"
          ]
        }
      ]
    },
    {
      "cell_type": "code",
      "source": [
        "print('Empirical risk on test data is:')\n",
        "print(loss/X_test.shape[0])"
      ],
      "metadata": {
        "colab": {
          "base_uri": "https://localhost:8080/"
        },
        "outputId": "0b985173-1db9-4c98-a2c4-1e560093cd96",
        "id": "ZXzDGJLSJiXk"
      },
      "execution_count": 238,
      "outputs": [
        {
          "output_type": "stream",
          "name": "stdout",
          "text": [
            "Empirical risk on test data is:\n",
            "0.5863406604119673\n"
          ]
        }
      ]
    },
    {
      "cell_type": "code",
      "source": [
        "print('The confusion matrix for above testing data is:')\n",
        "print(conf_matrix.astype(int))"
      ],
      "metadata": {
        "colab": {
          "base_uri": "https://localhost:8080/"
        },
        "outputId": "91f6c3a7-6f97-49f0-8db3-7f49e66a856e",
        "id": "NquyJ8t0hsrS"
      },
      "execution_count": 239,
      "outputs": [
        {
          "output_type": "stream",
          "name": "stdout",
          "text": [
            "The confusion matrix for above testing data is:\n",
            "[[1636   73    1   17    0    0    4   15   45    9]\n",
            " [  80 1600    2   72   16    3    0    0   19    8]\n",
            " [  51   10 1530   30    4  154    5   15    0    1]\n",
            " [   6    0    1 1642   23   46   14   65    0    3]\n",
            " [   0    0    0   17 1739   40    0    0    2    2]\n",
            " [   0    9   41   40   29 1655   13    3    3    7]\n",
            " [   0    0   19    3    2   18 1610  143    5    0]\n",
            " [   1    0   73   73   16   15  649  973    0    0]\n",
            " [  58    2    1    0    5    7    0    1 1695   31]\n",
            " [  20    7    1    4   36    0    4   26   76 1626]]\n"
          ]
        }
      ]
    },
    {
      "cell_type": "code",
      "source": [
        "# Storing True positive True negative, False Positive, False negative and F values in a list scores\n",
        "TP=[]\n",
        "TN=[]\n",
        "FP=[]\n",
        "FN=[]\n",
        "F1=[]\n",
        "for i in range(classes):\n",
        "  TP.append(conf_matrix[i][i])\n",
        "  TN.append(np.sum(conf_matrix)-np.sum(conf_matrix[i,:])-np.sum(conf_matrix[:,i])+conf_matrix[i][i])\n",
        "  FP.append(np.sum(conf_matrix[i,:])-conf_matrix[i][i])\n",
        "  FN.append(np.sum(conf_matrix[:,i])-conf_matrix[i][i])\n",
        "  F1.append((2*TP[i])/(2*TP[i] + FP[i] + FN[i]))"
      ],
      "metadata": {
        "id": "Jm-0YmW4hsrS"
      },
      "execution_count": 240,
      "outputs": []
    },
    {
      "cell_type": "code",
      "source": [
        "print('F1 scores for corresponding classes are:')\n",
        "print(F1)"
      ],
      "metadata": {
        "colab": {
          "base_uri": "https://localhost:8080/"
        },
        "outputId": "1ba79550-0d5a-49b5-9698-f834f67245d1",
        "id": "sHVNfJsthsrT"
      },
      "execution_count": 241,
      "outputs": [
        {
          "output_type": "stream",
          "name": "stdout",
          "text": [
            "F1 scores for corresponding classes are:\n",
            "[0.895947426067908, 0.9140245644101685, 0.88209858748919, 0.8880475932936722, 0.9476839237057221, 0.8855002675227395, 0.7855574530373262, 0.6399210785925682, 0.9300411522633745, 0.9326068253513048]\n"
          ]
        }
      ]
    },
    {
      "cell_type": "markdown",
      "source": [
        "### (iii) GMM"
      ],
      "metadata": {
        "id": "57k2PINR0IHS"
      }
    },
    {
      "cell_type": "code",
      "source": [
        "train_dataset4,test_dataset4 = p5_split_dataset(P5dataset,0.7)\n",
        "classes = 10\n",
        "y4 = np.zeros(6)\n",
        "x4 = np.array([1,2,3,4,5,6])\n",
        "for number_of_Gaussian in x4:\n",
        "  Means4,Variance4,Pi4 = p5_GMM_training(train_dataset4,5,number_of_Gaussian)\n",
        "  accuracy4,confusion_matrix4 = p5_GMM_testing(test_dataset4,10,Means4,Variance4,Pi4,number_of_Gaussian)\n",
        "  TP4=[]\n",
        "  TN4=[]\n",
        "  FP4=[]\n",
        "  FN4=[]\n",
        "  F14=[]\n",
        "  for i in range(classes):\n",
        "    TP4.append(confusion_matrix4[i][i])\n",
        "    TN4.append(np.sum(confusion_matrix4)-np.sum(confusion_matrix4[i,:])-np.sum(confusion_matrix4[:,i])+confusion_matrix4[i][i])\n",
        "    FP4.append(np.sum(confusion_matrix4[i,:])-confusion_matrix4[i][i])\n",
        "    FN4.append(np.sum(confusion_matrix4[:,i])-confusion_matrix4[i][i])\n",
        "    F14.append((2*TP4[i])/(2*TP4[i] + FP4[i] + FN4[i]))\n",
        "  y4[number_of_Gaussian-1] = p5_get_likelihood(train_dataset4,Means4,Variance4,Pi4,number_of_Gaussian)\n",
        "  print(\"Accuracy for \",number_of_Gaussian,\" mixtures is : \",accuracy4)\n",
        "  print(\"F1 scores \",number_of_Gaussian,\" mixtures is : \",F14)\n",
        "  print(\"Confusion matrix for \",number_of_Gaussian,\" mixtures is : \",confusion_matrix4)\n",
        "\n",
        "y4 = (y4-np.min(y4))/(np.max(y4)-np.min(y4))\n",
        "plt.plot(x4,y4) \n",
        "plt.title(\"Log likelihood for 70:30\") \n",
        "plt.ylabel(\"log likelihood\") \n",
        "plt.xlabel(\"Gaussian misture\") \n",
        "plt.show()"
      ],
      "metadata": {
        "id": "V4GLg4dxaMUd",
        "colab": {
          "base_uri": "https://localhost:8080/",
          "height": 1000
        },
        "outputId": "f70f9fb9-8c19-4e99-d295-862363819b90"
      },
      "execution_count": null,
      "outputs": [
        {
          "output_type": "stream",
          "name": "stdout",
          "text": [
            "Accuracy for  1  mixtures is :  0.9393333333333334\n",
            "F1 scores  1  mixtures is :  [0.9313063063063063, 0.9571505088377076, 0.9815022421524664, 0.9242298084929226, 0.9455155071248952, 0.9542556140837261, 0.9108262885192255, 0.8812392426850258, 0.9498607242339833, 0.9557277255118982]\n",
            "Confusion matrix for  1  mixtures is :  [[1654.   26.   32.   17.    1.    0.    1.    2.   29.    9.]\n",
            " [  74. 1787.    1.    3.    1.    1.    1.    8.    8.    2.]\n",
            " [   0.    4. 1751.    6.    0.    5.    4.    1.    2.    0.]\n",
            " [  21.    7.    2. 1665.   17.   20.   12.   50.   17.   13.]\n",
            " [   0.    4.    0.   18. 1692.   31.    1.    7.    6.   22.]\n",
            " [   1.    2.    3.   21.   46. 1721.    4.    8.   13.    0.]\n",
            " [   0.    0.    0.    8.    1.    0. 1670.  186.    1.   21.]\n",
            " [   3.    2.    1.   30.    4.    0.   82. 1536.    5.   17.]\n",
            " [  24.   11.    5.   10.   12.    6.    1.    2. 1705.   20.]\n",
            " [   4.    5.    0.    1.   24.    4.    4.    6.    8. 1727.]]\n",
            "Accuracy for  2  mixtures is :  0.9453333333333334\n",
            "F1 scores  2  mixtures is :  [0.9367231638418079, 0.9617749264902432, 0.9831460674157303, 0.9263274951348346, 0.9515320334261839, 0.9589958158995816, 0.9200769019500137, 0.8980403294518603, 0.9572697003329633, 0.9582988124827396]\n",
            "Confusion matrix for  2  mixtures is :  [[1658.   23.   31.   15.    1.    0.    1.    1.   23.    6.]\n",
            " [  73. 1799.    1.    4.    2.    1.    1.    8.    3.    1.]\n",
            " [   0.    1. 1750.    3.    0.    6.    2.    0.    3.    0.]\n",
            " [  20.    7.    2. 1666.   18.   22.   15.   36.   19.   13.]\n",
            " [   0.    3.    0.   17. 1708.   31.    1.    6.    6.   20.]\n",
            " [   1.    2.    3.   17.   38. 1719.    4.    6.    7.    0.]\n",
            " [   0.    0.    0.    6.    3.    0. 1675.  154.    1.   22.]\n",
            " [   4.    1.    1.   39.    2.    0.   73. 1581.    0.   14.]\n",
            " [  23.    9.    6.    8.   10.    5.    1.    3. 1725.   20.]\n",
            " [   2.    3.    1.    4.   16.    4.    7.   11.    7. 1735.]]\n",
            "Accuracy for  3  mixtures is :  0.9488888888888889\n",
            "F1 scores  3  mixtures is :  [0.9462973431317129, 0.9631607047517352, 0.9893497757847534, 0.9306875349357183, 0.9515050167224081, 0.9602225312934631, 0.9246838922484881, 0.9052333804809052, 0.9598438371444507, 0.9570011025358324]\n",
            "Confusion matrix for  3  mixtures is :  [[1674.   19.   14.   19.    0.    0.    0.    1.   24.    6.]\n",
            " [  69. 1804.    2.    3.    0.    2.    1.    8.    7.    2.]\n",
            " [   0.    0. 1765.    2.    0.    2.    2.    0.    2.    0.]\n",
            " [  12.    7.    2. 1665.   17.   22.   13.   30.   19.   12.]\n",
            " [   0.    3.    0.   17. 1707.   29.    2.    6.    6.   20.]\n",
            " [   1.    4.    3.   17.   45. 1726.    1.    3.    7.    0.]\n",
            " [   0.    0.    0.    9.    1.    0. 1682.  143.    2.   21.]\n",
            " [   2.    1.    0.   40.    2.    0.   70. 1600.    0.   14.]\n",
            " [  20.    7.    6.    5.    5.    5.    1.    2. 1721.   20.]\n",
            " [   3.    3.    3.    2.   21.    2.    8.   13.    6. 1736.]]\n",
            "Accuracy for  4  mixtures is :  0.9511666666666667\n",
            "F1 scores  4  mixtures is :  [0.9449929478138223, 0.9609625668449198, 0.9896676905892209, 0.9346733668341709, 0.9541539316476799, 0.9678141617688217, 0.926222713456756, 0.9120044981726174, 0.9625907314349526, 0.9580342352291552]\n",
            "Confusion matrix for  4  mixtures is :  [[1675.   27.   11.   16.    1.    0.    2.    1.   24.    7.]\n",
            " [  71. 1797.    0.    5.    1.    1.    0.    9.    5.    3.]\n",
            " [   0.    0. 1772.    4.    0.    4.    4.    0.    2.    0.]\n",
            " [  13.    5.    4. 1674.   18.   20.   15.   25.   18.   11.]\n",
            " [   0.    3.    0.   15. 1717.   29.    2.    5.    6.   24.]\n",
            " [   1.    1.    1.   17.   26. 1729.    1.    2.    7.    0.]\n",
            " [   0.    0.    0.    8.    1.    0. 1676.  133.    1.   20.]\n",
            " [   3.    1.    0.   33.    1.    0.   73. 1622.    0.   18.]\n",
            " [  16.   10.    4.    4.   11.    3.    1.    2. 1724.   13.]\n",
            " [   2.    4.    3.    3.   22.    2.    6.    7.    7. 1735.]]\n",
            "Accuracy for  5  mixtures is :  0.9522777777777778\n",
            "F1 scores  5  mixtures is :  [0.9456706281833617, 0.9642094017094017, 0.9902097902097902, 0.9375696767001115, 0.9566418116542391, 0.967941507311586, 0.9246480817002484, 0.9117977528089888, 0.9651130337705833, 0.9585176991150443]\n",
            "Confusion matrix for  5  mixtures is :  [[1671.   22.   13.   15.    0.    0.    2.    1.   22.    7.]\n",
            " [  68. 1805.    2.    4.    1.    0.    1.    9.    3.    3.]\n",
            " [   1.    0. 1770.    2.    0.    3.    2.    0.    2.    0.]\n",
            " [  17.    5.    3. 1682.   17.   20.   12.   23.   19.   11.]\n",
            " [   0.    3.    0.   15. 1732.   37.    2.    5.    5.   24.]\n",
            " [   0.    2.    2.   14.   21. 1721.    1.    1.    6.    0.]\n",
            " [   0.    0.    0.    8.    1.    0. 1675.  135.    2.   22.]\n",
            " [   3.    1.    1.   31.    1.    0.   77. 1623.    0.   17.]\n",
            " [  18.    8.    3.    5.    5.    4.    1.    2. 1729.   14.]\n",
            " [   3.    2.    1.    3.   20.    3.    7.    7.    6. 1733.]]\n",
            "Accuracy for  6  mixtures is :  0.9516666666666667\n",
            "F1 scores  6  mixtures is :  [0.9494493081050551, 0.9653887113951012, 0.9899159663865547, 0.9308909242298085, 0.9575353871773522, 0.9672177080414682, 0.9244614125988546, 0.9033733562035449, 0.9666946543520851, 0.9607734806629834]\n",
            "Confusion matrix for  6  mixtures is :  [[1681.   17.   14.   17.    0.    0.    2.    1.   20.    8.]\n",
            " [  69. 1813.    0.    5.    1.    0.    1.    9.    7.    3.]\n",
            " [   0.    0. 1767.    3.    0.    2.    2.    0.    1.    0.]\n",
            " [  12.    6.    4. 1677.   19.   23.   14.   40.   19.   10.]\n",
            " [   0.    3.    0.   14. 1725.   32.    2.    5.    6.   18.]\n",
            " [   1.    1.    3.   14.   26. 1726.    1.    4.    5.    0.]\n",
            " [   0.    0.    0.    8.    2.    0. 1695.  158.    1.   23.]\n",
            " [   2.    1.    0.   33.    4.    0.   55. 1580.    2.   15.]\n",
            " [  14.    4.    4.    5.    4.    3.    1.    2. 1727.   15.]\n",
            " [   2.    3.    3.    3.   17.    2.    7.    7.    6. 1739.]]\n"
          ]
        },
        {
          "output_type": "display_data",
          "data": {
            "text/plain": [
              "<Figure size 432x288 with 1 Axes>"
            ],
            "image/png": "[encoded data removed]"
          },
          "metadata": {
            "needs_background": "light"
          }
        }
      ]
    },
    {
      "cell_type": "markdown",
      "source": [
        "## Model 5 - 90:10"
      ],
      "metadata": {
        "id": "EXC0nxaKh1nz"
      }
    },
    {
      "cell_type": "code",
      "source": [
        "count = 54000"
      ],
      "metadata": {
        "id": "l74wvV0ah1nz"
      },
      "execution_count": 242,
      "outputs": []
    },
    {
      "cell_type": "code",
      "source": [
        "X_train = dataset[0:count,1:]"
      ],
      "metadata": {
        "id": "yC5L4ARnh1n0"
      },
      "execution_count": 243,
      "outputs": []
    },
    {
      "cell_type": "code",
      "source": [
        "Y_train =dataset[0:count,0]"
      ],
      "metadata": {
        "id": "J4RB9ZqCh1n0"
      },
      "execution_count": 244,
      "outputs": []
    },
    {
      "cell_type": "code",
      "source": [
        "X_test = dataset[count:,1:]"
      ],
      "metadata": {
        "id": "jHaAt0wJh1n0"
      },
      "execution_count": 245,
      "outputs": []
    },
    {
      "cell_type": "code",
      "source": [
        "\n",
        "Y_test = dataset[count:,0]"
      ],
      "metadata": {
        "id": "jC8e-p1Ch1n1"
      },
      "execution_count": 246,
      "outputs": []
    },
    {
      "cell_type": "code",
      "source": [
        "X_test.shape"
      ],
      "metadata": {
        "colab": {
          "base_uri": "https://localhost:8080/"
        },
        "outputId": "ca228d38-673d-4cf4-b90f-759cd116500b",
        "id": "euvPkyg3h1n1"
      },
      "execution_count": 247,
      "outputs": [
        {
          "output_type": "execute_result",
          "data": {
            "text/plain": [
              "(6000, 10)"
            ]
          },
          "metadata": {},
          "execution_count": 247
        }
      ]
    },
    {
      "cell_type": "markdown",
      "source": [
        "### (i) Bayes Classifier"
      ],
      "metadata": {
        "id": "L4FFxoDwh1n1"
      }
    },
    {
      "cell_type": "code",
      "source": [
        "classes = 10"
      ],
      "metadata": {
        "id": "rWtz4f4ch1n2"
      },
      "execution_count": null,
      "outputs": []
    },
    {
      "cell_type": "code",
      "source": [
        "# creating training datas for different class\n",
        "temp = dataset[0:count,:]\n",
        "lst = []\n",
        "for i in range(classes):\n",
        "  x = temp[np.where(temp[:,0]==i)]\n",
        "  x = x[:,1:]\n",
        "  lst.append(x)"
      ],
      "metadata": {
        "id": "ede9mW3Ih1n2"
      },
      "execution_count": null,
      "outputs": []
    },
    {
      "cell_type": "code",
      "source": [
        "mean=[]   # 10 features' mean for each classes\n",
        "for i in range(classes):\n",
        "  a=lst[i]\n",
        "  a = a.mean(axis=0)\n",
        "  mean.append(a)"
      ],
      "metadata": {
        "id": "s-gtB0IGh1n3"
      },
      "execution_count": null,
      "outputs": []
    },
    {
      "cell_type": "markdown",
      "source": [
        "#### Training"
      ],
      "metadata": {
        "id": "fd2uYlwWh1n3"
      }
    },
    {
      "cell_type": "code",
      "source": [
        "count = 0\n",
        "for i in range(X_train.shape[0]):\n",
        "  g = []  #class conditionals\n",
        "  for j in range(classes):\n",
        "    v = (X_train[i]-mean[j])\n",
        "    v = np.power(v,2)\n",
        "    k = 0.5 * np.sum(v)\n",
        "    k = math.exp(-k)\n",
        "    g.append(k)\n",
        "  k = g.index(max(g))\n",
        "  if k==int(Y_train[i]):\n",
        "    count=count+1"
      ],
      "metadata": {
        "id": "CGwglnh1h1n3"
      },
      "execution_count": null,
      "outputs": []
    },
    {
      "cell_type": "code",
      "source": [
        "print('Train accuracy is:')\n",
        "print(count*100/X_train.shape[0])"
      ],
      "metadata": {
        "colab": {
          "base_uri": "https://localhost:8080/"
        },
        "outputId": "90c586ed-6301-460e-f293-f4c75e7b7518",
        "id": "ZgXWxdFWh1n4"
      },
      "execution_count": null,
      "outputs": [
        {
          "output_type": "stream",
          "name": "stdout",
          "text": [
            "Train accuracy is:\n",
            "82.9888888888889\n"
          ]
        }
      ]
    },
    {
      "cell_type": "markdown",
      "source": [
        "#### Testing"
      ],
      "metadata": {
        "id": "I1IILxPWh1n5"
      }
    },
    {
      "cell_type": "code",
      "source": [
        "conf_matrix = np.zeros((classes,classes))\n",
        "count = 0\n",
        "for i in range(X_test.shape[0]):\n",
        "  g = []  #class conditionals\n",
        "  for j in range(classes):\n",
        "    v = (X_test[i]-mean[j])\n",
        "    v = np.power(v,2)\n",
        "    k = 0.5 * np.sum(v)\n",
        "    k = math.exp(-k)\n",
        "    g.append(k)\n",
        "  k = g.index(max(g))\n",
        "  if k==int(Y_test[i]):\n",
        "    count=count+1\n",
        "  v = int(Y_test[i])\n",
        "  conf_matrix[v][k] += 1"
      ],
      "metadata": {
        "id": "njygF1IEh1n5"
      },
      "execution_count": null,
      "outputs": []
    },
    {
      "cell_type": "code",
      "source": [
        "print('Test accuracy is:')\n",
        "print(count*100/X_test.shape[0])"
      ],
      "metadata": {
        "colab": {
          "base_uri": "https://localhost:8080/"
        },
        "outputId": "1d22d06b-7adc-43f2-ea7d-4fe53583352f",
        "id": "cqISGIlNh1n6"
      },
      "execution_count": null,
      "outputs": [
        {
          "output_type": "stream",
          "name": "stdout",
          "text": [
            "Test accuracy is:\n",
            "86.46666666666667\n"
          ]
        }
      ]
    },
    {
      "cell_type": "code",
      "source": [
        "print('The confusion matrix for above testing data is:')\n",
        "print(conf_matrix.astype(int))"
      ],
      "metadata": {
        "colab": {
          "base_uri": "https://localhost:8080/"
        },
        "outputId": "be509ed5-36da-44d4-bf29-a8ff659fec9b",
        "id": "uN8YOjq9h1n6"
      },
      "execution_count": null,
      "outputs": [
        {
          "output_type": "stream",
          "name": "stdout",
          "text": [
            "The confusion matrix for above testing data is:\n",
            "[[556  21   0  16   0   0   0   0   6   1]\n",
            " [ 14 494   0  66  15   0   0   0   9   2]\n",
            " [ 33   9 483  20   4  42   0   5   3   1]\n",
            " [  2   0   0 554  16   5   1  22   0   0]\n",
            " [  0   0   0   3 592   4   0   1   0   0]\n",
            " [  0  12  33  12  13 524   3   2   0   1]\n",
            " [  0   0   0   1   0   2 540  57   0   0]\n",
            " [  0   0   4  12   2   0 221 361   0   0]\n",
            " [ 35   1   0   0   2   3   0   1 550   8]\n",
            " [  7   1   0   4  23   0   1   8  22 534]]\n"
          ]
        }
      ]
    },
    {
      "cell_type": "code",
      "source": [
        "# Storing True positive True negative, False Positive, False negative and F values in a list scores\n",
        "TP=[]\n",
        "TN=[]\n",
        "FP=[]\n",
        "FN=[]\n",
        "F1=[]\n",
        "for i in range(classes):\n",
        "  TP.append(conf_matrix[i][i])\n",
        "  TN.append(np.sum(conf_matrix)-np.sum(conf_matrix[i,:])-np.sum(conf_matrix[:,i])+conf_matrix[i][i])\n",
        "  FP.append(np.sum(conf_matrix[i,:])-conf_matrix[i][i])\n",
        "  FN.append(np.sum(conf_matrix[:,i])-conf_matrix[i][i])\n",
        "  F1.append((2*TP[i])/(2*TP[i] + FP[i] + FN[i]))"
      ],
      "metadata": {
        "id": "w6kSz1DOh1n6"
      },
      "execution_count": null,
      "outputs": []
    },
    {
      "cell_type": "code",
      "source": [
        "print('F1 scores for corresponding classes are:')\n",
        "print(F1)"
      ],
      "metadata": {
        "colab": {
          "base_uri": "https://localhost:8080/"
        },
        "outputId": "43c660fb-a675-4e66-e331-a71b848150fc",
        "id": "cfbsshZkh1n7"
      },
      "execution_count": null,
      "outputs": [
        {
          "output_type": "stream",
          "name": "stdout",
          "text": [
            "F1 scores for corresponding classes are:\n",
            "[0.8917401764234162, 0.8681898066783831, 0.8625, 0.860248447204969, 0.9344909234411997, 0.888135593220339, 0.7906295754026355, 0.6830652790917692, 0.9243697478991597, 0.9311246730601569]\n"
          ]
        }
      ]
    },
    {
      "cell_type": "code",
      "source": [],
      "metadata": {
        "id": "FXI--njdh1n7"
      },
      "execution_count": null,
      "outputs": []
    },
    {
      "cell_type": "markdown",
      "source": [
        "### (ii) Logistic regression"
      ],
      "metadata": {
        "id": "FA-Vt5Yph1n7"
      }
    },
    {
      "cell_type": "code",
      "source": [
        "tmp = np.ones((X_train.shape[0],1))  # Creating augmented data\n",
        "X_train=np.column_stack((X_train,tmp))\n",
        "X_train.shape"
      ],
      "metadata": {
        "colab": {
          "base_uri": "https://localhost:8080/"
        },
        "outputId": "2202c4af-1c98-4df4-fe0f-16e61fdac4c5",
        "id": "SFEc_LnPh1n8"
      },
      "execution_count": 248,
      "outputs": [
        {
          "output_type": "execute_result",
          "data": {
            "text/plain": [
              "(54000, 11)"
            ]
          },
          "metadata": {},
          "execution_count": 248
        }
      ]
    },
    {
      "cell_type": "code",
      "source": [
        "tmp = np.ones((X_test.shape[0],1))  # Creating augmented data\n",
        "X_test=np.column_stack((X_test,tmp))\n",
        "X_test.shape"
      ],
      "metadata": {
        "colab": {
          "base_uri": "https://localhost:8080/"
        },
        "outputId": "641c026e-df44-4749-a62b-8015a1898b4d",
        "id": "_-xXFngPh1n8"
      },
      "execution_count": 249,
      "outputs": [
        {
          "output_type": "execute_result",
          "data": {
            "text/plain": [
              "(6000, 11)"
            ]
          },
          "metadata": {},
          "execution_count": 249
        }
      ]
    },
    {
      "cell_type": "markdown",
      "source": [
        "#### Training"
      ],
      "metadata": {
        "id": "H7gqsYCGh1n9"
      }
    },
    {
      "cell_type": "code",
      "source": [
        "classes = 10"
      ],
      "metadata": {
        "id": "7_8YtkBfh1n9"
      },
      "execution_count": 250,
      "outputs": []
    },
    {
      "cell_type": "code",
      "source": [
        "W=[]\n",
        "for i in range(10):\n",
        "  W.append(np.ones((11,1))/11)"
      ],
      "metadata": {
        "id": "2GvtojHkh1n9"
      },
      "execution_count": 251,
      "outputs": []
    },
    {
      "cell_type": "code",
      "source": [
        "def calc_loss(X,W,j):\n",
        "  X=X.reshape((X.shape[0],1))\n",
        "  # calculating probabilities of each class\n",
        "  e=[]                        # exponent\n",
        "  g = []                      # probabilities (softmax)\n",
        "  grad = []                   # gradient addition for this image\n",
        "  for i in range(classes):\n",
        "    e.append(math.exp(W[i].T@X))\n",
        "  k = sum(e)\n",
        "  for i in range(classes):\n",
        "    g.append(e[i]/k)\n",
        "  loss = -1*math.log(g[j])     # loss for 1 image\n",
        "  for i in range(classes):\n",
        "    if i!=j:\n",
        "      grad.append(-g[i]*X.reshape(X.shape[0]))\n",
        "    else:\n",
        "      grad.append((1-g[i])*X.reshape(X.shape[0]))\n",
        "  return loss,grad"
      ],
      "metadata": {
        "id": "bcCCX7pXh1n9"
      },
      "execution_count": 252,
      "outputs": []
    },
    {
      "cell_type": "code",
      "source": [
        "def train_epoch1():\n",
        "  final_loss = 0\n",
        "  final_grad = np.zeros((11,classes))\n",
        "  for i in range(X_train.shape[0]):\n",
        "    loss,grad = calc_loss(X_train[i,:],W,int(Y_train[i]))\n",
        "    final_loss =final_loss + loss\n",
        "    final_grad = final_grad + np.stack(grad,axis = 1)\n",
        "  return final_loss,final_grad"
      ],
      "metadata": {
        "id": "bQ58Hciuh1n-"
      },
      "execution_count": 253,
      "outputs": []
    },
    {
      "cell_type": "code",
      "source": [
        "epochs = 100\n",
        "alpha = 10\n",
        "prev_loss = 0\n",
        "for i in range(epochs):\n",
        "  loss,grad = train_epoch1()\n",
        "  for j in range(classes):\n",
        "    gradient = grad[:,j].reshape(grad[:,j].shape[0],1)\n",
        "    if prev_loss<loss:\n",
        "      alpha = (alpha/10)\n",
        "    W[j]=W[j]+alpha*gradient/np.linalg.norm(gradient)\n",
        "    prev_loss = loss\n",
        "  print('loss in',i,'epoch is',loss/X_train.shape[0])"
      ],
      "metadata": {
        "colab": {
          "base_uri": "https://localhost:8080/"
        },
        "outputId": "1c85dba3-f5b9-45f7-e1b5-344d52b4747a",
        "id": "qr72QN7Th1oC"
      },
      "execution_count": 254,
      "outputs": [
        {
          "output_type": "stream",
          "name": "stdout",
          "text": [
            "loss in 0 epoch is 2.3025850929958565\n",
            "loss in 1 epoch is 2.108518530824101\n",
            "loss in 2 epoch is 2.352762533611664\n",
            "loss in 3 epoch is 2.235000675404945\n",
            "loss in 4 epoch is 2.1278035235401096\n",
            "loss in 5 epoch is 2.0337815488745123\n",
            "loss in 6 epoch is 1.9557272619289174\n",
            "loss in 7 epoch is 1.8958207054542053\n",
            "loss in 8 epoch is 1.8537970124619976\n",
            "loss in 9 epoch is 1.8240904038608008\n",
            "loss in 10 epoch is 1.7989122041313743\n",
            "loss in 11 epoch is 1.774074655746\n",
            "loss in 12 epoch is 1.7495135332779301\n",
            "loss in 13 epoch is 1.7252335174669955\n",
            "loss in 14 epoch is 1.7012374713511316\n",
            "loss in 15 epoch is 1.6775280282275251\n",
            "loss in 16 epoch is 1.654107684352965\n",
            "loss in 17 epoch is 1.6309787970402403\n",
            "loss in 18 epoch is 1.608143576805768\n",
            "loss in 19 epoch is 1.5856040793005033\n",
            "loss in 20 epoch is 1.5633621974472451\n",
            "loss in 21 epoch is 1.5414196541351872\n",
            "loss in 22 epoch is 1.5197779953761301\n",
            "loss in 23 epoch is 1.4984385840769063\n",
            "loss in 24 epoch is 1.477402594418535\n",
            "loss in 25 epoch is 1.456671006920144\n",
            "loss in 26 epoch is 1.4362446042046453\n",
            "loss in 27 epoch is 1.4161239675082866\n",
            "loss in 28 epoch is 1.3963094739497097\n",
            "loss in 29 epoch is 1.3768012945788606\n",
            "loss in 30 epoch is 1.3575993932102983\n",
            "loss in 31 epoch is 1.338703526043249\n",
            "loss in 32 epoch is 1.3201132420605801\n",
            "loss in 33 epoch is 1.301827884193024\n",
            "loss in 34 epoch is 1.2838465912279555\n",
            "loss in 35 epoch is 1.26616830043619\n",
            "loss in 36 epoch is 1.2487917508847606\n",
            "loss in 37 epoch is 1.2317154873989482\n",
            "loss in 38 epoch is 1.2149378651322802\n",
            "loss in 39 epoch is 1.1984570547004707\n",
            "loss in 40 epoch is 1.1822710478324747\n",
            "loss in 41 epoch is 1.1663776634891467\n",
            "loss in 42 epoch is 1.1507745544001249\n",
            "loss in 43 epoch is 1.1354592139674586\n",
            "loss in 44 epoch is 1.1204289834857553\n",
            "loss in 45 epoch is 1.105681059628412\n",
            "loss in 46 epoch is 1.091212502150828\n",
            "loss in 47 epoch is 1.0770202417630896\n",
            "loss in 48 epoch is 1.0631010881263687\n",
            "loss in 49 epoch is 1.049451737929315\n",
            "loss in 50 epoch is 1.0360687830037787\n",
            "loss in 51 epoch is 1.022948718440976\n",
            "loss in 52 epoch is 1.0100879506727345\n",
            "loss in 53 epoch is 0.9974828054850731\n",
            "loss in 54 epoch is 0.9851295359340475\n",
            "loss in 55 epoch is 0.9730243301372121\n",
            "loss in 56 epoch is 0.9611633189164995\n",
            "loss in 57 epoch is 0.9495425832711293\n",
            "loss in 58 epoch is 0.938158161662833\n",
            "loss in 59 epoch is 0.9270060570958031\n",
            "loss in 60 epoch is 0.9160822439806099\n",
            "loss in 61 epoch is 0.9053826747666613\n",
            "loss in 62 epoch is 0.8949032863409219\n",
            "loss in 63 epoch is 0.884640006174686\n",
            "loss in 64 epoch is 0.8745887582327612\n",
            "loss in 65 epoch is 0.864745468605489\n",
            "loss in 66 epoch is 0.8551060709349185\n",
            "loss in 67 epoch is 0.8456665115080766\n",
            "loss in 68 epoch is 0.8364227543546917\n",
            "loss in 69 epoch is 0.8273707860715942\n",
            "loss in 70 epoch is 0.8185066230046218\n",
            "loss in 71 epoch is 0.809826325809691\n",
            "loss in 72 epoch is 0.8013260685830605\n",
            "loss in 73 epoch is 0.7930024831765407\n",
            "loss in 74 epoch is 0.7848547410431246\n",
            "loss in 75 epoch is 0.7768960731145855\n",
            "loss in 76 epoch is 0.7692223278740881\n",
            "loss in 77 epoch is 0.7620952304358831\n",
            "loss in 78 epoch is 0.7555400327916583\n",
            "loss in 79 epoch is 0.7491821050717179\n",
            "loss in 80 epoch is 0.7431157875822644\n",
            "loss in 81 epoch is 0.7373281154865027\n",
            "loss in 82 epoch is 0.7318898780763069\n",
            "loss in 83 epoch is 0.726800291731035\n",
            "loss in 84 epoch is 0.7218692754381362\n",
            "loss in 85 epoch is 0.7171501132357567\n",
            "loss in 86 epoch is 0.7124586007757638\n",
            "loss in 87 epoch is 0.7079686462462075\n",
            "loss in 88 epoch is 0.703483745798483\n",
            "loss in 89 epoch is 0.6991914300212902\n",
            "loss in 90 epoch is 0.6949022120967864\n",
            "loss in 91 epoch is 0.6907928095388761\n",
            "loss in 92 epoch is 0.6867049654683657\n",
            "loss in 93 epoch is 0.6827848706658372\n",
            "loss in 94 epoch is 0.6789248394163446\n",
            "loss in 95 epoch is 0.6752113594078227\n",
            "loss in 96 epoch is 0.6715799957451258\n",
            "loss in 97 epoch is 0.6680415618995018\n",
            "loss in 98 epoch is 0.6645807581158569\n",
            "loss in 99 epoch is 0.6611797845553683\n"
          ]
        }
      ]
    },
    {
      "cell_type": "code",
      "source": [
        "print('Empirical risk on train data is:')\n",
        "print(loss/X_train.shape[0])"
      ],
      "metadata": {
        "colab": {
          "base_uri": "https://localhost:8080/"
        },
        "outputId": "2f086e2c-d1fb-49eb-85fa-a55980db9f35",
        "id": "8EerNuyJh1oC"
      },
      "execution_count": 255,
      "outputs": [
        {
          "output_type": "stream",
          "name": "stdout",
          "text": [
            "Empirical risk on train data is:\n",
            "0.6611797845553683\n"
          ]
        }
      ]
    },
    {
      "cell_type": "markdown",
      "source": [
        "#### Testing"
      ],
      "metadata": {
        "id": "dznc2Lxah1oD"
      }
    },
    {
      "cell_type": "code",
      "source": [
        "conf_matrix = np.zeros((classes,classes))\n",
        "count = 0\n",
        "loss = 0\n",
        "for i in range(X_test.shape[0]):\n",
        "  X = X_test[i,:]\n",
        "  X=X.reshape((X.shape[0],1))\n",
        "  # calculating probabilities of each class\n",
        "  e=[]                        # exponent\n",
        "  g = []                      # probabilities (softmax)\n",
        "  grad = []                   # gradient addition for this image\n",
        "  for j in range(classes):\n",
        "    e.append(math.exp(W[j].T@X))\n",
        "  k = sum(e)\n",
        "  for j in range(classes):\n",
        "    g.append(e[j]/k)\n",
        "  k = g.index(max(g))\n",
        "  if k==Y_test[i]:\n",
        "    count = count+1\n",
        "  v = int(Y_test[i])\n",
        "  conf_matrix[v][k] += 1\n",
        "\n",
        "  loss = loss - 1*math.log(g[v])"
      ],
      "metadata": {
        "id": "WZjj-BYHh1oE"
      },
      "execution_count": 256,
      "outputs": []
    },
    {
      "cell_type": "code",
      "source": [
        "print('Test accuracy is:')\n",
        "print(count*100/X_test.shape[0])"
      ],
      "metadata": {
        "colab": {
          "base_uri": "https://localhost:8080/"
        },
        "outputId": "8de7f440-de44-49c7-b743-ebe3b0ce46ea",
        "id": "ryzmgERRh1oE"
      },
      "execution_count": 257,
      "outputs": [
        {
          "output_type": "stream",
          "name": "stdout",
          "text": [
            "Test accuracy is:\n",
            "88.11666666666666\n"
          ]
        }
      ]
    },
    {
      "cell_type": "code",
      "source": [
        "print('Empirical risk on test data is:')\n",
        "print(loss/X_test.shape[0])"
      ],
      "metadata": {
        "colab": {
          "base_uri": "https://localhost:8080/"
        },
        "outputId": "8cd4cb6d-6b62-455e-ccaa-43d01e0f61af",
        "id": "KIvrQK3fOfYq"
      },
      "execution_count": 258,
      "outputs": [
        {
          "output_type": "stream",
          "name": "stdout",
          "text": [
            "Empirical risk on test data is:\n",
            "0.5694684897961244\n"
          ]
        }
      ]
    },
    {
      "cell_type": "code",
      "source": [
        "print('The confusion matrix for above testing data is:')\n",
        "print(conf_matrix.astype(int))"
      ],
      "metadata": {
        "colab": {
          "base_uri": "https://localhost:8080/"
        },
        "outputId": "eb96b21d-5060-44af-8398-fc19d65b7516",
        "id": "uNRC3e3Jh1oF"
      },
      "execution_count": 259,
      "outputs": [
        {
          "output_type": "stream",
          "name": "stdout",
          "text": [
            "The confusion matrix for above testing data is:\n",
            "[[581   9   0   7   0   0   0   0   3   0]\n",
            " [ 19 512   0  45  12   0   0   0   6   6]\n",
            " [ 42   9 501  27   1  10   1   8   0   1]\n",
            " [  3   0   1 548  18   6   0  22   0   2]\n",
            " [  0   0   0   4 591   5   0   0   0   0]\n",
            " [  0   3  47  10   9 522   5   1   1   2]\n",
            " [  0   0   5   0   0   4 548  42   1   0]\n",
            " [  1   0  21  16   1   1 188 372   0   0]\n",
            " [ 20   0   1   0   2   6   0   1 563   7]\n",
            " [ 11   0   1   1  15   0   1   6  16 549]]\n"
          ]
        }
      ]
    },
    {
      "cell_type": "code",
      "source": [
        "# Storing True positive True negative, False Positive, False negative and F values in a list scores\n",
        "TP=[]\n",
        "TN=[]\n",
        "FP=[]\n",
        "FN=[]\n",
        "F1=[]\n",
        "for i in range(classes):\n",
        "  TP.append(conf_matrix[i][i])\n",
        "  TN.append(np.sum(conf_matrix)-np.sum(conf_matrix[i,:])-np.sum(conf_matrix[:,i])+conf_matrix[i][i])\n",
        "  FP.append(np.sum(conf_matrix[i,:])-conf_matrix[i][i])\n",
        "  FN.append(np.sum(conf_matrix[:,i])-conf_matrix[i][i])\n",
        "  F1.append((2*TP[i])/(2*TP[i] + FP[i] + FN[i]))"
      ],
      "metadata": {
        "id": "3KEEyA8Lh1oG"
      },
      "execution_count": 260,
      "outputs": []
    },
    {
      "cell_type": "code",
      "source": [
        "print('F1 scores for corresponding classes are:')\n",
        "print(F1)"
      ],
      "metadata": {
        "colab": {
          "base_uri": "https://localhost:8080/"
        },
        "outputId": "560a1cc9-a776-4872-bfbe-ddd90488e927",
        "id": "xKe2jIevh1oG"
      },
      "execution_count": 261,
      "outputs": [
        {
          "output_type": "stream",
          "name": "stdout",
          "text": [
            "F1 scores for corresponding classes are:\n",
            "[0.9099451840250588, 0.9037952338923213, 0.8513169073916738, 0.8712241653418124, 0.9463570856685348, 0.9046793760831889, 0.8160833953834699, 0.7072243346007605, 0.946218487394958, 0.9408740359897172]\n"
          ]
        }
      ]
    },
    {
      "cell_type": "markdown",
      "source": [
        "### (iii) GMM"
      ],
      "metadata": {
        "id": "I8I71JVy0N_H"
      }
    },
    {
      "cell_type": "code",
      "source": [
        "train_dataset5,test_dataset5 = p5_split_dataset(P5dataset,0.9)\n",
        "y5 = np.zeros(6)\n",
        "x5 = np.array([1,2,3,4,5,6])\n",
        "for number_of_Gaussian in x5:\n",
        "  Means5,Variance5,Pi5 = p5_GMM_training(train_dataset5,5,number_of_Gaussian)\n",
        "  accuracy5,confusion_matrix5 = p5_GMM_testing(test_dataset5,10,Means5,Variance5,Pi5,number_of_Gaussian)\n",
        "  TP5=[]\n",
        "  TN5=[]\n",
        "  FP5=[]\n",
        "  FN5=[]\n",
        "  F15=[]\n",
        "  for i in range(classes):\n",
        "    TP5.append(confusion_matrix5[i][i])\n",
        "    TN5.append(np.sum(confusion_matrix5)-np.sum(confusion_matrix5[i,:])-np.sum(confusion_matrix5[:,i])+confusion_matrix5[i][i])\n",
        "    FP5.append(np.sum(confusion_matrix5[i,:])-confusion_matrix5[i][i])\n",
        "    FN5.append(np.sum(confusion_matrix5[:,i])-confusion_matrix5[i][i])\n",
        "    F15.append((2*TP5[i])/(2*TP5[i] + FP5[i] + FN5[i]))\n",
        "  y5[number_of_Gaussian-1] = p5_get_likelihood(train_dataset5,Means5,Variance5,Pi5,number_of_Gaussian)\n",
        "  print(\"Accuracy for \",number_of_Gaussian,\" mixtures is : \",accuracy5)\n",
        "  print(\"F1 scores \",number_of_Gaussian,\" mixtures is : \",F15)\n",
        "  print(\"Confusion matrix for \",number_of_Gaussian,\" mixtures is : \",confusion_matrix5)\n",
        "\n",
        "y5 = (y5-np.min(y5))/(np.max(y5)-np.min(y5))\n",
        "plt.plot(x5,y5) \n",
        "plt.title(\"Log likelihood for 90:10\") \n",
        "plt.ylabel(\"log likelihood\") \n",
        "plt.xlabel(\"Gaussian misture\") \n",
        "plt.show()"
      ],
      "metadata": {
        "id": "ljX_-dOFdyT3",
        "colab": {
          "base_uri": "https://localhost:8080/",
          "height": 1000
        },
        "outputId": "2daff05a-375c-4890-97da-bab8e16597f5"
      },
      "execution_count": null,
      "outputs": [
        {
          "output_type": "stream",
          "name": "stdout",
          "text": [
            "Accuracy for  1  mixtures is :  0.9388333333333333\n",
            "F1 scores  1  mixtures is :  [0.9320066334991708, 0.9571788413098237, 0.9839119390347163, 0.9253012048192771, 0.937394247038917, 0.9488448844884488, 0.920265780730897, 0.8843881856540085, 0.9464740866610025, 0.9531635168447001]\n",
            "Confusion matrix for  1  mixtures is :  [[562.  10.  15.   9.   0.   0.   0.   0.   4.   2.]\n",
            " [ 19. 570.   0.   0.   0.   0.   0.   1.   3.   1.]\n",
            " [  0.   1. 581.   0.   0.   0.   0.   2.   1.   0.]\n",
            " [  6.   4.   0. 576.   2.   7.   2.  16.   7.   4.]\n",
            " [  0.   0.   0.  11. 554.  14.   1.   3.   3.   7.]\n",
            " [  1.   1.   0.   7.  20. 575.   1.   3.   2.   0.]\n",
            " [  1.   0.   0.   2.   0.   1. 554.  46.   0.   7.]\n",
            " [  1.   2.   0.  14.   2.   1.  35. 524.   1.   7.]\n",
            " [ 11.   6.   0.   2.   6.   3.   0.   0. 557.  12.]\n",
            " [  3.   3.   0.   0.   5.   1.   0.   3.   2. 580.]]\n",
            "Accuracy for  2  mixtures is :  0.9473333333333334\n",
            "F1 scores  2  mixtures is :  [0.9451827242524917, 0.96, 0.9907640638119227, 0.9361358124494745, 0.9440677966101695, 0.9537190082644628, 0.9337748344370861, 0.9083191850594228, 0.9493562231759657, 0.9519152404237978]\n",
            "Confusion matrix for  2  mixtures is :  [[569.  10.   5.   9.   0.   0.   1.   0.   5.   1.]\n",
            " [ 19. 576.   0.   0.   0.   0.   0.   1.   6.   1.]\n",
            " [  0.   2. 590.   0.   0.   1.   0.   1.   1.   0.]\n",
            " [  3.   1.   0. 579.   4.   8.   1.  10.   7.   3.]\n",
            " [  0.   0.   0.   8. 557.  11.   1.   3.   3.   8.]\n",
            " [  1.   0.   0.   7.  15. 577.   1.   4.   3.   0.]\n",
            " [  0.   0.   0.   2.   0.   1. 564.  39.   0.   9.]\n",
            " [  2.   0.   0.  14.   0.   1.  24. 535.   0.   4.]\n",
            " [  7.   5.   0.   2.   6.   2.   0.   0. 553.  10.]\n",
            " [  3.   3.   1.   0.   7.   1.   1.   5.   2. 584.]]\n",
            "Accuracy for  3  mixtures is :  0.95\n",
            "F1 scores  3  mixtures is :  [0.9441201000834029, 0.9608659450457951, 0.98989898989899, 0.9403225806451613, 0.9504617968094039, 0.9627174813587407, 0.928395061728395, 0.9083191850594228, 0.9559965487489215, 0.9590834697217676]\n",
            "Confusion matrix for  3  mixtures is :  [[566.  11.   8.   4.   0.   0.   0.   0.   4.   2.]\n",
            " [ 19. 577.   0.   0.   0.   0.   0.   1.   6.   1.]\n",
            " [  0.   1. 588.   0.   0.   0.   0.   2.   1.   0.]\n",
            " [  6.   1.   0. 583.   3.   6.   1.   9.   7.   3.]\n",
            " [  0.   0.   0.  10. 566.  10.   1.   4.   3.   8.]\n",
            " [  1.   0.   0.   7.  12. 581.   1.   2.   1.   0.]\n",
            " [  1.   0.   0.   3.   1.   0. 564.  43.   2.   8.]\n",
            " [  1.   0.   0.  13.   0.   1.  25. 535.   0.   5.]\n",
            " [  7.   5.   0.   1.   3.   2.   0.   0. 554.   7.]\n",
            " [  3.   2.   0.   0.   4.   2.   1.   2.   2. 586.]]\n",
            "Accuracy for  4  mixtures is :  0.9506666666666667\n",
            "F1 scores  4  mixtures is :  [0.9447236180904522, 0.9625312239800167, 0.9932773109243698, 0.9437299035369775, 0.9571068124474348, 0.9634551495016611, 0.9220563847429519, 0.9089376053962901, 0.9527896995708155, 0.9582309582309583]\n",
            "Confusion matrix for  4  mixtures is :  [[564.  10.   5.   4.   0.   0.   0.   0.   5.   2.]\n",
            " [ 20. 578.   0.   0.   0.   0.   0.   1.   4.   1.]\n",
            " [  0.   1. 591.   0.   0.   1.   0.   1.   0.   0.]\n",
            " [  3.   1.   0. 587.   4.   6.   1.  10.   7.   4.]\n",
            " [  0.   0.   0.   9. 569.  10.   1.   3.   3.   5.]\n",
            " [  1.   0.   0.   7.   9. 580.   1.   2.   2.   0.]\n",
            " [  2.   0.   0.   2.   1.   1. 556.  41.   2.   8.]\n",
            " [  1.   0.   0.  10.   0.   1.  32. 539.   0.   5.]\n",
            " [ 10.   5.   0.   2.   1.   2.   0.   0. 555.  10.]\n",
            " [  3.   2.   0.   0.   5.   1.   2.   1.   2. 585.]]\n",
            "Accuracy for  5  mixtures is :  0.9521666666666667\n",
            "F1 scores  5  mixtures is :  [0.9448160535117057, 0.9591326105087573, 0.9941225860621327, 0.9450726978998385, 0.9597989949748744, 0.9635157545605307, 0.9346567411083541, 0.9135593220338983, 0.9545064377682403, 0.9525368248772504]\n",
            "Confusion matrix for  5  mixtures is :  [[565.  12.   3.   4.   0.   0.   1.   0.   5.   2.]\n",
            " [ 19. 575.   0.   1.   0.   0.   0.   1.   5.   1.]\n",
            " [  1.   1. 592.   0.   0.   0.   0.   1.   0.   0.]\n",
            " [  4.   0.   0. 585.   2.   6.   1.   9.   7.   3.]\n",
            " [  0.   0.   0.   9. 573.   9.   1.   3.   2.   8.]\n",
            " [  1.   0.   0.   7.  10. 581.   1.   2.   2.   0.]\n",
            " [  1.   0.   0.   2.   0.   0. 565.  39.   0.   9.]\n",
            " [  2.   0.   0.  11.   0.   1.  24. 539.   0.   5.]\n",
            " [  8.   6.   0.   2.   0.   3.   0.   0. 556.  10.]\n",
            " [  3.   3.   1.   0.   4.   2.   0.   4.   3. 582.]]\n",
            "Accuracy for  6  mixtures is :  0.9541666666666667\n",
            "F1 scores  6  mixtures is :  [0.9441201000834029, 0.9659185369908562, 0.9941126997476871, 0.9448051948051948, 0.9589270746018441, 0.9691923397169026, 0.9331131296449215, 0.9139966273187183, 0.9604130808950087, 0.9575163398692811]\n",
            "Confusion matrix for  6  mixtures is :  [[566.  11.   5.   5.   0.   0.   1.   0.   5.   2.]\n",
            " [ 19. 581.   0.   0.   0.   0.   0.   1.   4.   1.]\n",
            " [  0.   1. 591.   0.   0.   0.   0.   1.   0.   0.]\n",
            " [  4.   0.   0. 582.   2.   6.   1.   7.   6.   3.]\n",
            " [  0.   0.   0.   9. 572.   9.   1.   3.   3.   7.]\n",
            " [  0.   0.   0.   5.   8. 582.   1.   2.   1.   0.]\n",
            " [  1.   0.   0.   3.   0.   0. 565.  40.   1.   8.]\n",
            " [  0.   0.   0.  14.   1.   1.  24. 542.   0.   6.]\n",
            " [ 10.   1.   0.   3.   1.   2.   0.   0. 558.   7.]\n",
            " [  4.   3.   0.   0.   5.   2.   0.   2.   2. 586.]]\n"
          ]
        },
        {
          "output_type": "display_data",
          "data": {
            "text/plain": [
              "<Figure size 432x288 with 1 Axes>"
            ],
            "image/png": "[encoded data removed]"
          },
          "metadata": {
            "needs_background": "light"
          }
        }
      ]
    },
    {
      "cell_type": "markdown",
      "source": [
        "## Likelihood curve for EM for various models"
      ],
      "metadata": {
        "id": "wYhCboz8CBsa"
      }
    },
    {
      "cell_type": "code",
      "source": [
        "fig, ax = plt.subplots()\n",
        "x=x1\n",
        "# Plot each dataset in its own subplot\n",
        "ax.plot(x, y1, color='blue',label = 'model 1')\n",
        "ax.plot(x, y2, color='red',label = 'model 2')\n",
        "ax.plot(x, y3, color='green',label = 'model 3')\n",
        "ax.plot(x, y4, color='purple',label = 'model 4')\n",
        "ax.plot(x, y5, color='orange',label = 'model 5')\n",
        "\n",
        "ax.set_xlabel('Gaussian Mixture')\n",
        "ax.set_ylabel('log likelihood')\n",
        "ax.set_title('log likelihood for different models')\n",
        "ax.legend()\n",
        "plt.show()"
      ],
      "metadata": {
        "colab": {
          "base_uri": "https://localhost:8080/",
          "height": 295
        },
        "id": "GmJQz8pRCIgB",
        "outputId": "eafef5bf-b2b1-4bbf-ae10-84f131840f5a"
      },
      "execution_count": null,
      "outputs": [
        {
          "output_type": "display_data",
          "data": {
            "text/plain": [
              "<Figure size 432x288 with 1 Axes>"
            ],
            "image/png": "[encoded data removed]"
          },
          "metadata": {
            "needs_background": "light"
          }
        }
      ]
    },
    {
      "cell_type": "markdown",
      "source": [
        "## ROC curve for different models"
      ],
      "metadata": {
        "id": "vjgT9pz_fe9a"
      }
    },
    {
      "cell_type": "code",
      "source": [
        "def ROC_curve(count):\n",
        "  classes = 2\n",
        "  # creating training datas for different class\n",
        "  temp = dataset[0:count,:]\n",
        "  lst = []\n",
        "  ans = []\n",
        "  for i in range(classes):\n",
        "    x1 = temp[np.where(temp[:,0]==i)]\n",
        "    x = x1[:,1:]\n",
        "    y = x1[:,0]\n",
        "    y=y.reshape((y.shape[0],1))\n",
        "    lst.append(x)\n",
        "    ans.append(y)\n",
        "  l = np.row_stack((lst[0],lst[1]))\n",
        "  m = np.row_stack((ans[0],ans[1]))\n",
        "  mean=[]   # 10 features' mean for each classes\n",
        "  for i in range(classes):\n",
        "    a=lst[i]\n",
        "    a = a.mean(axis=0)\n",
        "    mean.append(a)\n",
        "  TPR=[]\n",
        "  FPR=[]\n",
        "  for j in range(10):\n",
        "    count = 0\n",
        "    threshold=(j-5)/100\n",
        "    TP=0\n",
        "    FP=0\n",
        "    TN=0\n",
        "    FN=0\n",
        "    for i in range(l.shape[0]):\n",
        "      v = (l[i]-mean[0])\n",
        "      v = np.power(v,2)\n",
        "      k = 0.5 * np.sum(v)\n",
        "      k1 = math.exp(-k)\n",
        "      v = (l[i]-mean[1])\n",
        "      v = np.power(v,2)\n",
        "      k = 0.5 * np.sum(v)\n",
        "      k2 = math.exp(-k)\n",
        "      if k1-k2>threshold:\n",
        "        k=1\n",
        "      else:\n",
        "        k=0\n",
        "      if k==int(m[i][0]) and k==1:\n",
        "        TP+=1\n",
        "      elif k==int(m[i][0]) and k==0:\n",
        "        TN+=1\n",
        "      elif k!=int(m[i][0]) and k==1:\n",
        "        FP+=1\n",
        "      else:\n",
        "        FN+=1\n",
        "      # print(TP)\n",
        "      # print(TN)\n",
        "      # print(FP)\n",
        "      # print(FN)\n",
        "    TPR.append(TP/(TP+FN))\n",
        "    FPR.append(FP/(FP+TN))\n",
        "  #plt.plot(TPR,FPR)\n",
        "  return TPR,FPR"
      ],
      "metadata": {
        "id": "hdwWariJfgvQ"
      },
      "execution_count": 525,
      "outputs": []
    },
    {
      "cell_type": "code",
      "source": [
        "x1,y1 = ROC_curve(12000) # model 1 20:80"
      ],
      "metadata": {
        "id": "fezNg3Mur71o"
      },
      "execution_count": 526,
      "outputs": []
    },
    {
      "cell_type": "code",
      "source": [
        "x2,y2=ROC_curve(18000) # model 1 30:70"
      ],
      "metadata": {
        "id": "DIhG3kJBL8m_"
      },
      "execution_count": 528,
      "outputs": []
    },
    {
      "cell_type": "code",
      "source": [
        "x3,y3=ROC_curve(30000) # model 1 50:50"
      ],
      "metadata": {
        "id": "HpJmoozqNAJ9"
      },
      "execution_count": 529,
      "outputs": []
    },
    {
      "cell_type": "code",
      "source": [
        "x4,y4=ROC_curve(42000) # model 1 70:30"
      ],
      "metadata": {
        "id": "tX4ifse2sQxB"
      },
      "execution_count": 530,
      "outputs": []
    },
    {
      "cell_type": "code",
      "source": [
        "x5,y5=ROC_curve(54000) # model 1 90:10"
      ],
      "metadata": {
        "id": "t4YW7dkmsQ09"
      },
      "execution_count": 531,
      "outputs": []
    },
    {
      "cell_type": "code",
      "source": [
        "fig, ax = plt.subplots()\n",
        "# Plot each dataset in its own subplot\n",
        "ax.plot(x1, y1, color='blue',label = 'model 1')\n",
        "ax.plot(x1, y2, color='red',label = 'model 2')\n",
        "ax.plot(x1, y3, color='green',label = 'model 3')\n",
        "ax.plot(x1, y4, color='purple',label = 'model 4')\n",
        "ax.plot(x1, y5, color='orange',label = 'model 5')\n",
        "\n",
        "ax.set_xlabel('Gaussian Mixture')\n",
        "ax.set_ylabel('log likelihood')\n",
        "ax.set_title('log likelihood for different models')\n",
        "ax.legend()\n",
        "plt.show()"
      ],
      "metadata": {
        "colab": {
          "base_uri": "https://localhost:8080/",
          "height": 295
        },
        "id": "-973_KEusQ5K",
        "outputId": "2e5a8cd0-c4ca-4c82-f57c-3a13d8694930"
      },
      "execution_count": 532,
      "outputs": [
        {
          "output_type": "display_data",
          "data": {
            "text/plain": [
              "<Figure size 432x288 with 1 Axes>"
            ],
            "image/png": "[encoded data removed]"
          },
          "metadata": {
            "needs_background": "light"
          }
        }
      ]
    }
  ]
}