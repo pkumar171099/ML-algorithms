{
  "nbformat": 4,
  "nbformat_minor": 0,
  "metadata": {
    "colab": {
      "provenance": []
    },
    "kernelspec": {
      "name": "python3",
      "display_name": "Python 3"
    },
    "language_info": {
      "name": "python"
    }
  },
  "cells": [
    {
      "cell_type": "code",
      "execution_count": null,
      "metadata": {
        "id": "oEPJYb3Yl_iJ"
      },
      "outputs": [],
      "source": [
        "import numpy as np\n",
        "import matplotlib.pyplot as plt"
      ]
    },
    {
      "cell_type": "code",
      "source": [
        "import math  # This library is to use normal math functions like exp,sin etc."
      ],
      "metadata": {
        "id": "Q7kF3SRXdYRW"
      },
      "execution_count": null,
      "outputs": []
    },
    {
      "cell_type": "code",
      "source": [
        "# Mounting drive\n",
        "from google.colab import drive\n",
        "drive.mount('/content/drive')"
      ],
      "metadata": {
        "colab": {
          "base_uri": "https://localhost:8080/"
        },
        "id": "h6KcJckQm7eb",
        "outputId": "4650923f-7b2d-43af-b9a3-c0b8fbaacd86"
      },
      "execution_count": null,
      "outputs": [
        {
          "output_type": "stream",
          "name": "stdout",
          "text": [
            "Drive already mounted at /content/drive; to attempt to forcibly remount, call drive.mount(\"/content/drive\", force_remount=True).\n"
          ]
        }
      ]
    },
    {
      "cell_type": "code",
      "source": [
        "# These following imports are required because we have to upload image files from drive to colab\n",
        "import zipfile # To unzip\n",
        "import os      # To upload files\n",
        "import cv2     # To read image files"
      ],
      "metadata": {
        "id": "_vA91T9PyQNw"
      },
      "execution_count": null,
      "outputs": []
    },
    {
      "cell_type": "markdown",
      "source": [
        "## Extracting images from ZIP files and importing to colab"
      ],
      "metadata": {
        "id": "vPtYRAz20WWG"
      }
    },
    {
      "cell_type": "code",
      "source": [
        "# Set the path of the zip file in Google Drive\n",
        "zip_path = \"/content/drive/MyDrive/Prnn/Assignment1_resized_images.zip\"\n",
        "\n",
        "# Set the path to extract the zip file to in the Colab environment\n",
        "extract_path = \"/content\"\n",
        "\n",
        "# Extract the zip file to the specified path\n",
        "with zipfile.ZipFile(zip_path, 'r') as zip_ref:\n",
        "    zip_ref.extractall(extract_path)\n"
      ],
      "metadata": {
        "id": "oQnPhrKk0cyj"
      },
      "execution_count": null,
      "outputs": []
    },
    {
      "cell_type": "code",
      "source": [
        "extract_path = \"/content/Assignment1_resized_images\""
      ],
      "metadata": {
        "id": "FjdvT98-0ZWM"
      },
      "execution_count": null,
      "outputs": []
    },
    {
      "cell_type": "code",
      "source": [
        "# Creating a list of list of images of particular class\n",
        "lst_img_clss = []\n",
        "for class_folder in sorted(os.listdir(extract_path)):\n",
        "  class_folder_path = os.path.join(extract_path, class_folder)\n",
        "  temp = []\n",
        "  for filename in sorted(os.listdir(class_folder_path)):\n",
        "    file_paths = os.path.join(class_folder_path, filename)\n",
        "    img = cv2.imread(file_paths)\n",
        "    gray_img = cv2.cvtColor(img, cv2.COLOR_BGR2GRAY)\n",
        "    temp.append(gray_img)\n",
        "  lst_img_clss.append(temp)"
      ],
      "metadata": {
        "id": "MPUHQhuU0eVV"
      },
      "execution_count": null,
      "outputs": []
    },
    {
      "cell_type": "code",
      "source": [
        "classes = len(lst_img_clss) # 10"
      ],
      "metadata": {
        "id": "dcT_bbhw0r6q"
      },
      "execution_count": null,
      "outputs": []
    },
    {
      "cell_type": "markdown",
      "source": [
        "## Creating dataset from images"
      ],
      "metadata": {
        "id": "SkA2-9it1Bg4"
      }
    },
    {
      "cell_type": "code",
      "source": [
        "X=[]\n",
        "Y = []\n",
        "for i in range(classes):\n",
        "  tmp = []\n",
        "  for j in range(len(lst_img_clss[i])):\n",
        "    x = np.ndarray.flatten(lst_img_clss[i][j])\n",
        "    tmp.append(x)\n",
        "  a = np.stack(tmp,axis = 0)\n",
        "  X.append(a)\n",
        "  Y.append(i)\n"
      ],
      "metadata": {
        "id": "CVMZy6g20-B3"
      },
      "execution_count": null,
      "outputs": []
    },
    {
      "cell_type": "code",
      "source": [
        "a = X[0]\n",
        "b = np.zeros((X[0].shape[0],1))\n",
        "dataset = np.column_stack((a,b))\n",
        "for i in range(1,classes):\n",
        "  a=X[i]\n",
        "  b = i*np.ones((X[i].shape[0],1))\n",
        "  temp = np.column_stack((a,b))\n",
        "  dataset = np.row_stack((dataset,temp))"
      ],
      "metadata": {
        "id": "jQFaWBuv1G3M"
      },
      "execution_count": null,
      "outputs": []
    },
    {
      "cell_type": "code",
      "source": [
        "dataset.shape  # Overall dataset"
      ],
      "metadata": {
        "colab": {
          "base_uri": "https://localhost:8080/"
        },
        "id": "6_Ieo-ym1IWL",
        "outputId": "efd4b5e5-3232-4892-d978-1345ca1b7ca6"
      },
      "execution_count": null,
      "outputs": [
        {
          "output_type": "execute_result",
          "data": {
            "text/plain": [
              "(60000, 785)"
            ]
          },
          "metadata": {},
          "execution_count": 540
        }
      ]
    },
    {
      "cell_type": "markdown",
      "source": [
        "## Creating functions for GMM"
      ],
      "metadata": {
        "id": "5jh9yUAbEkSD"
      }
    },
    {
      "cell_type": "code",
      "execution_count": null,
      "metadata": {
        "id": "fjrYO2A1JD4j"
      },
      "outputs": [],
      "source": [
        "def p4_split_dataset(dataset,train_ratio):\n",
        "  classes = np.unique(dataset[:,-1])\n",
        "  dataset_size = dataset.shape[0]\n",
        "  count = int(train_ratio*(dataset_size))\n",
        "\n",
        "  np.random.shuffle(dataset)\n",
        "  train_dataset, test_dataset = dataset[:count,:], dataset[count:,:]\n",
        "\n",
        "  return train_dataset,test_dataset"
      ]
    },
    {
      "cell_type": "code",
      "execution_count": null,
      "metadata": {
        "id": "k2aIfktO2rOs"
      },
      "outputs": [],
      "source": [
        "def p4_GMM_training(train_dataset,epochs,number_of_Gaussian):\n",
        "  min_class = int(np.min(train_dataset[:,-1]))\n",
        "  classes = int(len(np.unique(train_dataset[:,-1])))\n",
        "  dimension = train_dataset.shape[1]-1\n",
        "\n",
        "  Category_wise_train_data = []\n",
        "\n",
        "  for i in range(classes):\n",
        "    Category_wise_train_data.append(train_dataset[train_dataset[:,-1]==(i+min_class)][:,:-1])\n",
        "\n",
        "\n",
        "\n",
        "  Means = []\n",
        "  Pi = []\n",
        "\n",
        "  epochs = 10\n",
        "  for digit_class in range(classes):\n",
        "    Category_wise_epochs = 0\n",
        "    Category_wise_Means = np.random.random_sample((dimension,number_of_Gaussian)) #np.random.uniform(0, 1,(dimension,number_of_Gaussian)) #np.zeros((dimension,number_of_Gaussian))\n",
        "    Category_wise_Pi = np.ones(number_of_Gaussian)/number_of_Gaussian\n",
        "\n",
        "    for Category_wise_epochs in range(epochs):\n",
        "\n",
        "        Category_wise_Gamma = np.zeros((Category_wise_train_data[digit_class].shape[0],number_of_Gaussian))\n",
        "\n",
        "\n",
        "        data_point_number = 0\n",
        "\n",
        "        #Calculating Gamma for each datapoint and each class\n",
        "        for data_point in Category_wise_train_data[digit_class]:\n",
        "            Gamma_each_Gaussian = np.zeros(number_of_Gaussian)\n",
        "            for k in range(number_of_Gaussian):\n",
        "\n",
        "                temp1 = data_point-Category_wise_Means[:,k]\n",
        "\n",
        "                temp3 = (-1/2)*(np.power(np.linalg.norm(temp1),2))\n",
        "\n",
        "                temp4 = np.exp(temp3)\n",
        "\n",
        "                temp5 = temp4*Category_wise_Pi[k]\n",
        "\n",
        "                Gamma_each_Gaussian[k] = temp5\n",
        "\n",
        "            Gamma_each_Gaussian = Gamma_each_Gaussian/np.sum(Gamma_each_Gaussian)\n",
        "\n",
        "            Category_wise_Gamma[data_point_number,:] = Gamma_each_Gaussian\n",
        "\n",
        "            data_point_number += 1\n",
        "\n",
        "\n",
        "\n",
        "        # Updating mean\n",
        "\n",
        "        for k in range(number_of_Gaussian):\n",
        "            #updating mean in one line\n",
        "            Category_wise_Means[:,k] = np.average(Category_wise_train_data[digit_class],axis = 0, weights=Category_wise_Gamma[:,k])\n",
        "\n",
        "\n",
        "        # Updating Co-variance matrix\n",
        "\n",
        "        Nk = np.sum(Category_wise_Gamma,axis = 0)\n",
        "\n",
        "\n",
        "        # Updating Pi\n",
        "\n",
        "        Category_wise_Pi = Nk/Category_wise_train_data[digit_class].shape[0]\n",
        "\n",
        "    Means.append(Category_wise_Means)\n",
        "    Pi.append(Category_wise_Pi)\n",
        "\n",
        "\n",
        "  return Means,Pi\n"
      ]
    },
    {
      "cell_type": "code",
      "execution_count": null,
      "metadata": {
        "id": "6kIeCcDwEobm"
      },
      "outputs": [],
      "source": [
        "def p4_GMM_testing(test_dataset,classes,Means,Pi,number_of_Gaussian):\n",
        "  min_class = int(np.min(test_dataset[:,-1]))\n",
        "  dimension = test_dataset.shape[1]-1\n",
        "\n",
        "  confusion_matrix = np.zeros((classes,classes))\n",
        "\n",
        "\n",
        "  correct_predicted_labels = 0\n",
        "  for data_point in test_dataset:\n",
        "\n",
        "    probabilities = np.zeros(classes)\n",
        "\n",
        "    for Class in range(classes):\n",
        "\n",
        "      Inner_summation = 0.0\n",
        "      for k in range(number_of_Gaussian):\n",
        "        temp1 = data_point[:-1]-Means[Class][:,k]\n",
        "        temp3 = (-1/2)*(np.power(np.linalg.norm(temp1),2))\n",
        "        temp4 = np.exp(temp3)\n",
        "        temp5 = temp4*Pi[Class][k]\n",
        "        Inner_summation += temp5\n",
        "      probabilities[Class] = Inner_summation\n",
        "    predicted_class = np.argmax(probabilities)\n",
        "    confusion_matrix[predicted_class][int(data_point[-1])] += 1\n",
        "    if(predicted_class==int(data_point[-1])):\n",
        "      correct_predicted_labels += 1\n",
        "\n",
        "\n",
        "  accuracy = correct_predicted_labels/test_dataset.shape[0]\n",
        "\n",
        "  return accuracy,confusion_matrix"
      ]
    },
    {
      "cell_type": "code",
      "execution_count": null,
      "metadata": {
        "id": "nny9Q6ooCbto"
      },
      "outputs": [],
      "source": [
        "def p4_get_likelihood(dataset,Means,Pi,number_of_Gaussian):\n",
        "  min_class = int(np.min(dataset[:,-1]))\n",
        "  dimension = dataset.shape[1]-1\n",
        "\n",
        "\n",
        "  log_likelihood = 0.0\n",
        "  data_point_number = 0\n",
        "\n",
        "  for data_point in dataset:\n",
        "      Inner_summation = 0.0\n",
        "      for k in range(number_of_Gaussian):\n",
        "          temp1 = data_point[:-1]-Means[int(data_point[-1])-min_class][:,k]\n",
        "\n",
        "          temp3 = (-1/2)*(np.power(np.linalg.norm(temp1),2))\n",
        "          temp4 = np.exp(temp3)\n",
        "\n",
        "          temp5 = temp4*Pi[int(data_point[-1])-min_class][k]\n",
        "          Inner_summation += temp5\n",
        "\n",
        "      log_likelihood += np.log(Inner_summation)\n",
        "\n",
        "      data_point_number += 1\n",
        "\n",
        "  return log_likelihood"
      ]
    },
    {
      "cell_type": "code",
      "execution_count": null,
      "metadata": {
        "id": "Dm1edkbLm1Mo"
      },
      "outputs": [],
      "source": [
        "def p4_normalize_Image_dataset(dataset):\n",
        "  dataset = np.c_[ dataset[:,:-1]/255, dataset[:,-1]]\n",
        "  return dataset"
      ]
    },
    {
      "cell_type": "code",
      "execution_count": null,
      "metadata": {
        "id": "2BXYlx_SOQBg"
      },
      "outputs": [],
      "source": [
        "p4dataset = dataset\n"
      ]
    },
    {
      "cell_type": "code",
      "execution_count": null,
      "metadata": {
        "id": "kdfY38YfnFPi"
      },
      "outputs": [],
      "source": [
        "p4dataset = p4_normalize_Image_dataset(p4dataset)"
      ]
    },
    {
      "cell_type": "code",
      "execution_count": null,
      "metadata": {
        "id": "B9KGa81P_peG"
      },
      "outputs": [],
      "source": [
        "np.set_printoptions(suppress=True)"
      ]
    },
    {
      "cell_type": "markdown",
      "source": [
        "## Model 1 - 20:80"
      ],
      "metadata": {
        "id": "O2ttDoLJ1f5y"
      }
    },
    {
      "cell_type": "code",
      "source": [
        "# creating training and testing dataset\n",
        "count = 1500 #per class\n",
        "a=X[0]\n",
        "a=a[0:count,:]/255       # Normalising else exponent becomes 0\n",
        "b = np.zeros((a.shape[0],1))\n",
        "train_dataset = np.column_stack((a,b))\n",
        "a=X[0]\n",
        "a=a[count:,:]/255\n",
        "b = np.zeros((a.shape[0],1))\n",
        "test_dataset = np.column_stack((a,b))\n",
        "for i in range(1,classes):\n",
        "  a=X[i]\n",
        "  a=a[0:count,:]/255\n",
        "  b = i*np.ones((a.shape[0],1))\n",
        "  temp = np.column_stack((a,b))\n",
        "  train_dataset = np.row_stack((train_dataset,temp))\n",
        "  a=X[i]\n",
        "  a=a[count:,:]/255\n",
        "  b = i*np.ones((a.shape[0],1))\n",
        "  temp = np.column_stack((a,b))\n",
        "  test_dataset = np.row_stack((test_dataset,temp))\n"
      ],
      "metadata": {
        "id": "Bo917_Ia1NJJ"
      },
      "execution_count": null,
      "outputs": []
    },
    {
      "cell_type": "code",
      "source": [
        "train_dataset.shape"
      ],
      "metadata": {
        "colab": {
          "base_uri": "https://localhost:8080/"
        },
        "id": "0rDaP8Kf1UER",
        "outputId": "46d8f645-33ce-42a6-c934-d9feec3e5953"
      },
      "execution_count": null,
      "outputs": [
        {
          "output_type": "execute_result",
          "data": {
            "text/plain": [
              "(15000, 785)"
            ]
          },
          "metadata": {},
          "execution_count": 69
        }
      ]
    },
    {
      "cell_type": "code",
      "source": [
        "test_dataset.shape"
      ],
      "metadata": {
        "colab": {
          "base_uri": "https://localhost:8080/"
        },
        "id": "4VMmMPWt1ZO2",
        "outputId": "9910c281-032e-431d-9462-a50cc9065370"
      },
      "execution_count": null,
      "outputs": [
        {
          "output_type": "execute_result",
          "data": {
            "text/plain": [
              "(45000, 785)"
            ]
          },
          "metadata": {},
          "execution_count": 70
        }
      ]
    },
    {
      "cell_type": "code",
      "source": [
        "features = train_dataset.shape[1]-1 #784"
      ],
      "metadata": {
        "id": "4kQUFWlV1a_a"
      },
      "execution_count": null,
      "outputs": []
    },
    {
      "cell_type": "code",
      "source": [
        "# Initialising features and labels from dataset\n",
        "X_test = test_dataset[:,:features]\n",
        "X_train = train_dataset[:,:features]\n",
        "Y_train = train_dataset[:,features]\n",
        "Y_test = test_dataset[:,features]"
      ],
      "metadata": {
        "id": "UO8fu1Nw2J8A"
      },
      "execution_count": null,
      "outputs": []
    },
    {
      "cell_type": "markdown",
      "source": [
        "### (i) Naive Bayes"
      ],
      "metadata": {
        "id": "C3AG2AhQ2U9v"
      }
    },
    {
      "cell_type": "code",
      "source": [
        "classes = 10\n",
        "features = train_dataset.shape[1]-1"
      ],
      "metadata": {
        "id": "_WyLQF1Z2XEq"
      },
      "execution_count": null,
      "outputs": []
    },
    {
      "cell_type": "code",
      "source": [
        "# Creating list of numpy arrays containing training datas of each class with class as index of list\n",
        "temp = train_dataset\n",
        "lst = []\n",
        "for i in range(classes):\n",
        "  x = temp[np.where(temp[:,features]==i)] # last column is my class indexes\n",
        "  x = x[:,:features]\n",
        "  lst.append(x)"
      ],
      "metadata": {
        "id": "6x8PYZZi2YXl"
      },
      "execution_count": null,
      "outputs": []
    },
    {
      "cell_type": "code",
      "source": [
        "# 10 features' mean for each classes\n",
        "mean=[]\n",
        "for i in range(classes):\n",
        "  a=lst[i]\n",
        "  a = a.mean(axis=0)\n",
        "  mean.append(a)"
      ],
      "metadata": {
        "id": "UfZu4tst2nNM"
      },
      "execution_count": null,
      "outputs": []
    },
    {
      "cell_type": "markdown",
      "source": [
        "#### Training"
      ],
      "metadata": {
        "id": "OsAYG8nC2zxS"
      }
    },
    {
      "cell_type": "code",
      "source": [
        "count = 0\n",
        "for i in range(X_train.shape[0]):\n",
        "  g = []  #class conditionals\n",
        "  for j in range(classes):\n",
        "    v = (X_train[i]-mean[j])\n",
        "    v = np.power(v,2)\n",
        "    k = 0.5 * np.sum(v)\n",
        "    k = math.exp(-k)\n",
        "    g.append(k)\n",
        "  k = g.index(max(g))\n",
        "  if k==int(Y_train[i]):\n",
        "    count=count+1"
      ],
      "metadata": {
        "id": "l51AwEHs21za"
      },
      "execution_count": null,
      "outputs": []
    },
    {
      "cell_type": "code",
      "source": [
        "print('The training accuracy is:')\n",
        "print(count*100/X_train.shape[0])"
      ],
      "metadata": {
        "colab": {
          "base_uri": "https://localhost:8080/"
        },
        "id": "eSSn245i3DMG",
        "outputId": "3cec4ae5-50e7-4b69-dba2-2ccbe53a2b89"
      },
      "execution_count": null,
      "outputs": [
        {
          "output_type": "stream",
          "name": "stdout",
          "text": [
            "The training accuracy is:\n",
            "83.74\n"
          ]
        }
      ]
    },
    {
      "cell_type": "markdown",
      "source": [
        "#### Testing"
      ],
      "metadata": {
        "id": "cbkCczSV2wEO"
      }
    },
    {
      "cell_type": "code",
      "source": [
        "conf_matrix = np.zeros((classes,classes))\n",
        "count = 0\n",
        "for i in range(X_test.shape[0]):\n",
        "  g = []  #class conditionals\n",
        "  for j in range(classes):\n",
        "    v = (X_test[i]-mean[j])\n",
        "    v = np.power(v,2)\n",
        "    k = 0.5 * np.sum(v)\n",
        "    #k = math.exp(-k)\n",
        "    g.append(k)\n",
        "  k = g.index(min(g))\n",
        "  if k==int(Y_test[i]):\n",
        "    count=count+1\n",
        "  v = int(Y_test[i])\n",
        "  conf_matrix[v][k] += 1"
      ],
      "metadata": {
        "id": "N1eXrke22soM"
      },
      "execution_count": null,
      "outputs": []
    },
    {
      "cell_type": "code",
      "source": [
        "print('The testing accuracy is:')\n",
        "print(count*100/X_test.shape[0])"
      ],
      "metadata": {
        "colab": {
          "base_uri": "https://localhost:8080/"
        },
        "id": "C1Gn2FNL2x-c",
        "outputId": "8e18f25f-2098-4f69-c7cd-e4a8b883592b"
      },
      "execution_count": null,
      "outputs": [
        {
          "output_type": "stream",
          "name": "stdout",
          "text": [
            "The testing accuracy is:\n",
            "84.36\n"
          ]
        }
      ]
    },
    {
      "cell_type": "code",
      "source": [
        "print('The confusion matrix for above testing data is:')\n",
        "print(conf_matrix.astype(int))"
      ],
      "metadata": {
        "colab": {
          "base_uri": "https://localhost:8080/"
        },
        "outputId": "3a5611a6-824c-46a4-e330-81a59b16b228",
        "id": "0HzsJ-Xr8UD2"
      },
      "execution_count": null,
      "outputs": [
        {
          "output_type": "stream",
          "name": "stdout",
          "text": [
            "The confusion matrix for above testing data is:\n",
            "[[3760  341    0   85   92    1    8  101   55   57]\n",
            " [  62 3823    0  285  118    7    1   37   16  151]\n",
            " [ 161   32 3601  123   19  460   10   77   11    6]\n",
            " [  40    3    2 3850  124   33   81  365    1    1]\n",
            " [   1    2    0   54 4255   67    0   97    8   16]\n",
            " [   1   28   25  274  318 3762    6   29   29   28]\n",
            " [   3    2    1   23   17   36 3744  662    2   10]\n",
            " [   3    2    2  191   60   10 1202 3028    2    0]\n",
            " [ 145   26    1   14   25   17    7   14 4188   63]\n",
            " [  66   34    0    6  167   12    8  117  139 3951]]\n"
          ]
        }
      ]
    },
    {
      "cell_type": "code",
      "source": [
        "# Storing True positive True negative, False Positive, False negative and F values in a list scores\n",
        "TP=[]\n",
        "TN=[]\n",
        "FP=[]\n",
        "FN=[]\n",
        "F1=[]\n",
        "for i in range(classes):\n",
        "  TP.append(conf_matrix[i][i])\n",
        "  TN.append(np.sum(conf_matrix)-np.sum(conf_matrix[i,:])-np.sum(conf_matrix[:,i])+conf_matrix[i][i])\n",
        "  FP.append(np.sum(conf_matrix[i,:])-conf_matrix[i][i])\n",
        "  FN.append(np.sum(conf_matrix[:,i])-conf_matrix[i][i])\n",
        "  F1.append((2*TP[i])/(2*TP[i] + FP[i] + FN[i]))"
      ],
      "metadata": {
        "id": "bNysJXib8UD3"
      },
      "execution_count": null,
      "outputs": []
    },
    {
      "cell_type": "code",
      "source": [
        "print('F1 scores for corresponding classes are:')\n",
        "print(F1)"
      ],
      "metadata": {
        "colab": {
          "base_uri": "https://localhost:8080/"
        },
        "outputId": "594f687d-f95b-4ff4-ea59-9d9dfafc2ea3",
        "id": "dP44LmpS8UD4"
      },
      "execution_count": null,
      "outputs": [
        {
          "output_type": "stream",
          "name": "stdout",
          "text": [
            "F1 scores for corresponding classes are:\n",
            "[0.8602150537634409, 0.8695553281018993, 0.8856369896704378, 0.8187134502923976, 0.8777720474471377, 0.8449185850645705, 0.7826904985888994, 0.6708762601085632, 0.9357613674449782, 0.8996925879540021]\n"
          ]
        }
      ]
    },
    {
      "cell_type": "markdown",
      "source": [
        "### (ii) Logistic regression"
      ],
      "metadata": {
        "id": "-KSSeLsN81Vc"
      }
    },
    {
      "cell_type": "code",
      "source": [
        "classes = 10\n",
        "features = train_dataset.shape[1] #785 after augmented data"
      ],
      "metadata": {
        "id": "8YRo4zlvZUQB"
      },
      "execution_count": null,
      "outputs": []
    },
    {
      "cell_type": "code",
      "source": [
        "#RUN only ONCE\n",
        "tmp = np.ones((X_train.shape[0],1))  # Creating augmented data\n",
        "X_train=np.column_stack((X_train,tmp))\n",
        "X_train.shape"
      ],
      "metadata": {
        "colab": {
          "base_uri": "https://localhost:8080/"
        },
        "id": "VQBMTWwXaW5n",
        "outputId": "22da706c-bba4-401f-ac6b-051ba02124d8"
      },
      "execution_count": null,
      "outputs": [
        {
          "output_type": "execute_result",
          "data": {
            "text/plain": [
              "(15000, 785)"
            ]
          },
          "metadata": {},
          "execution_count": 74
        }
      ]
    },
    {
      "cell_type": "code",
      "source": [
        "tmp = np.ones((X_test.shape[0],1))  # Creating augmented data\n",
        "X_test=np.column_stack((X_test,tmp))\n",
        "X_test.shape"
      ],
      "metadata": {
        "colab": {
          "base_uri": "https://localhost:8080/"
        },
        "id": "ROjZLYIIaf_z",
        "outputId": "40c11935-1168-4fc2-943a-dc62850d71d9"
      },
      "execution_count": null,
      "outputs": [
        {
          "output_type": "execute_result",
          "data": {
            "text/plain": [
              "(45000, 785)"
            ]
          },
          "metadata": {},
          "execution_count": 75
        }
      ]
    },
    {
      "cell_type": "markdown",
      "source": [
        "#### Training"
      ],
      "metadata": {
        "id": "63B5YZsE-hv5"
      }
    },
    {
      "cell_type": "code",
      "source": [
        "W=[]\n",
        "for i in range(classes):\n",
        "  W.append(np.ones((features,1)))"
      ],
      "metadata": {
        "id": "qusuAVW3Y-Ib"
      },
      "execution_count": null,
      "outputs": []
    },
    {
      "cell_type": "code",
      "source": [
        "def calc_loss(x,W,j):\n",
        "  x=x.reshape((x.shape[0],1))\n",
        "  # calculating probabilities of each class\n",
        "  e=[]                        # exponent\n",
        "  g = []                      # probabilities (softmax)\n",
        "  grad = []                   # gradient addition for this image\n",
        "  for i in range(classes):\n",
        "    e.append(math.exp(W[i].T@x))\n",
        "  k = sum(e)\n",
        "  for i in range(classes):\n",
        "    g.append(e[i]/k)\n",
        "  loss = -1*math.log(g[j])     # loss for 1 image\n",
        "  for i in range(classes):\n",
        "    if i!=j:\n",
        "      grad.append(-g[i]*x.reshape(x.shape[0]))\n",
        "    else:\n",
        "      grad.append((1-g[i])*x.reshape(x.shape[0]))\n",
        "  return loss,grad"
      ],
      "metadata": {
        "id": "tGzsfZhIY-MY"
      },
      "execution_count": null,
      "outputs": []
    },
    {
      "cell_type": "code",
      "source": [
        "def train_epoch1():\n",
        "  final_loss = 0\n",
        "  final_grad = np.zeros((features,classes))\n",
        "  for i in range(X_train.shape[0]):\n",
        "    loss,grad = calc_loss(X_train[i,:],W,int(Y_train[i]))\n",
        "    final_loss =final_loss + loss\n",
        "    final_grad = final_grad + np.stack(grad,axis = 1)\n",
        "  return final_loss,final_grad"
      ],
      "metadata": {
        "id": "TAF5Zq4pY-Sx"
      },
      "execution_count": null,
      "outputs": []
    },
    {
      "cell_type": "code",
      "source": [
        "epochs = 50\n",
        "alpha = 10\n",
        "prev_loss = 0\n",
        "for i in range(epochs):\n",
        "  loss,grad = train_epoch1()\n",
        "  for j in range(classes):\n",
        "    gradient = grad[:,j].reshape(grad[:,j].shape[0],1)\n",
        "    if prev_loss<loss:\n",
        "      alpha = (alpha/10)\n",
        "    W[j]=W[j]+alpha*gradient/np.linalg.norm(gradient)\n",
        "    prev_loss = loss\n",
        "  print('loss in',i,'epoch is',loss/X_train.shape[0])"
      ],
      "metadata": {
        "colab": {
          "base_uri": "https://localhost:8080/"
        },
        "id": "zIiMP2dbY-WB",
        "outputId": "d0a0260c-f418-4c95-c50c-e20b32e97ff5"
      },
      "execution_count": null,
      "outputs": [
        {
          "output_type": "stream",
          "name": "stdout",
          "text": [
            "loss in 0 epoch is 2.302585092994409\n",
            "loss in 1 epoch is 1.116065690390648\n",
            "loss in 2 epoch is 15.448510782036953\n",
            "loss in 3 epoch is 13.785077708545925\n",
            "loss in 4 epoch is 12.121777670357574\n",
            "loss in 5 epoch is 10.458548464747944\n",
            "loss in 6 epoch is 8.79536682651854\n",
            "loss in 7 epoch is 7.132227013739376\n",
            "loss in 8 epoch is 5.469542241388709\n",
            "loss in 9 epoch is 3.8282372188040674\n",
            "loss in 10 epoch is 2.5181019198708374\n",
            "loss in 11 epoch is 1.330806733841259\n",
            "loss in 12 epoch is 0.9624550921498767\n",
            "loss in 13 epoch is 1.2827477812125414\n",
            "loss in 14 epoch is 1.1723119540063145\n",
            "loss in 15 epoch is 1.0759492890134754\n",
            "loss in 16 epoch is 0.9957419545088523\n",
            "loss in 17 epoch is 0.9316261355341784\n",
            "loss in 18 epoch is 0.8814754956500138\n",
            "loss in 19 epoch is 0.8489224059904316\n",
            "loss in 20 epoch is 0.8354553755146794\n",
            "loss in 21 epoch is 0.8311046492283262\n",
            "loss in 22 epoch is 0.8292034797048633\n",
            "loss in 23 epoch is 0.8259725393861008\n",
            "loss in 24 epoch is 0.823961330183957\n",
            "loss in 25 epoch is 0.8209350594237329\n",
            "loss in 26 epoch is 0.8191710770929252\n",
            "loss in 27 epoch is 0.8167665524682166\n",
            "loss in 28 epoch is 0.8149229728584889\n",
            "loss in 29 epoch is 0.812543350857654\n",
            "loss in 30 epoch is 0.8107434042240981\n",
            "loss in 31 epoch is 0.8084015334944757\n",
            "loss in 32 epoch is 0.8066167998847225\n",
            "loss in 33 epoch is 0.8043251369798445\n",
            "loss in 34 epoch is 0.8025439468326527\n",
            "loss in 35 epoch is 0.8003054581324104\n",
            "loss in 36 epoch is 0.7985251196344682\n",
            "loss in 37 epoch is 0.7963379674452435\n",
            "loss in 38 epoch is 0.7945596434565149\n",
            "loss in 39 epoch is 0.7924201845483935\n",
            "loss in 40 epoch is 0.7906463888185272\n",
            "loss in 41 epoch is 0.788550602084651\n",
            "loss in 42 epoch is 0.7867840828231023\n",
            "loss in 43 epoch is 0.7847281704275737\n",
            "loss in 44 epoch is 0.782971452724156\n",
            "loss in 45 epoch is 0.7809520517289553\n",
            "loss in 46 epoch is 0.7792072817918533\n",
            "loss in 47 epoch is 0.7772215026174152\n",
            "loss in 48 epoch is 0.7754904252163631\n",
            "loss in 49 epoch is 0.7735358190087274\n"
          ]
        }
      ]
    },
    {
      "cell_type": "code",
      "source": [
        "W[0].shape"
      ],
      "metadata": {
        "colab": {
          "base_uri": "https://localhost:8080/"
        },
        "id": "VuUKg2pNqFTe",
        "outputId": "4a539190-6847-4d07-d096-309f48545c75"
      },
      "execution_count": null,
      "outputs": [
        {
          "output_type": "execute_result",
          "data": {
            "text/plain": [
              "(785, 1)"
            ]
          },
          "metadata": {},
          "execution_count": 80
        }
      ]
    },
    {
      "cell_type": "code",
      "source": [
        "print('Empirical risk on training data is:')\n",
        "print(loss/X_train.shape[0])  # Doing 1/n"
      ],
      "metadata": {
        "colab": {
          "base_uri": "https://localhost:8080/"
        },
        "id": "QsRFaSzY_-rg",
        "outputId": "2c465063-6f69-4eb4-9aee-e9f3f55f5a35"
      },
      "execution_count": null,
      "outputs": [
        {
          "output_type": "stream",
          "name": "stdout",
          "text": [
            "Empirical risk on training data is:\n",
            "0.7735358190087274\n"
          ]
        }
      ]
    },
    {
      "cell_type": "markdown",
      "source": [
        "#### Testing"
      ],
      "metadata": {
        "id": "wlAMChGS-cMT"
      }
    },
    {
      "cell_type": "code",
      "source": [
        "conf_matrix = np.zeros((classes,classes))\n",
        "count = 0\n",
        "loss = 0\n",
        "for i in range(X_test.shape[0]):\n",
        "  X = X_test[i,:]\n",
        "  X=X.reshape((X.shape[0],1))\n",
        "  # calculating probabilities of each class\n",
        "  e=[]                        # exponent\n",
        "  g = []                      # probabilities (softmax)\n",
        "  grad = []                   # gradient addition for this image\n",
        "  for j in range(classes):\n",
        "    e.append(math.exp(W[j].T@X))\n",
        "  k = sum(e)\n",
        "  for j in range(classes):\n",
        "    g.append(e[j]/k)\n",
        "  k = g.index(max(g))\n",
        "  if k==Y_test[i]:\n",
        "    count = count+1\n",
        "  v = int(Y_test[i])\n",
        "  conf_matrix[v][k] += 1\n",
        "\n",
        "  loss = loss - 1*math.log(g[v])"
      ],
      "metadata": {
        "id": "b-ZOd6a_-eOQ"
      },
      "execution_count": null,
      "outputs": []
    },
    {
      "cell_type": "code",
      "source": [
        "print('The testing accuracy is:')\n",
        "print(count*100/X_test.shape[0])"
      ],
      "metadata": {
        "colab": {
          "base_uri": "https://localhost:8080/"
        },
        "outputId": "0f5f8cfe-7cf5-4478-f2a6-081b058b09bb",
        "id": "iosi4pa1_1JY"
      },
      "execution_count": null,
      "outputs": [
        {
          "output_type": "stream",
          "name": "stdout",
          "text": [
            "The testing accuracy is:\n",
            "86.13333333333334\n"
          ]
        }
      ]
    },
    {
      "cell_type": "code",
      "source": [
        "print('Empirical risk on testing data is:')\n",
        "print(loss/X_test.shape[0])"
      ],
      "metadata": {
        "colab": {
          "base_uri": "https://localhost:8080/"
        },
        "outputId": "2c8465af-d45e-4f88-daba-10bfd42cd385",
        "id": "inaYc78k_1JZ"
      },
      "execution_count": null,
      "outputs": [
        {
          "output_type": "stream",
          "name": "stdout",
          "text": [
            "Empirical risk on testing data is:\n",
            "0.7485922734396865\n"
          ]
        }
      ]
    },
    {
      "cell_type": "code",
      "source": [
        "print('The confusion matrix for above testing data is:')\n",
        "print(conf_matrix.astype(int))"
      ],
      "metadata": {
        "colab": {
          "base_uri": "https://localhost:8080/"
        },
        "outputId": "83f783d4-af35-4c79-e9c7-ddc891a49799",
        "id": "bRy5Yb02_1JZ"
      },
      "execution_count": null,
      "outputs": [
        {
          "output_type": "stream",
          "name": "stdout",
          "text": [
            "The confusion matrix for above testing data is:\n",
            "[[3925  286    1   60   70    0    9   32   88   29]\n",
            " [  98 3876    0  221  120   10    4    8   25  138]\n",
            " [ 184   18 3872   82   17  288    7   10   20    2]\n",
            " [  64    2    4 4018  124   34   97  151    5    1]\n",
            " [   1    1    0   56 4309   62    0   43   17   11]\n",
            " [   3   26   34  250  333 3758    8   13   53   22]\n",
            " [   4    1    3   22   29   31 3975  419    4   12]\n",
            " [   5    1    2  388   73   10 1227 2790    3    1]\n",
            " [  72   13    2    6   17    4   10    2 4338   36]\n",
            " [  94   18    0    7  188   12   11   86  185 3899]]\n"
          ]
        }
      ]
    },
    {
      "cell_type": "code",
      "source": [
        "# Storing True positive True negative, False Positive, False negative and F values in a list scores\n",
        "TP=[]\n",
        "TN=[]\n",
        "FP=[]\n",
        "FN=[]\n",
        "F1=[]\n",
        "for i in range(classes):\n",
        "  TP.append(conf_matrix[i][i])\n",
        "  TN.append(np.sum(conf_matrix)-np.sum(conf_matrix[i,:])-np.sum(conf_matrix[:,i])+conf_matrix[i][i])\n",
        "  FP.append(np.sum(conf_matrix[i,:])-conf_matrix[i][i])\n",
        "  FN.append(np.sum(conf_matrix[:,i])-conf_matrix[i][i])\n",
        "  F1.append((2*TP[i])/(2*TP[i] + FP[i] + FN[i]))"
      ],
      "metadata": {
        "id": "2lST-yVy_1Ja"
      },
      "execution_count": null,
      "outputs": []
    },
    {
      "cell_type": "code",
      "source": [
        "print('F1 scores for corresponding classes are:')\n",
        "print(F1)"
      ],
      "metadata": {
        "colab": {
          "base_uri": "https://localhost:8080/"
        },
        "outputId": "08e794e0-f77d-4143-862a-8c7a1de8beb4",
        "id": "jO0lqUNe_1Ja"
      },
      "execution_count": null,
      "outputs": [
        {
          "output_type": "stream",
          "name": "stdout",
          "text": [
            "F1 scores for corresponding classes are:\n",
            "[0.8770949720670391, 0.8867536032944406, 0.9199334758850083, 0.8362122788761707, 0.8811860940695296, 0.8630152715581583, 0.8072705117790414, 0.6928234417680655, 0.9391643212816627, 0.9013986822332678]\n"
          ]
        }
      ]
    },
    {
      "cell_type": "code",
      "source": [],
      "metadata": {
        "id": "xn6JYrnbAGQy"
      },
      "execution_count": null,
      "outputs": []
    },
    {
      "cell_type": "markdown",
      "source": [
        "### (iii) GMM"
      ],
      "metadata": {
        "id": "0hEYegdoE0Xn"
      }
    },
    {
      "cell_type": "code",
      "execution_count": null,
      "metadata": {
        "colab": {
          "base_uri": "https://localhost:8080/",
          "height": 1000
        },
        "outputId": "a32aeef6-fb74-4378-e2e0-808b71d91633",
        "id": "gadF6km2E7AB"
      },
      "outputs": [
        {
          "output_type": "stream",
          "name": "stdout",
          "text": [
            "Accuracy for  1  mixtures is :  0.8557916666666666\n",
            "F1 scores  1  mixtures is :  [0.8500746427809768, 0.8876706661150187, 0.927542654553512, 0.8338667442537097, 0.8762309326124734, 0.8933711524319782, 0.8043860556532534, 0.7025721784776903, 0.8857236770023008, 0.902239677316633]\n",
            "Confusion matrix for  1  mixtures is :  [[3986.   82.  133.   38.   11.    1.    3.   24.  184.   83.]\n",
            " [ 339. 4291.   32.    4.    1.   21.    3.    3.  116.    8.]\n",
            " [   0.    0. 4186.    2.    0.   40.    4.    4.    2.    0.]\n",
            " [ 174.  217.  110. 4299.   54.  208.   50.  308.   66.   19.]\n",
            " [  85.   85.    6.  158. 4538.  196.   30.  204.   99.  204.]\n",
            " [   7.   16.  170.   48.   88. 4252.   36.   17.   85.   10.]\n",
            " [   8.    0.    4.   34.    5.   15. 3888.  893.   20.   12.]\n",
            " [  46.   11.  138.  222.   29.   27.  767. 3346.    7.  128.]\n",
            " [ 142.   36.    6.    0.    7.   19.    0.    1. 4042.  109.]\n",
            " [  46.  112.    3.    1.   20.   11.    7.    4.  144. 4250.]]\n",
            "Accuracy for  2  mixtures is :  0.8788333333333334\n",
            "F1 scores  2  mixtures is :  [0.8751998294788447, 0.8985417950297803, 0.9436481015428384, 0.852042301348598, 0.8863990646921278, 0.9044411702799411, 0.8355666355043108, 0.7643352236925016, 0.9032611074633399, 0.9309168443496801]\n",
            "Confusion matrix for  2  mixtures is :  [[4106.   81.   87.   32.    4.    0.    3.   20.  180.   37.]\n",
            " [ 314. 4375.   37.    4.    2.   24.    4.    4.  116.    8.]\n",
            " [   2.    0. 4312.    3.    0.   24.    3.    3.    4.    0.]\n",
            " [ 116.  202.  123. 4391.   56.  208.   54.  265.   64.   22.]\n",
            " [  63.   76.    6.  170. 4549.  191.   31.  146.   88.  191.]\n",
            " [   7.   23.  110.   49.   86. 4297.   31.   17.   85.    7.]\n",
            " [   8.    0.   10.   36.    5.   16. 4022.  706.   20.   16.]\n",
            " [  44.    3.  100.  121.   31.   11.  635. 3639.    6.  128.]\n",
            " [ 153.   20.    1.    0.    8.   15.    0.    1. 4127.   48.]\n",
            " [  20.   70.    2.    0.   12.    4.    5.    3.   75. 4366.]]\n",
            "Accuracy for  3  mixtures is :  0.8934166666666666\n",
            "F1 scores  3  mixtures is :  [0.8765392440304101, 0.9090723125703181, 0.9715203426124197, 0.8567846465425788, 0.8852681602172437, 0.913107822410148, 0.8707216494845361, 0.8126689006593881, 0.9096319153625744, 0.9331485232967267]\n",
            "Confusion matrix for  3  mixtures is :  [[4093.   71.   72.   36.    9.    0.    4.   19.  167.   35.]\n",
            " [ 330. 4444.   22.    5.    2.   19.    4.    3.   97.    1.]\n",
            " [   3.    0. 4537.    1.    0.    6.    2.    2.    0.    1.]\n",
            " [ 175.  175.   76. 4442.   58.  209.   64.  261.   78.   25.]\n",
            " [  87.   68.    6.  165. 4564.  196.   32.  128.  113.  199.]\n",
            " [   6.   17.   39.   53.   84. 4319.   41.   23.   84.    4.]\n",
            " [   7.    0.    4.   24.    2.   10. 4223.  605.   10.   27.]\n",
            " [  32.    3.   28.   80.   18.   10.  416. 3759.    2.   99.]\n",
            " [  82.   12.    3.    0.    9.   19.    0.    1. 4127.   56.]\n",
            " [  18.   60.    1.    0.    7.    2.    2.    3.   87. 4376.]]\n",
            "Accuracy for  4  mixtures is :  0.8916666666666667\n",
            "F1 scores  4  mixtures is :  [0.8831308461455758, 0.9179924048034487, 0.9717163059781444, 0.8645669291338582, 0.888390243902439, 0.9165694900879889, 0.8561832061068703, 0.7812938762285344, 0.9105867070794544, 0.9282013323464101]\n",
            "Confusion matrix for  4  mixtures is :  [[4107.   70.   64.   31.    5.    0.    3.   18.  153.   17.]\n",
            " [ 308. 4472.   16.    4.    1.   15.    1.    3.   72.    1.]\n",
            " [   3.    0. 4535.    2.    0.    2.    2.    0.    1.    1.]\n",
            " [ 108.  103.   76. 4392.   55.  208.   58.  268.   64.   22.]\n",
            " [  65.   59.    8.  166. 4553.  200.   25.  148.   79.  194.]\n",
            " [   6.   18.   36.   52.   80. 4323.   34.   22.   65.    7.]\n",
            " [   9.    2.    5.   37.    3.   13. 4206.  724.   19.   19.]\n",
            " [  46.    2.   43.  122.   31.   10.  456. 3617.    6.  122.]\n",
            " [ 159.   32.    1.    0.   10.   13.    0.    1. 4206.   51.]\n",
            " [  22.   92.    4.    0.   15.    6.    3.    3.  100. 4389.]]\n",
            "Accuracy for  5  mixtures is :  0.8970416666666666\n",
            "F1 scores  5  mixtures is :  [0.8751350183624973, 0.9072717895822588, 0.9734645837791569, 0.8591058641377975, 0.8859334045238326, 0.9133228014744602, 0.8866985062493649, 0.824007914697153, 0.9273999562650339, 0.9212606724992094]\n",
            "Confusion matrix for  5  mixtures is :  [[4051.   83.   51.   32.   10.    0.    4.   21.  119.   54.]\n",
            " [ 367. 4398.   12.    6.    1.    8.    0.    0.   52.    1.]\n",
            " [   2.    0. 4549.    0.    0.    3.    3.    1.    0.    0.]\n",
            " [ 162.  151.   71. 4439.   56.  211.   70.  268.   70.   30.]\n",
            " [  88.   72.    8.  164. 4563.  190.   32.  136.   98.  197.]\n",
            " [   8.   16.   66.   55.   83. 4336.   37.   23.   73.    8.]\n",
            " [   7.    2.    7.   16.    1.    9. 4363.  604.    7.   37.]\n",
            " [  30.    0.   20.   94.   19.   16.  273. 3748.    2.   91.]\n",
            " [  79.   10.    0.    0.    5.   11.    0.    0. 4241.   35.]\n",
            " [  39.  118.    4.    0.   15.    6.    6.    3.  103. 4370.]]\n",
            "Accuracy for  6  mixtures is :  0.8952291666666666\n",
            "F1 scores  6  mixtures is :  [0.8905933738148504, 0.9202794329155537, 0.9724868857724013, 0.8634945397815913, 0.8903602726387536, 0.9129426644182125, 0.8552987716010827, 0.7971076137813696, 0.9172965275495674, 0.9368140649973362]\n",
            "Confusion matrix for  6  mixtures is :  [[4180.   64.   30.   31.    3.    0.    3.   18.  197.   28.]\n",
            " [ 285. 4479.   31.    3.    2.   18.    2.    3.   58.    3.]\n",
            " [   2.    0. 4542.    0.    0.    4.    3.    2.    0.    0.]\n",
            " [ 118.  156.   74. 4428.   57.  211.   63.  256.   64.   23.]\n",
            " [  63.   67.    8.  168. 4572.  191.   33.  131.   86.  198.]\n",
            " [   7.   18.   71.   51.   85. 4331.   36.   18.   76.    5.]\n",
            " [   7.    0.    6.   28.    3.    9. 4108.  625.   15.   17.]\n",
            " [  42.    3.   25.   97.   20.   10.  537. 3748.    4.  114.]\n",
            " [ 111.    9.    0.    0.    5.   13.    0.    0. 4187.   39.]\n",
            " [  18.   54.    1.    0.    6.    3.    3.    3.   78. 4396.]]\n"
          ]
        },
        {
          "output_type": "display_data",
          "data": {
            "text/plain": [
              "<Figure size 432x288 with 1 Axes>"
            ],
            "image/png": "[encoded data removed]"
          },
          "metadata": {
            "needs_background": "light"
          }
        }
      ],
      "source": [
        "train_dataset1,test_dataset1 = p4_split_dataset(p4dataset,0.2)\n",
        "classes = 10\n",
        "y1 = np.zeros(6)\n",
        "x1 = np.array([1,2,3,4,5,6])\n",
        "for number_of_Gaussian in x1:\n",
        "  Means1,Pi1 = p4_GMM_training(train_dataset1,5,number_of_Gaussian)\n",
        "  accuracy1,confusion_matrix1 = p4_GMM_testing(test_dataset1,10,Means1,Pi1,number_of_Gaussian)\n",
        "  TP1=[]\n",
        "  TN1=[]\n",
        "  FP1=[]\n",
        "  FN1=[]\n",
        "  F11=[]\n",
        "  for i in range(classes):\n",
        "    TP1.append(confusion_matrix1[i][i])\n",
        "    TN1.append(np.sum(confusion_matrix1)-np.sum(confusion_matrix1[i,:])-np.sum(confusion_matrix1[:,i])+confusion_matrix1[i][i])\n",
        "    FP1.append(np.sum(confusion_matrix1[i,:])-confusion_matrix1[i][i])\n",
        "    FN1.append(np.sum(confusion_matrix1[:,i])-confusion_matrix1[i][i])\n",
        "    F11.append((2*TP1[i])/(2*TP1[i] + FP1[i] + FN1[i]))\n",
        "  y1[number_of_Gaussian-1] = p4_get_likelihood(train_dataset1,Means1,Pi1,number_of_Gaussian)\n",
        "  print(\"Accuracy for \",number_of_Gaussian,\" mixtures is : \",accuracy1)\n",
        "  print(\"F1 scores \",number_of_Gaussian,\" mixtures is : \",F11)\n",
        "  print(\"Confusion matrix for \",number_of_Gaussian,\" mixtures is : \",confusion_matrix1)\n",
        "\n",
        "y1 = (y1-np.min(y1))/(np.max(y1)-np.min(y1))\n",
        "plt.plot(x1,y1)\n",
        "plt.title(\"Log likelihood for 20:80\")\n",
        "plt.xlabel(\"Gaussian misture\")\n",
        "plt.ylabel(\"log likelihood\")\n",
        "plt.show()"
      ]
    },
    {
      "cell_type": "markdown",
      "source": [
        "## Model 2 - 30:70"
      ],
      "metadata": {
        "id": "NcUW8reBAXjk"
      }
    },
    {
      "cell_type": "markdown",
      "source": [
        "Again initialising dataset as X was used variable elsewhere"
      ],
      "metadata": {
        "id": "SLJzyUCGBsM6"
      }
    },
    {
      "cell_type": "code",
      "source": [
        "X=[]\n",
        "Y = []\n",
        "for i in range(classes):\n",
        "  tmp = []\n",
        "  for j in range(len(lst_img_clss[i])):\n",
        "    x = np.ndarray.flatten(lst_img_clss[i][j])\n",
        "    tmp.append(x)\n",
        "  a = np.stack(tmp,axis = 0)\n",
        "  X.append(a)\n",
        "  Y.append(i)\n"
      ],
      "metadata": {
        "id": "NUrPjI-jBrDi"
      },
      "execution_count": null,
      "outputs": []
    },
    {
      "cell_type": "code",
      "source": [
        "a = X[0]\n",
        "b = np.zeros((X[0].shape[0],1))\n",
        "dataset = np.column_stack((a,b))\n",
        "for i in range(1,classes):\n",
        "  a=X[i]\n",
        "  b = i*np.ones((X[i].shape[0],1))\n",
        "  temp = np.column_stack((a,b))\n",
        "  dataset = np.row_stack((dataset,temp))"
      ],
      "metadata": {
        "id": "pAzULjmwBrDj"
      },
      "execution_count": null,
      "outputs": []
    },
    {
      "cell_type": "code",
      "source": [
        "dataset.shape  # Overall dataset"
      ],
      "metadata": {
        "colab": {
          "base_uri": "https://localhost:8080/"
        },
        "outputId": "c841b2eb-5577-4e5b-dc5d-bfd8c215fa03",
        "id": "TbrqXDGNBrDj"
      },
      "execution_count": null,
      "outputs": [
        {
          "output_type": "execute_result",
          "data": {
            "text/plain": [
              "(60000, 785)"
            ]
          },
          "metadata": {},
          "execution_count": 90
        }
      ]
    },
    {
      "cell_type": "code",
      "source": [
        "# creating training and testing dataset\n",
        "count = 1800 #per class\n",
        "a=X[0]\n",
        "a=a[0:count,:]/255       # Normalising else exponent becomes 0\n",
        "b = np.zeros((a.shape[0],1))\n",
        "train_dataset = np.column_stack((a,b))\n",
        "a=X[0]\n",
        "a=a[count:,:]/255\n",
        "b = np.zeros((a.shape[0],1))\n",
        "test_dataset = np.column_stack((a,b))\n",
        "for i in range(1,classes):\n",
        "  a=X[i]\n",
        "  a=a[0:count,:]/255\n",
        "  b = i*np.ones((a.shape[0],1))\n",
        "  temp = np.column_stack((a,b))\n",
        "  train_dataset = np.row_stack((train_dataset,temp))\n",
        "  a=X[i]\n",
        "  a=a[count:,:]/255\n",
        "  b = i*np.ones((a.shape[0],1))\n",
        "  temp = np.column_stack((a,b))\n",
        "  test_dataset = np.row_stack((test_dataset,temp))\n"
      ],
      "metadata": {
        "id": "BsEbv3IZAlFj"
      },
      "execution_count": null,
      "outputs": []
    },
    {
      "cell_type": "code",
      "source": [
        "train_dataset.shape"
      ],
      "metadata": {
        "colab": {
          "base_uri": "https://localhost:8080/"
        },
        "outputId": "6bbf35c1-b9b5-4e06-a6be-e298c60b4cc4",
        "id": "dD_PxfRsAlFk"
      },
      "execution_count": null,
      "outputs": [
        {
          "output_type": "execute_result",
          "data": {
            "text/plain": [
              "(18000, 785)"
            ]
          },
          "metadata": {},
          "execution_count": 92
        }
      ]
    },
    {
      "cell_type": "code",
      "source": [
        "test_dataset.shape"
      ],
      "metadata": {
        "colab": {
          "base_uri": "https://localhost:8080/"
        },
        "outputId": "efb58f87-5968-493e-dc0a-6fab66917b9e",
        "id": "_GfPX2EnAlFk"
      },
      "execution_count": null,
      "outputs": [
        {
          "output_type": "execute_result",
          "data": {
            "text/plain": [
              "(42000, 785)"
            ]
          },
          "metadata": {},
          "execution_count": 93
        }
      ]
    },
    {
      "cell_type": "code",
      "source": [
        "features = train_dataset.shape[1]-1 #784"
      ],
      "metadata": {
        "id": "CMNaMarWAlFk"
      },
      "execution_count": null,
      "outputs": []
    },
    {
      "cell_type": "code",
      "source": [
        "# Initialising features and labels from dataset\n",
        "X_test = test_dataset[:,:features]\n",
        "X_train = train_dataset[:,:features]\n",
        "Y_train = train_dataset[:,features]\n",
        "Y_test = test_dataset[:,features]"
      ],
      "metadata": {
        "id": "iHofyxBTAlFl"
      },
      "execution_count": null,
      "outputs": []
    },
    {
      "cell_type": "markdown",
      "source": [
        "### (i) Naive Bayes"
      ],
      "metadata": {
        "id": "xijVzQdMAlFl"
      }
    },
    {
      "cell_type": "code",
      "source": [
        "classes = 10\n",
        "features = train_dataset.shape[1]-1"
      ],
      "metadata": {
        "id": "DKKJnLMxAlFl"
      },
      "execution_count": null,
      "outputs": []
    },
    {
      "cell_type": "code",
      "source": [
        "# Creating list of numpy arrays containing training datas of each class with class as index of list\n",
        "temp = train_dataset\n",
        "lst = []\n",
        "for i in range(classes):\n",
        "  x = temp[np.where(temp[:,features]==i)] # last column is my class indexes\n",
        "  x = x[:,:features]\n",
        "  lst.append(x)"
      ],
      "metadata": {
        "id": "8pJ7BJT8AlFm"
      },
      "execution_count": null,
      "outputs": []
    },
    {
      "cell_type": "code",
      "source": [
        "# 10 features' mean for each classes\n",
        "mean=[]\n",
        "for i in range(classes):\n",
        "  a=lst[i]\n",
        "  a = a.mean(axis=0)\n",
        "  mean.append(a)"
      ],
      "metadata": {
        "id": "oKgroPp7AlFm"
      },
      "execution_count": null,
      "outputs": []
    },
    {
      "cell_type": "markdown",
      "source": [
        "#### Training"
      ],
      "metadata": {
        "id": "Qmf9kLSuAlFm"
      }
    },
    {
      "cell_type": "code",
      "source": [
        "count = 0\n",
        "for i in range(X_train.shape[0]):\n",
        "  g = []  #class conditionals\n",
        "  for j in range(classes):\n",
        "    v = (X_train[i]-mean[j])\n",
        "    v = np.power(v,2)\n",
        "    k = 0.5 * np.sum(v)\n",
        "    k = math.exp(-k)\n",
        "    g.append(k)\n",
        "  k = g.index(max(g))\n",
        "  if k==int(Y_train[i]):\n",
        "    count=count+1"
      ],
      "metadata": {
        "id": "rEQBmqB2AlFn"
      },
      "execution_count": null,
      "outputs": []
    },
    {
      "cell_type": "code",
      "source": [
        "print('The training accuracy is:')\n",
        "print(count*100/X_train.shape[0])"
      ],
      "metadata": {
        "colab": {
          "base_uri": "https://localhost:8080/"
        },
        "outputId": "9f6476d5-78e2-4a7d-a30d-a1d3fcaa7e61",
        "id": "Bq33NTUuAlFn"
      },
      "execution_count": null,
      "outputs": [
        {
          "output_type": "stream",
          "name": "stdout",
          "text": [
            "The training accuracy is:\n",
            "84.25\n"
          ]
        }
      ]
    },
    {
      "cell_type": "markdown",
      "source": [
        "#### Testing"
      ],
      "metadata": {
        "id": "8qGeWH-oAlFn"
      }
    },
    {
      "cell_type": "code",
      "source": [
        "conf_matrix = np.zeros((classes,classes))\n",
        "count = 0\n",
        "for i in range(X_test.shape[0]):\n",
        "  g = []  #class conditionals\n",
        "  for j in range(classes):\n",
        "    v = (X_test[i]-mean[j])\n",
        "    v = np.power(v,2)\n",
        "    k = 0.5 * np.sum(v)\n",
        "    #k = math.exp(-k)\n",
        "    g.append(k)\n",
        "  k = g.index(min(g))\n",
        "  if k==int(Y_test[i]):\n",
        "    count=count+1\n",
        "  v = int(Y_test[i])\n",
        "  conf_matrix[v][k] += 1"
      ],
      "metadata": {
        "id": "6q5x5yzsAlFo"
      },
      "execution_count": null,
      "outputs": []
    },
    {
      "cell_type": "code",
      "source": [
        "print('The testing accuracy is:')\n",
        "print(count*100/X_test.shape[0])"
      ],
      "metadata": {
        "colab": {
          "base_uri": "https://localhost:8080/"
        },
        "outputId": "d4059add-d5c5-4cda-e70b-e5c1ff6af3fd",
        "id": "GmBljMJNAlFo"
      },
      "execution_count": null,
      "outputs": [
        {
          "output_type": "stream",
          "name": "stdout",
          "text": [
            "The testing accuracy is:\n",
            "84.37857142857143\n"
          ]
        }
      ]
    },
    {
      "cell_type": "code",
      "source": [
        "print('The confusion matrix for above testing data is:')\n",
        "print(conf_matrix.astype(int))"
      ],
      "metadata": {
        "colab": {
          "base_uri": "https://localhost:8080/"
        },
        "outputId": "f73f5eaa-dda7-4746-b773-3ba63147d9ee",
        "id": "pAwHp9x7AlFo"
      },
      "execution_count": null,
      "outputs": [
        {
          "output_type": "stream",
          "name": "stdout",
          "text": [
            "The confusion matrix for above testing data is:\n",
            "[[3449  353    0   66   96    1    8  110   57   60]\n",
            " [  55 3626    0  206  112    7    2   37   18  137]\n",
            " [ 115   36 3352   89   29  481    6   72   11    9]\n",
            " [  38    4    2 3512  138   48   76  379    1    2]\n",
            " [   0    1    0   23 3987   71    0  102    4   12]\n",
            " [   1   27   32  165  302 3583   14   26   27   23]\n",
            " [   3    0    1   15   15   34 3487  635    1    9]\n",
            " [   3    2    2  149   47   10 1165 2820    2    0]\n",
            " [  95   25    1   15   27   20    4    9 3939   65]\n",
            " [  53   26    0    4  178    9    9  122  115 3684]]\n"
          ]
        }
      ]
    },
    {
      "cell_type": "code",
      "source": [
        "# Storing True positive True negative, False Positive, False negative and F values in a list scores\n",
        "TP=[]\n",
        "TN=[]\n",
        "FP=[]\n",
        "FN=[]\n",
        "F1=[]\n",
        "for i in range(classes):\n",
        "  TP.append(conf_matrix[i][i])\n",
        "  TN.append(np.sum(conf_matrix)-np.sum(conf_matrix[i,:])-np.sum(conf_matrix[:,i])+conf_matrix[i][i])\n",
        "  FP.append(np.sum(conf_matrix[i,:])-conf_matrix[i][i])\n",
        "  FN.append(np.sum(conf_matrix[:,i])-conf_matrix[i][i])\n",
        "  F1.append((2*TP[i])/(2*TP[i] + FP[i] + FN[i]))"
      ],
      "metadata": {
        "id": "KrTB6n_2AlFp"
      },
      "execution_count": null,
      "outputs": []
    },
    {
      "cell_type": "code",
      "source": [
        "print('F1 scores for corresponding classes are:')\n",
        "print(F1)"
      ],
      "metadata": {
        "colab": {
          "base_uri": "https://localhost:8080/"
        },
        "outputId": "187e214f-bf31-47fb-9b38-06adbe0ac303",
        "id": "IuOsHG-XAlFp"
      },
      "execution_count": null,
      "outputs": [
        {
          "output_type": "stream",
          "name": "stdout",
          "text": [
            "F1 scores for corresponding classes are:\n",
            "[0.8609585621567648, 0.8737349397590362, 0.8832674571805007, 0.8318332543818096, 0.8732887964078414, 0.8466446124763705, 0.7773938245457586, 0.6625939849624061, 0.9406567164179105, 0.8984270210949884]\n"
          ]
        }
      ]
    },
    {
      "cell_type": "markdown",
      "source": [
        "### (ii) Logistic regression"
      ],
      "metadata": {
        "id": "gfGXodbJAlFp"
      }
    },
    {
      "cell_type": "code",
      "source": [
        "classes = 10\n",
        "features = train_dataset.shape[1] #785 after augmented data"
      ],
      "metadata": {
        "id": "8qRG_59NAlFq"
      },
      "execution_count": null,
      "outputs": []
    },
    {
      "cell_type": "code",
      "source": [
        "tmp = np.ones((X_train.shape[0],1))  # Creating augmented data\n",
        "X_train=np.column_stack((X_train,tmp))\n",
        "X_train.shape"
      ],
      "metadata": {
        "colab": {
          "base_uri": "https://localhost:8080/"
        },
        "outputId": "91a08cbb-519f-4c40-f888-f0a7a85a0e15",
        "id": "OxjPxgZVAlFq"
      },
      "execution_count": null,
      "outputs": [
        {
          "output_type": "execute_result",
          "data": {
            "text/plain": [
              "(18000, 785)"
            ]
          },
          "metadata": {},
          "execution_count": 97
        }
      ]
    },
    {
      "cell_type": "code",
      "source": [
        "tmp = np.ones((X_test.shape[0],1))  # Creating augmented data\n",
        "X_test=np.column_stack((X_test,tmp))\n",
        "X_test.shape"
      ],
      "metadata": {
        "colab": {
          "base_uri": "https://localhost:8080/"
        },
        "outputId": "d59ae6bc-5203-4ae8-e1a8-d61c9ea53d5d",
        "id": "4SJeLXB5AlFq"
      },
      "execution_count": null,
      "outputs": [
        {
          "output_type": "execute_result",
          "data": {
            "text/plain": [
              "(42000, 785)"
            ]
          },
          "metadata": {},
          "execution_count": 98
        }
      ]
    },
    {
      "cell_type": "markdown",
      "source": [
        "#### Training"
      ],
      "metadata": {
        "id": "iW6nAa39AlFr"
      }
    },
    {
      "cell_type": "code",
      "source": [
        "W=[]\n",
        "for i in range(classes):\n",
        "  W.append(np.ones((features,1)))"
      ],
      "metadata": {
        "id": "FTSoWADsAlFr"
      },
      "execution_count": null,
      "outputs": []
    },
    {
      "cell_type": "code",
      "source": [
        "def calc_loss(X,W,j):\n",
        "  X=X.reshape((X.shape[0],1))\n",
        "  # calculating probabilities of each class\n",
        "  e=[]                        # exponent\n",
        "  g = []                      # probabilities (softmax)\n",
        "  grad = []                   # gradient addition for this image\n",
        "  for i in range(classes):\n",
        "    e.append(math.exp(W[i].T@X))\n",
        "  k = sum(e)\n",
        "  for i in range(classes):\n",
        "    g.append(e[i]/k)\n",
        "  loss = -1*math.log(g[j])     # loss for 1 image\n",
        "  for i in range(classes):\n",
        "    if i!=j:\n",
        "      grad.append(-g[i]*X.reshape(X.shape[0]))\n",
        "    else:\n",
        "      grad.append((1-g[i])*X.reshape(X.shape[0]))\n",
        "  return loss,grad"
      ],
      "metadata": {
        "id": "lRwt4xMPAlFr"
      },
      "execution_count": null,
      "outputs": []
    },
    {
      "cell_type": "code",
      "source": [
        "def train_epoch1():\n",
        "  final_loss = 0\n",
        "  final_grad = np.zeros((features,classes))\n",
        "  for i in range(X_train.shape[0]):\n",
        "    loss,grad = calc_loss(X_train[i,:],W,int(Y_train[i]))\n",
        "    final_loss =final_loss + loss\n",
        "    final_grad = final_grad + np.stack(grad,axis = 1)\n",
        "  return final_loss,final_grad"
      ],
      "metadata": {
        "id": "kN4xY9zQAlFs"
      },
      "execution_count": null,
      "outputs": []
    },
    {
      "cell_type": "code",
      "source": [
        "epochs = 50\n",
        "alpha = 10\n",
        "prev_loss = 0\n",
        "for i in range(epochs):\n",
        "  loss,grad = train_epoch1()\n",
        "  for j in range(classes):\n",
        "    gradient = grad[:,j].reshape(grad[:,j].shape[0],1)\n",
        "    if prev_loss<loss:\n",
        "      alpha = (alpha/10)\n",
        "    W[j]=W[j]+alpha*gradient/np.linalg.norm(gradient)\n",
        "    prev_loss = loss\n",
        "  print('loss in',i,'epoch is',loss/X_train.shape[0])"
      ],
      "metadata": {
        "colab": {
          "base_uri": "https://localhost:8080/"
        },
        "outputId": "948bafd2-b8ef-44b3-de0e-49992014afbf",
        "id": "Vci5j7TJAlFt"
      },
      "execution_count": null,
      "outputs": [
        {
          "output_type": "stream",
          "name": "stdout",
          "text": [
            "loss in 0 epoch is 2.302585092993949\n",
            "loss in 1 epoch is 1.109937657051293\n",
            "loss in 2 epoch is 15.64977940250885\n",
            "loss in 3 epoch is 14.867888941254881\n",
            "loss in 4 epoch is 13.995138011698831\n",
            "loss in 5 epoch is 13.100708589633108\n",
            "loss in 6 epoch is 12.307237875519634\n",
            "loss in 7 epoch is 11.40377291053196\n",
            "loss in 8 epoch is 10.619744783719701\n",
            "loss in 9 epoch is 9.7100985645489\n",
            "loss in 10 epoch is 8.932746719906728\n",
            "loss in 11 epoch is 8.018582031067721\n",
            "loss in 12 epoch is 7.246156543602161\n",
            "loss in 13 epoch is 6.328672832902279\n",
            "loss in 14 epoch is 5.56002037994501\n",
            "loss in 15 epoch is 4.642430033140454\n",
            "loss in 16 epoch is 3.88123865285457\n",
            "loss in 17 epoch is 3.034157068900151\n",
            "loss in 18 epoch is 2.370007416795513\n",
            "loss in 19 epoch is 1.7839059625244453\n",
            "loss in 20 epoch is 1.2491039263548163\n",
            "loss in 21 epoch is 1.1972351009497333\n",
            "loss in 22 epoch is 1.2154048923244392\n",
            "loss in 23 epoch is 1.1047158906988248\n",
            "loss in 24 epoch is 1.0118033866178344\n",
            "loss in 25 epoch is 0.9372004136921211\n",
            "loss in 26 epoch is 0.8754279545058633\n",
            "loss in 27 epoch is 0.8275503600229118\n",
            "loss in 28 epoch is 0.794751401633561\n",
            "loss in 29 epoch is 0.7755751268626514\n",
            "loss in 30 epoch is 0.7654993686233175\n",
            "loss in 31 epoch is 0.7611230434867159\n",
            "loss in 32 epoch is 0.7592400721520991\n",
            "loss in 33 epoch is 0.7575684845563195\n",
            "loss in 34 epoch is 0.7553249505519141\n",
            "loss in 35 epoch is 0.7536943237487015\n",
            "loss in 36 epoch is 0.7515274953592631\n",
            "loss in 37 epoch is 0.7499035386330652\n",
            "loss in 38 epoch is 0.7478017321933783\n",
            "loss in 39 epoch is 0.7461718014967682\n",
            "loss in 40 epoch is 0.7441298829522318\n",
            "loss in 41 epoch is 0.742491651879504\n",
            "loss in 42 epoch is 0.7405041997821783\n",
            "loss in 43 epoch is 0.7388595851929193\n",
            "loss in 44 epoch is 0.7369210406941277\n",
            "loss in 45 epoch is 0.735273342572249\n",
            "loss in 46 epoch is 0.733378527725371\n",
            "loss in 47 epoch is 0.7317311974093651\n",
            "loss in 48 epoch is 0.7298755620331359\n",
            "loss in 49 epoch is 0.7282317224520557\n"
          ]
        }
      ]
    },
    {
      "cell_type": "code",
      "source": [
        "print('Empirical risk on training data is:')\n",
        "print(loss/X_train.shape[0])"
      ],
      "metadata": {
        "colab": {
          "base_uri": "https://localhost:8080/"
        },
        "outputId": "efe0090b-56e0-42b3-cc29-ed08f54d945c",
        "id": "G2r7m8o1AlFt"
      },
      "execution_count": null,
      "outputs": [
        {
          "output_type": "stream",
          "name": "stdout",
          "text": [
            "Empirical risk on training data is:\n",
            "0.7282317224520557\n"
          ]
        }
      ]
    },
    {
      "cell_type": "markdown",
      "source": [
        "#### Testing"
      ],
      "metadata": {
        "id": "jRubYz2IAlFu"
      }
    },
    {
      "cell_type": "code",
      "source": [
        "conf_matrix = np.zeros((classes,classes))\n",
        "count = 0\n",
        "loss=0\n",
        "for i in range(X_test.shape[0]):\n",
        "  X = X_test[i,:]\n",
        "  X=X.reshape((X.shape[0],1))\n",
        "  # calculating probabilities of each class\n",
        "  e=[]                        # exponent\n",
        "  g = []                      # probabilities (softmax)\n",
        "  grad = []                   # gradient addition for this image\n",
        "  for j in range(classes):\n",
        "    e.append(math.exp(W[j].T@X))\n",
        "  k = sum(e)\n",
        "  for j in range(classes):\n",
        "    g.append(e[j]/k)\n",
        "  k = g.index(max(g))\n",
        "  if k==Y_test[i]:\n",
        "    count = count+1\n",
        "  v = int(Y_test[i])\n",
        "  conf_matrix[v][k] += 1\n",
        "\n",
        "  loss = loss - 1*math.log(g[v])"
      ],
      "metadata": {
        "id": "uLtkdCyuAlFu"
      },
      "execution_count": null,
      "outputs": []
    },
    {
      "cell_type": "code",
      "source": [
        "print('The testing accuracy is:')\n",
        "print(count*100/X_test.shape[0])"
      ],
      "metadata": {
        "colab": {
          "base_uri": "https://localhost:8080/"
        },
        "outputId": "fe172b1b-9a9d-4c58-faa1-be72ac06ba86",
        "id": "t3qn5yW2AlFu"
      },
      "execution_count": null,
      "outputs": [
        {
          "output_type": "stream",
          "name": "stdout",
          "text": [
            "The testing accuracy is:\n",
            "87.02857142857142\n"
          ]
        }
      ]
    },
    {
      "cell_type": "code",
      "source": [
        "print('Empirical risk on testing data is:')\n",
        "print(loss/X_test.shape[0])"
      ],
      "metadata": {
        "colab": {
          "base_uri": "https://localhost:8080/"
        },
        "outputId": "5e743581-236c-4731-8303-66c66288f532",
        "id": "TPfaYKimAlFv"
      },
      "execution_count": null,
      "outputs": [
        {
          "output_type": "stream",
          "name": "stdout",
          "text": [
            "Empirical risk on testing data is:\n",
            "0.7178242339485161\n"
          ]
        }
      ]
    },
    {
      "cell_type": "code",
      "source": [
        "print('The confusion matrix for above testing data is:')\n",
        "print(conf_matrix.astype(int))"
      ],
      "metadata": {
        "colab": {
          "base_uri": "https://localhost:8080/"
        },
        "outputId": "08b2f0c1-9fa7-4325-ac37-d362061c9bbc",
        "id": "ZprjkapUAlFw"
      },
      "execution_count": null,
      "outputs": [
        {
          "output_type": "stream",
          "name": "stdout",
          "text": [
            "The confusion matrix for above testing data is:\n",
            "[[3613  298    4   49   42    0    5   42   76   71]\n",
            " [  91 3661    0  169   57   13    2    9   22  176]\n",
            " [ 112   22 3762   54    8  204    3   11   18    6]\n",
            " [  63    4   19 3721  100   49   58  179    4    3]\n",
            " [   1    1    0   36 3944   79    0   86   17   36]\n",
            " [   3   30   46  159  218 3623    4   17   47   53]\n",
            " [   4    0    9   18   15   39 3570  526    4   15]\n",
            " [   5    1   15  275   41   17 1009 2832    3    2]\n",
            " [  62   17    2    6   12    7    2    2 4036   54]\n",
            " [  60    3    0    4  103    6   10   92  132 3790]]\n"
          ]
        }
      ]
    },
    {
      "cell_type": "code",
      "source": [
        "# Storing True positive True negative, False Positive, False negative and F values in a list scores\n",
        "TP=[]\n",
        "TN=[]\n",
        "FP=[]\n",
        "FN=[]\n",
        "F1=[]\n",
        "for i in range(classes):\n",
        "  TP.append(conf_matrix[i][i])\n",
        "  TN.append(np.sum(conf_matrix)-np.sum(conf_matrix[i,:])-np.sum(conf_matrix[:,i])+conf_matrix[i][i])\n",
        "  FP.append(np.sum(conf_matrix[i,:])-conf_matrix[i][i])\n",
        "  FN.append(np.sum(conf_matrix[:,i])-conf_matrix[i][i])\n",
        "  F1.append((2*TP[i])/(2*TP[i] + FP[i] + FN[i]))"
      ],
      "metadata": {
        "id": "yc6UjCZPAlFw"
      },
      "execution_count": null,
      "outputs": []
    },
    {
      "cell_type": "code",
      "source": [
        "print('F1 scores for corresponding classes are:')\n",
        "print(F1)"
      ],
      "metadata": {
        "colab": {
          "base_uri": "https://localhost:8080/"
        },
        "outputId": "9b0aadfa-e4c9-4cbe-f81c-1ca0a4f505d3",
        "id": "vkkQBXIIAlFx"
      },
      "execution_count": null,
      "outputs": [
        {
          "output_type": "stream",
          "name": "stdout",
          "text": [
            "F1 scores for corresponding classes are:\n",
            "[0.879717555393231, 0.8889158674274614, 0.9338463447933474, 0.8562881141410654, 0.9025171624713959, 0.879689207235644, 0.8055962992214826, 0.7083541770885443, 0.9431008295361608, 0.901736854627647]\n"
          ]
        }
      ]
    },
    {
      "cell_type": "code",
      "source": [],
      "metadata": {
        "id": "L7erroWHAlFx"
      },
      "execution_count": null,
      "outputs": []
    },
    {
      "cell_type": "markdown",
      "source": [
        "### (iii) GMM"
      ],
      "metadata": {
        "id": "fneWFEfGFOvY"
      }
    },
    {
      "cell_type": "code",
      "execution_count": null,
      "metadata": {
        "colab": {
          "base_uri": "https://localhost:8080/",
          "height": 1000
        },
        "outputId": "ca5d3a30-0e99-4bf4-ca99-27c34fb04f49",
        "id": "9fFLWhUGFXFr"
      },
      "outputs": [
        {
          "output_type": "stream",
          "name": "stdout",
          "text": [
            "Accuracy for  1  mixtures is :  0.8521904761904762\n",
            "F1 scores  1  mixtures is :  [0.8436345727653287, 0.8895472860867504, 0.9238683127572016, 0.8289488289488289, 0.8753635678121297, 0.8943584744730109, 0.7947882736156352, 0.685672867842474, 0.8913931888544891, 0.9009250243427459]\n",
            "Confusion matrix for  1  mixtures is :  [[3426.   65.  121.   31.    4.    1.    5.   20.  152.   79.]\n",
            " [ 315. 3753.   32.    4.    2.   20.    1.    1.   79.    9.]\n",
            " [   1.    0. 3592.    1.    0.   30.    2.    5.    1.    0.]\n",
            " [ 161.  200.  101. 3734.   40.  202.   48.  268.   62.   19.]\n",
            " [  89.   78.    9.  143. 4063.  178.   32.  180.   96.  194.]\n",
            " [   4.   12.  145.   36.   72. 3670.   29.   11.   55.   12.]\n",
            " [   9.    1.    2.   23.    1.   16. 3416.  854.   19.   12.]\n",
            " [  50.   14.  134.  202.   22.   20.  706. 2838.    8.  102.]\n",
            " [ 123.   16.    5.    0.    6.   17.    0.    2. 3599.  100.]\n",
            " [  40.   83.    3.    0.   11.    7.    4.    3.  136. 3701.]]\n",
            "Accuracy for  2  mixtures is :  0.881547619047619\n",
            "F1 scores  2  mixtures is :  [0.8595450049455984, 0.8915318744053282, 0.9606790662838597, 0.8531825238412065, 0.8783958602846055, 0.9035557720409158, 0.8695853066882292, 0.8074906367041198, 0.8944823310601364, 0.9005451241671714]\n",
            "Confusion matrix for  2  mixtures is :  [[3476.   71.   52.   27.    4.    1.    5.   15.  145.   74.]\n",
            " [ 298. 3748.   25.    4.    1.   21.    2.    1.   78.    8.]\n",
            " [   2.    0. 3848.    1.    0.   12.    1.    3.    0.    0.]\n",
            " [ 141.  201.   66. 3847.   40.  197.   60.  200.   65.   27.]\n",
            " [  93.   80.   13.  158. 4074.  176.   33.  135.   99.  194.]\n",
            " [   4.   16.  111.   37.   67. 3710.   28.   14.   56.    8.]\n",
            " [   9.    0.    4.   16.    1.   11. 3764.  575.   14.   20.]\n",
            " [  36.    0.   15.   84.   17.    9.  346. 3234.    3.   84.]\n",
            " [ 118.    8.    6.    0.    6.   15.    0.    2. 3607.   96.]\n",
            " [  41.   98.    4.    0.   11.    9.    4.    3.  140. 3717.]]\n",
            "Accuracy for  3  mixtures is :  0.8906666666666667\n",
            "F1 scores  3  mixtures is :  [0.8725442043222004, 0.9118612283169245, 0.9530285858204256, 0.8624326750448833, 0.884996191926885, 0.908203125, 0.8714551371455137, 0.8031534860803153, 0.9156686010618595, 0.9275432442240232]\n",
            "Confusion matrix for  3  mixtures is :  [[3553.   72.   95.   29.    5.    1.    5.   25.  117.   24.]\n",
            " [ 325. 3890.   21.    5.    1.    9.    0.    1.   58.    0.]\n",
            " [   1.    0. 3784.    0.    0.   10.    1.    1.    0.    0.]\n",
            " [ 116.  101.   92. 3843.   40.  203.   59.  198.   63.   23.]\n",
            " [  65.   55.   12.  155. 4067.  182.   35.  134.   85.  180.]\n",
            " [   4.   22.   70.   39.   72. 3720.   27.   12.   58.    7.]\n",
            " [   7.    0.    4.   15.    1.   10. 3749.  548.    8.   19.]\n",
            " [  39.    1.   64.   88.   21.    6.  365. 3260.    2.   90.]\n",
            " [  96.   10.    1.    0.    6.   18.    0.    2. 3708.   51.]\n",
            " [  12.   71.    1.    0.    8.    2.    2.    1.  108. 3834.]]\n",
            "Accuracy for  4  mixtures is :  0.8945714285714286\n",
            "F1 scores  4  mixtures is :  [0.8863748155435317, 0.9232580037664784, 0.975952645209027, 0.8662362668478877, 0.8868827496193169, 0.9225282833251353, 0.8525425692111664, 0.773772911797269, 0.9258848193365397, 0.9367488163166201]\n",
            "Confusion matrix for  4  mixtures is :  [[3604.   62.   34.   23.    3.    0.    5.   19.  145.   19.]\n",
            " [ 278. 3922.   19.    5.    0.    8.    0.    2.   40.    0.]\n",
            " [   2.    0. 3957.    0.    0.    4.    1.    1.    0.    0.]\n",
            " [ 100.  102.   59. 3824.   39.  190.   51.  217.   55.   18.]\n",
            " [  70.   52.    8.  152. 4077.  182.   29.  149.   77.  177.]\n",
            " [   4.   16.   37.   34.   64. 3751.   10.    7.   42.    6.]\n",
            " [   8.    0.    5.   20.    1.   10. 3680.  638.   13.   15.]\n",
            " [  50.    7.   24.  116.   28.    9.  465. 3145.    5.   98.]\n",
            " [  87.   11.    0.    0.    5.    6.    0.    2. 3754.   37.]\n",
            " [  15.   50.    1.    0.    4.    1.    2.    2.   76. 3858.]]\n",
            "Accuracy for  5  mixtures is :  0.8960714285714285\n",
            "F1 scores  5  mixtures is :  [0.8835599505562423, 0.9174979462504401, 0.9707703740401288, 0.865553801037672, 0.8867145031528593, 0.9154362416107382, 0.872330547818013, 0.8009894867037725, 0.9156419085095917, 0.9359114678341238]\n",
            "Confusion matrix for  5  mixtures is :  [[3574.   59.   39.   26.    3.    0.    5.   22.  125.   19.]\n",
            " [ 273. 3909.   23.    6.    0.   12.    1.    3.   70.    2.]\n",
            " [   2.    0. 3919.    2.    0.    4.    1.    1.    0.    1.]\n",
            " [ 103.  113.   61. 3837.   39.  194.   55.  210.   62.   18.]\n",
            " [  70.   58.   11.  154. 4078.  172.   34.  141.   80.  179.]\n",
            " [   4.   21.   66.   35.   66. 3751.   16.   11.   58.    6.]\n",
            " [   8.    0.    3.   14.    1.    6. 3758.  553.   11.   19.]\n",
            " [  45.    4.   19.  100.   23.    7.  371. 3238.    4.   92.]\n",
            " [ 129.    6.    2.    0.    5.   14.    0.    2. 3723.   44.]\n",
            " [  10.   52.    1.    0.    6.    1.    2.    1.   74. 3848.]]\n",
            "Accuracy for  6  mixtures is :  0.8946666666666667\n",
            "F1 scores  6  mixtures is :  [0.8841975308641975, 0.9104076626562317, 0.9753147371019502, 0.8608108108108108, 0.885, 0.9146925248557751, 0.8642807343713688, 0.7933374460209747, 0.9303354220420199, 0.9333333333333333]\n",
            "Confusion matrix for  6  mixtures is :  [[3581.   66.   38.   31.    2.    1.    5.   20.   95.   43.]\n",
            " [ 315. 3897.   27.    7.    0.   15.    1.    3.   68.    6.]\n",
            " [   1.    0. 3951.    0.    0.    6.    0.    0.    0.    0.]\n",
            " [ 117.  123.   61. 3822.   39.  203.   53.  213.   54.   21.]\n",
            " [  70.   59.    7.  155. 4071.  180.   30.  141.   76.  190.]\n",
            " [   4.   20.   37.   41.   73. 3726.   17.   11.   51.    6.]\n",
            " [   8.    0.    4.   18.    1.   12. 3719.  575.   11.   15.]\n",
            " [  40.    3.   18.  100.   24.    6.  417. 3215.    3.   97.]\n",
            " [  71.   13.    0.    0.    8.   10.    0.    2. 3786.   42.]\n",
            " [  11.   41.    1.    0.    3.    2.    1.    2.   63. 3808.]]\n"
          ]
        },
        {
          "output_type": "display_data",
          "data": {
            "text/plain": [
              "<Figure size 432x288 with 1 Axes>"
            ],
            "image/png": "[encoded data removed]"
          },
          "metadata": {
            "needs_background": "light"
          }
        }
      ],
      "source": [
        "train_dataset2,test_dataset2 = p4_split_dataset(p4dataset,0.3)\n",
        "classes = 10\n",
        "y2 = np.zeros(6)\n",
        "x2 = np.array([1,2,3,4,5,6])\n",
        "for number_of_Gaussian in x2:\n",
        "  Means2,Pi2 = p4_GMM_training(train_dataset2,5,number_of_Gaussian)\n",
        "  accuracy2,confusion_matrix2 = p4_GMM_testing(test_dataset2,10,Means2,Pi2,number_of_Gaussian)\n",
        "  TP2=[]\n",
        "  TN2=[]\n",
        "  FP2=[]\n",
        "  FN2=[]\n",
        "  F12=[]\n",
        "  for i in range(classes):\n",
        "    TP2.append(confusion_matrix2[i][i])\n",
        "    TN2.append(np.sum(confusion_matrix2)-np.sum(confusion_matrix2[i,:])-np.sum(confusion_matrix2[:,i])+confusion_matrix2[i][i])\n",
        "    FP2.append(np.sum(confusion_matrix2[i,:])-confusion_matrix2[i][i])\n",
        "    FN2.append(np.sum(confusion_matrix2[:,i])-confusion_matrix2[i][i])\n",
        "    F12.append((2*TP2[i])/(2*TP2[i] + FP2[i] + FN2[i]))\n",
        "  y2[number_of_Gaussian-1] = p4_get_likelihood(train_dataset2,Means2,Pi2,number_of_Gaussian)\n",
        "  print(\"Accuracy for \",number_of_Gaussian,\" mixtures is : \",accuracy2)\n",
        "  print(\"F1 scores \",number_of_Gaussian,\" mixtures is : \",F12)\n",
        "  print(\"Confusion matrix for \",number_of_Gaussian,\" mixtures is : \",confusion_matrix2)\n",
        "\n",
        "y2 = (y2-np.min(y2))/(np.max(y2)-np.min(y2))\n",
        "plt.plot(x2,y2)\n",
        "plt.title(\"Log likelihood for 30:70\")\n",
        "plt.ylabel(\"log likelihood\")\n",
        "plt.xlabel(\"Gaussian misture\")\n",
        "plt.show()"
      ]
    },
    {
      "cell_type": "markdown",
      "source": [
        "## Model 3 - 50:50"
      ],
      "metadata": {
        "id": "4iUxp3KDDjmP"
      }
    },
    {
      "cell_type": "markdown",
      "source": [
        "Again initialising dataset as X was used variable elsewhere"
      ],
      "metadata": {
        "id": "LkkjWlM3DjmQ"
      }
    },
    {
      "cell_type": "code",
      "source": [
        "X=[]\n",
        "Y = []\n",
        "for i in range(classes):\n",
        "  tmp = []\n",
        "  for j in range(len(lst_img_clss[i])):\n",
        "    x = np.ndarray.flatten(lst_img_clss[i][j])\n",
        "    tmp.append(x)\n",
        "  a = np.stack(tmp,axis = 0)\n",
        "  X.append(a)\n",
        "  Y.append(i)\n"
      ],
      "metadata": {
        "id": "VS3bAjZjDjmQ"
      },
      "execution_count": null,
      "outputs": []
    },
    {
      "cell_type": "code",
      "source": [
        "a = X[0]\n",
        "b = np.zeros((X[0].shape[0],1))\n",
        "dataset = np.column_stack((a,b))\n",
        "for i in range(1,classes):\n",
        "  a=X[i]\n",
        "  b = i*np.ones((X[i].shape[0],1))\n",
        "  temp = np.column_stack((a,b))\n",
        "  dataset = np.row_stack((dataset,temp))"
      ],
      "metadata": {
        "id": "rCqlVW-rDjmQ"
      },
      "execution_count": null,
      "outputs": []
    },
    {
      "cell_type": "code",
      "source": [
        "dataset.shape  # Overall dataset"
      ],
      "metadata": {
        "colab": {
          "base_uri": "https://localhost:8080/"
        },
        "outputId": "47e2573c-66f4-4d44-f719-cb871cbda033",
        "id": "7GxDMhL_DjmR"
      },
      "execution_count": null,
      "outputs": [
        {
          "output_type": "execute_result",
          "data": {
            "text/plain": [
              "(60000, 785)"
            ]
          },
          "metadata": {},
          "execution_count": 112
        }
      ]
    },
    {
      "cell_type": "code",
      "source": [
        "# creating training and testing dataset\n",
        "count = 3000 #per class\n",
        "a=X[0]\n",
        "a=a[0:count,:]/255       # Normalising else exponent becomes 0\n",
        "b = np.zeros((a.shape[0],1))\n",
        "train_dataset = np.column_stack((a,b))\n",
        "a=X[0]\n",
        "a=a[count:,:]/255\n",
        "b = np.zeros((a.shape[0],1))\n",
        "test_dataset = np.column_stack((a,b))\n",
        "for i in range(1,classes):\n",
        "  a=X[i]\n",
        "  a=a[0:count,:]/255\n",
        "  b = i*np.ones((a.shape[0],1))\n",
        "  temp = np.column_stack((a,b))\n",
        "  train_dataset = np.row_stack((train_dataset,temp))\n",
        "  a=X[i]\n",
        "  a=a[count:,:]/255\n",
        "  b = i*np.ones((a.shape[0],1))\n",
        "  temp = np.column_stack((a,b))\n",
        "  test_dataset = np.row_stack((test_dataset,temp))\n"
      ],
      "metadata": {
        "id": "mFrYPfHNDjmR"
      },
      "execution_count": null,
      "outputs": []
    },
    {
      "cell_type": "code",
      "source": [
        "train_dataset.shape"
      ],
      "metadata": {
        "colab": {
          "base_uri": "https://localhost:8080/"
        },
        "outputId": "dcab898c-d8a7-4a9c-9126-afdd5ff4c973",
        "id": "rBy_ltOaDjmR"
      },
      "execution_count": null,
      "outputs": [
        {
          "output_type": "execute_result",
          "data": {
            "text/plain": [
              "(30000, 785)"
            ]
          },
          "metadata": {},
          "execution_count": 114
        }
      ]
    },
    {
      "cell_type": "code",
      "source": [
        "test_dataset.shape"
      ],
      "metadata": {
        "colab": {
          "base_uri": "https://localhost:8080/"
        },
        "outputId": "b1d057f8-516f-447c-905e-d4fa27c11bd8",
        "id": "mCIfd94uDjmR"
      },
      "execution_count": null,
      "outputs": [
        {
          "output_type": "execute_result",
          "data": {
            "text/plain": [
              "(30000, 785)"
            ]
          },
          "metadata": {},
          "execution_count": 115
        }
      ]
    },
    {
      "cell_type": "code",
      "source": [
        "features = train_dataset.shape[1]-1 #784"
      ],
      "metadata": {
        "id": "aet5p2T3DjmS"
      },
      "execution_count": null,
      "outputs": []
    },
    {
      "cell_type": "code",
      "source": [
        "# Initialising features and labels from dataset\n",
        "X_test = test_dataset[:,:features]\n",
        "X_train = train_dataset[:,:features]\n",
        "Y_train = train_dataset[:,features]\n",
        "Y_test = test_dataset[:,features]"
      ],
      "metadata": {
        "id": "iSSZZIffDjmS"
      },
      "execution_count": null,
      "outputs": []
    },
    {
      "cell_type": "markdown",
      "source": [
        "### (i) Naive Bayes"
      ],
      "metadata": {
        "id": "AaW0wqrhDjmS"
      }
    },
    {
      "cell_type": "code",
      "source": [
        "classes = 10\n",
        "features = train_dataset.shape[1]-1"
      ],
      "metadata": {
        "id": "HTMXxqEjDjmS"
      },
      "execution_count": null,
      "outputs": []
    },
    {
      "cell_type": "code",
      "source": [
        "# Creating list of numpy arrays containing training datas of each class with class as index of list\n",
        "temp = train_dataset\n",
        "lst = []\n",
        "for i in range(classes):\n",
        "  x = temp[np.where(temp[:,features]==i)] # last column is my class indexes\n",
        "  x = x[:,:features]\n",
        "  lst.append(x)"
      ],
      "metadata": {
        "id": "LgMa87E5DjmS"
      },
      "execution_count": null,
      "outputs": []
    },
    {
      "cell_type": "code",
      "source": [
        "# 10 features' mean for each classes\n",
        "mean=[]\n",
        "for i in range(classes):\n",
        "  a=lst[i]\n",
        "  a = a.mean(axis=0)\n",
        "  mean.append(a)"
      ],
      "metadata": {
        "id": "BGNmmoY-DjmS"
      },
      "execution_count": null,
      "outputs": []
    },
    {
      "cell_type": "markdown",
      "source": [
        "#### Training"
      ],
      "metadata": {
        "id": "CGGWtMojDjmT"
      }
    },
    {
      "cell_type": "code",
      "source": [
        "count = 0\n",
        "for i in range(X_train.shape[0]):\n",
        "  g = []  #class conditionals\n",
        "  for j in range(classes):\n",
        "    v = (X_train[i]-mean[j])\n",
        "    v = np.power(v,2)\n",
        "    k = 0.5 * np.sum(v)\n",
        "    k = math.exp(-k)\n",
        "    g.append(k)\n",
        "  k = g.index(max(g))\n",
        "  if k==int(Y_train[i]):\n",
        "    count=count+1"
      ],
      "metadata": {
        "id": "Ex5NBL16DjmT"
      },
      "execution_count": null,
      "outputs": []
    },
    {
      "cell_type": "code",
      "source": [
        "print('The training accuracy is:')\n",
        "print(count*100/X_train.shape[0])"
      ],
      "metadata": {
        "colab": {
          "base_uri": "https://localhost:8080/"
        },
        "outputId": "f3f50cdf-9eda-4f57-8f70-791fc6e6ba27",
        "id": "0zN7RGlVDjmT"
      },
      "execution_count": null,
      "outputs": [
        {
          "output_type": "stream",
          "name": "stdout",
          "text": [
            "The training accuracy is:\n",
            "84.82333333333334\n"
          ]
        }
      ]
    },
    {
      "cell_type": "markdown",
      "source": [
        "#### Testing"
      ],
      "metadata": {
        "id": "TDnTKopBDjmT"
      }
    },
    {
      "cell_type": "code",
      "source": [
        "conf_matrix = np.zeros((classes,classes))\n",
        "count = 0\n",
        "for i in range(X_test.shape[0]):\n",
        "  g = []  #class conditionals\n",
        "  for j in range(classes):\n",
        "    v = (X_test[i]-mean[j])\n",
        "    v = np.power(v,2)\n",
        "    k = 0.5 * np.sum(v)\n",
        "    #k = math.exp(-k)\n",
        "    g.append(k)\n",
        "  k = g.index(min(g))\n",
        "  if k==int(Y_test[i]):\n",
        "    count=count+1\n",
        "  v = int(Y_test[i])\n",
        "  conf_matrix[v][k] += 1"
      ],
      "metadata": {
        "id": "MnBzrS6aDjmT"
      },
      "execution_count": null,
      "outputs": []
    },
    {
      "cell_type": "code",
      "source": [
        "print('The testing accuracy is:')\n",
        "print(count*100/X_test.shape[0])"
      ],
      "metadata": {
        "colab": {
          "base_uri": "https://localhost:8080/"
        },
        "outputId": "18babb22-b956-44d8-c225-86ecca592386",
        "id": "nT_x1ry8DjmT"
      },
      "execution_count": null,
      "outputs": [
        {
          "output_type": "stream",
          "name": "stdout",
          "text": [
            "The testing accuracy is:\n",
            "86.12\n"
          ]
        }
      ]
    },
    {
      "cell_type": "code",
      "source": [
        "print('The confusion matrix for above testing data is:')\n",
        "print(conf_matrix.astype(int))"
      ],
      "metadata": {
        "colab": {
          "base_uri": "https://localhost:8080/"
        },
        "outputId": "25b57d46-104e-422a-e22f-d27560733788",
        "id": "0nrn4oNcDjmU"
      },
      "execution_count": null,
      "outputs": [
        {
          "output_type": "stream",
          "name": "stdout",
          "text": [
            "The confusion matrix for above testing data is:\n",
            "[[2633  188    0   27   37    1   10   46   46   12]\n",
            " [  54 2712    0   89   57    7    1    5   32   43]\n",
            " [  96   32 2503   97   12  177    6   68    6    3]\n",
            " [  34    2    0 2631  106   22   39  165    0    1]\n",
            " [   1    1    0    9 2863   83    0   32    4    7]\n",
            " [   1   29   29  105  198 2580    7   16   18   17]\n",
            " [   1    1    0   16   15   15 2509  437    0    6]\n",
            " [   2    1    2  122   31   11  909 1920    2    0]\n",
            " [  62    5    1    1    7   10    2    2 2854   56]\n",
            " [  51   13    0    3   93    4    6   81  118 2631]]\n"
          ]
        }
      ]
    },
    {
      "cell_type": "code",
      "source": [
        "# Storing True positive True negative, False Positive, False negative and F values in a list scores\n",
        "TP=[]\n",
        "TN=[]\n",
        "FP=[]\n",
        "FN=[]\n",
        "F1=[]\n",
        "for i in range(classes):\n",
        "  TP.append(conf_matrix[i][i])\n",
        "  TN.append(np.sum(conf_matrix)-np.sum(conf_matrix[i,:])-np.sum(conf_matrix[:,i])+conf_matrix[i][i])\n",
        "  FP.append(np.sum(conf_matrix[i,:])-conf_matrix[i][i])\n",
        "  FN.append(np.sum(conf_matrix[:,i])-conf_matrix[i][i])\n",
        "  F1.append((2*TP[i])/(2*TP[i] + FP[i] + FN[i]))"
      ],
      "metadata": {
        "id": "iF1LgipxDjmU"
      },
      "execution_count": null,
      "outputs": []
    },
    {
      "cell_type": "code",
      "source": [
        "print('F1 scores for corresponding classes are:')\n",
        "print(F1)"
      ],
      "metadata": {
        "colab": {
          "base_uri": "https://localhost:8080/"
        },
        "outputId": "8af853d0-bf10-436f-c235-23b1ab3ba454",
        "id": "sppi4BDJDjmU"
      },
      "execution_count": null,
      "outputs": [
        {
          "output_type": "stream",
          "name": "stdout",
          "text": [
            "F1 scores for corresponding classes are:\n",
            "[0.8872788542544229, 0.9064171122994652, 0.9044263775971093, 0.8626229508196721, 0.8920392584514721, 0.8730964467005076, 0.7733086762212976, 0.6652806652806653, 0.9388157894736842, 0.91101108033241]\n"
          ]
        }
      ]
    },
    {
      "cell_type": "markdown",
      "source": [
        "### (ii) Logistic regression"
      ],
      "metadata": {
        "id": "b67J8eAKDjmU"
      }
    },
    {
      "cell_type": "code",
      "source": [
        "classes = 10\n",
        "features = train_dataset.shape[1] #785 after augmented data"
      ],
      "metadata": {
        "id": "YXpdQANYDjmV"
      },
      "execution_count": null,
      "outputs": []
    },
    {
      "cell_type": "code",
      "source": [
        "tmp = np.ones((X_train.shape[0],1))  # Creating augmented data\n",
        "X_train=np.column_stack((X_train,tmp))\n",
        "X_train.shape"
      ],
      "metadata": {
        "colab": {
          "base_uri": "https://localhost:8080/"
        },
        "outputId": "42162335-6b40-4603-948b-1aeacece6aa2",
        "id": "D5XVf1jiDjmV"
      },
      "execution_count": null,
      "outputs": [
        {
          "output_type": "execute_result",
          "data": {
            "text/plain": [
              "(30000, 785)"
            ]
          },
          "metadata": {},
          "execution_count": 119
        }
      ]
    },
    {
      "cell_type": "code",
      "source": [
        "tmp = np.ones((X_test.shape[0],1))  # Creating augmented data\n",
        "X_test=np.column_stack((X_test,tmp))\n",
        "X_test.shape"
      ],
      "metadata": {
        "colab": {
          "base_uri": "https://localhost:8080/"
        },
        "outputId": "c3ff27e7-d8cc-4de3-ebc8-edd0a45ed170",
        "id": "K72MiGtmDjmV"
      },
      "execution_count": null,
      "outputs": [
        {
          "output_type": "execute_result",
          "data": {
            "text/plain": [
              "(30000, 785)"
            ]
          },
          "metadata": {},
          "execution_count": 120
        }
      ]
    },
    {
      "cell_type": "markdown",
      "source": [
        "#### Training"
      ],
      "metadata": {
        "id": "kNMRs-lyDjmV"
      }
    },
    {
      "cell_type": "code",
      "source": [
        "W=[]\n",
        "for i in range(classes):\n",
        "  W.append(np.ones((features,1)))"
      ],
      "metadata": {
        "id": "VsHoFcDMDjmW"
      },
      "execution_count": null,
      "outputs": []
    },
    {
      "cell_type": "code",
      "source": [
        "def calc_loss(X,W,j):\n",
        "  X=X.reshape((X.shape[0],1))\n",
        "  # calculating probabilities of each class\n",
        "  e=[]                        # exponent\n",
        "  g = []                      # probabilities (softmax)\n",
        "  grad = []                   # gradient addition for this image\n",
        "  for i in range(classes):\n",
        "    e.append(math.exp(W[i].T@X))\n",
        "  k = sum(e)\n",
        "  for i in range(classes):\n",
        "    g.append(e[i]/k)\n",
        "  loss = -1*math.log(g[j])     # loss for 1 image\n",
        "  for i in range(classes):\n",
        "    if i!=j:\n",
        "      grad.append(-g[i]*X.reshape(X.shape[0]))\n",
        "    else:\n",
        "      grad.append((1-g[i])*X.reshape(X.shape[0]))\n",
        "  return loss,grad"
      ],
      "metadata": {
        "id": "APo6ZM6TDjmW"
      },
      "execution_count": null,
      "outputs": []
    },
    {
      "cell_type": "code",
      "source": [
        "def train_epoch1():\n",
        "  final_loss = 0\n",
        "  final_grad = np.zeros((features,classes))\n",
        "  for i in range(X_train.shape[0]):\n",
        "    loss,grad = calc_loss(X_train[i,:],W,int(Y_train[i]))\n",
        "    final_loss =final_loss + loss\n",
        "    final_grad = final_grad + np.stack(grad,axis = 1)\n",
        "  return final_loss,final_grad"
      ],
      "metadata": {
        "id": "0MJ6sPocDjmW"
      },
      "execution_count": null,
      "outputs": []
    },
    {
      "cell_type": "code",
      "source": [
        "epochs = 50\n",
        "alpha = 10\n",
        "prev_loss = 0\n",
        "for i in range(epochs):\n",
        "  loss,grad = train_epoch1()\n",
        "  for j in range(classes):\n",
        "    gradient = grad[:,j].reshape(grad[:,j].shape[0],1)\n",
        "    if prev_loss<loss:\n",
        "      alpha = (alpha/10)\n",
        "    W[j]=W[j]+alpha*gradient/np.linalg.norm(gradient)\n",
        "    prev_loss = loss\n",
        "  print('loss in',i,'epoch is',loss/X_train.shape[0])"
      ],
      "metadata": {
        "colab": {
          "base_uri": "https://localhost:8080/"
        },
        "outputId": "6be6a6da-4e97-4f4c-b40a-54942cb5d7ee",
        "id": "7DeqwUnGDjmW"
      },
      "execution_count": null,
      "outputs": [
        {
          "output_type": "stream",
          "name": "stdout",
          "text": [
            "loss in 0 epoch is 2.3025850929934024\n",
            "loss in 1 epoch is 1.1015164807183533\n",
            "loss in 2 epoch is 15.996749007512783\n",
            "loss in 3 epoch is 14.35179918806085\n",
            "loss in 4 epoch is 12.689189031466176\n",
            "loss in 5 epoch is 11.026585417436387\n",
            "loss in 6 epoch is 9.36398815061454\n",
            "loss in 7 epoch is 7.701397068861428\n",
            "loss in 8 epoch is 6.0388135044398785\n",
            "loss in 9 epoch is 4.3763354097555185\n",
            "loss in 10 epoch is 2.7200301749632256\n",
            "loss in 11 epoch is 1.2546646708158582\n",
            "loss in 12 epoch is 1.1722500880166393\n",
            "loss in 13 epoch is 1.093281597799932\n",
            "loss in 14 epoch is 1.1808245654379308\n",
            "loss in 15 epoch is 1.0583677820552513\n",
            "loss in 16 epoch is 0.9662088709445491\n",
            "loss in 17 epoch is 0.9003420226318095\n",
            "loss in 18 epoch is 0.8582080847454168\n",
            "loss in 19 epoch is 0.8345208021277007\n",
            "loss in 20 epoch is 0.8258655895933181\n",
            "loss in 21 epoch is 0.8215476513913776\n",
            "loss in 22 epoch is 0.8190065983794665\n",
            "loss in 23 epoch is 0.8178066409533886\n",
            "loss in 24 epoch is 0.8149161090283084\n",
            "loss in 25 epoch is 0.8134515281225305\n",
            "loss in 26 epoch is 0.810959243211101\n",
            "loss in 27 epoch is 0.8093121123022243\n",
            "loss in 28 epoch is 0.8070496148223835\n",
            "loss in 29 epoch is 0.805293503275191\n",
            "loss in 30 epoch is 0.8031733944184642\n",
            "loss in 31 epoch is 0.8013580103032726\n",
            "loss in 32 epoch is 0.7993304717925375\n",
            "loss in 33 epoch is 0.7974874626267454\n",
            "loss in 34 epoch is 0.7955232128221168\n",
            "loss in 35 epoch is 0.7936721526933976\n",
            "loss in 36 epoch is 0.7917537425422232\n",
            "loss in 37 epoch is 0.7899064945375833\n",
            "loss in 38 epoch is 0.7880234311452825\n",
            "loss in 39 epoch is 0.7861870538255041\n",
            "loss in 40 epoch is 0.7843329713566503\n",
            "loss in 41 epoch is 0.7825115736643994\n",
            "loss in 42 epoch is 0.7806825673475296\n",
            "loss in 43 epoch is 0.7788784644559238\n",
            "loss in 44 epoch is 0.7770721017565183\n",
            "loss in 45 epoch is 0.7752865256479717\n",
            "loss in 46 epoch is 0.7735012563317084\n",
            "loss in 47 epoch is 0.771734789332988\n",
            "loss in 48 epoch is 0.7699695921891143\n",
            "loss in 49 epoch is 0.7682224303085692\n"
          ]
        }
      ]
    },
    {
      "cell_type": "code",
      "source": [
        "print('Empirical risk on training data is:')\n",
        "print(loss/X_train.shape[0])"
      ],
      "metadata": {
        "colab": {
          "base_uri": "https://localhost:8080/"
        },
        "id": "rCwl9VNzDjmW",
        "outputId": "40fe7ca8-7850-4c95-96d7-0a966aa43992"
      },
      "execution_count": null,
      "outputs": [
        {
          "output_type": "stream",
          "name": "stdout",
          "text": [
            "Empirical risk on training data is:\n",
            "0.7682224303085692\n"
          ]
        }
      ]
    },
    {
      "cell_type": "markdown",
      "source": [
        "#### Testing"
      ],
      "metadata": {
        "id": "yseY6HE1DjmX"
      }
    },
    {
      "cell_type": "code",
      "source": [
        "conf_matrix = np.zeros((classes,classes))\n",
        "count = 0\n",
        "loss = 0\n",
        "for i in range(X_test.shape[0]):\n",
        "  X = X_test[i,:]\n",
        "  X=X.reshape((X.shape[0],1))\n",
        "  # calculating probabilities of each class\n",
        "  e=[]                        # exponent\n",
        "  g = []                      # probabilities (softmax)\n",
        "  grad = []                   # gradient addition for this image\n",
        "  for j in range(classes):\n",
        "    e.append(math.exp(W[j].T@X))\n",
        "  k = sum(e)\n",
        "  for j in range(classes):\n",
        "    g.append(e[j]/k)\n",
        "  k = g.index(max(g))\n",
        "  if k==Y_test[i]:\n",
        "    count = count+1\n",
        "  v = int(Y_test[i])\n",
        "  conf_matrix[v][k] += 1\n",
        "\n",
        "  loss = loss - 1*math.log(g[v])"
      ],
      "metadata": {
        "id": "Am_0-Qg-DjmX"
      },
      "execution_count": null,
      "outputs": []
    },
    {
      "cell_type": "code",
      "source": [
        "print('The testing accuracy is:')\n",
        "print(count*100/X_test.shape[0])"
      ],
      "metadata": {
        "colab": {
          "base_uri": "https://localhost:8080/"
        },
        "id": "GNubYJShDjmX",
        "outputId": "ad4d6782-7366-4b3e-b8d3-f2abe6fd7824"
      },
      "execution_count": null,
      "outputs": [
        {
          "output_type": "stream",
          "name": "stdout",
          "text": [
            "The testing accuracy is:\n",
            "87.68333333333334\n"
          ]
        }
      ]
    },
    {
      "cell_type": "code",
      "source": [
        "print('Empirical risk on testing data is:')\n",
        "print(loss/X_test.shape[0])"
      ],
      "metadata": {
        "colab": {
          "base_uri": "https://localhost:8080/"
        },
        "id": "xrF4djLUDjmX",
        "outputId": "4491ef95-a450-46db-d2bc-ad5e5afb3a54"
      },
      "execution_count": null,
      "outputs": [
        {
          "output_type": "stream",
          "name": "stdout",
          "text": [
            "Empirical risk on testing data is:\n",
            "0.7132966042489008\n"
          ]
        }
      ]
    },
    {
      "cell_type": "code",
      "source": [
        "print('The confusion matrix for above testing data is:')\n",
        "print(conf_matrix.astype(int))"
      ],
      "metadata": {
        "colab": {
          "base_uri": "https://localhost:8080/"
        },
        "id": "9WPIEEpiDjmX",
        "outputId": "a7c52399-6e6b-4cbd-b3fb-b970aef0dfc7"
      },
      "execution_count": null,
      "outputs": [
        {
          "output_type": "stream",
          "name": "stdout",
          "text": [
            "The confusion matrix for above testing data is:\n",
            "[[2575  243    2   12   33    1    7   46   74    7]\n",
            " [  19 2830    0   32   56    9    1    4   21   28]\n",
            " [  77   30 2682   43    7  114    3   34    9    1]\n",
            " [  43    8    1 2547  130   41   29  199    0    2]\n",
            " [   1    1    0    6 2853   96    0   27   10    6]\n",
            " [   0   37   30   40  166 2684    1   12   23    7]\n",
            " [   1    4    1    7   20   27 2460  475    0    5]\n",
            " [   2    1    8   96   33   24  677 2156    3    0]\n",
            " [  23    4    1    0    7    8    0    2 2928   27]\n",
            " [  41   18    0    1   95   10    6   77  162 2590]]\n"
          ]
        }
      ]
    },
    {
      "cell_type": "code",
      "source": [
        "# Storing True positive True negative, False Positive, False negative and F values in a list scores\n",
        "TP=[]\n",
        "TN=[]\n",
        "FP=[]\n",
        "FN=[]\n",
        "F1=[]\n",
        "for i in range(classes):\n",
        "  TP.append(conf_matrix[i][i])\n",
        "  TN.append(np.sum(conf_matrix)-np.sum(conf_matrix[i,:])-np.sum(conf_matrix[:,i])+conf_matrix[i][i])\n",
        "  FP.append(np.sum(conf_matrix[i,:])-conf_matrix[i][i])\n",
        "  FN.append(np.sum(conf_matrix[:,i])-conf_matrix[i][i])\n",
        "  F1.append((2*TP[i])/(2*TP[i] + FP[i] + FN[i]))"
      ],
      "metadata": {
        "id": "3YuYm14dDjmY"
      },
      "execution_count": null,
      "outputs": []
    },
    {
      "cell_type": "code",
      "source": [
        "print('F1 scores for corresponding classes are:')\n",
        "print(F1)"
      ],
      "metadata": {
        "colab": {
          "base_uri": "https://localhost:8080/"
        },
        "id": "ROPCmrQ9DjmY",
        "outputId": "069bef9b-4522-412e-e24d-b5496416889b"
      },
      "execution_count": null,
      "outputs": [
        {
          "output_type": "stream",
          "name": "stdout",
          "text": [
            "F1 scores for corresponding classes are:\n",
            "[0.8906952611553096, 0.9164507772020726, 0.9369432314410481, 0.8807053941908713, 0.8915625, 0.8925839707349518, 0.795601552393273, 0.7148541114058355, 0.9399678972712681, 0.9130971267407015]\n"
          ]
        }
      ]
    },
    {
      "cell_type": "code",
      "source": [],
      "metadata": {
        "id": "dJa-rDCkDjmZ"
      },
      "execution_count": null,
      "outputs": []
    },
    {
      "cell_type": "markdown",
      "source": [
        "### (iii) GMM"
      ],
      "metadata": {
        "id": "wqISgR3fG33w"
      }
    },
    {
      "cell_type": "code",
      "execution_count": null,
      "metadata": {
        "colab": {
          "base_uri": "https://localhost:8080/",
          "height": 1000
        },
        "outputId": "aefbeca3-b2cb-4421-b63c-f89902d12dac",
        "id": "hllFvT7FHPt3"
      },
      "outputs": [
        {
          "output_type": "stream",
          "name": "stdout",
          "text": [
            "Accuracy for  1  mixtures is :  0.8584666666666667\n",
            "F1 scores  1  mixtures is :  [0.8493528904227783, 0.8931156370981316, 0.9281255573390405, 0.8276721720162045, 0.8889567740950054, 0.8945803040317251, 0.8041136141038198, 0.69926733685466, 0.8971583220568335, 0.9063317634746206]\n",
            "Confusion matrix for  1  mixtures is :  [[2461.   35.   86.   24.    4.    1.    3.   17.  115.   51.]\n",
            " [ 218. 2653.   26.    2.    1.   16.    2.    1.   58.    8.]\n",
            " [   1.    0. 2602.    1.    0.   28.    3.    6.    1.    0.]\n",
            " [ 116.  131.   63. 2656.   32.  143.   38.  200.   48.   11.]\n",
            " [  59.   41.    4.   88. 2910.  124.   20.  107.   53.  114.]\n",
            " [   3.   10.  105.   32.   45. 2707.   19.   10.   50.    9.]\n",
            " [   4.    0.    4.   25.    0.   12. 2463.  588.   16.    5.]\n",
            " [  27.    5.   72.  150.   18.   16.  460. 2052.    6.   79.]\n",
            " [  80.   20.    0.    0.    5.   11.    0.    0. 2652.   71.]\n",
            " [  29.   61.    3.    2.   12.    4.    1.    3.   74. 2598.]]\n",
            "Accuracy for  2  mixtures is :  0.8861666666666667\n",
            "F1 scores  2  mixtures is :  [0.8620268620268621, 0.9032151143520053, 0.9556840077071291, 0.8474734872114785, 0.8944384862877279, 0.9022655862411113, 0.8573287782658208, 0.7874125874125875, 0.9181757209926223, 0.9363939022253374]\n",
            "Confusion matrix for  2  mixtures is :  [[2471.   35.   59.   23.    4.    1.    3.   14.  101.   24.]\n",
            " [ 244. 2725.   27.    3.    0.   20.    3.    4.   46.    6.]\n",
            " [   1.    0. 2728.    1.    0.   10.    3.    1.    0.    0.]\n",
            " [ 113.  101.   47. 2717.   38.  144.   47.  162.   46.   17.]\n",
            " [  64.   29.    5.   93. 2919.  127.   25.   75.   49.  114.]\n",
            " [   4.    7.   75.   34.   49. 2728.   25.   13.   46.    4.]\n",
            " [   3.    0.    3.    8.    0.    7. 2635.  462.    5.   15.]\n",
            " [  11.    1.   21.  101.    9.   15.  268. 2252.    2.   56.]\n",
            " [  80.   22.    0.    0.    4.    9.    0.    0. 2738.   38.]\n",
            " [   7.   36.    0.    0.    4.    1.    0.    1.   40. 2672.]]\n",
            "Accuracy for  3  mixtures is :  0.8962\n",
            "F1 scores  3  mixtures is :  [0.8805009566881197, 0.9153719008264463, 0.9661281917665451, 0.8629298162976919, 0.8962133987429097, 0.9084019769357495, 0.8705082550987374, 0.811334037310806, 0.9163265306122449, 0.9366074538488331]\n",
            "Confusion matrix for  3  mixtures is :  [[2531.   37.   27.   17.    3.    0.    3.    9.  113.   11.]\n",
            " [ 229. 2769.   20.    4.    0.   12.    2.    3.   53.    2.]\n",
            " [   1.    0. 2781.    0.    0.    4.    4.    2.    0.    0.]\n",
            " [  88.   69.   41. 2748.   37.  135.   48.  156.   47.   20.]\n",
            " [  64.   22.    5.   97. 2923.  123.   23.   76.   55.  108.]\n",
            " [   4.   10.   81.   33.   40. 2757.   17.   10.   53.    3.]\n",
            " [   4.    1.    4.   16.    1.   10. 2689.  422.    9.   13.]\n",
            " [  13.    0.    5.   65.   11.    7.  223. 2305.    3.   66.]\n",
            " [  52.    8.    1.    0.    5.   13.    0.    0. 2694.   34.]\n",
            " [  12.   40.    0.    0.    7.    1.    0.    1.   46. 2689.]]\n",
            "Accuracy for  4  mixtures is :  0.8941\n",
            "F1 scores  4  mixtures is :  [0.8643303261623873, 0.9132176234979973, 0.9630275549354727, 0.8598746081504702, 0.898198059448637, 0.9176353370973098, 0.8692419589461775, 0.8061689449702067, 0.9220735785953177, 0.928944618599791]\n",
            "Confusion matrix for  4  mixtures is :  [[2491.   33.   67.   25.    3.    1.    3.   16.   89.   38.]\n",
            " [ 241. 2736.    9.    3.    0.   11.    1.    1.   34.    0.]\n",
            " [   1.    0. 2761.    0.    0.    4.    2.    1.    0.    0.]\n",
            " [  93.   73.   55. 2743.   36.  136.   41.  159.   49.   15.]\n",
            " [  54.   29.    5.   94. 2916.  124.   19.   72.   45.  108.]\n",
            " [   4.    7.   39.   33.   42. 2763.   20.   11.   38.    3.]\n",
            " [   5.    1.    3.   25.    1.    9. 2689.  422.   13.   10.]\n",
            " [  16.    0.   24.   57.   15.    3.  234. 2300.    2.   71.]\n",
            " [  82.   17.    0.    0.    7.   10.    0.    0. 2757.   34.]\n",
            " [  11.   60.    2.    0.    7.    1.    0.    2.   46. 2667.]]\n",
            "Accuracy for  5  mixtures is :  0.9013666666666666\n",
            "F1 scores  5  mixtures is :  [0.8806798473812001, 0.9228471876555501, 0.9741290100034494, 0.8646864686468647, 0.896392939370683, 0.9140016570008285, 0.8799741184082821, 0.8231148696264975, 0.9237015733378448, 0.9366160293347302]\n",
            "Confusion matrix for  5  mixtures is :  [[2539.   37.   38.   17.    3.    0.    3.    9.  104.   18.]\n",
            " [ 226. 2781.   14.    3.    0.   10.    1.    2.   33.    1.]\n",
            " [   2.    0. 2824.    1.    0.    3.    2.    1.    0.    0.]\n",
            " [  86.   62.   39. 2751.   37.  141.   47.  151.   51.   18.]\n",
            " [  58.   27.    5.   97. 2920.  125.   18.   75.   55.  108.]\n",
            " [   3.    9.   36.   35.   44. 2758.   24.   13.   48.    3.]\n",
            " [   5.    0.    3.   16.    1.    8. 2720.  395.    6.   19.]\n",
            " [  13.    0.    6.   60.   11.    5.  194. 2336.    1.   66.]\n",
            " [  52.    9.    0.    0.    5.   11.    0.    0. 2730.   31.]\n",
            " [  14.   31.    0.    0.    6.    1.    0.    2.   45. 2682.]]\n",
            "Accuracy for  6  mixtures is :  0.9031\n",
            "F1 scores  6  mixtures is :  [0.8957502168256721, 0.9265593561368209, 0.9753660637381567, 0.8620689655172413, 0.8992628992628993, 0.918811223642703, 0.8655737704918033, 0.811840055392072, 0.9366066924499747, 0.9436004889121704]\n",
            "Confusion matrix for  6  mixtures is :  [[2582.   25.   32.   17.    1.    0.    3.   11.   84.   12.]\n",
            " [ 192. 2763.   14.    2.    0.   14.    2.    1.   17.    3.]\n",
            " [   3.    0. 2831.    0.    0.    3.    2.    1.    0.    0.]\n",
            " [  88.   86.   41. 2750.   37.  135.   48.  146.   51.   18.]\n",
            " [  55.   32.    4.   95. 2928.  123.   21.   75.   47.  105.]\n",
            " [   3.    9.   32.   32.   45. 2767.   17.   11.   42.    3.]\n",
            " [   5.    0.    4.   22.    1.    9. 2640.  392.    8.   10.]\n",
            " [  14.    1.    7.   62.   12.    6.  276. 2345.    3.   67.]\n",
            " [  49.    8.    0.    0.    2.    4.    0.    0. 2785.   26.]\n",
            " [   7.   32.    0.    0.    1.    1.    0.    2.   36. 2702.]]\n"
          ]
        },
        {
          "output_type": "display_data",
          "data": {
            "text/plain": [
              "<Figure size 432x288 with 1 Axes>"
            ],
            "image/png": "[encoded data removed]"
          },
          "metadata": {
            "needs_background": "light"
          }
        }
      ],
      "source": [
        "train_dataset3,test_dataset3 = p4_split_dataset(p4dataset,0.5)\n",
        "classes = 10\n",
        "y3 = np.zeros(6)\n",
        "x3 = np.array([1,2,3,4,5,6])\n",
        "for number_of_Gaussian in x3:\n",
        "  Means3,Pi3 = p4_GMM_training(train_dataset3,5,number_of_Gaussian)\n",
        "  accuracy3,confusion_matrix3 = p4_GMM_testing(test_dataset3,10,Means3,Pi3,number_of_Gaussian)\n",
        "  TP3=[]\n",
        "  TN3=[]\n",
        "  FP3=[]\n",
        "  FN3=[]\n",
        "  F13=[]\n",
        "  for i in range(classes):\n",
        "    TP3.append(confusion_matrix3[i][i])\n",
        "    TN3.append(np.sum(confusion_matrix3)-np.sum(confusion_matrix3[i,:])-np.sum(confusion_matrix3[:,i])+confusion_matrix3[i][i])\n",
        "    FP3.append(np.sum(confusion_matrix3[i,:])-confusion_matrix3[i][i])\n",
        "    FN3.append(np.sum(confusion_matrix3[:,i])-confusion_matrix3[i][i])\n",
        "    F13.append((2*TP3[i])/(2*TP3[i] + FP3[i] + FN3[i]))\n",
        "  y3[number_of_Gaussian-1] = p4_get_likelihood(train_dataset3,Means3,Pi3,number_of_Gaussian)\n",
        "  print(\"Accuracy for \",number_of_Gaussian,\" mixtures is : \",accuracy3)\n",
        "  print(\"F1 scores \",number_of_Gaussian,\" mixtures is : \",F13)\n",
        "  print(\"Confusion matrix for \",number_of_Gaussian,\" mixtures is : \",confusion_matrix3)\n",
        "\n",
        "y3 = (y3-np.min(y3))/(np.max(y3)-np.min(y3))\n",
        "plt.plot(x3,y3)\n",
        "plt.title(\"Log likelihood for 50:50\")\n",
        "plt.ylabel(\"log likelihood\")\n",
        "plt.xlabel(\"Gaussian misture\")\n",
        "plt.show()"
      ]
    },
    {
      "cell_type": "markdown",
      "source": [
        "## Model 4 - 70:30"
      ],
      "metadata": {
        "id": "kOMTtUEGEbhT"
      }
    },
    {
      "cell_type": "markdown",
      "source": [
        " Again initialising dataset as X was used variable elsewhere"
      ],
      "metadata": {
        "id": "32SqlX-hEbhT"
      }
    },
    {
      "cell_type": "code",
      "source": [
        "X=[]\n",
        "Y = []\n",
        "for i in range(classes):\n",
        "  tmp = []\n",
        "  for j in range(len(lst_img_clss[i])):\n",
        "    x = np.ndarray.flatten(lst_img_clss[i][j])\n",
        "    tmp.append(x)\n",
        "  a = np.stack(tmp,axis = 0)\n",
        "  X.append(a)\n",
        "  Y.append(i)\n"
      ],
      "metadata": {
        "id": "DwwlSuWkEbhU"
      },
      "execution_count": null,
      "outputs": []
    },
    {
      "cell_type": "code",
      "source": [
        "a = X[0]\n",
        "b = np.zeros((X[0].shape[0],1))\n",
        "dataset = np.column_stack((a,b))\n",
        "for i in range(1,classes):\n",
        "  a=X[i]\n",
        "  b = i*np.ones((X[i].shape[0],1))\n",
        "  temp = np.column_stack((a,b))\n",
        "  dataset = np.row_stack((dataset,temp))"
      ],
      "metadata": {
        "id": "CFgzN8rDEbhU"
      },
      "execution_count": null,
      "outputs": []
    },
    {
      "cell_type": "code",
      "source": [
        "dataset.shape  # Overall dataset"
      ],
      "metadata": {
        "colab": {
          "base_uri": "https://localhost:8080/"
        },
        "outputId": "51d11a2c-ce60-4f29-9825-b6b35fe9e6e6",
        "id": "fAktzDnQEbhU"
      },
      "execution_count": null,
      "outputs": [
        {
          "output_type": "execute_result",
          "data": {
            "text/plain": [
              "(60000, 785)"
            ]
          },
          "metadata": {},
          "execution_count": 134
        }
      ]
    },
    {
      "cell_type": "code",
      "source": [
        "# creating training and testing dataset\n",
        "count = 4200 #per class\n",
        "a=X[0]\n",
        "a=a[0:count,:]/255       # Normalising else exponent becomes 0\n",
        "b = np.zeros((a.shape[0],1))\n",
        "train_dataset = np.column_stack((a,b))\n",
        "a=X[0]\n",
        "a=a[count:,:]/255\n",
        "b = np.zeros((a.shape[0],1))\n",
        "test_dataset = np.column_stack((a,b))\n",
        "for i in range(1,classes):\n",
        "  a=X[i]\n",
        "  a=a[0:count,:]/255\n",
        "  b = i*np.ones((a.shape[0],1))\n",
        "  temp = np.column_stack((a,b))\n",
        "  train_dataset = np.row_stack((train_dataset,temp))\n",
        "  a=X[i]\n",
        "  a=a[count:,:]/255\n",
        "  b = i*np.ones((a.shape[0],1))\n",
        "  temp = np.column_stack((a,b))\n",
        "  test_dataset = np.row_stack((test_dataset,temp))\n"
      ],
      "metadata": {
        "id": "hyymnrv6EbhV"
      },
      "execution_count": null,
      "outputs": []
    },
    {
      "cell_type": "code",
      "source": [
        "train_dataset.shape"
      ],
      "metadata": {
        "colab": {
          "base_uri": "https://localhost:8080/"
        },
        "outputId": "6d97619a-cb49-4dfe-9121-22b5134dd22c",
        "id": "q7ZL7ObtEbhV"
      },
      "execution_count": null,
      "outputs": [
        {
          "output_type": "execute_result",
          "data": {
            "text/plain": [
              "(42000, 785)"
            ]
          },
          "metadata": {},
          "execution_count": 136
        }
      ]
    },
    {
      "cell_type": "code",
      "source": [
        "test_dataset.shape"
      ],
      "metadata": {
        "colab": {
          "base_uri": "https://localhost:8080/"
        },
        "outputId": "34028d55-f150-48d0-ecb7-586bd7ea61dd",
        "id": "evpplX4oEbhW"
      },
      "execution_count": null,
      "outputs": [
        {
          "output_type": "execute_result",
          "data": {
            "text/plain": [
              "(18000, 785)"
            ]
          },
          "metadata": {},
          "execution_count": 137
        }
      ]
    },
    {
      "cell_type": "code",
      "source": [
        "features = train_dataset.shape[1]-1 #784"
      ],
      "metadata": {
        "id": "2BmH-n6mEbhW"
      },
      "execution_count": null,
      "outputs": []
    },
    {
      "cell_type": "code",
      "source": [
        "# Initialising features and labels from dataset\n",
        "X_test = test_dataset[:,:features]\n",
        "X_train = train_dataset[:,:features]\n",
        "Y_train = train_dataset[:,features]\n",
        "Y_test = test_dataset[:,features]"
      ],
      "metadata": {
        "id": "crznAKq3EbhX"
      },
      "execution_count": null,
      "outputs": []
    },
    {
      "cell_type": "markdown",
      "source": [
        "### (i) Naive Bayes"
      ],
      "metadata": {
        "id": "Jtqiz_2DEbhX"
      }
    },
    {
      "cell_type": "code",
      "source": [
        "classes = 10\n",
        "features = train_dataset.shape[1]-1"
      ],
      "metadata": {
        "id": "-gVSA7g4EbhX"
      },
      "execution_count": null,
      "outputs": []
    },
    {
      "cell_type": "code",
      "source": [
        "# Creating list of numpy arrays containing training datas of each class with class as index of list\n",
        "temp = train_dataset\n",
        "lst = []\n",
        "for i in range(classes):\n",
        "  x = temp[np.where(temp[:,features]==i)] # last column is my class indexes\n",
        "  x = x[:,:features]\n",
        "  lst.append(x)"
      ],
      "metadata": {
        "id": "RNI51NYeEbhX"
      },
      "execution_count": null,
      "outputs": []
    },
    {
      "cell_type": "code",
      "source": [
        "# 10 features' mean for each classes\n",
        "mean=[]\n",
        "for i in range(classes):\n",
        "  a=lst[i]\n",
        "  a = a.mean(axis=0)\n",
        "  mean.append(a)"
      ],
      "metadata": {
        "id": "St-PRv21EbhY"
      },
      "execution_count": null,
      "outputs": []
    },
    {
      "cell_type": "markdown",
      "source": [
        "#### Training"
      ],
      "metadata": {
        "id": "JbaxoD-4EbhY"
      }
    },
    {
      "cell_type": "code",
      "source": [
        "count = 0\n",
        "for i in range(X_train.shape[0]):\n",
        "  g = []  #class conditionals\n",
        "  for j in range(classes):\n",
        "    v = (X_train[i]-mean[j])\n",
        "    v = np.power(v,2)\n",
        "    k = 0.5 * np.sum(v)\n",
        "    k = math.exp(-k)\n",
        "    g.append(k)\n",
        "  k = g.index(max(g))\n",
        "  if k==int(Y_train[i]):\n",
        "    count=count+1"
      ],
      "metadata": {
        "id": "Af4eTQMvEbhY"
      },
      "execution_count": null,
      "outputs": []
    },
    {
      "cell_type": "code",
      "source": [
        "print('The training accuracy is:')\n",
        "print(count*100/X_train.shape[0])"
      ],
      "metadata": {
        "colab": {
          "base_uri": "https://localhost:8080/"
        },
        "id": "6cVic5wYEbhZ",
        "outputId": "e83315bb-2168-47c6-e820-f5d7cfa0cf69"
      },
      "execution_count": null,
      "outputs": [
        {
          "output_type": "stream",
          "name": "stdout",
          "text": [
            "The training accuracy is:\n",
            "85.09285714285714\n"
          ]
        }
      ]
    },
    {
      "cell_type": "markdown",
      "source": [
        "#### Testing"
      ],
      "metadata": {
        "id": "p0W_e6pYEbhZ"
      }
    },
    {
      "cell_type": "code",
      "source": [
        "conf_matrix = np.zeros((classes,classes))\n",
        "count = 0\n",
        "for i in range(X_test.shape[0]):\n",
        "  g = []  #class conditionals\n",
        "  for j in range(classes):\n",
        "    v = (X_test[i]-mean[j])\n",
        "    v = np.power(v,2)\n",
        "    k = 0.5 * np.sum(v)\n",
        "    #k = math.exp(-k)\n",
        "    g.append(k)\n",
        "  k = g.index(min(g))\n",
        "  if k==int(Y_test[i]):\n",
        "    count=count+1\n",
        "  v = int(Y_test[i])\n",
        "  conf_matrix[v][k] += 1"
      ],
      "metadata": {
        "id": "XGKHuk_nEbhZ"
      },
      "execution_count": null,
      "outputs": []
    },
    {
      "cell_type": "code",
      "source": [
        "print('The testing accuracy is:')\n",
        "print(count*100/X_test.shape[0])"
      ],
      "metadata": {
        "colab": {
          "base_uri": "https://localhost:8080/"
        },
        "id": "m_RSjOXXEbhZ",
        "outputId": "9c1d2729-f1d0-4cb7-c35c-57bdd29ff7d2"
      },
      "execution_count": null,
      "outputs": [
        {
          "output_type": "stream",
          "name": "stdout",
          "text": [
            "The testing accuracy is:\n",
            "85.89444444444445\n"
          ]
        }
      ]
    },
    {
      "cell_type": "code",
      "source": [
        "print('The confusion matrix for above testing data is:')\n",
        "print(conf_matrix.astype(int))"
      ],
      "metadata": {
        "colab": {
          "base_uri": "https://localhost:8080/"
        },
        "id": "CgbSs9tjEbha",
        "outputId": "f6c509b9-2817-433d-b764-f79e076ec898"
      },
      "execution_count": null,
      "outputs": [
        {
          "output_type": "stream",
          "name": "stdout",
          "text": [
            "The confusion matrix for above testing data is:\n",
            "[[1595  121    0   16   23    0    2   12   22    9]\n",
            " [  30 1582    0   93   42    4    0    4   30   15]\n",
            " [  90   30 1383   95    6  120    6   66    3    1]\n",
            " [  21    2    0 1501  100    7   18  149    0    2]\n",
            " [   1    0    0    9 1740   32    0   16    0    2]\n",
            " [   1   14   26   63  116 1553    5    9    8    5]\n",
            " [   0    1    0   16   10   11 1575  183    0    4]\n",
            " [   2    1    2   68   35    4  383 1303    2    0]\n",
            " [  62    2    0    1    8   11    1    0 1647   68]\n",
            " [  20    5    0    0   67    4    6   42   74 1582]]\n"
          ]
        }
      ]
    },
    {
      "cell_type": "code",
      "source": [
        "# Storing True positive True negative, False Positive, False negative and F values in a list scores\n",
        "TP=[]\n",
        "TN=[]\n",
        "FP=[]\n",
        "FN=[]\n",
        "F1=[]\n",
        "for i in range(classes):\n",
        "  TP.append(conf_matrix[i][i])\n",
        "  TN.append(np.sum(conf_matrix)-np.sum(conf_matrix[i,:])-np.sum(conf_matrix[:,i])+conf_matrix[i][i])\n",
        "  FP.append(np.sum(conf_matrix[i,:])-conf_matrix[i][i])\n",
        "  FN.append(np.sum(conf_matrix[:,i])-conf_matrix[i][i])\n",
        "  F1.append((2*TP[i])/(2*TP[i] + FP[i] + FN[i]))"
      ],
      "metadata": {
        "id": "5YrMvm1xEbha"
      },
      "execution_count": null,
      "outputs": []
    },
    {
      "cell_type": "code",
      "source": [
        "print('F1 scores for corresponding classes are:')\n",
        "print(F1)"
      ],
      "metadata": {
        "colab": {
          "base_uri": "https://localhost:8080/"
        },
        "id": "MRwDueD6Ebha",
        "outputId": "dc7df668-7432-4763-800a-6acd926e9c7a"
      },
      "execution_count": null,
      "outputs": [
        {
          "output_type": "stream",
          "name": "stdout",
          "text": [
            "F1 scores for corresponding classes are:\n",
            "[0.8807288790723358, 0.8892636312535133, 0.8614138897539707, 0.8197706171490988, 0.8816822903470991, 0.8759165256627186, 0.8298208640674394, 0.7271205357142857, 0.9185722253206916, 0.9071100917431193]\n"
          ]
        }
      ]
    },
    {
      "cell_type": "markdown",
      "source": [
        "### (ii) Logistic regression"
      ],
      "metadata": {
        "id": "Cbg_v3loEbha"
      }
    },
    {
      "cell_type": "code",
      "source": [
        "classes = 10\n",
        "features = train_dataset.shape[1] #785 after augmented data"
      ],
      "metadata": {
        "id": "SbNmdq7vEbhb"
      },
      "execution_count": null,
      "outputs": []
    },
    {
      "cell_type": "code",
      "source": [
        "tmp = np.ones((X_train.shape[0],1))  # Creating augmented data\n",
        "X_train=np.column_stack((X_train,tmp))\n",
        "X_train.shape"
      ],
      "metadata": {
        "colab": {
          "base_uri": "https://localhost:8080/"
        },
        "id": "V_ExaGjtEbhb",
        "outputId": "ad8abeeb-842b-44b7-f6d4-674f225db42d"
      },
      "execution_count": null,
      "outputs": [
        {
          "output_type": "execute_result",
          "data": {
            "text/plain": [
              "(42000, 785)"
            ]
          },
          "metadata": {},
          "execution_count": 141
        }
      ]
    },
    {
      "cell_type": "code",
      "source": [
        "tmp = np.ones((X_test.shape[0],1))  # Creating augmented data\n",
        "X_test=np.column_stack((X_test,tmp))\n",
        "X_test.shape"
      ],
      "metadata": {
        "colab": {
          "base_uri": "https://localhost:8080/"
        },
        "id": "IGZ733-kEbhb",
        "outputId": "2d8db4bb-81d9-4f6b-9708-34fabb69af27"
      },
      "execution_count": null,
      "outputs": [
        {
          "output_type": "execute_result",
          "data": {
            "text/plain": [
              "(18000, 785)"
            ]
          },
          "metadata": {},
          "execution_count": 142
        }
      ]
    },
    {
      "cell_type": "markdown",
      "source": [
        "#### Training"
      ],
      "metadata": {
        "id": "hFcXMv1vEbhc"
      }
    },
    {
      "cell_type": "code",
      "source": [
        "W=[]\n",
        "for i in range(classes):\n",
        "  W.append(np.ones((features,1)))"
      ],
      "metadata": {
        "id": "Pe2Is7MjEbhc"
      },
      "execution_count": null,
      "outputs": []
    },
    {
      "cell_type": "code",
      "source": [
        "def calc_loss(X,W,j):\n",
        "  X=X.reshape((X.shape[0],1))\n",
        "  # calculating probabilities of each class\n",
        "  e=[]                        # exponent\n",
        "  g = []                      # probabilities (softmax)\n",
        "  grad = []                   # gradient addition for this image\n",
        "  for i in range(classes):\n",
        "    e.append(math.exp(W[i].T@X))\n",
        "  k = sum(e)\n",
        "  for i in range(classes):\n",
        "    g.append(e[i]/k)\n",
        "  loss = -1*math.log(g[j])     # loss for 1 image\n",
        "  for i in range(classes):\n",
        "    if i!=j:\n",
        "      grad.append(-g[i]*X.reshape(X.shape[0]))\n",
        "    else:\n",
        "      grad.append((1-g[i])*X.reshape(X.shape[0]))\n",
        "  return loss,grad"
      ],
      "metadata": {
        "id": "u5MBcKiKEbhc"
      },
      "execution_count": null,
      "outputs": []
    },
    {
      "cell_type": "code",
      "source": [
        "def train_epoch1():\n",
        "  final_loss = 0\n",
        "  final_grad = np.zeros((features,classes))\n",
        "  for i in range(X_train.shape[0]):\n",
        "    loss,grad = calc_loss(X_train[i,:],W,int(Y_train[i]))\n",
        "    final_loss =final_loss + loss\n",
        "    final_grad = final_grad + np.stack(grad,axis = 1)\n",
        "  return final_loss,final_grad"
      ],
      "metadata": {
        "id": "8EVmAEQvEbhd"
      },
      "execution_count": null,
      "outputs": []
    },
    {
      "cell_type": "code",
      "source": [
        "epochs = 50\n",
        "alpha = 10\n",
        "prev_loss = 0\n",
        "for i in range(epochs):\n",
        "  loss,grad = train_epoch1()\n",
        "  for j in range(classes):\n",
        "    gradient = grad[:,j].reshape(grad[:,j].shape[0],1)\n",
        "    if prev_loss<loss:\n",
        "      alpha = (alpha/10)\n",
        "    W[j]=W[j]+alpha*gradient/np.linalg.norm(gradient)\n",
        "    prev_loss = loss\n",
        "  print('loss in',i,'epoch is',loss/X_train.shape[0])"
      ],
      "metadata": {
        "colab": {
          "base_uri": "https://localhost:8080/"
        },
        "id": "wKXF-vNyEbhd",
        "outputId": "a3f4895f-4a4f-48ed-80ad-1a0790a87bf2"
      },
      "execution_count": null,
      "outputs": [
        {
          "output_type": "stream",
          "name": "stdout",
          "text": [
            "loss in 0 epoch is 2.3025850929949803\n",
            "loss in 1 epoch is 1.071865758449463\n",
            "loss in 2 epoch is 16.049248897047185\n",
            "loss in 3 epoch is 14.386238639874653\n",
            "loss in 4 epoch is 12.723348115217082\n",
            "loss in 5 epoch is 11.060523865763443\n",
            "loss in 6 epoch is 9.397743372229446\n",
            "loss in 7 epoch is 7.734995039152109\n",
            "loss in 8 epoch is 6.072273212070602\n",
            "loss in 9 epoch is 4.409661089131037\n",
            "loss in 10 epoch is 2.752553776122961\n",
            "loss in 11 epoch is 1.2636248907181071\n",
            "loss in 12 epoch is 1.0794215343483649\n",
            "loss in 13 epoch is 1.2396430229940538\n",
            "loss in 14 epoch is 1.1314355339393503\n",
            "loss in 15 epoch is 1.037452166929742\n",
            "loss in 16 epoch is 0.9598955148382359\n",
            "loss in 17 epoch is 0.9008290163810643\n",
            "loss in 18 epoch is 0.8578639628916568\n",
            "loss in 19 epoch is 0.8293321776342419\n",
            "loss in 20 epoch is 0.8161993661029197\n",
            "loss in 21 epoch is 0.8111585573703298\n",
            "loss in 22 epoch is 0.8095078461070596\n",
            "loss in 23 epoch is 0.8069885248653499\n",
            "loss in 24 epoch is 0.8051484163685908\n",
            "loss in 25 epoch is 0.8028035840250733\n",
            "loss in 26 epoch is 0.8008318708281168\n",
            "loss in 27 epoch is 0.798636820565777\n",
            "loss in 28 epoch is 0.7966201179913043\n",
            "loss in 29 epoch is 0.7945030454296336\n",
            "loss in 30 epoch is 0.7924835548752233\n",
            "loss in 31 epoch is 0.7904106335221676\n",
            "loss in 32 epoch is 0.7884083677347239\n",
            "loss in 33 epoch is 0.7863636554412291\n",
            "loss in 34 epoch is 0.7843874940244405\n",
            "loss in 35 epoch is 0.7823637398737588\n",
            "loss in 36 epoch is 0.7804170361990438\n",
            "loss in 37 epoch is 0.7784112237943162\n",
            "loss in 38 epoch is 0.7764946596997209\n",
            "loss in 39 epoch is 0.7745057924351932\n",
            "loss in 40 epoch is 0.7726188257827824\n",
            "loss in 41 epoch is 0.7706468189492066\n",
            "loss in 42 epoch is 0.7687884085391669\n",
            "loss in 43 epoch is 0.7668335396404028\n",
            "loss in 44 epoch is 0.7650024990111637\n",
            "loss in 45 epoch is 0.7630651421320193\n",
            "loss in 46 epoch is 0.7612603037359964\n",
            "loss in 47 epoch is 0.7593408083115311\n",
            "loss in 48 epoch is 0.7575610920159369\n",
            "loss in 49 epoch is 0.755659734141405\n"
          ]
        }
      ]
    },
    {
      "cell_type": "code",
      "source": [
        "print('Empirical risk on training data is:')\n",
        "print(loss/X_train.shape[0])"
      ],
      "metadata": {
        "colab": {
          "base_uri": "https://localhost:8080/"
        },
        "id": "XNZ73Jr8Ebhd",
        "outputId": "c5e9564b-798d-4766-cf9a-0462bd6d64da"
      },
      "execution_count": null,
      "outputs": [
        {
          "output_type": "stream",
          "name": "stdout",
          "text": [
            "Empirical risk on training data is:\n",
            "0.755659734141405\n"
          ]
        }
      ]
    },
    {
      "cell_type": "markdown",
      "source": [
        "#### Testing"
      ],
      "metadata": {
        "id": "RYQR05JqEbhd"
      }
    },
    {
      "cell_type": "code",
      "source": [
        "conf_matrix = np.zeros((classes,classes))\n",
        "count = 0\n",
        "loss = 0\n",
        "for i in range(X_test.shape[0]):\n",
        "  X = X_test[i,:]\n",
        "  X=X.reshape((X.shape[0],1))\n",
        "  # calculating probabilities of each class\n",
        "  e=[]                        # exponent\n",
        "  g = []                      # probabilities (softmax)\n",
        "  grad = []                   # gradient addition for this image\n",
        "  for j in range(classes):\n",
        "    e.append(math.exp(W[j].T@X))\n",
        "  k = sum(e)\n",
        "  for j in range(classes):\n",
        "    g.append(e[j]/k)\n",
        "  k = g.index(max(g))\n",
        "  if k==Y_test[i]:\n",
        "    count = count+1\n",
        "  v = int(Y_test[i])\n",
        "  conf_matrix[v][k] += 1\n",
        "\n",
        "  loss = loss - 1*math.log(g[v])"
      ],
      "metadata": {
        "id": "0OeRaRxCEbhe"
      },
      "execution_count": null,
      "outputs": []
    },
    {
      "cell_type": "code",
      "source": [
        "print('The testing accuracy is:')\n",
        "print(count*100/X_test.shape[0])"
      ],
      "metadata": {
        "colab": {
          "base_uri": "https://localhost:8080/"
        },
        "id": "hOhR8X_tEbhe",
        "outputId": "6d803fe9-0653-4071-a19e-20f392bd1fde"
      },
      "execution_count": null,
      "outputs": [
        {
          "output_type": "stream",
          "name": "stdout",
          "text": [
            "The testing accuracy is:\n",
            "87.85555555555555\n"
          ]
        }
      ]
    },
    {
      "cell_type": "code",
      "source": [
        "print('Empirical risk on testing data is:')\n",
        "print(loss/X_test.shape[0])"
      ],
      "metadata": {
        "colab": {
          "base_uri": "https://localhost:8080/"
        },
        "id": "lZ4uBiuLEbhf",
        "outputId": "9e253e0c-2639-4a6f-8d22-39b3bd51e96d"
      },
      "execution_count": null,
      "outputs": [
        {
          "output_type": "stream",
          "name": "stdout",
          "text": [
            "Empirical risk on testing data is:\n",
            "0.7132953150682471\n"
          ]
        }
      ]
    },
    {
      "cell_type": "code",
      "source": [
        "print('The confusion matrix for above testing data is:')\n",
        "print(conf_matrix.astype(int))"
      ],
      "metadata": {
        "colab": {
          "base_uri": "https://localhost:8080/"
        },
        "id": "UVU2OlT9Ebhf",
        "outputId": "554d3bb7-1e1b-4637-835c-68ec40a4cfe0"
      },
      "execution_count": null,
      "outputs": [
        {
          "output_type": "stream",
          "name": "stdout",
          "text": [
            "The confusion matrix for above testing data is:\n",
            "[[1571  149    0   15   22    0    3    2   33    5]\n",
            " [  13 1654    0   61   34    4    1    1   21   11]\n",
            " [  80   27 1543   66    4   48   10   16    5    1]\n",
            " [  21    4    0 1571  103    6   18   75    0    2]\n",
            " [   1    0    0    9 1754   24    1    6    3    2]\n",
            " [   0   25   37   60  124 1524    8    4   14    4]\n",
            " [   0    1    1   16   15    8 1640  114    0    5]\n",
            " [   2    1    5  124   34    4  380 1248    2    0]\n",
            " [  20    1    0    0    7    4    2    0 1734   32]\n",
            " [  16    6    0    0   72    1    5   31   94 1575]]\n"
          ]
        }
      ]
    },
    {
      "cell_type": "code",
      "source": [
        "# Storing True positive True negative, False Positive, False negative and F values in a list scores\n",
        "TP=[]\n",
        "TN=[]\n",
        "FP=[]\n",
        "FN=[]\n",
        "F1=[]\n",
        "for i in range(classes):\n",
        "  TP.append(conf_matrix[i][i])\n",
        "  TN.append(np.sum(conf_matrix)-np.sum(conf_matrix[i,:])-np.sum(conf_matrix[:,i])+conf_matrix[i][i])\n",
        "  FP.append(np.sum(conf_matrix[i,:])-conf_matrix[i][i])\n",
        "  FN.append(np.sum(conf_matrix[:,i])-conf_matrix[i][i])\n",
        "  F1.append((2*TP[i])/(2*TP[i] + FP[i] + FN[i]))"
      ],
      "metadata": {
        "id": "cqPCEHeAEbhf"
      },
      "execution_count": null,
      "outputs": []
    },
    {
      "cell_type": "code",
      "source": [
        "print('F1 scores for corresponding classes are:')\n",
        "print(F1)"
      ],
      "metadata": {
        "colab": {
          "base_uri": "https://localhost:8080/"
        },
        "id": "umVGmEDFEbhf",
        "outputId": "bd604441-5f3d-4994-ba04-73165d0895f8"
      },
      "execution_count": null,
      "outputs": [
        {
          "output_type": "stream",
          "name": "stdout",
          "text": [
            "F1 scores for corresponding classes are:\n",
            "[0.8916004540295119, 0.9018538713195202, 0.9113998818665091, 0.8441698011821601, 0.8838498362307886, 0.8904469763365469, 0.8479834539813857, 0.7570518653321201, 0.9357798165137615, 0.9164969450101833]\n"
          ]
        }
      ]
    },
    {
      "cell_type": "code",
      "source": [],
      "metadata": {
        "id": "miN3VvxEEbhg"
      },
      "execution_count": null,
      "outputs": []
    },
    {
      "cell_type": "markdown",
      "source": [
        "### (iii) GMM"
      ],
      "metadata": {
        "id": "u_ilk1yjHaKM"
      }
    },
    {
      "cell_type": "code",
      "execution_count": null,
      "metadata": {
        "colab": {
          "base_uri": "https://localhost:8080/"
        },
        "outputId": "2a04920e-6362-45ab-af3e-ddd7809ff031",
        "id": "oTPu2KeDIPRA"
      },
      "outputs": [
        {
          "output_type": "stream",
          "name": "stdout",
          "text": [
            "Accuracy for  1  mixtures is :  0.8497222222222223\n",
            "F1 scores  1  mixtures is :  [0.8358294930875576, 0.8908538270240398, 0.9276470588235294, 0.819369715603382, 0.8727552591072345, 0.8919683257918553, 0.7972862957937584, 0.6898839137645107, 0.8829663962920047, 0.8996195493122622]\n",
            "Confusion matrix for  1  mixtures is :  [[1451.   42.   58.   19.    3.    0.    3.   10.   76.   27.]\n",
            " [ 117. 1612.   12.    2.    0.    9.    1.    1.   33.    3.]\n",
            " [   0.    0. 1577.    0.    0.   18.    1.    1.    0.    0.]\n",
            " [  72.   98.   34. 1599.   18.   83.   19.  112.   30.    7.]\n",
            " [  41.   23.    3.   72. 1701.   77.   10.   74.   45.   81.]\n",
            " [   0.    4.   61.   25.   31. 1577.   15.    3.   27.    9.]\n",
            " [   3.    0.    2.   15.    1.    2. 1469.  382.    6.    4.]\n",
            " [  19.    6.   55.   99.   11.    9.  281. 1248.    5.   51.]\n",
            " [  59.   13.    1.    0.    2.    7.    0.    1. 1524.   48.]\n",
            " [  21.   31.    0.    0.    4.    2.    2.    2.   51. 1537.]]\n",
            "Accuracy for  2  mixtures is :  0.8645555555555555\n",
            "F1 scores  2  mixtures is :  [0.8585422068568136, 0.8986149584487535, 0.9507062554050159, 0.8275332650972365, 0.8753533795939347, 0.9017373967530619, 0.8045726728361459, 0.7182628062360802, 0.9028703972165845, 0.9185401459854015]\n",
            "Confusion matrix for  2  mixtures is :  [[1490.   38.   49.   17.    3.    0.    3.   11.   54.   23.]\n",
            " [ 104. 1622.    8.    2.    0.    8.    1.    1.   33.    2.]\n",
            " [   0.    0. 1649.    0.    0.   16.    1.    0.    0.    0.]\n",
            " [  64.   96.   28. 1617.   19.   82.   24.  110.   29.    8.]\n",
            " [  39.   25.    3.   73. 1703.   78.   11.   57.   45.   86.]\n",
            " [   0.    7.   26.   26.   31. 1583.   15.    3.   31.    5.]\n",
            " [   4.    1.    3.   14.    1.    3. 1478.  359.    6.    4.]\n",
            " [  13.    6.   36.   82.   10.    8.  266. 1290.    4.   43.]\n",
            " [  58.    4.    1.    0.    2.    6.    0.    1. 1557.   23.]\n",
            " [  11.   30.    0.    0.    2.    0.    2.    2.   38. 1573.]]\n",
            "Accuracy for  3  mixtures is :  0.8903333333333333\n",
            "F1 scores  3  mixtures is :  [0.8672566371681416, 0.9085497835497836, 0.977086280056577, 0.8546301086394206, 0.8822158943826042, 0.9158134243458476, 0.865847140566542, 0.7906976744186046, 0.9217491369390104, 0.9233906204485872]\n",
            "Confusion matrix for  3  mixtures is :  [[1470.   38.   18.   16.    2.    0.    3.    7.   46.    7.]\n",
            " [ 152. 1679.    6.    3.    0.    2.    0.    4.   21.    0.]\n",
            " [   0.    0. 1727.    0.    0.    3.    1.    0.    0.    1.]\n",
            " [  64.   46.   20. 1652.   19.   83.   23.   93.   26.    9.]\n",
            " [  44.   15.    3.   74. 1704.   75.    9.   50.   39.   79.]\n",
            " [   0.    6.   16.   25.   31. 1610.   10.    4.   24.    6.]\n",
            " [   4.    0.    3.    7.    0.    2. 1620.  297.    3.    5.]\n",
            " [  11.    3.    9.   54.   11.    4.  134. 1377.    3.   43.]\n",
            " [  28.   10.    0.    0.    2.    4.    0.    1. 1602.   32.]\n",
            " [  10.   32.    1.    0.    2.    1.    1.    1.   33. 1585.]]\n",
            "Accuracy for  4  mixtures is :  0.8945\n",
            "F1 scores  4  mixtures is :  [0.8795841755703148, 0.9086406164006604, 0.9756235827664399, 0.8566289825282631, 0.8838292367399742, 0.912981455064194, 0.8750678978815861, 0.8119148936170213, 0.9236970918514252, 0.9233906204485872]\n",
            "Confusion matrix for  4  mixtures is :  [[1523.   51.   13.   15.    1.    0.    4.    8.   48.   17.]\n",
            " [ 109. 1651.   12.    2.    0.    8.    1.    1.   19.    2.]\n",
            " [   0.    0. 1721.    0.    0.    3.    1.    0.    0.    0.]\n",
            " [  46.   69.   19. 1667.   19.   83.   21.   94.   31.   12.]\n",
            " [  38.   17.    4.   74. 1708.   78.    9.   48.   38.   80.]\n",
            " [   0.    5.   21.   25.   32. 1600.    7.    5.   21.    5.]\n",
            " [   3.    0.    4.    8.    0.    1. 1611.  244.    3.    7.]\n",
            " [  15.    1.    8.   40.    6.    5.  145. 1431.    2.   38.]\n",
            " [  37.    5.    0.    0.    2.    6.    0.    1. 1604.   21.]\n",
            " [  12.   30.    1.    0.    3.    0.    2.    2.   31. 1585.]]\n",
            "Accuracy for  5  mixtures is :  0.8941666666666667\n",
            "F1 scores  5  mixtures is :  [0.888953488372093, 0.9253894506695819, 0.9753610875106202, 0.8542687645086408, 0.8819875776397516, 0.9102308349957253, 0.8625770158049826, 0.789443488238669, 0.9239598278335724, 0.9355971896955504]\n",
            "Confusion matrix for  5  mixtures is :  [[1529.   32.   15.   15.    1.    0.    3.    6.   48.    8.]\n",
            " [ 104. 1693.    9.    2.    0.    7.    1.    1.   12.    1.]\n",
            " [   0.    0. 1722.    0.    0.    5.    1.    0.    0.    0.]\n",
            " [  46.   58.   20. 1656.   19.   84.   22.   98.   31.   12.]\n",
            " [  40.   15.    4.   74. 1704.   77.    9.   51.   41.   78.]\n",
            " [   0.    5.   19.   27.   32. 1597.   11.    5.   25.    4.]\n",
            " [   5.    0.    4.    8.    1.    3. 1610.  294.    3.    4.]\n",
            " [  14.    0.    9.   49.   10.    4.  144. 1376.    3.   43.]\n",
            " [  38.   10.    0.    0.    3.    7.    0.    1. 1610.   19.]\n",
            " [   7.   16.    1.    0.    1.    0.    0.    2.   24. 1598.]]\n",
            "Accuracy for  6  mixtures is :  0.8948333333333334\n",
            "F1 scores  6  mixtures is :  [0.8872093023255814, 0.9213605442176871, 0.9759138566166052, 0.8588448588448588, 0.8847950181629476, 0.9120910384068279, 0.8582251082251082, 0.790947666195191, 0.9265764468758998, 0.9392168322618352]\n",
            "Confusion matrix for  6  mixtures is :  [[1526.   34.   14.   13.    1.    0.    2.    7.   53.    7.]\n",
            " [ 106. 1693.    8.    2.    0.    6.    1.    4.   24.    2.]\n",
            " [   0.    0. 1722.    0.    0.    3.    1.    0.    0.    0.]\n",
            " [  48.   53.   20. 1658.   19.   83.   22.   92.   25.   10.]\n",
            " [  39.   15.    5.   74. 1705.   77.   10.   48.   36.   74.]\n",
            " [   0.    8.   20.   25.   32. 1603.   13.    5.   21.    4.]\n",
            " [   4.    0.    4.   11.    1.    5. 1586.  278.    3.    3.]\n",
            " [  18.    1.    9.   48.   11.    4.  165. 1398.    3.   44.]\n",
            " [  37.    9.    0.    0.    1.    3.    0.    1. 1609.   16.]\n",
            " [   5.   16.    1.    0.    1.    0.    1.    1.   23. 1607.]]\n"
          ]
        },
        {
          "output_type": "display_data",
          "data": {
            "text/plain": [
              "<Figure size 432x288 with 1 Axes>"
            ],
            "image/png": "[encoded data removed]"
          },
          "metadata": {
            "needs_background": "light"
          }
        }
      ],
      "source": [
        "train_dataset4,test_dataset4 = p4_split_dataset(p4dataset,0.7)\n",
        "classes = 10\n",
        "y4 = np.zeros(6)\n",
        "x4 = np.array([1,2,3,4,5,6])\n",
        "for number_of_Gaussian in x4:\n",
        "  Means4,Pi4 = p4_GMM_training(train_dataset4,5,number_of_Gaussian)\n",
        "  accuracy4,confusion_matrix4 = p4_GMM_testing(test_dataset4,10,Means4,Pi4,number_of_Gaussian)\n",
        "  TP4=[]\n",
        "  TN4=[]\n",
        "  FP4=[]\n",
        "  FN4=[]\n",
        "  F14=[]\n",
        "  for i in range(classes):\n",
        "    TP4.append(confusion_matrix4[i][i])\n",
        "    TN4.append(np.sum(confusion_matrix4)-np.sum(confusion_matrix4[i,:])-np.sum(confusion_matrix4[:,i])+confusion_matrix4[i][i])\n",
        "    FP4.append(np.sum(confusion_matrix4[i,:])-confusion_matrix4[i][i])\n",
        "    FN4.append(np.sum(confusion_matrix4[:,i])-confusion_matrix4[i][i])\n",
        "    F14.append((2*TP4[i])/(2*TP4[i] + FP4[i] + FN4[i]))\n",
        "  y4[number_of_Gaussian-1] = p4_get_likelihood(train_dataset4,Means4,Pi4,number_of_Gaussian)\n",
        "  print(\"Accuracy for \",number_of_Gaussian,\" mixtures is : \",accuracy4)\n",
        "  print(\"F1 scores \",number_of_Gaussian,\" mixtures is : \",F14)\n",
        "  print(\"Confusion matrix for \",number_of_Gaussian,\" mixtures is : \",confusion_matrix4)\n",
        "\n",
        "y4 = (y4-np.min(y4))/(np.max(y4)-np.min(y4))\n",
        "plt.plot(x4,y4)\n",
        "plt.title(\"Log likelihood for 70:30\")\n",
        "plt.ylabel(\"log likelihood\")\n",
        "plt.xlabel(\"Gaussian misture\")\n",
        "plt.show()"
      ]
    },
    {
      "cell_type": "markdown",
      "source": [
        "## Model 5 - 90:10"
      ],
      "metadata": {
        "id": "tlmjpN7wE9Sd"
      }
    },
    {
      "cell_type": "markdown",
      "source": [
        " Again initialising dataset as X was used variable elsewhere"
      ],
      "metadata": {
        "id": "fo4VENjwE9Se"
      }
    },
    {
      "cell_type": "code",
      "source": [
        "X=[]\n",
        "Y = []\n",
        "for i in range(classes):\n",
        "  tmp = []\n",
        "  for j in range(len(lst_img_clss[i])):\n",
        "    x = np.ndarray.flatten(lst_img_clss[i][j])\n",
        "    tmp.append(x)\n",
        "  a = np.stack(tmp,axis = 0)\n",
        "  X.append(a)\n",
        "  Y.append(i)\n"
      ],
      "metadata": {
        "id": "izONBMF2E9Se"
      },
      "execution_count": null,
      "outputs": []
    },
    {
      "cell_type": "code",
      "source": [
        "a = X[0]\n",
        "b = np.zeros((X[0].shape[0],1))\n",
        "dataset = np.column_stack((a,b))\n",
        "for i in range(1,classes):\n",
        "  a=X[i]\n",
        "  b = i*np.ones((X[i].shape[0],1))\n",
        "  temp = np.column_stack((a,b))\n",
        "  dataset = np.row_stack((dataset,temp))"
      ],
      "metadata": {
        "id": "ldtaDlFoE9Se"
      },
      "execution_count": null,
      "outputs": []
    },
    {
      "cell_type": "code",
      "source": [
        "dataset.shape  # Overall dataset"
      ],
      "metadata": {
        "colab": {
          "base_uri": "https://localhost:8080/"
        },
        "outputId": "0ad96f1c-3a1a-4ab4-a8a3-771eaadbd3d8",
        "id": "2Ete006AE9Se"
      },
      "execution_count": null,
      "outputs": [
        {
          "output_type": "execute_result",
          "data": {
            "text/plain": [
              "(60000, 785)"
            ]
          },
          "metadata": {},
          "execution_count": 157
        }
      ]
    },
    {
      "cell_type": "code",
      "source": [
        "# creating training and testing dataset\n",
        "count = 5400 #per class\n",
        "a=X[0]\n",
        "a=a[0:count,:]/255       # Normalising else exponent becomes 0\n",
        "b = np.zeros((a.shape[0],1))\n",
        "train_dataset = np.column_stack((a,b))\n",
        "a=X[0]\n",
        "a=a[count:,:]/255\n",
        "b = np.zeros((a.shape[0],1))\n",
        "test_dataset = np.column_stack((a,b))\n",
        "for i in range(1,classes):\n",
        "  a=X[i]\n",
        "  a=a[0:count,:]/255\n",
        "  b = i*np.ones((a.shape[0],1))\n",
        "  temp = np.column_stack((a,b))\n",
        "  train_dataset = np.row_stack((train_dataset,temp))\n",
        "  a=X[i]\n",
        "  a=a[count:,:]/255\n",
        "  b = i*np.ones((a.shape[0],1))\n",
        "  temp = np.column_stack((a,b))\n",
        "  test_dataset = np.row_stack((test_dataset,temp))\n"
      ],
      "metadata": {
        "id": "N7RtQAXRE9Sf"
      },
      "execution_count": null,
      "outputs": []
    },
    {
      "cell_type": "code",
      "source": [
        "train_dataset.shape"
      ],
      "metadata": {
        "colab": {
          "base_uri": "https://localhost:8080/"
        },
        "outputId": "3d68b8d3-7494-49a3-dda3-6e63a8da3d62",
        "id": "ut6PVIP3E9Sf"
      },
      "execution_count": null,
      "outputs": [
        {
          "output_type": "execute_result",
          "data": {
            "text/plain": [
              "(54000, 785)"
            ]
          },
          "metadata": {},
          "execution_count": 159
        }
      ]
    },
    {
      "cell_type": "code",
      "source": [
        "test_dataset.shape"
      ],
      "metadata": {
        "colab": {
          "base_uri": "https://localhost:8080/"
        },
        "outputId": "5590824e-a921-47dc-99b9-761a3b44778d",
        "id": "5uO0QmLLE9Sf"
      },
      "execution_count": null,
      "outputs": [
        {
          "output_type": "execute_result",
          "data": {
            "text/plain": [
              "(6000, 785)"
            ]
          },
          "metadata": {},
          "execution_count": 160
        }
      ]
    },
    {
      "cell_type": "code",
      "source": [
        "features = train_dataset.shape[1]-1 #784"
      ],
      "metadata": {
        "id": "qwkunn28E9Sf"
      },
      "execution_count": null,
      "outputs": []
    },
    {
      "cell_type": "code",
      "source": [
        "# Initialising features and labels from dataset\n",
        "X_test = test_dataset[:,:features]\n",
        "X_train = train_dataset[:,:features]\n",
        "Y_train = train_dataset[:,features]\n",
        "Y_test = test_dataset[:,features]"
      ],
      "metadata": {
        "id": "TOHXf0iRE9Sg"
      },
      "execution_count": null,
      "outputs": []
    },
    {
      "cell_type": "markdown",
      "source": [
        "### (i) Naive Bayes"
      ],
      "metadata": {
        "id": "xfJOweLoE9Sg"
      }
    },
    {
      "cell_type": "code",
      "source": [
        "classes = 10\n",
        "features = train_dataset.shape[1]-1"
      ],
      "metadata": {
        "id": "Mf9tSbOxE9Sg"
      },
      "execution_count": null,
      "outputs": []
    },
    {
      "cell_type": "code",
      "source": [
        "# Creating list of numpy arrays containing training datas of each class with class as index of list\n",
        "temp = train_dataset\n",
        "lst = []\n",
        "for i in range(classes):\n",
        "  x = temp[np.where(temp[:,features]==i)] # last column is my class indexes\n",
        "  x = x[:,:features]\n",
        "  lst.append(x)"
      ],
      "metadata": {
        "id": "F5jMbMj9E9Sg"
      },
      "execution_count": null,
      "outputs": []
    },
    {
      "cell_type": "code",
      "source": [
        "# 10 features' mean for each classes\n",
        "mean=[]\n",
        "for i in range(classes):\n",
        "  a=lst[i]\n",
        "  a = a.mean(axis=0)\n",
        "  mean.append(a)"
      ],
      "metadata": {
        "id": "0hMmYiAtE9Sg"
      },
      "execution_count": null,
      "outputs": []
    },
    {
      "cell_type": "markdown",
      "source": [
        "#### Training"
      ],
      "metadata": {
        "id": "MUVV2gDmE9Sg"
      }
    },
    {
      "cell_type": "code",
      "source": [
        "count = 0\n",
        "for i in range(X_train.shape[0]):\n",
        "  g = []  #class conditionals\n",
        "  for j in range(classes):\n",
        "    v = (X_train[i]-mean[j])\n",
        "    v = np.power(v,2)\n",
        "    k = 0.5 * np.sum(v)\n",
        "    k = math.exp(-k)\n",
        "    g.append(k)\n",
        "  k = g.index(max(g))\n",
        "  if k==int(Y_train[i]):\n",
        "    count=count+1"
      ],
      "metadata": {
        "id": "pFEa1stAE9Sh"
      },
      "execution_count": null,
      "outputs": []
    },
    {
      "cell_type": "code",
      "source": [
        "print('The training accuracy is:')\n",
        "print(count*100/X_train.shape[0])"
      ],
      "metadata": {
        "colab": {
          "base_uri": "https://localhost:8080/"
        },
        "id": "m0REBw-zE9Sh",
        "outputId": "db2a942c-06b4-4ba5-fd0e-9600f8372a93"
      },
      "execution_count": null,
      "outputs": [
        {
          "output_type": "stream",
          "name": "stdout",
          "text": [
            "The training accuracy is:\n",
            "85.88518518518518\n"
          ]
        }
      ]
    },
    {
      "cell_type": "markdown",
      "source": [
        "#### Testing"
      ],
      "metadata": {
        "id": "8pyB4nhoE9Sh"
      }
    },
    {
      "cell_type": "code",
      "source": [
        "conf_matrix = np.zeros((classes,classes))\n",
        "count = 0\n",
        "for i in range(X_test.shape[0]):\n",
        "  g = []  #class conditionals\n",
        "  for j in range(classes):\n",
        "    v = (X_test[i]-mean[j])\n",
        "    v = np.power(v,2)\n",
        "    k = 0.5 * np.sum(v)\n",
        "    #k = math.exp(-k)\n",
        "    g.append(k)\n",
        "  k = g.index(min(g))\n",
        "  if k==int(Y_test[i]):\n",
        "    count=count+1\n",
        "  v = int(Y_test[i])\n",
        "  conf_matrix[v][k] += 1"
      ],
      "metadata": {
        "id": "0vILD19dE9Sh"
      },
      "execution_count": null,
      "outputs": []
    },
    {
      "cell_type": "code",
      "source": [
        "print('The testing accuracy is:')\n",
        "print(count*100/X_test.shape[0])"
      ],
      "metadata": {
        "colab": {
          "base_uri": "https://localhost:8080/"
        },
        "id": "lSNMY0kDE9Si",
        "outputId": "7d2429f4-b55f-4888-efd3-22180674f99d"
      },
      "execution_count": null,
      "outputs": [
        {
          "output_type": "stream",
          "name": "stdout",
          "text": [
            "The testing accuracy is:\n",
            "81.7\n"
          ]
        }
      ]
    },
    {
      "cell_type": "code",
      "source": [
        "print('The confusion matrix for above testing data is:')\n",
        "print(conf_matrix.astype(int))"
      ],
      "metadata": {
        "colab": {
          "base_uri": "https://localhost:8080/"
        },
        "id": "dR0V94DzE9Si",
        "outputId": "1efd62ea-c9fe-4ca3-c056-f85735ae2387"
      },
      "execution_count": null,
      "outputs": [
        {
          "output_type": "stream",
          "name": "stdout",
          "text": [
            "The confusion matrix for above testing data is:\n",
            "[[490  69   0   5   6   0   1   8  17   4]\n",
            " [  4 566   0   9   1   1   0   1  12   6]\n",
            " [ 28  24 416  45   0  45   4  38   0   0]\n",
            " [ 10   2   0 465  57   2   2  61   0   1]\n",
            " [  1   0   0   2 571  17   0   9   0   0]\n",
            " [  0   0   7  20  46 519   0   3   3   2]\n",
            " [  0   1   0  17   6   1 478  94   0   3]\n",
            " [  0   0   0  22  19   2 173 382   2   0]\n",
            " [ 10   3   0   0   3  11   0   0 533  40]\n",
            " [ 15   1   0   0  37   3   4  30  28 482]]\n"
          ]
        }
      ]
    },
    {
      "cell_type": "code",
      "source": [
        "# Storing True positive True negative, False Positive, False negative and F values in a list scores\n",
        "TP=[]\n",
        "TN=[]\n",
        "FP=[]\n",
        "FN=[]\n",
        "F1=[]\n",
        "for i in range(classes):\n",
        "  TP.append(conf_matrix[i][i])\n",
        "  TN.append(np.sum(conf_matrix)-np.sum(conf_matrix[i,:])-np.sum(conf_matrix[:,i])+conf_matrix[i][i])\n",
        "  FP.append(np.sum(conf_matrix[i,:])-conf_matrix[i][i])\n",
        "  FN.append(np.sum(conf_matrix[:,i])-conf_matrix[i][i])\n",
        "  F1.append((2*TP[i])/(2*TP[i] + FP[i] + FN[i]))"
      ],
      "metadata": {
        "id": "A47FOO14E9Si"
      },
      "execution_count": null,
      "outputs": []
    },
    {
      "cell_type": "code",
      "source": [
        "print('F1 scores for corresponding classes are:')\n",
        "print(F1)"
      ],
      "metadata": {
        "colab": {
          "base_uri": "https://localhost:8080/"
        },
        "id": "wf32ychgE9Si",
        "outputId": "aa3d116f-c52f-4b2e-b18f-eecdd61e79a8"
      },
      "execution_count": null,
      "outputs": [
        {
          "output_type": "stream",
          "name": "stdout",
          "text": [
            "F1 scores for corresponding classes are:\n",
            "[0.846286701208981, 0.8941548183254344, 0.8132942326490714, 0.7848101265822784, 0.8484398216939079, 0.8642797668609492, 0.757527733755943, 0.6231647634584013, 0.8920502092050209, 0.8471001757469244]\n"
          ]
        }
      ]
    },
    {
      "cell_type": "markdown",
      "source": [
        "### (ii) Logistic regression"
      ],
      "metadata": {
        "id": "zTVrp4XnE9Sj"
      }
    },
    {
      "cell_type": "code",
      "source": [
        "classes = 10\n",
        "features = train_dataset.shape[1] #785 after augmented data"
      ],
      "metadata": {
        "id": "M5KijOAiE9Sj"
      },
      "execution_count": null,
      "outputs": []
    },
    {
      "cell_type": "code",
      "source": [
        "tmp = np.ones((X_train.shape[0],1))  # Creating augmented data\n",
        "X_train=np.column_stack((X_train,tmp))\n",
        "X_train.shape"
      ],
      "metadata": {
        "colab": {
          "base_uri": "https://localhost:8080/"
        },
        "id": "XWuS3Z1aE9Sj",
        "outputId": "ee2614dc-716a-4178-9e6b-85b9857bc8ce"
      },
      "execution_count": null,
      "outputs": [
        {
          "output_type": "execute_result",
          "data": {
            "text/plain": [
              "(54000, 785)"
            ]
          },
          "metadata": {},
          "execution_count": 164
        }
      ]
    },
    {
      "cell_type": "code",
      "source": [
        "tmp = np.ones((X_test.shape[0],1))  # Creating augmented data\n",
        "X_test=np.column_stack((X_test,tmp))\n",
        "X_test.shape"
      ],
      "metadata": {
        "colab": {
          "base_uri": "https://localhost:8080/"
        },
        "id": "AZxQCbKmE9Sj",
        "outputId": "3879e970-fe86-4927-aac2-4ea7bd7ab9e4"
      },
      "execution_count": null,
      "outputs": [
        {
          "output_type": "execute_result",
          "data": {
            "text/plain": [
              "(6000, 785)"
            ]
          },
          "metadata": {},
          "execution_count": 165
        }
      ]
    },
    {
      "cell_type": "markdown",
      "source": [
        "#### Training"
      ],
      "metadata": {
        "id": "WPzx6xnyE9Sk"
      }
    },
    {
      "cell_type": "code",
      "source": [
        "W=[]\n",
        "for i in range(classes):\n",
        "  W.append(np.ones((features,1)))"
      ],
      "metadata": {
        "id": "mIPCzOntE9Sk"
      },
      "execution_count": null,
      "outputs": []
    },
    {
      "cell_type": "code",
      "source": [
        "def calc_loss(X,W,j):\n",
        "  X=X.reshape((X.shape[0],1))\n",
        "  # calculating probabilities of each class\n",
        "  e=[]                        # exponent\n",
        "  g = []                      # probabilities (softmax)\n",
        "  grad = []                   # gradient addition for this image\n",
        "  for i in range(classes):\n",
        "    e.append(math.exp(W[i].T@X))\n",
        "  k = sum(e)\n",
        "  for i in range(classes):\n",
        "    g.append(e[i]/k)\n",
        "  loss = -1*math.log(g[j])     # loss for 1 image\n",
        "  for i in range(classes):\n",
        "    if i!=j:\n",
        "      grad.append(-g[i]*X.reshape(X.shape[0]))\n",
        "    else:\n",
        "      grad.append((1-g[i])*X.reshape(X.shape[0]))\n",
        "  return loss,grad"
      ],
      "metadata": {
        "id": "suu38X3aE9Sk"
      },
      "execution_count": null,
      "outputs": []
    },
    {
      "cell_type": "code",
      "source": [
        "def train_epoch1():\n",
        "  final_loss = 0\n",
        "  final_grad = np.zeros((features,classes))\n",
        "  for i in range(X_train.shape[0]):\n",
        "    loss,grad = calc_loss(X_train[i,:],W,int(Y_train[i]))\n",
        "    final_loss =final_loss + loss\n",
        "    final_grad = final_grad + np.stack(grad,axis = 1)\n",
        "  return final_loss,final_grad"
      ],
      "metadata": {
        "id": "XHpKBT_WE9Sk"
      },
      "execution_count": null,
      "outputs": []
    },
    {
      "cell_type": "code",
      "source": [
        "epochs = 50\n",
        "alpha = 10\n",
        "prev_loss = 0\n",
        "for i in range(epochs):\n",
        "  loss,grad = train_epoch1()\n",
        "  for j in range(classes):\n",
        "    gradient = grad[:,j].reshape(grad[:,j].shape[0],1)\n",
        "    if prev_loss<loss:\n",
        "      alpha = (alpha/10)\n",
        "    W[j]=W[j]+alpha*gradient/np.linalg.norm(gradient)\n",
        "    prev_loss = loss\n",
        "  print('loss in',i,'epoch is',loss/X_train.shape[0])"
      ],
      "metadata": {
        "colab": {
          "base_uri": "https://localhost:8080/"
        },
        "id": "ti29AsKmE9Sk",
        "outputId": "90bc8f72-69f7-4b93-cb3d-221bf825d302"
      },
      "execution_count": null,
      "outputs": [
        {
          "output_type": "stream",
          "name": "stdout",
          "text": [
            "loss in 0 epoch is 2.3025850929958565\n",
            "loss in 1 epoch is 1.046997180890223\n",
            "loss in 2 epoch is 15.488642458559163\n",
            "loss in 3 epoch is 13.825570754721602\n",
            "loss in 4 epoch is 12.162528163062184\n",
            "loss in 5 epoch is 10.499509558276404\n",
            "loss in 6 epoch is 8.836511356297361\n",
            "loss in 7 epoch is 7.173535304698296\n",
            "loss in 8 epoch is 5.510869779423009\n",
            "loss in 9 epoch is 3.8624139755919167\n",
            "loss in 10 epoch is 2.380238697333797\n",
            "loss in 11 epoch is 1.7014047129567118\n",
            "loss in 12 epoch is 1.1453000149743842\n",
            "loss in 13 epoch is 1.2053680262847999\n",
            "loss in 14 epoch is 1.0797294818811412\n",
            "loss in 15 epoch is 0.9787410076493857\n",
            "loss in 16 epoch is 0.8979902733571327\n",
            "loss in 17 epoch is 0.8386041381256321\n",
            "loss in 18 epoch is 0.7981186300830246\n",
            "loss in 19 epoch is 0.7755251214921361\n",
            "loss in 20 epoch is 0.7656654863493966\n",
            "loss in 21 epoch is 0.7623267738694184\n",
            "loss in 22 epoch is 0.7597370468391543\n",
            "loss in 23 epoch is 0.7578245333770787\n",
            "loss in 24 epoch is 0.7555494204358351\n",
            "loss in 25 epoch is 0.7535475672302433\n",
            "loss in 26 epoch is 0.7514084085226659\n",
            "loss in 27 epoch is 0.7493758153067719\n",
            "loss in 28 epoch is 0.7473143276435208\n",
            "loss in 29 epoch is 0.7452760855641505\n",
            "loss in 30 epoch is 0.7432680315682062\n",
            "loss in 31 epoch is 0.7412358242234501\n",
            "loss in 32 epoch is 0.7392695765828314\n",
            "loss in 33 epoch is 0.7372493148559113\n",
            "loss in 34 epoch is 0.735318615511942\n",
            "loss in 35 epoch is 0.7333135240106908\n",
            "loss in 36 epoch is 0.7314146110591131\n",
            "loss in 37 epoch is 0.7294265721987022\n",
            "loss in 38 epoch is 0.7275569386028907\n",
            "loss in 39 epoch is 0.7255871102276118\n",
            "loss in 40 epoch is 0.7237449353124701\n",
            "loss in 41 epoch is 0.7217940493969587\n",
            "loss in 42 epoch is 0.7199779233674961\n",
            "loss in 43 epoch is 0.7180464397828393\n",
            "loss in 44 epoch is 0.7162552209730076\n",
            "loss in 45 epoch is 0.714343413079827\n",
            "loss in 46 epoch is 0.7125761477853678\n",
            "loss in 47 epoch is 0.7106841544504442\n",
            "loss in 48 epoch is 0.7089400278283325\n",
            "loss in 49 epoch is 0.7070678878001663\n"
          ]
        }
      ]
    },
    {
      "cell_type": "code",
      "source": [
        "print('Empirical risk on training data is:')\n",
        "print(loss/X_train.shape[0])"
      ],
      "metadata": {
        "colab": {
          "base_uri": "https://localhost:8080/"
        },
        "id": "qP4mNycAE9Sk",
        "outputId": "d8346dcf-34f7-4fe5-dadf-7f3d86235de3"
      },
      "execution_count": null,
      "outputs": [
        {
          "output_type": "stream",
          "name": "stdout",
          "text": [
            "Empirical risk on training data is:\n",
            "0.7070678878001663\n"
          ]
        }
      ]
    },
    {
      "cell_type": "markdown",
      "source": [
        "#### Testing"
      ],
      "metadata": {
        "id": "CfTkLNJOE9Sl"
      }
    },
    {
      "cell_type": "code",
      "source": [
        "conf_matrix = np.zeros((classes,classes))\n",
        "count = 0\n",
        "loss = 0\n",
        "for i in range(X_test.shape[0]):\n",
        "  X = X_test[i,:]\n",
        "  X=X.reshape((X.shape[0],1))\n",
        "  # calculating probabilities of each class\n",
        "  e=[]                        # exponent\n",
        "  g = []                      # probabilities (softmax)\n",
        "  grad = []                   # gradient addition for this image\n",
        "  for j in range(classes):\n",
        "    e.append(math.exp(W[j].T@X))\n",
        "  k = sum(e)\n",
        "  for j in range(classes):\n",
        "    g.append(e[j]/k)\n",
        "  k = g.index(max(g))\n",
        "  if k==Y_test[i]:\n",
        "    count = count+1\n",
        "  v = int(Y_test[i])\n",
        "  conf_matrix[v][k] += 1\n",
        "\n",
        "  loss = loss - 1*math.log(g[v])"
      ],
      "metadata": {
        "id": "qKd1iOq8E9Sl"
      },
      "execution_count": null,
      "outputs": []
    },
    {
      "cell_type": "code",
      "source": [
        "print('The testing accuracy is:')\n",
        "print(count*100/X_test.shape[0])"
      ],
      "metadata": {
        "colab": {
          "base_uri": "https://localhost:8080/"
        },
        "id": "y8v8cpxME9Sl",
        "outputId": "327f65fe-4272-452c-cf40-470a4a1784bf"
      },
      "execution_count": null,
      "outputs": [
        {
          "output_type": "stream",
          "name": "stdout",
          "text": [
            "The testing accuracy is:\n",
            "84.38333333333334\n"
          ]
        }
      ]
    },
    {
      "cell_type": "code",
      "source": [
        "print('Empirical risk on testing data is:')\n",
        "print(loss/X_test.shape[0])"
      ],
      "metadata": {
        "colab": {
          "base_uri": "https://localhost:8080/"
        },
        "id": "uvZZKdIrE9Sm",
        "outputId": "ca382887-e0df-4fd4-80b9-d6a2b5d358ec"
      },
      "execution_count": null,
      "outputs": [
        {
          "output_type": "stream",
          "name": "stdout",
          "text": [
            "Empirical risk on testing data is:\n",
            "0.798063932109958\n"
          ]
        }
      ]
    },
    {
      "cell_type": "code",
      "source": [
        "print('The confusion matrix for above testing data is:')\n",
        "print(conf_matrix.astype(int))"
      ],
      "metadata": {
        "colab": {
          "base_uri": "https://localhost:8080/"
        },
        "id": "0wHGC1nIE9Sm",
        "outputId": "640ed32a-ac58-4afc-b3e5-1f95ead9e3af"
      },
      "execution_count": null,
      "outputs": [
        {
          "output_type": "stream",
          "name": "stdout",
          "text": [
            "The confusion matrix for above testing data is:\n",
            "[[504  63   0   2   6   0   1   0  20   4]\n",
            " [  5 568   0   7   1   1   0   0  12   6]\n",
            " [ 31  13 494  35   0  18   5   4   0   0]\n",
            " [ 16   1   0 492  57   2   3  28   0   1]\n",
            " [  1   0   0   2 576  16   0   4   1   0]\n",
            " [  0   0   9  22  51 509   1   1   5   2]\n",
            " [  0   1   0  17  11   0 517  50   0   4]\n",
            " [  0   0   0  35  21   1 178 363   2   0]\n",
            " [  8   0   0   0   2   4   1   0 562  23]\n",
            " [ 19   0   0   0  36   1   5  21  40 478]]\n"
          ]
        }
      ]
    },
    {
      "cell_type": "code",
      "source": [
        "# Storing True positive True negative, False Positive, False negative and F values in a list scores\n",
        "TP=[]\n",
        "TN=[]\n",
        "FP=[]\n",
        "FN=[]\n",
        "F1=[]\n",
        "for i in range(classes):\n",
        "  TP.append(conf_matrix[i][i])\n",
        "  TN.append(np.sum(conf_matrix)-np.sum(conf_matrix[i,:])-np.sum(conf_matrix[:,i])+conf_matrix[i][i])\n",
        "  FP.append(np.sum(conf_matrix[i,:])-conf_matrix[i][i])\n",
        "  FN.append(np.sum(conf_matrix[:,i])-conf_matrix[i][i])\n",
        "  F1.append((2*TP[i])/(2*TP[i] + FP[i] + FN[i]))"
      ],
      "metadata": {
        "id": "e1igCabcE9Sm"
      },
      "execution_count": null,
      "outputs": []
    },
    {
      "cell_type": "code",
      "source": [
        "print('F1 scores for corresponding classes are:')\n",
        "print(F1)"
      ],
      "metadata": {
        "colab": {
          "base_uri": "https://localhost:8080/"
        },
        "id": "cVb3QatAE9Sm",
        "outputId": "6f63adae-0e64-4cb1-9bbe-b8b017fe4962"
      },
      "execution_count": null,
      "outputs": [
        {
          "output_type": "stream",
          "name": "stdout",
          "text": [
            "F1 scores for corresponding classes are:\n",
            "[0.8513513513513513, 0.9117174959871589, 0.8957388939256573, 0.8118811881188119, 0.8464364437913299, 0.8836805555555556, 0.7887109077040427, 0.6778711484593838, 0.9049919484702094, 0.855098389982111]\n"
          ]
        }
      ]
    },
    {
      "cell_type": "code",
      "source": [],
      "metadata": {
        "id": "oIJLA9XVE9Sm"
      },
      "execution_count": null,
      "outputs": []
    },
    {
      "cell_type": "markdown",
      "source": [
        "### (iii) GMM"
      ],
      "metadata": {
        "id": "XGlv4eeCIWrQ"
      }
    },
    {
      "cell_type": "code",
      "execution_count": null,
      "metadata": {
        "colab": {
          "base_uri": "https://localhost:8080/",
          "height": 1000
        },
        "outputId": "488dcde1-70c8-4060-ade5-88fc4397b666",
        "id": "iFA_u7W_Id_5"
      },
      "outputs": [
        {
          "output_type": "stream",
          "name": "stdout",
          "text": [
            "Accuracy for  1  mixtures is :  0.8603333333333333\n",
            "F1 scores  1  mixtures is :  [0.8661679135494597, 0.8970358814352574, 0.9285014691478942, 0.8397435897435898, 0.8736303871439006, 0.9014821272885789, 0.8081967213114755, 0.7073578595317725, 0.8850987432675045, 0.9066666666666666]\n",
            "Confusion matrix for  1  mixtures is :  [[521.   9.  14.   4.   1.   0.   1.   1.  21.   4.]\n",
            " [ 42. 575.   7.   1.   1.   3.   0.   1.  11.   1.]\n",
            " [  0.   0. 474.   0.   0.   7.   0.   0.   1.   0.]\n",
            " [ 20.  24.  12. 524.   7.  22.   5.  46.   5.   5.]\n",
            " [ 13.  12.   0.  20. 598.  28.   6.  19.  18.  30.]\n",
            " [  0.   4.  13.   6.   6. 517.   3.   2.  11.   2.]\n",
            " [  1.   0.   2.   2.   0.   0. 493. 112.   2.   1.]\n",
            " [  9.   0.  16.  21.   6.   3.  99. 423.   0.  14.]\n",
            " [ 17.   5.   1.   0.   1.   2.   0.   0. 493.  13.]\n",
            " [  4.  11.   0.   0.   5.   1.   0.   1.  20. 544.]]\n",
            "Accuracy for  2  mixtures is :  0.8911666666666667\n",
            "F1 scores  2  mixtures is :  [0.8948247078464107, 0.9204097714736013, 0.9685414680648237, 0.8694942903752039, 0.881704628949302, 0.9170305676855895, 0.8612903225806452, 0.791095890410959, 0.9061946902654867, 0.9110378912685337]\n",
            "Confusion matrix for  2  mixtures is :  [[536.   5.   6.   4.   0.   0.   1.   1.  18.   0.]\n",
            " [ 34. 584.   1.   0.   1.   3.   0.   1.   5.   0.]\n",
            " [  1.   0. 508.   0.   0.   0.   1.   0.   0.   0.]\n",
            " [ 11.  19.   5. 533.   7.  23.   4.  37.   4.   5.]\n",
            " [ 14.   8.   2.  22. 600.  28.   5.  13.  14.  30.]\n",
            " [  0.   3.   9.   6.   5. 525.   2.   3.   9.   0.]\n",
            " [  1.   1.   1.   4.   0.   1. 534.  87.   2.   2.]\n",
            " [  6.   0.   5.   9.   5.   1.  60. 462.   0.  15.]\n",
            " [ 19.   5.   0.   0.   2.   1.   0.   0. 512.   9.]\n",
            " [  5.  15.   2.   0.   5.   1.   0.   1.  18. 553.]]\n",
            "Accuracy for  3  mixtures is :  0.8961666666666667\n",
            "F1 scores  3  mixtures is :  [0.8929765886287625, 0.8957528957528957, 0.9743101807802094, 0.8675282714054927, 0.8798252002913328, 0.9152838427947598, 0.8905109489051095, 0.8317515099223468, 0.9048473967684022, 0.9214046822742475]\n",
            "Confusion matrix for  3  mixtures is :  [[534.  11.   5.   2.   0.   0.   1.   0.  16.   0.]\n",
            " [ 49. 580.   5.   1.   1.   3.   0.   1.  14.   1.]\n",
            " [  0.   0. 512.   0.   0.   0.   0.   0.   0.   0.]\n",
            " [ 12.  22.   4. 537.   7.  23.   6.  38.   4.   7.]\n",
            " [ 15.  10.   0.  23. 604.  28.   4.  13.  20.  31.]\n",
            " [  0.   4.   7.   6.   5. 524.   4.   3.   9.   0.]\n",
            " [  1.   0.   1.   2.   0.   1. 549.  67.   2.   3.]\n",
            " [  5.   0.   4.   7.   3.   1.  43. 482.   0.   9.]\n",
            " [  8.   5.   0.   0.   1.   2.   0.   0. 504.  12.]\n",
            " [  3.   8.   1.   0.   4.   1.   0.   1.  13. 551.]]\n",
            "Accuracy for  4  mixtures is :  0.9033333333333333\n",
            "F1 scores  4  mixtures is :  [0.9027431421446384, 0.9120370370370371, 0.9752851711026616, 0.8703403565640194, 0.8812818645302258, 0.9144851657940664, 0.8969991889699919, 0.8369283865401208, 0.921832884097035, 0.9336691855583543]\n",
            "Confusion matrix for  4  mixtures is :  [[543.   7.   3.   3.   0.   0.   1.   0.  18.   1.]\n",
            " [ 40. 591.   4.   1.   1.   3.   0.   1.  14.   1.]\n",
            " [  0.   0. 513.   0.   0.   0.   0.   0.   0.   0.]\n",
            " [ 12.  20.   5. 537.   7.  23.   5.  39.   3.   5.]\n",
            " [ 17.  10.   1.  22. 605.  28.   4.  13.  15.  33.]\n",
            " [  0.   4.   7.   6.   6. 524.   4.   3.   8.   1.]\n",
            " [  1.   0.   1.   2.   0.   1. 553.  63.   2.   3.]\n",
            " [  5.   0.   4.   7.   3.   1.  40. 485.   0.   9.]\n",
            " [  8.   2.   0.   0.   1.   2.   0.   0. 513.   5.]\n",
            " [  1.   6.   1.   0.   2.   1.   0.   1.   9. 556.]]\n",
            "Accuracy for  5  mixtures is :  0.901\n",
            "F1 scores  5  mixtures is :  [0.8985024958402662, 0.9287925696594427, 0.9753320683111955, 0.8734693877551021, 0.882051282051282, 0.9208006962576153, 0.8689883913764511, 0.8134453781512605, 0.9245785270629991, 0.9361344537815126]\n",
            "Confusion matrix for  5  mixtures is :  [[540.   7.   6.   4.   0.   0.   1.   0.  16.   1.]\n",
            " [ 38. 600.   2.   0.   0.   3.   0.   1.   8.   0.]\n",
            " [  1.   0. 514.   0.   0.   0.   0.   0.   0.   0.]\n",
            " [ 11.  14.   5. 535.   7.  22.   5.  38.   3.   7.]\n",
            " [ 15.   8.   1.  22. 602.  27.   5.  13.  14.  33.]\n",
            " [  0.   4.   6.   6.   6. 529.   3.   2.  10.   0.]\n",
            " [  1.   0.   1.   2.   0.   0. 524.  66.   2.   3.]\n",
            " [  6.   0.   3.   9.   4.   1.  69. 484.   0.   9.]\n",
            " [ 14.   4.   0.   0.   2.   0.   0.   0. 521.   4.]\n",
            " [  1.   3.   1.   0.   4.   1.   0.   1.   8. 557.]]\n",
            "Accuracy for  6  mixtures is :  0.9053333333333333\n",
            "F1 scores  6  mixtures is :  [0.9048800661703887, 0.9254658385093167, 0.9772296015180265, 0.8746928746928747, 0.8861131520940485, 0.9165217391304348, 0.8852725793327909, 0.8266438941076003, 0.928, 0.9395973154362416]\n",
            "Confusion matrix for  6  mixtures is :  [[547.   8.   4.   3.   0.   0.   1.   0.  18.   1.]\n",
            " [ 37. 596.   2.   0.   0.   3.   0.   2.   8.   0.]\n",
            " [  0.   0. 515.   0.   0.   0.   0.   0.   0.   0.]\n",
            " [ 12.  14.   5. 534.   7.  23.   5.  35.   2.   6.]\n",
            " [ 14.   8.   1.  22. 603.  27.   5.  13.  13.  30.]\n",
            " [  0.   5.   7.   7.   6. 527.   3.   3.   9.   0.]\n",
            " [  1.   1.   1.   3.   0.   0. 544.  67.   2.   3.]\n",
            " [  5.   0.   3.   9.   5.   1.  49. 484.   0.  10.]\n",
            " [ 10.   4.   0.   0.   2.   1.   0.   0. 522.   4.]\n",
            " [  1.   4.   1.   0.   2.   1.   0.   1.   8. 560.]]\n"
          ]
        },
        {
          "output_type": "display_data",
          "data": {
            "text/plain": [
              "<Figure size 432x288 with 1 Axes>"
            ],
            "image/png": "[encoded data removed]"
          },
          "metadata": {
            "needs_background": "light"
          }
        }
      ],
      "source": [
        "train_dataset5,test_dataset5 = p4_split_dataset(p4dataset,0.9)\n",
        "y5 = np.zeros(6)\n",
        "x5 = np.array([1,2,3,4,5,6])\n",
        "for number_of_Gaussian in x5:\n",
        "  Means5,Pi5 = p4_GMM_training(train_dataset5,5,number_of_Gaussian)\n",
        "  accuracy5,confusion_matrix5 = p4_GMM_testing(test_dataset5,10,Means5,Pi5,number_of_Gaussian)\n",
        "  TP5=[]\n",
        "  TN5=[]\n",
        "  FP5=[]\n",
        "  FN5=[]\n",
        "  F15=[]\n",
        "  for i in range(classes):\n",
        "    TP5.append(confusion_matrix5[i][i])\n",
        "    TN5.append(np.sum(confusion_matrix5)-np.sum(confusion_matrix5[i,:])-np.sum(confusion_matrix5[:,i])+confusion_matrix5[i][i])\n",
        "    FP5.append(np.sum(confusion_matrix5[i,:])-confusion_matrix5[i][i])\n",
        "    FN5.append(np.sum(confusion_matrix5[:,i])-confusion_matrix5[i][i])\n",
        "    F15.append((2*TP5[i])/(2*TP5[i] + FP5[i] + FN5[i]))\n",
        "  y5[number_of_Gaussian-1] = p4_get_likelihood(train_dataset5,Means5,Pi5,number_of_Gaussian)\n",
        "  print(\"Accuracy for \",number_of_Gaussian,\" mixtures is : \",accuracy5)\n",
        "  print(\"F1 scores \",number_of_Gaussian,\" mixtures is : \",F15)\n",
        "  print(\"Confusion matrix for \",number_of_Gaussian,\" mixtures is : \",confusion_matrix5)\n",
        "\n",
        "y5 = (y5-np.min(y5))/(np.max(y5)-np.min(y5))\n",
        "plt.plot(x5,y5)\n",
        "plt.title(\"Log likelihood for 90:10\")\n",
        "plt.ylabel(\"log likelihood\")\n",
        "plt.xlabel(\"Gaussian misture\")\n",
        "plt.show()"
      ]
    },
    {
      "cell_type": "markdown",
      "source": [
        "## Likelihood curve for EM for various models"
      ],
      "metadata": {
        "id": "zC7R1pC8c274"
      }
    },
    {
      "cell_type": "code",
      "source": [
        "fig, ax = plt.subplots()\n",
        "x=x1\n",
        "# Plot each dataset in its own subplot\n",
        "ax.plot(x, y1, color='blue',label = 'model 1')\n",
        "ax.plot(x, y2, color='red',label = 'model 2')\n",
        "ax.plot(x, y3, color='green',label = 'model 3')\n",
        "ax.plot(x, y4, color='purple',label = 'model 4')\n",
        "ax.plot(x, y5, color='orange',label = 'model 5')\n",
        "\n",
        "ax.set_xlabel('Gaussian Mixture')\n",
        "ax.set_ylabel('log likelihood')\n",
        "ax.set_title('log likelihood for different models P4')\n",
        "ax.legend()\n",
        "plt.show()"
      ],
      "metadata": {
        "colab": {
          "base_uri": "https://localhost:8080/",
          "height": 295
        },
        "id": "IbDC555ydLlq",
        "outputId": "84543700-ce43-4250-f119-204302862cef"
      },
      "execution_count": null,
      "outputs": [
        {
          "output_type": "display_data",
          "data": {
            "text/plain": [
              "<Figure size 432x288 with 1 Axes>"
            ],
            "image/png": "[encoded data removed]"
          },
          "metadata": {
            "needs_background": "light"
          }
        }
      ]
    },
    {
      "cell_type": "markdown",
      "source": [
        "## ROC curve for different models"
      ],
      "metadata": {
        "id": "OyERmMiAujrW"
      }
    },
    {
      "cell_type": "code",
      "source": [
        "# Converting to required dataset format\n",
        "req_dtst = dataset[:,:-1]/255\n",
        "y = dataset[:,-1]\n",
        "y=y.astype(int)\n",
        "req_dtst = np.column_stack((y,req_dtst,))\n",
        "req_dtst"
      ],
      "metadata": {
        "colab": {
          "base_uri": "https://localhost:8080/"
        },
        "id": "M8O5sYFQwNT9",
        "outputId": "bff38485-5ea9-41c7-9da0-49d50a80d596"
      },
      "execution_count": null,
      "outputs": [
        {
          "output_type": "execute_result",
          "data": {
            "text/plain": [
              "array([[0., 1., 1., ..., 1., 1., 1.],\n",
              "       [0., 1., 1., ..., 1., 1., 1.],\n",
              "       [0., 1., 1., ..., 1., 1., 1.],\n",
              "       ...,\n",
              "       [9., 1., 1., ..., 1., 1., 1.],\n",
              "       [9., 1., 1., ..., 1., 1., 1.],\n",
              "       [9., 1., 1., ..., 1., 1., 1.]])"
            ]
          },
          "metadata": {},
          "execution_count": 581
        }
      ]
    },
    {
      "cell_type": "code",
      "source": [
        "def ROC_curve(count):\n",
        "  classes = 2\n",
        "  # creating training datas for different class\n",
        "  temp = req_dtst[0:count,:]\n",
        "  lst = []\n",
        "  ans = []\n",
        "  for i in range(classes):\n",
        "    x1 = temp[np.where(temp[:,0]==i)]\n",
        "    x = x1[:,1:]\n",
        "    y = x1[:,0]\n",
        "    y=y.reshape((y.shape[0],1))\n",
        "    lst.append(x)\n",
        "    ans.append(y)\n",
        "  l = np.row_stack((lst[0],lst[1]))\n",
        "  m = np.row_stack((ans[0],ans[1]))\n",
        "  mean=[]   # 10 features' mean for each classes\n",
        "  for i in range(classes):\n",
        "    a=lst[i]\n",
        "    a = a.mean(axis=0)\n",
        "    mean.append(a)\n",
        "  TPR=[]\n",
        "  FPR=[]\n",
        "  for j in range(10):\n",
        "    threshold=(j-5)/100\n",
        "    TP=0\n",
        "    FP=0\n",
        "    TN=0\n",
        "    FN=0\n",
        "    for i in range(l.shape[0]):\n",
        "      v = (l[i]-mean[0])\n",
        "      v = np.power(v,2)\n",
        "      k = 0.5 * np.sum(v)\n",
        "      k1 = math.exp(-k)\n",
        "      v = (l[i]-mean[1])\n",
        "      v = np.power(v,2)\n",
        "      k = 0.5 * np.sum(v)\n",
        "      k2 = math.exp(-k)\n",
        "      if k1-k2>threshold:\n",
        "        k=1\n",
        "      else:\n",
        "        k=0\n",
        "      if k==int(m[i][0]) and k==1:\n",
        "        TP+=1\n",
        "      elif k==int(m[i][0]) and k==0:\n",
        "        TN+=1\n",
        "      elif k!=int(m[i][0]) and k==1:\n",
        "        FP+=1\n",
        "      else:\n",
        "        FN+=1\n",
        "      # print(TP)\n",
        "      # print(TN)\n",
        "      # print(FP)\n",
        "      # print(FN)\n",
        "    TPR.append(TP/(TP+FN))\n",
        "    FPR.append(FP/(FP+TN))\n",
        "  plt.plot(TPR,FPR)\n",
        "  return TPR,FPR"
      ],
      "metadata": {
        "id": "a7Uf8bDWujrX"
      },
      "execution_count": null,
      "outputs": []
    },
    {
      "cell_type": "code",
      "source": [
        "x1,y1 = ROC_curve(12000) # model 1 20:80"
      ],
      "metadata": {
        "id": "NVLUWZMuujrY"
      },
      "execution_count": null,
      "outputs": []
    },
    {
      "cell_type": "code",
      "source": [
        "x2,y2=ROC_curve(18000) # model 1 30:70"
      ],
      "metadata": {
        "id": "XYOVkR-IujrY"
      },
      "execution_count": null,
      "outputs": []
    },
    {
      "cell_type": "code",
      "source": [
        "x3,y3=ROC_curve(30000) # model 1 50:50"
      ],
      "metadata": {
        "id": "CAhb2Pt8ujrY"
      },
      "execution_count": null,
      "outputs": []
    },
    {
      "cell_type": "code",
      "source": [
        "x4,y4=ROC_curve(42000) # model 1 70:30"
      ],
      "metadata": {
        "id": "V6FBvJQUujrY"
      },
      "execution_count": null,
      "outputs": []
    },
    {
      "cell_type": "code",
      "source": [
        "x5,y5=ROC_curve(54000) # model 1 90:10"
      ],
      "metadata": {
        "id": "jsHiCFmuujrY"
      },
      "execution_count": null,
      "outputs": []
    },
    {
      "cell_type": "code",
      "source": [
        "fig, ax = plt.subplots()\n",
        "# Plot each dataset in its own subplot\n",
        "ax.plot(x1, y1, color='blue',label = 'model 1')\n",
        "ax.plot(x1, y2, color='red',label = 'model 2')\n",
        "ax.plot(x1, y3, color='green',label = 'model 3')\n",
        "ax.plot(x1, y4, color='purple',label = 'model 4')\n",
        "ax.plot(x1, y5, color='orange',label = 'model 5')\n",
        "\n",
        "ax.set_xlabel('Gaussian Mixture')\n",
        "ax.set_ylabel('log likelihood')\n",
        "ax.set_title('log likelihood for different models')\n",
        "ax.legend()\n",
        "plt.show()"
      ],
      "metadata": {
        "colab": {
          "base_uri": "https://localhost:8080/",
          "height": 295
        },
        "outputId": "c9cbc4a9-c261-4458-9f51-b1fbdf023ca9",
        "id": "vsQhZCYsujrY"
      },
      "execution_count": null,
      "outputs": [
        {
          "output_type": "display_data",
          "data": {
            "text/plain": [
              "<Figure size 432x288 with 1 Axes>"
            ],
            "image/png": "[encoded data removed]"
          },
          "metadata": {
            "needs_background": "light"
          }
        }
      ]
    }
  ]
}